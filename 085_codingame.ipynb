{
 "cells": [
  {
   "cell_type": "markdown",
   "metadata": {},
   "source": [
    "# Codingame\n",
    "\n",
    "Alle Daten erhalten wir durch *input*-Anweisungen. Alle Ergebnisse geben wir durch *print*-Anweisungen aus.\n",
    "\n",
    "Die Bedeutung der Input-Daten wird bei der Aufgabenstellung beschrieben, ggf. wird mit *constraints* spezifiziert, innerhalb\n",
    "welcher Grenzen mögliche Inputs liegen.\n",
    "\n",
    "Mit Strg + ,  (Strg + Komma) öffnet sich ein Einstellungsmenü für den Online-Editor. Ein Cheet-Sheet für den Editor findet sich \n",
    "__[hier](https://github.com/ajaxorg/ace/wiki/Default-Keyboard-Shortcuts)__. Bei dem shortcut Strg+/ für *toogle comment* muss man die Taste mit dem Divisionszeichen drücken."
   ]
  },
  {
   "cell_type": "markdown",
   "metadata": {},
   "source": [
    "## Aufgabe:  __[Mime Type](https://www.codingame.com/training/easy/mime-type)__ (easy)\n"
   ]
  },
  {
   "cell_type": "markdown",
   "metadata": {},
   "source": [
    "\n",
    "2                    # Anzahl Typen\n",
    "4                    # Anzahl zu analysierender Dateinamen\n",
    "html text/html       # Typen\n",
    "png image/png\n",
    "test.html            # Dateinamen\n",
    "noextension\n",
    "portrait.png\n",
    "doc.TXT\n",
    "```"
   ]
  },
  {
   "cell_type": "markdown",
   "metadata": {},
   "source": [
    "#### Log Funktion\n",
    "Wenn wir zur Fehlersuche etwas printen wollen, müssen wir die print-Anweisung mit dem Zusatz *file=sys.stderr* verwenden, damit unsere Ausgabe vom System die Ausgabe nicht als Ergebnis wertet. Zur Vereinfachung nutzen wir eine eigene Funktion"
   ]
  },
  {
   "cell_type": "code",
   "execution_count": 2,
   "metadata": {},
   "outputs": [],
   "source": [
    "def log(*x):\n",
    "    print(*x, file=sys.stderr)"
   ]
  },
  {
   "cell_type": "markdown",
   "metadata": {},
   "source": [
    "#### Aufgabe genau durchlesen\n",
    "\n",
    "If the extension for a given file can be found in the association table (case insensitive, e.g. TXT is treated the same way as txt), then print the corresponding MIME type. If it is not possible to find the MIME type corresponding to a file, or if the file doesn’t have an extension, print UNKNOWN."
   ]
  },
  {
   "cell_type": "markdown",
   "metadata": {},
   "source": [
    "#### Aufbau des Dictionaries"
   ]
  },
  {
   "cell_type": "code",
   "execution_count": null,
   "metadata": {},
   "outputs": [],
   "source": [
    "#### Aufbau des Dictionaries\n",
    "\n",
    "m = {}\n",
    "for i in range(n):\n",
    "    ext, mt = input().split()\n",
    "    m[ext] = mt\n",
    "    \n",
    "log(m)\n"
   ]
  },
  {
   "cell_type": "markdown",
   "metadata": {},
   "source": [
    "#### Position des letzten Punkts bestimmen\n",
    "\n",
    "Zum Überprüfen kopieren wir den Example-Input in den Custom-Textcase"
   ]
  },
  {
   "cell_type": "code",
   "execution_count": null,
   "metadata": {},
   "outputs": [],
   "source": [
    "    index = -1\n",
    "    for j in range(len(fname)):\n",
    "        if fname[j] == '.':\n",
    "            index = j\n",
    "    log(index)"
   ]
  },
  {
   "cell_type": "markdown",
   "metadata": {},
   "source": [
    "#### Den Mimetyp bestimmen\n",
    "\n",
    "Wir setzen das Ergebnis, das wir ausprinten wollen, auf einen Standardwert. Nur wenn die Extension in unserem Dictionary gefunden wird, weisen wir\n",
    "der Ergebnisvariablen einen neuen Wert zu. \n",
    "\n"
   ]
  },
  {
   "cell_type": "code",
   "execution_count": null,
   "metadata": {},
   "outputs": [],
   "source": [
    "for i in range(q):\n",
    "    fname = input()  \n",
    "    \n",
    "    erg = \"UNKNOWN\"\n",
    "    index = -1\n",
    "    for j in range(len(fname)):\n",
    "        if fname[j] == '.':\n",
    "            index = j\n",
    "    if index != -1:\n",
    "        extension = fname[index+1:] \n",
    "  \n",
    "        if extension in m:\n",
    "            erg = m[extension]\n",
    "            \n",
    "    print(erg)"
   ]
  },
  {
   "cell_type": "markdown",
   "metadata": {},
   "source": [
    "#### Berücksichtigen von Groß/Kleinschreibung\n",
    "\n",
    "Wir müssen berücksichten, dass in den Mimetypen und in den Extension der Dateinamen große Buchstaben vorkommen können."
   ]
  },
  {
   "cell_type": "code",
   "execution_count": null,
   "metadata": {},
   "outputs": [],
   "source": [
    "m = {}\n",
    "for i in range(n):\n",
    "    ext, mt = input().split()\n",
    "    m[ext.lower()] = mt\n",
    "\n",
    "\n",
    "for i in range(q):\n",
    "    fname = input()  \n",
    "    \n",
    "    mimetype = \"UNKNOWN\"\n",
    "    index = -1\n",
    "    for j in range(len(fname)):\n",
    "        if fname[j] == '.':\n",
    "            index = j\n",
    "    if index != -1:\n",
    "        extension = fname[index+1:].lower()\n",
    "        log(extension)\n",
    "  \n",
    "        if extension in m:\n",
    "            mimetype = m[extension]\n",
    "            \n",
    "    print(mimetype)"
   ]
  },
  {
   "cell_type": "markdown",
   "metadata": {},
   "source": [
    "**Übung**: Wie könnte eine mögliche Eingabe aussehen?"
   ]
  },
  {
   "cell_type": "markdown",
   "metadata": {},
   "source": [
    "### Lösung lokal entwickeln\n",
    "\n",
    "Wenn man einfach an die Input-Daten kommt, z.B. bei Aufgaben ohne Game-Loop, kann man die Lösung auch lokal entwickeln.\n",
    "Dazu werden die Eingabedaten in einer Datei gespeichert und diese wird dann eingelesen. Die input-Anweisungen werden\n",
    "durch readline-Anweisungen ersetzt. Wenn man eine Zeile in einen String einliest, muss mit *strip()* der Zeilenumbruch entfernt werden.\n",
    "In dem Beispiel ist die Datei *input.txt* im selben Verzeichnis wie das Python-Programm. "
   ]
  },
  {
   "cell_type": "code",
   "execution_count": null,
   "metadata": {},
   "outputs": [],
   "source": [
    "n = int(input())   \n",
    "ext, mt = input().split()\n",
    "fname = input()  \n",
    "\n",
    "# wird zu\n",
    "\n",
    "f = open(\"input1.txt\");   \n",
    "\n",
    "n = int(f.readline()) \n",
    "ext, mt = f.readline().split()\n",
    "fname = f.readline().strip()        # Zeilenumbruch muss weg"
   ]
  },
  {
   "cell_type": "markdown",
   "metadata": {},
   "source": [
    "## Aufgabe: __[Pikaptcha Ep.1](https://www.codingame.com/ide/puzzle/detective-pikaptcha-ep1)__ (easy)\n",
    "\n",
    "Für diese Aufgabe ist kein Beispiel-Input angegeben. Mit der log-Funktion lassen wir uns den ersten Testfall ausgeben."
   ]
  },
  {
   "cell_type": "markdown",
   "metadata": {},
   "source": [
    "```\n",
    "5 3\n",
    "0000#\n",
    "#0#00\n",
    "00#0#\n",
    "```"
   ]
  },
  {
   "cell_type": "markdown",
   "metadata": {},
   "source": [
    "Ausgehend von der Vorlage, lesen wir die Daten zeilenweise in eine Liste grid ein und kontrollieren mit der log-Funktion.\n"
   ]
  },
  {
   "cell_type": "code",
   "execution_count": null,
   "metadata": {},
   "outputs": [],
   "source": [
    "width, height = [int(k) for k in input().split()]\n",
    "grid = [list(input()) for i in range(height)]\n",
    "log(grid)\n",
    "\n",
    "\n",
    "Ausgabe: [['0', '0', '0', '0', '#'], ['#', '0', '#', '0', '0'], ['0', '0', '#', '0', '#']]"
   ]
  },
  {
   "cell_type": "markdown",
   "metadata": {},
   "source": [
    "**grid ist eine Liste von Listen. Der erste Index x bezeichnet die Zeile, der zweite Index y die Spalte**"
   ]
  },
  {
   "cell_type": "code",
   "execution_count": null,
   "metadata": {},
   "outputs": [],
   "source": [
    "log(grid[1][0], (grid[1][1]))\n",
    "\n",
    "Ausgabe: \n",
    "# 0\n"
   ]
  },
  {
   "cell_type": "markdown",
   "metadata": {},
   "source": [
    "### Liste möglicher Bewegungsrichtungen\n",
    "Wir bezeichnen die möglichen Bewegungsrichtungen mit Himmelsrichtungen."
   ]
  },
  {
   "cell_type": "code",
   "execution_count": null,
   "metadata": {},
   "outputs": [],
   "source": [
    "N, E, S, W  = (-1,0), (0,1), (1,0), (0,-1)\n",
    "dirs = [N,E,S,W]"
   ]
  },
  {
   "cell_type": "markdown",
   "metadata": {},
   "source": [
    "### Liste aller Nachbarn\n",
    "\n",
    "Die Funktion nb liefert eine Liste aller Nachbarn von (x,y)"
   ]
  },
  {
   "cell_type": "code",
   "execution_count": null,
   "metadata": {},
   "outputs": [],
   "source": [
    "def nb(x,y):\n",
    "    tmp = []\n",
    "    for xd, yd in dirs:\n",
    "        xn, yn = x+xd, y+yd\n",
    "        if 0 <= xn < height and 0 <= yn < width:\n",
    "            tmp.append((xn,yn))\n",
    "    return tmp\n",
    "\n",
    "log(nb(0,0) , nb(1,1))\n",
    "\n",
    "Ausgabe:\n",
    "[(0, 1), (1, 0)] [(0, 1), (1, 2), (2, 1), (1, 0)]"
   ]
  },
  {
   "cell_type": "markdown",
   "metadata": {},
   "source": [
    "### Anzahl freier Passagen zählen\n",
    "Die Funktion passage geht die Liste der Nachbarn durch und zählt die freien Passagen"
   ]
  },
  {
   "cell_type": "code",
   "execution_count": null,
   "metadata": {},
   "outputs": [],
   "source": [
    "def passage(x,y):\n",
    "    count = 0\n",
    "    for xn,yn in nb(x,y):\n",
    "        if grid[xn][yn] != '#':\n",
    "            count+=1\n",
    "    return count\n",
    "\n",
    "log(passage(0,0) , passage(1,1))\n",
    "\n",
    "Ausgabe:\n",
    "1 2"
   ]
  },
  {
   "cell_type": "markdown",
   "metadata": {},
   "source": [
    "### Ersetzen der Nullen  "
   ]
  },
  {
   "cell_type": "code",
   "execution_count": null,
   "metadata": {},
   "outputs": [],
   "source": [
    "for x in range(height):\n",
    "    for y in range(width):\n",
    "        if grid[x][y] == '0':\n",
    "             grid[x][y] = passage(x,y)\n",
    "\n",
    "log(grid)\n",
    "\n",
    "Ausgabe:\n",
    "[[1, 3, 2, 2, '#'], ['#', 2, '#', 3, 1], [1, 2, '#', 1, '#']]"
   ]
  },
  {
   "cell_type": "markdown",
   "metadata": {},
   "source": [
    "### Ausgabe"
   ]
  },
  {
   "cell_type": "code",
   "execution_count": null,
   "metadata": {},
   "outputs": [],
   "source": [
    "print(grid[0])\n",
    "print(*grid[0])\n",
    "print(*grid[0],sep='')\n",
    "\n",
    "Ausgabe:\n",
    "[1, 3, 2, 2, '#']\n",
    "1 3 2 2 #\n",
    "1322#"
   ]
  },
  {
   "cell_type": "code",
   "execution_count": null,
   "metadata": {},
   "outputs": [],
   "source": [
    "for row in grid:\n",
    "    print(*row,sep='')"
   ]
  }
 ],
 "metadata": {
  "kernelspec": {
   "display_name": "Python 3",
   "language": "python",
   "name": "python3"
  },
  "language_info": {
   "codemirror_mode": {
    "name": "ipython",
    "version": 3
   },
   "file_extension": ".py",
   "mimetype": "text/x-python",
   "name": "python",
   "nbconvert_exporter": "python",
   "pygments_lexer": "ipython3",
   "version": "3.6.5"
  }
 },
 "nbformat": 4,
 "nbformat_minor": 2
}
