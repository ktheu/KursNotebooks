{
 "cells": [
  {
   "cell_type": "markdown",
   "metadata": {},
   "source": [
    "# Codingame\n",
    "\n",
    "Alle Daten erhalten wir durch *input*-Anweisungen. Alle Ergebnisse geben wir durch *print*-Anweisungen aus.\n",
    "\n",
    "Die Bedeutung der Input-Daten wird bei der Aufgabenstellung beschrieben, ggf. wird mit *constraints* spezifiziert, innerhalb\n",
    "welcher Grenzen mögliche Inputs liegen.\n",
    "\n",
    "Wenn wir zur Fehlersuche etwas ausdrucken wollen, nutzen wir:\n",
    "```\n",
    "print(\"Debug messages...\", file=sys.stderr)\n",
    "```"
   ]
  },
  {
   "cell_type": "markdown",
   "metadata": {},
   "source": [
    "#### Aufgaben ohne Game-Loop\n",
    "\n",
    "Beipiel:  __[Temperatures](https://www.codingame.com/training/easy/temperatures)__\n",
    "\n",
    "\n"
   ]
  },
  {
   "cell_type": "code",
   "execution_count": null,
   "metadata": {},
   "outputs": [],
   "source": [
    "import sys\n",
    "import math\n",
    "\n",
    "# Auto-generated code below aims at helping you parse\n",
    "# the standard input according to the problem statement.\n",
    "\n",
    "n = int(input())  # the number of temperatures to analyse\n",
    "for i in input().split():\n",
    "    # t: a temperature expressed as an integer ranging from -273 to 5526\n",
    "    t = int(i)\n",
    "\n",
    "# Write an action using print\n",
    "# To debug: print(\"Debug messages...\", file=sys.stderr)\n",
    "\n",
    "print(\"result\")"
   ]
  },
  {
   "cell_type": "markdown",
   "metadata": {},
   "source": [
    "**Übung**: Wie könnte ein möglicher Input aussehen?"
   ]
  },
  {
   "cell_type": "markdown",
   "metadata": {},
   "source": [
    "#### Aufgaben mit Game-Loop\n",
    "\n",
    "Manchmal werden alle Daten vor der Game-Loop eingelesen, manchmal werden alle innerhalb der Game-Loop eingelesen und manchmal\n",
    "werden Teile der Daten vor und Teile innerhalb der Game-Loop eingelesen.\n"
   ]
  },
  {
   "cell_type": "markdown",
   "metadata": {},
   "source": [
    "**Beispiel 1:** __[The Descent](https://www.codingame.com/training/easy/the-descent)__.\n",
    "Bei jedem Durchgang (turn) werden 8 neue Daten eingelesen."
   ]
  },
  {
   "cell_type": "code",
   "execution_count": null,
   "metadata": {},
   "outputs": [],
   "source": [
    "import sys\n",
    "import math\n",
    "\n",
    "# The while loop represents the game.\n",
    "# Each iteration represents a turn of the game\n",
    "# where you are given inputs (the heights of the mountains)\n",
    "# and where you have to print an output (the index of the mountain to fire on)\n",
    "# The inputs you are given are automatically updated according to your last actions.\n",
    "\n",
    "\n",
    "# game loop\n",
    "while True:\n",
    "    for i in range(8):\n",
    "        mountain_h = int(input())  # represents the height of one mountain.\n",
    "\n",
    "    # Write an action using print\n",
    "    # To debug: print(\"Debug messages...\", file=sys.stderr)\n",
    "\n",
    "    # The index of the mountain to fire on.\n",
    "    print(\"4\")"
   ]
  },
  {
   "cell_type": "markdown",
   "metadata": {},
   "source": [
    "**Übung**: Wie könnte eine mögliche Eingabe aussehen?\n",
    "\n",
    "\n",
    "**Beispiel 2:** __[Mars Lander 1](https://www.codingame.com/training/easy/mars-lander-episode-1)__"
   ]
  },
  {
   "cell_type": "code",
   "execution_count": null,
   "metadata": {},
   "outputs": [],
   "source": [
    "import sys\n",
    "import math\n",
    "\n",
    "# Auto-generated code below aims at helping you parse\n",
    "# the standard input according to the problem statement.\n",
    "\n",
    "surface_n = int(input())  # the number of points used to draw the surface of Mars.\n",
    "for i in range(surface_n):\n",
    "    # land_x: X coordinate of a surface point. (0 to 6999)\n",
    "    # land_y: Y coordinate of a surface point. By linking all the points together in a sequential fashion, you form the surface of Mars.\n",
    "    land_x, land_y = [int(j) for j in input().split()]\n",
    "\n",
    "# game loop\n",
    "while True:\n",
    "    # h_speed: the horizontal speed (in m/s), can be negative.\n",
    "    # v_speed: the vertical speed (in m/s), can be negative.\n",
    "    # fuel: the quantity of remaining fuel in liters.\n",
    "    # rotate: the rotation angle in degrees (-90 to 90).\n",
    "    # power: the thrust power (0 to 4).\n",
    "    x, y, h_speed, v_speed, fuel, rotate, power = [int(i) for i in input().split()]\n",
    "\n",
    "    # Write an action using print\n",
    "    # To debug: print(\"Debug messages...\", file=sys.stderr)\n",
    "\n",
    "\n",
    "    # 2 integers: rotate power. rotate is the desired rotation angle (should be 0 for level 1), power is the desired thrust power (0 to 4).\n",
    "    print(\"0 3\")"
   ]
  },
  {
   "cell_type": "markdown",
   "metadata": {},
   "source": [
    "**Übung**: Wie könnte eine mögliche Eingabe aussehen?"
   ]
  },
  {
   "cell_type": "markdown",
   "metadata": {},
   "source": [
    "### Lösung lokal entwickeln\n",
    "\n",
    "Wenn man einfach an die Input-Daten kommt, z.B. bei Aufgaben ohne Game-Loop, kann man die Lösung auch lokal entwickeln.\n",
    "Dazu werden die Eingabedaten in einer Datei gespeichert und diese wird dann eingelesen. Die input-Anweisungen werden\n",
    "durch readline-Anweisungen ersetzt.\n",
    "\n",
    "Beispiel:"
   ]
  },
  {
   "cell_type": "code",
   "execution_count": null,
   "metadata": {},
   "outputs": [],
   "source": [
    "width, height = [int(i) for i in input().split()]"
   ]
  },
  {
   "cell_type": "markdown",
   "metadata": {},
   "source": [
    "wird ersetzt durch"
   ]
  },
  {
   "cell_type": "code",
   "execution_count": null,
   "metadata": {},
   "outputs": [],
   "source": [
    "f = open(\"data01.txt\");      # da stehen die Input-Daten drin\n",
    "width, height = [int(i) for i in f.readline().split()]\n",
    "f.close()"
   ]
  }
 ],
 "metadata": {
  "kernelspec": {
   "display_name": "Python 3",
   "language": "python",
   "name": "python3"
  },
  "language_info": {
   "codemirror_mode": {
    "name": "ipython",
    "version": 3
   },
   "file_extension": ".py",
   "mimetype": "text/x-python",
   "name": "python",
   "nbconvert_exporter": "python",
   "pygments_lexer": "ipython3",
   "version": "3.6.5"
  }
 },
 "nbformat": 4,
 "nbformat_minor": 2
}
