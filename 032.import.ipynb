{
 "cells": [
  {
   "cell_type": "markdown",
   "metadata": {},
   "source": [
    "# Import  \n",
    "#### Eigene Funktionen\n",
    "Jede .py-Datei wird als Modul bezeichnet. In einem Modul können mehrere Funktionen definiert sein. Funktionen können aus anderen Modulen importiert werden."
   ]
  },
  {
   "cell_type": "raw",
   "metadata": {},
   "source": [
    "# Inhalt des Moduls mytools.py\n",
    "\n",
    "def func1(x):\n",
    "    '''\n",
    "    x: float\n",
    "    returns: den Wert der Funktion x*x - 4\n",
    "    '''\n",
    "    return x*x-4\n",
    "\n",
    "\n",
    "def func2(x, y):\n",
    "    '''\n",
    "    x: float\n",
    "    returns: den Wert x*x + y*y\n",
    "    '''\n",
    "    return x*x + y*y"
   ]
  },
  {
   "cell_type": "code",
   "execution_count": 1,
   "metadata": {},
   "outputs": [
    {
     "name": "stdout",
     "output_type": "stream",
     "text": [
      "12 45\n"
     ]
    }
   ],
   "source": [
    "# Inhalt des Moduls myprog.py im selben Verzeichnis wie mytools.py\n",
    "import mytools                   # mytools wird eine Variable im global frame\n",
    "\n",
    "a = mytools.func1(4)\n",
    "b = mytools.func2(3,6)\n",
    "print(a,b)\n"
   ]
  },
  {
   "cell_type": "code",
   "execution_count": 2,
   "metadata": {},
   "outputs": [
    {
     "name": "stdout",
     "output_type": "stream",
     "text": [
      "12\n"
     ]
    }
   ],
   "source": [
    "from mytools import func1       # func1 wird eine Variable im global frame\n",
    "a = func1(4)\n",
    "print(a)"
   ]
  },
  {
   "cell_type": "code",
   "execution_count": 3,
   "metadata": {},
   "outputs": [
    {
     "ename": "NameError",
     "evalue": "name 'func2' is not defined",
     "output_type": "error",
     "traceback": [
      "\u001b[1;31m---------------------------------------------------------------------------\u001b[0m",
      "\u001b[1;31mNameError\u001b[0m                                 Traceback (most recent call last)",
      "\u001b[1;32m<ipython-input-3-9ae080f61097>\u001b[0m in \u001b[0;36m<module>\u001b[1;34m()\u001b[0m\n\u001b[1;32m----> 1\u001b[1;33m \u001b[0mb\u001b[0m \u001b[1;33m=\u001b[0m \u001b[0mfunc2\u001b[0m\u001b[1;33m(\u001b[0m\u001b[1;36m3\u001b[0m\u001b[1;33m,\u001b[0m\u001b[1;36m6\u001b[0m\u001b[1;33m)\u001b[0m\u001b[1;33m\u001b[0m\u001b[0m\n\u001b[0m\u001b[0;32m      2\u001b[0m \u001b[0mprint\u001b[0m\u001b[1;33m(\u001b[0m\u001b[0mb\u001b[0m\u001b[1;33m)\u001b[0m\u001b[1;33m\u001b[0m\u001b[0m\n",
      "\u001b[1;31mNameError\u001b[0m: name 'func2' is not defined"
     ]
    }
   ],
   "source": [
    "b = func2(3,6)\n",
    "print(b)"
   ]
  },
  {
   "cell_type": "code",
   "execution_count": 4,
   "metadata": {},
   "outputs": [],
   "source": [
    "from mytools import *           # für jede Funktion in mytools entsteht eine Variable im global frame"
   ]
  },
  {
   "cell_type": "code",
   "execution_count": 5,
   "metadata": {},
   "outputs": [
    {
     "name": "stdout",
     "output_type": "stream",
     "text": [
      "45\n"
     ]
    }
   ],
   "source": [
    "b = func2(3,6)\n",
    "print(b)"
   ]
  },
  {
   "cell_type": "markdown",
   "metadata": {},
   "source": [
    "#### Das Modul __[math](https://docs.python.org/3/library/math.html)__"
   ]
  },
  {
   "cell_type": "code",
   "execution_count": 6,
   "metadata": {},
   "outputs": [
    {
     "name": "stdout",
     "output_type": "stream",
     "text": [
      "3.141592653589793\n",
      "2.718281828459045\n"
     ]
    }
   ],
   "source": [
    "import math                # die Funktionen werden mit math.xxx angesprochen\n",
    "print(math.pi)\n",
    "print(math.e)"
   ]
  },
  {
   "cell_type": "code",
   "execution_count": 7,
   "metadata": {},
   "outputs": [
    {
     "name": "stdout",
     "output_type": "stream",
     "text": [
      "180.0\n"
     ]
    }
   ],
   "source": [
    "import math as m           # die Funktionen werden mit m.xxx angesprochen (keine andere Variable sollte m heißen)\n",
    "winkel = m.degrees(m.pi)   \n",
    "print(winkel)"
   ]
  },
  {
   "cell_type": "code",
   "execution_count": 8,
   "metadata": {},
   "outputs": [
    {
     "name": "stdout",
     "output_type": "stream",
     "text": [
      "90.0\n"
     ]
    }
   ],
   "source": [
    "from math import pi,degrees    # die Funktionen werden ohne math.  angesprochen\n",
    "print(degrees(pi/2))"
   ]
  },
  {
   "cell_type": "raw",
   "metadata": {},
   "source": [
    "from math import *               # jede Konstante und Funktion im math-Modul wird eine Variable im global frame                    "
   ]
  },
  {
   "cell_type": "markdown",
   "metadata": {},
   "source": [
    "#### Module aus anderen Bibliotheken \n",
    "Module können zu Bibliotheken zusammengefasst werden. Das Modul *math* ist in der Standardbibliothek, die mit der Installation\n",
    "von Python mitgeliefert wird. Für andere Module müssen ggf. Pakete nachinstalliert werden.\n",
    "In Thonny geht das unter *Tools - manage packages ...*.\n",
    "\n",
    "#### Beipiele: \n",
    "* sympy ist eine Bibliothek für Computer Algebra (CAS)\n",
    "* pygame ist eine Bibliothek für Spieleprogrammierung"
   ]
  },
  {
   "cell_type": "code",
   "execution_count": 9,
   "metadata": {},
   "outputs": [
    {
     "name": "stdout",
     "output_type": "stream",
     "text": [
      "[-1, 1]\n"
     ]
    }
   ],
   "source": [
    "from sympy import Symbol, solve\n",
    "x = Symbol(\"x\")\n",
    "a = solve(x**2 - 1)\n",
    "print(a)"
   ]
  }
 ],
 "metadata": {
  "kernelspec": {
   "display_name": "Python 3",
   "language": "python",
   "name": "python3"
  },
  "language_info": {
   "codemirror_mode": {
    "name": "ipython",
    "version": 3
   },
   "file_extension": ".py",
   "mimetype": "text/x-python",
   "name": "python",
   "nbconvert_exporter": "python",
   "pygments_lexer": "ipython3",
   "version": "3.6.5"
  }
 },
 "nbformat": 4,
 "nbformat_minor": 2
}
