{
 "cells": [
  {
   "cell_type": "markdown",
   "metadata": {},
   "source": [
    "# Datenbanken\n",
    "\n",
    "Datenbanken sind organisierte Sammlungen von Daten. \n",
    "\n",
    "## Relationale Datenbanken\n",
    "\n",
    "* Daten werden in 2-dimensionalen Tabellen gespeichert.\n",
    "* Die Tabellen (Relationen) sind logisch miteinander verknüpft.\n",
    "* Eine Tabellenzeile zeigt Informationen über eine Entität (Datensatz)\n",
    "* Eine Tabellenspalte entspricht dem Attribut einer Entität\n",
    "* Abfragesprache SQL\n",
    "* Ziel: Minimiere Redundanzen und maximiere Konsistenz der Daten"
   ]
  },
  {
   "cell_type": "code",
   "execution_count": null,
   "metadata": {},
   "outputs": [],
   "source": [
    "# in dieser Tabelle gibt es Redundanzen mit der Gefahr der Inkonsistenz\n",
    "Tabelle: student\n",
    "\n",
    "name     ort        fach         semester\n",
    "-----------------------------------------\n",
    "Malte    Münster    Philosophie  12      \n",
    "Malte    Münster    Mathematik   12      \n",
    "John     Bochum     BWL          5       \n",
    "John     Bochum     Informatik   5             \n"
   ]
  },
  {
   "cell_type": "markdown",
   "metadata": {},
   "source": [
    "### Entwurf einer Datenbank\n",
    "1. Wir modellieren unser Anwendungsproblem mit Objekten und ihren Beziehungen (ER-Modell)\n",
    "2. Wir setzen das ER-Modell in Tabellen um.\n",
    "3. Wir reorganisieren die Tabellen um minimale Redundanz und maximale Konsistenz zu erreichen."
   ]
  },
  {
   "cell_type": "markdown",
   "metadata": {},
   "source": [
    "## Entity-Relationship Modell\n",
    "\n",
    "**Entitäten** entsprechen Objekten der realen Welt (Malte), **Entitätstypen** den Klassen (Student) und werden im\n",
    "**ER-Diagramm** durch Rechtecke dargestellt. **Attribute** der Entitäten werden durch Ellipsen dargestellt.\n",
    "\n",
    "**Beziehungen (Relationships)** zwischen Entitäten werden durch Rauten dargestellt. Auch Beziehungen können Attribute haben.\n",
    "\n",
    "**Kardinalitäten** beschreiben, wie viele Entitäten an einer\n",
    "konkreten Beziehung beteiligt sein können. Es sind 1:1, 1:n und\n",
    "m:n-Beziehungen möglich.\n",
    "\n",
    "Für jeden Entitätstyp wird ein **Primärschlüssel** festgelegt, der eine konkrete Entität eindeutig identifiziert. Der Primärschlüssel wird im ER-Diagramm unterstrichen.\n",
    "\n",
    "Erhält eine Tablle den Primärschlüssel einer anderen Tabelle als Attribut, so spricht man von einem **Fremdschlüssel**.\n",
    "\n",
    "Beispiel: ER-Diagramm für einen Online-Buchhandel\n",
    "\n",
    "![a](img/datenbanken01.png)"
   ]
  },
  {
   "cell_type": "markdown",
   "metadata": {},
   "source": [
    "## Umsetzung des ER-Modells in Tabellen\n",
    "\n",
    "Die Informationen des ER-Diagramms werden in Tabellen überführt. Die Struktur der Tabellen wird als **Schema** bezeichnet.\n",
    "Im Schema werden Primärschlüssel unterstrichen und Fremdschlüssel mit einem Pfeil versehen. \n",
    "\n",
    "----"
   ]
  },
  {
   "cell_type": "markdown",
   "metadata": {},
   "source": [
    "Zur vereinfachten Darstellung werden die Primärschlüssel hier fett gedruckt und die Fremdschlüssel kursiv gedruckt.\n",
    "Beispiel:\n",
    "\n",
    "Buch(**ISBN**,Titel,Autor,Preis,Kategorie,_VID_)\n",
    "\n",
    "steht für:\n",
    "\n",
    "![b](img/datenbanken_schema.png)\n",
    "\n",
    "----"
   ]
  },
  {
   "cell_type": "markdown",
   "metadata": {},
   "source": [
    "**Jede Entität bekommt eine eigene Tabelle.** \n",
    "\n",
    "* Verlag(__VID__,Name,Sitz,Ansprechpartner)  \n",
    "* Buch(__ISBN__,Titel,Autor,Preis,Kategorie)\n",
    "* Kunde(__Benutzername__,Passwort,Vorname,Nachname,Adresse,E-Mail)\n",
    "* Darstellung(__DID__,d_Bewertung,lieferbar)"
   ]
  },
  {
   "cell_type": "markdown",
   "metadata": {},
   "source": [
    "**Eine 1:1-Beziehung erhält keine eigene Tabelle.** Einer der beiden Relation erhält den Primärschlüssel der anderen als Fremdschlüssel. Attribute werden ggf. übernommen.\n",
    "\n",
    "* Darstellung(**DID**,d_Bewertung,lieferbar,_ISBN_)\n",
    "\n",
    "**Eine 1:n Beziehungen erhält keine eigene Tabelle.** Die Relation mit Kardinalität n erhält den anderen Primärschlüssel als Fremdschlüssel. Attribute werden ggf. übernommen.\n",
    "\n",
    "* Buch(**ISBN**,Titel,Autor,Preis,Kategorie,_VID_)\n",
    "\n",
    "\n",
    "\n",
    "**Eine n:m-Beziehung erhält eine eigene Tabelle.** Die Primärschlüssel der beteiligten Entitäten werden als Fremdschlüssel hinzugefügt. Die Kombination der Fremdschlüssel ist der neue Primärschlüssel. Attribute werden ggf. übernommen.\n",
    "\n",
    "* bestellt(**_ISBN_**,**_Benutzername_**,Anzahl)\n",
    "\n",
    "\n",
    "\n"
   ]
  },
  {
   "cell_type": "markdown",
   "metadata": {},
   "source": [
    "## Referentielle Integrität"
   ]
  },
  {
   "cell_type": "markdown",
   "metadata": {},
   "source": [
    "Die **referentielle Integrität** ist gewährleistet, wenn es zu jedem Fremschlüssel tatsächlich einen zugehörigen Datensatz mit gleichem Primärschlüsselwert in der referenzierten Tabelle gibt."
   ]
  },
  {
   "cell_type": "markdown",
   "metadata": {},
   "source": [
    "Beispiel: referentieller Integrität stellt sicher, dass man keine Schüler einer AG zuordnen kann, die es im System gar nicht gibt.\n",
    "\n",
    "![a](img/datenbanken_refint.png)"
   ]
  },
  {
   "cell_type": "markdown",
   "metadata": {},
   "source": [
    "## Anomalien\n",
    "\n",
    "**Anomalien** sind Probleme und Fehler, die bei Operationen auf den Daten einer Datenbank entstehen können. \n"
   ]
  },
  {
   "cell_type": "markdown",
   "metadata": {},
   "source": [
    "#### Einfügeanomalie\n",
    "Eine Einfügeanomalie entsteht dann, wenn man etwas zur Datenbank hinzufügen möchte, dafür aber keinen (logischen) Platz findet.\n",
    "Für eine Information, die inhaltlich zum Thema der Datenbank gehört, finden wir keine Tabelle.\n"
   ]
  },
  {
   "cell_type": "code",
   "execution_count": null,
   "metadata": {},
   "outputs": [],
   "source": [
    "Tabelle: kursleiter\n",
    "name     kurs      \n",
    "-------------------\n",
    "Schulte  Mathe_11a \n",
    "Bauer    Mathe_11b \n",
    "Schmidt  Englisch_11a"
   ]
  },
  {
   "cell_type": "markdown",
   "metadata": {},
   "source": [
    "Eine Schule will einen neuen Kurs einrichten, z.B: Informatik_11a, hat aber noch keinen Kursleiter. Wenn die Tabelle kursleiter die einzige Stelle in der Datenbank ist, wo Kurse erwähnt werden, finden wir für diese Information keinen Platz.\n",
    "\n",
    "\n",
    "Grund für die Anomalie: Wir haben das reale-Welt-Ding 'Kurs' in unserer Datenbank nicht als eine Entität modelliert, sondern nur als Attribut einer anderen Entität. Lösung:"
   ]
  },
  {
   "cell_type": "code",
   "execution_count": null,
   "metadata": {},
   "outputs": [],
   "source": [
    "Tabelle: kursleiter\n",
    "name     kurs      \n",
    "-------------------\n",
    "Schulte  M11a      \n",
    "Bauer    M11b      \n",
    "Schmidt  E11a      \n",
    "\n",
    "Tabelle: kurse\n",
    "kursid   kurs      \n",
    "-------------------\n",
    "M11a     Mathe_11a \n",
    "M11b     Mathe_11b \n",
    "E11a     Englisch_11a\n",
    "Inf11a   Informatik_11a"
   ]
  },
  {
   "cell_type": "markdown",
   "metadata": {},
   "source": [
    "#### Änderungsanomalie\n",
    "Eine Änderungsanomalie liegt dann vor, wenn die Änderung eines Attributs dazu führt, dass an mehreren Stellen Änderungen notwendig sind (Redundanzen mit der Gefahr von Inkonsistenz). "
   ]
  },
  {
   "cell_type": "code",
   "execution_count": null,
   "metadata": {},
   "outputs": [],
   "source": [
    "Tabelle: kurs\n",
    "kursid   fach         raum     plaetze \n",
    "---------------------------------------\n",
    "Inf11a   Informatik   R101     30      \n",
    "M11a     Mathematik   R203     32      \n",
    "M11b     Mathematik   R203     32      \n",
    "E11a     Englisch     R205     28   "
   ]
  },
  {
   "cell_type": "markdown",
   "metadata": {},
   "source": [
    "Wenn Raum R203 umgebaut wird, so dass nur noch 29 Plätze zur Verfügung stehen, müssen an mehrere Stellen updates gemacht werden. Das Attribut *plaetze* ist in Wirklichkeit nicht von dem Primärschlüssel *kursid* abhängig, sondern von dem Attribut *raum*. Lösung: \n",
    "Wir modellieren das reale-Welt-Ding Raum in unserer Datenbank als Entität."
   ]
  },
  {
   "cell_type": "code",
   "execution_count": null,
   "metadata": {},
   "outputs": [],
   "source": [
    "Tabelle: kurs\n",
    "kursid   fach         raum     \n",
    "-------------------------------\n",
    "Inf11a   Informatik   R101     \n",
    "M11a     Mathematik   R203     \n",
    "M11b     Mathematik   R203     \n",
    "E11a     Englisch     R205     \n",
    "\n",
    "Tabelle: raum\n",
    "raum     plaetze  \n",
    "------------------\n",
    "R101     30       \n",
    "R203     32       \n",
    "R205     28       "
   ]
  },
  {
   "cell_type": "markdown",
   "metadata": {},
   "source": [
    "#### Löschanomalie\n",
    "Eine Löschanomalie tritt dann auf, wenn bei dem Löschen einer Information eine andere, möglicherweise wichtige Information, auch gelöscht wird."
   ]
  },
  {
   "cell_type": "code",
   "execution_count": null,
   "metadata": {},
   "outputs": [],
   "source": [
    "Tabelle: kurs\n",
    "kursid   fach         raum     plaetze \n",
    "---------------------------------------\n",
    "Inf11a   Informatik   R101     30      \n",
    "M11a     Mathematik   R203     32      \n",
    "M11b     Mathematik   R203     32      \n",
    "E11a     Englisch     R205     28   "
   ]
  },
  {
   "cell_type": "markdown",
   "metadata": {},
   "source": [
    "Wenn wir Kurs Inf11a löschen, verlieren wir auch die Information über die Kapazität von Raum R101. Lösung wie oben."
   ]
  },
  {
   "cell_type": "markdown",
   "metadata": {},
   "source": [
    "## Normalisierung\n",
    "\n",
    "Durch Umstrukturierung kann man eine Datenbank in verschiedene Normalformen bringen: **1NF, 2NF, 3NF, Boyce-Codd NF, 4NF**.\n",
    "Eine Datenbank in 3NF ist in der Regel frei von Anomalien.\n",
    "\n",
    "Wir beschränken uns hier auf eine informelle Beschreibung:\n",
    "\n",
    "**1NF**: Die Attribute sind atomar und es kommen keine Wiederholfelder vor. <br>\n",
    "**2NF**: 1NF + jedes nicht zum Primärschlüssel gehörende Attribut ist vom gesamten Primärschlüssel abhängig, nicht nur von einem Teil des Schlüssel. <br>\n",
    "**3NF**: 2NF + es gibt keine Abhängigkeiten zwischen Nichtschlüsselattributen.\n",
    "\n",
    "#### Beispiele:"
   ]
  },
  {
   "cell_type": "code",
   "execution_count": null,
   "metadata": {},
   "outputs": [],
   "source": [
    "Tabelle: lkwahl\n",
    "snr    name             lk1            lk2           \n",
    "-----------------------------------------------------\n",
    "120    Malte Riedberg   M1 Schulte     Ph1 Schulte   \n",
    "121    Lena Dreis       Bio1 Dallmeyer Ph1 Schulte   \n",
    "122    Maike Rödding    M2 Adam        Ge2 Gebauer   "
   ]
  },
  {
   "cell_type": "markdown",
   "metadata": {},
   "source": [
    "Schema: lkwahl(**snr**,name,lk1,lk2) - In die Tabelle wurde die Wahl der Leistungskurse eingetragen. Die Attribute sind nicht atomar und es kommen Wiederholfelder vor.\n",
    "\n",
    "---\n",
    "\n"
   ]
  },
  {
   "cell_type": "code",
   "execution_count": null,
   "metadata": {},
   "outputs": [],
   "source": [
    "Tabelle: lkwahl\n",
    "snr    name       vorname    kid    lehrer     kuerzel\n",
    "------------------------------------------------------\n",
    "120    Riedberg   Malte      M1     Schulte    SC  \n",
    "120    Riedberg   Malte      Ph1    Schulte    SC  \n",
    "121    Dreis      Lena       Bio1   Dallmeyer  DA  \n",
    "121    Dreis      Lena       Ph1    Schulte    SC  \n",
    "122    Rödding    Maike      M2     Adam       AD  \n",
    "122    Rödding    Maike      Ge2    Gebauer    GE  "
   ]
  },
  {
   "cell_type": "markdown",
   "metadata": {},
   "source": [
    "Schema:lkwahl(**snr**,name,vorname,**kid**,lehrer,kuerzel) - In der Tabelle ist das Attribut _name_ nur von einem Teil des Primärschlüssels abhängig, nämlich von _snr_. Das Attribut _kuerzel_ ist nur von dem Attribut _lehrer_ abhängig.\n",
    "\n",
    "---"
   ]
  },
  {
   "cell_type": "markdown",
   "metadata": {},
   "source": [
    "Schema: lkwahl(**_snr_**,**_kid_**) <br> \n",
    "schueler(**snr**,name,vorname) <br> \n",
    "kurse(**kid**,_kuerzel_) <br> \n",
    "lehrer(**kuerzel**,lehrer)"
   ]
  },
  {
   "cell_type": "code",
   "execution_count": null,
   "metadata": {},
   "outputs": [],
   "source": [
    "Tabelle: lkwahl\n",
    "snr    kid    \n",
    "--------------\n",
    "120    M1     \n",
    "120    Ph1    \n",
    "121    Bio1   \n",
    "121    Ph1    \n",
    "122    M2     \n",
    "122    Ge2    \n",
    "\n",
    "Tabelle: schueler\n",
    "snr    name       vorname    \n",
    "-----------------------------\n",
    "120    Riedberg   Malte      \n",
    "121    Dreis      Lena       \n",
    "122    Rödding    Maike      \n",
    "\n",
    "Tabelle: kurse\n",
    "kid    kuerzel \n",
    "---------------\n",
    "M1     SC     \n",
    "Ph1    SC     \n",
    "Bio1   DA     \n",
    "M2     AD     \n",
    "Ge2    GE     \n",
    "\n",
    "Tabelle: lehrer\n",
    "kuerzel lehrer     \n",
    "-------------------\n",
    "SC      Schulte    \n",
    "DA      Dallmeyer  \n",
    "AD      Adam       \n",
    "GE      Gebauer   "
   ]
  },
  {
   "cell_type": "markdown",
   "metadata": {},
   "source": [
    "Die Datenbank ist in 3NF."
   ]
  },
  {
   "cell_type": "code",
   "execution_count": null,
   "metadata": {},
   "outputs": [],
   "source": []
  }
 ],
 "metadata": {
  "kernelspec": {
   "display_name": "Python 3",
   "language": "python",
   "name": "python3"
  },
  "language_info": {
   "codemirror_mode": {
    "name": "ipython",
    "version": 3
   },
   "file_extension": ".py",
   "mimetype": "text/x-python",
   "name": "python",
   "nbconvert_exporter": "python",
   "pygments_lexer": "ipython3",
   "version": "3.6.5"
  }
 },
 "nbformat": 4,
 "nbformat_minor": 2
}
