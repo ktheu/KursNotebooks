{
 "cells": [
  {
   "cell_type": "markdown",
   "metadata": {},
   "source": [
    "## A2/3 Aufleitungen\n",
    "\n",
    "---\n",
    "(2009 A2)  Berechnen Sie das Integral $\\int\\limits_{4}^{9} (\\frac{2}{\\sqrt{x}} -1) dx$.  \n",
    "\n",
    "---\n",
    "(2016 A2) Gegeben ist die Funktion $f$ mit $f(x) = \\frac{48}{(2x-4)^3}$. Bestimmen Sie eine Stammfunktion $F$ von $f$. \n",
    "\n",
    "----\n",
    "(2017 A3)\n",
    "Gegeben ist die Funktion $f$ mit $f(x) = \\frac{2}{x^2}; ~~ x > 0$. Berechnen Sie den Inhalt der markierten Fläche.\n",
    "\n",
    "<p><img src=\"abi2017-1.png\" width = \"300\" /></p>  \n",
    "\n",
    "\n",
    "---\n",
    "(2018 A2)  Untersuchen Sie, ob der Wert des Integrals $\\int\\limits_{3}^{e+2} (\\frac{1}{x-2}) dx$ ganzzahlig ist.  \n",
    "\n",
    "---\n",
    "(2018 A3) Gegeben ist die Funktion $f$ mit $f(x) = 4x^2-4x+5$. $F$ ist eine Stammfunktion von $f$. Bestimmen Sie die Stelle, an der die Graphen von F und f parallele Tangenten besitzen.\n",
    "\n",
    "---\n",
    "(2019 A3)  Gegeben ist die Funktion $f$ mit $f(x) = 1 - \\frac{1}{x^2}$, die die Nullstellen $x_1 = -1$ und $x_2 = 1$ hat. Die Abbildung zeigt den Graphen von $f$, der symmetrisch bezüglich der y-Achse ist. Weiterhin ist die Gerade $g$ mit der Gleichung $y=-3$ gegeben. <br>\n",
    "a) Zeigen Sie, dass einer der Punkte, in denen $g$ den Graphen von $f$ schneidet, die x-Koordinate $\\frac{1}{2}$ hat. <br>\n",
    "b) Bestimmen Sie rechnerisch den Inhalt der Fläche, die der Graph von $f$, die x-Achse und die Gerade $g$ einschließen.\n",
    "\n",
    "<p><img src=\"abi2019-1.png\" width = \"300\" /></p>  \n",
    "\n",
    "----"
   ]
  },
  {
   "cell_type": "code",
   "execution_count": 3,
   "metadata": {},
   "outputs": [],
   "source": [
    "from sympy import *\n",
    "init_printing(use_unicode=True)\n",
    "x = symbols('x',real=True)\n",
    "f = symbols('f', cls=Function)"
   ]
  },
  {
   "cell_type": "markdown",
   "metadata": {},
   "source": [
    "  ----\n",
    "  2009\n",
    " "
   ]
  },
  {
   "cell_type": "code",
   "execution_count": 35,
   "metadata": {},
   "outputs": [
    {
     "data": {
      "image/png": "[encoded data removed]",
      "text/latex": [
       "$$\\left ( 4 \\sqrt{x} - x, \\quad 3, \\quad 4\\right )$$"
      ],
      "text/plain": [
       "(4⋅√x - x, 3, 4)"
      ]
     },
     "execution_count": 35,
     "metadata": {},
     "output_type": "execute_result"
    }
   ],
   "source": [
    "f = 2/sqrt(x) - 1\n",
    "F = integrate(f)\n",
    "\n",
    "F, F.subs(x,9), F.subs(x,4)"
   ]
  },
  {
   "cell_type": "code",
   "execution_count": 36,
   "metadata": {},
   "outputs": [
    {
     "name": "stdout",
     "output_type": "stream",
     "text": [
      "Lösung = -1\n"
     ]
    }
   ],
   "source": [
    "print(\"Lösung = {}\".format(integrate(f,(x,4,9))))"
   ]
  },
  {
   "cell_type": "markdown",
   "metadata": {},
   "source": [
    "----\n",
    "(2016) "
   ]
  },
  {
   "cell_type": "code",
   "execution_count": 20,
   "metadata": {},
   "outputs": [
    {
     "data": {
      "image/png": "[encoded data removed]",
      "text/latex": [
       "$$- \\frac{3}{\\left(x - 2\\right)^{2}}$$"
      ],
      "text/plain": [
       "  -3    \n",
       "────────\n",
       "       2\n",
       "(x - 2) "
      ]
     },
     "execution_count": 20,
     "metadata": {},
     "output_type": "execute_result"
    }
   ],
   "source": [
    "f  = 48/(2*x-4)**3\n",
    "factor(integrate(f))"
   ]
  },
  {
   "cell_type": "markdown",
   "metadata": {},
   "source": [
    "---\n",
    "(2017)"
   ]
  },
  {
   "cell_type": "code",
   "execution_count": 22,
   "metadata": {},
   "outputs": [
    {
     "data": {
      "image/png": "[encoded data removed]",
      "text/latex": [
       "$$\\left [ -1, \\quad 1\\right ]$$"
      ],
      "text/plain": [
       "[-1, 1]"
      ]
     },
     "execution_count": 22,
     "metadata": {},
     "output_type": "execute_result"
    }
   ],
   "source": [
    "f = 2/x**2\n",
    "solve(Eq(f,2))"
   ]
  },
  {
   "cell_type": "code",
   "execution_count": 23,
   "metadata": {},
   "outputs": [
    {
     "data": {
      "image/png": "[encoded data removed]",
      "text/latex": [
       "$$1$$"
      ],
      "text/plain": [
       "1"
      ]
     },
     "execution_count": 23,
     "metadata": {},
     "output_type": "execute_result"
    }
   ],
   "source": [
    "integrate(f,(x,1,2))"
   ]
  },
  {
   "cell_type": "code",
   "execution_count": 24,
   "metadata": {},
   "outputs": [
    {
     "name": "stdout",
     "output_type": "stream",
     "text": [
      "Lösung: 3\n"
     ]
    }
   ],
   "source": [
    "print(\"Lösung: {}\".format(4-1))"
   ]
  },
  {
   "cell_type": "markdown",
   "metadata": {},
   "source": [
    "----\n",
    "(2018 A2)   "
   ]
  },
  {
   "cell_type": "code",
   "execution_count": 34,
   "metadata": {},
   "outputs": [
    {
     "data": {
      "image/png": "[encoded data removed]",
      "text/latex": [
       "$$\\left ( \\log{\\left (x - 2 \\right )}, \\quad 1, \\quad 0, \\quad 1\\right )$$"
      ],
      "text/plain": [
       "(log(x - 2), 1, 0, 1)"
      ]
     },
     "execution_count": 34,
     "metadata": {},
     "output_type": "execute_result"
    }
   ],
   "source": [
    "f = 1/(x-2)\n",
    "F = integrate(f)\n",
    "F, F.subs(x,E+2), F.subs(x,3), integrate(f,(x,3,E+2))"
   ]
  },
  {
   "cell_type": "code",
   "execution_count": 37,
   "metadata": {},
   "outputs": [
    {
     "name": "stdout",
     "output_type": "stream",
     "text": [
      "Lösung = 1\n"
     ]
    }
   ],
   "source": [
    "print(\"Lösung = {}\".format(integrate(f,(x,3,E+2))))"
   ]
  },
  {
   "cell_type": "markdown",
   "metadata": {},
   "source": [
    "---\n",
    "(2018 A3)"
   ]
  },
  {
   "cell_type": "code",
   "execution_count": 41,
   "metadata": {},
   "outputs": [
    {
     "data": {
      "image/png": "[encoded data removed]",
      "text/latex": [
       "$$8 x - 4$$"
      ],
      "text/plain": [
       "8⋅x - 4"
      ]
     },
     "execution_count": 41,
     "metadata": {},
     "output_type": "execute_result"
    }
   ],
   "source": [
    "f = 4*x**2 - 4*x + 5\n",
    "f1 = diff(f)\n",
    "f1 "
   ]
  },
  {
   "cell_type": "code",
   "execution_count": 43,
   "metadata": {},
   "outputs": [
    {
     "name": "stdout",
     "output_type": "stream",
     "text": [
      "Lösung = [3/2]\n"
     ]
    }
   ],
   "source": [
    "print(\"Lösung = {}\".format(solve(f-f1)))"
   ]
  },
  {
   "cell_type": "markdown",
   "metadata": {},
   "source": [
    "----\n",
    "(2019)\n"
   ]
  },
  {
   "cell_type": "code",
   "execution_count": 10,
   "metadata": {},
   "outputs": [
    {
     "data": {
      "image/png": "[encoded data removed]",
      "text/latex": [
       "$$\\left [ - \\frac{1}{2}, \\quad \\frac{1}{2}\\right ]$$"
      ],
      "text/plain": [
       "[-1/2, 1/2]"
      ]
     },
     "execution_count": 10,
     "metadata": {},
     "output_type": "execute_result"
    }
   ],
   "source": [
    "f = 1 - 1/x**2 \n",
    "solve(Eq(f,-3))"
   ]
  },
  {
   "cell_type": "code",
   "execution_count": 11,
   "metadata": {},
   "outputs": [
    {
     "data": {
      "image/png": "[encoded data removed]",
      "text/latex": [
       "$$x + \\frac{1}{x}$$"
      ],
      "text/plain": [
       "    1\n",
       "x + ─\n",
       "    x"
      ]
     },
     "execution_count": 11,
     "metadata": {},
     "output_type": "execute_result"
    }
   ],
   "source": [
    "integrate(f)"
   ]
  },
  {
   "cell_type": "code",
   "execution_count": 16,
   "metadata": {},
   "outputs": [
    {
     "data": {
      "image/png": "[encoded data removed]",
      "text/latex": [
       "$$-0.5$$"
      ],
      "text/plain": [
       "-0.500000000000000"
      ]
     },
     "execution_count": 16,
     "metadata": {},
     "output_type": "execute_result"
    }
   ],
   "source": [
    "integrate(f,(x,-1,-1/2))"
   ]
  },
  {
   "cell_type": "code",
   "execution_count": 18,
   "metadata": {},
   "outputs": [
    {
     "name": "stdout",
     "output_type": "stream",
     "text": [
      "Lösung: 4.0\n"
     ]
    }
   ],
   "source": [
    "print(\"Lösung: {}\".format(2*0.5+3))"
   ]
  }
 ],
 "metadata": {
  "kernelspec": {
   "display_name": "Python 3",
   "language": "python",
   "name": "python3"
  },
  "language_info": {
   "codemirror_mode": {
    "name": "ipython",
    "version": 3
   },
   "file_extension": ".py",
   "mimetype": "text/x-python",
   "name": "python",
   "nbconvert_exporter": "python",
   "pygments_lexer": "ipython3",
   "version": "3.6.5"
  }
 },
 "nbformat": 4,
 "nbformat_minor": 2
}
