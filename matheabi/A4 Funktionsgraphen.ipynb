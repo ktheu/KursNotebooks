{
 "cells": [
  {
   "cell_type": "markdown",
   "metadata": {},
   "source": [
    "## Funktionsgraphen"
   ]
  },
  {
   "cell_type": "code",
   "execution_count": 2,
   "metadata": {},
   "outputs": [],
   "source": [
    "from sympy import *\n",
    "init_printing(use_unicode=True)\n",
    "x, a, b, c, d= symbols('x a b c d',real=True)\n",
    "f = symbols('f', cls=Function)"
   ]
  },
  {
   "cell_type": "markdown",
   "metadata": {},
   "source": [
    "---\n",
    "Hier sind meist keine konkreten Funktionen vorgegeben. Die Bilder werden nur näherungsweise nachgestellt."
   ]
  },
  {
   "cell_type": "markdown",
   "metadata": {},
   "source": [
    "---\n",
    "(2016)"
   ]
  },
  {
   "cell_type": "code",
   "execution_count": 7,
   "metadata": {},
   "outputs": [
    {
     "data": {
      "image/png": "[encoded data removed]",
      "text/latex": [
       "$$\\left\\{\\left ( 2, \\quad -3, \\quad 0, \\quad 1\\right )\\right\\}$$"
      ],
      "text/plain": [
       "{(2, -3, 0, 1)}"
      ]
     },
     "execution_count": 7,
     "metadata": {},
     "output_type": "execute_result"
    }
   ],
   "source": [
    "f = a + b * x + c * x**2 + d * x**3\n",
    "e1 = Eq(f.subs(x,-2), 0)\n",
    "e2 = Eq(f.subs(x,-1), 4)\n",
    "e3 = Eq(f.subs(x,1), 0)\n",
    "e4 = Eq(f.subs(x,2), 4)\n",
    " \n",
    "linsolve([e1,e2,e3,e4],[a,b,c,d])"
   ]
  },
  {
   "cell_type": "code",
   "execution_count": 13,
   "metadata": {},
   "outputs": [
    {
     "data": {
      "text/plain": [
       "<matplotlib.lines.Line2D at 0x2a45d3336a0>"
      ]
     },
     "execution_count": 13,
     "metadata": {},
     "output_type": "execute_result"
    },
    {
     "data": {
      "image/png": "[encoded data removed]",
      "text/plain": [
       "<Figure size 432x432 with 1 Axes>"
      ]
     },
     "metadata": {},
     "output_type": "display_data"
    }
   ],
   "source": [
    "import matplotlib\n",
    "import matplotlib.pyplot as plt\n",
    "import numpy as np\n",
    "%matplotlib inline\n",
    "x = np.linspace(-2.1, 2.1, 500)\n",
    "y = 2 - 3* x + x ** 3\n",
    "fig, ax = plt.subplots(figsize=(6, 6))\n",
    "ax.plot(x, y, lw=2)\n",
    " \n",
    "ax.set_xticks(range(-2,3,1))\n",
    "ax.set_yticks(range(1,6,1))\n",
    "ax.grid(True, which='both')\n",
    "ax.axhline(y=0, color='k')\n",
    "ax.axvline(x=0, color='k')\n",
    " "
   ]
  },
  {
   "cell_type": "code",
   "execution_count": 30,
   "metadata": {},
   "outputs": [
    {
     "data": {
      "image/png": "[encoded data removed]",
      "text/latex": [
       "$$3 x^{2} - 3$$"
      ],
      "text/plain": [
       "   2    \n",
       "3⋅x  - 3"
      ]
     },
     "execution_count": 30,
     "metadata": {},
     "output_type": "execute_result"
    }
   ],
   "source": [
    "x = symbols('x',real=True)\n",
    "F = 2 - 3 * x + x ** 3\n",
    "f = diff(F)\n",
    "f"
   ]
  },
  {
   "cell_type": "code",
   "execution_count": 31,
   "metadata": {},
   "outputs": [
    {
     "data": {
      "image/png": "[encoded data removed]",
      "text/latex": [
       "$$\\left ( 0, \\quad 0\\right )$$"
      ],
      "text/plain": [
       "(0, 0)"
      ]
     },
     "execution_count": 31,
     "metadata": {},
     "output_type": "execute_result"
    }
   ],
   "source": [
    "f.subs(x,1), F.subs(x,1)"
   ]
  },
  {
   "cell_type": "markdown",
   "metadata": {},
   "source": [
    "(1) ist wahr"
   ]
  },
  {
   "cell_type": "code",
   "execution_count": 33,
   "metadata": {},
   "outputs": [
    {
     "data": {
      "image/png": "[encoded data removed]",
      "text/latex": [
       "$$2$$"
      ],
      "text/plain": [
       "2"
      ]
     },
     "execution_count": 33,
     "metadata": {},
     "output_type": "execute_result"
    }
   ],
   "source": [
    "integrate(f,(x,0,2))"
   ]
  },
  {
   "cell_type": "markdown",
   "metadata": {},
   "source": [
    "(2) ist falsch"
   ]
  },
  {
   "cell_type": "code",
   "execution_count": 34,
   "metadata": {},
   "outputs": [
    {
     "data": {
      "image/png": "[encoded data removed]",
      "text/latex": [
       "$$\\left [ 0\\right ]$$"
      ],
      "text/plain": [
       "[0]"
      ]
     },
     "execution_count": 34,
     "metadata": {},
     "output_type": "execute_result"
    }
   ],
   "source": [
    "f1 = diff(f)\n",
    "solve(f1)"
   ]
  },
  {
   "cell_type": "markdown",
   "metadata": {},
   "source": [
    "(3) ist wahr"
   ]
  },
  {
   "cell_type": "code",
   "execution_count": 36,
   "metadata": {},
   "outputs": [
    {
     "data": {
      "image/png": "[encoded data removed]",
      "text/latex": [
       "$$-3$$"
      ],
      "text/plain": [
       "-3"
      ]
     },
     "execution_count": 36,
     "metadata": {},
     "output_type": "execute_result"
    }
   ],
   "source": [
    "f.subs(x,F.subs(x,-2))"
   ]
  },
  {
   "cell_type": "markdown",
   "metadata": {},
   "source": [
    "(4) ist falsch"
   ]
  },
  {
   "cell_type": "markdown",
   "metadata": {},
   "source": [
    "----\n",
    "(2018)"
   ]
  },
  {
   "cell_type": "code",
   "execution_count": 110,
   "metadata": {},
   "outputs": [
    {
     "data": {
      "image/png": "[encoded data removed]",
      "text/latex": [
       "$$\\left ( - \\frac{55936}{136125}, \\quad \\frac{411232}{408375}, \\quad - \\frac{743264}{1225125}, \\quad - \\frac{632416}{3675375}, \\quad \\frac{14752}{81675}, \\quad \\frac{1664}{136125}, \\quad - \\frac{37376}{3675375}\\right )$$"
      ],
      "text/plain": [
       "⎛-55936   411232  -743264   -632416   14752   1664   -37376 ⎞\n",
       "⎜───────, ──────, ────────, ────────, ─────, ──────, ───────⎟\n",
       "⎝ 136125  408375  1225125   3675375   81675  136125  3675375⎠"
      ]
     },
     "execution_count": 110,
     "metadata": {},
     "output_type": "execute_result"
    }
   ],
   "source": [
    "x, a0, a1, a2, a3, a4, a5, a6 = symbols('x a0 a1 a2 a3 a4 a5 a6 ',real=True)\n",
    "f = symbols('f', cls=Function)\n",
    "f = a0 + a1 * x + a2 * x**2 + a3 * x**3 + a4 * x**4 + a5 * x**5 + a6 * x**6 \n",
    "f1 = diff(f,x)\n",
    "f2 = diff(f1,x)\n",
    "\n",
    "e1 = Eq(f.subs(x,Rational(-7,2)),-2)\n",
    "e2 = Eq(f.subs(x,-3),0)\n",
    "e3 = Eq(f.subs(x,Rational(-3,2)),-2)\n",
    "e4 = Eq(f.subs(x,1),0)\n",
    "e5 = Eq(f.subs(x,4),0)\n",
    "e6 = Eq(f1.subs(x,Rational(-3,2)), 0)\n",
    "#e7 = Eq(f.subs(x,Rational(-1,2)),-1)\n",
    "e7 = Eq(f1.subs(x,1),0)\n",
    "\n",
    "erg, = linsolve([e1,e2,e3,e4,e5,e6,e7],[a0,a1,a2,a3,a4,a5,a6])   # unpacking\n",
    "erg"
   ]
  },
  {
   "cell_type": "code",
   "execution_count": 132,
   "metadata": {},
   "outputs": [
    {
     "data": {
      "text/plain": [
       "<matplotlib.legend.Legend at 0x2a45f8b19e8>"
      ]
     },
     "execution_count": 132,
     "metadata": {},
     "output_type": "execute_result"
    },
    {
     "data": {
      "image/png": "[encoded data removed]",
      "text/plain": [
       "<Figure size 720x432 with 1 Axes>"
      ]
     },
     "metadata": {},
     "output_type": "display_data"
    }
   ],
   "source": [
    "# f ist in der Aufgabe f'\n",
    "f = f.subs(a0,erg[0]).subs(a1,erg[1]).subs(a2,erg[2]).subs(a3,erg[3]).subs(a4,erg[4]).subs(a5,erg[5]).subs(a6,erg[6])\n",
    "F = integrate(f)\n",
    "f2 = diff(f)\n",
    "t = np.linspace(-3.8, 4.8, 500)\n",
    "y = [f.subs(x,k) for k in t]\n",
    "y0 = [F.subs(x,k) for k in t]\n",
    "y2 = [f2.subs(x,k) for k in t]\n",
    "fig, ax = plt.subplots(figsize=(10, 6))\n",
    "ax.plot(t, y2, lw=2, color=\"green\", label=\"f''\")\n",
    "ax.plot(t, y, lw=2, color=\"blue\", label=\"f'\")\n",
    "ax.plot(t, y0, lw=2, color=\"red\", label=\"f\")\n",
    "ax.set_ylim(-5, 5)\n",
    "\n",
    "ax.grid(True, which='both')\n",
    "ax.axhline(y=0, color='k')\n",
    "ax.axvline(x=0, color='k')\n",
    "ax.legend()"
   ]
  },
  {
   "cell_type": "markdown",
   "metadata": {},
   "source": [
    "(1) ist falsch"
   ]
  },
  {
   "cell_type": "code",
   "execution_count": 124,
   "metadata": {},
   "outputs": [
    {
     "data": {
      "image/png": "[encoded data removed]",
      "text/latex": [
       "$$\\left [ 2.05058918992201, \\quad 3.95842594635154\\right ]$$"
      ],
      "text/plain": [
       "[2.05058918992201, 3.95842594635154]"
      ]
     },
     "execution_count": 124,
     "metadata": {},
     "output_type": "execute_result"
    }
   ],
   "source": [
    "solve(Eq(f,0.5))"
   ]
  },
  {
   "cell_type": "markdown",
   "metadata": {},
   "source": [
    "(2) ist richtig"
   ]
  },
  {
   "cell_type": "code",
   "execution_count": 128,
   "metadata": {},
   "outputs": [
    {
     "data": {
      "image/png": "[encoded data removed]",
      "text/latex": [
       "$$\\left ( -0.597954340593816, \\quad 1.39740297807979\\right )$$"
      ],
      "text/plain": [
       "(-0.597954340593816, 1.39740297807979)"
      ]
     },
     "execution_count": 128,
     "metadata": {},
     "output_type": "execute_result"
    }
   ],
   "source": [
    "f2.subs(x,-2.9), f2.subs(x,-3.1)"
   ]
  },
  {
   "cell_type": "markdown",
   "metadata": {},
   "source": [
    "(3) ist richtig\n"
   ]
  }
 ],
 "metadata": {
  "kernelspec": {
   "display_name": "Python 3",
   "language": "python",
   "name": "python3"
  },
  "language_info": {
   "codemirror_mode": {
    "name": "ipython",
    "version": 3
   },
   "file_extension": ".py",
   "mimetype": "text/x-python",
   "name": "python",
   "nbconvert_exporter": "python",
   "pygments_lexer": "ipython3",
   "version": "3.6.5"
  }
 },
 "nbformat": 4,
 "nbformat_minor": 2
}
