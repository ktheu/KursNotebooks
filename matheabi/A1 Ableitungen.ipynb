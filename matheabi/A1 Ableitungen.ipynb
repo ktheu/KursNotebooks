{
 "cells": [
  {
   "cell_type": "markdown",
   "metadata": {},
   "source": [
    "\n",
    "### A1 Ableitungen \n",
    "\n",
    "Bilden Sie die erste Ableitung der Funktion $f$ mit\n",
    "\n",
    "(2016) $ ~~ f(x) = (5x + 1)\\cdot \\sin (x^2) $ <br>\n",
    "(2017) $ ~~ f(x) = (3 + \\cos(x))^4$ <br>\n",
    "(2018) $ ~~ f(x) = \\sqrt{x} \\cdot \\sin(x^2) $ <br>\n",
    "(2019) $ ~~ f(x) = x^4 \\cdot \\sin(3x) $\n",
    "\n"
   ]
  },
  {
   "cell_type": "code",
   "execution_count": 3,
   "metadata": {},
   "outputs": [
    {
     "data": {
      "image/png": "[encoded data removed]",
      "text/latex": [
       "$$2 x \\left(5 x + 1\\right) \\cos{\\left (x^{2} \\right )} + 5 \\sin{\\left (x^{2} \\right )}$$"
      ],
      "text/plain": [
       "                 ⎛ 2⎞        ⎛ 2⎞\n",
       "2⋅x⋅(5⋅x + 1)⋅cos⎝x ⎠ + 5⋅sin⎝x ⎠"
      ]
     },
     "execution_count": 3,
     "metadata": {},
     "output_type": "execute_result"
    }
   ],
   "source": [
    "from sympy import *\n",
    "init_printing(use_unicode=True)\n",
    "x = symbols('x',real=True)\n",
    "f = symbols('f', cls=Function)\n",
    "\n",
    "# 2016\n",
    "f = (5*x + 1) * sin(x**2)\n",
    "diff(f)"
   ]
  },
  {
   "cell_type": "code",
   "execution_count": 4,
   "metadata": {},
   "outputs": [
    {
     "data": {
      "image/png": "[encoded data removed]",
      "text/latex": [
       "$$- 4 \\left(\\cos{\\left (x \\right )} + 3\\right)^{3} \\sin{\\left (x \\right )}$$"
      ],
      "text/plain": [
       "               3       \n",
       "-4⋅(cos(x) + 3) ⋅sin(x)"
      ]
     },
     "execution_count": 4,
     "metadata": {},
     "output_type": "execute_result"
    }
   ],
   "source": [
    "# 2017\n",
    "f = (3 + cos(x))**4\n",
    "diff(f)"
   ]
  },
  {
   "cell_type": "code",
   "execution_count": 5,
   "metadata": {},
   "outputs": [
    {
     "data": {
      "image/png": "[encoded data removed]",
      "text/latex": [
       "$$2 x^{\\frac{3}{2}} \\cos{\\left (x^{2} \\right )} + \\frac{\\sin{\\left (x^{2} \\right )}}{2 \\sqrt{x}}$$"
      ],
      "text/plain": [
       "                    ⎛ 2⎞\n",
       "   3/2    ⎛ 2⎞   sin⎝x ⎠\n",
       "2⋅x   ⋅cos⎝x ⎠ + ───────\n",
       "                   2⋅√x "
      ]
     },
     "execution_count": 5,
     "metadata": {},
     "output_type": "execute_result"
    }
   ],
   "source": [
    "# 2018\n",
    "f = sqrt(x)*sin(x**2)\n",
    "diff(f)"
   ]
  },
  {
   "cell_type": "code",
   "execution_count": 6,
   "metadata": {},
   "outputs": [
    {
     "data": {
      "image/png": "[encoded data removed]",
      "text/latex": [
       "$$3 x^{4} \\cos{\\left (3 x \\right )} + 4 x^{3} \\sin{\\left (3 x \\right )}$$"
      ],
      "text/plain": [
       "   4               3         \n",
       "3⋅x ⋅cos(3⋅x) + 4⋅x ⋅sin(3⋅x)"
      ]
     },
     "execution_count": 6,
     "metadata": {},
     "output_type": "execute_result"
    }
   ],
   "source": [
    "# 2019\n",
    "f = x**4 * sin(3*x)\n",
    "diff(f)"
   ]
  },
  {
   "cell_type": "code",
   "execution_count": null,
   "metadata": {},
   "outputs": [],
   "source": []
  }
 ],
 "metadata": {
  "kernelspec": {
   "display_name": "Python 3",
   "language": "python",
   "name": "python3"
  },
  "language_info": {
   "codemirror_mode": {
    "name": "ipython",
    "version": 3
   },
   "file_extension": ".py",
   "mimetype": "text/x-python",
   "name": "python",
   "nbconvert_exporter": "python",
   "pygments_lexer": "ipython3",
   "version": "3.6.5"
  }
 },
 "nbformat": 4,
 "nbformat_minor": 2
}
