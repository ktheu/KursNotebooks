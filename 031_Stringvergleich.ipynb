{
 "cells": [
  {
   "cell_type": "markdown",
   "metadata": {},
   "source": [
    "# Vergleich von Strings, Königssuche"
   ]
  },
  {
   "cell_type": "markdown",
   "metadata": {},
   "source": [
    "#### Vergleich von Strings\n",
    "Allen Zeichen in Python ist eine Zahl zugeordnet. Diese Zahl ist der *Unicode Code Point* des Zeichens (mehr dazu im Kapitel Codierung) und kann mit der eingebauten Funktion *ord* ermittelt werden. "
   ]
  },
  {
   "cell_type": "code",
   "execution_count": 4,
   "metadata": {},
   "outputs": [
    {
     "name": "stdout",
     "output_type": "stream",
     "text": [
      "97 98 122\n"
     ]
    }
   ],
   "source": [
    "print(ord('a'),ord('b'),ord('z'))"
   ]
  },
  {
   "cell_type": "code",
   "execution_count": 6,
   "metadata": {},
   "outputs": [
    {
     "name": "stdout",
     "output_type": "stream",
     "text": [
      "65 66 90\n"
     ]
    }
   ],
   "source": [
    "print(ord('A'),ord('B'),ord('Z'))"
   ]
  },
  {
   "cell_type": "code",
   "execution_count": 7,
   "metadata": {},
   "outputs": [
    {
     "name": "stdout",
     "output_type": "stream",
     "text": [
      "48 49 57\n"
     ]
    }
   ],
   "source": [
    "print(ord('0'),ord('1'),ord('9'))"
   ]
  },
  {
   "cell_type": "code",
   "execution_count": 2,
   "metadata": {},
   "outputs": [
    {
     "name": "stdout",
     "output_type": "stream",
     "text": [
      "228 196 223 8364 32\n"
     ]
    }
   ],
   "source": [
    "print(ord('ä'),ord('Ä'),ord('ß'),ord('€'),ord(' '))"
   ]
  },
  {
   "cell_type": "markdown",
   "metadata": {},
   "source": [
    "Mit der Funktion *chr* kann zu einer Zahl das dazugehörende Zeichen ermittelt werden."
   ]
  },
  {
   "cell_type": "code",
   "execution_count": 14,
   "metadata": {},
   "outputs": [
    {
     "name": "stdout",
     "output_type": "stream",
     "text": [
      "a A €\n"
     ]
    }
   ],
   "source": [
    "print(chr(97),chr(65),chr(8364))"
   ]
  },
  {
   "cell_type": "markdown",
   "metadata": {},
   "source": [
    "Beim Vergleich von Zeichen werden die dazugehörenden ord-Zahlen verglichen. Bei diesem Vergleich sind die Kleinbuchstaben größer als die Großbuchstaben."
   ]
  },
  {
   "cell_type": "code",
   "execution_count": 16,
   "metadata": {},
   "outputs": [
    {
     "name": "stdout",
     "output_type": "stream",
     "text": [
      "True\n",
      "False\n"
     ]
    }
   ],
   "source": [
    "print('a' < 'b')\n",
    "print('a' < 'A')"
   ]
  },
  {
   "cell_type": "markdown",
   "metadata": {},
   "source": [
    "In Python können Vergleichsoperatoren verkettet werden. Dadurch können wir einfach überprüfen, ob ein Zeichen in einem Zeichenbereich liegt."
   ]
  },
  {
   "cell_type": "code",
   "execution_count": 18,
   "metadata": {},
   "outputs": [
    {
     "name": "stdout",
     "output_type": "stream",
     "text": [
      "False\n",
      "True\n"
     ]
    }
   ],
   "source": [
    "c1 = 'a'\n",
    "c2 = 'e'\n",
    "print('b' <= c1 <= 'h')\n",
    "print('b' <= c2 <= 'h')"
   ]
  },
  {
   "cell_type": "markdown",
   "metadata": {},
   "source": [
    "Beim Vergleich von Strings werden die Zeichen von links nach rechts verglichen."
   ]
  },
  {
   "cell_type": "code",
   "execution_count": 22,
   "metadata": {},
   "outputs": [
    {
     "data": {
      "text/plain": [
       "True"
      ]
     },
     "execution_count": 22,
     "metadata": {},
     "output_type": "execute_result"
    }
   ],
   "source": [
    "'aac' < 'abaaaa' "
   ]
  },
  {
   "cell_type": "code",
   "execution_count": 62,
   "metadata": {},
   "outputs": [
    {
     "data": {
      "text/plain": [
       "True"
      ]
     },
     "execution_count": 62,
     "metadata": {},
     "output_type": "execute_result"
    }
   ],
   "source": [
    "' a' < 'aa'"
   ]
  },
  {
   "cell_type": "code",
   "execution_count": 61,
   "metadata": {},
   "outputs": [
    {
     "data": {
      "text/plain": [
       "True"
      ]
     },
     "execution_count": 61,
     "metadata": {},
     "output_type": "execute_result"
    }
   ],
   "source": [
    "'ab' < 'aba'"
   ]
  },
  {
   "cell_type": "code",
   "execution_count": 28,
   "metadata": {},
   "outputs": [
    {
     "data": {
      "text/plain": [
       "False"
      ]
     },
     "execution_count": 28,
     "metadata": {},
     "output_type": "execute_result"
    }
   ],
   "source": [
    "'hallo' < 'Hallo'"
   ]
  },
  {
   "cell_type": "markdown",
   "metadata": {},
   "source": [
    "#### Die Königssuche\n",
    "Wenn wir in einer Sammlung von Dingen ein durch Vergleich herausragendes Element (den König) finden wollen, nutzen wir folgenden Algorithmus:\n",
    "\n",
    "``` Wir sagen zum erstbesten: du bist der König. Dann laufen wir durch die Sammlung und lassen uns eines besseren belehren.```\n",
    "\n"
   ]
  },
  {
   "cell_type": "code",
   "execution_count": 54,
   "metadata": {},
   "outputs": [],
   "source": [
    "def maxZahl(a,b,c,d):\n",
    "    '''\n",
    "    a,b,c,d: int oder float\n",
    "    returns: int oder float, das Maximum der 4 Zahlen\n",
    "    Hinweis: Die Funktion darf die eingebaute Python-Funktion max nicht benutzen.\n",
    "    '''\n",
    "    king = a\n",
    "    if b > king: king = b\n",
    "    if c > king: king = c\n",
    "    if d > king: king = d\n",
    "    return king  "
   ]
  },
  {
   "cell_type": "code",
   "execution_count": 55,
   "metadata": {},
   "outputs": [
    {
     "name": "stdout",
     "output_type": "stream",
     "text": [
      "12\n"
     ]
    }
   ],
   "source": [
    "print(maxZahl(5,-2,12,6))"
   ]
  },
  {
   "cell_type": "code",
   "execution_count": 35,
   "metadata": {},
   "outputs": [],
   "source": [
    "def maxCode(s):\n",
    "    '''\n",
    "    s: String\n",
    "    return: c, das Zeichen in s mit der höchsten Codierung (=ord-Zahl)\n",
    "    '''\n",
    "    king = s[0]\n",
    "    for c in s:\n",
    "        if ord(c) > ord(king):\n",
    "            king = c\n",
    "    return king"
   ]
  },
  {
   "cell_type": "code",
   "execution_count": 37,
   "metadata": {},
   "outputs": [
    {
     "data": {
      "text/plain": [
       "'z'"
      ]
     },
     "execution_count": 37,
     "metadata": {},
     "output_type": "execute_result"
    }
   ],
   "source": [
    "maxCode('abzZy?')"
   ]
  },
  {
   "cell_type": "code",
   "execution_count": 57,
   "metadata": {},
   "outputs": [],
   "source": [
    "def minZahl(s):\n",
    "    '''\n",
    "    s String mit Ziffern, mindestens Länge 2\n",
    "    returns k: int, die kleinste Zahl, die als zweistelliger \n",
    "       Teilstring in s vorhanden ist.\n",
    "    '''\n",
    "    king = int(s[0:2])\n",
    "    for i in range(1,len(s)-1):\n",
    "        teil = s[i:i+2]\n",
    "        if int(teil) < king:\n",
    "            king = int(teil)\n",
    "    return king"
   ]
  },
  {
   "cell_type": "code",
   "execution_count": 58,
   "metadata": {},
   "outputs": [
    {
     "data": {
      "text/plain": [
       "2"
      ]
     },
     "execution_count": 58,
     "metadata": {},
     "output_type": "execute_result"
    }
   ],
   "source": [
    "minZahl('1204290291207')"
   ]
  }
 ],
 "metadata": {
  "kernelspec": {
   "display_name": "Python 3",
   "language": "python",
   "name": "python3"
  },
  "language_info": {
   "codemirror_mode": {
    "name": "ipython",
    "version": 3
   },
   "file_extension": ".py",
   "mimetype": "text/x-python",
   "name": "python",
   "nbconvert_exporter": "python",
   "pygments_lexer": "ipython3",
   "version": "3.6.5"
  }
 },
 "nbformat": 4,
 "nbformat_minor": 2
}
