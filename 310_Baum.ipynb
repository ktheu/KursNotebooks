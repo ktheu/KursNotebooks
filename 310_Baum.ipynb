{
 "cells": [
  {
   "cell_type": "code",
   "execution_count": 2,
   "metadata": {},
   "outputs": [],
   "source": [
    "class Knoten:\n",
    "    def __init__(self,x = None):\n",
    "        self.inhalt = x\n",
    "        self.links = None\n",
    "        self.rechts = None\n",
    "\n",
    "    def __str__(self):\n",
    "        return self.inhalt.__str__()"
   ]
  },
  {
   "cell_type": "code",
   "execution_count": 3,
   "metadata": {},
   "outputs": [
    {
     "name": "stdout",
     "output_type": "stream",
     "text": [
      "None\n",
      "A\n"
     ]
    }
   ],
   "source": [
    "k1 = Knoten()\n",
    "k2 = Knoten('A')\n",
    "print(k1)\n",
    "print(k2)"
   ]
  },
  {
   "cell_type": "code",
   "execution_count": 4,
   "metadata": {},
   "outputs": [],
   "source": [
    "class Baum:\n",
    "    def __init__(self,x = None,l = None,r = None):\n",
    "        self.wurzel = None\n",
    "        if x is not None:\n",
    "           self.wurzel = Knoten(x)\n",
    "        if l is not None:\n",
    "            self.wurzel.links = l.wurzel\n",
    "        if r is not None:\n",
    "            self.wurzel.rechts = r.wurzel\n",
    "\n",
    "    def empty(self):\n",
    "        return self.wurzel is None\n",
    "\n",
    "    def value(self):\n",
    "        if self.empty(): raise RuntimeError(\"Fehler: Baum ist leer\")\n",
    "        return self.wurzel.inhalt\n",
    "\n",
    "    def left(self):\n",
    "        if self.empty(): raise RuntimeError(\"Fehler: Baum ist leer\")\n",
    "        temp = Baum()\n",
    "        temp.wurzel = self.wurzel.links\n",
    "        return temp\n",
    "\n",
    "    def right(self):\n",
    "        if self.empty(): raise RuntimeError(\"Fehler: Baum ist leer\")\n",
    "        temp = Baum()\n",
    "        temp.wurzel = self.wurzel.rechts\n",
    "        return temp\n",
    "\n",
    "    def __str__(self):\n",
    "        if self.empty(): return \"\"\n",
    "        s = self.baumString(0)\n",
    "        if len(s) > 0:\n",
    "            s = s[:-1]\n",
    "        return s\n",
    "\n",
    "    def baumString(self,tiefe):\n",
    "        s = \"\"\n",
    "        punkte = \".\" * tiefe\n",
    "        if not self.right().empty():\n",
    "            s = s + self.right().baumString(tiefe + 1)\n",
    "        if self.value() is None:\n",
    "            s = s + punkte + \"leer\\n\"\n",
    "        else:\n",
    "            s = s + punkte + str(self.value().__str__()) + \"\\n\"\n",
    "        if not self.left().empty():\n",
    "            s = s + self.left().baumString(tiefe + 1)\n",
    "        return s"
   ]
  },
  {
   "cell_type": "markdown",
   "metadata": {},
   "source": [
    "Erzeuge folgenden Baum:"
   ]
  },
  {
   "cell_type": "markdown",
   "metadata": {},
   "source": [
    "![text](img/bau"
   ]
  },
  {
   "cell_type": "code",
   "execution_count": 6,
   "metadata": {},
   "outputs": [
    {
     "name": "stdout",
     "output_type": "stream",
     "text": [
      "d\n",
      "..c\n",
      ".a\n",
      "..b\n"
     ]
    }
   ],
   "source": [
    "a = Baum('a',Baum('b'),Baum('c'))\n",
    "d = Baum('d',a,None)   \n",
    "print(d)"
   ]
  },
  {
   "cell_type": "code",
   "execution_count": null,
   "metadata": {},
   "outputs": [],
   "source": []
  }
 ],
 "metadata": {
  "kernelspec": {
   "display_name": "Python 3",
   "language": "python",
   "name": "python3"
  },
  "language_info": {
   "codemirror_mode": {
    "name": "ipython",
    "version": 3
   },
   "file_extension": ".py",
   "mimetype": "text/x-python",
   "name": "python",
   "nbconvert_exporter": "python",
   "pygments_lexer": "ipython3",
   "version": "3.6.5"
  }
 },
 "nbformat": 4,
 "nbformat_minor": 2
}
