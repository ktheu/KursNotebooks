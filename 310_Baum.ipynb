{
 "cells": [
  {
   "cell_type": "markdown",
   "metadata": {},
   "source": [
    "### Knoten und Baum"
   ]
  },
  {
   "cell_type": "code",
   "execution_count": 6,
   "metadata": {},
   "outputs": [],
   "source": [
    "class Knoten:\n",
    "    def __init__(self,x = None):\n",
    "        self.inhalt = x\n",
    "        self.links = None\n",
    "        self.rechts = None\n",
    "\n",
    "    def __str__(self):\n",
    "        return self.inhalt.__str__()"
   ]
  },
  {
   "cell_type": "code",
   "execution_count": 7,
   "metadata": {},
   "outputs": [
    {
     "name": "stdout",
     "output_type": "stream",
     "text": [
      "None\n",
      "A\n"
     ]
    }
   ],
   "source": [
    "k1 = Knoten()\n",
    "k2 = Knoten('A')\n",
    "print(k1)\n",
    "print(k2)"
   ]
  },
  {
   "cell_type": "code",
   "execution_count": 8,
   "metadata": {},
   "outputs": [],
   "source": [
    "class Baum:\n",
    "    def __init__(self,x = None,l = None,r = None):\n",
    "        self.wurzel = None\n",
    "        if x is not None:\n",
    "            self.wurzel = Knoten(x)\n",
    "        if l is not None:\n",
    "            self.wurzel.links = l.wurzel\n",
    "        if r is not None:\n",
    "            self.wurzel.rechts = r.wurzel\n",
    "\n",
    "    def empty(self):\n",
    "        return self.wurzel is None\n",
    "\n",
    "    def value(self):\n",
    "        if self.empty(): raise RuntimeError(\"Fehler: Baum ist leer\")\n",
    "        return self.wurzel.inhalt\n",
    "\n",
    "    def left(self):\n",
    "        if self.empty(): raise RuntimeError(\"Fehler: Baum ist leer\")\n",
    "        temp = Baum()\n",
    "        temp.wurzel = self.wurzel.links\n",
    "        return temp\n",
    "\n",
    "    def right(self):\n",
    "        if self.empty(): raise RuntimeError(\"Fehler: Baum ist leer\")\n",
    "        temp = Baum()\n",
    "        temp.wurzel = self.wurzel.rechts\n",
    "        return temp\n",
    "\n",
    "    def __str__(self):\n",
    "        if self.empty(): return \"\"\n",
    "        s = self.baumString(0)\n",
    "        if len(s) > 0:\n",
    "            s = s[:-1]\n",
    "        return s\n",
    "\n",
    "    def baumString(self,tiefe):\n",
    "        s = \"\"\n",
    "        punkte = \".\" * tiefe\n",
    "        if not self.right().empty():\n",
    "            s = s + self.right().baumString(tiefe + 1)\n",
    "        if self.value() is None:\n",
    "            s = s + punkte + \"leer\\n\"\n",
    "        else:\n",
    "            s = s + punkte + str(self.value().__str__()) + \"\\n\"\n",
    "        if not self.left().empty():\n",
    "            s = s + self.left().baumString(tiefe + 1)\n",
    "        return s"
   ]
  },
  {
   "cell_type": "markdown",
   "metadata": {},
   "source": [
    "### Beispiel"
   ]
  },
  {
   "cell_type": "markdown",
   "metadata": {},
   "source": [
    "<img src=\"img/baum1.png\"/>"
   ]
  },
  {
   "cell_type": "code",
   "execution_count": 9,
   "metadata": {},
   "outputs": [
    {
     "name": "stdout",
     "output_type": "stream",
     "text": [
      "d\n",
      "..c\n",
      ".a\n",
      "..b\n"
     ]
    }
   ],
   "source": [
    "a = Baum('a',Baum('b'),Baum('c'))\n",
    "d = Baum('d',a)   \n",
    "print(d)"
   ]
  },
  {
   "cell_type": "markdown",
   "metadata": {},
   "source": [
    "### Rekursive Traversierung\n"
   ]
  },
  {
   "cell_type": "markdown",
   "metadata": {},
   "source": [
    "<img src=\"img/baum2.png\"/>"
   ]
  },
  {
   "cell_type": "code",
   "execution_count": 10,
   "metadata": {},
   "outputs": [
    {
     "name": "stdout",
     "output_type": "stream",
     "text": [
      "...14\n",
      "..10\n",
      "...12\n",
      ".6\n",
      "...23\n",
      "..9\n",
      "1\n",
      "..7\n",
      "...13\n",
      ".14\n",
      "...12\n",
      "..3\n",
      "...11\n"
     ]
    }
   ],
   "source": [
    "b3 = Baum(3,Baum(11),Baum(12))\n",
    "b7 = Baum(7,Baum(13))\n",
    "b14 = Baum(14,b3,b7)\n",
    "b9 = Baum(9,None,Baum(23))\n",
    "b10 = Baum(10,Baum(12),Baum(14))\n",
    "b6 = Baum(6,b9,b10)\n",
    "b1 = Baum(1,b14,b6)\n",
    "print(b1)"
   ]
  },
  {
   "cell_type": "code",
   "execution_count": 11,
   "metadata": {},
   "outputs": [],
   "source": [
    "def inorder(b):\n",
    "    if b.empty(): return\n",
    "    inorder(b.left())\n",
    "    print(b.value(),end=\" \")\n",
    "    inorder(b.right())\n",
    "\n",
    "def preorder(b):\n",
    "    if b.empty(): return\n",
    "    print(b.value(),end=\" \")\n",
    "    preorder(b.left())\n",
    "    preorder(b.right())\n",
    "\n",
    "def postorder(b):\n",
    "    if b.empty(): return\n",
    "    postorder(b.left())\n",
    "    postorder(b.right())\n",
    "    print(b.value(),end=\" \") "
   ]
  },
  {
   "cell_type": "code",
   "execution_count": 12,
   "metadata": {},
   "outputs": [
    {
     "name": "stdout",
     "output_type": "stream",
     "text": [
      "11 3 12 14 13 7 1 9 23 6 12 10 14 "
     ]
    }
   ],
   "source": [
    "inorder(b1)"
   ]
  },
  {
   "cell_type": "code",
   "execution_count": 13,
   "metadata": {},
   "outputs": [
    {
     "name": "stdout",
     "output_type": "stream",
     "text": [
      "1 14 3 11 12 7 13 6 9 23 10 12 14 "
     ]
    }
   ],
   "source": [
    "preorder(b1)"
   ]
  },
  {
   "cell_type": "code",
   "execution_count": 14,
   "metadata": {},
   "outputs": [
    {
     "name": "stdout",
     "output_type": "stream",
     "text": [
      "11 12 3 13 7 14 23 9 12 14 10 6 1 "
     ]
    }
   ],
   "source": [
    "postorder(b1)"
   ]
  },
  {
   "cell_type": "markdown",
   "metadata": {},
   "source": [
    "### Tiefensuche"
   ]
  },
  {
   "cell_type": "code",
   "execution_count": 19,
   "metadata": {},
   "outputs": [],
   "source": [
    "from adt import Keller\n",
    "def tiefensuche(baum):\n",
    "    k = Keller()\n",
    "    if not baum.empty():\n",
    "        k.push(baum)\n",
    "    while not k.empty():\n",
    "        b = k.top()\n",
    "        k.pop()\n",
    "        while not b.empty():\n",
    "            print(b.value(),end=' ')\n",
    "            if not b.right().empty():\n",
    "                k.push(b.right())\n",
    "            b = b.left()"
   ]
  },
  {
   "cell_type": "code",
   "execution_count": 20,
   "metadata": {},
   "outputs": [
    {
     "name": "stdout",
     "output_type": "stream",
     "text": [
      "1 14 3 11 12 7 13 6 9 23 10 12 14 "
     ]
    }
   ],
   "source": [
    "tiefensuche(b1)"
   ]
  },
  {
   "cell_type": "markdown",
   "metadata": {},
   "source": [
    "### Breitensuche"
   ]
  },
  {
   "cell_type": "code",
   "execution_count": 21,
   "metadata": {},
   "outputs": [],
   "source": [
    "from adt import Schlange\n",
    "def breitensuche(baum):\n",
    "    s = Schlange()\n",
    "    if not baum.empty():\n",
    "        s.enq(baum)\n",
    "    while not s.empty():\n",
    "        b = s.front()\n",
    "        s.deq()\n",
    "        print(b.value(),end=' ')\n",
    "        if not b.left().empty():\n",
    "            s.enq(b.left())\n",
    "        if not b.right().empty():\n",
    "            s.enq(b.right())"
   ]
  },
  {
   "cell_type": "code",
   "execution_count": 22,
   "metadata": {},
   "outputs": [
    {
     "name": "stdout",
     "output_type": "stream",
     "text": [
      "1 14 6 3 7 9 10 11 12 13 23 12 14 "
     ]
    }
   ],
   "source": [
    "breitensuche(b1)"
   ]
  },
  {
   "cell_type": "markdown",
   "metadata": {},
   "source": [
    "#### Beispiel: Rechteckbaum\n",
    "Es wird ein Rechteck gezeichnet. \n",
    "Solange die längere Seite des Rechtecks nicht zu klein ist, wird entlang dieser Seite der Platz zufällig für zwei Kind-Rechtecke aufgeteilt. Diese Kinder erzeugen weiter Kind-Rechtecke. Dadurch entsteht ein binärer Baum\n",
    "von Rechtecken. Dieser Baum wird mit verschiedenen Traversierungen durchlaufen.\n",
    " \n"
   ]
  },
  {
   "cell_type": "code",
   "execution_count": null,
   "metadata": {},
   "outputs": [],
   "source": [
    "import random\n",
    "from turtle import Turtle, Screen\n",
    "from collections import deque\n",
    "\n",
    "class Rechteck:\n",
    "\n",
    "    MARGIN = 5\n",
    "    MIN_GROESSE = 2\n",
    "    COLORS = [\"red\", \"white\", \"yellow\", \"green\", \"blue\",\n",
    "        \"orange\", \"brown\", \"pink\", \"gray\", \"violet\"]\n",
    "\n",
    "    def __init__(self,x,y,breite,hoehe):\n",
    "        self.x = x\n",
    "        self.y = y\n",
    "        self.breite = breite\n",
    "        self.hoehe = hoehe\n",
    "        self.farbe = random.choice(Rechteck.COLORS)\n",
    "        self.kind1 = None\n",
    "        self.kind2 = None\n",
    "\n",
    "    def displayPreorder(self,t):\n",
    "        '''\n",
    "        t: Turtle, die das Rechteck zeichnet\n",
    "        '''\n",
    "        t.up()\n",
    "        t.color(self.farbe)\n",
    "        t.goto(self.x,self.y)\n",
    "        t.setheading(0)\n",
    "        t.down()\n",
    "        for i in range(2):\n",
    "            t.fd(self.breite)\n",
    "            t.right(90)\n",
    "            t.fd(self.hoehe)\n",
    "            t.right(90)\n",
    "        if self.kind1 != None:\n",
    "            self.kind1.displayPreorder(t)\n",
    "        if self.kind2 != None:\n",
    "            self.kind2.displayPreorder(t)\n",
    "\n",
    "    def displayPostorder(self,t):\n",
    "        '''\n",
    "        t: Turtle, die das Rechteck zeichnet\n",
    "        '''\n",
    "        if self.kind1 != None:\n",
    "            self.kind1.displayPostorder(t)\n",
    "\n",
    "        if self.kind2 != None:\n",
    "            self.kind2.displayPostorder(t)\n",
    "            \n",
    "        t.up()\n",
    "        t.color(self.farbe)\n",
    "        t.goto(self.x,self.y)\n",
    "        t.setheading(0)\n",
    "        t.down()\n",
    "        for i in range(2):\n",
    "            t.fd(self.breite)\n",
    "            t.right(90)\n",
    "            t.fd(self.hoehe)\n",
    "            t.right(90)\n",
    "\n",
    "    def displayInorder(self,t):\n",
    "        '''\n",
    "        t: Turtle, die das Rechteck zeichnet\n",
    "        '''\n",
    "        if self.kind1 != None:\n",
    "            self.kind1.displayInorder(t)\n",
    "        t.up()\n",
    "        t.color(self.farbe)\n",
    "        t.goto(self.x,self.y)\n",
    "        t.setheading(0)\n",
    "        t.down()\n",
    "        for i in range(2):\n",
    "            t.fd(self.breite)\n",
    "            t.right(90)\n",
    "            t.fd(self.hoehe)\n",
    "            t.right(90)\n",
    "        if self.kind2 != None:\n",
    "            self.kind2.displayInorder(t)\n",
    "            \n",
    "    def displayBreitensuche(self,t):\n",
    "        q = deque([self])\n",
    "        while q:\n",
    "            r = q.popleft()\n",
    "            t.up()\n",
    "            t.color(r.farbe)\n",
    "            t.goto(r.x,r.y)\n",
    "            t.setheading(0)\n",
    "            t.down()\n",
    "            for i in range(2):\n",
    "                t.fd(r.breite)\n",
    "                t.right(90)\n",
    "                t.fd(r.hoehe)\n",
    "                t.right(90)\n",
    "            \n",
    "            if r.kind1 != None:\n",
    "                q.append(r.kind1)\n",
    "                        \n",
    "            if r.kind2 != None:\n",
    "                q.append(r.kind2)\n",
    "\n",
    "    def erzeugeKinder(self):\n",
    "\n",
    "        maxBreite = self.breite - 3 * Rechteck.MARGIN - Rechteck.MIN_GROESSE;\n",
    "        maxHoehe  = self.hoehe - 3 * Rechteck.MARGIN - Rechteck.MIN_GROESSE;\n",
    "\n",
    "        if maxBreite < Rechteck.MIN_GROESSE or maxHoehe < Rechteck.MIN_GROESSE: return\n",
    "\n",
    "        if self.breite >= self.hoehe:\n",
    "\n",
    "          breite1 = random.uniform(Rechteck.MIN_GROESSE, maxBreite);\n",
    "          hoehe1 = self.hoehe - 2 * Rechteck.MARGIN;\n",
    "          breite2 = self.breite - breite1 - (3 * Rechteck.MARGIN);\n",
    "          hoehe2 = hoehe1;\n",
    "\n",
    "          x1 = self.x + Rechteck.MARGIN;\n",
    "          y1 = self.y - Rechteck.MARGIN;\n",
    "          x2 = self.x + 2*Rechteck.MARGIN + breite1;\n",
    "          y2 = self.y - Rechteck.MARGIN;\n",
    "\n",
    "        else:\n",
    "\n",
    "          hoehe1 = random.uniform(Rechteck.MIN_GROESSE, maxHoehe);\n",
    "          breite1 = self.breite - 2 * Rechteck.MARGIN;\n",
    "          hoehe2 = self.hoehe - hoehe1 - (3 * Rechteck.MARGIN);\n",
    "          breite2 = breite1;\n",
    "\n",
    "          x1 = self.x + Rechteck.MARGIN;\n",
    "          y1 = self.y - Rechteck.MARGIN;\n",
    "          x2 = self.x + Rechteck.MARGIN;\n",
    "          y2 = self.y - hoehe1 - 2 * Rechteck.MARGIN;\n",
    "\n",
    "\n",
    "        self.kind1 =  Rechteck(x1, y1, breite1, hoehe1);\n",
    "        self.kind2 =  Rechteck(x2, y2, breite2, hoehe2);\n",
    "\n",
    "        self.kind1.erzeugeKinder();\n",
    "        self.kind2.erzeugeKinder();\n",
    "\n",
    "\n",
    "screen = Screen()\n",
    "screen.setup(600,600,startx=50,starty=50)\n",
    "screen.title('Rechteckbaum')\n",
    "\n",
    "t = Turtle()\n",
    "t.hideturtle()\n",
    "t.speed(0)    # speed(3) für langsames zeichnen\n",
    "\n",
    "r = Rechteck(-200,200,400,400)\n",
    "r.erzeugeKinder()\n",
    "\n",
    "screen.bgcolor('black')\n",
    "r.displayPreorder(t)\n",
    "\n",
    "screen.clear()\n",
    "screen.bgcolor('black')\n",
    "r.displayInorder(t)\n",
    "\n",
    "screen.clear()\n",
    "screen.bgcolor('black')\n",
    "r.displayPostorder(t)\n",
    "\n",
    "screen.clear()\n",
    "screen.bgcolor('black')\n",
    "r.displayBreitensuche(t)\n"
   ]
  }
 ],
 "metadata": {
  "kernelspec": {
   "display_name": "Python 3",
   "language": "python",
   "name": "python3"
  },
  "language_info": {
   "codemirror_mode": {
    "name": "ipython",
    "version": 3
   },
   "file_extension": ".py",
   "mimetype": "text/x-python",
   "name": "python",
   "nbconvert_exporter": "python",
   "pygments_lexer": "ipython3",
   "version": "3.7.4"
  }
 },
 "nbformat": 4,
 "nbformat_minor": 4
}
