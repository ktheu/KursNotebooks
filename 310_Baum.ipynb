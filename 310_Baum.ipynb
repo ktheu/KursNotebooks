{
 "cells": [
  {
   "cell_type": "markdown",
   "metadata": {},
   "source": [
    "### Knoten und Baum"
   ]
  },
  {
   "cell_type": "code",
   "execution_count": 6,
   "metadata": {},
   "outputs": [],
   "source": [
    "class Knoten:\n",
    "    def __init__(self,x = None):\n",
    "        self.inhalt = x\n",
    "        self.links = None\n",
    "        self.rechts = None\n",
    "\n",
    "    def __str__(self):\n",
    "        return self.inhalt.__str__()"
   ]
  },
  {
   "cell_type": "code",
   "execution_count": 7,
   "metadata": {},
   "outputs": [
    {
     "name": "stdout",
     "output_type": "stream",
     "text": [
      "None\n",
      "A\n"
     ]
    }
   ],
   "source": [
    "k1 = Knoten()\n",
    "k2 = Knoten('A')\n",
    "print(k1)\n",
    "print(k2)"
   ]
  },
  {
   "cell_type": "code",
   "execution_count": 8,
   "metadata": {},
   "outputs": [],
   "source": [
    "class Baum:\n",
    "    def __init__(self,x = None,l = None,r = None):\n",
    "        self.wurzel = None\n",
    "        if x is not None:\n",
    "           self.wurzel = Knoten(x)\n",
    "        if l is not None:\n",
    "            self.wurzel.links = l.wurzel\n",
    "        if r is not None:\n",
    "            self.wurzel.rechts = r.wurzel\n",
    "\n",
    "    def empty(self):\n",
    "        return self.wurzel is None\n",
    "\n",
    "    def value(self):\n",
    "        if self.empty(): raise RuntimeError(\"Fehler: Baum ist leer\")\n",
    "        return self.wurzel.inhalt\n",
    "\n",
    "    def left(self):\n",
    "        if self.empty(): raise RuntimeError(\"Fehler: Baum ist leer\")\n",
    "        temp = Baum()\n",
    "        temp.wurzel = self.wurzel.links\n",
    "        return temp\n",
    "\n",
    "    def right(self):\n",
    "        if self.empty(): raise RuntimeError(\"Fehler: Baum ist leer\")\n",
    "        temp = Baum()\n",
    "        temp.wurzel = self.wurzel.rechts\n",
    "        return temp\n",
    "\n",
    "    def __str__(self):\n",
    "        if self.empty(): return \"\"\n",
    "        s = self.baumString(0)\n",
    "        if len(s) > 0:\n",
    "            s = s[:-1]\n",
    "        return s\n",
    "\n",
    "    def baumString(self,tiefe):\n",
    "        s = \"\"\n",
    "        punkte = \".\" * tiefe\n",
    "        if not self.right().empty():\n",
    "            s = s + self.right().baumString(tiefe + 1)\n",
    "        if self.value() is None:\n",
    "            s = s + punkte + \"leer\\n\"\n",
    "        else:\n",
    "            s = s + punkte + str(self.value().__str__()) + \"\\n\"\n",
    "        if not self.left().empty():\n",
    "            s = s + self.left().baumString(tiefe + 1)\n",
    "        return s"
   ]
  },
  {
   "cell_type": "markdown",
   "metadata": {},
   "source": [
    "### Beispiel"
   ]
  },
  {
   "cell_type": "markdown",
   "metadata": {},
   "source": [
    "<img src=\"img/baum1.png\"/>"
   ]
  },
  {
   "cell_type": "code",
   "execution_count": 9,
   "metadata": {},
   "outputs": [
    {
     "name": "stdout",
     "output_type": "stream",
     "text": [
      "d\n",
      "..c\n",
      ".a\n",
      "..b\n"
     ]
    }
   ],
   "source": [
    "a = Baum('a',Baum('b'),Baum('c'))\n",
    "d = Baum('d',a)   \n",
    "print(d)"
   ]
  },
  {
   "cell_type": "markdown",
   "metadata": {},
   "source": [
    "### Rekursive Traversierung\n"
   ]
  },
  {
   "cell_type": "markdown",
   "metadata": {},
   "source": [
    "<img src=\"img/baum2.png\"/>"
   ]
  },
  {
   "cell_type": "code",
   "execution_count": 10,
   "metadata": {},
   "outputs": [
    {
     "name": "stdout",
     "output_type": "stream",
     "text": [
      "...14\n",
      "..10\n",
      "...12\n",
      ".6\n",
      "...23\n",
      "..9\n",
      "1\n",
      "..7\n",
      "...13\n",
      ".14\n",
      "...12\n",
      "..3\n",
      "...11\n"
     ]
    }
   ],
   "source": [
    "b3 = Baum(3,Baum(11),Baum(12))\n",
    "b7 = Baum(7,Baum(13))\n",
    "b14 = Baum(14,b3,b7)\n",
    "b9 = Baum(9,None,Baum(23))\n",
    "b10 = Baum(10,Baum(12),Baum(14))\n",
    "b6 = Baum(6,b9,b10)\n",
    "b1 = Baum(1,b14,b6)\n",
    "print(b1)"
   ]
  },
  {
   "cell_type": "code",
   "execution_count": 11,
   "metadata": {},
   "outputs": [],
   "source": [
    "def inorder(b):\n",
    "    if b.empty(): return\n",
    "    inorder(b.left())\n",
    "    print(b.value(),end=\" \")\n",
    "    inorder(b.right())\n",
    "\n",
    "def preorder(b):\n",
    "    if b.empty(): return\n",
    "    print(b.value(),end=\" \")\n",
    "    preorder(b.left())\n",
    "    preorder(b.right())\n",
    "\n",
    "def postorder(b):\n",
    "    if b.empty(): return\n",
    "    postorder(b.left())\n",
    "    postorder(b.right())\n",
    "    print(b.value(),end=\" \") "
   ]
  },
  {
   "cell_type": "code",
   "execution_count": 12,
   "metadata": {},
   "outputs": [
    {
     "name": "stdout",
     "output_type": "stream",
     "text": [
      "11 3 12 14 13 7 1 9 23 6 12 10 14 "
     ]
    }
   ],
   "source": [
    "inorder(b1)"
   ]
  },
  {
   "cell_type": "code",
   "execution_count": 13,
   "metadata": {},
   "outputs": [
    {
     "name": "stdout",
     "output_type": "stream",
     "text": [
      "1 14 3 11 12 7 13 6 9 23 10 12 14 "
     ]
    }
   ],
   "source": [
    "preorder(b1)"
   ]
  },
  {
   "cell_type": "code",
   "execution_count": 14,
   "metadata": {},
   "outputs": [
    {
     "name": "stdout",
     "output_type": "stream",
     "text": [
      "11 12 3 13 7 14 23 9 12 14 10 6 1 "
     ]
    }
   ],
   "source": [
    "postorder(b1)"
   ]
  },
  {
   "cell_type": "markdown",
   "metadata": {},
   "source": [
    "### Tiefensuche"
   ]
  },
  {
   "cell_type": "code",
   "execution_count": 19,
   "metadata": {},
   "outputs": [],
   "source": [
    "from adt import Keller\n",
    "def tiefensuche(baum):\n",
    "    k = Keller()\n",
    "    if not baum.empty():\n",
    "        k.push(baum)\n",
    "    while not k.empty():\n",
    "        b = k.top()\n",
    "        k.pop()\n",
    "        while not b.empty():\n",
    "            print(b.value(),end=' ')\n",
    "            if not b.right().empty():\n",
    "                k.push(b.right())\n",
    "            b = b.left()"
   ]
  },
  {
   "cell_type": "code",
   "execution_count": 20,
   "metadata": {},
   "outputs": [
    {
     "name": "stdout",
     "output_type": "stream",
     "text": [
      "1 14 3 11 12 7 13 6 9 23 10 12 14 "
     ]
    }
   ],
   "source": [
    "tiefensuche(b1)"
   ]
  },
  {
   "cell_type": "markdown",
   "metadata": {},
   "source": [
    "### Breitensuche"
   ]
  },
  {
   "cell_type": "code",
   "execution_count": 21,
   "metadata": {},
   "outputs": [],
   "source": [
    "from adt import Schlange\n",
    "def breitensuche(baum):\n",
    "    s = Schlange()\n",
    "    if not baum.empty():\n",
    "        s.enq(baum)\n",
    "    while not s.empty():\n",
    "        b = s.front()\n",
    "        s.deq()\n",
    "        print(b.value(),end=' ')\n",
    "        if not b.left().empty():\n",
    "            s.enq(b.left())\n",
    "        if not b.right().empty():\n",
    "            s.enq(b.right())"
   ]
  },
  {
   "cell_type": "code",
   "execution_count": 22,
   "metadata": {},
   "outputs": [
    {
     "name": "stdout",
     "output_type": "stream",
     "text": [
      "1 14 6 3 7 9 10 11 12 13 23 12 14 "
     ]
    }
   ],
   "source": [
    "breitensuche(b1)"
   ]
  }
 ],
 "metadata": {
  "kernelspec": {
   "display_name": "Python 3",
   "language": "python",
   "name": "python3"
  },
  "language_info": {
   "codemirror_mode": {
    "name": "ipython",
    "version": 3
   },
   "file_extension": ".py",
   "mimetype": "text/x-python",
   "name": "python",
   "nbconvert_exporter": "python",
   "pygments_lexer": "ipython3",
   "version": "3.6.5"
  }
 },
 "nbformat": 4,
 "nbformat_minor": 2
}
