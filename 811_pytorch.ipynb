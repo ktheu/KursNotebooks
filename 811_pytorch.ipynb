{
 "cells": [
  {
   "cell_type": "markdown",
   "metadata": {},
   "source": [
    "## Pytorch\n",
    "\n"
   ]
  },
  {
   "cell_type": "code",
   "execution_count": 1,
   "metadata": {},
   "outputs": [],
   "source": [
    "import torch\n",
    "import torch.optim as optim\n",
    "import torch.nn.functional as F\n",
    "import torch.nn as nn\n",
    "import numpy as np"
   ]
  },
  {
   "cell_type": "markdown",
   "metadata": {},
   "source": [
    "#### OR-Funktion\n",
    "\n",
    "Ein Netz, bestehend aus einem Neuron mit Sigmoid-Aktivierung \n"
   ]
  },
  {
   "cell_type": "code",
   "execution_count": 19,
   "metadata": {},
   "outputs": [],
   "source": [
    "class Net(nn.Module):\n",
    "    def __init__(self):\n",
    "        super().__init__()\n",
    "        self.fc1 = nn.Linear(2,1)\n",
    " \n",
    "    def forward(self, t):\n",
    "        t = self.fc1(t)\n",
    "        t = torch.sigmoid(t)\n",
    "        return t"
   ]
  },
  {
   "cell_type": "code",
   "execution_count": 35,
   "metadata": {},
   "outputs": [
    {
     "data": {
      "text/plain": [
       "tensor([[[0.2083]],\n",
       "\n",
       "        [[0.8752]],\n",
       "\n",
       "        [[0.8768]],\n",
       "\n",
       "        [[0.9948]]], grad_fn=<SigmoidBackward>)"
      ]
     },
     "execution_count": 35,
     "metadata": {},
     "output_type": "execute_result"
    }
   ],
   "source": [
    "net = Net()\n",
    "x = torch.Tensor([[0,0],[0,1],[1,0],[1,1]]).reshape(4,1,2)\n",
    "labels = torch.Tensor([0,1,1,1]).reshape(4,1,1)\n",
    "\n",
    "optimizer = optim.SGD(net.parameters(), lr=0.1)\n",
    "loss_fn = torch.nn.MSELoss(reduction='mean')\n",
    "\n",
    "for epoch in range(2000):\n",
    "        outputs = net(x)\n",
    "        loss = loss_fn(outputs, labels)\n",
    "        loss.backward()\n",
    "        optimizer.step()\n",
    "        optimizer.zero_grad()\n",
    "            \n",
    "net(x)"
   ]
  },
  {
   "cell_type": "markdown",
   "metadata": {},
   "source": [
    "#### XOR-Funktion\n",
    "\n",
    "Bei zwei Neuronen im hidden-Layer kann man schon mal Pech haben. Aber bei drei klappt es meistens. "
   ]
  },
  {
   "cell_type": "code",
   "execution_count": 29,
   "metadata": {},
   "outputs": [],
   "source": [
    "class Net(nn.Module):\n",
    "    def __init__(self):\n",
    "        super().__init__()\n",
    "        self.fc1 = nn.Linear(2,3)\n",
    "        self.fc2 = nn.Linear(3,1)\n",
    " \n",
    "    def forward(self, t):\n",
    "        t = self.fc1(t)\n",
    "        t = torch.relu(t)\n",
    "        t = self.fc2(t)\n",
    "        t = torch.sigmoid(t)\n",
    "        return t"
   ]
  },
  {
   "cell_type": "code",
   "execution_count": 30,
   "metadata": {},
   "outputs": [
    {
     "data": {
      "text/plain": [
       "tensor([[[0.3363]],\n",
       "\n",
       "        [[0.3363]],\n",
       "\n",
       "        [[0.9576]],\n",
       "\n",
       "        [[0.3363]]], grad_fn=<SigmoidBackward>)"
      ]
     },
     "execution_count": 30,
     "metadata": {},
     "output_type": "execute_result"
    }
   ],
   "source": [
    "net = Net()\n",
    "x = torch.Tensor([[0,0],[0,1],[1,0],[1,1]]).reshape(4,1,2)\n",
    "labels = torch.Tensor([0,1,1,0]).reshape(4,1,1)\n",
    "\n",
    "#optimizer = optim.Adam(net.parameters(), lr=0.01)\n",
    "#optimizer = optim.RMSprop(net.parameters(), lr=0.01)\n",
    "optimizer = optim.SGD(net.parameters(), lr=0.01)\n",
    "loss_fn = torch.nn.MSELoss(reduction='mean')\n",
    "\n",
    "for epoch in range(20000):\n",
    "        outputs = net(x)\n",
    "        loss = loss_fn(outputs, labels)\n",
    "        loss.backward()\n",
    "        optimizer.step()\n",
    "        optimizer.zero_grad()\n",
    "\n",
    "net(x)"
   ]
  },
  {
   "cell_type": "markdown",
   "metadata": {},
   "source": [
    "Wir experimentieren mit weiteren Layern, verschiedenen learning rates, verschiedenen Optimizern"
   ]
  },
  {
   "cell_type": "code",
   "execution_count": 25,
   "metadata": {},
   "outputs": [],
   "source": [
    "class Net(nn.Module):\n",
    "    def __init__(self):\n",
    "        super().__init__()\n",
    "        self.fc1 = nn.Linear(2,16)\n",
    "        self.fc2 = nn.Linear(16,8)\n",
    "        self.fc3 = nn.Linear(8,1)\n",
    " \n",
    "    def forward(self, t):\n",
    "        t = self.fc1(t)\n",
    "        t = torch.relu(t)\n",
    "        t = self.fc2(t)\n",
    "        t = torch.relu(t)\n",
    "        t = self.fc3(t)\n",
    "        t = torch.sigmoid(t)\n",
    "        return t"
   ]
  },
  {
   "cell_type": "code",
   "execution_count": 26,
   "metadata": {},
   "outputs": [
    {
     "data": {
      "text/plain": [
       "tensor([[[0.0198]],\n",
       "\n",
       "        [[0.9829]],\n",
       "\n",
       "        [[0.9809]],\n",
       "\n",
       "        [[0.0798]]], grad_fn=<SigmoidBackward>)"
      ]
     },
     "execution_count": 26,
     "metadata": {},
     "output_type": "execute_result"
    }
   ],
   "source": [
    "net = Net()\n",
    "x = torch.Tensor([[0,0],[0,1],[1,0],[1,1]]).reshape(4,1,2)\n",
    "labels = torch.Tensor([0,1,1,0]).reshape(4,1,1)\n",
    "\n",
    "#optimizer = optim.Adam(net.parameters(), lr=0.01)\n",
    "#optimizer = optim.RMSprop(net.parameters(), lr=0.01)\n",
    "optimizer = optim.SGD(net.parameters(), lr=0.05)\n",
    "loss_fn = torch.nn.MSELoss(reduction='mean')\n",
    "\n",
    "for epoch in range(5000):\n",
    "        outputs = net(x)\n",
    "        loss = loss_fn(outputs, labels)\n",
    "        loss.backward()\n",
    "        optimizer.step()\n",
    "        optimizer.zero_grad()\n",
    "\n",
    "net(x)"
   ]
  }
 ],
 "metadata": {
  "kernelspec": {
   "display_name": "Python 3",
   "language": "python",
   "name": "python3"
  },
  "language_info": {
   "codemirror_mode": {
    "name": "ipython",
    "version": 3
   },
   "file_extension": ".py",
   "mimetype": "text/x-python",
   "name": "python",
   "nbconvert_exporter": "python",
   "pygments_lexer": "ipython3",
   "version": "3.7.5"
  }
 },
 "nbformat": 4,
 "nbformat_minor": 4
}
