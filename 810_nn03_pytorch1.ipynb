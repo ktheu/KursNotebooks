{
 "cells": [
  {
   "cell_type": "markdown",
   "metadata": {},
   "source": [
    "#### Die OR und XOR Funktion mit Pytorch"
   ]
  },
  {
   "cell_type": "code",
   "execution_count": 2,
   "metadata": {},
   "outputs": [],
   "source": [
    "import torch\n",
    "import torch.optim as optim\n",
    "import torch.nn.functional as F\n",
    "import torch.nn as nn\n",
    "import numpy as np"
   ]
  },
  {
   "cell_type": "markdown",
   "metadata": {},
   "source": [
    "#### Ein Netz für die OR-Funktion"
   ]
  },
  {
   "cell_type": "code",
   "execution_count": 3,
   "metadata": {},
   "outputs": [],
   "source": [
    "class Net(nn.Module):\n",
    "    def __init__(self):\n",
    "        super().__init__()\n",
    "        self.fc1 = nn.Linear(2,1)\n",
    " \n",
    "    def forward(self, t):\n",
    "        t = self.fc1(t)\n",
    "        t = torch.sigmoid(t)\n",
    "        return t"
   ]
  },
  {
   "cell_type": "code",
   "execution_count": 12,
   "metadata": {},
   "outputs": [
    {
     "name": "stdout",
     "output_type": "stream",
     "text": [
      "tensor([[[0.2053]],\n",
      "\n",
      "        [[0.8776]],\n",
      "\n",
      "        [[0.8777]],\n",
      "\n",
      "        [[0.9950]]], grad_fn=<SigmoidBackward>)\n",
      "torch.Size([4, 1, 1])\n",
      "[Parameter containing:\n",
      "tensor([[3.3246, 3.3229]], requires_grad=True), Parameter containing:\n",
      "tensor([-1.3535], requires_grad=True)]\n"
     ]
    }
   ],
   "source": [
    "X = torch.Tensor([[0,0],[0,1],[1,0],[1,1]]).reshape(4,1,2)\n",
    "Y = torch.Tensor([0,1,1,1]).reshape(4,1,1)\n",
    "\n",
    "net = Net()\n",
    "optimizer = optim.SGD(net.parameters(), lr=0.1)\n",
    "loss_fn = torch.nn.MSELoss(reduction='mean')\n",
    "\n",
    "for epoch in range(2000):\n",
    "    Y_hat = net(X)\n",
    "    loss = loss_fn(Y_hat, Y)\n",
    "    loss.backward()\n",
    "    optimizer.step()\n",
    "    optimizer.zero_grad()\n",
    "            \n",
    "print(net(X))\n",
    "print(net(X).shape)\n",
    "print(list(net.parameters()))"
   ]
  },
  {
   "cell_type": "markdown",
   "metadata": {},
   "source": [
    "<img src=\"img/nn-netX.png\" width=\"500\"> \n",
    "\n",
    "\n"
   ]
  },
  {
   "cell_type": "markdown",
   "metadata": {},
   "source": [
    "#### Ein Netz für die XOR-Funktion\n",
    "\n",
    "Bei zwei Neuronen im hidden-Layer kann man schon mal Pech haben. Aber bei drei klappt es meistens. "
   ]
  },
  {
   "cell_type": "code",
   "execution_count": 23,
   "metadata": {},
   "outputs": [],
   "source": [
    "class Net(nn.Module):\n",
    "    def __init__(self):\n",
    "        super().__init__()\n",
    "        self.fc1 = nn.Linear(2,3)\n",
    "        self.fc2 = nn.Linear(3,1)\n",
    " \n",
    "    def forward(self, t):\n",
    "        t = self.fc1(t)\n",
    "        t = torch.relu(t)\n",
    "        t = self.fc2(t)\n",
    "        t = torch.sigmoid(t)\n",
    "        return t"
   ]
  },
  {
   "cell_type": "code",
   "execution_count": 25,
   "metadata": {},
   "outputs": [
    {
     "name": "stdout",
     "output_type": "stream",
     "text": [
      "tensor([[[0.0257]],\n",
      "\n",
      "        [[0.9560]],\n",
      "\n",
      "        [[0.9560]],\n",
      "\n",
      "        [[0.0257]]], grad_fn=<SigmoidBackward>)\n"
     ]
    }
   ],
   "source": [
    "X = torch.Tensor([[0,0],[0,1],[1,0],[1,1]]).reshape(4,1,2)\n",
    "Y = torch.Tensor([0,1,1,0]).reshape(4,1,1)\n",
    "\n",
    "net = Net()\n",
    "optimizer = optim.SGD(net.parameters(), lr=0.1)\n",
    "loss_fn = torch.nn.MSELoss(reduction='mean')\n",
    "\n",
    "for epoch in range(6000):\n",
    "    Y_hat = net(X)\n",
    "    loss = loss_fn(Y_hat, Y)\n",
    "    loss.backward()\n",
    "    optimizer.step()\n",
    "    optimizer.zero_grad()\n",
    "            \n",
    "print(net(x))"
   ]
  },
  {
   "cell_type": "code",
   "execution_count": null,
   "metadata": {},
   "outputs": [],
   "source": []
  }
 ],
 "metadata": {
  "kernelspec": {
   "display_name": "Python 3",
   "language": "python",
   "name": "python3"
  },
  "language_info": {
   "codemirror_mode": {
    "name": "ipython",
    "version": 3
   },
   "file_extension": ".py",
   "mimetype": "text/x-python",
   "name": "python",
   "nbconvert_exporter": "python",
   "pygments_lexer": "ipython3",
   "version": "3.7.5"
  }
 },
 "nbformat": 4,
 "nbformat_minor": 4
}
