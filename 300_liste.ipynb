{
 "cells": [
  {
   "cell_type": "markdown",
   "metadata": {},
   "source": [
    "## ADTs Liste, Keller, Schlange"
   ]
  },
  {
   "cell_type": "code",
   "execution_count": 2,
   "metadata": {
    "collapsed": true
   },
   "outputs": [],
   "source": [
    "class Eintrag:\n",
    "    def __init__(self):\n",
    "        self.inhalt = None\n",
    "        self.next = None\n",
    "\n",
    "class Liste:\n",
    "    def __init__(self):\n",
    "        self.anf = Eintrag()\n",
    "        self.pos = self.anf\n",
    "\n",
    "    def empty(self):\n",
    "        return self.anf.next is None\n",
    "\n",
    "    def endpos(self):\n",
    "        return self.pos.next is None\n",
    "\n",
    "    def reset(self):\n",
    "        self.pos = self.anf\n",
    "\n",
    "    def advance(self):\n",
    "        if self.endpos(): raise RuntimeError(\"Fehler: Liste am Ende\")\n",
    "        self.pos = self.pos.next\n",
    "\n",
    "    def elem(self):\n",
    "        if self.endpos(): raise RuntimeError(\"Fehler: Liste am Ende\")\n",
    "        return self.pos.next.inhalt\n",
    "\n",
    "    def insert(self, x):    # fügt x vor aktuellem Element ein, x wird aktuelles Element\n",
    "        hilf = Eintrag()\n",
    "        hilf.inhalt = x\n",
    "        hilf.next = self.pos.next\n",
    "        self.pos.next = hilf\n",
    "            \n",
    "    def delete(self):       # Nachfolger wird neues aktuelles Element\n",
    "        if self.endpos(): raise RuntimeError(\"Fehler: Liste am Ende\")\n",
    "        self.pos.next = self.pos.next.next\n",
    "\n",
    "class Keller:\n",
    "    def __init__(self):\n",
    "        self.tp = None\n",
    "\n",
    "    def empty(self):\n",
    "        return self.tp is None\n",
    "\n",
    "    def push(self, x):\n",
    "        hilf = Eintrag()\n",
    "        hilf.inhalt = x\n",
    "        hilf.next = self.tp\n",
    "        self.tp = hilf\n",
    "\n",
    "    def top(self):\n",
    "        if self.empty(): raise RuntimeError(\"Fehler: Keller ist leer\")\n",
    "        return self.tp.inhalt\n",
    "\n",
    "    def pop(self):\n",
    "        if self.empty(): raise RuntimeError(\"Fehler: Keller ist leer\")\n",
    "        self.tp = self.tp.next\n",
    "\n",
    "\n",
    "\n",
    "class Schlange:\n",
    "    def __init__(self):\n",
    "        self.head = None\n",
    "        self.tail = None\n",
    "\n",
    "    def empty(self):\n",
    "        return self.head is None\n",
    "\n",
    "    def enq(self, x):\n",
    "        if self.empty():\n",
    "            self.head = Eintrag()\n",
    "            self.tail = self.head\n",
    "        else:\n",
    "            self.tail.next = Eintrag()\n",
    "            self.tail = self.tail.next\n",
    "        self.tail.inhalt = x\n",
    "        self.tail.next = None\n",
    "\n",
    "    def deq(self):\n",
    "        if self.empty(): raise RuntimeError(\"Fehler: Schlange ist leer\")\n",
    "        self.head = self.head.next\n",
    "        if self.head is None:\n",
    "            self.tail = None\n",
    "\n",
    "    def front(self):\n",
    "        if self.empty(): raise RuntimeError(\"Fehler: Schlange ist leer\")\n",
    "        return self.head.inhalt"
   ]
  },
  {
   "cell_type": "code",
   "execution_count": 3,
   "metadata": {},
   "outputs": [
    {
     "name": "stdout",
     "output_type": "stream",
     "text": [
      "5\n"
     ]
    }
   ],
   "source": [
    "a = Liste()\n",
    "a.insert(5)\n",
    "print(a.elem())"
   ]
  }
 ],
 "metadata": {
  "kernelspec": {
   "display_name": "Python 3",
   "language": "python",
   "name": "python3"
  },
  "language_info": {
   "codemirror_mode": {
    "name": "ipython",
    "version": 3
   },
   "file_extension": ".py",
   "mimetype": "text/x-python",
   "name": "python",
   "nbconvert_exporter": "python",
   "pygments_lexer": "ipython3",
   "version": "3.6.5"
  }
 },
 "nbformat": 4,
 "nbformat_minor": 2
}
