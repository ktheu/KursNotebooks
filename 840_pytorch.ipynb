{
 "cells": [
  {
   "cell_type": "markdown",
   "metadata": {},
   "source": [
    "[docs](https://pytorch.org/docs/stable/torch.html)"
   ]
  },
  {
   "cell_type": "code",
   "execution_count": 1,
   "metadata": {},
   "outputs": [],
   "source": [
    "from __future__ import print_function\n",
    "import torch"
   ]
  },
  {
   "cell_type": "markdown",
   "metadata": {},
   "source": [
    "Eine nicht initialisierte Matrix enthält die Werte, die gerade gespeichert sind."
   ]
  },
  {
   "cell_type": "code",
   "execution_count": null,
   "metadata": {},
   "outputs": [],
   "source": [
    "x = torch.empty(5, 3)\n",
    "print(x)"
   ]
  },
  {
   "cell_type": "markdown",
   "metadata": {},
   "source": [
    "Eine Matrix mit Zufallswerten"
   ]
  },
  {
   "cell_type": "code",
   "execution_count": 4,
   "metadata": {},
   "outputs": [
    {
     "name": "stdout",
     "output_type": "stream",
     "text": [
      "tensor([[0.4006, 0.6970, 0.0119],\n",
      "        [0.5101, 0.0446, 0.2879],\n",
      "        [0.7836, 0.1944, 0.2797],\n",
      "        [0.1717, 0.8870, 0.1926],\n",
      "        [0.7924, 0.7176, 0.3135]])\n"
     ]
    }
   ],
   "source": [
    "x = torch.rand(5, 3)\n",
    "print(x)"
   ]
  },
  {
   "cell_type": "markdown",
   "metadata": {},
   "source": [
    "Eine Matrix, die nur Nullen vom Typ long enthält"
   ]
  },
  {
   "cell_type": "code",
   "execution_count": 5,
   "metadata": {},
   "outputs": [
    {
     "name": "stdout",
     "output_type": "stream",
     "text": [
      "tensor([[0, 0, 0],\n",
      "        [0, 0, 0],\n",
      "        [0, 0, 0],\n",
      "        [0, 0, 0],\n",
      "        [0, 0, 0]])\n"
     ]
    }
   ],
   "source": [
    "x = torch.zeros(5, 3, dtype=torch.long)\n",
    "print(x)"
   ]
  },
  {
   "cell_type": "markdown",
   "metadata": {},
   "source": [
    "Einen Tensor aus einer Liste erstellen"
   ]
  },
  {
   "cell_type": "code",
   "execution_count": 6,
   "metadata": {},
   "outputs": [
    {
     "name": "stdout",
     "output_type": "stream",
     "text": [
      "tensor([5.5000, 3.0000])\n"
     ]
    }
   ],
   "source": [
    "x = torch.tensor([5.5, 3])\n",
    "print(x)"
   ]
  },
  {
   "cell_type": "markdown",
   "metadata": {},
   "source": [
    "Einen neuen Tensor aus einem bestehenden erzeugen:"
   ]
  },
  {
   "cell_type": "code",
   "execution_count": 7,
   "metadata": {},
   "outputs": [
    {
     "name": "stdout",
     "output_type": "stream",
     "text": [
      "tensor([[1., 1., 1.],\n",
      "        [1., 1., 1.],\n",
      "        [1., 1., 1.],\n",
      "        [1., 1., 1.],\n",
      "        [1., 1., 1.]], dtype=torch.float64)\n",
      "tensor([[ 0.2930, -0.0279,  0.0578],\n",
      "        [ 1.0888, -1.1141, -0.2588],\n",
      "        [ 0.5320, -0.2677,  0.7996],\n",
      "        [ 0.2228,  0.0243, -0.5558],\n",
      "        [ 1.4573,  2.0228,  0.7705]])\n"
     ]
    }
   ],
   "source": [
    "x = x.new_ones(5, 3, dtype=torch.double)      # new_* methods take in sizes\n",
    "print(x)\n",
    "\n",
    "x = torch.randn_like(x, dtype=torch.float)    # override dtype!\n",
    "print(x)    "
   ]
  },
  {
   "cell_type": "code",
   "execution_count": 8,
   "metadata": {},
   "outputs": [
    {
     "name": "stdout",
     "output_type": "stream",
     "text": [
      "torch.Size([5, 3])\n"
     ]
    }
   ],
   "source": [
    "print(x.size())"
   ]
  },
  {
   "cell_type": "markdown",
   "metadata": {},
   "source": [
    "#### Operations\n",
    "\n",
    "Mehrere Möglichkeiten für die Addition"
   ]
  },
  {
   "cell_type": "code",
   "execution_count": 9,
   "metadata": {},
   "outputs": [
    {
     "name": "stdout",
     "output_type": "stream",
     "text": [
      "tensor([[ 0.8627,  0.5773,  0.2918],\n",
      "        [ 1.5745, -0.5290, -0.0254],\n",
      "        [ 0.5829,  0.4363,  1.3592],\n",
      "        [ 0.8491,  1.0156, -0.0137],\n",
      "        [ 1.9207,  2.6880,  1.6634]])\n"
     ]
    }
   ],
   "source": [
    "y = torch.rand(5, 3)\n",
    "print(x + y)"
   ]
  },
  {
   "cell_type": "code",
   "execution_count": 10,
   "metadata": {},
   "outputs": [
    {
     "name": "stdout",
     "output_type": "stream",
     "text": [
      "tensor([[ 0.8627,  0.5773,  0.2918],\n",
      "        [ 1.5745, -0.5290, -0.0254],\n",
      "        [ 0.5829,  0.4363,  1.3592],\n",
      "        [ 0.8491,  1.0156, -0.0137],\n",
      "        [ 1.9207,  2.6880,  1.6634]])\n"
     ]
    }
   ],
   "source": [
    "print(torch.add(x, y))"
   ]
  },
  {
   "cell_type": "code",
   "execution_count": 11,
   "metadata": {},
   "outputs": [
    {
     "name": "stdout",
     "output_type": "stream",
     "text": [
      "tensor([[ 0.8627,  0.5773,  0.2918],\n",
      "        [ 1.5745, -0.5290, -0.0254],\n",
      "        [ 0.5829,  0.4363,  1.3592],\n",
      "        [ 0.8491,  1.0156, -0.0137],\n",
      "        [ 1.9207,  2.6880,  1.6634]])\n"
     ]
    }
   ],
   "source": [
    "result = torch.empty(5, 3)\n",
    "torch.add(x, y, out=result)\n",
    "print(result)"
   ]
  },
  {
   "cell_type": "code",
   "execution_count": 12,
   "metadata": {},
   "outputs": [
    {
     "name": "stdout",
     "output_type": "stream",
     "text": [
      "tensor([[ 0.8627,  0.5773,  0.2918],\n",
      "        [ 1.5745, -0.5290, -0.0254],\n",
      "        [ 0.5829,  0.4363,  1.3592],\n",
      "        [ 0.8491,  1.0156, -0.0137],\n",
      "        [ 1.9207,  2.6880,  1.6634]])\n"
     ]
    }
   ],
   "source": [
    "# Addition in-place\n",
    "y.add_(x)\n",
    "print(y)"
   ]
  },
  {
   "cell_type": "markdown",
   "metadata": {},
   "source": [
    "Any operation that mutates a tensor in-place is post-fixed with an _. For example: x.copy_(y), x.t_(), will change x. \n",
    "\n",
    "You can use standard NumPy-like indexing with all bells and whistles!"
   ]
  },
  {
   "cell_type": "code",
   "execution_count": 14,
   "metadata": {},
   "outputs": [
    {
     "name": "stdout",
     "output_type": "stream",
     "text": [
      "tensor([[ 0.2930, -0.0279,  0.0578],\n",
      "        [ 1.0888, -1.1141, -0.2588],\n",
      "        [ 0.5320, -0.2677,  0.7996],\n",
      "        [ 0.2228,  0.0243, -0.5558],\n",
      "        [ 1.4573,  2.0228,  0.7705]])\n",
      "tensor([-0.0279, -1.1141, -0.2677,  0.0243,  2.0228])\n"
     ]
    }
   ],
   "source": [
    "print(x)\n",
    "print(x[:, 1])"
   ]
  },
  {
   "cell_type": "markdown",
   "metadata": {},
   "source": [
    "Resizing: If you want to resize/reshape tensor, you can use torch.view:"
   ]
  },
  {
   "cell_type": "code",
   "execution_count": 15,
   "metadata": {},
   "outputs": [
    {
     "name": "stdout",
     "output_type": "stream",
     "text": [
      "torch.Size([4, 4]) torch.Size([16]) torch.Size([2, 8])\n"
     ]
    }
   ],
   "source": [
    "x = torch.randn(4, 4)\n",
    "y = x.view(16)\n",
    "z = x.view(-1, 8)  # the size -1 is inferred from other dimensions\n",
    "print(x.size(), y.size(), z.size())"
   ]
  },
  {
   "cell_type": "code",
   "execution_count": 16,
   "metadata": {},
   "outputs": [
    {
     "name": "stdout",
     "output_type": "stream",
     "text": [
      "tensor([ 2.1325, -0.0528,  0.6703,  0.1820, -0.8494, -1.0934,  0.9514, -2.0207,\n",
      "        -1.5418, -1.2959,  0.4523, -1.1169,  0.5587,  0.9782, -0.5198, -1.2031])\n",
      "tensor([[ 2.1325, -0.0528,  0.6703,  0.1820, -0.8494, -1.0934,  0.9514, -2.0207],\n",
      "        [-1.5418, -1.2959,  0.4523, -1.1169,  0.5587,  0.9782, -0.5198, -1.2031]])\n"
     ]
    }
   ],
   "source": [
    "print(y)\n",
    "print(z)"
   ]
  },
  {
   "cell_type": "markdown",
   "metadata": {},
   "source": [
    "If you have a one element tensor, use .item() to get the value as a Python number"
   ]
  },
  {
   "cell_type": "code",
   "execution_count": 17,
   "metadata": {},
   "outputs": [
    {
     "name": "stdout",
     "output_type": "stream",
     "text": [
      "tensor([-0.9093])\n",
      "-0.9093368649482727\n"
     ]
    }
   ],
   "source": [
    "x = torch.randn(1)\n",
    "print(x)\n",
    "print(x.item())"
   ]
  },
  {
   "cell_type": "markdown",
   "metadata": {},
   "source": [
    "#### Numpy Bridge\n",
    "\n",
    "Converting a Torch Tensor to a NumPy array and vice versa is a breeze.\n",
    "\n",
    "The Torch Tensor and NumPy array will share their underlying memory locations (if the Torch Tensor is on CPU), and changing one will change the other.\n",
    "\n",
    "All the Tensors on the CPU except a CharTensor support converting to NumPy and back."
   ]
  },
  {
   "cell_type": "code",
   "execution_count": 18,
   "metadata": {},
   "outputs": [
    {
     "name": "stdout",
     "output_type": "stream",
     "text": [
      "tensor([2., 2., 2., 2., 2.])\n",
      "[2. 2. 2. 2. 2.]\n"
     ]
    }
   ],
   "source": [
    "a = torch.ones(5)\n",
    "b = a.numpy()\n",
    "a.add_(1)\n",
    "print(a)\n",
    "print(b)"
   ]
  },
  {
   "cell_type": "code",
   "execution_count": 19,
   "metadata": {},
   "outputs": [
    {
     "name": "stdout",
     "output_type": "stream",
     "text": [
      "[2. 2. 2. 2. 2.]\n",
      "tensor([2., 2., 2., 2., 2.], dtype=torch.float64)\n"
     ]
    }
   ],
   "source": [
    "import numpy as np\n",
    "a = np.ones(5)\n",
    "b = torch.from_numpy(a)\n",
    "np.add(a, 1, out=a)\n",
    "print(a)\n",
    "print(b)"
   ]
  },
  {
   "cell_type": "code",
   "execution_count": 2,
   "metadata": {},
   "outputs": [
    {
     "name": "stdout",
     "output_type": "stream",
     "text": [
      "Help on built-in function argmin:\n",
      "\n",
      "argmin(...)\n",
      "    .. function:: argmin(input) -> LongTensor\n",
      "    \n",
      "    Returns the indices of the minimum value of all elements in the :attr:`input` tensor.\n",
      "    \n",
      "    This is the second value returned by :meth:`torch.min`. See its\n",
      "    documentation for the exact semantics of this method.\n",
      "    \n",
      "    Args:\n",
      "        input (Tensor): the input tensor.\n",
      "    \n",
      "    Example::\n",
      "    \n",
      "        >>> a = torch.randn(4, 4)\n",
      "        >>> a\n",
      "        tensor([[ 0.1139,  0.2254, -0.1381,  0.3687],\n",
      "                [ 1.0100, -1.1975, -0.0102, -0.4732],\n",
      "                [-0.9240,  0.1207, -0.7506, -1.0213],\n",
      "                [ 1.7809, -1.2960,  0.9384,  0.1438]])\n",
      "        >>> torch.argmin(a)\n",
      "        tensor(13)\n",
      "    \n",
      "    .. function:: argmin(input, dim, keepdim=False, out=None) -> LongTensor\n",
      "    \n",
      "    Returns the indices of the minimum values of a tensor across a dimension.\n",
      "    \n",
      "    This is the second value returned by :meth:`torch.min`. See its\n",
      "    documentation for the exact semantics of this method.\n",
      "    \n",
      "    Args:\n",
      "        input (Tensor): the input tensor.\n",
      "        dim (int): the dimension to reduce. If ``None``, the argmin of the flattened input is returned.\n",
      "        keepdim (bool): whether the output tensor has :attr:`dim` retained or not. Ignored if ``dim=None``.\n",
      "    \n",
      "    Example::\n",
      "    \n",
      "        >>> a = torch.randn(4, 4)\n",
      "        >>> a\n",
      "        tensor([[ 0.1139,  0.2254, -0.1381,  0.3687],\n",
      "                [ 1.0100, -1.1975, -0.0102, -0.4732],\n",
      "                [-0.9240,  0.1207, -0.7506, -1.0213],\n",
      "                [ 1.7809, -1.2960,  0.9384,  0.1438]])\n",
      "        >>> torch.argmin(a, dim=1)\n",
      "        tensor([ 2,  1,  3,  1])\n",
      "\n"
     ]
    }
   ],
   "source": [
    "help(torch.argmin)"
   ]
  },
  {
   "cell_type": "code",
   "execution_count": 19,
   "metadata": {},
   "outputs": [],
   "source": [
    "x = torch.Tensor([\n",
    "    [[0,1],[2,3]],\n",
    "    [[4,5],[6,7]],\n",
    "    [[8,9],[10,11]]\n",
    "])"
   ]
  },
  {
   "cell_type": "code",
   "execution_count": 20,
   "metadata": {},
   "outputs": [
    {
     "data": {
      "text/plain": [
       "torch.Size([3, 2, 2])"
      ]
     },
     "execution_count": 20,
     "metadata": {},
     "output_type": "execute_result"
    }
   ],
   "source": [
    "x.shape"
   ]
  },
  {
   "cell_type": "code",
   "execution_count": 21,
   "metadata": {},
   "outputs": [
    {
     "name": "stdout",
     "output_type": "stream",
     "text": [
      "tensor([[0., 1.],\n",
      "        [2., 3.]])\n",
      "tensor([[4., 5.],\n",
      "        [6., 7.]])\n",
      "tensor([[ 8.,  9.],\n",
      "        [10., 11.]])\n"
     ]
    }
   ],
   "source": [
    "for k in range(3):\n",
    "    print(x[k])"
   ]
  },
  {
   "cell_type": "code",
   "execution_count": 22,
   "metadata": {},
   "outputs": [],
   "source": [
    "x1 = x.reshape(2,2,3)"
   ]
  },
  {
   "cell_type": "code",
   "execution_count": 26,
   "metadata": {},
   "outputs": [],
   "source": [
    "y = torch.Tensor(2,2,3)\n",
    "for i in range(2):\n",
    "    for j in range(2):\n",
    "        y[i][j][0] = x[0][i][j]\n",
    "    \n",
    "    \n",
    "for i in range(2):\n",
    "    for j in range(2):\n",
    "        y[i][j][1] = x[1][i][j]\n",
    "for i in range(2):\n",
    "    for j in range(2):\n",
    "        y[i][j][2] = x[2][i][j]"
   ]
  },
  {
   "cell_type": "code",
   "execution_count": 27,
   "metadata": {},
   "outputs": [
    {
     "data": {
      "text/plain": [
       "tensor([[[ 0.,  4.,  8.],\n",
       "         [ 1.,  5.,  9.]],\n",
       "\n",
       "        [[ 2.,  6., 10.],\n",
       "         [ 3.,  7., 11.]]])"
      ]
     },
     "execution_count": 27,
     "metadata": {},
     "output_type": "execute_result"
    }
   ],
   "source": [
    "y"
   ]
  },
  {
   "cell_type": "code",
   "execution_count": 18,
   "metadata": {},
   "outputs": [
    {
     "name": "stdout",
     "output_type": "stream",
     "text": [
      "tensor(2.)\n",
      "tensor(2.)\n",
      "tensor(2.)\n",
      "tensor(2.)\n"
     ]
    }
   ],
   "source": [
    "for i in range(2):\n",
    "    for j in range(2):\n",
    "        print(y[i][j][2])"
   ]
  },
  {
   "cell_type": "code",
   "execution_count": null,
   "metadata": {},
   "outputs": [],
   "source": []
  }
 ],
 "metadata": {
  "kernelspec": {
   "display_name": "Python 3",
   "language": "python",
   "name": "python3"
  },
  "language_info": {
   "codemirror_mode": {
    "name": "ipython",
    "version": 3
   },
   "file_extension": ".py",
   "mimetype": "text/x-python",
   "name": "python",
   "nbconvert_exporter": "python",
   "pygments_lexer": "ipython3",
   "version": "3.7.5"
  }
 },
 "nbformat": 4,
 "nbformat_minor": 4
}
