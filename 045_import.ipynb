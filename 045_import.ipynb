{
 "cells": [
  {
   "cell_type": "markdown",
   "metadata": {},
   "source": [
    "# Funktionen und Import  \n",
    "\n",
    "#### Eingebaute Funktionen\n",
    "\n",
    "Python hat eine Reihe __[eingebauter Funktionen](https://docs.python.org/3/library/functions.html)__, z.B:\n",
    "*len(), int(), str(), float(), bool(), input(), print(), range(), format(), type(), ord(), chr()*\n",
    "\n",
    "Weitere Beispiele: "
   ]
  },
  {
   "cell_type": "code",
   "execution_count": 1,
   "metadata": {},
   "outputs": [
    {
     "name": "stdout",
     "output_type": "stream",
     "text": [
      "4\n",
      "5\n"
     ]
    }
   ],
   "source": [
    "print(abs(-4))  # Absolutbetrag\n",
    "print(abs(5))  "
   ]
  },
  {
   "cell_type": "code",
   "execution_count": 2,
   "metadata": {},
   "outputs": [
    {
     "name": "stdout",
     "output_type": "stream",
     "text": [
      "8\n",
      "4.6\n",
      "4.47\n"
     ]
    }
   ],
   "source": [
    "print(round(8.4))       # Runden   \n",
    "print(round(4.64,1))\n",
    "print(round(4.468,2))   "
   ]
  },
  {
   "cell_type": "code",
   "execution_count": 3,
   "metadata": {},
   "outputs": [
    {
     "name": "stdout",
     "output_type": "stream",
     "text": [
      "22\n",
      "-5\n"
     ]
    }
   ],
   "source": [
    "print(max(4,12,3,22,15,9))  # max und min\n",
    "print(min(9,2,-5,12,19))    # können beliebig viele Argumente erhalten"
   ]
  },
  {
   "cell_type": "markdown",
   "metadata": {},
   "source": [
    "#### Eigene Funktionen\n",
    "Jede .py-Datei wird als Modul bezeichnet. In einem Modul können mehrere Funktionen definiert sein. Funktionen können aus anderen Modulen importiert werden."
   ]
  },
  {
   "cell_type": "code",
   "execution_count": 4,
   "metadata": {},
   "outputs": [],
   "source": [
    "# Inhalt des Moduls mytools.py\n",
    "\n",
    "def func1(x):\n",
    "    '''\n",
    "    x: float\n",
    "    returns: den Wert der Funktion x*x - 4\n",
    "    '''\n",
    "    return x*x-4\n",
    "\n",
    "\n",
    "def func2(x, y):\n",
    "    '''\n",
    "    x: float\n",
    "    returns: den Wert x*x + y*y\n",
    "    '''\n",
    "    return x*x + y*y"
   ]
  },
  {
   "cell_type": "code",
   "execution_count": 4,
   "metadata": {},
   "outputs": [
    {
     "name": "stdout",
     "output_type": "stream",
     "text": [
      "12 45\n"
     ]
    }
   ],
   "source": [
    "# Inhalt des Moduls myprog.py im selben Verzeichnis wie mytools.py\n",
    "import mytools                   # mytools wird eine Variable im global frame\n",
    "\n",
    "a = mytools.func1(4)\n",
    "b = mytools.func2(3,6)\n",
    "print(a,b)\n"
   ]
  },
  {
   "cell_type": "code",
   "execution_count": 5,
   "metadata": {},
   "outputs": [
    {
     "name": "stdout",
     "output_type": "stream",
     "text": [
      "12\n"
     ]
    }
   ],
   "source": [
    "from mytools import func1       # func1 wird eine Variable im global frame\n",
    "a = func1(4)\n",
    "print(a)"
   ]
  },
  {
   "cell_type": "code",
   "execution_count": 6,
   "metadata": {},
   "outputs": [
    {
     "ename": "NameError",
     "evalue": "name 'func2' is not defined",
     "output_type": "error",
     "traceback": [
      "\u001b[1;31m---------------------------------------------------------------------------\u001b[0m",
      "\u001b[1;31mNameError\u001b[0m                                 Traceback (most recent call last)",
      "\u001b[1;32m<ipython-input-6-42dcc1ce6e19>\u001b[0m in \u001b[0;36m<module>\u001b[1;34m()\u001b[0m\n\u001b[1;32m----> 1\u001b[1;33m \u001b[0mb\u001b[0m \u001b[1;33m=\u001b[0m \u001b[0mfunc2\u001b[0m\u001b[1;33m(\u001b[0m\u001b[1;36m3\u001b[0m\u001b[1;33m,\u001b[0m\u001b[1;36m6\u001b[0m\u001b[1;33m)\u001b[0m                  \u001b[1;31m# func2 ist nicht importiert worden, daher NameError\u001b[0m\u001b[1;33m\u001b[0m\u001b[0m\n\u001b[0m\u001b[0;32m      2\u001b[0m \u001b[0mprint\u001b[0m\u001b[1;33m(\u001b[0m\u001b[0mb\u001b[0m\u001b[1;33m)\u001b[0m\u001b[1;33m\u001b[0m\u001b[0m\n",
      "\u001b[1;31mNameError\u001b[0m: name 'func2' is not defined"
     ]
    }
   ],
   "source": [
    "b = func2(3,6)                  # func2 ist nicht importiert worden, daher NameError\n",
    "print(b)"
   ]
  },
  {
   "cell_type": "code",
   "execution_count": 7,
   "metadata": {},
   "outputs": [],
   "source": [
    "from mytools import *           # für jede Funktion in mytools entsteht eine Variable im global frame"
   ]
  },
  {
   "cell_type": "code",
   "execution_count": 8,
   "metadata": {},
   "outputs": [
    {
     "name": "stdout",
     "output_type": "stream",
     "text": [
      "45\n"
     ]
    }
   ],
   "source": [
    "b = func2(3,6)\n",
    "print(b)"
   ]
  },
  {
   "cell_type": "markdown",
   "metadata": {},
   "source": [
    "#### Das Modul __[math](https://docs.python.org/3/library/math.html)__"
   ]
  },
  {
   "cell_type": "code",
   "execution_count": 9,
   "metadata": {},
   "outputs": [
    {
     "name": "stdout",
     "output_type": "stream",
     "text": [
      "3.141592653589793\n",
      "2.718281828459045\n"
     ]
    }
   ],
   "source": [
    "import math                # die Funktionen werden mit math.xxx angesprochen\n",
    "print(math.pi)\n",
    "print(math.e)"
   ]
  },
  {
   "cell_type": "code",
   "execution_count": 10,
   "metadata": {},
   "outputs": [
    {
     "name": "stdout",
     "output_type": "stream",
     "text": [
      "180.0\n"
     ]
    }
   ],
   "source": [
    "import math as m           # die Funktionen werden mit m.xxx angesprochen (keine andere Variable sollte m heißen)\n",
    "winkel = m.degrees(m.pi)   \n",
    "print(winkel)"
   ]
  },
  {
   "cell_type": "code",
   "execution_count": 11,
   "metadata": {},
   "outputs": [
    {
     "name": "stdout",
     "output_type": "stream",
     "text": [
      "90.0\n"
     ]
    }
   ],
   "source": [
    "from math import pi,degrees    # die Funktionen werden ohne math.  angesprochen\n",
    "print(degrees(pi/2))"
   ]
  },
  {
   "cell_type": "code",
   "execution_count": null,
   "metadata": {},
   "outputs": [],
   "source": [
    "from math import *             # jede Konstante und Funktion im math-Modul wird eine Variable im global frame                    "
   ]
  },
  {
   "cell_type": "markdown",
   "metadata": {},
   "source": [
    "Weitere Funktionen aus dem Modul math"
   ]
  },
  {
   "cell_type": "code",
   "execution_count": 12,
   "metadata": {},
   "outputs": [
    {
     "name": "stdout",
     "output_type": "stream",
     "text": [
      "2.0\n",
      "3\n",
      "2\n",
      "1.0 1.0 0.9999999999999999\n",
      "2.718281828459045\n",
      "1.0 4.0 3.0\n"
     ]
    }
   ],
   "source": [
    "import math as m\n",
    "print(m.sqrt(4))       # Wurzel\n",
    "print(m.ceil(2.3))     # die nächst größere ganze Zahl\n",
    "print(m.floor(2.8))    # die nächst kleinere ganze Zahl\n",
    "print(m.sin(m.pi/2), m.cos(0), m.tan(m.pi/4))\n",
    "print(m.exp(1))        # e hoch\n",
    "print(m.log(m.e), m.log2(16), m.log10(1000))   # log ist ln"
   ]
  },
  {
   "cell_type": "markdown",
   "metadata": {},
   "source": [
    "#### Module aus anderen Bibliotheken \n",
    "Module können zu Bibliotheken zusammengefasst werden. Die Module *math*, *datetime*, *random*, *turtle*  sind Module aus der Standardbibliothek, die mit der Installation\n",
    "von Python mitgeliefert wird. Für andere Module müssen ggf. Pakete nachinstalliert werden.\n",
    "In Thonny geht das unter *Tools - manage packages ...*.\n",
    "\n",
    "#### Beipiele: \n",
    "* sympy ist eine Bibliothek für Computer Algebra (CAS)\n",
    "* pygame ist eine Bibliothek für Spieleprogrammierung"
   ]
  }
 ],
 "metadata": {
  "kernelspec": {
   "display_name": "Python 3",
   "language": "python",
   "name": "python3"
  },
  "language_info": {
   "codemirror_mode": {
    "name": "ipython",
    "version": 3
   },
   "file_extension": ".py",
   "mimetype": "text/x-python",
   "name": "python",
   "nbconvert_exporter": "python",
   "pygments_lexer": "ipython3",
   "version": "3.6.5"
  }
 },
 "nbformat": 4,
 "nbformat_minor": 2
}
