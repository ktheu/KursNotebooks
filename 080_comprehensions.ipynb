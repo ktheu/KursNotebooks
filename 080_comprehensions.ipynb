{
 "cells": [
  {
   "cell_type": "markdown",
   "metadata": {},
   "source": [
    "# Comprehensions\n",
    "\n",
    "Comprehensions sind spezielle Anweisungen, mit denen eine\n",
    "Liste, ein Dictionary oder ein Set mit einer Vorschrift erzeugt werden.\n",
    "\n",
    "#### List-Comprehensions"
   ]
  },
  {
   "cell_type": "code",
   "execution_count": 2,
   "metadata": {},
   "outputs": [
    {
     "data": {
      "text/plain": [
       "[1, 4, 9, 16, 25, 36, 49, 64, 81]"
      ]
     },
     "execution_count": 2,
     "metadata": {},
     "output_type": "execute_result"
    }
   ],
   "source": [
    "a = [1,2,3,4,5,6,7,8,9]\n",
    "b = [x**2 for x in a]\n",
    "b"
   ]
  },
  {
   "cell_type": "code",
   "execution_count": 4,
   "metadata": {},
   "outputs": [
    {
     "data": {
      "text/plain": [
       "[4, 16, 36, 64]"
      ]
     },
     "execution_count": 4,
     "metadata": {},
     "output_type": "execute_result"
    }
   ],
   "source": [
    "a = [1,2,3,4,5,6,7,8,9]\n",
    "b = [x**2 for x in a if x % 2 == 0]\n",
    "b"
   ]
  },
  {
   "cell_type": "code",
   "execution_count": 7,
   "metadata": {},
   "outputs": [
    {
     "data": {
      "text/plain": [
       "[-7, 10, 7]"
      ]
     },
     "execution_count": 7,
     "metadata": {},
     "output_type": "execute_result"
    }
   ],
   "source": [
    "# addiere zwei als Listen dargestellte Vektoren\n",
    "v1 = [1, 7, -3]\n",
    "v2 = [-8, 3, 10]\n",
    "v3 = [v1[i] + v2[i] for i in range(3)]\n",
    "v3"
   ]
  },
  {
   "cell_type": "code",
   "execution_count": 19,
   "metadata": {},
   "outputs": [
    {
     "data": {
      "text/plain": [
       "[('a', 'c'), ('a', 'd'), ('b', 'c'), ('b', 'd')]"
      ]
     },
     "execution_count": 19,
     "metadata": {},
     "output_type": "execute_result"
    }
   ],
   "source": [
    "# eine Comprehension kann mehrere for-Bereiche haben\n",
    "lst1 = list('ab')\n",
    "lst2 = list('cd')\n",
    "lst3 = [(a,b) for a in lst1 for b in lst2]\n",
    "lst3"
   ]
  },
  {
   "cell_type": "code",
   "execution_count": 17,
   "metadata": {},
   "outputs": [
    {
     "data": {
      "text/plain": [
       "[(0, 1), (0, 3), (0, 5), (2, 1), (2, 3), (2, 5), (4, 1), (4, 3), (4, 5)]"
      ]
     },
     "execution_count": 17,
     "metadata": {},
     "output_type": "execute_result"
    }
   ],
   "source": [
    "# jeder for-Bereich kann ein eigenes if haben\n",
    "lst1 = [x for x in range(6)]\n",
    "lst2 = [(a,b) for a in lst1 if a % 2 == 0 for b in lst1 if b % 2 != 0 ]\n",
    "lst2"
   ]
  },
  {
   "cell_type": "markdown",
   "metadata": {},
   "source": [
    "#### Dict-Comprehensions"
   ]
  },
  {
   "cell_type": "code",
   "execution_count": 22,
   "metadata": {},
   "outputs": [
    {
     "data": {
      "text/plain": [
       "{'Donald': 6, 'Dagobert': 8, 'Daisy': 5, 'Gustav': 6}"
      ]
     },
     "execution_count": 22,
     "metadata": {},
     "output_type": "execute_result"
    }
   ],
   "source": [
    "namen = [\"Donald\", \"Dagobert\", \"Daisy\", \"Gustav\"]\n",
    "m = {k:len(k) for k in namen}\n",
    "m"
   ]
  },
  {
   "cell_type": "code",
   "execution_count": 24,
   "metadata": {},
   "outputs": [
    {
     "data": {
      "text/plain": [
       "{'A': ['AA', 'AAAA', 'AAAAAA'],\n",
       " 'B': ['BB', 'BBBB', 'BBBBBB'],\n",
       " 'C': ['CC', 'CCCC', 'CCCCCC']}"
      ]
     },
     "execution_count": 24,
     "metadata": {},
     "output_type": "execute_result"
    }
   ],
   "source": [
    "lst1 = [\"A\", \"B\", \"C\"]\n",
    "lst2 = [2, 4, 6]\n",
    "m = {c:[c*i for i in lst2] for c in lst1}\n",
    "m"
   ]
  },
  {
   "cell_type": "code",
   "execution_count": 25,
   "metadata": {},
   "outputs": [
    {
     "data": {
      "text/plain": [
       "{'a': 2, 'b': 4, 'c': 6, 'd': 8, 'e': 10}"
      ]
     },
     "execution_count": 25,
     "metadata": {},
     "output_type": "execute_result"
    }
   ],
   "source": [
    "# verdopple für jeden key den Wert\n",
    "m1 = {'a': 1, 'b': 2, 'c': 3, 'd': 4, 'e': 5}\n",
    "m2 = {k : 2*m1[k] for k in m1}\n",
    "m2"
   ]
  },
  {
   "cell_type": "markdown",
   "metadata": {},
   "source": [
    "#### Set-Comprehensions"
   ]
  },
  {
   "cell_type": "code",
   "execution_count": 26,
   "metadata": {},
   "outputs": [
    {
     "data": {
      "text/plain": [
       "{0, 1, 4, 9, 16}"
      ]
     },
     "execution_count": 26,
     "metadata": {},
     "output_type": "execute_result"
    }
   ],
   "source": [
    "a = [k for k in range(5)]\n",
    "set1 = {x**2 for x in a}\n",
    "set1"
   ]
  },
  {
   "cell_type": "markdown",
   "metadata": {},
   "source": [
    "### Aufgaben\n",
    "In den Lösungen der Aufgaben sollen keine Schleifen, sondern nur Comprehensions benutzt werden."
   ]
  },
  {
   "cell_type": "code",
   "execution_count": 27,
   "metadata": {},
   "outputs": [
    {
     "data": {
      "text/plain": [
       "[7, 14, 21, 28, 35, 42, 49, 56, 63, 70]"
      ]
     },
     "execution_count": 27,
     "metadata": {},
     "output_type": "execute_result"
    }
   ],
   "source": [
    "# Erzeuge mit einer Comprehension eine Liste mit den Vielfachen von 7 bis 70: \n",
    "# 7 14 ... 70\n",
    "[k*7 for k in range(1,11)]"
   ]
  },
  {
   "cell_type": "code",
   "execution_count": null,
   "metadata": {},
   "outputs": [],
   "source": [
    "# Erzeuge mit einer Comprehension eine Liste aller Kleinbuchstaben\n",
    "[chr(k) for k in range(ord('a'),ord('z')+1)]"
   ]
  },
  {
   "cell_type": "code",
   "execution_count": 29,
   "metadata": {},
   "outputs": [
    {
     "data": {
      "text/plain": [
       "[9, 37, 71, 62, 90, 4, 79, 77, 11, 31, 35, 50, 95, 18, 20, 43, 35, 76, 30, 11]"
      ]
     },
     "execution_count": 29,
     "metadata": {},
     "output_type": "execute_result"
    }
   ],
   "source": [
    "# Erzeuge eine Liste mit 20 ganzen Zufallszahlen k mit 1 <= k <= 100.\n",
    "import random as r\n",
    "[r.randint(1,100) for i in range(20)]"
   ]
  },
  {
   "cell_type": "code",
   "execution_count": 50,
   "metadata": {},
   "outputs": [
    {
     "name": "stdout",
     "output_type": "stream",
     "text": [
      "[[0, 0, 0, 0, 0], [0, 0, 0, 0, 0], [0, 0, 0, 0, 0], [0, 0, 0, 0, 0], [0, 0, 0, 0, 0]]\n",
      "[[1, 0, 0, 0, 0], [1, 0, 0, 0, 0], [1, 0, 0, 0, 0], [1, 0, 0, 0, 0], [1, 0, 0, 0, 0]]\n",
      "[[0, 0, 0, 0, 0], [0, 0, 0, 0, 0], [0, 0, 0, 0, 0], [0, 0, 0, 0, 0], [0, 0, 0, 0, 0]]\n",
      "[[1, 0, 0, 0, 0], [0, 0, 0, 0, 0], [0, 0, 0, 0, 0], [0, 0, 0, 0, 0], [0, 0, 0, 0, 0]]\n"
     ]
    }
   ],
   "source": [
    "# Hier wird eine 5 x 5 Matrix (Liste von Listen erzeugt), die nur aus Nullen besteht.\n",
    "# Setze das Element mit Index (0,0) auf 1 und prüfe auf Seiteneffekte. Wie kann man\n",
    "# Seiteneffekte vermeiden.\n",
    "m = [[0] * 5] * 5\n",
    "# ---------------------------\n",
    "print(m)\n",
    "m[0][0] = 1\n",
    "print(m)\n",
    "m = [[0] * 5  for k in range(5)]\n",
    "print(m)\n",
    "m[0][0] = 1\n",
    "print(m)\n"
   ]
  },
  {
   "cell_type": "code",
   "execution_count": null,
   "metadata": {},
   "outputs": [],
   "source": [
    "# Erzeuge eine Liste mit allen Koordinaten xy eines Schachbretts.\n",
    "# x von 'a' bis 'z', y von '1' bis '8'\n",
    "# also eine Liste von 'a1' bis 'h8'\n",
    "xList = list('abcdefgh')\n",
    "yList = list('12345678')\n",
    "\n",
    "brett = [x+y for x in xList for y in yList]\n",
    "brett"
   ]
  },
  {
   "cell_type": "code",
   "execution_count": 35,
   "metadata": {},
   "outputs": [
    {
     "data": {
      "text/plain": [
       "{1: 17, 2: 17, 3: 16, 4: 18, 5: 15}"
      ]
     },
     "execution_count": 35,
     "metadata": {},
     "output_type": "execute_result"
    }
   ],
   "source": [
    "# Erzeuge ein dictionary, bei denen den Zahlen 1 bis 5 zufällige Wert von 10 bis 20 zugeordnet werden.\n",
    "import random as r\n",
    "m = {k : r.randint(10,20) for k in range(1,6)}\n",
    "m"
   ]
  },
  {
   "cell_type": "code",
   "execution_count": 52,
   "metadata": {},
   "outputs": [
    {
     "data": {
      "text/plain": [
       "{'a': False, 'b': False, 'c': False, 'd': False, 'e': False, 'f': False}"
      ]
     },
     "execution_count": 52,
     "metadata": {},
     "output_type": "execute_result"
    }
   ],
   "source": [
    "# Gegeben sei das dictionary G. Erzeuge ein neues dictionary m, das jedem key in G den Wert False zuordnet\n",
    "G = {\n",
    "    'a': set('e'),\n",
    "    'b': set('e'),\n",
    "    'c': set('d'),\n",
    "    'd': set('c'),\n",
    "    'e': set('abf'),\n",
    "    'f': set('e')\n",
    "}\n",
    "\n",
    "m = {k : False for k in G}\n",
    "m"
   ]
  },
  {
   "cell_type": "code",
   "execution_count": 54,
   "metadata": {},
   "outputs": [
    {
     "data": {
      "text/plain": [
       "['a', 'd', 'e']"
      ]
     },
     "execution_count": 54,
     "metadata": {},
     "output_type": "execute_result"
    }
   ],
   "source": [
    "# Gegeben sei das dictionary G. Erzeuge eine Liste a  mit allen keys von G, deren Wert True ist.\n",
    "G = {\n",
    "    'a': True,\n",
    "    'b': False,\n",
    "    'c': False,\n",
    "    'd': True,\n",
    "    'e': True,\n",
    "    'f': False\n",
    "}\n",
    "m = [k for k in  G if G[k]]\n",
    "m"
   ]
  },
  {
   "cell_type": "code",
   "execution_count": null,
   "metadata": {},
   "outputs": [],
   "source": []
  }
 ],
 "metadata": {
  "kernelspec": {
   "display_name": "Python 3",
   "language": "python",
   "name": "python3"
  },
  "language_info": {
   "codemirror_mode": {
    "name": "ipython",
    "version": 3
   },
   "file_extension": ".py",
   "mimetype": "text/x-python",
   "name": "python",
   "nbconvert_exporter": "python",
   "pygments_lexer": "ipython3",
   "version": "3.6.5"
  }
 },
 "nbformat": 4,
 "nbformat_minor": 2
}
