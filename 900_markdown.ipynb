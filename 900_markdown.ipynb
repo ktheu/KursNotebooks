{
 "cells": [
  {
   "cell_type": "markdown",
   "metadata": {},
   "source": [
    "## 2 Hash\n",
    "\n",
    "#### 4 Hash\n",
    "\n",
    "Drei Backticks\n",
    "\n",
    "```\n",
    "empty  :  liefert true, falls Schlange leer\n",
    "enq    :  fügt Element hinten ein\n",
    "front  :  liefert vorderstes Element\n",
    "deq    :  entfernt vorderstes Element\n",
    "```\n",
    "\n",
    "Drei Backticks mit Zusatz Python\n",
    "\n",
    "```python\n",
    "class Eintrag:  \n",
    "    def __init__(self):\n",
    "        self.inhalt = None\n",
    "        self.next = None\n",
    "```\n",
    "\n",
    "<details><summary>Die Klasse Eintrag</summary>\n",
    "<p>\n",
    "\n",
    "```python\n",
    "class Eintrag:  \n",
    "    def __init__(self):\n",
    "        self.inhalt = None\n",
    "        self.next = None\n",
    "```\n",
    "</p>\n",
    "</details>"
   ]
  },
  {
   "cell_type": "code",
   "execution_count": null,
   "metadata": {},
   "outputs": [],
   "source": []
  }
 ],
 "metadata": {
  "kernelspec": {
   "display_name": "Python 3",
   "language": "python",
   "name": "python3"
  },
  "language_info": {
   "codemirror_mode": {
    "name": "ipython",
    "version": 3
   },
   "file_extension": ".py",
   "mimetype": "text/x-python",
   "name": "python",
   "nbconvert_exporter": "python",
   "pygments_lexer": "ipython3",
   "version": "3.7.5"
  }
 },
 "nbformat": 4,
 "nbformat_minor": 4
}
