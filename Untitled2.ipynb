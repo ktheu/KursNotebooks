{
 "cells": [
  {
   "cell_type": "code",
   "execution_count": 3,
   "metadata": {},
   "outputs": [
    {
     "name": "stdout",
     "output_type": "stream",
     "text": [
      "Pfad von s nach h : s a b h\n",
      "Länge = 3\n"
     ]
    }
   ],
   "source": [
    "from collections import deque\n",
    "\n",
    "G = {\n",
    "'a': set('sb'),\n",
    "'b': set('acgh'),\n",
    "'c': set('bs'),\n",
    "'d': set('sef'),\n",
    "'e': set('sd'),\n",
    "'f': set('dg'),\n",
    "'g': set('bfh'),\n",
    "'h': set('bg'),\n",
    "'s': set('acde')\n",
    "}\n",
    "\n",
    "def reconstructPath(s,u,prev):\n",
    "    result = []\n",
    "    while u != s:\n",
    "        result.append(u)\n",
    "        u = prev[u]\n",
    "    result.append(s)\n",
    "    result.reverse()\n",
    "    return result\n",
    "\n",
    "inf = float('inf')\n",
    "dist = {v:inf for v in G}\n",
    "prev = {v:None for v in G}\n",
    "\n",
    "s = 's'         # Startknoten\n",
    "dist[s] = 0\n",
    "Q = deque([s])          \n",
    "while Q:\n",
    "    u = Q.popleft()\n",
    "    #for v in G[u]:\n",
    "    for v in sorted(G[u]):       #  für alphabetische Reihenfolge  \n",
    "        if dist[v] == inf:\n",
    "            Q.append(v)\n",
    "            dist[v] = dist[u]+1\n",
    "            prev[v] = u\n",
    "ziel = 'h'\n",
    "print('Pfad von',s,'nach',ziel,':',*reconstructPath(s,ziel,prev))\n",
    "print('Länge =',dist[ziel]) \n",
    " "
   ]
  },
  {
   "cell_type": "code",
   "execution_count": null,
   "metadata": {},
   "outputs": [],
   "source": [
    "print()"
   ]
  }
 ],
 "metadata": {
  "kernelspec": {
   "display_name": "Python 3",
   "language": "python",
   "name": "python3"
  },
  "language_info": {
   "codemirror_mode": {
    "name": "ipython",
    "version": 3
   },
   "file_extension": ".py",
   "mimetype": "text/x-python",
   "name": "python",
   "nbconvert_exporter": "python",
   "pygments_lexer": "ipython3",
   "version": "3.7.4"
  }
 },
 "nbformat": 4,
 "nbformat_minor": 4
}
