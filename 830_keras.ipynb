{
 "cells": [
  {
   "cell_type": "markdown",
   "metadata": {},
   "source": [
    "#### OR Funktion mit Keras"
   ]
  },
  {
   "cell_type": "code",
   "execution_count": null,
   "metadata": {},
   "outputs": [],
   "source": [
    "import numpy as np\n",
    "from keras.models import Sequential\n",
    "from keras.layers import Dense, Activation\n",
    "X = np.array([(0,0),(0,1),(1,0),(1,1)])\n",
    "Y = np.array([0,1,1,1]) \n",
    "Y = Y.reshape(4,1)\n",
    "\n",
    "model = Sequential()\n",
    "\n",
    "model.add(Dense(1, input_dim=2))\n",
    "model.add(Activation('sigmoid'))\n",
    " \n",
    "model.compile(optimizer='sgd', loss='mse')\n",
    "model.fit(X, Y, epochs=1000, verbose=0)\n",
    "\n",
    "print(model.predict(X) )"
   ]
  },
  {
   "cell_type": "markdown",
   "metadata": {},
   "source": [
    "#### Xor mit Keras"
   ]
  },
  {
   "cell_type": "code",
   "execution_count": null,
   "metadata": {},
   "outputs": [],
   "source": [
    "import numpy as np\n",
    "from keras.models import Sequential\n",
    "from keras.layers import Dense, Activation\n",
    "X_train = np.array([(0,0),(0,1),(1,0),(1,1)])\n",
    "Y_train = np.array([0,1,1,0]) \n",
    "Y_train = Y_train.reshape(4,1)\n",
    "\n",
    "np.random.seed(12)    # hat Erfolg\n",
    "#np.random.seed(0)    # hat keinen Erfolg\n",
    "\n",
    "model = Sequential()\n",
    "model.add(Dense(2, input_dim=2))\n",
    "model.add(Activation('relu'))\n",
    "model.add(Dense(1))\n",
    "model.add(Activation('sigmoid'))\n",
    " \n",
    "model.compile(optimizer='rmsprop', loss='mse')\n",
    "model.fit(X_train, Y_train, epochs=5000,verbose=0)\n",
    "\n",
    "#for layer in model.layers:\n",
    "#    print(layer.get_weights())\n",
    "\n",
    "print(model.predict(X_train) )"
   ]
  },
  {
   "cell_type": "code",
   "execution_count": null,
   "metadata": {},
   "outputs": [],
   "source": [
    "import numpy as np\n",
    "from keras.models import Sequential\n",
    "from keras.layers import Dense, Activation\n",
    " \n",
    "X_train = np.array([(0,0),(0,1),(1,0),(1,1)])\n",
    "Y_train = np.array([1,0,0,1]) \n",
    "Y_train = Y_train.reshape(4,1)\n",
    "\n",
    "model = Sequential()\n",
    "model.add(Dense(3, input_dim=2))\n",
    "model.add(Activation('relu'))\n",
    "model.add(Dense(3))\n",
    "model.add(Activation('relu'))\n",
    "model.add(Dense(1))\n",
    "model.add(Activation('sigmoid'))\n",
    " \n",
    "model.compile(optimizer='rmsprop', loss='mse')\n",
    "\n",
    "model.fit(X_train, Y_train, epochs=10000,verbose=0)\n",
    "print(model.predict(X_train) )"
   ]
  }
 ],
 "metadata": {
  "kernelspec": {
   "display_name": "Python 3",
   "language": "python",
   "name": "python3"
  },
  "language_info": {
   "codemirror_mode": {
    "name": "ipython",
    "version": 3
   },
   "file_extension": ".py",
   "mimetype": "text/x-python",
   "name": "python",
   "nbconvert_exporter": "python",
   "pygments_lexer": "ipython3",
   "version": "3.7.5"
  }
 },
 "nbformat": 4,
 "nbformat_minor": 4
}
