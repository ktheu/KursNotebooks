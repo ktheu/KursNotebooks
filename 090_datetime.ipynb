{
 "cells": [
  {
   "cell_type": "markdown",
   "metadata": {},
   "source": [
    "# Modul datetime\n",
    "Das datetime Modul bietet Funktionen zum Rechnen mit Datum und Zeit"
   ]
  },
  {
   "cell_type": "code",
   "execution_count": 3,
   "metadata": {
    "collapsed": false
   },
   "outputs": [
    {
     "data": {
      "text/plain": [
       "datetime.date(2017, 10, 24)"
      ]
     },
     "execution_count": 3,
     "metadata": {},
     "output_type": "execute_result"
    }
   ],
   "source": [
    "import datetime  \n",
    "d1 = datetime.date(2016,11,24)\n",
    "d2 = datetime.date(2017,10,24)\n",
    "max(d1,d2)"
   ]
  },
  {
   "cell_type": "code",
   "execution_count": 4,
   "metadata": {
    "collapsed": false
   },
   "outputs": [
    {
     "name": "stdout",
     "output_type": "stream",
     "text": [
      "334 days, 0:00:00\n"
     ]
    }
   ],
   "source": [
    "print(d2 - d1)"
   ]
  },
  {
   "cell_type": "markdown",
   "metadata": {},
   "source": [
    "### Nützliche Typen\n",
    "Das datetime-Modul stellt folgende Typen zur Verfügung\n",
    "* date: speichert ein Datum (Monat, Tag, Jahr)\n",
    "* time: speichert die Zeit (Stunden, Minuten, Sekunden)\n",
    "* datetime: speichert Datum und Zeit  \n",
    "* timedelta: Zeit zwischen zwei date-Objekten"
   ]
  },
  {
   "cell_type": "markdown",
   "metadata": {},
   "source": [
    " ### datetime.date"
   ]
  },
  {
   "cell_type": "code",
   "execution_count": 27,
   "metadata": {
    "collapsed": false
   },
   "outputs": [
    {
     "name": "stdout",
     "output_type": "stream",
     "text": [
      "<class 'datetime.timedelta'>\n",
      "6871 days, 0:00:00\n",
      "6871\n"
     ]
    }
   ],
   "source": [
    "import datetime\n",
    "anfang_jahrhundert = datetime.date(2000,1,1)\n",
    "heute = datetime.date.today()\n",
    "diff = heute - anfang_jahrhundert \n",
    "print(type(diff))\n",
    "print(diff)\n",
    "print(diff.days)"
   ]
  },
  {
   "cell_type": "markdown",
   "metadata": {},
   "source": [
    "<h3>datetime.datetime</h3>"
   ]
  },
  {
   "cell_type": "code",
   "execution_count": 28,
   "metadata": {
    "collapsed": false
   },
   "outputs": [
    {
     "name": "stdout",
     "output_type": "stream",
     "text": [
      "2018-10-24 14:48:59.568559\n",
      "2000-01-01 00:00:00\n",
      "6871 days, 14:48:59.568559\n",
      "6871\n"
     ]
    }
   ],
   "source": [
    "anfang_jahrhundert = datetime.datetime(2000,1,1,0,0,0)\n",
    "jetzt = datetime.datetime.now()\n",
    "diff = jetzt - anfang_jahrhundert\n",
    "print(jetzt)\n",
    "print(anfang_jahrhundert)\n",
    "print(diff)\n",
    "print(diff.days)\n"
   ]
  },
  {
   "cell_type": "markdown",
   "metadata": {},
   "source": [
    "### Gültigkeit eines Datums</h4>\n",
    "Ein ValueError wird bei einem üngültigen Datum geworden"
   ]
  },
  {
   "cell_type": "code",
   "execution_count": null,
   "metadata": {
    "collapsed": false
   },
   "outputs": [],
   "source": [
    "some_date = datetime.date(2015,2,29)\n",
    "#some_date = datetime.date(2016,2,29)\n",
    "#some_time = datetime.datetime(2015,2,28,23,60,0)"
   ]
  },
  {
   "cell_type": "markdown",
   "metadata": {},
   "source": [
    "### datetime.timedelta \n",
    "Differenz zwischen date-Objekten"
   ]
  },
  {
   "cell_type": "code",
   "execution_count": 35,
   "metadata": {
    "collapsed": false
   },
   "outputs": [
    {
     "name": "stdout",
     "output_type": "stream",
     "text": [
      "6871\n",
      "593654400.0\n",
      "9894240.0\n",
      "164904.0\n"
     ]
    }
   ],
   "source": [
    "anfang_jahrhundert = datetime.date(2000,1,1)\n",
    "heute = datetime.date.today()\n",
    "diff = heute - anfang_jahrhundert\n",
    "print(diff.days)                           # Tage\n",
    "print(diff.total_seconds())                # Sekunden        \n",
    "print(diff.total_seconds()/60)             # Minuten\n",
    "print(diff.total_seconds()/60/60)          # Stunden"
   ]
  },
  {
   "cell_type": "markdown",
   "metadata": {},
   "source": [
    "Differenz zwischen datetime-Objekten"
   ]
  },
  {
   "cell_type": "code",
   "execution_count": 38,
   "metadata": {},
   "outputs": [
    {
     "name": "stdout",
     "output_type": "stream",
     "text": [
      "6871\n",
      "593708247.865979\n",
      "9895137.464432983\n",
      "164918.95774054973\n"
     ]
    }
   ],
   "source": [
    "anfang_jahrhundert = datetime.datetime(2000,1,1,0,0,0)\n",
    "jetzt = datetime.datetime.now()\n",
    "diff = jetzt - anfang_jahrhundert\n",
    "print(diff.days)                           # Tage\n",
    "print(diff.total_seconds())                # Sekunden        \n",
    "print(diff.total_seconds()/60)             # Minuten\n",
    "print(diff.total_seconds()/60/60)          # Stunden"
   ]
  },
  {
   "cell_type": "markdown",
   "metadata": {},
   "source": [
    "### Die aktuelle Uhrzeit"
   ]
  },
  {
   "cell_type": "code",
   "execution_count": 40,
   "metadata": {
    "collapsed": false
   },
   "outputs": [
    {
     "name": "stdout",
     "output_type": "stream",
     "text": [
      "14:58:02.305238\n"
     ]
    }
   ],
   "source": [
    "jetzt = datetime.datetime.now()\n",
    "uhrzeit = jetzt.time()\n",
    "print(uhrzeit)"
   ]
  },
  {
   "cell_type": "markdown",
   "metadata": {},
   "source": [
    "#### Rechnen mit date- und datetime-Objekten\n"
   ]
  },
  {
   "cell_type": "code",
   "execution_count": 43,
   "metadata": {
    "collapsed": false
   },
   "outputs": [
    {
     "name": "stdout",
     "output_type": "stream",
     "text": [
      "2018-10-29\n"
     ]
    }
   ],
   "source": [
    "heute = datetime.date.today()\n",
    "in_5_tagen = heute + datetime.timedelta(days=5)\n",
    "print(in_5_tagen)\n"
   ]
  },
  {
   "cell_type": "code",
   "execution_count": 44,
   "metadata": {
    "collapsed": false
   },
   "outputs": [
    {
     "name": "stdout",
     "output_type": "stream",
     "text": [
      "2018-10-24 15:07:16.239807\n"
     ]
    }
   ],
   "source": [
    "jetzt = datetime.datetime.today()\n",
    "in_5min_5sec = jetzt + datetime.timedelta(minutes=5,seconds=5)\n",
    "print(in_5min_5sec)"
   ]
  },
  {
   "cell_type": "code",
   "execution_count": 46,
   "metadata": {
    "collapsed": false
   },
   "outputs": [
    {
     "name": "stdout",
     "output_type": "stream",
     "text": [
      "2018-10-24 14:58:05.871173\n"
     ]
    }
   ],
   "source": [
    "jetzt = datetime.datetime.today()\n",
    "vor_5min_5sec = jetzt + datetime.timedelta(minutes=-5,seconds=-5)\n",
    "print(vor_5min_5sec)"
   ]
  },
  {
   "cell_type": "markdown",
   "metadata": {},
   "source": [
    "#### Rechnen mit time-Objekten\n",
    "Rechnen mit timedelta geht bei date- und datetime-Objekten, aber nicht bei time-Objekten"
   ]
  },
  {
   "cell_type": "code",
   "execution_count": null,
   "metadata": {
    "collapsed": false
   },
   "outputs": [],
   "source": [
    "uhrzeit = datetime.datetime.now().time() #Returns the time component (drops the day)\n",
    "print(uhrzeit)\n",
    "spaeter = uhrzeit + datetime.timedelta(seconds=30)\n"
   ]
  },
  {
   "cell_type": "markdown",
   "metadata": {},
   "source": [
    "Zum Rechnen mit time-Objekten schreiben wir eine eigene Funktion:"
   ]
  },
  {
   "cell_type": "code",
   "execution_count": 51,
   "metadata": {
    "collapsed": false
   },
   "outputs": [],
   "source": [
    "def add_to_time(zeit,delta):\n",
    "    '''\n",
    "    zeit: time-Objekt\n",
    "    delta: timedelta-Objekt\n",
    "    returns: time-Objekt, um timedelta später als zeit\n",
    "    '''\n",
    "    temp = datetime.datetime(1,1,1,zeit.hour,zeit.minute,zeit.second)\n",
    "    return (temp + delta).time()\n"
   ]
  },
  {
   "cell_type": "code",
   "execution_count": 53,
   "metadata": {
    "collapsed": false
   },
   "outputs": [
    {
     "name": "stdout",
     "output_type": "stream",
     "text": [
      "15:30:56.326900 15:31:26\n"
     ]
    }
   ],
   "source": [
    "# Testen\n",
    "jetzt = datetime.datetime.now().time()\n",
    "delta =datetime.timedelta(seconds=30)\n",
    "print(jetzt,add_to_time(jetzt,delta))"
   ]
  },
  {
   "cell_type": "markdown",
   "metadata": {},
   "source": [
    "#### datetime und strings \n",
    "Häufig erhält man ein Datum als String"
   ]
  },
  {
   "cell_type": "markdown",
   "metadata": {},
   "source": [
    "#### String in Datum: datetime.strptime \n",
    "Häufig erhält man ein Datum als String.\n",
    "datetime.strptime() wandelt einen String in ein date-, datetime- oder time-Objekt um. Der Funktion muss\n",
    "eine __[Formatangabe](https://docs.python.org/3/library/datetime.html#strftime-and-strptime-behavior)__ mitgegeben werden. \n"
   ]
  },
  {
   "cell_type": "code",
   "execution_count": 54,
   "metadata": {
    "collapsed": false
   },
   "outputs": [
    {
     "name": "stdout",
     "output_type": "stream",
     "text": [
      "2003-04-01 00:00:00\n"
     ]
    }
   ],
   "source": [
    "date='01-Apr-03'\n",
    "date_object=datetime.datetime.strptime(date,'%d-%b-%y')\n",
    "print(date_object)"
   ]
  },
  {
   "cell_type": "markdown",
   "metadata": {},
   "source": [
    "Eine entsprechende Umwandlung in ein timedelta-Objekt gibt es nicht. Wir können uns so behelfen:"
   ]
  },
  {
   "cell_type": "code",
   "execution_count": 56,
   "metadata": {
    "collapsed": false
   },
   "outputs": [
    {
     "name": "stdout",
     "output_type": "stream",
     "text": [
      "2:15:30\n"
     ]
    }
   ],
   "source": [
    "fahrzeit = '2:15:30'\n",
    "h,m,s = fahrzeit.split(':')\n",
    "x = datetime.timedelta(hours=int(h),minutes=int(m),seconds=int(s))\n",
    "print(x)"
   ]
  },
  {
   "cell_type": "markdown",
   "metadata": {},
   "source": [
    "#### Datum in String: datetime.strftime\n"
   ]
  },
  {
   "cell_type": "code",
   "execution_count": 62,
   "metadata": {
    "collapsed": false
   },
   "outputs": [
    {
     "name": "stdout",
     "output_type": "stream",
     "text": [
      "24.10.2018 15:50\n",
      "2018-10-24 15:50:43.481766\n"
     ]
    }
   ],
   "source": [
    "jetzt = datetime.datetime.now()\n",
    "jetzt_string = datetime.datetime.strftime(jetzt,'%d.%m.%Y %H:%M')\n",
    "print(jetzt_string)\n",
    "print(str(jetzt))    # die default-Umwandlung\n"
   ]
  },
  {
   "cell_type": "markdown",
   "metadata": {},
   "source": [
    "#### Wochentage"
   ]
  },
  {
   "cell_type": "code",
   "execution_count": 69,
   "metadata": {},
   "outputs": [
    {
     "name": "stdout",
     "output_type": "stream",
     "text": [
      "2\n"
     ]
    },
    {
     "data": {
      "text/plain": [
       "'Wednesday'"
      ]
     },
     "execution_count": 69,
     "metadata": {},
     "output_type": "execute_result"
    }
   ],
   "source": [
    "heute = datetime.date.today()\n",
    "print(heute.weekday())     # 0 - Montag, ... 6 - Sonntag\n",
    "heute.strftime(\"%A\")"
   ]
  },
  {
   "cell_type": "code",
   "execution_count": 76,
   "metadata": {},
   "outputs": [
    {
     "data": {
      "text/plain": [
       "'Mittwoch'"
      ]
     },
     "execution_count": 76,
     "metadata": {},
     "output_type": "execute_result"
    }
   ],
   "source": [
    "import locale\n",
    "locale.setlocale(locale.LC_TIME,'')\n",
    "heute = datetime.date.today()\n",
    "heute.strftime(\"%A\")"
   ]
  },
  {
   "cell_type": "code",
   "execution_count": null,
   "metadata": {},
   "outputs": [],
   "source": []
  }
 ],
 "metadata": {
  "kernelspec": {
   "display_name": "Python 3",
   "language": "python",
   "name": "python3"
  },
  "language_info": {
   "codemirror_mode": {
    "name": "ipython",
    "version": 3
   },
   "file_extension": ".py",
   "mimetype": "text/x-python",
   "name": "python",
   "nbconvert_exporter": "python",
   "pygments_lexer": "ipython3",
   "version": "3.6.5"
  }
 },
 "nbformat": 4,
 "nbformat_minor": 2
}
