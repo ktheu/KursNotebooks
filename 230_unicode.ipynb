{
 "cells": [
  {
   "cell_type": "markdown",
   "metadata": {},
   "source": [
    "### Ascii, Unicode, UTF8\n",
    "\n",
    "Ascii-Art z.B. auf _[http://www.ascii-art.de](http://www.ascii-art.de)_"
   ]
  },
  {
   "cell_type": "code",
   "execution_count": 3,
   "metadata": {},
   "outputs": [],
   "source": [
    "butterfly = '''\n",
    "\n",
    "                                _ \" _\n",
    " _ \" _                         (_\\|/_)\n",
    "(_\\|/_)  _ \" _         _ \" _    (/|\\)\n",
    " (/|\\)  (_\\|/_) \" _   (_\\|/_)\n",
    "         (/|\\)_\\|/_)   (/|\\)\n",
    " ejm97        (/|\\)\n",
    "'''\n"
   ]
  },
  {
   "cell_type": "code",
   "execution_count": 5,
   "metadata": {},
   "outputs": [
    {
     "name": "stdout",
     "output_type": "stream",
     "text": [
      "\n",
      "\n",
      "                                _ \" _\n",
      " _ \" _                         (_\\|/_)\n",
      "(_\\|/_)  _ \" _         _ \" _    (/|\\)\n",
      " (/|\\)  (_\\|/_) \" _   (_\\|/_)\n",
      "         (/|\\)_\\|/_)   (/|\\)\n",
      " ejm97        (/|\\)\n",
      "\n"
     ]
    }
   ],
   "source": [
    "print(butterfly)"
   ]
  },
  {
   "cell_type": "markdown",
   "metadata": {},
   "source": [
    "#### Codepoint und UTF8-Codierung"
   ]
  },
  {
   "cell_type": "code",
   "execution_count": 18,
   "metadata": {},
   "outputs": [
    {
     "name": "stdout",
     "output_type": "stream",
     "text": [
      "Dezimaler Codepoint von ﻿:  65279\n",
      "Hexadezimaler Codepoint von ﻿:  0xfeff\n",
      "UTF8-Codierung von ﻿:  b'\\xef\\xbb\\xbf'\n",
      "﻿\n"
     ]
    }
   ],
   "source": [
    "zeichen = '€'\n",
    "dezCodePoint = ord(zeichen)\n",
    "hexCodePoint = hex(dezCodePoint)\n",
    "utf8code = zeichen.encode('utf-8')\n",
    "\n",
    "print('Dezimaler Codepoint von {}:  {}'.format(zeichen,dezCodePoint))\n",
    "print('Hexadezimaler Codepoint von {}:  {}'.format(zeichen,hexCodePoint))\n",
    "print('UTF8-Codierung von {}:  {}'.format(zeichen,utf8code))"
   ]
  },
  {
   "cell_type": "code",
   "execution_count": 15,
   "metadata": {},
   "outputs": [
    {
     "name": "stdout",
     "output_type": "stream",
     "text": [
      "♔ ♔\n"
     ]
    }
   ],
   "source": [
    "# zwei wege, um vom hexadezimalen codepoint zum zeichen zu kommen: \n",
    "zeichen1 = '\\u2654'   \n",
    "zeichen2 =  chr(0x2654)\n",
    "print(zeichen1, zeichen2)\n"
   ]
  },
  {
   "cell_type": "markdown",
   "metadata": {},
   "source": [
    "Die Bytefolge *EF BB BF* heißt **Byte Order Mark (BOM)** und gibt den\n",
    "Editor einen Hinweis darauf, dass eine UTF-8 Kodierung vorliegt."
   ]
  },
  {
   "cell_type": "code",
   "execution_count": 1,
   "metadata": {},
   "outputs": [
    {
     "data": {
      "text/plain": [
       "b'\\xef\\xbb\\xbf'"
      ]
     },
     "execution_count": 1,
     "metadata": {},
     "output_type": "execute_result"
    }
   ],
   "source": [
    "bom = '\\ufeff' # utf-8 BOM kodierung: EF BB BF\n",
    "bom.encode('utf-8')"
   ]
  },
  {
   "cell_type": "markdown",
   "metadata": {},
   "source": [
    "12 Zeichen ab hexadezimalem Codepoint 2654 in UTF-8 Kodierung mit BOM in eine Datei schreiben:"
   ]
  },
  {
   "cell_type": "code",
   "execution_count": 5,
   "metadata": {},
   "outputs": [],
   "source": [
    "zeile = '\\ufeff' # utf-8 BOM kodierung: EF BB BF\n",
    "k = 0x2654\n",
    "for i in range(12):\n",
    "    zeile += chr(k + i) + ' '\n",
    "    \n",
    "f = open('unicode.txt','w',encoding = 'utf8')\n",
    "f.write(zeile+'\\n')\n",
    "f.close()\n"
   ]
  },
  {
   "cell_type": "code",
   "execution_count": null,
   "metadata": {},
   "outputs": [],
   "source": []
  }
 ],
 "metadata": {
  "kernelspec": {
   "display_name": "Python 3",
   "language": "python",
   "name": "python3"
  },
  "language_info": {
   "codemirror_mode": {
    "name": "ipython",
    "version": 3
   },
   "file_extension": ".py",
   "mimetype": "text/x-python",
   "name": "python",
   "nbconvert_exporter": "python",
   "pygments_lexer": "ipython3",
   "version": "3.6.5"
  }
 },
 "nbformat": 4,
 "nbformat_minor": 2
}
