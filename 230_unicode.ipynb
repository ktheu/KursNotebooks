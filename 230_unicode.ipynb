{
 "cells": [
  {
   "cell_type": "markdown",
   "metadata": {},
   "source": [
    "### Ascii, Unicode, UTF8\n",
    "\n",
    "Ascii-Art z.B. auf _[http://www.ascii-art.de](http://www.ascii-art.de)_"
   ]
  },
  {
   "cell_type": "code",
   "execution_count": 3,
   "metadata": {},
   "outputs": [],
   "source": [
    "butterfly = '''\n",
    "\n",
    "                                _ \" _\n",
    " _ \" _                         (_\\|/_)\n",
    "(_\\|/_)  _ \" _         _ \" _    (/|\\)\n",
    " (/|\\)  (_\\|/_) \" _   (_\\|/_)\n",
    "         (/|\\)_\\|/_)   (/|\\)\n",
    " ejm97        (/|\\)\n",
    "'''\n"
   ]
  },
  {
   "cell_type": "code",
   "execution_count": 5,
   "metadata": {},
   "outputs": [
    {
     "name": "stdout",
     "output_type": "stream",
     "text": [
      "\n",
      "\n",
      "                                _ \" _\n",
      " _ \" _                         (_\\|/_)\n",
      "(_\\|/_)  _ \" _         _ \" _    (/|\\)\n",
      " (/|\\)  (_\\|/_) \" _   (_\\|/_)\n",
      "         (/|\\)_\\|/_)   (/|\\)\n",
      " ejm97        (/|\\)\n",
      "\n"
     ]
    }
   ],
   "source": [
    "print(butterfly)"
   ]
  },
  {
   "cell_type": "markdown",
   "metadata": {},
   "source": [
    "#### Codepoint und UTF8-Codierung"
   ]
  },
  {
   "cell_type": "markdown",
   "metadata": {},
   "source": [
    "Vom Zeichen zur utf-8 Codierung:"
   ]
  },
  {
   "cell_type": "code",
   "execution_count": 1,
   "metadata": {},
   "outputs": [
    {
     "data": {
      "text/plain": [
       "8364"
      ]
     },
     "execution_count": 1,
     "metadata": {},
     "output_type": "execute_result"
    }
   ],
   "source": [
    "c = '€'\n",
    "ord(c)                # dezimaler Codepoint"
   ]
  },
  {
   "cell_type": "code",
   "execution_count": 4,
   "metadata": {},
   "outputs": [
    {
     "data": {
      "text/plain": [
       "'0x20ac'"
      ]
     },
     "execution_count": 4,
     "metadata": {},
     "output_type": "execute_result"
    }
   ],
   "source": [
    "hex(ord(c))           # hexadezimaler Codepoint"
   ]
  },
  {
   "cell_type": "code",
   "execution_count": 7,
   "metadata": {},
   "outputs": [
    {
     "data": {
      "text/plain": [
       "b'\\xe2\\x82\\xac'"
      ]
     },
     "execution_count": 7,
     "metadata": {},
     "output_type": "execute_result"
    }
   ],
   "source": [
    "c.encode('utf-8')     # utf-8 Codierung"
   ]
  },
  {
   "cell_type": "markdown",
   "metadata": {},
   "source": [
    "Vom hexadezimalen Codepoint zum Zeichen"
   ]
  },
  {
   "cell_type": "code",
   "execution_count": 11,
   "metadata": {},
   "outputs": [
    {
     "data": {
      "text/plain": [
       "'♔'"
      ]
     },
     "execution_count": 11,
     "metadata": {},
     "output_type": "execute_result"
    }
   ],
   "source": [
    "c = '\\u2654'         # so\n",
    "c"
   ]
  },
  {
   "cell_type": "code",
   "execution_count": 10,
   "metadata": {},
   "outputs": [
    {
     "data": {
      "text/plain": [
       "'♔'"
      ]
     },
     "execution_count": 10,
     "metadata": {},
     "output_type": "execute_result"
    }
   ],
   "source": [
    "c = chr(0x2654)      # oder so\n",
    "c"
   ]
  },
  {
   "cell_type": "markdown",
   "metadata": {},
   "source": [
    "Die Bytefolge *EF BB BF* heißt **Byte Order Mark (BOM)** und gibt den\n",
    "Editor einen Hinweis darauf, dass eine UTF-8 Kodierung vorliegt."
   ]
  },
  {
   "cell_type": "code",
   "execution_count": 12,
   "metadata": {},
   "outputs": [
    {
     "data": {
      "text/plain": [
       "b'\\xef\\xbb\\xbf'"
      ]
     },
     "execution_count": 12,
     "metadata": {},
     "output_type": "execute_result"
    }
   ],
   "source": [
    "bom = '\\ufeff'      \n",
    "bom.encode('utf-8')"
   ]
  },
  {
   "cell_type": "markdown",
   "metadata": {},
   "source": [
    "12 Zeichen ab hexadezimalem Codepoint 2654 in UTF-8 Kodierung mit BOM in eine Datei schreiben:"
   ]
  },
  {
   "cell_type": "code",
   "execution_count": 5,
   "metadata": {},
   "outputs": [],
   "source": [
    "zeile = '\\ufeff' # utf-8 BOM kodierung: EF BB BF\n",
    "k = 0x2654\n",
    "for i in range(12):\n",
    "    zeile += chr(k + i) + ' '\n",
    "    \n",
    "f = open('unicode.txt','w',encoding = 'utf8')\n",
    "f.write(zeile+'\\n')\n",
    "f.close()\n"
   ]
  },
  {
   "cell_type": "markdown",
   "metadata": {},
   "source": [
    "Das Modul **unicodedata** liefert die Namen der Zeichen"
   ]
  },
  {
   "cell_type": "code",
   "execution_count": 30,
   "metadata": {},
   "outputs": [
    {
     "data": {
      "text/plain": [
       "'WHITE CHESS KING'"
      ]
     },
     "execution_count": 30,
     "metadata": {},
     "output_type": "execute_result"
    }
   ],
   "source": [
    "import unicodedata\n",
    "c = '\\u2654'   \n",
    "unicodedata.name(c)\n"
   ]
  },
  {
   "cell_type": "code",
   "execution_count": 31,
   "metadata": {},
   "outputs": [
    {
     "data": {
      "text/plain": [
       "'LATIN CAPITAL LETTER U WITH DIAERESIS'"
      ]
     },
     "execution_count": 31,
     "metadata": {},
     "output_type": "execute_result"
    }
   ],
   "source": [
    "unicodedata.name('Ü')"
   ]
  },
  {
   "cell_type": "code",
   "execution_count": 20,
   "metadata": {},
   "outputs": [
    {
     "data": {
      "text/plain": [
       "'{'"
      ]
     },
     "execution_count": 20,
     "metadata": {},
     "output_type": "execute_result"
    }
   ],
   "source": [
    "unicodedata.lookup('LEFT CURLY BRACKET')"
   ]
  },
  {
   "cell_type": "code",
   "execution_count": 33,
   "metadata": {},
   "outputs": [
    {
     "data": {
      "text/plain": [
       "'9.0.0'"
      ]
     },
     "execution_count": 33,
     "metadata": {},
     "output_type": "execute_result"
    }
   ],
   "source": [
    "unicodedata.unidata_version"
   ]
  },
  {
   "cell_type": "code",
   "execution_count": 60,
   "metadata": {},
   "outputs": [
    {
     "name": "stdout",
     "output_type": "stream",
     "text": [
      "b''\n",
      "b''\n",
      "b''\n",
      "b''\n"
     ]
    },
    {
     "data": {
      "text/plain": [
       "(bytes,\n",
       " str,\n",
       " b'Ein K\\xc3\\xb6nig: \\xe2\\x99\\x94 ist das.\\r\\n',\n",
       " 'Ein König: ♔ ist das.\\r\\n')"
      ]
     },
     "execution_count": 60,
     "metadata": {},
     "output_type": "execute_result"
    }
   ],
   "source": [
    "import urllib.request\n",
    "\n",
    "datei = 'http://www.informatik42.de/KursV2/data/daten01.txt'  \n",
    "f = urllib.request.urlopen(datei)\n",
    "b = f.readline()\n",
    "s = b.decode('utf-8')\n",
    "f.close()    \n",
    "\n",
    "type(b), type(s), b, s, "
   ]
  },
  {
   "cell_type": "code",
   "execution_count": 70,
   "metadata": {},
   "outputs": [
    {
     "name": "stdout",
     "output_type": "stream",
     "text": [
      "﻿Christian Morgenstern\n",
      "\n",
      "Korf erfindet eine Art von Witzen, \n",
      "die erst viele Stunden später wirken.\n",
      "Jeder hört sie an mit Langerweile.\n",
      "Doch als hätt ein Zunder still geglommen,\n",
      "wird man nachts im Bette plötzlich munter,\n",
      "selig lächelnd wie ein satter Säugling.\n"
     ]
    }
   ],
   "source": [
    "import urllib.request\n",
    "\n",
    "datei = 'http://www.informatik42.de/KursV2/data/korf.txt'  \n",
    "\n",
    "f = urllib.request.urlopen(datei)\n",
    "data = []\n",
    "for s in f.readlines():\n",
    "    data.append(s.decode()[:-1])     # Zeilenvorschub wegnehmen\n",
    "f.close()\n",
    "\n",
    "for zeile in data:\n",
    "    print(zeile)\n",
    " "
   ]
  },
  {
   "cell_type": "code",
   "execution_count": null,
   "metadata": {},
   "outputs": [],
   "source": []
  }
 ],
 "metadata": {
  "kernelspec": {
   "display_name": "Python 3",
   "language": "python",
   "name": "python3"
  },
  "language_info": {
   "codemirror_mode": {
    "name": "ipython",
    "version": 3
   },
   "file_extension": ".py",
   "mimetype": "text/x-python",
   "name": "python",
   "nbconvert_exporter": "python",
   "pygments_lexer": "ipython3",
   "version": "3.6.5"
  }
 },
 "nbformat": 4,
 "nbformat_minor": 2
}
