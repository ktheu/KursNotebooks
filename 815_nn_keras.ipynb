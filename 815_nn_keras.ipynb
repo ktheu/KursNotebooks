{
 "cells": [
  {
   "cell_type": "markdown",
   "metadata": {},
   "source": [
    "### Neuronale Netze mit Keras"
   ]
  },
  {
   "cell_type": "markdown",
   "metadata": {},
   "source": [
    "#### OR-Verknüpfung"
   ]
  },
  {
   "cell_type": "code",
   "execution_count": 48,
   "metadata": {},
   "outputs": [
    {
     "name": "stdout",
     "output_type": "stream",
     "text": [
      "4/4 [==============================] - 0s 31ms/step\n",
      "[[0.2916065]\n",
      " [0.8292573]\n",
      " [0.8379253]\n",
      " [0.9838704]]\n",
      "\n",
      "Loss = 0.03517894446849823\n",
      "Accuracy = 1.0\n"
     ]
    }
   ],
   "source": [
    "import numpy as np\n",
    "from keras.models import Sequential\n",
    "from keras.layers import Dense, Activation, Input\n",
    "\n",
    "X  = [(0,0),(0,1),(1,0),(1,1)]\n",
    "Y = [0,1,1,1]\n",
    " \n",
    "X = np.array(X)              \n",
    "Y = np.array(Y).reshape(4,1)         \n",
    "model = Sequential()\n",
    "model.add(Dense(1, activation='sigmoid', input_dim=2))\n",
    "\n",
    "model.compile(optimizer='sgd', loss='mse', metrics=['accuracy'])\n",
    "\n",
    "model.fit(X, Y, epochs= 10000, verbose=0)\n",
    "preds =  model.evaluate(x = X, y = Y)\n",
    "\n",
    "print(model.predict(X) )\n",
    "print()\n",
    "print (\"Loss = \" + str(preds[0]))\n",
    "print (\"Accuracy = \" + str(preds[1]))"
   ]
  },
  {
   "cell_type": "code",
   "execution_count": 43,
   "metadata": {},
   "outputs": [
    {
     "data": {
      "text/plain": [
       "0.00611603818833828"
      ]
     },
     "execution_count": 43,
     "metadata": {},
     "output_type": "execute_result"
    }
   ],
   "source": [
    "preds"
   ]
  },
  {
   "cell_type": "markdown",
   "metadata": {},
   "source": [
    "#### XOR-Verknüpfung"
   ]
  },
  {
   "cell_type": "code",
   "execution_count": 49,
   "metadata": {},
   "outputs": [
    {
     "name": "stdout",
     "output_type": "stream",
     "text": [
      "4/4 [==============================] - 0s 39ms/step\n",
      "[[0.16247997]\n",
      " [0.91311455]\n",
      " [0.91036004]\n",
      " [0.06962917]]\n",
      "\n",
      "Loss = 0.0117080919444561\n",
      "Accuracy = 1.0\n"
     ]
    }
   ],
   "source": [
    "import numpy as np\n",
    "from keras.models import Sequential\n",
    "from keras.layers import Dense, Activation \n",
    "\n",
    "X  = [(0,0),(0,1),(1,0),(1,1)]\n",
    "Y = [0,1,1,0]\n",
    " \n",
    "X = np.array(X)              \n",
    "Y = np.array(Y).reshape(4,1)         \n",
    "model = Sequential()\n",
    "model.add(Dense(32, activation='relu', input_dim=2))\n",
    "model.add(Dense(1, activation='sigmoid'))\n",
    "\n",
    "model.compile(optimizer='sgd', loss='mse', metrics=['accuracy'])\n",
    "model.fit(X, Y, epochs=10000, verbose=0)\n",
    "preds = model.evaluate(x = X, y = Y)\n",
    "\n",
    "print(model.predict(X) )\n",
    "print()\n",
    "print (\"Loss = \" + str(preds[0]))\n",
    "print (\"Accuracy = \" + str(preds[1]))"
   ]
  },
  {
   "cell_type": "markdown",
   "metadata": {},
   "source": [
    "#### Hund mit 2 Features"
   ]
  },
  {
   "cell_type": "code",
   "execution_count": 59,
   "metadata": {},
   "outputs": [
    {
     "name": "stdout",
     "output_type": "stream",
     "text": [
      "426/426 [==============================] - 0s 438us/step\n",
      "Loss = 6.43683136348993\n",
      "Accuracy = 0.596244130895731\n"
     ]
    }
   ],
   "source": [
    "import numpy as np\n",
    "from keras.models import Sequential\n",
    "from keras.layers import Dense, Activation\n",
    "D = np.load('data/train_data.npy')\n",
    "X = D[:,[7,9]] \n",
    "Y = D[:,13].reshape(-1,1)\n",
    " \n",
    "model = Sequential()\n",
    "model.add(Dense(1, input_dim=2))\n",
    "model.add(Activation('sigmoid'))\n",
    "\n",
    "model.compile(optimizer='rmsprop',  loss='binary_crossentropy', metrics=['accuracy'])\n",
    "model.fit(X, Y, epochs = 4000, verbose=0)\n",
    "preds = model.evaluate(x = X, y = Y)\n",
    "\n",
    "print (\"Loss = \" + str(preds[0]))\n",
    "print (\"Accuracy = \" + str(preds[1])) "
   ]
  },
  {
   "cell_type": "markdown",
   "metadata": {},
   "source": [
    "#### Hund mit 13 Features"
   ]
  },
  {
   "cell_type": "code",
   "execution_count": 58,
   "metadata": {},
   "outputs": [
    {
     "name": "stdout",
     "output_type": "stream",
     "text": [
      "426/426 [==============================] - 0s 466us/step\n",
      "Loss = 0.3364518195250784\n",
      "Accuracy = 0.8568075111774212\n"
     ]
    }
   ],
   "source": [
    "import numpy as np\n",
    "from keras.models import Sequential\n",
    "from keras.layers import Dense, Activation\n",
    "D = np.load('data/train_data.npy')\n",
    "X = D[:,:13]\n",
    "Y = D[:,13].reshape(-1,1)\n",
    " \n",
    "model = Sequential()\n",
    "model.add(Dense(1, input_dim=13))\n",
    "model.add(Activation('sigmoid'))\n",
    "\n",
    "model.compile(optimizer='rmsprop',  loss='binary_crossentropy', metrics=['accuracy'])\n",
    "model.fit(X, Y, epochs = 2000, verbose=0)\n",
    "preds = model.evaluate(x = X, y = Y)\n",
    "\n",
    "print (\"Loss = \" + str(preds[0]))\n",
    "print (\"Accuracy = \" + str(preds[1])) "
   ]
  },
  {
   "cell_type": "code",
   "execution_count": 63,
   "metadata": {},
   "outputs": [
    {
     "name": "stdout",
     "output_type": "stream",
     "text": [
      "426/426 [==============================] - 0s 536us/step\n",
      "Loss = 5.558578340100571\n",
      "Accuracy = 0.6549295769051207\n"
     ]
    }
   ],
   "source": [
    "import numpy as np\n",
    "from keras.models import Sequential\n",
    "from keras.layers import Dense, Activation\n",
    "D = np.load('data/train_data.npy')\n",
    "X = D[:,:13]\n",
    "Y = D[:,13].reshape(-1,1)\n",
    " \n",
    "model = Sequential()\n",
    "model.add(Dense(32, input_dim=13))\n",
    "model.add(Activation('relu'))\n",
    "model.add(Dense(1))\n",
    "model.add(Activation('sigmoid'))\n",
    "\n",
    "model.compile(optimizer='rmsprop',  loss='binary_crossentropy', metrics=['accuracy'])\n",
    "model.fit(X, Y, epochs = 10000, verbose=0)\n",
    "preds = model.evaluate(x = X, y = Y)\n",
    "\n",
    "print (\"Loss = \" + str(preds[0]))\n",
    "print (\"Accuracy = \" + str(preds[1])) "
   ]
  },
  {
   "cell_type": "code",
   "execution_count": 104,
   "metadata": {},
   "outputs": [
    {
     "name": "stdout",
     "output_type": "stream",
     "text": [
      "200/200 [==============================] - 1s 4ms/step\n",
      "226/226 [==============================] - 0s 79us/step\n",
      "Train Accuracy = 1.0\n",
      "Test Accuracy = 0.8451327433628318\n"
     ]
    }
   ],
   "source": [
    "# Nicht verändern: dieses Model erreicht 100% beim Training und 84% beim Test\n",
    "\n",
    "import numpy as np\n",
    "from keras.models import Sequential\n",
    "from keras.layers import Dense, Activation, Dropout\n",
    "from keras.optimizers import SGD\n",
    "D = np.load('data/train_data.npy')\n",
    "train, test = D[:200], D[200:]\n",
    "X = train[:,:13]\n",
    "Y = train[:,13].reshape(-1,1)\n",
    "X_test = test[:,:13]\n",
    "Y_test = test[:,13].reshape(-1,1)\n",
    "\n",
    "model = Sequential()\n",
    "model.add(Dense(128, input_dim=13, activation='relu'))\n",
    "model.add(Dropout(0.4))\n",
    "model.add(Dense(64, activation='relu'))\n",
    "model.add(Dropout(0.4))\n",
    "model.add(Dense(32, activation='relu'))\n",
    "model.add(Dropout(0.4))\n",
    "model.add(Dense(16, activation='relu'))\n",
    "model.add(Dropout(0.4))\n",
    "model.add(Dense(1, activation='sigmoid'))\n",
    " \n",
    "model.compile(loss='binary_crossentropy',\n",
    "              optimizer='rmsprop',\n",
    "              metrics=['accuracy'])\n",
    "\n",
    "model.fit(X, Y,\n",
    "          epochs=9000,\n",
    "          batch_size=64, verbose=0)\n",
    "\n",
    "score = model.evaluate(X, Y)\n",
    "score_test = model.evaluate(X_test, Y_test)\n",
    "print (\"Train Accuracy = \" + str(score[1])) \n",
    "print (\"Test Accuracy = \" + str(score_test[1])) "
   ]
  },
  {
   "cell_type": "code",
   "execution_count": null,
   "metadata": {},
   "outputs": [],
   "source": []
  }
 ],
 "metadata": {
  "kernelspec": {
   "display_name": "Python 3",
   "language": "python",
   "name": "python3"
  },
  "language_info": {
   "codemirror_mode": {
    "name": "ipython",
    "version": 3
   },
   "file_extension": ".py",
   "mimetype": "text/x-python",
   "name": "python",
   "nbconvert_exporter": "python",
   "pygments_lexer": "ipython3",
   "version": "3.6.5"
  }
 },
 "nbformat": 4,
 "nbformat_minor": 2
}
