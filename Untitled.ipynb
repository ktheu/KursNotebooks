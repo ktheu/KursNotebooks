{
 "cells": [
  {
   "cell_type": "code",
   "execution_count": 31,
   "metadata": {},
   "outputs": [
    {
     "name": "stdout",
     "output_type": "stream",
     "text": [
      "1.45099728905505 4.78483091312064\n"
     ]
    }
   ],
   "source": [
    "import math\n",
    "from sympy import symbols, Eq, solve, cos, sin\n",
    "_w, _beta = symbols(\"_w _beta\")\n",
    "\n",
    "def p2(x1,x2,r,alpha):\n",
    "    alphaR = math.radians(alpha)\n",
    "    erg = solve(Eq(_w/(2*r), sin(alphaR/2)))\n",
    "    w = erg[0]\n",
    "    e = Eq((x1 + w * cos(_beta))**2 + (y1 + w * sin(_beta))**2, r**2)\n",
    "    erg = solve(e)\n",
    "    beta = erg[1]\n",
    "    return (x1 + w * cos(beta), y1 + w * sin(beta)) \n",
    "\n",
    "x2, y2 = p2(3,4,5,20)\n",
    "print(x2, y2)"
   ]
  },
  {
   "cell_type": "code",
   "execution_count": 27,
   "metadata": {},
   "outputs": [
    {
     "name": "stdout",
     "output_type": "stream",
     "text": [
      "1.73648177666930\n",
      "[-0.818034033992717, 2.67262446999594]\n",
      "-0.818034033992717\n",
      "4.18715843566040 2.73271005316663\n"
     ]
    },
    {
     "data": {
      "text/plain": [
       "25.0000000000000"
      ]
     },
     "execution_count": 27,
     "metadata": {},
     "output_type": "execute_result"
    }
   ],
   "source": [
    "    \n",
    "    \n",
    "    \n",
    "_w, _w1 = symbols(\"_w _w1\")\n",
    " \n",
    "_x1, _y1, _x2, _y2 = symbols(\"_x1, _y1, _x2, _y2\",real=True)\n",
    "\n",
    "r = 5\n",
    "winkel = 20\n",
    "x1, y1 = 3, 4\n",
    "\n",
    "alpha = math.radians(winkel)  \n",
    "erg = solve(Eq(_w/(2*r), sin(alpha/2)))\n",
    "w = erg[0]\n",
    "print(w)\n",
    "\n",
    "e = Eq((x1 + w * cos(_w1))**2 + (y1 + w * sin(_w1))**2, r**2)\n",
    "erg = solve(e)\n",
    "print(erg)\n",
    "w1 = erg[0]\n",
    "print(w1)\n",
    "x2, y2 = (x1 + w * cos(w1), y1 + w * sin(w1)) \n",
    "print(x2,y2)\n",
    "\n",
    "\n",
    "x2**2 + y2**2\n",
    "  "
   ]
  },
  {
   "cell_type": "code",
   "execution_count": 33,
   "metadata": {},
   "outputs": [
    {
     "name": "stdout",
     "output_type": "stream",
     "text": [
      "0.984807753012208\n",
      "3.59357921783020 3.36635502658331\n",
      "4.18715843566040 2.73271005316662\n",
      "15.2461577598238\n",
      "[0.0506029557391832]\n"
     ]
    },
    {
     "data": {
      "text/plain": [
       "2.7321999999999997"
      ]
     },
     "execution_count": 33,
     "metadata": {},
     "output_type": "execute_result"
    }
   ],
   "source": [
    "import math\n",
    "from sympy import symbols, Eq, solve, cos, sin,sqrt\n",
    "y2, _k = symbols(\"y2 _k\")\n",
    "\n",
    "k = cos(math.radians(10))\n",
    "print(k)\n",
    "e = Eq(k,(3+4*y2)/(5*sqrt(1+y2**2)))\n",
    "erg = solve(e)\n",
    "b = erg[0]\n",
    "d = 3 + b*4\n",
    "z1 = d/(1+b**2)\n",
    "z2 = b*z1\n",
    "print(z1,z2)\n",
    "p2x = 3 + 2*(z1-3)\n",
    "p2y = 4 + 2*(z2-4)\n",
    "print(p2x, p2y)\n",
    "print((5*k)**2-9)\n",
    "e = Eq(8.2461*y2 - 24*y +15.2461,0)\n",
    "print(solve(e))\n",
    "\n",
    "e = Eq(0.9848,(3+4*y2)/(5*sqrt(1+y2**2)))\n",
    "solve(e)\n",
    "3 + 0.9367*4\n",
    "\n",
    "6.7468/(1+0.9367**2)\n",
    "3.5936*0.9367-4\n",
    "\n",
    "3 + 2*0.5935\n",
    "4-2*0.6339"
   ]
  },
  {
   "cell_type": "code",
   "execution_count": 36,
   "metadata": {},
   "outputs": [
    {
     "name": "stdout",
     "output_type": "stream",
     "text": [
      "0.939692620785908\n",
      "[0.652640709721703, 3.29761533616423]\n"
     ]
    }
   ],
   "source": [
    "import math\n",
    "from sympy import symbols, Eq, solve, cos, sin,sqrt\n",
    "y2, _k = symbols(\"y2 _k\")\n",
    "\n",
    "k = cos(math.radians(20))\n",
    "print(k)\n",
    "e = Eq(k,(3+4*y2)/(5*sqrt(1+y2**2)))\n",
    "erg = solve(e)\n",
    "print(erg)\n",
    " \n"
   ]
  },
  {
   "cell_type": "code",
   "execution_count": 43,
   "metadata": {},
   "outputs": [
    {
     "data": {
      "text/plain": [
       "(2.73259050898439, 4.18723645262701)"
      ]
     },
     "execution_count": 43,
     "metadata": {},
     "output_type": "execute_result"
    }
   ],
   "source": [
    "z = sqrt(1+0.6526**2)\n",
    "z = 5/z\n",
    "z\n",
    "z*0.6526, z"
   ]
  },
  {
   "cell_type": "code",
   "execution_count": null,
   "metadata": {},
   "outputs": [],
   "source": []
  }
 ],
 "metadata": {
  "kernelspec": {
   "display_name": "Python 3",
   "language": "python",
   "name": "python3"
  },
  "language_info": {
   "codemirror_mode": {
    "name": "ipython",
    "version": 3
   },
   "file_extension": ".py",
   "mimetype": "text/x-python",
   "name": "python",
   "nbconvert_exporter": "python",
   "pygments_lexer": "ipython3",
   "version": "3.6.5"
  }
 },
 "nbformat": 4,
 "nbformat_minor": 2
}
