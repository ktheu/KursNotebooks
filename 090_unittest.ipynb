{
 "cells": [
  {
   "cell_type": "markdown",
   "metadata": {},
   "source": [
    "# Unittest"
   ]
  },
  {
   "cell_type": "markdown",
   "metadata": {},
   "source": [
    "Das Modul unittest ermöglicht das Erstellen von Testfällen, die immer wieder\n",
    "durchgeführt werden können. Die getesteten Einheiten sind Funktionen oder\n",
    "Methoden von Klassen, bei denen das erwartete Ergebnis mit dem tatsächlichen\n",
    "Ergebnis verglichen wird.\n",
    "\n",
    "Die Namen der Testmethoden müssen mit **test** beginnen."
   ]
  },
  {
   "cell_type": "code",
   "execution_count": null,
   "metadata": {
    "collapsed": true
   },
   "outputs": [],
   "source": [
    "def quersumme(n):\n",
    "    '''\n",
    "    n: nicht negative ganze Zahl\n",
    "    returns: Quersumme von n\n",
    "    '''\n",
    "    s = str(n)\n",
    "    summe = 0\n",
    "    for c in s:\n",
    "        summe += int(c)\n",
    "    return summe\n",
    "\n",
    "import unittest\n",
    "class MyTest(unittest.TestCase):\n",
    "    def test_quersumme(self):\n",
    "        self.assertEqual(quersumme(0),0)\n",
    "        self.assertEqual(quersumme(7),7)\n",
    "        self.assertEqual(quersumme(10),1)\n",
    "        self.assertEqual(quersumme(99),18)\n",
    "        self.assertEqual(quersumme(120343021),16)\n",
    "\n",
    "if __name__ == '__main__':\n",
    "    unittest.main(argv=[''], exit=False)  \n",
    "    # unittest.main()                # in idle oder thonny\n",
    "   \n"
   ]
  },
  {
   "cell_type": "markdown",
   "metadata": {},
   "source": [
    "Assert-Beispiele: (weitere in den Python-Docs zu <a href=\"https://docs.python.org/3/library/unittest.html#unittest.TestCase.assertRaises\">unittest</a>)"
   ]
  },
  {
   "cell_type": "code",
   "execution_count": null,
   "metadata": {
    "collapsed": true
   },
   "outputs": [],
   "source": [
    "assertEqual(a,b)                                   # prüft a == b\n",
    "assertAlmostEqual(a,b)                             # prüft a-b auf 7 Dezimalstellen\n",
    "assertAlmostEqual(a,b, 4)                          # prüft a-b auf 4 Dezimalstellen\n",
    "assertAlmostEqual(a,b, delta = 0.01)               # prüft, ob Unterschied kleiner als delta ist\n",
    "assertFalse(foo())\n",
    "assertTrue(bar())\n",
    "assertListEqual(a,[1,2,3])\n",
    "assertDictEqual(m,{'a':5})\n",
    "assertTupelEqual(t,(4,5))\n",
    "assertSetEqual(s,{5,6})\n",
    "assertRaises(bar,RuntimeError)                     #  bar() wirft RuntimeError\n",
    "with self.assertRaises(RuntimeError): funktion(-1) #  funktion(-1) wirft RuntimeError"
   ]
  },
  {
   "cell_type": "markdown",
   "metadata": {},
   "source": [
    "Die unittests können in getrennten Files gespeichert werden, dann muss das File mit dem zu testenden Code importiert werden.\n",
    "In der testgetriebenen Softwareentwicklung (**test-driven development (TDD)**) erstellt der Programmierer die Testfälle vor der Implementierung."
   ]
  },
  {
   "cell_type": "markdown",
   "metadata": {},
   "source": [
    "Weitere Beispiele:"
   ]
  },
  {
   "cell_type": "code",
   "execution_count": null,
   "metadata": {
    "collapsed": true
   },
   "outputs": [],
   "source": [
    "def funktion01(x):\n",
    "    '''\n",
    "    x: int oder float.\n",
    "    return:  RuntimeError falls x < 0\n",
    "             Wurzel(x) + 5 auf mindestens 5 Stellen genau, sonst\n",
    "    '''\n",
    "    pass    # to be implemented\n",
    "     \n",
    "        \n",
    "        \n",
    "import unittest\n",
    "class MyTest(unittest.TestCase):\n",
    "\n",
    "    def test_funktion01(self):\n",
    "        self.assertEqual(funktion01(0),5)\n",
    "        self.assertEqual(funktion01(16),9)\n",
    "        self.assertAlmostEqual(funktion01(7),7.64575,5)\n",
    "        with self.assertRaises(RuntimeError):\n",
    "            funktion01(-1)\n",
    "\n",
    "if __name__ == '__main__':\n",
    "    unittest.main(argv=['first-arg-is-ignored'], exit=False)  "
   ]
  },
  {
   "cell_type": "code",
   "execution_count": null,
   "metadata": {
    "collapsed": true
   },
   "outputs": [],
   "source": [
    "def liste01(a):\n",
    "    '''    \n",
    "    a: Liste mit ints\n",
    "    returns: eine neue Liste, bei der alle Elemente durch die Summe\n",
    "       der Nachbarn ersetzt werden. Die eingegebene Liste bleibt\n",
    "       unverändert.\n",
    "\n",
    "       Beispiel: \n",
    "       >>> b = liste01([4,2,1,6])\n",
    "       >>> b\n",
    "       [2,5,8,1]\n",
    "       \n",
    "    '''\n",
    "    pass    # to be implemented\n",
    "\n",
    "import unittest\n",
    "class MyTest(unittest.TestCase):\n",
    "    def test_liste01(self):\n",
    "        self.assertListEqual(liste01([]),[])\n",
    "        self.assertListEqual(liste01([6]),[0])\n",
    "        self.assertListEqual(liste01([6,7]),[7,6])\n",
    "        self.assertListEqual(liste01([1,2,3]),[2,4,2])\n",
    "        a = [4,2,1,6]\n",
    "        self.assertListEqual(liste01(a),[2,5,8,1])\n",
    "        self.assertListEqual(a,[4,2,1,6])\n",
    "\n",
    "if __name__ == '__main__':\n",
    "    unittest.main(argv=['first-arg-is-ignored'], exit=False) "
   ]
  },
  {
   "cell_type": "markdown",
   "metadata": {},
   "source": [
    "#### Mögliches Setup für Funktionen und ihre Tests"
   ]
  },
  {
   "cell_type": "code",
   "execution_count": null,
   "metadata": {},
   "outputs": [],
   "source": [
    "# Im file mytools.py befinden sich die Funktionen\n",
    "def func01():\n",
    "    pass\n",
    "    \n",
    "def func02():\n",
    "    pass\n",
    "    "
   ]
  },
  {
   "cell_type": "code",
   "execution_count": null,
   "metadata": {},
   "outputs": [],
   "source": [
    "# Im file mytools_test.py befinden sich die Tests der Funktionen\n",
    "from mytools import *\n",
    "import unittest\n",
    "class MyTest(unittest.TestCase):\n",
    "    def test_func01(self):\n",
    "        assertEqual(func01(),...)\n",
    "        ...\n",
    " \n",
    "        \n",
    "    def test_func02(self):\n",
    "        assertEqual(func02(),...)\n",
    "        ...\n",
    "     \n",
    "if __name__ == '__main__':     \n",
    "     unittest.main() \n",
    " "
   ]
  },
  {
   "cell_type": "code",
   "execution_count": null,
   "metadata": {},
   "outputs": [],
   "source": [
    "# Im file myprog.py werden die Funktionen verwendet.\n",
    "from mytools.py import func01 \n",
    "x = func01()"
   ]
  }
 ],
 "metadata": {
  "kernelspec": {
   "display_name": "Python 3",
   "language": "python",
   "name": "python3"
  },
  "language_info": {
   "codemirror_mode": {
    "name": "ipython",
    "version": 3
   },
   "file_extension": ".py",
   "mimetype": "text/x-python",
   "name": "python",
   "nbconvert_exporter": "python",
   "pygments_lexer": "ipython3",
   "version": "3.6.5"
  }
 },
 "nbformat": 4,
 "nbformat_minor": 2
}
