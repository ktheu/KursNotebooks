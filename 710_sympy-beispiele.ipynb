{
 "cells": [
  {
   "cell_type": "markdown",
   "metadata": {},
   "source": [
    "# Beispiele\n",
    "\n"
   ]
  },
  {
   "cell_type": "code",
   "execution_count": 48,
   "metadata": {},
   "outputs": [],
   "source": [
    "from sympy import *\n",
    "init_printing(use_unicode=True)\n",
    "a, x, y, z, t = symbols('a x y z t')\n",
    "f, g, h = symbols('f g h', cls=Function)\n",
    "y1, y2 = symbols('y1 y2')"
   ]
  },
  {
   "cell_type": "markdown",
   "metadata": {},
   "source": [
    "#### Einheiten von x- und y-Achse bei einer Parabel ändern\n",
    "\n",
    "Ausganggleichung"
   ]
  },
  {
   "cell_type": "code",
   "execution_count": 64,
   "metadata": {},
   "outputs": [
    {
     "data": {
      "image/png": "[encoded data removed]",
      "text/latex": [
       "$$3.08 x^{2} - 4.45 x + 3.59$$"
      ],
      "text/plain": [
       "      2                \n",
       "3.08⋅x  - 4.45⋅x + 3.59"
      ]
     },
     "execution_count": 64,
     "metadata": {},
     "output_type": "execute_result"
    }
   ],
   "source": [
    " \n",
    "f = simplify(3.08*x**2 - 4.45*x + 3.59)\n",
    "f"
   ]
  },
  {
   "cell_type": "markdown",
   "metadata": {},
   "source": [
    "Minimumg der Funktion finden."
   ]
  },
  {
   "cell_type": "code",
   "execution_count": 49,
   "metadata": {},
   "outputs": [
    {
     "name": "stdout",
     "output_type": "stream",
     "text": [
      "Minimum bei  (0.72, 1.98)\n"
     ]
    }
   ],
   "source": [
    "f1 = diff(f,x)\n",
    "mx = solve(f1,x)[0]\n",
    "my = f.subs(x,mx)\n",
    "min = (round(mx,2),round(my,2))\n",
    "print(\"Minimum bei \",min)"
   ]
  },
  {
   "cell_type": "markdown",
   "metadata": {},
   "source": [
    "x-Achse in Einheiten 3.7, y-Achse in Einheiten 30. </br>\n",
    "In 1/1 Einheiten hat das Minimum neue Koordinaten."
   ]
  },
  {
   "cell_type": "code",
   "execution_count": 50,
   "metadata": {},
   "outputs": [
    {
     "name": "stdout",
     "output_type": "stream",
     "text": [
      "Neues Minimum bei  (2.67, 59.48)\n"
     ]
    }
   ],
   "source": [
    "mxneu = mx*3.7  \n",
    "myneu = my*30\n",
    "minneu = (round(mxneu,2),round(myneu,2))\n",
    "print(\"Neues Minimum bei \", minneu)"
   ]
  },
  {
   "cell_type": "code",
   "execution_count": 51,
   "metadata": {},
   "outputs": [
    {
     "name": "stdout",
     "output_type": "stream",
     "text": [
      "Neuer y-Achsenabschnit bei:  107.7\n"
     ]
    }
   ],
   "source": [
    "y0neu = 3.59*30\n",
    "print(\"Neuer y-Achsenabschnit bei: \", round(y0neu,2))"
   ]
  },
  {
   "cell_type": "markdown",
   "metadata": {},
   "source": [
    "Scheitelpunktform einer Parabel, mit Scheitelpunkt $(d,e)$ \n",
    "$$a(x-d)^2 + e$$\n",
    "\n"
   ]
  },
  {
   "cell_type": "code",
   "execution_count": 59,
   "metadata": {},
   "outputs": [
    {
     "data": {
      "image/png": "[encoded data removed]",
      "text/latex": [
       "$$6.74945215485757 x^{2} - 36.0810810810811 x + 107.7$$"
      ],
      "text/plain": [
       "                  2                             \n",
       "6.74945215485757⋅x  - 36.0810810810811⋅x + 107.7"
      ]
     },
     "execution_count": 59,
     "metadata": {},
     "output_type": "execute_result"
    }
   ],
   "source": [
    "aneu = solve( a*(mxneu)**2 + myneu - y0neu,a)[0]\n",
    "g = aneu * (x-mxneu)**2 + myneu\n",
    "simplify(expand(g))"
   ]
  },
  {
   "cell_type": "markdown",
   "metadata": {},
   "source": [
    "Dies ist die Gleichung der Parabel im neuen Koordinatensystem. Einfacher wäre folgende Umformung gewesen:"
   ]
  },
  {
   "cell_type": "code",
   "execution_count": 56,
   "metadata": {},
   "outputs": [
    {
     "data": {
      "image/png": "[encoded data removed]",
      "text/latex": [
       "$$6.74945215485756 x^{2} - 36.0810810810811 x + 107.7$$"
      ],
      "text/plain": [
       "                  2                             \n",
       "6.74945215485756⋅x  - 36.0810810810811⋅x + 107.7"
      ]
     },
     "execution_count": 56,
     "metadata": {},
     "output_type": "execute_result"
    }
   ],
   "source": [
    "30*f.subs(x,x/3.7)"
   ]
  },
  {
   "cell_type": "code",
   "execution_count": null,
   "metadata": {},
   "outputs": [],
   "source": []
  }
 ],
 "metadata": {
  "kernelspec": {
   "display_name": "Python 3",
   "language": "python",
   "name": "python3"
  },
  "language_info": {
   "codemirror_mode": {
    "name": "ipython",
    "version": 3
   },
   "file_extension": ".py",
   "mimetype": "text/x-python",
   "name": "python",
   "nbconvert_exporter": "python",
   "pygments_lexer": "ipython3",
   "version": "3.7.9"
  }
 },
 "nbformat": 4,
 "nbformat_minor": 4
}
