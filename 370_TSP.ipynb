{
 "cells": [
  {
   "cell_type": "markdown",
   "metadata": {},
   "source": [
    "## TSP (Traveling Salesman Problem)\n",
    "\n",
    "Jeder Ort soll einmal besucht werden. Die gesamte Reisestrecke \n",
    " soll möglichst kurz sein und am Ende soll der Handlungsreisenden wieder am Ausgangsort ankommen.\n",
    " \n",
    "TSP ist NP-vollständig, d.h. es wird vermutlich keinen polynomiellen Lösungsalgorithmus geben.\n",
    "\n",
    "Es gibt viele Näherungsverfahren. In dem __[Video](https://www.youtube.com/watch?v=SC5CX8drAtU)__ werden 3 Verfahren präsentiert:\n",
    "\n",
    "- Greedy\n",
    "- 2-Opt\n",
    "- Simulated Annealing\n",
    "\n",
    "Testdaten für eigene Versuche gibt es z.B. __[hier](http://elib.zib.de/pub/mp-testdata/tsp/tsplib/tsp/)__"
   ]
  },
  {
   "cell_type": "markdown",
   "metadata": {},
   "source": [
    "#### Greedy\n",
    "__[code](./tsp_greedy_berlin52.py)__\n",
    "\n",
    "Vom Startpunkt aus wird immer die am nächsten gelegene Stadt besucht, die noch nicht besucht wurde. \n",
    "\n",
    "Die beste Rundreise für berlin52 hat die Länge 7542.\n",
    "Bei Startpunkt 20 benötigt greedy 10298.\n",
    "\n",
    "<img src=\"./img/tsp1.png\" width=\"600\"/> \n",
    "\n",
    "Bei Startpunkt 39 benötigt greedy 8181.\n",
    "\n",
    "<img src=\"./img/tsp2.png\" width=\"600\"/> "
   ]
  },
  {
   "cell_type": "markdown",
   "metadata": {},
   "source": [
    "### Greedy + 2opt\n",
    "__[code](./tsp_2opt_berlin52.py)__\n",
    "\n",
    "Mit dem 2opt-Algorithmus werden Kreuzungen eines Greedy-Ergebnisses eliminiert. Zu je zwei nicht benachbarten Orten wird überprüft, ob die Rundreise kürzer wird, wenn diese Orte benachbart wären.\n",
    "\n",
    "```\n",
    "def swap(tour,i,j):\n",
    "     w1 = tour[:i] \n",
    "     w2 = [tour[i],tour[j]]\n",
    "     w3 = tour[j-1:i:-1]  \n",
    "     w4 = tour[j+1:] \n",
    "     return w1 + w2 + w3 + w4 \n",
    "```\n",
    "\n",
    "<img src=\"./img/swap1.png\" width=\"700\"/> \n",
    "\n",
    "Bei Startpunkt 44 benötigt greedy zusammen mit 2-opt 7657\n",
    "\n",
    "<img src=\"./img/tsp3.png\" width=\"601\"/> "
   ]
  },
  {
   "cell_type": "markdown",
   "metadata": {},
   "source": [
    "### Simulated Annealing\n",
    "\n",
    "__[code](./tsp_anneal_berlin52.py)__\n",
    "\n",
    "```\n",
    "Starte mit einer vorläufigen Lösung\n",
    "Wiederhole sehr oft:\n",
    "    Erniedrige die Temperatur ein bisschen\n",
    "    Mache einen zufälligen swap\n",
    "    Falls die Rundreise kürzer wird, \n",
    "        akzeptiere die Änderung\n",
    "    sonst\n",
    "        akzeptiere die Änderung mit einer gewissen Wahrscheinlichkeit\n",
    "        (die mit sinkender Temperatur abnimmt)\n",
    "    \n",
    "\n",
    "\n",
    "```\n",
    "\n",
    "Bei hoher Temperatur ist das Verhalten wie ein 'random walk', bei niedriger wie ein 'hill climbing'.\n",
    "\n",
    "Mit Startpunkt 0 und random.seed(40) findet Simulated Annealing einen optimalen Weg\n",
    "\n",
    "\n",
    "\n",
    "<img src=\"./img/tsp4.png\" width=\"600\"/> "
   ]
  },
  {
   "cell_type": "code",
   "execution_count": 1,
   "metadata": {},
   "outputs": [],
   "source": [
    "def swap(tour,i,j):\n",
    "    w1 = tour[:i] \n",
    "    w2 = [tour[i],tour[j]]\n",
    "    w3 = tour[j-1:i:-1]  \n",
    "    w4 = tour[j+1:] \n",
    "    return w1 + w2 + w3 + w4\n",
    "\n",
    "def neighbor(tour):\n",
    "    i,j = sorted(random.sample(range(len(tour)),2))\n",
    "    return swap(tour,i,j)\n",
    "\n",
    "def anneal(tour):\n",
    "    best_dist = dist(tour)\n",
    "    best_tour = tour[:]\n",
    "    T = 100\n",
    "    T_min = 0.0005\n",
    "    alpha = 0.995\n",
    "    H = 125     #  bei gleicher Temperatur wird so oft probiert.\n",
    "    while T > T_min:\n",
    "        for i in range(H):\n",
    "            new_tour = neighbor(best_tour)  # zufälliger swap\n",
    "            new_dist = dist(new_tour)\n",
    "            if (new_dist < best_dist):\n",
    "                best_tour = new_tour[:]\n",
    "                best_dist = new_dist\n",
    "            elif (new_dist > best_dist):\n",
    "                loss = new_dist - best_dist\n",
    "                if random.random() <=  math.exp(-loss/T):\n",
    "                    best_tour = new_tour[:]\n",
    "                    best_dist = new_dist\n",
    " \n",
    "        T = T*alpha\n",
    "    return best_tour "
   ]
  },
  {
   "cell_type": "code",
   "execution_count": 5,
   "metadata": {},
   "outputs": [
    {
     "data": {
      "image/png": "[encoded data removed]",
      "text/plain": [
       "<Figure size 432x288 with 1 Axes>"
      ]
     },
     "metadata": {},
     "output_type": "display_data"
    }
   ],
   "source": [
    "import numpy as np\n",
    "import math\n",
    "import matplotlib.pyplot as plt\n",
    "\n",
    "x = np.arange(0.1, 100, 0.5)\n",
    "\n",
    "plt.plot(x, math.e**(-6/x), 'red')      # loss 6\n",
    "plt.plot(x, math.e**(-2/x), 'blue')     # loss 2\n",
    "plt.xlabel(\"x\")\n",
    "plt.grid(color='b', alpha=0.5, linestyle='dashed', linewidth=0.5)\n",
    "plt.show()"
   ]
  },
  {
   "cell_type": "code",
   "execution_count": null,
   "metadata": {},
   "outputs": [],
   "source": []
  }
 ],
 "metadata": {
  "kernelspec": {
   "display_name": "Python 3",
   "language": "python",
   "name": "python3"
  },
  "language_info": {
   "codemirror_mode": {
    "name": "ipython",
    "version": 3
   },
   "file_extension": ".py",
   "mimetype": "text/x-python",
   "name": "python",
   "nbconvert_exporter": "python",
   "pygments_lexer": "ipython3",
   "version": "3.6.5"
  }
 },
 "nbformat": 4,
 "nbformat_minor": 2
}
