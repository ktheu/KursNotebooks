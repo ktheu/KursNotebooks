{
 "cells": [
  {
   "cell_type": "markdown",
   "metadata": {},
   "source": [
    "## TSP (Traveling Salesman Problem)\n",
    "\n"
   ]
  },
  {
   "cell_type": "code",
   "execution_count": 1,
   "metadata": {},
   "outputs": [],
   "source": [
    "import math\n",
    "import random\n",
    "import turtle as t\n"
   ]
  },
  {
   "cell_type": "code",
   "execution_count": 2,
   "metadata": {},
   "outputs": [],
   "source": [
    "def createCities(n):\n",
    "    cities = [(random.randint(0,1800),random.randint(0,1200)) for i in range(n)]\n",
    "    return cities\n",
    "\n",
    "def dist1(m,n):\n",
    "    x1,y1 = cities[m][0], cities[m][1]\n",
    "    x2,y2 = cities[n][0], cities[n][1]\n",
    "    return round(math.sqrt((x1-x2)**2 + (y1-y2)**2))\n",
    "\n",
    "def dist(tour):\n",
    "    summe = 0\n",
    "    for i in range(len(cities)-1):\n",
    "         summe += dist1(tour[i],tour[i+1])\n",
    "    return summe + dist1(tour[-1],tour[0])\n",
    "\n",
    "def showCities(label = False):\n",
    "    t.tracer(False)\n",
    "    t.hideturtle()\n",
    "    for i in range(len(cities)):\n",
    "        x, y  = cities[i][0], cities[i][1]\n",
    "        t.penup()\n",
    "        t.setposition(x,y)\n",
    "        t.pendown()\n",
    "        if i == 0:\n",
    "            t.dot(13,'red')\n",
    "        else:\n",
    "            t.dot(8,'black')\n",
    "        if label: t.write(i)\n",
    "        t.update()\n",
    "\n",
    "def showTour(tour):\n",
    "    t.hideturtle()\n",
    "    t.tracer(True)\n",
    "    t.speed(2)\n",
    "    t.penup()\n",
    "    x0 = cities[tour[0]][0]\n",
    "    y0 = cities[tour[0]][1]\n",
    "    t.setposition(x0,y0)\n",
    "    t.pendown()\n",
    "    for i in range(1,len(tour)):\n",
    "        x = cities[tour[i]][0]\n",
    "        y = cities[tour[i]][1]\n",
    "        t.goto(x,y)\n",
    "    t.goto(x0,y0)\n",
    "    t.up()\n",
    "    t.goto(50,50)\n",
    "    t.down()\n",
    "    t.write(round(dist(tour)))\n",
    "   "
   ]
  },
  {
   "cell_type": "markdown",
   "metadata": {},
   "source": [
    "### Brute Force"
   ]
  },
  {
   "cell_type": "code",
   "execution_count": 3,
   "metadata": {},
   "outputs": [],
   "source": [
    "import itertools\n",
    "def brute():\n",
    "    mindist = float('inf')\n",
    "    mintour = []\n",
    "    touren = itertools.permutations(range(len(cities)))\n",
    "    for tour in touren:\n",
    "        if dist(tour) < mindist:\n",
    "            mindist = dist(tour)\n",
    "            mintour = tour\n",
    "    return mintour"
   ]
  },
  {
   "cell_type": "code",
   "execution_count": null,
   "metadata": {},
   "outputs": [],
   "source": [
    "t.setworldcoordinates(0, 0, 1800, 1200)\n",
    "random.seed(37)\n",
    "cities = createCities(9)\n",
    "showCities()\n",
    "tour = brute()\n",
    "showTour(tour)\n",
    "t.mainloop()"
   ]
  },
  {
   "cell_type": "markdown",
   "metadata": {},
   "source": [
    "### Greedy"
   ]
  },
  {
   "cell_type": "code",
   "execution_count": 3,
   "metadata": {},
   "outputs": [],
   "source": [
    "def berlin52():\n",
    "    return [[565,575],[25,185],[345,750],[945,685],[845,655],\n",
    "    [880,660],[25,230],[525,1000],[580,1175],[650,1130],[1605,620],\n",
    "    [1220,580],[1465,200],[1530,5],[845,680],[725,370],[145,665],\n",
    "    [415,635],[510,875],[560,365],[300,465],[520,585],[480,415],\n",
    "    [835,625],[975,580],[1215,245],[1320,315],[1250,400],[660,180],\n",
    "    [410,250],[420,555],[575,665],[1150,1160],[700,580],[685,595],\n",
    "    [685,610],[770,610],[795,645],[720,635],[760,650],[475,960],\n",
    "    [95,260],[875,920],[700,500],[555,815],[830,485],[1170,65],\n",
    "    [830,610],[605,625],[595,360],[1340,725],[1740,245]]\n",
    "\n",
    "def nearest(cities,i,iset):\n",
    "    '''\n",
    "    i : index in cities\n",
    "    cities: list von city-koordinaten\n",
    "    iset: set von indizes, aus denen die nächstgelegene Stadt zu cities[i]\n",
    "        gesucht wird\n",
    "    return: index der nächstgelegenen Stadt\n",
    "    '''\n",
    "    bestIndex = -1\n",
    "    bestDist = float('inf')\n",
    "     \n",
    "    for k in iset:\n",
    "        if dist1(k,i) < bestDist:\n",
    "            bestDist = dist1(k,i)\n",
    "            bestIndex = k\n",
    "\n",
    "    return bestIndex\n",
    "\n",
    "def greedy(start=0):\n",
    "    iset = set(range(len(cities)))\n",
    "    k = start\n",
    "    tour = []\n",
    "    \n",
    "    while iset:\n",
    "        tour.append(k)\n",
    "        iset.remove(k)\n",
    "        k = nearest(cities,k,iset)\n",
    "    return tour"
   ]
  },
  {
   "cell_type": "code",
   "execution_count": 4,
   "metadata": {},
   "outputs": [],
   "source": [
    "t.setworldcoordinates(0, 0, 1800, 1200)\n",
    "cities = berlin52()\n",
    "showCities()\n",
    "tour = greedy()\n",
    "showTour(tour)\n",
    "t.mainloop()"
   ]
  },
  {
   "cell_type": "markdown",
   "metadata": {},
   "source": [
    "### Greedy + 2opt"
   ]
  },
  {
   "cell_type": "code",
   "execution_count": 5,
   "metadata": {},
   "outputs": [],
   "source": [
    "def swap(tour,i,j):\n",
    "    w1 = tour[:i] \n",
    "    w2 = [tour[i],tour[j]]\n",
    "    w3 = tour[j-1:i:-1]  \n",
    "    w4 = tour[j+1:] \n",
    "    return w1 + w2 + w3 + w4 \n",
    "\n",
    "def twoopt1(tour):\n",
    "    bestDist = dist(tour)\n",
    "    besttour = tour[:]\n",
    "    for i in range(len(tour)-1):\n",
    "        for j in range(i+1,len(tour)):\n",
    "                tmp = swap(tour,i,j)\n",
    "                if dist(tmp) < bestDist:\n",
    "                    besttour = tmp[:] \n",
    "                    bestDist = dist(tmp)\n",
    "    return besttour\n",
    "\n",
    "def twoopt(tour):\n",
    "    tour1 = tour[:]\n",
    "    tour2 = twoopt1(tour1)\n",
    "    while tour2 != tour1:\n",
    "        tour1 = tour2[:]\n",
    "        tour2 = twoopt1(tour1)\n",
    "    return tour1"
   ]
  },
  {
   "cell_type": "code",
   "execution_count": 7,
   "metadata": {},
   "outputs": [],
   "source": [
    "t.setworldcoordinates(0, 0, 1800, 1200)\n",
    "cities = berlin52()\n",
    "showCities()\n",
    "tour = greedy(44)  # 44\n",
    "tour = twoopt(tour)\n",
    "showTour(tour)\n",
    "t.mainloop()"
   ]
  },
  {
   "cell_type": "markdown",
   "metadata": {},
   "source": [
    "### Simulated Annealing"
   ]
  },
  {
   "cell_type": "code",
   "execution_count": 11,
   "metadata": {},
   "outputs": [],
   "source": [
    "def neighbor(tour):\n",
    "    i,j = sorted(random.sample(range(len(tour)),2))\n",
    "    return swap(tour,i,j)\n",
    "\n",
    "def anneal(tour):\n",
    "    best_dist = dist(tour)\n",
    "    best_tour = tour[:]\n",
    "    T = 100\n",
    "    T_min = 0.0005\n",
    "    alpha = 0.995\n",
    "    H = 125\n",
    "    while T > T_min:\n",
    "        for i in range(H):\n",
    "            new_tour = neighbor(best_tour)\n",
    "            new_dist = dist(new_tour)\n",
    "            if (new_dist < best_dist):\n",
    "                best_tour = new_tour[:]\n",
    "                best_dist = new_dist\n",
    "            elif (new_dist > best_dist):\n",
    "                if random.random() <=  prob(new_dist, best_dist, T):\n",
    "                    #print(T,new_dist,best_dist,prob(new_dist, best_dist, T))\n",
    "                    best_tour = new_tour[:]\n",
    "                    best_dist = new_dist\n",
    " \n",
    "        T = T*alpha\n",
    "    return best_tour \n",
    "\n",
    "def prob(new_dist,best_dist,T):\n",
    "    return  math.exp(-(new_dist-best_dist)/T)"
   ]
  },
  {
   "cell_type": "code",
   "execution_count": null,
   "metadata": {},
   "outputs": [],
   "source": [
    "random.seed(40)   # 40\n",
    "t.setworldcoordinates(0, 0, 1800, 1200)\n",
    "cities = berlin52()\n",
    "showCities()\n",
    "tour = greedy()\n",
    "tour = anneal(tour)\n",
    "showTour(tour)\n",
    "t.mainloop()"
   ]
  },
  {
   "cell_type": "markdown",
   "metadata": {},
   "source": [
    "### MST + 2opt"
   ]
  },
  {
   "cell_type": "code",
   "execution_count": 4,
   "metadata": {},
   "outputs": [],
   "source": [
    "def fullgraph():\n",
    "    G = {}\n",
    "    for c in range(len(cities)):\n",
    "        vmap = {}\n",
    "        for d in range(len(cities)):\n",
    "            if c != d:\n",
    "                vmap[d] = dist1(c,d)\n",
    "        G[c] = vmap\n",
    "    return G\n",
    "\n",
    "def showMst(mst):\n",
    "    for v in mst:\n",
    "        if mst[v] is not None:\n",
    "            t.penup()\n",
    "            x0, y0 = cities[v][0], cities[v][1]\n",
    "            x1, y1 = cities[mst[v]][0], cities[mst[v]][1]\n",
    "            t.setposition(x0,y0)\n",
    "            t.pendown()\n",
    "            t.setposition(x1,y1)\n",
    "    t.update()\n",
    "    \n",
    "from heapq import heappop, heappush    \n",
    "def jarnik_prim(G,start):  \n",
    "    \n",
    "    mst = {}                                 # leere Teillösung\n",
    "    heap = [(0, None, start)]                # Heap mit Kanten und Kosten\n",
    "    summe = 0\n",
    "    while heap:\n",
    "        cost, prev, u = heappop(heap)\n",
    "        if u in mst: continue            # Zielknoten schon im Baum?\n",
    "        mst[u] = prev                    # Kante von u nach prev kommt in mst\n",
    "        summe += cost\n",
    "        for v, cost in G[u].items():\n",
    "            heappush(heap, (cost, u, v))\n",
    "    return mst"
   ]
  },
  {
   "cell_type": "code",
   "execution_count": 5,
   "metadata": {},
   "outputs": [],
   "source": [
    "t.setworldcoordinates(0, 0, 1800, 1200)\n",
    "cities = berlin52()\n",
    "showCities()\n",
    "G = fullgraph()\n",
    "mst = jarnik_prim(G,0)\n",
    "showMst(mst)\n",
    "t.mainloop()"
   ]
  },
  {
   "cell_type": "code",
   "execution_count": 6,
   "metadata": {},
   "outputs": [],
   "source": [
    "def createMstGraph(mst):\n",
    "    mstG = {v : set() for v in mst}\n",
    "    for v in mst:\n",
    "        if mst[v] is not None:\n",
    "            mstG[v].add(mst[v])\n",
    "            mstG[mst[v]].add(v)\n",
    "    return mstG\n",
    "\n",
    "def explore(v):\n",
    "    global counter\n",
    "    visited[v] = True\n",
    "    previsit[v] = counter\n",
    "    counter += 1\n",
    "    for w in sorted(G[v]):  \n",
    "        if not visited[w]:\n",
    "            explore(w)"
   ]
  },
  {
   "cell_type": "code",
   "execution_count": 15,
   "metadata": {},
   "outputs": [],
   "source": [
    "t.setworldcoordinates(0, 0, 1800, 1200)\n",
    "cities = berlin52()\n",
    "showCities(label=True)\n",
    "G = fullgraph()\n",
    "mst = jarnik_prim(G,0)\n",
    "G = createMstGraph(mst)\n",
    "\n",
    "counter = 0\n",
    "visited =  {v : False for v in G}\n",
    "previsit = {v : 0 for v in G}\n",
    "explore(15)                         # 15 ist am besten\n",
    "tour = sorted(G.keys(),key=lambda v: previsit[v])\n",
    "tour = twoopt(tour)\n",
    "showTour(tour)\n",
    "t.mainloop()"
   ]
  },
  {
   "cell_type": "code",
   "execution_count": null,
   "metadata": {},
   "outputs": [],
   "source": []
  }
 ],
 "metadata": {
  "kernelspec": {
   "display_name": "Python 3",
   "language": "python",
   "name": "python3"
  },
  "language_info": {
   "codemirror_mode": {
    "name": "ipython",
    "version": 3
   },
   "file_extension": ".py",
   "mimetype": "text/x-python",
   "name": "python",
   "nbconvert_exporter": "python",
   "pygments_lexer": "ipython3",
   "version": "3.6.5"
  }
 },
 "nbformat": 4,
 "nbformat_minor": 2
}
