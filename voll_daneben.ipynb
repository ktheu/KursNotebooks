{
 "cells": [
  {
   "cell_type": "code",
   "execution_count": 1,
   "metadata": {},
   "outputs": [],
   "source": [
    "import numpy as np"
   ]
  },
  {
   "cell_type": "code",
   "execution_count": 41,
   "metadata": {},
   "outputs": [],
   "source": [
    "tn = [7,10,14,16,18,19,20,24,26,29,30,32]\n",
    "#tn = [7,10,14,16,18,19,20]\n",
    " \n",
    "\n",
    "# inf = 10000\n",
    "# tn = [-inf] + tn + [inf]\n",
    "# al = [-inf] + al + [inf]\n",
    "\n",
    "N = len(tn)\n",
    "m = 5      # Anzahl der Zahlen, die Al wählen darf"
   ]
  },
  {
   "cell_type": "markdown",
   "metadata": {},
   "source": [
    "Zur Kontrolle wird für kleine Eingaben ein brute-force Ergebnis berechnet."
   ]
  },
  {
   "cell_type": "code",
   "execution_count": 42,
   "metadata": {},
   "outputs": [
    {
     "name": "stdout",
     "output_type": "stream",
     "text": [
      "88\n"
     ]
    }
   ],
   "source": [
    "def minAbstand(x,al):\n",
    "    '''returns minimaler Abstand von x zu einer Zahl in al'''\n",
    "    minabs = abs(x-al[0])\n",
    "    for y in al:\n",
    "        if abs(x-y) < minabs:\n",
    "            minabs = abs(x-y)\n",
    "    return minabs\n",
    "\n",
    "def sumKosten(tn,al):\n",
    "    '''summe der Kosten wenn al die gewählten Zahlen sind'''\n",
    "    summe = 0\n",
    "    for x in tn:\n",
    "        summe+=minAbstand(x,al)\n",
    "    return summe\n",
    "        \n",
    "print(sumKosten(tn,[7,10,14]))"
   ]
  },
  {
   "cell_type": "code",
   "execution_count": 47,
   "metadata": {},
   "outputs": [
    {
     "name": "stdout",
     "output_type": "stream",
     "text": [
      "12 (7, 14, 19, 24, 30)\n"
     ]
    }
   ],
   "source": [
    "from itertools import *\n",
    "inf = float('inf')\n",
    "\n",
    "tn = [7,10,14,16,18,19,20,24,26,29,30,32]\n",
    "minKost = inf\n",
    "minA    = None\n",
    "for a in combinations(tn,5):\n",
    "    if sumKosten(tn,a) < minKost:\n",
    "        minKost = sumKosten(tn,a)\n",
    "        minA = a\n",
    "\n",
    "print(minKost, minA)"
   ]
  },
  {
   "cell_type": "code",
   "execution_count": 44,
   "metadata": {},
   "outputs": [],
   "source": [
    "def abschnitt(i,k):\n",
    "    '''\n",
    "    Kosten für i-k, wenn nur k gewählt wurde\n",
    "    '''\n",
    "    kosten = 0\n",
    "    for k in range(i,k):\n",
    "        kosten += abs(tn[i]-tn[k]) \n",
    "    return kosten"
   ]
  },
  {
   "cell_type": "code",
   "execution_count": 45,
   "metadata": {},
   "outputs": [],
   "source": [
    "'''\n",
    "a[m,i,j] = Kosten für i-j, wenn höchstens m Zahlen in i-j gewählt werden dürfen.\n",
    "\n",
    "a[1,i,j] = Kosten für i-j, wenn genau eine Zahl in i-j gewählt werden darf.\n",
    "\n",
    "'''\n",
    "\n",
    "\n",
    "\n",
    "import numpy as np\n",
    "a = np.zeros((m,N,N),dtype='uint32')\n",
    " "
   ]
  },
  {
   "cell_type": "code",
   "execution_count": 51,
   "metadata": {},
   "outputs": [
    {
     "name": "stdout",
     "output_type": "stream",
     "text": [
      "(13, 1)\n"
     ]
    },
    {
     "data": {
      "text/plain": [
       "array([[[ 0,  3,  7, 13, 17, 22, 26],\n",
       "        [ 0,  0,  4,  6, 10, 13, 17],\n",
       "        [ 0,  0,  0,  2,  4,  7,  9],\n",
       "        [ 0,  0,  0,  0,  2,  3,  5],\n",
       "        [ 0,  0,  0,  0,  0,  1,  2],\n",
       "        [ 0,  0,  0,  0,  0,  0,  1],\n",
       "        [ 0,  0,  0,  0,  0,  0,  0]],\n",
       "\n",
       "       [[ 0,  0,  3,  5,  7, 10, 12],\n",
       "        [ 0,  0,  0,  2,  4,  7,  9],\n",
       "        [ 0,  0,  0,  0,  2,  3,  4],\n",
       "        [ 0,  0,  0,  0,  0,  1,  2],\n",
       "        [ 0,  0,  0,  0,  0,  0,  1],\n",
       "        [ 0,  0,  0,  0,  0,  0,  0],\n",
       "        [ 0,  0,  0,  0,  0,  0,  0]],\n",
       "\n",
       "       [[ 0,  0,  0,  2,  4,  6,  7],\n",
       "        [ 0,  0,  0,  0,  2,  3,  4],\n",
       "        [ 0,  0,  0,  0,  0,  1,  2],\n",
       "        [ 0,  0,  0,  0,  0,  0,  1],\n",
       "        [ 0,  0,  0,  0,  0,  0,  0],\n",
       "        [ 0,  0,  0,  0,  0,  0,  0],\n",
       "        [ 0,  0,  0,  0,  0,  0,  0]]], dtype=uint32)"
      ]
     },
     "execution_count": 51,
     "metadata": {},
     "output_type": "execute_result"
    }
   ],
   "source": [
    "def kosten1(i,j):\n",
    "    ''' Kosten für i-j, wenn höchstens eine Zahl in i-j gewählt werden darf'''\n",
    "    minKosten = 10000\n",
    "    minK = -1\n",
    "    \n",
    "    for k in range(i,j+1):\n",
    "        if einzelKosten(i,j,k) < minKosten:\n",
    "            minKosten = einzelKosten(i,j,k)\n",
    "            minK = k\n",
    "    return minKosten, minK\n",
    "\n",
    "def einzelKosten(i,j,k):\n",
    "    '''Kosten für i-j, wenn man k wählt'''\n",
    "    summe = 0\n",
    "    for s in range(i,j+1):\n",
    "        summe += abs(tn[s]-tn[k])\n",
    "    return summe\n",
    "        \n",
    "print(kosten1(0,3))\n",
    "\n",
    "for i in range(N):\n",
    "    for j in range(N):\n",
    "        if i<=j:\n",
    "            \n",
    "            a[0,i,j],_=kosten1(i,j)\n",
    "            \n",
    "\n",
    "for s in range(1,m):\n",
    "    for i in range(N):\n",
    "        for j in range(N):\n",
    "            if i<=j:\n",
    "                a[s,i,j]=a[s-1,i,j]\n",
    "                for k in range(i,j+1):\n",
    "                    if abschnitt(i,k)+a[s-1,k,j] < a[s,i,j]:\n",
    "                        a[s,i,j]= abschnitt(i,k)+a[s-1,k,j]\n",
    "a      "
   ]
  },
  {
   "cell_type": "code",
   "execution_count": null,
   "metadata": {},
   "outputs": [],
   "source": []
  },
  {
   "cell_type": "markdown",
   "metadata": {},
   "source": [
    "Beispiel:"
   ]
  },
  {
   "cell_type": "code",
   "execution_count": 58,
   "metadata": {},
   "outputs": [
    {
     "data": {
      "text/plain": [
       "array([[0, 0, 0, 0, 0],\n",
       "       [0, 0, 0, 0, 0],\n",
       "       [0, 0, 0, 0, 0]], dtype=uint32)"
      ]
     },
     "execution_count": 58,
     "metadata": {},
     "output_type": "execute_result"
    }
   ],
   "source": [
    "a =  np.zeros((3,5),dtype='uint32') \n",
    "a"
   ]
  },
  {
   "cell_type": "code",
   "execution_count": 67,
   "metadata": {},
   "outputs": [
    {
     "data": {
      "text/plain": [
       "array([0, 0, 0, 0, 0], dtype=uint32)"
      ]
     },
     "execution_count": 67,
     "metadata": {},
     "output_type": "execute_result"
    }
   ],
   "source": [
    "a[1,:]"
   ]
  },
  {
   "cell_type": "markdown",
   "metadata": {},
   "source": [
    "#### Tabelle kosten"
   ]
  },
  {
   "cell_type": "markdown",
   "metadata": {},
   "source": [
    "**loesung(i,l)** = optimale Lösung für Teilnehmer ab Index i bei l Zahlen (zusätzlich zu den Randzahlen)\n",
    "\n",
    "**kosten(i,l)** = minimale Auszahlung an die Teilnehmer ab Index i , wenn man l ihrer Zahlen wählen darf (ausser den Randzahlen) \n",
    "\n",
    "z.B. kosten(2,0) sind die Auszahlungskosten für die Teilnehmer ab Index 2, wenn man außer den Randwerten 2 und N-1, keine sonstigen Zahlen nehmen darf."
   ]
  },
  {
   "cell_type": "code",
   "execution_count": 120,
   "metadata": {},
   "outputs": [],
   "source": [
    "kosten = np.zeros((N,m),dtype='uint32') \n",
    "loesung = np.zeros((N,m),dtype='uint32') \n",
    "for i in range(N):\n",
    "    kosten[i,0]=kostenabschnitt[i,N-1]\n",
    " \n"
   ]
  },
  {
   "cell_type": "code",
   "execution_count": 121,
   "metadata": {},
   "outputs": [
    {
     "data": {
      "text/plain": [
       "(37, 9)"
      ]
     },
     "execution_count": 121,
     "metadata": {},
     "output_type": "execute_result"
    }
   ],
   "source": [
    "kosten[2,0], kosten[4,0]"
   ]
  },
  {
   "cell_type": "code",
   "execution_count": 7,
   "metadata": {},
   "outputs": [
    {
     "data": {
      "text/plain": [
       "array([ 0.75624725, -1.20223758, -1.65594827,  0.19670773, -1.42712483])"
      ]
     },
     "execution_count": 7,
     "metadata": {},
     "output_type": "execute_result"
    }
   ],
   "source": [
    "a = np.random.randn(5) \n",
    " \n",
    "a"
   ]
  },
  {
   "cell_type": "code",
   "execution_count": 12,
   "metadata": {},
   "outputs": [
    {
     "data": {
      "text/plain": [
       "array([[1., 0., 0.],\n",
       "       [0., 1., 0.],\n",
       "       [0., 0., 1.]])"
      ]
     },
     "execution_count": 12,
     "metadata": {},
     "output_type": "execute_result"
    }
   ],
   "source": [
    "a = np.eye(3)\n",
    "a"
   ]
  },
  {
   "cell_type": "code",
   "execution_count": 16,
   "metadata": {},
   "outputs": [
    {
     "data": {
      "text/plain": [
       "array([[' ', ' '],\n",
       "       [' ', ' ']], dtype='<U1')"
      ]
     },
     "execution_count": 16,
     "metadata": {},
     "output_type": "execute_result"
    }
   ],
   "source": [
    "a = np.full((2,2),' ')\n",
    "a"
   ]
  },
  {
   "cell_type": "code",
   "execution_count": 20,
   "metadata": {},
   "outputs": [
    {
     "name": "stdout",
     "output_type": "stream",
     "text": [
      "3 4\n",
      "3 7\n",
      "3 9\n",
      "4 7\n",
      "4 9\n",
      "7 9\n"
     ]
    }
   ],
   "source": [
    "from itertools import *\n",
    "list(combinations('ABCD', 2))  \n",
    "a = [3, 4, 7, 9]\n",
    "for x,y in combinations(a,2):\n",
    "    print(x,y)\n"
   ]
  },
  {
   "cell_type": "code",
   "execution_count": null,
   "metadata": {},
   "outputs": [],
   "source": []
  }
 ],
 "metadata": {
  "kernelspec": {
   "display_name": "Python 3",
   "language": "python",
   "name": "python3"
  },
  "language_info": {
   "codemirror_mode": {
    "name": "ipython",
    "version": 3
   },
   "file_extension": ".py",
   "mimetype": "text/x-python",
   "name": "python",
   "nbconvert_exporter": "python",
   "pygments_lexer": "ipython3",
   "version": "3.7.4"
  }
 },
 "nbformat": 4,
 "nbformat_minor": 4
}
