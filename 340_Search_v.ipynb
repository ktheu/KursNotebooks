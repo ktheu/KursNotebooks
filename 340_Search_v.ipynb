{
 "cells": [
  {
   "cell_type": "markdown",
   "metadata": {},
   "source": [
    "# Suchalgorithmen am Beispiel 8-Puzzle"
   ]
  },
  {
   "cell_type": "markdown",
   "metadata": {},
   "source": [
    "![quadrate](img/such_bild1.png)"
   ]
  },
  {
   "cell_type": "markdown",
   "metadata": {},
   "source": [
    "#### Breitensuche (bfs)\n",
    "\n",
    "```\n",
    "Initialisiere frontier als Queue mit dem startstate\n",
    "Initialisiere prev als dictionary der Vorgänger\n",
    "Der Vorgänger von startstate ist None\n",
    "nrExplored = 0\n",
    "\n",
    "solange frontier nicht leer:\n",
    "    hole state aus frontier\n",
    "    nrExplored += 1\n",
    "    \n",
    "    wenn goalTest(state):\n",
    "        return dictionary mit Vorgängern, nrExplored\n",
    "    \n",
    "    für jedes v aus nextstates(state):\n",
    "        wenn v kein key in prev:\n",
    "            füge v in die frontier ein.\n",
    "            merke state als Vorgänger von v\n",
    "```"
   ]
  },
  {
   "cell_type": "code",
   "execution_count": 5,
   "metadata": {},
   "outputs": [],
   "source": [
    "startstate = (7,2,4,5,0,6,8,3,1)\n",
    "goalstate  = (0,1,2,3,4,5,6,7,8) \n",
    "\n",
    "from collections import deque\n",
    "def bfs(s): \n",
    "    frontier = deque([s])\n",
    "    prev = {s:None}\n",
    "    nrExplored = 0\n",
    "    \n",
    "    while frontier:\n",
    "        state = frontier.popleft()\n",
    "        nrExplored += 1\n",
    "        if goaltest(state):\n",
    "            return prev, nrExplored\n",
    "        for v in nextstates(state):\n",
    "            if v not in prev:\n",
    "                frontier.append(v)\n",
    "                prev[v] = state\n",
    "    return None, nrExplored\n",
    "\n",
    "def dfs(s): \n",
    "    frontier = [s]\n",
    "    prev = {s:None}\n",
    "    nrExplored = 0\n",
    "    \n",
    "    while frontier:\n",
    "        state = frontier.pop()\n",
    "        nrExplored += 1\n",
    "        if goaltest(state):\n",
    "            return prev, nrExplored \n",
    "        nxt = nextstates(state)\n",
    "        nxt.reverse()\n",
    "        for v in nxt:\n",
    "            if v not in prev:\n",
    "                frontier.append(v)\n",
    "                prev[v] = state\n",
    "    return None, nrExplored\n",
    "\n",
    "\n",
    "def goaltest(state):\n",
    "    return state == goalstate\n",
    "\n",
    "def nextstates(state):\n",
    "    if state[0] == 0:   return [swap(state,0,3),swap(state,0,1)]\n",
    "    elif state[1] == 0: return [swap(state,1,4),swap(state,1,0),swap(state,1,2)]\n",
    "    elif state[2] == 0: return [swap(state,2,5),swap(state,2,1)]\n",
    "    elif state[3] == 0: return [swap(state,3,0),swap(state,3,6),swap(state,3,4)]\n",
    "    elif state[4] == 0: return [swap(state,4,1),swap(state,4,7),swap(state,4,3),swap(state,4,5)]\n",
    "    elif state[5] == 0: return [swap(state,5,2),swap(state,5,8),swap(state,5,4)]\n",
    "    elif state[6] == 0: return [swap(state,6,3),swap(state,6,7)]\n",
    "    elif state[7] == 0: return [swap(state,7,4),swap(state,7,6),swap(state,7,8)]\n",
    "    elif state[8] == 0: return [swap(state,8,5),swap(state,8,7)]\n",
    "\n",
    "def swap(state, i, j):\n",
    "    tmp = list(state)\n",
    "    tmp[i],tmp[j] = tmp[j],tmp[i]\n",
    "    return tuple(tmp)\n",
    "\n",
    "def reconstructPath(prev):\n",
    "    s = (0,1,2,3,4,5,6,7,8)\n",
    "    tmp = []\n",
    "    while prev[s] is not None:\n",
    "        i = s.index(0)\n",
    "        ip = prev[s].index(0)\n",
    "        if i == ip - 1: tmp.append('left')\n",
    "        elif i == ip + 1: tmp.append('right')\n",
    "        elif i == ip - 3: tmp.append('up')\n",
    "        elif i == ip + 3: tmp.append('down')\n",
    "        s = prev[s]\n",
    "    tmp.reverse()\n",
    "    return ' '.join(tmp), len(tmp)"
   ]
  },
  {
   "cell_type": "code",
   "execution_count": 6,
   "metadata": {},
   "outputs": [
    {
     "name": "stdout",
     "output_type": "stream",
     "text": [
      "171712\n",
      "Wall time: 570 ms\n"
     ]
    },
    {
     "data": {
      "text/plain": [
       "('left up right down down left up right right up left left down right right down left up right up left down down left up up',\n",
       " 26)"
      ]
     },
     "execution_count": 6,
     "metadata": {},
     "output_type": "execute_result"
    }
   ],
   "source": [
    "%%time\n",
    "startstate = (7,2,4,5,0,6,8,3,1)\n",
    "prev, nrExplored = bfs(startstate)\n",
    "print(nrExplored)\n",
    "reconstructPath(prev)\n",
    " \n"
   ]
  },
  {
   "cell_type": "code",
   "execution_count": 8,
   "metadata": {},
   "outputs": [
    {
     "name": "stdout",
     "output_type": "stream",
     "text": [
      "114208\n",
      "62140\n",
      "Wall time: 393 ms\n"
     ]
    }
   ],
   "source": [
    "%%time\n",
    "\n",
    "startstate = (7,2,4,5,0,6,8,3,1)\n",
    "prev, nrExplored  = dfs(startstate)\n",
    "print(nrExplored)\n",
    "_, laenge = reconstructPath(prev)\n",
    "print(laenge)\n",
    " "
   ]
  },
  {
   "cell_type": "markdown",
   "metadata": {},
   "source": [
    "#### Heuristik"
   ]
  },
  {
   "cell_type": "code",
   "execution_count": 74,
   "metadata": {},
   "outputs": [
    {
     "data": {
      "text/plain": [
       "7"
      ]
     },
     "execution_count": 74,
     "metadata": {},
     "output_type": "execute_result"
    }
   ],
   "source": [
    "state      = (3,1,4,5,0,6,8,7,2)\n",
    "def h(s):\n",
    "    return sum([a!=b for a,b in zip((0,1,2,3,4,5,6,7,8),s) ])\n",
    "h(state)"
   ]
  },
  {
   "cell_type": "markdown",
   "metadata": {},
   "source": [
    "#### Greedy"
   ]
  },
  {
   "cell_type": "code",
   "execution_count": 75,
   "metadata": {},
   "outputs": [],
   "source": [
    "from heapq import heappop, heappush\n",
    "def greedy(s): \n",
    "    frontier = [(h(s),s)]\n",
    "    prev = {s:None}\n",
    "    nrExplored = 0\n",
    "    \n",
    "    while frontier:\n",
    "        _, state = heappop(frontier) \n",
    "        nrExplored += 1\n",
    "        if goaltest(state):\n",
    "            return prev, nrExplored\n",
    "        for v in nextstates(state):\n",
    "            if v not in prev:\n",
    "                heappush(frontier,(h(v),v))\n",
    "                prev[v] = state\n",
    "    return None, nrExplored\n"
   ]
  },
  {
   "cell_type": "code",
   "execution_count": 76,
   "metadata": {},
   "outputs": [
    {
     "name": "stdout",
     "output_type": "stream",
     "text": [
      "489\n",
      "Wall time: 6.98 ms\n"
     ]
    },
    {
     "data": {
      "text/plain": [
       "('up left down right up left down right up right down left down left up right up right down down left up up right down left down left up up right right down left left up right down right up left down left down right up up left down right down left up up right down right up left left down right right up left down left up right down left up right right down left left up right down right up left down left down right up up left down right down left up up right down left down right up up left down right down left up up',\n",
       " 110)"
      ]
     },
     "execution_count": 76,
     "metadata": {},
     "output_type": "execute_result"
    }
   ],
   "source": [
    " %%time\n",
    "startstate = (7,2,4,5,0,6,8,3,1)\n",
    "prev, nrExplored = greedy(startstate)\n",
    "print(nrExplored)\n",
    "reconstructPath(prev)"
   ]
  },
  {
   "cell_type": "markdown",
   "metadata": {},
   "source": [
    "#### A-Star"
   ]
  },
  {
   "cell_type": "code",
   "execution_count": 77,
   "metadata": {},
   "outputs": [],
   "source": [
    "from heapq import heappop, heappush\n",
    "def astar(s): \n",
    "    g = {s:0}\n",
    "    frontier = [(h(s)+g[s],s)]\n",
    "    prev = {s:None}\n",
    "    nrExplored = 0\n",
    "   \n",
    "    \n",
    "    while frontier:\n",
    "        _, state = heappop(frontier) \n",
    "        nrExplored += 1\n",
    "        if goaltest(state):\n",
    "            return prev, nrExplored\n",
    "        for v in nextstates(state):\n",
    "            gg = g[state] + 1\n",
    "            if v not in prev or gg < g[v]:\n",
    "                g[v] = gg\n",
    "                heappush(frontier,(h(v)+g[v],v))\n",
    "                prev[v] = state\n",
    "    return None, nrExplored"
   ]
  },
  {
   "cell_type": "code",
   "execution_count": 82,
   "metadata": {},
   "outputs": [
    {
     "name": "stdout",
     "output_type": "stream",
     "text": [
      "33167\n",
      "Wall time: 345 ms\n"
     ]
    },
    {
     "data": {
      "text/plain": [
       "('left up right down right down left left up right right down left left up right right up left left down right right up left left',\n",
       " 26)"
      ]
     },
     "execution_count": 82,
     "metadata": {},
     "output_type": "execute_result"
    }
   ],
   "source": [
    "%%time\n",
    "startstate = (7,2,4,5,0,6,8,3,1)\n",
    "prev, nrExplored = astar(startstate)\n",
    "print(nrExplored)\n",
    "reconstructPath(prev)"
   ]
  },
  {
   "cell_type": "code",
   "execution_count": 83,
   "metadata": {},
   "outputs": [],
   "source": [
    "def h(state):\n",
    "    mh = 0\n",
    "    for k in range(9):\n",
    "        if state[k] != 0:\n",
    "            z1,s1 = k//3,k%3\n",
    "            z2,s2 = state[k]//3,state[k]%3\n",
    "            mh += abs(z1-z2)+abs(s1-s2)\n",
    "    return mh"
   ]
  },
  {
   "cell_type": "code",
   "execution_count": 84,
   "metadata": {},
   "outputs": [
    {
     "name": "stdout",
     "output_type": "stream",
     "text": [
      "2034\n",
      "Wall time: 45.9 ms\n"
     ]
    },
    {
     "data": {
      "text/plain": [
       "('left up right down right down left left up right right down left left up right right up left left down right right up left left',\n",
       " 26)"
      ]
     },
     "execution_count": 84,
     "metadata": {},
     "output_type": "execute_result"
    }
   ],
   "source": [
    "%%time\n",
    "startstate = (7,2,4,5,0,6,8,3,1)\n",
    "prev, nrExplored = astar(startstate)\n",
    "print(nrExplored)\n",
    "reconstructPath(prev)"
   ]
  },
  {
   "cell_type": "code",
   "execution_count": null,
   "metadata": {},
   "outputs": [],
   "source": []
  }
 ],
 "metadata": {
  "kernelspec": {
   "display_name": "Python 3",
   "language": "python",
   "name": "python3"
  },
  "language_info": {
   "codemirror_mode": {
    "name": "ipython",
    "version": 3
   },
   "file_extension": ".py",
   "mimetype": "text/x-python",
   "name": "python",
   "nbconvert_exporter": "python",
   "pygments_lexer": "ipython3",
   "version": "3.7.4"
  }
 },
 "nbformat": 4,
 "nbformat_minor": 4
}
