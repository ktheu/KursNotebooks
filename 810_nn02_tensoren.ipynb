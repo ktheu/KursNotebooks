{
 "cells": [
  {
   "cell_type": "markdown",
   "metadata": {},
   "source": [
    "## Tensoren\n",
    "\n",
    "Tensoren sind eine Verallgemeinerung von Vektoren und Matrizen in höhere Dimensionen\n",
    "\n",
    "Auf die Daten dieses Tensors können wir mit einem Index zugreifen. Der Rang (oder Dimension des Tensors ist 1). Wir stellen uns den\n",
    "Tensor als Vektor vor."
   ]
  },
  {
   "cell_type": "markdown",
   "metadata": {},
   "source": [
    "#### Dimension 1"
   ]
  },
  {
   "cell_type": "code",
   "execution_count": 1,
   "metadata": {},
   "outputs": [
    {
     "name": "stdout",
     "output_type": "stream",
     "text": [
      "tensor([1, 2, 3])\n",
      "shape: torch.Size([3])\n",
      "dim: 1\n",
      "Zugriff auf ein Element: 2\n"
     ]
    }
   ],
   "source": [
    "import torch\n",
    "a = [1,2,3]\n",
    "t = torch.tensor(a)\n",
    "print(t)\n",
    "print(\"shape:\", t.shape)\n",
    "print(\"dim:\", t.dim())\n",
    "print(\"Zugriff auf ein Element:\", t[1].item())"
   ]
  },
  {
   "cell_type": "markdown",
   "metadata": {},
   "source": [
    "#### Dimension 2\n",
    "\n",
    "Auf die Daten eines Tensors mit Dimension 2 können wir mit 2 Indizes zugreifen. Wir stellen uns den Tensor als Matrix vor."
   ]
  },
  {
   "cell_type": "code",
   "execution_count": 15,
   "metadata": {},
   "outputs": [
    {
     "name": "stdout",
     "output_type": "stream",
     "text": [
      "tensor([[1, 2, 3],\n",
      "        [4, 5, 6]])\n",
      "shape: torch.Size([2, 3])\n",
      "dim: 2\n",
      "Zugriff auf ein Element: 5\n"
     ]
    }
   ],
   "source": [
    "import torch\n",
    "a = [[1,2,3],[4,5,6]]\n",
    "t = torch.tensor(a)\n",
    "print(t)\n",
    "print(\"shape:\", t.shape)\n",
    "print(\"dim:\", t.dim())\n",
    "print(\"Zugriff auf ein Element:\", t[1][1].item())"
   ]
  },
  {
   "cell_type": "code",
   "execution_count": null,
   "metadata": {},
   "outputs": [],
   "source": []
  },
  {
   "cell_type": "markdown",
   "metadata": {},
   "source": [
    "#### Dimension 3\n",
    "\n",
    "Auf die Daten eines Tensors mit Dimension 3 können wir mit 3 Indizes zugreifen. Wir stellen uns den Tensor als Quader (hintereinander gestapelte Matrizen) vor."
   ]
  },
  {
   "cell_type": "code",
   "execution_count": 19,
   "metadata": {},
   "outputs": [
    {
     "name": "stdout",
     "output_type": "stream",
     "text": [
      "tensor([[[ 1,  2,  3],\n",
      "         [ 4,  5,  6]],\n",
      "\n",
      "        [[ 7,  8,  9],\n",
      "         [10, 11, 12]]])\n",
      "shape: torch.Size([2, 2, 3])\n",
      "dim: 3\n",
      "Zugriff auf ein Element: 11\n"
     ]
    }
   ],
   "source": [
    "a = [[[1,2,3],[4,5,6]],[[7,8,9],[10,11,12]]]\n",
    "t = torch.tensor(a)\n",
    "print(t)\n",
    "print(\"shape:\", t.shape)\n",
    "print(\"dim:\", t.dim())\n",
    "print(\"Zugriff auf ein Element:\", t[1][1][1].item())"
   ]
  },
  {
   "cell_type": "markdown",
   "metadata": {},
   "source": [
    "#### Dimension 4"
   ]
  },
  {
   "cell_type": "markdown",
   "metadata": {},
   "source": [
    "Auf die Daten eines Tensors mit Dimension 4 können wir mit 4 Indizes zugreifen. Wir stellen uns den Tensor als eine Vektor von Quadern vor.  \n"
   ]
  },
  {
   "cell_type": "code",
   "execution_count": 21,
   "metadata": {},
   "outputs": [
    {
     "name": "stdout",
     "output_type": "stream",
     "text": [
      "tensor([[[[ 1,  2,  3],\n",
      "          [ 4,  5,  6]],\n",
      "\n",
      "         [[ 7,  8,  9],\n",
      "          [10, 11, 12]]],\n",
      "\n",
      "\n",
      "        [[[13, 14, 15],\n",
      "          [16, 17, 18]],\n",
      "\n",
      "         [[19, 20, 21],\n",
      "          [22, 23, 24]]]])\n",
      "shape: torch.Size([2, 2, 2, 3])\n",
      "dim: 4\n",
      "Zugriff auf ein Element: 23\n"
     ]
    }
   ],
   "source": [
    "a = [[[1,2,3],[4,5,6]],[[7,8,9],[10,11,12]]],[[[13,14,15],[16,17,18]],[[19,20,21],[22,23,24]]]\n",
    "t = torch.tensor(a)\n",
    "print(t)\n",
    "print(\"shape:\", t.shape)\n",
    "print(\"dim:\", t.dim())\n",
    "print(\"Zugriff auf ein Element:\", t[1][1][1][1].item())"
   ]
  },
  {
   "cell_type": "markdown",
   "metadata": {},
   "source": [
    "<img src=\"./img/nn-tensoren.png\" width=\"600\"/>    "
   ]
  },
  {
   "cell_type": "markdown",
   "metadata": {},
   "source": [
    "### Reshape\n",
    "\n",
    "Mit Reshape können wir die Gestalt des Tensors verändern. "
   ]
  },
  {
   "cell_type": "code",
   "execution_count": 47,
   "metadata": {},
   "outputs": [
    {
     "data": {
      "text/plain": [
       "tensor([  0,   1,   2,   3,   4,   5,   6,   7,   8,   9,  10,  11,  12,  13,\n",
       "         14,  15,  16,  17,  18,  19,  20,  21,  22,  23,  24,  25,  26,  27,\n",
       "         28,  29,  30,  31,  32,  33,  34,  35,  36,  37,  38,  39,  40,  41,\n",
       "         42,  43,  44,  45,  46,  47,  48,  49,  50,  51,  52,  53,  54,  55,\n",
       "         56,  57,  58,  59,  60,  61,  62,  63,  64,  65,  66,  67,  68,  69,\n",
       "         70,  71,  72,  73,  74,  75,  76,  77,  78,  79,  80,  81,  82,  83,\n",
       "         84,  85,  86,  87,  88,  89,  90,  91,  92,  93,  94,  95,  96,  97,\n",
       "         98,  99, 100, 101, 102, 103, 104, 105, 106, 107, 108, 109, 110, 111,\n",
       "        112, 113, 114, 115, 116, 117, 118, 119])"
      ]
     },
     "execution_count": 47,
     "metadata": {},
     "output_type": "execute_result"
    }
   ],
   "source": [
    "a = list(range(2*3*4*5))\n",
    "t = torch.tensor(a)    # ein Vektor mit 120 Elementen\n",
    "t"
   ]
  },
  {
   "cell_type": "code",
   "execution_count": 48,
   "metadata": {},
   "outputs": [
    {
     "data": {
      "text/plain": [
       "tensor(117)"
      ]
     },
     "execution_count": 48,
     "metadata": {},
     "output_type": "execute_result"
    }
   ],
   "source": [
    "t.reshape(2,60)   # Matrix mit 2 Zeilen, 60 Spalten  \n",
    "t.reshape(60,2)   # Matrix mit 60 Zeilen, 2 Spalten\n",
    "t.reshape(2,3,20) # 2 Matrizen mit je 3 Zeilen und 20 Spalten hintereinander gestapelt\n",
    "t.reshape(2,3,20)[1][2][17]"
   ]
  },
  {
   "cell_type": "code",
   "execution_count": 49,
   "metadata": {},
   "outputs": [
    {
     "data": {
      "text/plain": [
       "tensor(93)"
      ]
     },
     "execution_count": 49,
     "metadata": {},
     "output_type": "execute_result"
    }
   ],
   "source": [
    "t.reshape(2,3,4,5)[1][1][2][3]  # 2 Quader, bestehend aus 3 hintereinandergestapelten 4x5 Matrizen  "
   ]
  },
  {
   "cell_type": "code",
   "execution_count": 43,
   "metadata": {},
   "outputs": [
    {
     "data": {
      "text/plain": [
       "tensor(88)"
      ]
     },
     "execution_count": 43,
     "metadata": {},
     "output_type": "execute_result"
    }
   ],
   "source": [
    "t.reshape(2,4,3,5)[1][1][2][3] # 2 Quader, bestehend aus 4 hintereinandergestapelten 3x5 Matrizen   "
   ]
  },
  {
   "cell_type": "markdown",
   "metadata": {},
   "source": [
    "<img src=\"./img/nn-reshape.png\" width=\"800\"/>    "
   ]
  },
  {
   "cell_type": "code",
   "execution_count": null,
   "metadata": {},
   "outputs": [],
   "source": []
  }
 ],
 "metadata": {
  "kernelspec": {
   "display_name": "Python 3",
   "language": "python",
   "name": "python3"
  },
  "language_info": {
   "codemirror_mode": {
    "name": "ipython",
    "version": 3
   },
   "file_extension": ".py",
   "mimetype": "text/x-python",
   "name": "python",
   "nbconvert_exporter": "python",
   "pygments_lexer": "ipython3",
   "version": "3.7.5"
  }
 },
 "nbformat": 4,
 "nbformat_minor": 4
}
