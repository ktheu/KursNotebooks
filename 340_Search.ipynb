{
 "cells": [
  {
   "cell_type": "markdown",
   "metadata": {},
   "source": [
    "# Suchalgorithmen am Beispiel 8-Puzzle"
   ]
  },
  {
   "cell_type": "markdown",
   "metadata": {},
   "source": [
    "In vielen Problemstellung geht es darum, in einer (meist sehr großen) Menge von Möglichkeiten eine Lösung zu finden. Am Beispiel des 8-Puzzle werden verschiedene Suchalgorithmen für das Finden einer Lösung vorgestellt."
   ]
  },
  {
   "cell_type": "markdown",
   "metadata": {},
   "source": [
    "![quadrate](img/such_bild1.png)"
   ]
  },
  {
   "cell_type": "markdown",
   "metadata": {},
   "source": [
    "Wir modellieren eine Spielstellung mit einem Tupel."
   ]
  },
  {
   "cell_type": "code",
   "execution_count": 8,
   "metadata": {},
   "outputs": [],
   "source": [
    "startstate = (7,2,4,5,0,6,8,3,1)\n",
    "goalstate  = (0,1,2,3,4,5,6,7,8)"
   ]
  },
  {
   "cell_type": "markdown",
   "metadata": {},
   "source": [
    "Einzelne Spielstellungen stellen wir uns als Knoten vor. Die Kanten zwischen den Knoten sind mögliche Spielzüge.\n",
    "Die Startstellung ist also die Wurzel eines Suchbaums, in dem wir einen Pfad zu einem Knoten suchen, der den **goaltest** besteht. \n",
    "\n",
    "In der Regel ist der Suchbaum so groß, dass er nicht in seiner Gesamtheit aufgebaut werden kann. Während der Suche wird der Suchbaums immer wieder erweitert und wir hoffen, dass wir auf eine Lösung stoßen, ohne den gesamten Baum durchsuchen zu müssen.\n",
    "\n",
    "Die Knoten, die wir noch untersuchen müssen, verwalten wir in der **frontier** (fringe, open set). \n",
    "Zu jedem Knoten, der in die frontier kommt, merken wir uns den Elternknoten in einem dictionary **prev**.\n",
    "Die keys in prev sind also alle Spielstellungen, die schon untersucht wurden oder noch auf Untersuchung warten.\n",
    "\n",
    "Zu Beginn ist nur der Startknoten in der frontier mit Elternknoten None.\n",
    "\n",
    "Wenn wir einen Knoten untersuchen, holen wir ihn aus der frontier, löschen ihn aus der frontier und schauen, ob er den goaltest besteht.\n",
    "\n",
    "Wenn das nicht der Fall ist, gehen wir die Liste seiner Kinder durch. Nur Kinder, die noch nicht untersucht wurden oder auf Untersuchung warten, werden der frontier hinzugefügt. \n",
    "\n",
    "Wir gehen davon aus, dass wir folgende Funktionen zur Verfügung haben:"
   ]
  },
  {
   "cell_type": "code",
   "execution_count": 9,
   "metadata": {},
   "outputs": [],
   "source": [
    "def nextstates(state):\n",
    "    '''\n",
    "    state: Spielstellung\n",
    "    returns: eine Liste oder Menge von möglichen Folgestellungen zu state\n",
    "    '''\n",
    "\n",
    "def goaltest(state):\n",
    "    '''\n",
    "    state: Spielstellung\n",
    "    returns: True, wenn Spielstellung einen Lösung ist\n",
    "    '''"
   ]
  },
  {
   "cell_type": "markdown",
   "metadata": {},
   "source": [
    "Wenn wir bei einer Spielstellung angekommen sind, die den goaltest besteht, interessiert uns der Weg, wie wir dahin gekommen sind. Die Funktion Die Funktion **reconstructPath** ermittelt den Lösungsweg."
   ]
  },
  {
   "cell_type": "code",
   "execution_count": 10,
   "metadata": {},
   "outputs": [],
   "source": [
    "def reconstructPath(prev):\n",
    "    '''\n",
    "    prev: dictionary, das jeder Spielstellung ihren Vorgänger zuordnet.\n",
    "       Die Startstellung hat als Vorgänger None zugeordnet.\n",
    "    returns: String-Repräsentation des Weges von der Start- zur Zielstellung\n",
    "   '''"
   ]
  },
  {
   "cell_type": "markdown",
   "metadata": {},
   "source": [
    "#### Breitensuche\n",
    "Bei der Breitensuche (bfs = breadth first search) organisieren wir die frontier als Schlange. Als Ergebnis geben wir das dictionary prev zurück und (aus Interesse) die Anzahl der untersuchten Knoten."
   ]
  },
  {
   "cell_type": "code",
   "execution_count": null,
   "metadata": {},
   "outputs": [],
   "source": [
    "Initialisiere frontier als Queue mit dem startstate\n",
    "Initialisiere prev als dictionary der Vorgänger\n",
    "Der Vorgänger von startstate ist None\n",
    "nrExplored = 0\n",
    "\n",
    "solange frontier nicht leer:\n",
    "    hole state aus frontier\n",
    "    nrExplored += 1\n",
    "    \n",
    "    wenn goalTest(state):\n",
    "        return dictionary mit Vorgängern, nrExplored\n",
    "    \n",
    "    für jedes v aus nextstates(state):\n",
    "        wenn v kein key in prev:\n",
    "            füge v in die frontier ein.\n",
    "            merke state als Vorgänger von v"
   ]
  },
  {
   "cell_type": "code",
   "execution_count": 42,
   "metadata": {},
   "outputs": [],
   "source": [
    "from collections import deque\n",
    "def bfs(s):\n",
    "    ''' \n",
    "    s: Startstellung\n",
    "    returns: Tupel (prev, nrExplored) \n",
    "        prev: dictionary mit den Vorgängern der Spielstellungen\n",
    "            auf dem  Weg zum Ziel, None wenn Ziel nicht gefunden\n",
    "        nrExplored: int, Anzahl untersuchter Knoten\n",
    "    '''   \n",
    "    frontier =  deque([s])\n",
    "    prev = {s:None}\n",
    "    nrExplored = 0\n",
    "    while frontier:\n",
    "        state = frontier.popleft()  \n",
    "        nrExplored+=1\n",
    "        if goaltest(state):\n",
    "            return prev, nrExplored\n",
    "        for v in nextstates(state):\n",
    "            if v not in prev:\n",
    "                frontier.append(v)\n",
    "                prev[v] = state"
   ]
  },
  {
   "cell_type": "code",
   "execution_count": 1,
   "metadata": {},
   "outputs": [],
   "source": [
    "def goaltest(state):\n",
    "    '''\n",
    "    state: Spielstellung\n",
    "    returns: True, wenn state Zielposition ist\n",
    "    '''  \n",
    "    return state == (0,1,2,3,4,5,6,7,8) \n",
    "\n",
    "def nextstates(state):\n",
    "    '''\n",
    "    state: Spielstellung\n",
    "    returns: Liste mit den möglichen Folgestellungen für state. Die möglichen\n",
    "       Bewegungen des Leerfeldes halten sich an die Reihenfolge: up, down, left, right \n",
    "    '''\n",
    "    if state[0] == 0:   return [swap(state,0,3),swap(state,0,1)]\n",
    "    elif state[1] == 0: return [swap(state,1,4),swap(state,1,0),swap(state,1,2)]\n",
    "    elif state[2] == 0: return [swap(state,2,5),swap(state,2,1)]\n",
    "    elif state[3] == 0: return [swap(state,3,0),swap(state,3,6),swap(state,3,4)]\n",
    "    elif state[4] == 0: return [swap(state,4,1),swap(state,4,7),swap(state,4,3),swap(state,4,5)]\n",
    "    elif state[5] == 0: return [swap(state,5,2),swap(state,5,8),swap(state,5,4)]\n",
    "    elif state[6] == 0: return [swap(state,6,3),swap(state,6,7)]\n",
    "    elif state[7] == 0: return [swap(state,7,4),swap(state,7,6),swap(state,7,8)]\n",
    "    elif state[8] == 0: return [swap(state,8,5),swap(state,8,7)]\n",
    "    \n",
    "def swap(state,i,j):\n",
    "    ''' Hilfsfunktion für nextstates\n",
    "    state: Spielstellung\n",
    "    i, j: ints zwischen 0 und 8\n",
    "    returns: Spielstellung, bei der gegenüber state die Zahlen an den\n",
    "       Positionen i und j vertauscht sind.\n",
    "    '''\n",
    "    temp = list(state)\n",
    "    temp[i],temp[j] = temp[j],temp[i]\n",
    "    return tuple(temp)"
   ]
  },
  {
   "cell_type": "code",
   "execution_count": 2,
   "metadata": {},
   "outputs": [],
   "source": [
    "def reconstructPath(prev):\n",
    "    '''\n",
    "    prev: dictionary, das jeder Spielstellung ihren Vorgänger zuordnet.\n",
    "       Die Startstellung hat als Vorgänger None zugeordnet.\n",
    "    returns: tuple pfad, laenge\n",
    "       pfad: String-Repräsentation des Weges von der Start- zur Zielstellung\n",
    "       laenge: int, Länge des Weges in pfad\n",
    "    '''\n",
    "    s = (0,1,2,3,4,5,6,7,8)\n",
    "    tmp = []\n",
    "    while prev[s] is not None:\n",
    "        i = s.index(0)          # Position der 0\n",
    "        ip = prev[s].index(0)   # vorherige Position der 0\n",
    "        if i == ip-1: tmp.append('left')\n",
    "        elif i == ip+1: tmp.append('right')\n",
    "        elif i == ip+3: tmp.append('down')\n",
    "        elif i == ip-3: tmp.append('up')\n",
    "        else: tmp.append('error')\n",
    "        s = prev[s]\n",
    "    tmp.reverse()\n",
    "    return ' '.join(tmp),len(tmp)"
   ]
  },
  {
   "cell_type": "code",
   "execution_count": 49,
   "metadata": {},
   "outputs": [
    {
     "name": "stdout",
     "output_type": "stream",
     "text": [
      "('left up left down down right right up up left left down right down right up left up left', 19)\n",
      "Anzahl explored: 37151\n",
      "Wall time: 113 ms\n"
     ]
    }
   ],
   "source": [
    "%%time\n",
    "startstate = (2,3,8,4,7,0,1,6,5)\n",
    "prev, nrExplored = bfs(startstate)\n",
    "print(reconstructPath(prev))\n",
    "print(\"Anzahl explored:\",nrExplored)"
   ]
  },
  {
   "cell_type": "markdown",
   "metadata": {},
   "source": [
    "#### Ungeeignete Datenstrukturen führen zu erhöhter Laufzeit\n",
    "\n",
    "Im folgenden Beispiel werden die schon untersuchten Stellungen in einer Liste **explored** gesammelt. Bevor eine Stellung in die frontier eingefügt wird, wird überprüft, ob sie nicht schon in der frontier ist oder nicht schon früher explored wurde."
   ]
  },
  {
   "cell_type": "code",
   "execution_count": 46,
   "metadata": {},
   "outputs": [],
   "source": [
    "from collections import deque\n",
    "def bfs2(s):\n",
    "    frontier =  deque([s])\n",
    "    prev = {s:None}\n",
    "    explored = []\n",
    "    nrExplored = 0\n",
    "    while frontier:\n",
    "        state = frontier.popleft()  \n",
    "        nrExplored+=1\n",
    "        explored.append(state)\n",
    "        if goaltest(state):\n",
    "            return prev, nrExplored\n",
    "        for v in nextstates(state):\n",
    "            if v not in frontier and v not in explored:\n",
    "                frontier.append(v)\n",
    "                prev[v] = state"
   ]
  },
  {
   "cell_type": "code",
   "execution_count": 51,
   "metadata": {},
   "outputs": [
    {
     "name": "stdout",
     "output_type": "stream",
     "text": [
      "('left up left down down right right up up left left down right down right up left up left', 19)\n",
      "Anzahl explored: 37151\n",
      "Wall time: 1min 3s\n"
     ]
    }
   ],
   "source": [
    "%%time\n",
    "startstate = (2,3,8,4,7,0,1,6,5)\n",
    "prev, nrExplored = bfs2(startstate)\n",
    "print(reconstructPath(prev))\n",
    "print(\"Anzahl explored:\",nrExplored)"
   ]
  },
  {
   "cell_type": "markdown",
   "metadata": {},
   "source": [
    "#### Tiefensuche\n",
    "Bei der Tiefensuche (dfs = depth first search) organisieren wir die frontier als Keller."
   ]
  },
  {
   "cell_type": "code",
   "execution_count": 3,
   "metadata": {},
   "outputs": [],
   "source": [
    "def dfs(s):\n",
    "    frontier =  [s]\n",
    "    prev = {s:None}\n",
    "    nrExplored = 0\n",
    "    while frontier:\n",
    "        state = frontier.pop()  \n",
    "        nrExplored+=1\n",
    "        if goaltest(state):\n",
    "            return prev,nrExplored\n",
    "        nxt = nextstates(state)\n",
    "        nxt.reverse()        # die linken Kinder sollen zuletzt auf den frontier-Keller\n",
    "        for v in nxt:\n",
    "            if v not in prev:\n",
    "                frontier.append(v)\n",
    "                prev[v] = state"
   ]
  },
  {
   "cell_type": "code",
   "execution_count": 7,
   "metadata": {},
   "outputs": [
    {
     "name": "stdout",
     "output_type": "stream",
     "text": [
      "7827\n",
      "Anzahl explored: 8036\n",
      "Wall time: 42.8 ms\n"
     ]
    }
   ],
   "source": [
    "%%time\n",
    "startstate = (2,3,8,4,7,0,1,6,5)\n",
    "prev, nrExplored = dfs(startstate)\n",
    "print(reconstructPath(prev)[1])   # nur die Länge des Pfads ausgeben\n",
    "print(\"Anzahl explored:\",nrExplored)"
   ]
  },
  {
   "cell_type": "markdown",
   "metadata": {},
   "source": [
    "#### Heuristik\n",
    "Wir wollen aus der frontier die Spielstellungen früh entnehmen, die Erfolg versprechen. Dazu bewerten wir sie mit einer Heuristik. \n",
    "Als Datenstruktur eignet sich ein Heap.\n"
   ]
  },
  {
   "cell_type": "markdown",
   "metadata": {},
   "source": [
    "**1. Heuristik:** Die Anzahl der Ziffern, die ihre Endposition noch nicht erreicht haben, betrachten wir als Vorwärtskosten. "
   ]
  },
  {
   "cell_type": "code",
   "execution_count": 27,
   "metadata": {},
   "outputs": [],
   "source": [
    "def h(state):\n",
    "    '''\n",
    "    state: Spielstellung\n",
    "    returns: Vorwärtskosten laut Heuristik\n",
    "    '''\n",
    "    return sum(a!=b for a,b in zip((0,1,2,3,4,5,6,7,8),state))"
   ]
  },
  {
   "cell_type": "markdown",
   "metadata": {},
   "source": [
    "#### Greedy\n",
    "Der Greedy-Algorithmus nimmt die Spielstellung mit den niedrigsten Forwärtskosten als nächstes dran. "
   ]
  },
  {
   "cell_type": "code",
   "execution_count": 28,
   "metadata": {},
   "outputs": [],
   "source": [
    "from heapq import heappop, heappush\n",
    "def greedy(s):\n",
    "    frontier =[(h(s),s)]  \n",
    "    prev = {s:None}\n",
    "    nrExplored = 0\n",
    "    while frontier:\n",
    "        _ ,state = heappop(frontier)  \n",
    "        nrExplored+=1\n",
    "        if goaltest(state):\n",
    "            return prev,nrExplored\n",
    "        for v in nextstates(state):\n",
    "            if v not in prev:\n",
    "                heappush(frontier,(h(v),v))\n",
    "                prev[v] = state"
   ]
  },
  {
   "cell_type": "code",
   "execution_count": 29,
   "metadata": {},
   "outputs": [
    {
     "name": "stdout",
     "output_type": "stream",
     "text": [
      "('down left up left up right down left up right down right up left down down right up left up left down down right up up left down right up left down right down right up left down left up right down right up left left down right up right down left left up up right down left down right up up left down right down left up up', 69)\n",
      "Anzahl explored: 206\n",
      "Wall time: 1.95 ms\n"
     ]
    }
   ],
   "source": [
    "%%time\n",
    "startstate = (2,3,8,4,7,0,1,6,5)\n",
    "prev, nrExplored = greedy(startstate)\n",
    "print(reconstructPath(prev))   \n",
    "print(\"Anzahl explored:\",nrExplored)"
   ]
  },
  {
   "cell_type": "markdown",
   "metadata": {},
   "source": [
    "**Greedy-Algorithmen sind meist schnell, finden aber nicht immer die optimale Lösung.**\n"
   ]
  },
  {
   "cell_type": "markdown",
   "metadata": {},
   "source": [
    "#### A*"
   ]
  },
  {
   "cell_type": "markdown",
   "metadata": {},
   "source": [
    "Der A*-Algorithmus berücksichtigt sowohl die vermuteten Vorwärtskosten laut Heuristik, als auch die bisher\n",
    "tatsächlich angefallenen (Rückwärts)-Kosten.\n",
    "\n"
   ]
  },
  {
   "cell_type": "code",
   "execution_count": 30,
   "metadata": {},
   "outputs": [],
   "source": [
    "def astar(s):\n",
    "    frontier =[(h(s),s)]  \n",
    "    prev = {s:None}\n",
    "    nrExplored = 0\n",
    "    g = {s:0}  # backword costs: hier die Anzahl Züge\n",
    "    while frontier:\n",
    "        _ ,state = heappop(frontier)  # die Kosten braucht man an der Stelle nicht\n",
    "        nrExplored+=1\n",
    "        if goaltest(state):\n",
    "            return prev,nrExplored\n",
    "        for v in nextstates(state):\n",
    "            if v not in prev:\n",
    "                g[v] = g[state]+1\n",
    "                heappush(frontier,(g[v]+h(v),v))\n",
    "                prev[v] = state"
   ]
  },
  {
   "cell_type": "code",
   "execution_count": 31,
   "metadata": {},
   "outputs": [
    {
     "name": "stdout",
     "output_type": "stream",
     "text": [
      "('left up left down down right right up up left down down right up left up left down right up left', 21)\n",
      "Anzahl explored: 3685\n",
      "Wall time: 29.9 ms\n"
     ]
    }
   ],
   "source": [
    "%%time\n",
    "startstate = (2,3,8,4,7,0,1,6,5)\n",
    "prev, nrExplored = astar(startstate)\n",
    "print(reconstructPath(prev))  \n",
    "print(\"Anzahl explored:\",nrExplored)"
   ]
  },
  {
   "cell_type": "markdown",
   "metadata": {},
   "source": [
    "A* hat die optimale Lösung noch nicht gefunden: Es gilt der Satz:\n",
    "\n",
    "**Wenn die Heuristik die tatsächlich anfallenden Kosten nicht überschätzt, dann findet A* die beste Lösung.**\n",
    "\n",
    "Dazu müssen wir den Wert, den unsere Heuristik liefert, durch 2 teilen."
   ]
  },
  {
   "cell_type": "code",
   "execution_count": 32,
   "metadata": {},
   "outputs": [],
   "source": [
    "def h(state):\n",
    "    '''\n",
    "    state: Spielstellung\n",
    "    returns: Vorwärtskosten laut Heuristik\n",
    "    '''\n",
    "    return sum(a!=b for a,b in zip((0,1,2,3,4,5,6,7,8),state))//2"
   ]
  },
  {
   "cell_type": "code",
   "execution_count": 33,
   "metadata": {},
   "outputs": [
    {
     "name": "stdout",
     "output_type": "stream",
     "text": [
      "('left up left down down right right up up left left down right down right up left up left', 19)\n",
      "Anzahl explored: 6391\n",
      "Wall time: 65.9 ms\n"
     ]
    }
   ],
   "source": [
    "%%time\n",
    "startstate = (2,3,8,4,7,0,1,6,5)\n",
    "prev, nrExplored = astar(startstate)\n",
    "print(reconstructPath(prev))  \n",
    "print(\"Anzahl explored:\",nrExplored)"
   ]
  },
  {
   "cell_type": "markdown",
   "metadata": {},
   "source": [
    "** 2.Heuristik:** Die Manhatten-Distanz der Ziffern zu ihrer Zielposition"
   ]
  },
  {
   "cell_type": "code",
   "execution_count": 34,
   "metadata": {},
   "outputs": [],
   "source": [
    "def h(state): \n",
    "    '''\n",
    "    state: Spielstellung\n",
    "    returns: Fortwärtskosten laut Manhatten-Heuristik\n",
    "    '''\n",
    "    mh = 0\n",
    "    for i in range(8):\n",
    "        z1,s1 = i//3, i%3\n",
    "        z2,s2 = state[i]//3, state[i]%3\n",
    "        mh += abs(z1-z2)+abs(s1-s2)\n",
    "    return mh//2"
   ]
  },
  {
   "cell_type": "code",
   "execution_count": 35,
   "metadata": {},
   "outputs": [
    {
     "name": "stdout",
     "output_type": "stream",
     "text": [
      "('left up left down down right right up up left left down right down right up left up left', 19)\n",
      "Anzahl explored: 1963\n",
      "Wall time: 29.9 ms\n"
     ]
    }
   ],
   "source": [
    "%%time\n",
    "startstate = (2,3,8,4,7,0,1,6,5)\n",
    "prev, nrExplored = astar(startstate)\n",
    "print(reconstructPath(prev))  \n",
    "print(\"Anzahl explored:\",nrExplored)"
   ]
  }
 ],
 "metadata": {
  "kernelspec": {
   "display_name": "Python 3",
   "language": "python",
   "name": "python3"
  },
  "language_info": {
   "codemirror_mode": {
    "name": "ipython",
    "version": 3
   },
   "file_extension": ".py",
   "mimetype": "text/x-python",
   "name": "python",
   "nbconvert_exporter": "python",
   "pygments_lexer": "ipython3",
   "version": "3.6.5"
  }
 },
 "nbformat": 4,
 "nbformat_minor": 2
}
