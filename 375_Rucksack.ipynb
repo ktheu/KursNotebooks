{
 "cells": [
  {
   "cell_type": "markdown",
   "metadata": {},
   "source": [
    "### Das Rucksack Problem (Knapsack)\n",
    "\n",
    "Der Rucksack-Problem: Fülle einen Rucksack so, dass der Wert der Dinge möglichst groß ist und die Gewichtsgrenze nicht überschritten wird.\n",
    "\n",
    "#### Greedy"
   ]
  },
  {
   "cell_type": "code",
   "execution_count": 7,
   "metadata": {},
   "outputs": [
    {
     "name": "stdout",
     "output_type": "stream",
     "text": [
      "Items = 0 3 6\n",
      "Wert = 18 Gewicht = 10\n"
     ]
    }
   ],
   "source": [
    "wert = [1,1,1,10,10,13,7]\n",
    "gewicht = [2,2,2,5,5,8,3]\n",
    "kapazitaet = 10\n",
    "\n",
    "anzahl = len(wert)\n",
    "taken = set()\n",
    "\n",
    "wg = list(zip(wert,gewicht,range(anzahl)))     # Liste aus Tupels (wert,gewicht,nr)\n",
    "\n",
    "#wg = sorted(wg, key=lambda x: x[1])                # die leichtesten zuerst\n",
    "#wg = sorted(wg, key=lambda x: x[0], reverse=True)  # die wertvollsten zuerst\n",
    "wg = sorted(wg, key=lambda x: x[0]/x[1], reverse=True) # die wertdichtesten zuerst\n",
    "\n",
    "rucksack_gewicht = 0\n",
    "rucksack_wert = 0\n",
    "\n",
    "for item in wg:\n",
    "    if rucksack_gewicht + item[1] <= kapazitaet:\n",
    "        rucksack_gewicht+=item[1]\n",
    "        rucksack_wert+=item[0]\n",
    "        taken.add(item[2])\n",
    "\n",
    "print('Items =',*taken)\n",
    "print('Wert =',rucksack_wert, 'Gewicht =',rucksack_gewicht)"
   ]
  },
  {
   "cell_type": "markdown",
   "metadata": {},
   "source": [
    "#### Rekursion\n"
   ]
  },
  {
   "cell_type": "code",
   "execution_count": 3,
   "metadata": {},
   "outputs": [
    {
     "name": "stdout",
     "output_type": "stream",
     "text": [
      "20\n"
     ]
    }
   ],
   "source": [
    "wert = [1,1,1,10,10,13,7]\n",
    "gewicht = [2,2,2,5,5,8,3]\n",
    "kapazitaet = 10\n",
    "\n",
    "def opt(k, j):\n",
    "    '''\n",
    "    returned den wert des optimalen Rucksacks mit Kapazität k, der\n",
    "    nur Gegenstände mit Nummern 0...j enthält\n",
    "    '''\n",
    "    if j == -1: return 0\n",
    "    elif gewicht[j] <= k:\n",
    "        a = opt(k,j-1)\n",
    "        b = wert[j]+opt(k-gewicht[j],j-1)\n",
    "        return max(a,b)\n",
    "    else:\n",
    "        return opt(k,j-1)\n",
    "\n",
    "print(opt(kapazitaet, len(wert)-1))"
   ]
  },
  {
   "cell_type": "markdown",
   "metadata": {},
   "source": [
    "#### Dynamische Programmierung"
   ]
  },
  {
   "cell_type": "code",
   "execution_count": 9,
   "metadata": {},
   "outputs": [
    {
     "name": "stdout",
     "output_type": "stream",
     "text": [
      "Items = 3 4\n",
      "Wert = 20 Gewicht = 10\n"
     ]
    }
   ],
   "source": [
    "wert = [1,1,1,10,10,13,7]\n",
    "gewicht = [2,2,2,5,5,8,3]\n",
    "kapazitaet = 10\n",
    "anzahl = len(wert)\n",
    "\n",
    "m = [[0 for j in range(kapazitaet+1)] \\\n",
    "     for i in range(anzahl)]\n",
    "\n",
    "for j in range(1,kapazitaet+1):\n",
    "    for i in range(anzahl):\n",
    "        if gewicht[i] <= j:\n",
    "            if i == 0:\n",
    "                m[0][j] = wert[0]                      # Item 0 wird genommen, wenn es passt\n",
    "            else:\n",
    "                wert1 = m[i-1][j]                      # Item i wird nicht genommen\n",
    "                wert2 = wert[i]+ m[i-1][j-gewicht[i]]  # Item i wird genommen\n",
    "                m[i][j] = max(wert1,wert2)\n",
    "        else:\n",
    "            m[i][j] = m[i-1][j]\n",
    "\n",
    "rucksack_wert = m[i][j]\n",
    "\n",
    "# Rekonstruktion des optimalen Rucksacks\n",
    "x = rucksack_wert\n",
    "taken = set()\n",
    "\n",
    "while i > 0:\n",
    "    y = m[i-1][j]\n",
    "    if x != y:\n",
    "        taken.add(i)\n",
    "        j = j-gewicht[i]\n",
    "    i = i - 1\n",
    "    x = m[i][j]\n",
    "if m[0][j] != 0:\n",
    "    taken.add(0)\n",
    "\n",
    "rucksack_gewicht = sum([gewicht[i] for i in taken])\n",
    "print('Items =',*taken)\n",
    "print('Wert =',rucksack_wert, 'Gewicht =',rucksack_gewicht)\n"
   ]
  },
  {
   "cell_type": "markdown",
   "metadata": {},
   "source": [
    "__[Beispieldaten](./knapsack_data)__\n"
   ]
  },
  {
   "cell_type": "code",
   "execution_count": null,
   "metadata": {},
   "outputs": [],
   "source": []
  }
 ],
 "metadata": {
  "kernelspec": {
   "display_name": "Python 3",
   "language": "python",
   "name": "python3"
  },
  "language_info": {
   "codemirror_mode": {
    "name": "ipython",
    "version": 3
   },
   "file_extension": ".py",
   "mimetype": "text/x-python",
   "name": "python",
   "nbconvert_exporter": "python",
   "pygments_lexer": "ipython3",
   "version": "3.6.5"
  }
 },
 "nbformat": 4,
 "nbformat_minor": 2
}
