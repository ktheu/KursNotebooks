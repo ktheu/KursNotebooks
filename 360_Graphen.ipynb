{
 "cells": [
  {
   "cell_type": "markdown",
   "metadata": {},
   "source": [
    "# Graphen\n",
    "\n",
    "Ein **Graph** besteht aus **Knoten** und **Kanten**. Er kann gerichtet oder ungerichtet sein. Die Kanten \n",
    "können **gewichtet** sein (Kosten).  \n",
    "\n",
    "![a](img/graphen_01.png)\n",
    "![a](img/graphen_02.png)\n",
    "\n",
    "Mit Graphen können binäre Beziehungen zwischen Objekten modelliert werden. Die Objekte werden\n",
    "durch die Knoten, die Beziehungen durch die Kanten modelliert.  \n"
   ]
  },
  {
   "cell_type": "markdown",
   "metadata": {},
   "source": [
    "* Orte: Entfernungen, Dauer\n",
    "* Personen: ist befreundet, verheiratet mit\n",
    "* Ereignisse: a muss vor b geschehen"
   ]
  },
  {
   "cell_type": "markdown",
   "metadata": {},
   "source": [
    "#### Begriffe\n",
    "\n",
    "![a](img/graphen_03.png)\n",
    "![a](img/graphen_04.png)\n",
    "\n",
    "* x ist zu y adjazent, x und y sind Nachbarn\n",
    "* der Grad von y ist 2\n",
    "* a ist Vorgänger von b, b ist Nachfolger von a\n",
    "* der Eingangsgrad von b ist 2, der Ausgangsgrad ist 1\n",
    "* Ein **Weg** ist eine Folge von adjazenten Knoten\n",
    "* Ein **Kreis** ist ein Weg, der zurück zum Startknoten führt.\n",
    " "
   ]
  },
  {
   "cell_type": "markdown",
   "metadata": {},
   "source": [
    "### Implementation von Graphen\n",
    "\n",
    "Eine Implementation sollte zwei Dinge zügig können:\n",
    "* Die Frage klären, ob es eine Kante von Knoten a nach Knoten b gibt,\n",
    "* Alle Nachbarn von a durchlaufen.\n",
    "\n",
    "\n",
    "#### Adjazenzmatrix eines ungewichteten Graphen\n",
    "Wir ordnen jedem Knoten einen Index zu. Die erste Reihe der Adjazenzmatrix gibt die Nachbarn des Knoten mit Index 0 an.\n",
    "\n",
    "![a](img/graphen_05.png)"
   ]
  },
  {
   "cell_type": "code",
   "execution_count": null,
   "metadata": {},
   "outputs": [],
   "source": [
    "a b c d   # Knoten\n",
    "0 1 2 3   # Index"
   ]
  },
  {
   "cell_type": "code",
   "execution_count": 2,
   "metadata": {},
   "outputs": [],
   "source": [
    "G = [[0, 1, 1, 0],  \n",
    "     [0, 0, 0, 1],  \n",
    "     [0, 1, 0, 1],  \n",
    "     [0, 1, 0, 0]]"
   ]
  },
  {
   "cell_type": "code",
   "execution_count": 3,
   "metadata": {},
   "outputs": [
    {
     "data": {
      "text/plain": [
       "True"
      ]
     },
     "execution_count": 3,
     "metadata": {},
     "output_type": "execute_result"
    }
   ],
   "source": [
    "# Gibt es Kante von a nach b?\n",
    "G[0][1] == 1  "
   ]
  },
  {
   "cell_type": "code",
   "execution_count": 8,
   "metadata": {},
   "outputs": [
    {
     "data": {
      "text/plain": [
       "[1, 2]"
      ]
     },
     "execution_count": 8,
     "metadata": {},
     "output_type": "execute_result"
    }
   ],
   "source": [
    "# alle Nachbarn von a  \n",
    "[j for j in range(len(G)) if G[0][j] == 1]          "
   ]
  },
  {
   "cell_type": "code",
   "execution_count": 10,
   "metadata": {},
   "outputs": [
    {
     "data": {
      "text/plain": [
       "['b', 'c']"
      ]
     },
     "execution_count": 10,
     "metadata": {},
     "output_type": "execute_result"
    }
   ],
   "source": [
    "# alle Nachbarn von a  (Buchstaben)\n",
    "[chr(j+97) for j in range(len(G)) if G[0][j] == 1]  "
   ]
  },
  {
   "cell_type": "markdown",
   "metadata": {},
   "source": [
    "#### Adjazenzmatrix eines gewichteten Graphen\n",
    "\n",
    "![a](img/graphen_07.png)"
   ]
  },
  {
   "cell_type": "code",
   "execution_count": null,
   "metadata": {},
   "outputs": [],
   "source": [
    "a b c d   # Knoten\n",
    "0 1 2 3   # Index"
   ]
  },
  {
   "cell_type": "markdown",
   "metadata": {},
   "source": [
    "Nicht vorhandene Knoten haben unendliche Kosten."
   ]
  },
  {
   "cell_type": "code",
   "execution_count": 9,
   "metadata": {},
   "outputs": [],
   "source": [
    "inf = float('inf') \n",
    "G = [[0,   8,   2, inf],  \n",
    "     [inf, 0, inf,   4],  \n",
    "     [inf, 1,   0,   6],  \n",
    "     [inf, 2, inf,   0]]"
   ]
  },
  {
   "cell_type": "code",
   "execution_count": 10,
   "metadata": {},
   "outputs": [
    {
     "data": {
      "text/plain": [
       "8"
      ]
     },
     "execution_count": 10,
     "metadata": {},
     "output_type": "execute_result"
    }
   ],
   "source": [
    "# Kosten von a nach b\n",
    "G[0][1]"
   ]
  },
  {
   "cell_type": "code",
   "execution_count": 12,
   "metadata": {},
   "outputs": [
    {
     "data": {
      "text/plain": [
       "[1, 2]"
      ]
     },
     "execution_count": 12,
     "metadata": {},
     "output_type": "execute_result"
    }
   ],
   "source": [
    "# alle Nachbarn von a\n",
    "[j for j in range(len(G)) if j!=0 and G[0][j] < inf]"
   ]
  },
  {
   "cell_type": "markdown",
   "metadata": {},
   "source": [
    "#### Analyse der Implementation durch eine Adjazenzmatrix\n",
    "\n",
    "$V$ = Knoten (vertices), $E$ = Kanten (Edges)\n",
    "\n",
    "* Platzbedarf = $O(|V|^2)$\n",
    "* direkte Zugriff auf Kante $(i,j)$ in konstanter Zeit möglich\n",
    "* Liste der Nachbarn in $O(|V|)$ - bei dünn besetzten Graphen eher schlecht"
   ]
  },
  {
   "cell_type": "markdown",
   "metadata": {},
   "source": [
    "#### Der Algorithmus von Floyd-Warshall\n",
    "\n",
    "Der Algorithmus von Floyd-Warshall löst das **all-pairs-shortest-path**-Problem"
   ]
  },
  {
   "cell_type": "markdown",
   "metadata": {},
   "source": [
    "![a](img/graphen_08.png)\n",
    "\n",
    "Die Matrix $D^k$ enthält die Kosten der kürzesten Wege zwischen zwei Knoten $i$ und $j$, die als Zwischenknoten\n",
    "nur die Knoten $0,1,..., k$ verwenden. Dann lässt sich $d_{i,j}^{k}$ errechnen durch das Minimum von \n",
    " $d_{i,j}^{k-1}$ und  $d_{i,k}^{k-1} +  d_{k,j}^{k-1}$.\n",
    " \n",
    "Um die Kantenfolge zu rekonstruieren, wird gleichzeitig eine Folge von Matrizen $P^k$ aufgebaut, die an Position \n",
    "$p_{i,j}^{k}$ den vorletzten Knoten auf dem kürzesten Weg von i nach j notiert, der nur über die Zwischenknoten \n",
    "$0,1,..., k$ läuft.\n",
    " \n"
   ]
  },
  {
   "cell_type": "markdown",
   "metadata": {},
   "source": [
    "![a](img/graphen_09.png)"
   ]
  },
  {
   "cell_type": "code",
   "execution_count": 3,
   "metadata": {},
   "outputs": [
    {
     "name": "stdout",
     "output_type": "stream",
     "text": [
      "Gegebenen Kostenmatrix:\n",
      "0   8   2   .   \n",
      ".   0   .   4   \n",
      ".   1   0   6   \n",
      ".   2   .   0   \n",
      "\n",
      "Errechnete Distanzmatrix:\n",
      "0   3   2   7   \n",
      ".   0   .   4   \n",
      ".   1   0   5   \n",
      ".   2   .   0   \n",
      "\n",
      "Errechnete Wegematrix:\n",
      "0   2   0   1   \n",
      "1   1   1   1   \n",
      "2   2   2   1   \n",
      "3   3   3   3   \n",
      "\n",
      "Kürzester Weg von a nach b\n",
      "a - c - b\n",
      "Kosten = 3\n"
     ]
    }
   ],
   "source": [
    "def floyd(c):\n",
    "    n = len(c)\n",
    "    d = [[0]*n for j in range(n)]   # Matrix D\n",
    "    p = [[0]*n for j in range(n)]   # Matrix P\n",
    "    for i in range(n):\n",
    "        for j in range(n):\n",
    "            d[i][j] = c[i][j]\n",
    "            p[i][j] = i\n",
    "\n",
    "    for k in range(n):\n",
    "        for i in range(n):\n",
    "            for j in range(n):\n",
    "                tmp = d[i][k] + d[k][j]\n",
    "                if tmp < d[i][j]:\n",
    "                    d[i][j] = tmp\n",
    "                    p[i][j] = p[k][j]\n",
    "    return d, p\n",
    "\n",
    "def getPath(p, i, j):\n",
    "    if i == j: return chr(i+97)\n",
    "    return getPath(p,i,p[i][j]) + ' - ' + chr(j+97)\n",
    "\n",
    "def printMatrix(a):\n",
    "    for i in range(len(a)):\n",
    "        for j in range(len(a)):\n",
    "            if a[i][j] == inf:\n",
    "                print(\"{:4}\".format(\".\"),end='')\n",
    "            else:\n",
    "                print(\"{:<4}\".format(a[i][j]),end='')\n",
    "        print()\n",
    "    print()\n",
    "\n",
    "inf = float('inf')\n",
    "G = [[0,   8,   2, inf],\n",
    "     [inf, 0, inf,   4],\n",
    "     [inf, 1,   0,   6],\n",
    "     [inf, 2, inf,   0]]\n",
    "\n",
    "d, p = floyd(G)\n",
    "\n",
    "print(\"Gegebenen Kostenmatrix:\")\n",
    "printMatrix(G)\n",
    "\n",
    "print(\"Errechnete Distanzmatrix:\")\n",
    "printMatrix(d)\n",
    "\n",
    "print(\"Errechnete Wegematrix:\")\n",
    "printMatrix(p)\n",
    "\n",
    "v, w = 'a','b'        # Start und Zielknoten\n",
    "vi, wi = ord(v)-ord('a'), ord(w)-ord('a')   # Index von Start und Zielknoten\n",
    "print(\"Kürzester Weg von\",v,\"nach\",w)\n",
    "print(getPath(p,vi,wi))\n",
    "print(\"Kosten =\",d[vi][wi])"
   ]
  },
  {
   "cell_type": "markdown",
   "metadata": {},
   "source": [
    "Laufzeit des Floyd-Warshall-Algorithmus: $O(|V|^3)$   "
   ]
  },
  {
   "cell_type": "markdown",
   "metadata": {},
   "source": [
    "#### Implementation eines Graphen durch Adjazenzlisten\n",
    "\n",
    "Jedem Knoten wird eine Liste seiner Nachbarn zugeordnet. Wir werden statt Listen *sets* oder *dictionaries* verwenden.\n",
    "\n",
    "Ein ungewichteter Graph wird durch ein dictionary implementiert, mit den Knoten als key und der Nachbarmenge als value.\n",
    "\n",
    "![a](img/graphen_10.png)"
   ]
  },
  {
   "cell_type": "code",
   "execution_count": 4,
   "metadata": {},
   "outputs": [],
   "source": [
    "G = {'a':set('bc'),\n",
    "     'b':set('d'), \n",
    "     'c':set('bd'),\n",
    "     'd':set('b')}"
   ]
  },
  {
   "cell_type": "code",
   "execution_count": 5,
   "metadata": {},
   "outputs": [
    {
     "data": {
      "text/plain": [
       "True"
      ]
     },
     "execution_count": 5,
     "metadata": {},
     "output_type": "execute_result"
    }
   ],
   "source": [
    "# gibt es Kante von a nach b   \n",
    "'b' in G['a']"
   ]
  },
  {
   "cell_type": "code",
   "execution_count": 6,
   "metadata": {},
   "outputs": [
    {
     "data": {
      "text/plain": [
       "{'b', 'c'}"
      ]
     },
     "execution_count": 6,
     "metadata": {},
     "output_type": "execute_result"
    }
   ],
   "source": [
    "# alle Nachbarn von a: \n",
    "G['a']"
   ]
  },
  {
   "cell_type": "code",
   "execution_count": 7,
   "metadata": {},
   "outputs": [
    {
     "name": "stdout",
     "output_type": "stream",
     "text": [
      "a\n",
      "b\n",
      "c\n",
      "d\n"
     ]
    }
   ],
   "source": [
    "# alle Knoten von G durchlaufen:\n",
    "for v in G:\n",
    "    print(v)"
   ]
  },
  {
   "cell_type": "markdown",
   "metadata": {},
   "source": [
    "Ein gewichteter Graph wird durch ein dictionary implementiert, mit den Knoten als key und einem dictionary, in dem die Kosten zu den Nachbarn verzeichnet sind, als value.\n",
    "\n",
    "![a](img/graphen_11.png)"
   ]
  },
  {
   "cell_type": "code",
   "execution_count": 8,
   "metadata": {},
   "outputs": [],
   "source": [
    "G = {'a': {'b':8, 'c':2},          \n",
    "     'b': {'d':4},               \n",
    "     'c': {'b':1, 'd':6},          \n",
    "     'd': {'b':2}}"
   ]
  },
  {
   "cell_type": "code",
   "execution_count": 9,
   "metadata": {},
   "outputs": [
    {
     "data": {
      "text/plain": [
       "True"
      ]
     },
     "execution_count": 9,
     "metadata": {},
     "output_type": "execute_result"
    }
   ],
   "source": [
    "# gibt es Kante von a nach b  \n",
    "'b' in G['a']  "
   ]
  },
  {
   "cell_type": "code",
   "execution_count": 10,
   "metadata": {},
   "outputs": [
    {
     "data": {
      "text/plain": [
       "8"
      ]
     },
     "execution_count": 10,
     "metadata": {},
     "output_type": "execute_result"
    }
   ],
   "source": [
    "# die Kosten der Kante von a nach b:  \n",
    "G['a']['b']     "
   ]
  },
  {
   "cell_type": "code",
   "execution_count": 11,
   "metadata": {},
   "outputs": [
    {
     "data": {
      "text/plain": [
       "['b', 'c']"
      ]
     },
     "execution_count": 11,
     "metadata": {},
     "output_type": "execute_result"
    }
   ],
   "source": [
    "# alle Nachbarn von a  \n",
    "[v for v in G['a']]"
   ]
  },
  {
   "cell_type": "code",
   "execution_count": 12,
   "metadata": {},
   "outputs": [
    {
     "name": "stdout",
     "output_type": "stream",
     "text": [
      "a\n",
      "b\n",
      "c\n",
      "d\n"
     ]
    }
   ],
   "source": [
    "# alle Knoten von G durchlaufen:   \n",
    "for v in G:   \n",
    "    print(v)"
   ]
  },
  {
   "cell_type": "markdown",
   "metadata": {},
   "source": [
    "#### Analyse Implementation durch Adjazenzmatrix\n",
    "\n",
    "* Platzbedarf = $O(|E|)$\n",
    "* direkte Zugriff auf Kante $(i,j)$ in konstanter Zeit nicht möglich\n",
    "* sinnvoll bei eher dünn besetzten Graphen.\n",
    "* sinnvoll bei Algorithmen, die, gegeben einen Knoten v, dessen Nachbarn verarbeiten müssen."
   ]
  },
  {
   "cell_type": "markdown",
   "metadata": {},
   "source": [
    "### Erreichbarkeit\n",
    "\n",
    "![a](img/graphen_10.png)\n",
    "\n",
    "Gegeben ein Graph G und ein Startknoten s. Welche Knoten sind von s erreichbar?"
   ]
  },
  {
   "cell_type": "code",
   "execution_count": 13,
   "metadata": {},
   "outputs": [],
   "source": [
    "G = {'a':set('bc'),\n",
    "     'b':set('d'), \n",
    "     'c':set('bd'),\n",
    "     'd':set('b')}"
   ]
  },
  {
   "cell_type": "markdown",
   "metadata": {},
   "source": [
    "```\n",
    "Setze alle Knoten auf nicht besucht\n",
    "explore(s)\n",
    "Gib alle Knoten aus, die besucht wurden\n",
    "\n",
    "def explore(v): \n",
    "    merke v als besucht\n",
    "    für alle Nachbarn w von v:\n",
    "        wenn w nicht besucht:\n",
    "            explore(w)\n",
    "```"
   ]
  },
  {
   "cell_type": "code",
   "execution_count": 14,
   "metadata": {},
   "outputs": [
    {
     "name": "stdout",
     "output_type": "stream",
     "text": [
      "b c d\n"
     ]
    }
   ],
   "source": [
    "visited =  {v : False for v in G}       \n",
    "def explore(v):  \n",
    "    visited[v] = True\n",
    "    for w in G[v]:\n",
    "        if not visited[w]:\n",
    "            explore(w) \n",
    "            \n",
    "s = 'c' \n",
    "explore(s)\n",
    "result = [v for v in G if visited[v]]            \n",
    "print(*result)"
   ]
  },
  {
   "cell_type": "markdown",
   "metadata": {},
   "source": [
    "Die Funktion **explore** realisiert eine rekursive Tiefensuche (depth first search, dfs). <br>\n",
    "Laufzeit: Jeder Knoten wird höchstens einmal explored $O(|V|)$, jeder Knoten prüft seine Nachbarn. Die Zahl der Nachbarn liegt in $O(|E|)$, also insgesamt $O(|V|) + O(|E|)$"
   ]
  },
  {
   "cell_type": "markdown",
   "metadata": {},
   "source": [
    "### Zusammenhangskomponenten eines ungerichteten Graphen\n",
    "\n",
    "Die Knoten eines ungerichteten Graphen G können in **Zusammenhangskomponenten** (Connected Components) aufgeteilt werden, so dass v von w genau dann erreichbar ist, wenn beide in derselben Zusammenhangskomponente liegen.\n",
    "\n",
    "![a](img/graphen_12.png)"
   ]
  },
  {
   "cell_type": "code",
   "execution_count": 15,
   "metadata": {},
   "outputs": [
    {
     "name": "stdout",
     "output_type": "stream",
     "text": [
      "1 - a b e f\n",
      "2 - c d\n"
     ]
    }
   ],
   "source": [
    "G = {\n",
    "    'a': set('e'),\n",
    "    'b': set('e'),\n",
    "    'c': set('d'),\n",
    "    'd': set('c'),\n",
    "    'e': set('abf'),\n",
    "    'f': set('e')\n",
    "}\n",
    "\n",
    "def explore(v):\n",
    "    visited[v] = True\n",
    "    ccnum[v] = cc\n",
    "    for w in G[v]:\n",
    "        if not visited[w]:\n",
    "            explore(w)\n",
    "\n",
    "visited = {v : False for v in G}\n",
    "ccnum = {v : 0 for v in G}     # connected component nr von v\n",
    "cc = 1                         # aktuelle connected component nr\n",
    "for v in G:\n",
    "    if not visited[v] :\n",
    "        explore(v)\n",
    "        cc+=1\n",
    "\n",
    "for i in range(1,cc):\n",
    "    result = [v for v in G if visited[v] and ccnum[v] == i]\n",
    "    print(i,'-',*result)"
   ]
  },
  {
   "cell_type": "markdown",
   "metadata": {},
   "source": [
    "### Previsit und postvisit Nummern der Tiefensuche"
   ]
  },
  {
   "cell_type": "markdown",
   "metadata": {},
   "source": [
    "DFS endet damit, dass alle Knoten markiert sind. Das ist\n",
    "als Ergebnis noch nicht sonderlich interessant. Interessant wird \n",
    "DFS daduch, dass man bei der Ausführung noch Daten sammelt, z.B. die **previsit** und **postvisit** Nummern.\n",
    "\n",
    "![a](img/graphen_13.png)\n",
    "\n",
    "Für alle Knoten u und v gilt: die Intervalle [pre(u),post(u)] und [pre(v),post(v)] sind entweder\n",
    "ineinander verschachtelt oder disjunkt."
   ]
  },
  {
   "cell_type": "code",
   "execution_count": 36,
   "metadata": {},
   "outputs": [
    {
     "name": "stdout",
     "output_type": "stream",
     "text": [
      "a   1  8\n",
      "b   2  5\n",
      "c   3  4\n",
      "d   6  7\n",
      "e   9 12\n",
      "f  10 11\n",
      "g  13 18\n",
      "h  14 17\n",
      "i  15 16\n"
     ]
    }
   ],
   "source": [
    "G = {\n",
    "'a': set('bcd'),\n",
    "'b': set('ac'),\n",
    "'c': set('ab'),\n",
    "'d': set('a'),\n",
    "'e': set('f'),\n",
    "'f': set('e'),\n",
    "'g': set('hi'),\n",
    "'h': set('gi'),\n",
    "'i': set('gh'),\n",
    "}\n",
    "\n",
    "\n",
    "def explore(v):\n",
    "    global counter\n",
    "    visited[v] = True\n",
    "    previsit[v] = counter\n",
    "    counter += 1\n",
    "    for w in sorted(G[v]):  #  alphabetische Reihenfolge\n",
    "        if not visited[w]:\n",
    "            explore(w)\n",
    "    postvisit[v] = counter\n",
    "    counter += 1\n",
    "\n",
    "visited = {v : False for v in G}\n",
    "previsit = {v : 0 for v in G}\n",
    "postvisit = {v : 0 for v in G}\n",
    "counter = 1\n",
    "\n",
    "for v in G.keys():\n",
    "    if not visited[v] :\n",
    "        explore(v)\n",
    "\n",
    "for v in sorted(G.keys(),key=lambda v: previsit[v]):\n",
    "    print(\"{:2} {:2} {:2}\".format(v,previsit[v],postvisit[v]))"
   ]
  },
  {
   "cell_type": "markdown",
   "metadata": {},
   "source": [
    "### Topologische Sortierung"
   ]
  },
  {
   "cell_type": "markdown",
   "metadata": {},
   "source": [
    "Wir wollen eine Nummerierung der Knoten finden, die mit den Kantenrichtungen\n",
    "kompatibel ist.\n",
    "\n",
    "![a](img/graphen_14.png)         \n",
    "\n",
    "Es gilt: ein Graph kann genau dann topologisch sortiert werden, wenn er keinen Kreis enthält.\n",
    "Genau die **gerichteten azyklischen Graphen (directed acyclic graph, DAG**) können topologisch sortiert werden. "
   ]
  },
  {
   "cell_type": "markdown",
   "metadata": {},
   "source": [
    "Eine **Quelle (source)** ist ein Knoten mit dem Eingangsgrad 0. Eine **Senke (sink)** ist ein Knoten mit dem Ausgangsgrad 0.\n"
   ]
  },
  {
   "cell_type": "markdown",
   "metadata": {},
   "source": [
    "Idee für die topologische Sortierung (1. Versuch):"
   ]
  },
  {
   "cell_type": "code",
   "execution_count": null,
   "metadata": {},
   "outputs": [],
   "source": [
    "Solange der Graph nicht leer:\n",
    "    Folge einem Pfad bis es nicht mehr weitergeht.\n",
    "    Finde dort eine Senke\n",
    "    Füge die Senke in die Sortierung wie in einen Stapel ein\n",
    "    Entferne die Senke aus dem Graphen."
   ]
  },
  {
   "cell_type": "markdown",
   "metadata": {},
   "source": [
    "Laufzeit:  $O(\\left|V\\right|^2)$    -   nicht gut"
   ]
  },
  {
   "cell_type": "markdown",
   "metadata": {},
   "source": [
    "Verbesserungsmöglichkeit: statt den Pfad immer wieder von vorne zu beginnen, wird nach der\n",
    "Entfernung der Senke der Weg so weit wie nötig zurückgegangen. Das ist Tiefensuche! Die abwärts sortierte Reihe der postvisit-Nummern ergibt eine topologische Sortierung.\n",
    "\n",
    "![a](img/graphen_16.png)"
   ]
  },
  {
   "cell_type": "code",
   "execution_count": 4,
   "metadata": {},
   "outputs": [
    {
     "name": "stdout",
     "output_type": "stream",
     "text": [
      "1 e\n",
      "2 f\n",
      "3 b\n",
      "4 a\n",
      "5 c\n",
      "6 d\n",
      "7 g\n"
     ]
    }
   ],
   "source": [
    "G = {\n",
    "'a': set('c'),\n",
    "'b': set('c'),\n",
    "'c': set('d'),\n",
    "'d': set('g'),\n",
    "'e': set('df'),\n",
    "'f': set('g'),\n",
    "'g': set()\n",
    "}\n",
    "\n",
    "def explore(v):\n",
    "    global counter\n",
    "    visited[v] = True\n",
    "    for w in G[v]:\n",
    "        if not visited[w]:\n",
    "            explore(w)\n",
    "    postvisit[v] = counter\n",
    "    counter += 1\n",
    "    \n",
    "visited = {v : False for v in G}\n",
    "postvisit = {v : 0 for v in G}\n",
    "counter = 1\n",
    "\n",
    "for v in G:\n",
    "    if not visited[v] :\n",
    "        explore(v)\n",
    "\n",
    "topolist = sorted(G.keys(),key=lambda v: postvisit[v],reverse = True)\n",
    "for i in range(len(topolist)):\n",
    "    print(i+1,topolist[i])"
   ]
  },
  {
   "cell_type": "markdown",
   "metadata": {},
   "source": [
    "### Starke Zusammenhangskomponenten\n",
    "\n",
    "In einem **gerichteten** Graphen heißen zwei Knoten u und v **zusammenhängend**, wenn u von v und v von u erreichbar ist.           \n",
    "Ein gerichteter Graph kann partitioniert werden in **starke Zusammenhangskomponenten (strongly connected components, SCC)**, wobei zwei Knoten genau dann zusammenhängen, wenn sie in der selben Komponente sind.\n",
    "\n",
    "![b](img/graphen_17.png)\n",
    "![a](img/graphen_18.png)\n",
    "\n",
    "Der **Metagraph** zeigt, wie die starken Zusammenhangskomponenten untereinander verbunden sind. Der Metagraph ist immer ein DAG.\n",
    "\n",
    "![c](img/graphen_19.png)\n",
    "\n",
    "Wenn v in einer Senke des Metagraphen liegt, dann findet explore(v) die Zusammenhangskomponente."
   ]
  },
  {
   "cell_type": "markdown",
   "metadata": {},
   "source": [
    "Es gilt: Wenn C und C' zwei starke Zusammenhangskomponenten sind und es eine Kante von einem Knoten aus C nach einem Knoten aus C' gibt, dann ist  die größte postvisit-Nummer in C größer als die größte postvisit-Nummer in C'.  \n",
    "\n",
    "Folgerung: der Knoten mit der größten postvisit-Nummer ist in einer SCC-Quelle. Wir suchen aber eine SCC-Senke.    \n",
    "\n",
    "Dazu betrachten wir den reversen Graphen. Den reversen Graphen $G^R$ eines gerichteten Graphen G erhält man, wenn\n",
    "man die Kantenrichtungen umdreht.  \n",
    "\n",
    "$G$ und $G^R$ haben dieselben SCCs.  \n",
    "SCC-Quellen in $G^R$ sind SCC-Senken in $G$.\n"
   ]
  },
  {
   "cell_type": "code",
   "execution_count": null,
   "metadata": {},
   "outputs": [],
   "source": [
    "# Bestimmung der starken Zusammenhangskomponenten in einem gerichteten Graphen G\n",
    " \n",
    "Führe Tiefensuche auf reversen Graphen durch und merke postvisit-Nummern.\n",
    "Für alle Knoten v in G in umgekehrter postvisit-Nummerierung:\n",
    "    Falls v noch nicht besucht:\n",
    "         explore(v) und markiere alle besuchten Knoten als neuen SCC."
   ]
  },
  {
   "cell_type": "markdown",
   "metadata": {},
   "source": [
    "* Bestimmung der postvisit-Nummern des reversen Graphen:\n",
    "\n",
    "![a](img/graphen_20.png)\n",
    "![a](img/graphen_21.png)\n",
    "\n",
    "Umgekehrte Reihenfolge der postvisit-Nummern: f i h g a e b c d"
   ]
  },
  {
   "cell_type": "markdown",
   "metadata": {},
   "source": [
    "* Bestimmung der SCCs mit Tiefensuche in der Reihenfolge  f i h g a e b c d.\n",
    "\n",
    "![a](img/graphen_22.png)\n",
    "![a](img/graphen_23.png)"
   ]
  },
  {
   "cell_type": "code",
   "execution_count": 5,
   "metadata": {},
   "outputs": [
    {
     "name": "stdout",
     "output_type": "stream",
     "text": [
      "1 - f\n",
      "2 - h i\n",
      "3 - g\n",
      "4 - a b c e\n",
      "5 - d\n"
     ]
    }
   ],
   "source": [
    "G = {\n",
    "'a': set('b'),\n",
    "'b': set('ef'),\n",
    "'c': set('b'),\n",
    "'d': set('ag'),\n",
    "'e': set('ach'),\n",
    "'f': set(),\n",
    "'g': set('h'),\n",
    "'h': set('i'),\n",
    "'i': set('fh')\n",
    "}\n",
    "\n",
    "# explore reverse Graph, merke postvisit nr\n",
    "def exploreR(v):\n",
    "    global counter\n",
    "    visited[v] = True\n",
    "    for w in Gr[v]:\n",
    "        if not visited[w]:\n",
    "            exploreR(w)\n",
    "    postvisit[v] = counter\n",
    "    counter+=1\n",
    "\n",
    "# explore Graph, merke connected component number\n",
    "def explore(v):\n",
    "    visited[v] = True\n",
    "    ccnum[v] = cc\n",
    "    for w in G[v]:\n",
    "        if not visited[w]:\n",
    "            explore(w)\n",
    "\n",
    "# Gr ist der reverse Graph von G\n",
    "Gr = {v:set() for v in G}\n",
    "for v in G:\n",
    "    for w in G[v]:\n",
    "        Gr[w].add(v)\n",
    "\n",
    "# dfs durch den reversen Graphen, merke postvisit-nr\n",
    "visited = {v : False for v in Gr}\n",
    "postvisit = {v : 0 for v in Gr}\n",
    "counter = 1\n",
    "for v in Gr:\n",
    "    if not visited[v] :\n",
    "        exploreR(v)\n",
    "\n",
    "# die Knoten in der umgekehrten postvisit-Reihenfolge des reversen Graphen\n",
    "vlist = sorted(Gr,key=lambda v: postvisit[v],reverse=True)\n",
    "\n",
    "# dfs durch den Ausgangsgraphen, in der vlist Reihenfolge, dabei component nr merken\n",
    "visited = {v : False for v in G}\n",
    "ccnum = {v : 0 for v in G}\n",
    "cc = 1\n",
    "for v in vlist:\n",
    "    if not visited[v] :\n",
    "        explore(v)\n",
    "        cc+=1\n",
    "\n",
    "# Ausgabe\n",
    "for i in range(1,cc):\n",
    "    result = [v for v in G if ccnum[v] == i]\n",
    "    print(i,'-',*result)"
   ]
  },
  {
   "cell_type": "markdown",
   "metadata": {},
   "source": [
    "### Kürzeste Wege\n",
    "\n",
    "Die Länge eines Pfades in einem ungewichteten Graphen ist die Anzahl seiner Kanten. Die Entfernung zweier Knoten \n",
    "in einem ungewichteten Graphen ist die Länge des kürzesten Pfades zwischen ihnen.\n",
    "\n",
    "![b](img/graphen_24.png)\n",
    "\n",
    "Die Entfernung zwischen S und H ist 3."
   ]
  },
  {
   "cell_type": "markdown",
   "metadata": {},
   "source": [
    "Die **Breitensuche (breadth first search, bfs)** traversiert den Graphen in Schichten nach der Entfernung zum Ausgangsknoten.\n",
    "Zu jedem Knoten merkt man sich seinen Vorgänger (prev), dadurch entsteht ein **shortest-path Baum**.\n",
    "(Ein Baum ist ein zusammenhängender Graph, der keine Kreise enthält). Daraus lässt sich der kürzeste\n",
    "Weg vom Ausgangsknoten zu jedem anderen Knoten rekonstruieren.\n",
    "\n",
    "![a](img/graphen_25.png)"
   ]
  },
  {
   "cell_type": "code",
   "execution_count": null,
   "metadata": {},
   "outputs": [],
   "source": [
    "# Breitensuche mit Ausgangsknoten s:\n",
    "Für jeden Knoten u in G: \n",
    "    dist(u) = unendlich \n",
    "    prev(u) = None\n",
    "\n",
    "Füge s in eine Schlange Q ein \n",
    "dist(s) = 0\n",
    "\n",
    "Solange Q nicht leer:\n",
    "    hole Knoten u aus der Schlange\n",
    "        für alle Nachbarn v von u:\n",
    "            falls dist(v) unendlich:\n",
    "                Füge v in die Schlange Q ein\n",
    "                dist(v) = dist(u) + 1\n",
    "                prev(v) = u"
   ]
  },
  {
   "cell_type": "code",
   "execution_count": 1,
   "metadata": {},
   "outputs": [
    {
     "name": "stdout",
     "output_type": "stream",
     "text": [
      "Pfad von s nach h : s c b h\n",
      "Länge = 3\n"
     ]
    }
   ],
   "source": [
    "G = {\n",
    "'a': set('sb'),\n",
    "'b': set('acgh'),\n",
    "'c': set('bs'),\n",
    "'d': set('sef'),\n",
    "'e': set('sd'),\n",
    "'f': set('dg'),\n",
    "'g': set('bfh'),\n",
    "'h': set('bg'),\n",
    "'s': set('acde')\n",
    "}\n",
    "\n",
    "def reconstructPath(s,u,prev):\n",
    "    result = []\n",
    "    while u != s:\n",
    "        result.append(u)\n",
    "        u = prev[u]\n",
    "    result.append(s)\n",
    "    result.reverse()\n",
    "    return result\n",
    "\n",
    "inf = float('inf')\n",
    "dist = {v:inf for v in G}\n",
    "prev = {v:None for v in G}\n",
    "\n",
    "s = 's'         # Startknoten\n",
    "dist[s] = 0\n",
    "Q = [s]         # Queue mit pop(0) und append\n",
    "while Q:\n",
    "    u = Q.pop(0)\n",
    "    for v in G[u]:\n",
    "        if dist[v] == inf:\n",
    "            Q.append(v)\n",
    "            dist[v] = dist[u]+1\n",
    "            prev[v] = u\n",
    "ziel = 'h'\n",
    "print('Pfad von',s,'nach',ziel,':',*reconstructPath(s,ziel,prev))\n",
    "print('Länge =',dist[ziel])"
   ]
  },
  {
   "cell_type": "markdown",
   "metadata": {},
   "source": [
    "### Der Algorithmus von Dijkstra\n",
    "\n",
    "Der Algorithmus von Dijkstra findet  in einem gerichteten, mit nichtnegativen Kosten gewichteten\n",
    "Graphen die kürzesten Wege von einem Startknoten zu allen anderen Knoten. Er löst das\n",
    "**single source shortest paths**-Problem.\n",
    "\n",
    "![a](img/graphen_26.png)"
   ]
  },
  {
   "cell_type": "code",
   "execution_count": null,
   "metadata": {},
   "outputs": [],
   "source": [
    "# Algorithmus von Dijkstra\n",
    "Setze dist des Startknotens s vorläufig auf 0,\n",
    "    alle anderen vorläufig auf unendlich. \n",
    "Setze prev aller Knoten auf None\n",
    "Solange es noch vorläufige Knoten gibt\n",
    "    setze dist des billigsten vorläufigen Knoten auf endgültig\n",
    "    Für jeden Nachbarn v von u:   \n",
    "        dist(v) = min(dist(v),dist(u) + Kosten von u nach v)   # Relaxiere Kante (u,v) \n",
    "        prev(v) = letzter Knoten auf dem Weg zu den minimalen Kosten"
   ]
  },
  {
   "cell_type": "code",
   "execution_count": 2,
   "metadata": {},
   "outputs": [
    {
     "name": "stdout",
     "output_type": "stream",
     "text": [
      "Pfad von a nach f : a b c d e f\n",
      "Distanz: 16\n"
     ]
    }
   ],
   "source": [
    "G = {\n",
    "'a': {'b':2, 'c':9},\n",
    "'b': {'c':5, 'd':13},\n",
    "'c': {'d':6, 'e':9},\n",
    "'d': {'e':1, 'f':5},\n",
    "'e': {'f':2},\n",
    "'f': {}\n",
    "}\n",
    "\n",
    "from heapq import heapify, heappop, heappush\n",
    "\n",
    "def reconstructPath(s,u,prev):\n",
    "    temp = []\n",
    "    while u != s:\n",
    "        temp.append(u)\n",
    "        u = prev[u]\n",
    "    temp.append(s)\n",
    "    temp.reverse()\n",
    "    return temp\n",
    "\n",
    "inf = float('inf')\n",
    "dist = {v:inf for v in G}\n",
    "prev = {v:None for v in G}\n",
    "\n",
    "s = 'a'         # startknoten\n",
    "dist[s] = 0\n",
    "visited = set()\n",
    "\n",
    "heap = [(dist[v],v) for v in G]\n",
    "heapify(heap)\n",
    "\n",
    "while heap:\n",
    "    _, u = heappop(heap)\n",
    "    if u in visited: continue\n",
    "    visited.add(u)\n",
    "    for v in G[u]:\n",
    "        if dist[v] > dist[u] + G[u][v]:\n",
    "            dist[v] = dist[u] + G[u][v]\n",
    "            prev[v] = u\n",
    "            heappush(heap,(dist[v],v))\n",
    "ziel = 'f'\n",
    "print('Pfad von',s,'nach',ziel,':',*reconstructPath('a','f',prev))\n",
    "print('Distanz:',dist[ziel])"
   ]
  },
  {
   "cell_type": "markdown",
   "metadata": {},
   "source": [
    "Während des Algorithmus müssen wir uns aus den vorläufig markierten Knoten laufend einen billigsten suchen. \n",
    "Dazu nutzen wir einen Heap. \n",
    "Die Laufzeit hängt ab vom Aufwand der Operationen zur Entnahme der Knoten aus dem Heap.\n",
    "Bei einen Fibonacci-Heap ist dies $O(1)$ und der Aufwand also $O(\\left|V\\right|+\\left|E\\right|)$.\n",
    "Aufwand bei einem Min-Heap: $O((\\left|V\\right|+\\left|E\\right|)\\cdot\\log\\left|V\\right|)$."
   ]
  },
  {
   "cell_type": "markdown",
   "metadata": {},
   "source": [
    "### Der Algorithmus von Bellman-Ford\n",
    "\n",
    "Der Algorithmus von **Bellman-Ford** kann auch mit negativen Kantengewichten umgehen, vorausgesetzt\n",
    "es gibt keine Kreise mit negativem Gewicht.\n",
    "\n"
   ]
  },
  {
   "cell_type": "code",
   "execution_count": null,
   "metadata": {},
   "outputs": [],
   "source": [
    "# Algorithmus von Bellman-Ford\n",
    "Setze dist des Startknotens auf 0,\n",
    "    alle anderen auf unendlich. \n",
    "Setze prev aller Knoten auf None\n",
    "Solange sich was ändert:      # höchstens |V| - 1 mal\n",
    "    Fur alle Kanten (u,v):\n",
    "        Relaxiere(u,v)        # d.h. ggf. Kosten von v via u-v verbessern"
   ]
  },
  {
   "cell_type": "markdown",
   "metadata": {},
   "source": [
    "Laufzeit: $O(\\left|V\\right|\\cdot\\left|E\\right|)$.\n",
    "\n",
    "![a](img/graphen_27.png)\n",
    "\n"
   ]
  },
  {
   "cell_type": "code",
   "execution_count": null,
   "metadata": {},
   "outputs": [],
   "source": [
    "# Durchgänge bis sich nichts mehr ändert\n",
    "0 :  a:0 b:inf c:inf d:inf e:inf\n",
    "1 :  a:0 b:6 c:4 d:2 e:7\n",
    "2 :  a:0 b:2 c:4 d:2 e:7\n",
    "3 :  a:0 b:2 c:4 d:-2 e:7\n",
    "4 :  a:0 b:2 c:4 d:-2 e:7"
   ]
  },
  {
   "cell_type": "code",
   "execution_count": 6,
   "metadata": {},
   "outputs": [
    {
     "name": "stdout",
     "output_type": "stream",
     "text": [
      "Pfad von a nach b : a e c b\n",
      "Distanz: 2\n"
     ]
    }
   ],
   "source": [
    "G = {\n",
    "'a': {'b':6,'e':7},\n",
    "'b': {'d':-4,'e':8,'c':5},\n",
    "'c': {'b':-2},\n",
    "'d': {'c':7},\n",
    "'e': {'c':-3,'d':9}\n",
    "}\n",
    "\n",
    "def reconstructPath(s,u,prev):\n",
    "    temp = []\n",
    "    while u != s:\n",
    "        temp.append(u)\n",
    "        u = prev[u]\n",
    "    temp.append(s)\n",
    "    temp.reverse()\n",
    "    return temp\n",
    "\n",
    "inf = float('inf')\n",
    "dist = {v:inf for v in G}\n",
    "prev = {v:None for v in G}\n",
    "\n",
    "start, ziel = 'a' , 'b'\n",
    "dist[start] = 0\n",
    "\n",
    "changed = True\n",
    "while changed:\n",
    "    changed = False\n",
    "    for u in G:\n",
    "        for v in G[u]:\n",
    "            if dist[v] > dist[u] + G[u][v]:\n",
    "                dist[v] = dist[u] + G[u][v]\n",
    "                prev[v] = u\n",
    "                changed = True\n",
    "\n",
    "print('Pfad von',start,'nach',ziel,':',*reconstructPath(start,ziel,prev))\n",
    "print('Distanz:',dist[ziel])"
   ]
  },
  {
   "cell_type": "markdown",
   "metadata": {},
   "source": [
    "### Minimale Spannbäume"
   ]
  },
  {
   "cell_type": "markdown",
   "metadata": {},
   "source": [
    "* Ein Teilgraph H eines ungerichteten Graphen G heisst **Spannbaum** von G, wenn H ein Baum auf den Knoten von\n",
    "G ist. \n",
    "\n",
    "2. Ein Spannbaum S eines gewichteten, ungerichteten Graphen heisst **minimaler Spannbaum, (minimal spanning tree, MST)**, wenn S minimales Gewicht unter allen Spannbäumen von G besitzt.\n",
    "\n"
   ]
  },
  {
   "cell_type": "markdown",
   "metadata": {},
   "source": [
    "#### Beispiele:\n",
    "Man möchte Computer kostengünstig vernetzen.\n",
    "\n",
    "![b](img/graphen_28.png)\n",
    "![b](img/graphen_29.png)\n",
    "\n",
    "Man möchte Orte mit möglichst kurzen Straßen verbinden.\n",
    "\n",
    "![a](img/graphen_30.png) &nbsp;&nbsp;&nbsp;&nbsp;&nbsp;&nbsp;&nbsp;&nbsp;&nbsp;    ![a](img/graphen_31.png)\n",
    "\n",
    " "
   ]
  },
  {
   "cell_type": "markdown",
   "metadata": {},
   "source": [
    "#### Eigenschaften von Bäumen\n",
    "\n",
    "* Ein Baum ist ein zusammenhängender, ungerichteter Graph, der keine Kreise enhält.\n",
    "* Ein Baum mit $n$ Knoten hat $n-1$ Kanten.\n",
    "* Jeder zusammenhängende, ungerichtete Graph mit $\\left|V\\right| = \\left|E\\right| - 1$ ist ein Baum.\n",
    "* Ein ungerichteter Graph ist genau dann ein Baum, wenn es zwischen je zwei Knoten einen eindeutigen Pfad gibt."
   ]
  },
  {
   "cell_type": "markdown",
   "metadata": {},
   "source": [
    "### Der Algorithmus von Kruskal\n",
    "\n",
    "Füge immer wieder die leichteste Kante hinzu, vorausgesetzt es entsteht kein Kreis.\n",
    "\n",
    "![b](img/graphen_32.png)\n",
    "![b](img/graphen_33.png)\n",
    "\n",
    "a-d (5), c-e (5), d-f (6), a-b (7), b-e (7), e-g (9), Gesamtkosten:  39"
   ]
  },
  {
   "cell_type": "markdown",
   "metadata": {},
   "source": [
    "Um zu verhindern, dass ein Kreis entsteht, wird jedem Knoten ein Repräsentant ('Chef') zugeordnet.\n",
    "Eine Kante wird nur in den MST aufgenommen, wenn die beteilgten Knoten nicht denselben Chef haben."
   ]
  },
  {
   "cell_type": "code",
   "execution_count": null,
   "metadata": {},
   "outputs": [],
   "source": [
    "a-d: 5   Chef von a wird d\n",
    "c-e: 5   Chef von c wird e\n",
    "d-f: 6   Chef von d wird f\n",
    "a-b: 7   Chef von f wird b\n",
    "b-e: 7   Chef von b wird e\n",
    "e-g: 9   Chef von e wird g"
   ]
  },
  {
   "cell_type": "markdown",
   "metadata": {},
   "source": [
    "![a](img/graphen_34.png)\n",
    "\n",
    "Um lange Pfade im Chefbaum zu verhindern, wird der Algorithmus mit **union by rank** und **path compression** optimiert.\n",
    "\n",
    "Wird der Chef von a gesucht, dann werden alle Zwischenknoten auf dem Weg zum Chef direkt mit\n",
    "diesem verbunden. Jeder Knoten erhält einen Rang. Bei der Neuzuweisung eines\n",
    "Chefs wird der Knoten mit dem höheren Rang Chef. Bei Gleichheit wird einer gewählt, dessen Rang\n",
    "dann erhöht wird."
   ]
  },
  {
   "cell_type": "code",
   "execution_count": null,
   "metadata": {},
   "outputs": [],
   "source": [
    "a-d: 5   Rang a gleich Rang d : Chef von a wird d\n",
    "Rang von d wird 1\n",
    "c-e: 5   Rang c gleich Rang e : Chef von c wird e\n",
    "Rang von e wird 1\n",
    "d-f: 6   Rang d größer Rang f : Chef von f wird d\n",
    "a-b: 7   Rang d größer Rang b : Chef von b wird d\n",
    "b-e: 7   Rang d gleich Rang e : Chef von d wird e\n",
    "Rang von e wird 2\n",
    "Kompression: Chef von b wird e\n",
    "Kompression: Chef von f wird e\n",
    "e-g: 9   Rang e größer Rang g : Chef von g wird e"
   ]
  },
  {
   "cell_type": "markdown",
   "metadata": {},
   "source": [
    "![b](img/graphen_35.png)"
   ]
  },
  {
   "cell_type": "code",
   "execution_count": 8,
   "metadata": {},
   "outputs": [
    {
     "name": "stdout",
     "output_type": "stream",
     "text": [
      "[('a', 'd'), ('c', 'e'), ('d', 'f'), ('a', 'b'), ('b', 'e'), ('e', 'g')]\n",
      "Gesamtkosten:  39\n"
     ]
    }
   ],
   "source": [
    "G = {\n",
    "  'a': {'b':7, 'd':5},\n",
    "  'b': {'a':7, 'd':9, 'e':7, 'c':8},\n",
    "  'c': {'b':8, 'e':5},\n",
    "  'd': {'a':5, 'b':9, 'e':15, 'f':6},\n",
    "  'e': {'b':7, 'c':5, 'd':15, 'f':8, 'g':9},\n",
    "  'f': {'d':6, 'e':8, 'g':11},\n",
    "  'g': {'e':9, 'f':11}\n",
    "}\n",
    "\n",
    "def find(u):\n",
    "    if chef[u] != chef[chef[u]]:\n",
    "        chef[u] = find(chef[u])        # Path compression\n",
    "    return chef[u]\n",
    "\n",
    "def union(u, v):                       # union by rank\n",
    "    u, v = find(u), find(v)\n",
    "    if rank[u] > rank[v]:\n",
    "        chef[v] = u\n",
    "    else:\n",
    "        chef[u] = v\n",
    "    if rank[u] == rank[v]:\n",
    "        rank[v]+=1\n",
    "\n",
    "summe = 0\n",
    "gesehen = set()\n",
    "\n",
    "E = [(G[u][v],u,v) for u in G for v in G[u]]  # Kantenliste mit Kosten\n",
    "\n",
    "mst = []                             # leerer Anfangsbaum\n",
    "chef = {u:u for u in G}              # zunächst ist jeder eigener chef\n",
    "rank = {u:0 for u in G}              # und hat Rang 0\n",
    "for _, u, v in sorted(E):\n",
    "    if find(u) != find(v):           # wenn chefs verschieden, wird die\n",
    "        mst.append((u, v))           # Kante in den mst aufgenommen\n",
    "        summe += G[u][v]\n",
    "        union(u, v)\n",
    "\n",
    "print(mst)\n",
    "print('Gesamtkosten: ', summe)"
   ]
  },
  {
   "cell_type": "markdown",
   "metadata": {},
   "source": [
    "### Der Algorithmus von Jarnik-Prim\n",
    "\n",
    "Gehe von einem Knoten aus und füge immer wieder einen neuen Knoten entlang der leichtesten Kante hinzu."
   ]
  },
  {
   "cell_type": "code",
   "execution_count": 1,
   "metadata": {},
   "outputs": [
    {
     "name": "stdout",
     "output_type": "stream",
     "text": [
      "{'a': None, 'd': 'a', 'f': 'd', 'b': 'a', 'e': 'b', 'c': 'e', 'g': 'e'}\n",
      "Gesamtkosten:  39\n"
     ]
    }
   ],
   "source": [
    "from heapq import heappop, heappush\n",
    "\n",
    "G = {\n",
    "  'a': {'b':7, 'd':5},\n",
    "  'b': {'a':7, 'd':9, 'e':7, 'c':8},\n",
    "  'c': {'b':8, 'e':5},\n",
    "  'd': {'a':5, 'b':9, 'e':15, 'f':6},\n",
    "  'e': {'b':7, 'c':5, 'd':15, 'f':8, 'g':9},\n",
    "  'f': {'d':6, 'e':8, 'g':11},\n",
    "  'g': {'e':9, 'f':11}\n",
    "}\n",
    "\n",
    "start = 'a'                              # Startknoten\n",
    "mst = {}                                 # leere Teillösung\n",
    "heap = [(0, None, start)]                # Heap mit Kanten und Kosten\n",
    "summe = 0\n",
    "while heap:\n",
    "    cost, prev, u = heappop(heap)\n",
    "    if u in mst: continue            # Zielknoten schon im Baum?\n",
    "    mst[u] = prev                    # Kante von u nach prev kommt in mst\n",
    "    summe += cost\n",
    "    for v, cost in G[u].items():\n",
    "        heappush(heap, (cost, u, v))\n",
    "\n",
    "print(mst)\n",
    "print('Gesamtkosten: ', summe)"
   ]
  },
  {
   "cell_type": "code",
   "execution_count": null,
   "metadata": {},
   "outputs": [],
   "source": []
  }
 ],
 "metadata": {
  "kernelspec": {
   "display_name": "Python 3",
   "language": "python",
   "name": "python3"
  },
  "language_info": {
   "codemirror_mode": {
    "name": "ipython",
    "version": 3
   },
   "file_extension": ".py",
   "mimetype": "text/x-python",
   "name": "python",
   "nbconvert_exporter": "python",
   "pygments_lexer": "ipython3",
   "version": "3.6.5"
  }
 },
 "nbformat": 4,
 "nbformat_minor": 2
}
