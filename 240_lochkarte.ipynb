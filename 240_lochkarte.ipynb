{
 "cells": [
  {
   "cell_type": "markdown",
   "metadata": {},
   "source": [
    "## Die Lochkarte"
   ]
  },
  {
   "cell_type": "markdown",
   "metadata": {},
   "source": [
    "Bei einer Lochkarte werden Zeichen durch Lochpositionen codiert. In einer häufig benutzen Variante \n",
    "können in 80 Spalten und in 12 Zeilen Löcher gestanzt werden. Jede Spalte codiert ein Zeichen.\n",
    "\n",
    "Die obersten drei Zeilen sind die Zonenzeilen, die restlichen sind die Ziffernzeilen 1-9.\n",
    "\n",
    "<img src='./img/lochkarte.png' width = 801>\n",
    "\n",
    " \n"
   ]
  },
  {
   "cell_type": "markdown",
   "metadata": {},
   "source": [
    "* keine Lochung: Leerzeichen\n",
    "* Lochung nur in Zeile 0-9: Ziffer 0-9\n",
    "* Lochung in 1.Zonenzeile + Zeile 1-9: Buchstaben A-I\n",
    "* Lochung in 2.Zonenzeile + Zeile 1-9: Buchstaben J-R\n",
    "* Lochung in 3.Zonenzeile + Zeile 1-9: /, Buchstaben S-Z\n",
    "* die Sonderzeichen unterscheiden sich in verschiedenen Versionen"
   ]
  },
  {
   "cell_type": "markdown",
   "metadata": {},
   "source": [
    "Hier kann man eigene Lochkarte erzeugen: \n",
    "__[Virtual Key Punch](https://www.masswerk.at/keypunch/)__  oder \n",
    " __[Card Punch Emulator](http://www.kloth.net/services/cardpunch.php)__\n",
    " \n",
    "Diese Lochkarte wurde mit Virtual Key Punch erzeugt. Was ist codiert?\n",
    "<img src='./img/lochkarte2.png' width = 801>"
   ]
  },
  {
   "cell_type": "markdown",
   "metadata": {},
   "source": [
    "In Sindelfingen erinnert eine Riesenlochkarte neben dem alten Backsteinhaus (Piano Hölzle) in der Bahnhofstraße an die Lochkartendruckerei der Firma IBM, die bis 1974 in dem Gebäude war.\n",
    "\n",
    "<img src='./img/lochkarte3.jpg' width = 801>\n",
    "\n",
    "\n",
    "\n",
    "<p>&nbsp;&nbsp;&nbsp;&nbsp;&nbsp;&nbsp;&nbsp;&nbsp;&nbsp;&nbsp;&nbsp;&nbsp;&nbsp;&nbsp;&nbsp;\n",
    "    &nbsp;&nbsp;&nbsp;&nbsp;&nbsp;&nbsp;&nbsp;&nbsp;&nbsp;&nbsp;&nbsp;&nbsp;&nbsp;&nbsp;&nbsp;\n",
    "    <img src='./img/lochkarte4.jpg' width = 501 ></p>"
   ]
  }
 ],
 "metadata": {
  "kernelspec": {
   "display_name": "Python 3",
   "language": "python",
   "name": "python3"
  },
  "language_info": {
   "codemirror_mode": {
    "name": "ipython",
    "version": 3
   },
   "file_extension": ".py",
   "mimetype": "text/x-python",
   "name": "python",
   "nbconvert_exporter": "python",
   "pygments_lexer": "ipython3",
   "version": "3.6.5"
  }
 },
 "nbformat": 4,
 "nbformat_minor": 2
}
