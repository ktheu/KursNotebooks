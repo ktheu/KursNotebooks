{
 "cells": [
  {
   "cell_type": "markdown",
   "metadata": {},
   "source": [
    "### Die Mandelbrotmenge"
   ]
  },
  {
   "cell_type": "markdown",
   "metadata": {},
   "source": [
    "Eine komplexe Zahl stellen wir uns vor als Punkt in der Ebene. Statt der Koordinaten $(a|b)$ schreiben wir $a + bi$.\n",
    "Die Zahl $a$ nennen wir den Realteil, $b$ den Imaginärteil der komplexen Zahl.\n",
    "\n",
    "<img src=\"./img/mandel1.png\" width=\"500\">\n",
    "\n",
    "Der Betrag einer komplexen Zahl ist ihr Abstand zum Nullpunkt.\n",
    "\n",
    "<img src=\"./img/mandel1a.png\" width=\"500\">"
   ]
  },
  {
   "cell_type": "code",
   "execution_count": 9,
   "metadata": {},
   "outputs": [
    {
     "data": {
      "text/plain": [
       "3.605551275463989"
      ]
     },
     "execution_count": 9,
     "metadata": {},
     "output_type": "execute_result"
    }
   ],
   "source": [
    "# In Python wird der Imaginärteil durch ein nachgestelltes j gekennzeichnet\n",
    "z = 3 + 2j\n",
    "abs(z)"
   ]
  },
  {
   "cell_type": "markdown",
   "metadata": {},
   "source": [
    "Zwei komplexe Zahlen werden addiert, indem die Realteile und die Imaginärteile addiert werden. Dies entspricht der\n",
    "normalen Vektoraddition.\n",
    "\n",
    "<img src=\"./img/mandel2.png\" width=\"501\">"
   ]
  },
  {
   "cell_type": "code",
   "execution_count": 10,
   "metadata": {},
   "outputs": [
    {
     "data": {
      "text/plain": [
       "(1+3j)"
      ]
     },
     "execution_count": 10,
     "metadata": {},
     "output_type": "execute_result"
    }
   ],
   "source": [
    "z1 = 3 + 2j\n",
    "z2 = -2 + 1j\n",
    "z1 + z2"
   ]
  },
  {
   "cell_type": "markdown",
   "metadata": {},
   "source": [
    "Zwei komplexe Zahlen werden multipliziert, indem die Beträge multipliziert und die Winkel addiert werden. Inbesondere gilt dann: $i^2 = -1$\n",
    "\n",
    "<img src=\"./img/mandel3.png\" width=\"651\">"
   ]
  },
  {
   "cell_type": "code",
   "execution_count": 6,
   "metadata": {},
   "outputs": [
    {
     "data": {
      "text/plain": [
       "(-1+0j)"
      ]
     },
     "execution_count": 6,
     "metadata": {},
     "output_type": "execute_result"
    }
   ],
   "source": [
    "1j ** 2"
   ]
  },
  {
   "cell_type": "code",
   "execution_count": 11,
   "metadata": {},
   "outputs": [
    {
     "data": {
      "text/plain": [
       "(-8-1j)"
      ]
     },
     "execution_count": 11,
     "metadata": {},
     "output_type": "execute_result"
    }
   ],
   "source": [
    "z1 = 3 + 2j\n",
    "z2 = -2 + 1j\n",
    "z1*z2"
   ]
  },
  {
   "cell_type": "markdown",
   "metadata": {},
   "source": [
    "Für das Quadrat einer komplexen Zahl gilt:\n",
    "$(a + bi)^2 = a^2-b^2 + 2abi$"
   ]
  },
  {
   "cell_type": "markdown",
   "metadata": {},
   "source": [
    "#### Übung:\n",
    "\n",
    "$z_1 = 3 - i, z_2 = 3 + 2i$. Berechne\n",
    "\n",
    "- $z_1 + z_2$\n",
    "- $z_1 * z_2$\n",
    "- $z_1^2 + z_2$\n",
    " "
   ]
  },
  {
   "cell_type": "code",
   "execution_count": 13,
   "metadata": {},
   "outputs": [
    {
     "data": {
      "text/plain": [
       "((5+1j), (8+1j), (6-2j))"
      ]
     },
     "execution_count": 13,
     "metadata": {},
     "output_type": "execute_result"
    }
   ],
   "source": [
    "z1 = 2 -1j\n",
    "z2 = 3 + 2j\n",
    "z1+z2, z1*z2, z1**2+z2"
   ]
  },
  {
   "cell_type": "markdown",
   "metadata": {},
   "source": [
    "Für jede komplexe Zahl c definieren wir rekursiv eine Folge von Zahlen:\n",
    "\n",
    "$$z_n =\\begin{cases}\n",
    " 0   & n = 0 \\\\ \n",
    " z_{n-1}^2 + c & n > 0 \n",
    "\\end{cases} $$\n",
    "\n",
    "Dies führt zur Folge\n",
    "$$0, c , c^2 + c, (c^2 + c)^2 + c, ...$$\n",
    "\n",
    "Wenn ein Mitglied der Folge betragsmäßig größer als 2 wird, führt dies dazu, dass die Beträge der Folgenglieder schließlich gegen unendlich gehen. Eine Zahl c gehört zur Mandelbrotmenge, wenn ihre Folge beschränkt bleibt. \n",
    "\n",
    "Die Punkte in der Ebene, die zu komplexen Zahlen der Mandelbrotmenge gehören, färben wir schwarz, die anderen weiß.\n"
   ]
  },
  {
   "cell_type": "markdown",
   "metadata": {},
   "source": [
    "#### Iterative Formulierung \n",
    "\n",
    "Für jede Zahl c definieren wir eine Funktion $f_c(z) = z^2 + c$ und betrachten \n",
    "was passiert, wenn man die 0 in diese Funktion einsetzt und dann das Resultat wieder in die Funktion einsetzt, dann das Resultat wieder in die Funktion einsetzt usw.\n",
    "(\"the behavior of 0 under iteration\"). \n",
    "\n",
    "Dies führt zur Folge $$0, c , c^2 + c, (c^2 + c)^2 + c, ...$$\n",
    "\n",
    "(Anfangswert 0 entsteht durch 0-mal einsetzen der 0 in die Funktion)"
   ]
  },
  {
   "cell_type": "markdown",
   "metadata": {},
   "source": [
    "#### Übung\n",
    "\n",
    "a) Notiere für die Zahlen c die zugeordnete Funktion $f_c$. \n",
    "\n",
    "b) Berechne die ersten 4 Zahlen der zugeordneten Folge.\n",
    "\n",
    "c) Welche Farbe erhält der Punkt als Resultat der Berechnung in b) ?\n",
    "\n",
    "\n",
    "- $c = 0$\n",
    "- $c = 1$\n",
    "- $c = -1$\n",
    "- $c = 1 + i$"
   ]
  },
  {
   "cell_type": "code",
   "execution_count": 41,
   "metadata": {},
   "outputs": [
    {
     "data": {
      "text/plain": [
       "(0, 26, 0, (1-97j))"
      ]
     },
     "execution_count": 41,
     "metadata": {},
     "output_type": "execute_result"
    }
   ],
   "source": [
    "def mandel(c,n):\n",
    "    if n == 0: return 0\n",
    "    return mandel(c,n-1)**2 + c\n",
    "\n",
    "c1 = 0\n",
    "c2 = 1\n",
    "c3 = -1\n",
    "c4 = 1 + 1j\n",
    "mandel(c1,4), mandel(c2,4), mandel(c3,4), mandel(c4,4)"
   ]
  },
  {
   "cell_type": "markdown",
   "metadata": {},
   "source": [
    "#### Beispiele\n",
    "\n",
    "Für manche c wächst die Folge ins Unendliche, für andere c bleibt die Folge beschränkt. "
   ]
  },
  {
   "cell_type": "code",
   "execution_count": 42,
   "metadata": {},
   "outputs": [
    {
     "name": "stdout",
     "output_type": "stream",
     "text": [
      "0\n",
      "0.25\n",
      "0.3125\n",
      "0.34765625\n",
      "0.3708648681640625\n",
      "0.38754075043834746\n",
      "0.4001878332503175\n",
      "0.4101503018815839\n",
      "0.4182232701335544\n",
      "0.42491070368120404\n"
     ]
    }
   ],
   "source": [
    "c = 0.25\n",
    "#c = 0.26\n",
    "\n",
    "for n in range(10):    # probiere auch 30\n",
    "    print(mandel(c,n))"
   ]
  },
  {
   "cell_type": "markdown",
   "metadata": {},
   "source": [
    "Um zur Mandelbrotmenge zu gehören, müssen die Punkte der zugehörigen Folge innerhalb des Kreises mit Radius 2 liegen."
   ]
  },
  {
   "cell_type": "code",
   "execution_count": 4,
   "metadata": {},
   "outputs": [
    {
     "name": "stdout",
     "output_type": "stream",
     "text": [
      "(-1.2587000000000002+0.5616j)\n",
      "(1.0389311300000004-0.3737718400000001j)\n"
     ]
    }
   ],
   "source": [
    "c = -0.23 + 1.04j\n",
    "print(mandel(c,1))\n",
    "print(mandel(c,2))\n"
   ]
  },
  {
   "cell_type": "markdown",
   "metadata": {},
   "source": [
    "<img src=\"./mandel3.png\" width=\"400\"/> \n",
    "rot = $c$, grün = $c^2$, blau = $c + c^2$"
   ]
  },
  {
   "cell_type": "markdown",
   "metadata": {},
   "source": [
    "<img src=\"./mandel2.png\" width=\"400\"/> \n",
    "grün = $(c + c^2)^2$, rechtes blau = $(c + c^2)^2 + c$ "
   ]
  },
  {
   "cell_type": "markdown",
   "metadata": {},
   "source": [
    "__[Visualisierung Mandel-Iteration](http://www.stefanbion.de/fraktal-generator/mandeliteration.htm)__"
   ]
  },
  {
   "cell_type": "code",
   "execution_count": 43,
   "metadata": {},
   "outputs": [
    {
     "data": {
      "text/html": [
       "<iframe src=\"./mandel_01.html\" width=\"870\" height=\"450\" ></iframe>"
      ],
      "text/plain": [
       "<IPython.core.display.HTML object>"
      ]
     },
     "metadata": {},
     "output_type": "display_data"
    }
   ],
   "source": [
    "%%html\n",
    "<iframe src=\"./mandel_01.html\" width=\"870\" height=\"450\" ></iframe>"
   ]
  },
  {
   "cell_type": "markdown",
   "metadata": {},
   "source": [
    "Wir färben die nicht-schwarzen Punkte mit Farben ein, abhängig davon, bei welcher Iteration der Punkt als nicht zur Mandelbrotmenge\n",
    "gehörig entdeckt wurde.\n",
    "\n",
    "Beispiel: \n",
    "Hat man 5 Farben zur Verfügung und ist der Betrag des Folgenwerts nach der 9-ten Iteration erstmals größer als 2, dann wird der zur Folge gehörende Punkt mit der Farbe Nummer  9 % 5 = 4 gefärbt."
   ]
  },
  {
   "cell_type": "code",
   "execution_count": 2,
   "metadata": {},
   "outputs": [
    {
     "data": {
      "text/html": [
       "<iframe src=\"./mandel_02.html\" width=\"870\" height=\"450\" ></iframe>"
      ],
      "text/plain": [
       "<IPython.core.display.HTML object>"
      ]
     },
     "metadata": {},
     "output_type": "display_data"
    }
   ],
   "source": [
    "%%html\n",
    "<iframe src=\"./mandel_02.html\" width=\"870\" height=\"450\" ></iframe>"
   ]
  },
  {
   "cell_type": "markdown",
   "metadata": {},
   "source": [
    "Im Beispiel steht eine Leinwand von 860 x 430 Pixel zur Verfügung. Das Pixel in der linken oberen Ecke hat die Koordinaten (0,0),  das Pixel in der rechten unteren Ecke hat die Koordinaten (859,429).\n",
    "\n",
    "Jedem Pixel wird eine komplexe Zahl zugeordnet. Dazu wird die komplexe Zahl festgelegt, die der linken oberen Ecke entspricht und die (horizontale) Breite des Ausschnitts der komplexen Ebene, die betrachtet werden soll.\n",
    "\n",
    "Im Beispiel entspicht dem Pixel in der linken oberen Ecke die Zahl $-2.5 + i$, die Breite ist $4$. Dem Pixel in der unteren rechten Ecke entspricht also die Zahl $1.5 - i$\n",
    "\n",
    "#### Übung:\n",
    "\n",
    "1. Welche komplexe Zahl muss untersucht werden, um im obigen Beispiel die Färbung des Pixels mit der Koordinate (50,100) zu bestimmen?\n",
    "\n",
    "2. Eine Leinwand hat das Format 800 x 800 Pixel. Der linken oberen Ecke ist die Zahl $-1.79 + 0.0275i$ zugeordnet. Die horizontale Breite des zu betrachtenden Ausschnitts der komplexen Ebene beträgt 0.055. Welche komplexe Zahl muss untersucht werden, um die Färbung des Pixels an der Stelle (200,300) zu bestimmen?"
   ]
  },
  {
   "cell_type": "code",
   "execution_count": 35,
   "metadata": {},
   "outputs": [
    {
     "data": {
      "text/plain": [
       "(-2.2674418604651163+1.4651162790697674j)"
      ]
     },
     "execution_count": 35,
     "metadata": {},
     "output_type": "execute_result"
    }
   ],
   "source": [
    "# 1\n",
    "step = 4 / 860\n",
    "diff_x = 50 * step\n",
    "diff_y = 100 * step\n",
    "a = -2.5 + diff_x\n",
    "b = 1 + diff_y\n",
    "a + b*1j\n"
   ]
  },
  {
   "cell_type": "code",
   "execution_count": 36,
   "metadata": {},
   "outputs": [
    {
     "data": {
      "text/plain": [
       "(-1.77625+0.048125j)"
      ]
     },
     "execution_count": 36,
     "metadata": {},
     "output_type": "execute_result"
    }
   ],
   "source": [
    "# 2\n",
    "step = 0.055 / 800\n",
    "diff_x = 200 * step\n",
    "diff_y = 300 * step\n",
    "a = -1.79 + diff_x\n",
    "b = 0.0275 + diff_y\n",
    "a + b*1j"
   ]
  },
  {
   "cell_type": "markdown",
   "metadata": {},
   "source": [
    "<hr/>\n",
    "\n",
    "__[Mandelbrot-Generator](http://www.stefanbion.de/fraktal-generator/mandelbrot.htm)__\n",
    "\n",
    "<hr/>\n",
    "\n",
    "__[Numberphile: The Mandelbrot-Set](https://www.youtube.com/watch?v=NGMRB4O922I&list=PLt5AfwLFPxWJ8GCgpFo5_OSyfl7j0nOiu&index=1)__\n",
    "\n",
    "__[Numberphile: The Mandelbrot-Set and Pi](https://www.youtube.com/watch?v=NGMRB4O922I&list=PLt5AfwLFPxWJ8GCgpFo5_OSyfl7j0nOiu&index=1)__\n",
    "\n",
    "__[Numberphile: The Mandelbrot-Set and the Fibonacci-Numbers](https://www.youtube.com/watch?v=4LQvjSf6SSw&index=6&list=PLt5AfwLFPxWJ8GCgpFo5_OSyfl7j0nOiu&t=0s)__\n",
    "\n",
    "__[Numberphile: The Filled Julia-Set](https://www.youtube.com/watch?v=oCkQ7WK7vuY&list=PLt5AfwLFPxWJ8GCgpFo5_OSyfl7j0nOiu&index=4)__\n",
    "\n",
    "\n",
    "<hr/>\n",
    "\n",
    "__[Mandelbrot zoom](https://www.youtube.com/watch?v=yVBrgxzS7JE)__\n",
    "\n",
    "__[Mandelbox trip](https://www.youtube.com/watch?v=bO9ugnn8DbE)__\n",
    "\n",
    "<hr/>\n",
    "\n",
    "__[Xaos - Download](http://www.informatik42.de/KursV2/Mandel/Xaos/XaoS.zip)__ fast interactive fractal zoomer\n"
   ]
  },
  {
   "cell_type": "code",
   "execution_count": null,
   "metadata": {},
   "outputs": [],
   "source": []
  }
 ],
 "metadata": {
  "kernelspec": {
   "display_name": "Python 3",
   "language": "python",
   "name": "python3"
  },
  "language_info": {
   "codemirror_mode": {
    "name": "ipython",
    "version": 3
   },
   "file_extension": ".py",
   "mimetype": "text/x-python",
   "name": "python",
   "nbconvert_exporter": "python",
   "pygments_lexer": "ipython3",
   "version": "3.6.5"
  }
 },
 "nbformat": 4,
 "nbformat_minor": 2
}
