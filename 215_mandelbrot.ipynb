{
 "cells": [
  {
   "cell_type": "markdown",
   "metadata": {},
   "source": [
    "### Die Mandelbrotmenge"
   ]
  },
  {
   "cell_type": "markdown",
   "metadata": {},
   "source": [
    "Eine komplexe Zahl stellen wir uns vor als Punkt in der Ebene. Statt der Koordinaten $(a|b)$ schreiben wir $a + bi$.\n",
    "Die Zahl $a$ nennen wir den Realteil, $b$ den Imaginärteil der komplexen Zahl.\n",
    "\n",
    "<img src=\"./img/mandel1.png\" width=\"500\">\n",
    "\n",
    "Der Betrag einer komplexen Zahl ist ihr Abstand zum Nullpunkt.\n",
    "\n",
    "<img src=\"./img/mandel1a.png\" width=\"500\">"
   ]
  },
  {
   "cell_type": "code",
   "execution_count": null,
   "metadata": {},
   "outputs": [],
   "source": [
    "# In Python wird der Imaginärteil durch ein nachgestelltes j gekennzeichnet\n",
    "z = 3 + 2j\n",
    "abs(z)"
   ]
  },
  {
   "cell_type": "markdown",
   "metadata": {},
   "source": [
    "Zwei komplexe Zahlen werden addiert, indem die Realteile und die Imaginärteile addiert werden. Dies entspricht der\n",
    "normalen Vektoraddition.\n",
    "\n",
    "<img src=\"./img/mandel2.png\" width=\"501\">"
   ]
  },
  {
   "cell_type": "code",
   "execution_count": null,
   "metadata": {},
   "outputs": [],
   "source": [
    "z1 = 3 + 2j\n",
    "z2 = -2 + 1j\n",
    "z1 + z2"
   ]
  },
  {
   "cell_type": "markdown",
   "metadata": {},
   "source": [
    "Zwei komplexe Zahlen werden multipliziert, indem die Beträge multipliziert und die Winkel addiert werden. Inbesondere gilt dann: $i^2 = -1$\n",
    "\n",
    "<img src=\"./img/mandel3.png\" width=\"651\">"
   ]
  },
  {
   "cell_type": "code",
   "execution_count": null,
   "metadata": {},
   "outputs": [],
   "source": [
    "1j ** 2"
   ]
  },
  {
   "cell_type": "code",
   "execution_count": null,
   "metadata": {},
   "outputs": [],
   "source": [
    "z1 = 3 + 2j\n",
    "z2 = -2 + 1j\n",
    "z1*z2"
   ]
  },
  {
   "cell_type": "markdown",
   "metadata": {},
   "source": [
    "Für das Quadrat einer komplexen Zahl gilt:\n",
    "$(a + bi)^2 = a^2-b^2 + 2abi$"
   ]
  },
  {
   "cell_type": "markdown",
   "metadata": {
    "jupyter": {
     "source_hidden": true
    }
   },
   "source": [
    "#### Übung:\n",
    "\n",
    "$z_1 = 3 - i, z_2 = 3 + 2i$. Berechne\n",
    "\n",
    "- $z_1 + z_2$\n",
    "- $z_1 * z_2$\n",
    "- $z_1^2 + z_2$\n",
    " "
   ]
  },
  {
   "cell_type": "code",
   "execution_count": null,
   "metadata": {
    "jupyter": {
     "source_hidden": true
    }
   },
   "outputs": [],
   "source": [
    "z1 = 3 - 1j\n",
    "z2 = 3 + 2j\n",
    "z1+z2, z1*z2, z1**2+z2"
   ]
  },
  {
   "cell_type": "markdown",
   "metadata": {},
   "source": [
    "Für jede komplexe Zahl c definieren wir rekursiv eine Folge von Zahlen:\n",
    "\n",
    "$$z_n =\\begin{cases}\n",
    " 0   & n = 0 \\\\ \n",
    " z_{n-1}^2 + c & n > 0 \n",
    "\\end{cases} $$\n",
    "\n",
    "Dies führt zur Folge\n",
    "$$0, c , c^2 + c, (c^2 + c)^2 + c, ...$$\n",
    "\n",
    "Wenn ein Mitglied der Folge betragsmäßig größer als 2 wird, führt dies dazu, dass die Beträge der Folgenglieder schließlich gegen unendlich gehen. Eine Zahl c gehört zur Mandelbrotmenge, wenn ihre Folge beschränkt bleibt. \n",
    "\n",
    "Die Punkte in der Ebene, die zu komplexen Zahlen der Mandelbrotmenge gehören, färben wir schwarz, die anderen weiß.\n"
   ]
  },
  {
   "cell_type": "code",
   "execution_count": 22,
   "metadata": {},
   "outputs": [
    {
     "name": "stdout",
     "output_type": "stream",
     "text": [
      "(-1+0.29j) 1.0412012293500235\n",
      "(-0.08409999999999995-0.29j) 0.30194835651150675\n",
      "(-1.07702719+0.33877799999999997j) 1.129051859430423\n",
      "(0.045217034715296034-0.4397462347476399j) 0.4420648495449177\n",
      "(-1.191332170746282+0.25023195847499047j) 1.2173283756231421\n",
      "(0.3566563080128191-0.30621876456020786j) 0.47007834859107783\n",
      "(-0.9665662097234451+0.07157029197541911j) 0.9692123319854085\n",
      "(-0.07087206891429987+0.1516451483130377j) 0.16738907120560909\n",
      "(-1.01797340085469+0.2685051891964783j) 1.0527890963878284\n",
      "(-0.035825191777773324-0.25666228118694195j) 0.25915047935514046\n",
      "(-1.0645920822181707+0.30838995089128596j) 1.1083594468097206\n",
      "(0.03825193971089069-0.3666189999090271j) 0.3686091452825619\n",
      "(-1.1329462802026495+0.2619522242372257j) 1.1628354318680914\n",
      "(0.21494830604219084-0.3035555960807504j) 0.37195265045748366\n",
      "(-1.0459432256415324+0.1595024776656304j) 1.0580350994399423\n",
      "(0.06855619088393872-0.043661071974811894j) 0.08127878268345771\n",
      "(-0.9972063378974747+0.2840135264309948j) 1.0368626541344141\n",
      "(-0.08624320285287679-0.2764401772112j) 0.28958083778952315\n",
      "(-1.0689812815382371+0.33768217255982147j) 1.1210487188092464\n",
      "(0.02869173061441077-0.4319518431512282j) 0.4329036962274556\n",
      "(-1.1857591793960933+0.26521310815581345j) 1.2150567164786028\n",
      "(0.3356868387844294-0.33895775498384945j) 0.47705137395963426\n",
      "(-1.002206705930608+0.062432685496008805j) 1.0041494518399756\n",
      "(0.0005204411940364917+0.16485908785328673j) 0.16485990933775915\n",
      "(-1.0271782479887812+0.29017159892106026j) 1.0673774917814722\n",
      "(-0.029104403679102497-0.30611590919167603j) 0.30749636774076305\n",
      "(-1.0928598835467302+0.30781864198742004j) 1.1353832134661637\n",
      "(0.09959040871079328-0.3828052904717691j) 0.39554789838951027\n",
      "(-1.1366216409059926+0.21375252933052513j) 1.1565461073260452\n",
      "(0.24621861078063412-0.1959115012709356j) 0.31465047374027133\n",
      "(-0.9777577120354864+0.19352588464224357j) 0.9967258456925014\n",
      "(-0.08144212458169375-0.08844285237488714j) 0.1202287727317642\n",
      "(-1.001189318479826+0.3044059476029518j) 1.0464430382845258\n",
      "(-0.0902829294979528-0.3195359664436099j) 0.332045540867189\n",
      "(-1.0939522264923194+0.3476972862609773j) 1.1478784241899274\n",
      "(0.07583807097425477-0.47072844090106686j) 0.47679836208007814\n",
      "(-1.215833852064053+0.21860172617868917j) 1.235329377337565\n",
      "(0.430465241136611-0.241566757615374j) 0.4936140417488197\n",
      "(-0.8730541745580043+0.08202781486501753j) 0.876899169873417\n",
      "(-0.2445049706983714+0.14677054760445063j) 0.2851741123249475\n",
      "(-0.9617589129478988+0.21822774311717974j) 0.986206648984249\n",
      "(-0.12264314123129372-0.1297649539909042j) 0.1785505065110165\n",
      "(-1.0017976031931823+0.3218295631583576j) 1.0522227451857824\n",
      "(-0.09997582995909438-0.35481617001750304j) 0.36863217586355557\n",
      "(-1.1158993479298798+0.360946082160814j) 1.1728228463572714\n",
      "(0.11494928048308983-0.5155589954421942j) 0.5282181508287503\n",
      "(-1.2525877406977843+0.17147372885467035j) 1.2642702590165225\n",
      "(0.5395728084590548-0.13957178123019204j) 0.5573321251678933\n",
      "(-0.7283414664873769+0.13938172403998497j) 0.7415581951548652\n",
      "(-0.4889459731913758+0.08696502142235693j) 0.496619652904567\n",
      "(-0.7684947502509294+0.2049576059340737j) 0.7953563989768772\n",
      "(-0.4514234390669888-0.025017688368668745j) 0.45211614223601787\n",
      "(-0.7968427633922445+0.31258714184178127j) 0.8559609283229009\n",
      "(-0.46275233167422536-0.20816560381217697j) 0.5074176180232812\n",
      "(-0.829193198140556+0.4826582370769158j) 0.9594375089919925\n",
      "(-0.5453976139756329-0.5104338544213811j) 0.7469948306847787\n",
      "(-0.9630841624091542+0.8467788125876137j) 1.2824061218391898\n",
      "(-0.7895032535639469-1.34103852693352j) 1.5561811328081585\n",
      "(-2.1750689433319677+2.4075085603372335j) 3.2445373131379305\n",
      "(-2.065172559849816-10.182994200790747j) 10.390298773148663\n",
      "(-100.42843319138133+42.349280401165714j) 108.992347179847\n",
      "(8291.408642779184-8505.853754943091j) 11878.426048177967\n",
      "(-3602091.8189261258-141051018.38590187j) 141097005.11765656\n",
      "(-1.9882414722228052e+16+1016157438758111.6j) 1.9908364853172e+16\n",
      "(3.9427783924632735e+32-4.0407327240931656e+31j) 3.963429911270143e+32\n",
      "(1.5382226242599702e+65-3.1863427348547593e+64j) 1.570877666155085e+65\n",
      "(2.264601041545612e+130-9.802608966799957e+129j) 2.4676566420248463e+130\n",
      "(4.1675064518096023e+260-4.4397996952159077e+260j) 6.08932930292934e+260\n",
      "(nan+nanj) nan\n",
      "(nan+nanj) nan\n",
      "(nan+nanj) nan\n",
      "(nan+nanj) nan\n",
      "(nan+nanj) nan\n",
      "(nan+nanj) nan\n",
      "(nan+nanj) nan\n",
      "(nan+nanj) nan\n",
      "(nan+nanj) nan\n",
      "(nan+nanj) nan\n",
      "(nan+nanj) nan\n",
      "(nan+nanj) nan\n",
      "(nan+nanj) nan\n",
      "(nan+nanj) nan\n",
      "(nan+nanj) nan\n",
      "(nan+nanj) nan\n",
      "(nan+nanj) nan\n",
      "(nan+nanj) nan\n",
      "(nan+nanj) nan\n",
      "(nan+nanj) nan\n",
      "(nan+nanj) nan\n",
      "(nan+nanj) nan\n",
      "(nan+nanj) nan\n",
      "(nan+nanj) nan\n",
      "(nan+nanj) nan\n",
      "(nan+nanj) nan\n",
      "(nan+nanj) nan\n",
      "(nan+nanj) nan\n",
      "(nan+nanj) nan\n",
      "(nan+nanj) nan\n",
      "(nan+nanj) nan\n",
      "(nan+nanj) nan\n"
     ]
    }
   ],
   "source": [
    "c = 1\n",
    "z = 0\n",
    "for i in range(100):\n",
    "    z = z**2 + c\n",
    "    print(z,abs(z))\n"
   ]
  },
  {
   "cell_type": "code",
   "execution_count": 15,
   "metadata": {},
   "outputs": [
    {
     "data": {
      "text/html": [
       "<iframe src=\"./mandel_01.html\" width=\"870\" height=\"450\" ></iframe>\n"
      ],
      "text/plain": [
       "<IPython.core.display.HTML object>"
      ]
     },
     "metadata": {},
     "output_type": "display_data"
    }
   ],
   "source": [
    "%%html\n",
    "<iframe src=\"./mandel_01.html\" width=\"870\" height=\"450\" ></iframe>"
   ]
  },
  {
   "cell_type": "markdown",
   "metadata": {},
   "source": [
    "Wir färben die nicht-schwarzen Punkte mit Farben ein, abhängig davon, bei welcher Iteration der Punkt als nicht zur Mandelbrotmenge\n",
    "gehörig entdeckt wurde.\n",
    "\n",
    "Beispiel: \n",
    "Hat man 5 Farben zur Verfügung und ist der Betrag des Folgenwerts nach der 9-ten Iteration erstmals größer als 2, dann wird der zur Folge gehörende Punkt mit der Farbe Nummer  9 % 5 = 4 gefärbt."
   ]
  },
  {
   "cell_type": "code",
   "execution_count": null,
   "metadata": {},
   "outputs": [],
   "source": [
    "%%html\n",
    "<iframe src=\"./mandel_02.html\" width=\"870\" height=\"450\" ></iframe>"
   ]
  },
  {
   "cell_type": "markdown",
   "metadata": {},
   "source": [
    "#### Iterative Formulierung \n",
    "\n",
    "Für jede Zahl c definieren wir eine Funktion $f_c(z) = z^2 + c$ und betrachten \n",
    "was passiert, wenn man die 0 in diese Funktion einsetzt und dann das Resultat wieder in die Funktion einsetzt, dann das Resultat wieder in die Funktion einsetzt usw.\n",
    "(\"the behavior of 0 under iteration\"). \n",
    "\n",
    "Dies führt zur Folge $$0, c , c^2 + c, (c^2 + c)^2 + c, ...$$\n",
    "\n",
    "(Anfangswert 0 entsteht durch 0-mal einsetzen der 0 in die Funktion)"
   ]
  },
  {
   "cell_type": "markdown",
   "metadata": {},
   "source": [
    "<hr/>\n",
    "\n",
    "__[Mandelbrot-Generator](http://www.stefanbion.de/fraktal-generator/mandelbrot.htm)__\n",
    "\n",
    "__[Visualisierung Mandel-Iteration](http://www.stefanbion.de/fraktal-generator/mandeliteration.htm)__\n",
    "\n",
    "<hr/>\n",
    "\n",
    "__[Numberphile: The Mandelbrot-Set](https://www.youtube.com/watch?v=NGMRB4O922I&list=PLt5AfwLFPxWJ8GCgpFo5_OSyfl7j0nOiu&index=1)__\n",
    "\n",
    "__[Numberphile: The Filled Julia-Set](https://www.youtube.com/watch?v=oCkQ7WK7vuY&list=PLt5AfwLFPxWJ8GCgpFo5_OSyfl7j0nOiu&index=4)__\n",
    "\n",
    "__[Numberphile: The Mandelbrot-Set and Pi](https://www.youtube.com/watch?v=d0vY0CKYhPY)__\n",
    "\n",
    "__[Numberphile: The Mandelbrot-Set and the Fibonacci-Numbers](https://www.youtube.com/watch?v=4LQvjSf6SSw&index=6&list=PLt5AfwLFPxWJ8GCgpFo5_OSyfl7j0nOiu&t=0s)__\n",
    "\n",
    "\n",
    "\n",
    "\n",
    "<hr/>\n",
    "\n",
    "__[Mandelbrot zoom](https://www.youtube.com/watch?v=yVBrgxzS7JE)__\n",
    "\n",
    "__[Mandelbox trip](https://www.youtube.com/watch?v=bO9ugnn8DbE)__\n",
    "\n",
    "<hr/>\n",
    "\n",
    "__[Xaos](https://xaos-project.github.io/)__ fast interactive fractal zoomer\n",
    "\n",
    "__[Xaos 3.5](https://drive.google.com/drive/folders/1FEZ1xu5DAEXnXTElw6giToBmb62VGFag?usp=sharing)__ ältere Version\n"
   ]
  },
  {
   "cell_type": "code",
   "execution_count": null,
   "metadata": {},
   "outputs": [],
   "source": []
  }
 ],
 "metadata": {
  "kernelspec": {
   "display_name": "Python 3",
   "language": "python",
   "name": "python3"
  },
  "language_info": {
   "codemirror_mode": {
    "name": "ipython",
    "version": 3
   },
   "file_extension": ".py",
   "mimetype": "text/x-python",
   "name": "python",
   "nbconvert_exporter": "python",
   "pygments_lexer": "ipython3",
   "version": "3.7.9"
  }
 },
 "nbformat": 4,
 "nbformat_minor": 4
}
