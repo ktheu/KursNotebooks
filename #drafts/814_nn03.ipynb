{
 "cells": [
  {
   "cell_type": "markdown",
   "metadata": {},
   "source": [
    "### Neuronale Netze"
   ]
  },
  {
   "cell_type": "markdown",
   "metadata": {},
   "source": [
    "#### Logistische Regression mit *Gradient Descent*\n",
    "\n",
    "Logistische Regression mit Gradient Descent ist ein Algorithmus mit dem Beobachtungsdaten diskreten Klassen \n",
    "zugeordnet werden können. Im einfachsten Fall sind es zwei Klassen (binärer classifier).  \n",
    "\n",
    "**Beispiel:**\n",
    "Für Hunde werden folgende Daten gemessen:\n",
    "\n",
    "* Alter\n",
    "* Geschlecht\n",
    "* Würmer  \n",
    "* Ruhender Blutdruck\n",
    "* Cholesterinspiegel (in mg/dl)\n",
    "* Nüchtern-Blutzuckerspiegel > 120 mg/dl (1 = hoch; 0 = niedrig)\n",
    "* Ruhende elektrokardiographische Ergebnisse (0 = normal, 1 = ST-T Abnormalität, 2 = linke ventrikuläre Hypertrophie)\n",
    "* Maximale Herzrate\n",
    "* Durch Bewegung verursachte Angina pectoris (1 = Ja; 0 = Nein) \n",
    "* ST-Depression, die durch Bewegung in Bezug auf die Ruhephase hervorgerufen wird (ein Marker im EKG).\n",
    "* Die maximale Steigung des ST-Segments bei Bewegung\n",
    "* Anzahl der großen Gefäße (0-3), aufgenommen durch Ultraschall\n",
    "* Blutfluss im Herz (3 = normal; 6 = fixer defekt; 7 = reversibler defekt )\n",
    "\n",
    "\n",
    "\n",
    "Die Hunde sollen in zwei Klassen eingeteilt werden: krank / nicht krank\n",
    "\n",
    "Beispiele für Datensätze von kranken Hunden:\n",
    "\n",
    "```\n",
    "14.33 1.0 4.0 120.0 229.0 0.0 2.0 129.0 1.0 2.6 2.0 2.0 7.0 \n",
    " 13.0 1.0 4.0 130.0 254.0 0.0 2.0 147.0 0.0 1.4 2.0 1.0 7.0 \n",
    "  8.0 1.0 2.0 110.0 229.0 0.0 0.0 168.0 0.0 1.0 3.0 0.0 7.0 \n",
    "```\n",
    "\n",
    "Beispiele für Datensätze von gesunden Hunden:\n",
    "\n",
    "```\n",
    "10.66 1.0 2.0 120.0 236.0 0.0 0.0 178.0 0.0 0.8 1.0 0.0 3.0  \n",
    " 11.0 0.0 4.0 120.0 354.0 0.0 0.0 163.0 1.0 0.6 1.0 0.0 3.0  \n",
    " 6.66 1.0 2.0 120.0 263.0 0.0 0.0 173.0 0.0 0.0 1.0 0.0 7.0 \n",
    "```\n",
    "\n",
    "Wir haben 426 Datensätzen, für die wir die Ergebnisse kennen. Wir trennen sie auf in:\n",
    "\n",
    "* 80% Trainingsdaten: damit justiert der Algorithmus seine internen Parameter  \n",
    "* 20% Testdaten: damit überprüfen wir, ob der Algorithmus korrekte Vorhersagen macht."
   ]
  },
  {
   "cell_type": "markdown",
   "metadata": {},
   "source": [
    "#### Hundedaten mit 2 Features\n",
    "Die Komponenten der Datensätze heißen *features*. Die Ergebnisse heißen *label*. Zur Vereinfachung schränken wir die Datensätze auf\n",
    "2 Features ein: Maximale Herzrate (Index 7) und ST-Depression (Index 9).\n",
    "\n",
    "Wir verfolgen den Algorithmus zunächst an einem einzelnen Datensatz. Die Label bezeichnen wir mit 1 (krank) und 0 (gesund).\n",
    "Der Algorithmus nimmt einen Datensatz entgegen und berechnet die Wahrscheinlichkeit, dass der Hund krank ist. Wenn die gewichtete\n",
    "Summe der Eingabe größer als ein Schwellwert ist, wird der Hund als krank eingeschätzt. Der negative Schwellwert heißt **Bias b**.\n",
    "\n",
    "Mit dem Begriff **gewichtete Summe** bezeichnen wir im Folgenden die gewichtete Summe der Eingaben plus dem Bias. Um die gewichtete Summe in eine Wahrscheinlichkeit zu verwandeln nutzen wir die **sigmoid**-Funktion. Mit der **cross entropy**-Funktion messen wir den Fehler (= die Kosten), den wir mit der aktuellen Wahl der Parameter machen.\n",
    "\n",
    "<img src=\"./img/nn_30.png\" width=\"801\"/>  \n",
    "\n"
   ]
  },
  {
   "cell_type": "markdown",
   "metadata": {},
   "source": [
    "Zu Beginn setzen wir die Parameter $w_1, w_2, b$ zufällig und berechnen den Fehler, den wir damit machen.\n",
    "\n",
    "#### Die Kostenfunktion\n",
    "\n",
    "<img src=\"./img/nn_26.png\" width=\"600\"/>  \n",
    "\n",
    "Beispiel (aus den Datensätzen von oben):\n"
   ]
  },
  {
   "cell_type": "code",
   "execution_count": 99,
   "metadata": {},
   "outputs": [
    {
     "name": "stdout",
     "output_type": "stream",
     "text": [
      "z= 0.16, a= 0.54, y= 1.00, cost= 0.62\n",
      "z= 4.88, a= 0.99, y= 0.00, cost= 4.89\n"
     ]
    }
   ],
   "source": [
    "import numpy as np\n",
    "def sigmoid(z):\n",
    "    return 1.0/(1+np.exp(-z))\n",
    "\n",
    "def L(a,y):\n",
    "    return -(y*np.log(a) + (1-y)*np.log(1-a))\n",
    "\n",
    "w1, w2, b = 0.1, 0.1, -13         # zufällig gewählte Parameter\n",
    "\n",
    "x1, x2, y = 129, 2.6, 1.0         # erster kranker Hund von oben\n",
    "z = w1 * x1 + w2 * x2 + b\n",
    "a = sigmoid(z)\n",
    "cost = L(a,y)\n",
    "print('z={:5.2f}, a={:5.2f}, y={:5.2f}, cost={:5.2f}'.format(z,a,y,cost))\n",
    "\n",
    "x1, x2, y = 178, 0.8, 0.0         # erster gesunder Hund von oben\n",
    "z = w1 * x1 + w2 * x2 + b\n",
    "a = sigmoid(z)\n",
    "cost = L(a,y)\n",
    "print('z={:5.2f}, a={:5.2f}, y={:5.2f}, cost={:5.2f}'.format(z,a,y,cost))\n",
    "\n"
   ]
  },
  {
   "cell_type": "markdown",
   "metadata": {},
   "source": [
    "Für\n",
    "```\n",
    "w1, w2, b = 0.1, 0.1, -13 \n",
    "```\n",
    "erhält man das Ergebnis\n",
    "```\n",
    "z= 0.16, a= 0.54, y= 1.00, loss= 0.62\n",
    "z= 4.88, a= 0.99, y= 0.00, loss= 4.89\n",
    "```\n",
    "\n",
    "Interpretation:\n",
    "* Die Wahrscheinlichkeit, dass der Hund des 1. Datensatzes krank ist, wird mit 0.54 berechnet. Laut y-Wert ist er krank. Der Fehler dieser Berechnung wird mit 0.62 bewertet.\n",
    "* Die Wahrscheinlichkeit, dass der Hund des 2. Datensatzes krank ist, wird mit 0.99 berechnet. Laut y-Wert ist er gesund. Der Fehler dieser Berechnung wird mit 4.89 bewertet."
   ]
  },
  {
   "cell_type": "markdown",
   "metadata": {},
   "source": [
    "#### Der Gradient\n",
    "\n",
    "Wir möchten die Parameter so ändern, dass der Fehler möglichst klein wird. Wir betrachten zunächst einen einfachen **computation graph**. \n",
    "Wie wirken sich Änderungen der Eingaben $a,b,c$ auf das Ergebnis $w$ aus?\n",
    "\n",
    "<img src=\"./img/nn_31.png\" width=\"800\"/>  \n",
    "\n",
    "Der Vektor $(3,6,9)$ heißt **Gradient** der Funktion $w(a,b,c)$ an der Stelle $(5,3,2)$. Er gibt die Richtung des steilste Anstiegs an.\n",
    "Wenn wir wollen, das w möglichst stark wächst, dann ändern wir $a$ um 1 Einheit, $b$ um 2 Einheiten und $c$ um 3 Einheiten. Wenn wir wollen, dass $w(a,b,c)$ möglichst stark fällt, dann ändern wir $a,b,c$ in Richtung des negativen Gradienten."
   ]
  },
  {
   "cell_type": "markdown",
   "metadata": {},
   "source": [
    "#### Gradient Descent für Logistic Regression\n",
    "\n",
    "An die Pfeile des computation graph schreiben wir die partiellen Ableitungen. Damit können wir den Gradienten berechnen um unseren Fehler zu minimieren. Jeder Datensatz erzeugt so Änderungswünsche für die Parameter $w_1, w_2, b$. Wir mitteln über alle Änderungswünsche. Die Richtung der Änderung gilt nur für die aktuelle Stelle. Deswegen machen wir kleine Schritte (**learning_rate**) und Berechnungen dann erneut den Gradienten.\n",
    "\n",
    "<img src=\"./img/nn_32.png\" width=\"801\"/>  "
   ]
  },
  {
   "cell_type": "code",
   "execution_count": 100,
   "metadata": {},
   "outputs": [
    {
     "name": "stdout",
     "output_type": "stream",
     "text": [
      "w1= 0.10,  w2= 0.10,  b=-13.00\n",
      "z= 0.16, a= 0.54, y= 1.00, cost= 0.62\n",
      "w1= 0.11,  w2= 0.10,  b=-13.00\n",
      "z= 0.93, a= 0.72, y= 1.00, cost= 0.33\n",
      "w1= 0.11,  w2= 0.10,  b=-13.00\n",
      "z= 1.40, a= 0.80, y= 1.00, cost= 0.22\n",
      "w1= 0.11,  w2= 0.10,  b=-13.00\n",
      "z= 1.73, a= 0.85, y= 1.00, cost= 0.16\n",
      "w1= 0.11,  w2= 0.10,  b=-13.00\n",
      "z= 1.98, a= 0.88, y= 1.00, cost= 0.13\n",
      "w1= 0.12,  w2= 0.10,  b=-13.00\n",
      "z= 2.18, a= 0.90, y= 1.00, cost= 0.11\n"
     ]
    }
   ],
   "source": [
    "import numpy as np\n",
    "def sigmoid(z):\n",
    "    return 1.0/(1+np.exp(-z))\n",
    "\n",
    "def L(a,y):\n",
    "    return -(y*np.log(a) + (1-y)*np.log(1-a))\n",
    "\n",
    "w1, w2, b = 0.1, 0.1, -13         # zufällig gewählte Parameter\n",
    "learning_rate = 0.0001\n",
    "\n",
    "x1, x2, y = 129, 2.6, 1.0        # erster kranker Hund von oben\n",
    "#x1, x2, y = 178, 0.8, 0.0         # erster gesunder Hund von oben\n",
    "\n",
    "for i in range(6):\n",
    "    print( 'w1={:5.2f},  w2={:5.2f},  b={:5.2f}'.format(w1,w2,b))\n",
    "    # forward\n",
    "    z = w1 * x1 + w2 * x2 + b\n",
    "    a = sigmoid(z)\n",
    "    cost = L(a,y)\n",
    "    print('z={:5.2f}, a={:5.2f}, y={:5.2f}, cost={:5.2f}'.format(z,a,y,cost))\n",
    "    \n",
    "    # backward\n",
    "    db = a-y\n",
    "    dw1 = x1 * db\n",
    "    dw2 = x2 * db\n",
    "    \n",
    "    # update\n",
    "    w1 = w1 - learning_rate * dw1\n",
    "    w2 = w2 - learning_rate * dw2\n",
    "    b  = b - learning_rate * db\n",
    "\n"
   ]
  },
  {
   "cell_type": "markdown",
   "metadata": {},
   "source": [
    "#### Berechnung für 3 Datensätze mit numpy"
   ]
  },
  {
   "cell_type": "markdown",
   "metadata": {},
   "source": [
    "Dimensionen in numpy\n",
    "\n",
    "<img src=\"./img/nn_25.png\" width=\"400\"/>   \n",
    "\n"
   ]
  },
  {
   "cell_type": "markdown",
   "metadata": {},
   "source": [
    "#### Numpy: Rank-1 Arrays"
   ]
  },
  {
   "cell_type": "code",
   "execution_count": 161,
   "metadata": {},
   "outputs": [
    {
     "data": {
      "text/plain": [
       "array([1, 2, 3, 4])"
      ]
     },
     "execution_count": 161,
     "metadata": {},
     "output_type": "execute_result"
    }
   ],
   "source": [
    "a = np.array([1,2,3,4])\n",
    "a  "
   ]
  },
  {
   "cell_type": "code",
   "execution_count": 162,
   "metadata": {},
   "outputs": [
    {
     "data": {
      "text/plain": [
       "(4,)"
      ]
     },
     "execution_count": 162,
     "metadata": {},
     "output_type": "execute_result"
    }
   ],
   "source": [
    "a.shape"
   ]
  },
  {
   "cell_type": "markdown",
   "metadata": {},
   "source": [
    "Arrays mit shape (n,) sind **rank-1 arrays**. Sie verhalten sich nicht durchgängig wie Spalten- oder Zeilenvektoren. Das kann zu unerwarteten Ergebnissen und schwer zu lokalisierenden Fehlern führen. Z.B:\n"
   ]
  },
  {
   "cell_type": "code",
   "execution_count": 158,
   "metadata": {},
   "outputs": [
    {
     "data": {
      "text/plain": [
       "(4,)"
      ]
     },
     "execution_count": 158,
     "metadata": {},
     "output_type": "execute_result"
    }
   ],
   "source": [
    "a.T.shape                  # keine Änderung durch Transposition"
   ]
  },
  {
   "cell_type": "markdown",
   "metadata": {},
   "source": [
    "Mit dem **reshape**-Befehl kann ein rank-1 array in einen ordentlichen Spalten- oder Zeilenvektor überführt werden.\n"
   ]
  },
  {
   "cell_type": "code",
   "execution_count": 165,
   "metadata": {},
   "outputs": [
    {
     "data": {
      "text/plain": [
       "(4, 1)"
      ]
     },
     "execution_count": 165,
     "metadata": {},
     "output_type": "execute_result"
    }
   ],
   "source": [
    "c = a.reshape(4,1)        # Spaltenvektor\n",
    "c.shape"
   ]
  },
  {
   "cell_type": "code",
   "execution_count": 166,
   "metadata": {},
   "outputs": [
    {
     "data": {
      "text/plain": [
       "array([[1],\n",
       "       [2],\n",
       "       [3],\n",
       "       [4]])"
      ]
     },
     "execution_count": 166,
     "metadata": {},
     "output_type": "execute_result"
    }
   ],
   "source": [
    "c"
   ]
  },
  {
   "cell_type": "code",
   "execution_count": 167,
   "metadata": {},
   "outputs": [
    {
     "data": {
      "text/plain": [
       "(1, 4)"
      ]
     },
     "execution_count": 167,
     "metadata": {},
     "output_type": "execute_result"
    }
   ],
   "source": [
    "r = a.reshape(1,4)        # Zeilenvektor\n",
    "r.shape"
   ]
  },
  {
   "cell_type": "code",
   "execution_count": 168,
   "metadata": {},
   "outputs": [
    {
     "data": {
      "text/plain": [
       "array([[1, 2, 3, 4]])"
      ]
     },
     "execution_count": 168,
     "metadata": {},
     "output_type": "execute_result"
    }
   ],
   "source": [
    "r"
   ]
  },
  {
   "cell_type": "markdown",
   "metadata": {},
   "source": [
    "**Empfehlung: keine rank-1 Arrays als Vektoren benutzen**"
   ]
  },
  {
   "cell_type": "code",
   "execution_count": null,
   "metadata": {},
   "outputs": [],
   "source": []
  },
  {
   "cell_type": "code",
   "execution_count": 143,
   "metadata": {},
   "outputs": [
    {
     "data": {
      "text/plain": [
       "(426, 14)"
      ]
     },
     "execution_count": 143,
     "metadata": {},
     "output_type": "execute_result"
    }
   ],
   "source": [
    "D = np.load('data/train_data.npy')\n",
    "D.shape"
   ]
  },
  {
   "cell_type": "code",
   "execution_count": 144,
   "metadata": {},
   "outputs": [
    {
     "data": {
      "text/plain": [
       "(3, 14)"
      ]
     },
     "execution_count": 144,
     "metadata": {},
     "output_type": "execute_result"
    }
   ],
   "source": [
    "D = D[:3,:]\n",
    "D.shape"
   ]
  },
  {
   "cell_type": "code",
   "execution_count": 145,
   "metadata": {},
   "outputs": [
    {
     "data": {
      "text/plain": [
       "(2, 3)"
      ]
     },
     "execution_count": 145,
     "metadata": {},
     "output_type": "execute_result"
    }
   ],
   "source": [
    "X = D[:,[7,9]].T\n",
    "X.shape"
   ]
  },
  {
   "cell_type": "code",
   "execution_count": 146,
   "metadata": {},
   "outputs": [
    {
     "data": {
      "text/plain": [
       "array([[150. , 108. , 129. ],\n",
       "       [  2.3,   1.5,   2.6]])"
      ]
     },
     "execution_count": 146,
     "metadata": {},
     "output_type": "execute_result"
    }
   ],
   "source": [
    "X"
   ]
  },
  {
   "cell_type": "markdown",
   "metadata": {},
   "source": [
    "<img src=\"./img/nn_33.png\" width=\"700\"/>   "
   ]
  },
  {
   "cell_type": "code",
   "execution_count": 149,
   "metadata": {},
   "outputs": [
    {
     "data": {
      "text/plain": [
       "((3,), array([0., 1., 1.]))"
      ]
     },
     "execution_count": 149,
     "metadata": {},
     "output_type": "execute_result"
    }
   ],
   "source": [
    "Y = D[:,13]\n",
    "Y.shape,Y"
   ]
  },
  {
   "cell_type": "code",
   "execution_count": 150,
   "metadata": {},
   "outputs": [
    {
     "data": {
      "text/plain": [
       "((3, 1), array([[0.],\n",
       "        [1.],\n",
       "        [1.]]))"
      ]
     },
     "execution_count": 150,
     "metadata": {},
     "output_type": "execute_result"
    }
   ],
   "source": [
    "Y = Y.reshape(3,1)\n",
    "Y.shape, Y"
   ]
  },
  {
   "cell_type": "code",
   "execution_count": null,
   "metadata": {},
   "outputs": [],
   "source": [
    "w = np.zeros((n,1)) "
   ]
  },
  {
   "cell_type": "code",
   "execution_count": 101,
   "metadata": {},
   "outputs": [],
   "source": [
    "import numpy as np\n",
    "def sigmoid(z):\n",
    "    return  1.0/(1+np.exp(-z))\n",
    "\n",
    "def optimize(w, b, X, Y, num_iterations, learning_rate):\n",
    "    m = X.shape[1]  \n",
    "    for i in range(num_iterations):\n",
    "        # forward\n",
    "        Z = np.dot(w.T,X) + b\n",
    "        A = sigmoid(Z)\n",
    "        # backword\n",
    "        dZ = A - Y\n",
    "        db = np.sum(dZ)/m\n",
    "        dw = np.dot(X,dZ.T)/m\n",
    "        # update\n",
    "        b = b - learning_rate * db\n",
    "        w = w - learning_rate * dw  \n",
    "        \n",
    "    A = sigmoid(np.dot(w.T,X) + b)\n",
    "    cost = -np.sum((Y*np.log(A)+(1-Y)*np.log(1-A)))/m \n",
    "    return w, b, cost\n",
    "\n",
    "def predict(w,b,X):\n",
    "    A = sigmoid(np.dot(w.T,X)+b)\n",
    "    return np.around(A)\n"
   ]
  },
  {
   "cell_type": "markdown",
   "metadata": {},
   "source": [
    "#### Hundebeispiel mit 2 Features\n",
    "\n"
   ]
  },
  {
   "cell_type": "code",
   "execution_count": 124,
   "metadata": {},
   "outputs": [
    {
     "name": "stdout",
     "output_type": "stream",
     "text": [
      "train accuracy: 68.53 %\n",
      "test accuracy: 56.98 %\n"
     ]
    }
   ],
   "source": [
    "D = np.load('data/train_data.npy')\n",
    "anzahl = int(len(D)*0.8)\n",
    "D_train = D[:anzahl,:]\n",
    "D_test = D[anzahl:,:]\n",
    "\n",
    "X = D_train[:,[7,9]].T\n",
    "n = X.shape[0]     # Anzahl Features\n",
    "Y = D_train[:,13].reshape(1,-1)\n",
    "w = np.zeros((n,1)) \n",
    "b = 0\n",
    "num_iterations = 500000\n",
    "learning_rate = 0.0001\n",
    "\n",
    "w, b, cost = optimize(w,b,X,Y,num_iterations,learning_rate)\n",
    "Y_predict = predict(w, b, X)\n",
    "print(\"train accuracy: {:5.2f} %\".format(100 - np.mean(np.abs(Y_predict - Y)) * 100))\n",
    "\n",
    "X_test = D_test[:,[7,9]].T\n",
    "Y_test = D_test[:,13].reshape(1,-1)\n",
    "Y_predict_test = predict(w, b, X_test)\n",
    "print(\"test accuracy: {:5.2f} %\".format(100 - np.mean(np.abs(Y_predict_test - Y_test)) * 100))"
   ]
  },
  {
   "cell_type": "markdown",
   "metadata": {},
   "source": [
    "#### Hundebeispiel mit 13 Features"
   ]
  },
  {
   "cell_type": "code",
   "execution_count": 132,
   "metadata": {},
   "outputs": [
    {
     "name": "stdout",
     "output_type": "stream",
     "text": [
      "train accuracy: 87.35 %\n",
      "test accuracy: 91.86 %\n"
     ]
    }
   ],
   "source": [
    "D = np.load('data/train_data.npy')\n",
    "anzahl = int(len(D)*0.8)\n",
    "D_train = D[:anzahl,:]\n",
    "D_test = D[anzahl:,:]\n",
    " \n",
    "X = D_train[:,:13].T\n",
    "n = X.shape[0]     # Anzahl Features\n",
    "Y = D_train[:,13].reshape(1,-1)\n",
    "w = np.zeros((n,1)) \n",
    "b = 0\n",
    "\n",
    "num_iterations = 500000\n",
    "learning_rate = 0.0001\n",
    "\n",
    "w, b, cost = optimize(w,b,X,Y,num_iterations,learning_rate)\n",
    "Y_predict = predict(w, b, X)\n",
    "print(\"train accuracy: {:5.2f} %\".format(100 - np.mean(np.abs(Y_predict - Y)) * 100))\n",
    "\n",
    "X_test = D_test[:,:13].T\n",
    "Y_test = D_test[:,13].reshape(1,-1)\n",
    "Y_predict_test = predict(w, b, X_test)\n",
    "print(\"test accuracy: {:5.2f} %\".format(100 - np.mean(np.abs(Y_predict_test - Y_test)) * 100))\n"
   ]
  },
  {
   "cell_type": "markdown",
   "metadata": {},
   "source": [
    "#### Bildbeispiel mit 12288 Features"
   ]
  },
  {
   "cell_type": "code",
   "execution_count": 127,
   "metadata": {},
   "outputs": [
    {
     "name": "stderr",
     "output_type": "stream",
     "text": [
      "C:\\Users\\khthe\\Anaconda3\\lib\\site-packages\\h5py\\__init__.py:36: FutureWarning: Conversion of the second argument of issubdtype from `float` to `np.floating` is deprecated. In future, it will be treated as `np.float64 == np.dtype(float).type`.\n",
      "  from ._conv import register_converters as _register_converters\n"
     ]
    },
    {
     "data": {
      "text/plain": [
       "(209, 64, 64, 3)"
      ]
     },
     "execution_count": 127,
     "metadata": {},
     "output_type": "execute_result"
    }
   ],
   "source": [
    "import h5py\n",
    "import matplotlib.pyplot as plt\n",
    "D = h5py.File('./datasets/train_catvnoncat.h5', \"r\")\n",
    "X0 = np.array(D['train_set_x'][:]) # train set features\n",
    "Y0 = np.array(D['train_set_y'][:]) # train set labels\n",
    "\n",
    "X0.shape"
   ]
  },
  {
   "cell_type": "code",
   "execution_count": 86,
   "metadata": {},
   "outputs": [
    {
     "data": {
      "text/plain": [
       "(<matplotlib.image.AxesImage at 0x2337c654550>, 1)"
      ]
     },
     "execution_count": 86,
     "metadata": {},
     "output_type": "execute_result"
    },
    {
     "data": {
      "image/png": "[encoded data removed]",
      "text/plain": [
       "<Figure size 432x288 with 1 Axes>"
      ]
     },
     "metadata": {},
     "output_type": "display_data"
    }
   ],
   "source": [
    "k = 2\n",
    "plt.imshow(X0[k]), Y0[k]"
   ]
  },
  {
   "cell_type": "code",
   "execution_count": 128,
   "metadata": {},
   "outputs": [
    {
     "name": "stdout",
     "output_type": "stream",
     "text": [
      "train accuracy: 99.04 %\n"
     ]
    }
   ],
   "source": [
    "m = X0.shape[0]   # Anzahl Daten \n",
    "X = X0.reshape(m, -1).T\n",
    "n = X.shape[0]    # Anzahl Features\n",
    "\n",
    "Y = Y0.reshape(1,-1)\n",
    "X = X / 255\n",
    "\n",
    "w = np.zeros((n,1))\n",
    "b = 0\n",
    "learning_rate = 0.005\n",
    "num_iterations = 2000\n",
    "\n",
    "w, b, cost = optimize(w,b,X,Y,num_iterations,learning_rate)\n",
    "Y_predict = predict(w, b, X)\n",
    "print(\"train accuracy: {:5.2f} %\".format(100 - np.mean(np.abs(Y_predict - Y)) * 100))"
   ]
  },
  {
   "cell_type": "code",
   "execution_count": 91,
   "metadata": {},
   "outputs": [
    {
     "name": "stdout",
     "output_type": "stream",
     "text": [
      "test accuracy: 70.00 %\n"
     ]
    }
   ],
   "source": [
    "D1 = h5py.File('datasets/test_catvnoncat.h5', \"r\")\n",
    "X1 = np.array(D1['test_set_x'][:]) \n",
    "Y1 = np.array(D1['test_set_y'][:]) \n",
    "m = X1.shape[0]         # Anzahl Daten\n",
    "X = X1.reshape(m, -1).T\n",
    "Y = Y1.reshape(1,-1)\n",
    "\n",
    "X = X / 255\n",
    "Y_predict = predict(w, b, X)\n",
    "print(\"test accuracy: {:5.2f} %\".format(100 - np.mean(np.abs(Y_predict - Y)) * 100))"
   ]
  },
  {
   "cell_type": "code",
   "execution_count": 267,
   "metadata": {},
   "outputs": [
    {
     "data": {
      "text/plain": [
       "(<matplotlib.image.AxesImage at 0x1c81f355320>, 1, 0.0)"
      ]
     },
     "execution_count": 267,
     "metadata": {},
     "output_type": "execute_result"
    },
    {
     "data": {
      "image/png": "[encoded data removed]",
      "text/plain": [
       "<Figure size 432x288 with 1 Axes>"
      ]
     },
     "metadata": {},
     "output_type": "display_data"
    }
   ],
   "source": [
    "# Betrachte einzeln die ersten 15 Bilder\n",
    "k = 10\n",
    "plt.imshow(X1[k]), Y[0,k], Y_predict[0,k] \n",
    " "
   ]
  },
  {
   "cell_type": "markdown",
   "metadata": {},
   "source": [
    "#### Neuronales Netz mit einem Hidden Layer"
   ]
  },
  {
   "cell_type": "code",
   "execution_count": 273,
   "metadata": {},
   "outputs": [
    {
     "name": "stdout",
     "output_type": "stream",
     "text": [
      "0.3148851140813606\n",
      "Accuracy: 88%\n"
     ]
    }
   ],
   "source": [
    "D = np.load('data/train_data.npy')\n",
    "X = D[:,:13].T\n",
    "m = X.shape[1]      # Anzahl Daten\n",
    "n = X.shape[0]      # Anzahl Features  \n",
    "n1 = 4              # Anzahl Neuronen in Layer1 (hidden layer)\n",
    "Y = D[:,13].reshape(1,-1)\n",
    "learning_rate = 0.0001\n",
    "\n",
    "# lr=0.0001, iter=500000 iter, n1=4, seed=41: 89 % \n",
    " \n",
    "# Die Gewichte werden mit kleinen Zufallszahlen und die Biasse mit 0 initialisiert\n",
    "np.random.seed(41)\n",
    "W1 = np.random.randn(n1,n)*0.01\n",
    "b1 = np.zeros((n1,1))\n",
    "W2 = np.random.randn(1,n1)*0.01\n",
    "b2 = 0\n",
    "\n",
    "for i in range(500000):\n",
    "    # forward\n",
    "    Z1 = np.dot(W1,X) + b1\n",
    "    A1 = np.tanh(Z1)\n",
    "    Z2 = np.dot(W2,A1) + b2\n",
    "    A2 = sigmoid(Z2)\n",
    "\n",
    "    # backward\n",
    "    dZ2= A2-Y\n",
    "    dW2 = np.dot(dZ2,A1.T)/m\n",
    "    db2 = np.sum(dZ2,axis=1,keepdims=True)/m\n",
    "    dZ1 = np.dot(W2.T,dZ2)*(1-np.power(A1,2))\n",
    "    dW1 = np.dot(dZ1,X.T)/m\n",
    "    db1 = np.sum(dZ1,axis=1,keepdims=True)/m\n",
    "\n",
    "    # update\n",
    "    W1 = W1-learning_rate*dW1\n",
    "    b1 = b1-learning_rate*db1\n",
    "    W2 = W2-learning_rate*dW2\n",
    "    b2 = b2-learning_rate*db2\n",
    "\n",
    "cost = np.multiply(np.log(A2),Y)+ np.multiply(np.log(1-A2),1-Y)\n",
    "cost = -np.sum(cost)/m\n",
    "cost = np.squeeze(cost) \n",
    "print(cost)\n",
    "\n",
    "predictions = np.around(A2)\n",
    "print ('Accuracy: %d' % float((np.dot(Y,predictions.T) + np.dot(1-Y,1-predictions.T))/float(Y.size)*100) + '%')\n",
    " "
   ]
  },
  {
   "cell_type": "code",
   "execution_count": null,
   "metadata": {},
   "outputs": [],
   "source": []
  }
 ],
 "metadata": {
  "kernelspec": {
   "display_name": "Python 3",
   "language": "python",
   "name": "python3"
  },
  "language_info": {
   "codemirror_mode": {
    "name": "ipython",
    "version": 3
   },
   "file_extension": ".py",
   "mimetype": "text/x-python",
   "name": "python",
   "nbconvert_exporter": "python",
   "pygments_lexer": "ipython3",
   "version": "3.7.5"
  }
 },
 "nbformat": 4,
 "nbformat_minor": 4
}
