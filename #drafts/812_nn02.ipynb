{
 "cells": [
  {
   "cell_type": "markdown",
   "metadata": {},
   "source": [
    "### Neuronale Netze \n",
    "\n",
    "#### Logistische Regression mit *Gradient Descent*\n",
    "\n",
    "Logistische Regression mit Gradient Descent ist ein Algorithmus mit dem Beobachtungsdaten diskreten Klassen \n",
    "zugeordnet werden können. Im einfachsten Fall sind es zwei Klassen. \n",
    "\n",
    "**Beispiel 1:**\n",
    "Für Studenten werden folgende Daten gemessen: \n",
    "* Anzahl Stunden/Tag fürs Studium  \n",
    "* Anzahl Stunden/Tag Schlaf  \n",
    " \n",
    "Die Studenten sollen in zwei Klassen eingeteilt werden: Prüfung bestanden / nicht bestanden.\n",
    "\n",
    "**Beispiel 2:**\n",
    "Für Hunde werden folgende Daten gemessen:\n",
    "\n",
    "* Alter\n",
    "* Geschlecht\n",
    "* Würmer (0 = keine, 1 = Typ I, 2 = Typ II, 3 = Typ I + II)\n",
    "* Ruhender Blutdruck\n",
    "* Cholesterinspiegel (in mg/dl)\n",
    "* Nüchtern-Blutzuckerspiegel > 120 mg/dl (1 = hoch; 0 = niedrig)\n",
    "* Ruhende elektrokardiographische Ergebnisse (0 = normal, 1 = ST-T Abnormalität, 2 = linke ventrikuläre Hypertrophie)\n",
    "* Maximale Herzrate\n",
    "* Durch Bewegung verursachte Angina pectoris (1 = Ja; 0 = Nein) \n",
    "* ST-Depression, die durch Bewegung in Bezug auf die Ruhephase hervorgerufen wird (ein Marker im EKG).\n",
    "* Die maximale Steigung des ST-Segments bei Bewegung\n",
    "* Anzahl der großen Gefäße (0-3), aufgenommen durch Ultraschall\n",
    "* Blutfluss im Herz (3 = normal; 6 = fixer defekt; 7 = reversibler defekt )\n",
    "\n",
    "Die Hunde sollen in zwei Klassen eingeteilt werden: krank / nicht krank\n",
    "\n",
    "**Beispiel 3:**\n",
    "Für Bilder von Hunden und Katzen werden folgende Daten aufgenommen:\n",
    "* die RGB-Werte der einzelnen Bildpixel \n",
    "\n",
    "Die Bilder sollen in zwei Klassen eingeteilt werden: Bild von Hund / Bild von Katze\n",
    "\n",
    "#### Training und Vorhersage\n",
    "Für alle Fälle gilt: wenn es hinreichend viele Daten gibt, für die die Klasseneinteilung bekannt ist, dann\n",
    "passt der Algorithmus die Parameter einer Vorhersagefunktion so an (Training), dass gute Vorhersagen für neue\n",
    "Daten möglich sind."
   ]
  },
  {
   "cell_type": "markdown",
   "metadata": {},
   "source": [
    "#### OR-Verknüpfung\n",
    "\n",
    "An einem einfachen Beispiel soll der Ablauf des Trainings deutlich gemacht werden.\n"
   ]
  },
  {
   "cell_type": "code",
   "execution_count": 2,
   "metadata": {},
   "outputs": [],
   "source": [
    "import numpy as np"
   ]
  },
  {
   "cell_type": "code",
   "execution_count": 4,
   "metadata": {},
   "outputs": [],
   "source": [
    "X  = [(0,0),(0,1),(1,0),(1,1)]\n",
    "Y = [0,1,1,1]"
   ]
  },
  {
   "cell_type": "markdown",
   "metadata": {},
   "source": [
    "Die verschiedenen Eingaben werden als eine Matrix geschrieben, wobei jede Eingabe eine Spalte ist"
   ]
  },
  {
   "cell_type": "code",
   "execution_count": 11,
   "metadata": {},
   "outputs": [
    {
     "data": {
      "text/plain": [
       "array([[0, 0, 1, 1],\n",
       "       [0, 1, 0, 1]])"
      ]
     },
     "execution_count": 11,
     "metadata": {},
     "output_type": "execute_result"
    }
   ],
   "source": [
    "X = np.array(X).T            # umwandeln in eine np-Matrix und transponieren (= Reihen werden zu Spalten)\n",
    "X"
   ]
  },
  {
   "cell_type": "markdown",
   "metadata": {},
   "source": [
    "X ist jetzt eine 2x4 Matrix, d.h. sie hat 2 Zeilen und 4 Spalten. Jede Spalte ist einer der 4 Punkte."
   ]
  },
  {
   "cell_type": "code",
   "execution_count": 12,
   "metadata": {},
   "outputs": [
    {
     "data": {
      "text/plain": [
       "(2, 4)"
      ]
     },
     "execution_count": 12,
     "metadata": {},
     "output_type": "execute_result"
    }
   ],
   "source": [
    "X.shape                     # eine 2 x 4 Matrix, d.h. 2 Zeilen und 4 Spalten, "
   ]
  },
  {
   "cell_type": "markdown",
   "metadata": {},
   "source": [
    "Einige numpy-Befehle:"
   ]
  },
  {
   "cell_type": "code",
   "execution_count": 15,
   "metadata": {},
   "outputs": [
    {
     "data": {
      "text/plain": [
       "(0, 1)"
      ]
     },
     "execution_count": 15,
     "metadata": {},
     "output_type": "execute_result"
    }
   ],
   "source": [
    "X[0,0], X[1,3]             #  Element oben links = Zeile 0, Spalte 1 und unten rechts = Zeile 1, Spalte 3"
   ]
  },
  {
   "cell_type": "code",
   "execution_count": 18,
   "metadata": {},
   "outputs": [
    {
     "data": {
      "text/plain": [
       "(array([0, 0]), array([0, 1]))"
      ]
     },
     "execution_count": 18,
     "metadata": {},
     "output_type": "execute_result"
    }
   ],
   "source": [
    "x1 = X[:,0]                # Spalte 0 \n",
    "x2 = X[:,1]                # Spalte 1\n",
    "x1, x2"
   ]
  },
  {
   "cell_type": "code",
   "execution_count": 24,
   "metadata": {},
   "outputs": [
    {
     "data": {
      "text/plain": [
       "(2,)"
      ]
     },
     "execution_count": 24,
     "metadata": {},
     "output_type": "execute_result"
    }
   ],
   "source": [
    "x1.shape "
   ]
  },
  {
   "cell_type": "markdown",
   "metadata": {},
   "source": [
    "x1 ist ein eindimensionales Gebilde. Zum Rechnen mit Spalten ist es häufig einfacher,\n",
    "diese wieder in eine Matrix der Dimension 2x1 umzuwandeln."
   ]
  },
  {
   "cell_type": "code",
   "execution_count": 27,
   "metadata": {},
   "outputs": [
    {
     "data": {
      "text/plain": [
       "array([[0],\n",
       "       [0]])"
      ]
     },
     "execution_count": 27,
     "metadata": {},
     "output_type": "execute_result"
    }
   ],
   "source": [
    "x1 = x1.reshape(2,1)\n",
    "x1"
   ]
  },
  {
   "cell_type": "code",
   "execution_count": 21,
   "metadata": {},
   "outputs": [
    {
     "data": {
      "text/plain": [
       "array([[0, 0, 1],\n",
       "       [0, 1, 0]])"
      ]
     },
     "execution_count": 21,
     "metadata": {},
     "output_type": "execute_result"
    }
   ],
   "source": [
    "X1 = X[:,:-1]              # alles ausser der letzten Spalte\n",
    "X1"
   ]
  },
  {
   "cell_type": "code",
   "execution_count": 28,
   "metadata": {},
   "outputs": [
    {
     "data": {
      "text/plain": [
       "(2, 3)"
      ]
     },
     "execution_count": 28,
     "metadata": {},
     "output_type": "execute_result"
    }
   ],
   "source": [
    "X1.shape"
   ]
  },
  {
   "cell_type": "code",
   "execution_count": 31,
   "metadata": {},
   "outputs": [
    {
     "data": {
      "text/plain": [
       "(array([0, 1, 1, 1]), (4,))"
      ]
     },
     "execution_count": 31,
     "metadata": {},
     "output_type": "execute_result"
    }
   ],
   "source": [
    "Y = np.array(Y)\n",
    "Y, Y.shape"
   ]
  },
  {
   "cell_type": "markdown",
   "metadata": {},
   "source": [
    "Die gewünschten Ergebnisse (= **labels**) speichern wir in einer Zeile, genauer: in einer Matrix der Dimension 1x4"
   ]
  },
  {
   "cell_type": "code",
   "execution_count": 32,
   "metadata": {},
   "outputs": [],
   "source": [
    "Y = Y.reshape(4,1)"
   ]
  },
  {
   "cell_type": "code",
   "execution_count": 33,
   "metadata": {},
   "outputs": [
    {
     "data": {
      "text/plain": [
       "array([[0],\n",
       "       [1],\n",
       "       [1],\n",
       "       [1]])"
      ]
     },
     "execution_count": 33,
     "metadata": {},
     "output_type": "execute_result"
    }
   ],
   "source": [
    "Y"
   ]
  },
  {
   "cell_type": "markdown",
   "metadata": {},
   "source": [
    "Die beiden Anfangsgewichte speichern wir in einem Spaltenvektor, genauer: in einer Matrix der Dimension 2x1.\n",
    "Den Bias speichern wir in einer normalen Variablen."
   ]
  },
  {
   "cell_type": "code",
   "execution_count": 42,
   "metadata": {},
   "outputs": [
    {
     "data": {
      "text/plain": [
       "array([[-1],\n",
       "       [ 2]])"
      ]
     },
     "execution_count": 42,
     "metadata": {},
     "output_type": "execute_result"
    }
   ],
   "source": [
    "b = -1.5\n",
    "w = [-1, 2]\n",
    "w = np.array(w)\n",
    "w = w.reshape(2,1)\n",
    "w"
   ]
  },
  {
   "cell_type": "markdown",
   "metadata": {},
   "source": [
    "Wir können für alle 4 Eingaben die gewichteten Summen berechnen. "
   ]
  },
  {
   "cell_type": "code",
   "execution_count": 45,
   "metadata": {},
   "outputs": [
    {
     "data": {
      "text/plain": [
       "(array([[ 0,  2, -1,  1]]), (1, 4))"
      ]
     },
     "execution_count": 45,
     "metadata": {},
     "output_type": "execute_result"
    }
   ],
   "source": [
    "Z = np.dot(w.T,X)\n",
    "Z, Z.shape"
   ]
  },
  {
   "cell_type": "markdown",
   "metadata": {},
   "source": [
    "Der Wert von b wird auf jedes Element der Matrix addiert. \n",
    "Dieses Zusammenspiel von Matrix und Zahl nennt sich **broadcasting**."
   ]
  },
  {
   "cell_type": "code",
   "execution_count": 47,
   "metadata": {},
   "outputs": [
    {
     "data": {
      "text/plain": [
       "array([[-1.5,  0.5, -2.5, -0.5]])"
      ]
     },
     "execution_count": 47,
     "metadata": {},
     "output_type": "execute_result"
    }
   ],
   "source": [
    "Z + b                "
   ]
  },
  {
   "cell_type": "markdown",
   "metadata": {},
   "source": [
    "Insgesamt können wir also codieren:"
   ]
  },
  {
   "cell_type": "code",
   "execution_count": 52,
   "metadata": {},
   "outputs": [
    {
     "data": {
      "text/plain": [
       "(array([[-1.5,  0.5, -2.5, -0.5]]), (1, 4))"
      ]
     },
     "execution_count": 52,
     "metadata": {},
     "output_type": "execute_result"
    }
   ],
   "source": [
    "Z = np.dot(w.T,X) + b\n",
    "Z, Z.shape"
   ]
  },
  {
   "cell_type": "markdown",
   "metadata": {},
   "source": [
    "Die Exponentialfunktion von numpy kann auch mit einer Matrix als Argument umgehen. Es wird dann der Wert für jedes Element in \n",
    "der Matrix berechnet.\n"
   ]
  },
  {
   "cell_type": "code",
   "execution_count": 57,
   "metadata": {},
   "outputs": [
    {
     "data": {
      "text/plain": [
       "(array([[ 1,  0],\n",
       "        [-1,  2]]), array([[2.71828183, 1.        ],\n",
       "        [0.36787944, 7.3890561 ]]))"
      ]
     },
     "execution_count": 57,
     "metadata": {},
     "output_type": "execute_result"
    }
   ],
   "source": [
    "k = [[1,0],[-1,2]]\n",
    "k = np.array(k)\n",
    "k, np.exp(k)"
   ]
  },
  {
   "cell_type": "code",
   "execution_count": 58,
   "metadata": {},
   "outputs": [],
   "source": [
    "def sigmoid(z):\n",
    "    return  1.0/(1+np.exp(-z))\n"
   ]
  },
  {
   "cell_type": "markdown",
   "metadata": {},
   "source": [
    "Damit können wir die forward-Rechnung sehr kompakt durchführen:"
   ]
  },
  {
   "cell_type": "code",
   "execution_count": 85,
   "metadata": {},
   "outputs": [
    {
     "data": {
      "text/plain": [
       "((2, 4), (1, 4), (2, 1), (1, 4), (1, 4), 4)"
      ]
     },
     "execution_count": 85,
     "metadata": {},
     "output_type": "execute_result"
    }
   ],
   "source": [
    "X  = [(0,0),(0,1),(1,0),(1,1)]\n",
    "Y = [0,1,1,1]\n",
    "w = [-1, 2]\n",
    "b = -1.5\n",
    "\n",
    "X = np.array(X).T                   # 2 x 4 Jede Eingabe eine Spalte\n",
    "Y = np.array(Y).reshape(1,4)        # 1 x 4 Zeile\n",
    "w = np.array(w).reshape(2,1)        # 2 x 1 Spalte\n",
    "\n",
    "m = X.shape[1]                      # Anzahl der \n",
    "\n",
    "Z = np.dot(w.T,X) + b\n",
    "A = sigmoid(Z)\n",
    "\n",
    "X.shape, Y.shape, w.shape, Z.shape, A.shape, m"
   ]
  },
  {
   "cell_type": "markdown",
   "metadata": {},
   "source": [
    "Diese vektorisierte Version kommt ohne for-Schleife aus. Hier die alte Version:"
   ]
  },
  {
   "cell_type": "code",
   "execution_count": 113,
   "metadata": {},
   "outputs": [
    {
     "name": "stdout",
     "output_type": "stream",
     "text": [
      "0.18242552380635635\n",
      "0.6224593312018546\n",
      "0.07585818002124355\n",
      "0.3775406687981454\n"
     ]
    }
   ],
   "source": [
    "import math\n",
    "\n",
    "class Neuron:\n",
    "    def __init__(self,param):\n",
    "        self.w1, self.w2, self.b = param\n",
    "    \n",
    "    def forward(self, x1, x2):\n",
    "        z = self.w1 * x1 + self.w2 * x2 + self.b\n",
    "        a = 1/(1+math.exp(-1.0*z))\n",
    "        return a\n",
    "        \n",
    "X  = [(0,0),(0,1),(1,0),(1,1)]\n",
    "Y = [0,1,1,1]\n",
    "w = [-1, 2]\n",
    "b = -1.5\n",
    "\n",
    "\n",
    "n = Neuron(w + [b])\n",
    "for (x1,x2),y in zip(X,Y):\n",
    "    a = n.forward(x1,x2)\n",
    "    print(a)"
   ]
  },
  {
   "cell_type": "code",
   "execution_count": 86,
   "metadata": {},
   "outputs": [],
   "source": [
    "dZ = Y-A\n",
    "dw = np.dot(X,dZ.T)/m\n",
    "db = np.sum(dZ)/m"
   ]
  },
  {
   "cell_type": "code",
   "execution_count": 88,
   "metadata": {},
   "outputs": [
    {
     "data": {
      "text/plain": [
       "((1, 4), (2, 1), -0.43542907404310005)"
      ]
     },
     "execution_count": 88,
     "metadata": {},
     "output_type": "execute_result"
    }
   ],
   "source": [
    "dZ.shape, dw.shape, db\n"
   ]
  },
  {
   "cell_type": "code",
   "execution_count": 69,
   "metadata": {},
   "outputs": [
    {
     "data": {
      "text/plain": [
       "(1, 4)"
      ]
     },
     "execution_count": 69,
     "metadata": {},
     "output_type": "execute_result"
    }
   ],
   "source": [
    "A.shape"
   ]
  },
  {
   "cell_type": "code",
   "execution_count": 70,
   "metadata": {},
   "outputs": [
    {
     "data": {
      "text/plain": [
       "(4, 1)"
      ]
     },
     "execution_count": 70,
     "metadata": {},
     "output_type": "execute_result"
    }
   ],
   "source": [
    "Y.shape"
   ]
  },
  {
   "cell_type": "code",
   "execution_count": 133,
   "metadata": {},
   "outputs": [
    {
     "name": "stdout",
     "output_type": "stream",
     "text": [
      "[[-0.38665029]\n",
      " [-0.25      ]] -0.43542907404310005\n"
     ]
    }
   ],
   "source": [
    "X  = [(0,0),(0,1),(1,0),(1,1)]\n",
    "Y = [0,1,1,1]\n",
    "w = [-1, 2]\n",
    "b = -1.5\n",
    "lr = 0.01   # learning rate\n",
    "\n",
    "X = np.array(X).T                   # 2 x 4 Jede Eingabe eine Spalte\n",
    "Y = np.array(Y).reshape(1,4)        # 1 x 4 Zeile\n",
    "w = np.array(w).reshape(2,1)        # 2 x 1 Spalte\n",
    "\n",
    "m = X.shape[1]                      # Anzahl der Daten\n",
    "\n",
    "for i in range(1):\n",
    "    # forward  \n",
    "    A = sigmoid(np.dot(w.T,X) + b)\n",
    "    #print(A)\n",
    "    # backward\n",
    "    dZ = A-Y\n",
    "    #print(dZ)\n",
    "    dw = np.dot(X,dZ.T)/m\n",
    "    db = np.sum(dZ)/m\n",
    "    print(dw,db)\n",
    "    #update\n",
    "    w = w - lr*dw\n",
    "    b = b - lr*db\n",
    "\n",
    "#sigmoid(np.dot(w.T,X) + b)"
   ]
  },
  {
   "cell_type": "code",
   "execution_count": 131,
   "metadata": {},
   "outputs": [
    {
     "name": "stdout",
     "output_type": "stream",
     "text": [
      "-0.38665028779515276 -0.25 -0.43542907404310005\n"
     ]
    }
   ],
   "source": [
    "import math\n",
    "import random\n",
    "\n",
    "class Neuron:\n",
    "    def __init__(self,param):\n",
    "        self.w1, self.w2, self.b = param\n",
    "        self.sumdb = 0\n",
    "        self.sumdw1 = 0\n",
    "        self.sumdw2 = 0\n",
    "    \n",
    "    def forward(self, x1, x2):\n",
    "        z = self.w1 * x1 + self.w2 * x2 + self.b\n",
    "        a = 1/(1+math.exp(-1.0*z))\n",
    "        \n",
    "        # wir berechnen die lokalen Gradienten\n",
    "        self.db = a *(1-a)    \n",
    "        self.dw1 = x1 * self.db   \n",
    "        self.dw2 = x2 * self.db\n",
    "        return a\n",
    "    \n",
    "    def backward(self, g):\n",
    "        \n",
    "        # wir multiplizieren den lokalen Gradienten mit\n",
    "        # dem upstream Gradienten g\n",
    "        self.db *= g\n",
    "        self.dw1 *= g\n",
    "        self.dw2 *= g\n",
    "        \n",
    "        # wir addieren die Änderungswünsche\n",
    "        self.sumdb += self.db \n",
    "        self.sumdw1 += self.dw1\n",
    "        self.sumdw2 += self.dw2 \n",
    "        \n",
    "    def update(self,lr):\n",
    "        self.w1 = self.w1 - lr * self.sumdw1 \n",
    "        self.w2 = self.w2 - lr * self.sumdw2\n",
    "        self.b = self.b - lr * self.sumdb\n",
    "        \n",
    "        # reset Änderungswünsche für neuen Durchgang\n",
    "        self.sumdw1 = 0\n",
    "        self.sumdw2 = 0\n",
    "        self.sumdb = 0\n",
    "        \n",
    "X  = [(0,0),(0,1),(1,0),(1,1)]\n",
    "Y = [0,1,1,1]\n",
    "w = [-1, 2]\n",
    "b = -1.5\n",
    "lr = 0.01   # learning rate\n",
    "\n",
    "\n",
    "n = Neuron(w + [b])\n",
    "for k in range(1):\n",
    "    for (x1,x2),y in zip(X,Y):\n",
    "        a = n.forward(x1,x2)\n",
    "        g = -y/a + (1-y)/(1-a)\n",
    "        n.backward(g)\n",
    "        \n",
    "    print(n.sumdw1/4, n.sumdw2/4, n.sumdb/4)  \n",
    "    n.update(lr)\n",
    "\n",
    "#for (x1,x2) in X:\n",
    "#    print(n.forward(x1,x2))"
   ]
  },
  {
   "cell_type": "code",
   "execution_count": 111,
   "metadata": {},
   "outputs": [
    {
     "ename": "NameError",
     "evalue": "name 'array' is not defined",
     "output_type": "error",
     "traceback": [
      "\u001b[1;31m---------------------------------------------------------------------------\u001b[0m",
      "\u001b[1;31mNameError\u001b[0m                                 Traceback (most recent call last)",
      "\u001b[1;32m<ipython-input-111-dc4bac617255>\u001b[0m in \u001b[0;36m<module>\u001b[1;34m()\u001b[0m\n\u001b[1;32m----> 1\u001b[1;33m \u001b[0marray\u001b[0m\u001b[1;33m(\u001b[0m\u001b[1;33m[\u001b[0m\u001b[1;33m[\u001b[0m\u001b[1;36m0.18891771\u001b[0m\u001b[1;33m,\u001b[0m \u001b[1;36m0.63818149\u001b[0m\u001b[1;33m,\u001b[0m \u001b[1;36m0.08175463\u001b[0m\u001b[1;33m,\u001b[0m \u001b[1;36m0.40270562\u001b[0m\u001b[1;33m]\u001b[0m\u001b[1;33m]\u001b[0m\u001b[1;33m)\u001b[0m\u001b[1;33m\u001b[0m\u001b[0m\n\u001b[0m",
      "\u001b[1;31mNameError\u001b[0m: name 'array' is not defined"
     ]
    }
   ],
   "source": [
    "[[-0.38665029]\n",
    " [-0.25      ]] -0.43542907404310005"
   ]
  },
  {
   "cell_type": "code",
   "execution_count": null,
   "metadata": {},
   "outputs": [],
   "source": []
  }
 ],
 "metadata": {
  "kernelspec": {
   "display_name": "Python 3",
   "language": "python",
   "name": "python3"
  },
  "language_info": {
   "codemirror_mode": {
    "name": "ipython",
    "version": 3
   },
   "file_extension": ".py",
   "mimetype": "text/x-python",
   "name": "python",
   "nbconvert_exporter": "python",
   "pygments_lexer": "ipython3",
   "version": "3.7.4"
  }
 },
 "nbformat": 4,
 "nbformat_minor": 4
}
