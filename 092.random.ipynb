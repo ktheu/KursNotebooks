{
 "cells": [
  {
   "cell_type": "markdown",
   "metadata": {},
   "source": [
    "# Random\n",
    "Das Modul random erzeugt Pseudozufallszahlen. Sie sehen zufällig aus, aber nach $2^{19937}-1$ Zahlen wiederholen sie sich.\n",
    "\n",
    " __[PythonDoc](https://docs.python.org/3/library/random.html)__"
   ]
  },
  {
   "cell_type": "code",
   "execution_count": 1,
   "metadata": {},
   "outputs": [],
   "source": [
    "import random as r"
   ]
  },
  {
   "cell_type": "code",
   "execution_count": 11,
   "metadata": {},
   "outputs": [
    {
     "name": "stdout",
     "output_type": "stream",
     "text": [
      "0.4005186975556537\n",
      "0.4188402121376166\n",
      "0.5959709768711784\n",
      "0.47676824487221536\n",
      "0.38458139107487466\n",
      "0.030494381790816316\n",
      "0.7263274273474801\n",
      "0.9674588828672945\n",
      "0.9763037695534934\n",
      "0.6635960434493701\n"
     ]
    }
   ],
   "source": [
    "for i in range(10):\n",
    "    x = r.random()       # 0 <= x < 1\n",
    "    print(x)"
   ]
  },
  {
   "cell_type": "markdown",
   "metadata": {},
   "source": [
    "Mit der Funktion **seed** lässt sich der Zufallsgenerator initialisieren. Er erzeugt dann, je nach seed, immer die gleiche Zahlenfolge."
   ]
  },
  {
   "cell_type": "code",
   "execution_count": null,
   "metadata": {},
   "outputs": [],
   "source": [
    "r.seed(12)\n",
    "for i in range(10):\n",
    "    x = r.random()       # 0 <= x < 1\n",
    "    print(x)"
   ]
  },
  {
   "cell_type": "markdown",
   "metadata": {},
   "source": [
    "#### Zufällige ganze Zahlen"
   ]
  },
  {
   "cell_type": "code",
   "execution_count": 35,
   "metadata": {},
   "outputs": [
    {
     "data": {
      "text/plain": [
       "7"
      ]
     },
     "execution_count": 35,
     "metadata": {},
     "output_type": "execute_result"
    }
   ],
   "source": [
    "r.randint(0,10)          #  ganze Zahl n: 0 <= n <= 10 "
   ]
  },
  {
   "cell_type": "code",
   "execution_count": 37,
   "metadata": {},
   "outputs": [
    {
     "data": {
      "text/plain": [
       "10"
      ]
     },
     "execution_count": 37,
     "metadata": {},
     "output_type": "execute_result"
    }
   ],
   "source": [
    "r.randrange(0, 50, 2)    #  gerade Zahl n: 0 <= n < 50"
   ]
  },
  {
   "cell_type": "markdown",
   "metadata": {},
   "source": [
    "#### Zufällige Dezimalzahlen"
   ]
  },
  {
   "cell_type": "code",
   "execution_count": 42,
   "metadata": {},
   "outputs": [
    {
     "data": {
      "text/plain": [
       "0.2198842086795113"
      ]
     },
     "execution_count": 42,
     "metadata": {},
     "output_type": "execute_result"
    }
   ],
   "source": [
    "r.random()              #  Dezimalzahl x:  0 <= x < 1"
   ]
  },
  {
   "cell_type": "code",
   "execution_count": 43,
   "metadata": {},
   "outputs": [
    {
     "data": {
      "text/plain": [
       "6.8553080562755015"
      ]
     },
     "execution_count": 43,
     "metadata": {},
     "output_type": "execute_result"
    }
   ],
   "source": [
    "r.uniform(2,10)          #  Dezimalzahl x: 2 <= x <= 10"
   ]
  },
  {
   "cell_type": "markdown",
   "metadata": {},
   "source": [
    "#### Zufallsoperationen auf Listen und Tupels"
   ]
  },
  {
   "cell_type": "code",
   "execution_count": 44,
   "metadata": {},
   "outputs": [
    {
     "data": {
      "text/plain": [
       "3"
      ]
     },
     "execution_count": 44,
     "metadata": {},
     "output_type": "execute_result"
    }
   ],
   "source": [
    "r.choice([1,2,3,4,5])    # ein Element wird zufällig gewählt"
   ]
  },
  {
   "cell_type": "code",
   "execution_count": 48,
   "metadata": {},
   "outputs": [
    {
     "data": {
      "text/plain": [
       "'A'"
      ]
     },
     "execution_count": 48,
     "metadata": {},
     "output_type": "execute_result"
    }
   ],
   "source": [
    "r.choice(('A','B','C'))"
   ]
  },
  {
   "cell_type": "code",
   "execution_count": 51,
   "metadata": {},
   "outputs": [
    {
     "data": {
      "text/plain": [
       "[1, 3, 4]"
      ]
     },
     "execution_count": 51,
     "metadata": {},
     "output_type": "execute_result"
    }
   ],
   "source": [
    "a = [1,2,3,4,5]\n",
    "r.sample(a, 3)                 # 3 zufällig gewählte Elemente aus der Liste a"
   ]
  },
  {
   "cell_type": "code",
   "execution_count": 53,
   "metadata": {},
   "outputs": [
    {
     "data": {
      "text/plain": [
       "[5409921, 4688232, 1981513]"
      ]
     },
     "execution_count": 53,
     "metadata": {},
     "output_type": "execute_result"
    }
   ],
   "source": [
    "r.sample(range(10000000), 3)   # 3 zufällig gewählte Zahlen k: 0 <= k < 10000000"
   ]
  },
  {
   "cell_type": "code",
   "execution_count": 56,
   "metadata": {},
   "outputs": [
    {
     "data": {
      "text/plain": [
       "[2, 1, 'B', 3, 'A']"
      ]
     },
     "execution_count": 56,
     "metadata": {},
     "output_type": "execute_result"
    }
   ],
   "source": [
    "a = [1,2,3,'A','B']\n",
    "r.shuffle(a)                   # die Elemente von a werden gemischt (geht nicht bei Tupels)\n",
    "a"
   ]
  },
  {
   "cell_type": "markdown",
   "metadata": {},
   "source": [
    "#### Simulation von Wahrscheinlichkeitsexperimenten\n",
    "\n",
    "In einer Urne liegen 10 rote, 3 blaue und 7 gelbe Kugeln. Wie groß ist die Wahrscheinlichkeit, bei 5 Zügen (ohne Zurücklegen) genau eine blaue und eine gelbe Kugel gezogen zu haben."
   ]
  },
  {
   "cell_type": "code",
   "execution_count": 91,
   "metadata": {},
   "outputs": [
    {
     "name": "stdout",
     "output_type": "stream",
     "text": [
      "0.1619\n"
     ]
    }
   ],
   "source": [
    "def experiment():\n",
    "    a = list(10*'r'+3*'b'+7*'g')\n",
    "    z = r.sample(a,5)\n",
    "    return z.count('b') == 1 and z.count('g') == 1\n",
    "    \n",
    "anzahlExperimente = 100000\n",
    "treffer = 0\n",
    "for i in range(anzahlExperimente):\n",
    "    if experiment(): \n",
    "        treffer+=1\n",
    "print(treffer/anzahlExperimente)"
   ]
  },
  {
   "cell_type": "markdown",
   "metadata": {},
   "source": [
    "#### Mathe-Abi 2017, Pflichtteil Aufgabe 7\n",
    "\n",
    "In einer Urne liegen drei rote, zwei grüne und eine blaue Kugel. Es werden so lange nacheinander einzelne Kugeln gezogen und zur Seite gelegt, bis man eine rote Kugel erhält. Bestimmen Sie die Wahrscheinlichkeit dafür, dass man höchstens drei Kugeln zieht.\n",
    "\n",
    "Hier: ermittle die Wahrscheinlichkeit näherungsweise mittels Simulation\n"
   ]
  },
  {
   "cell_type": "code",
   "execution_count": 89,
   "metadata": {},
   "outputs": [
    {
     "name": "stdout",
     "output_type": "stream",
     "text": [
      "0.94908\n"
     ]
    }
   ],
   "source": [
    "def experiment():\n",
    "    a = list(3*'r'+2*'g'+1*'b')\n",
    "    anzKugeln = 0\n",
    "    gezogen = None\n",
    "    while gezogen != 'r':\n",
    "        gezogen = r.choice(a)\n",
    "        anzKugeln += 1\n",
    "        a.remove(gezogen)\n",
    "    return anzKugeln\n",
    "    \n",
    "\n",
    "anzahlExperimente = 100000\n",
    "treffer = 0\n",
    "for i in range(anzahlExperimente):\n",
    "    k = experiment()\n",
    "    if k <= 3:\n",
    "        treffer += 1\n",
    "print(treffer/anzahlExperimente)\n"
   ]
  }
 ],
 "metadata": {
  "kernelspec": {
   "display_name": "Python 3",
   "language": "python",
   "name": "python3"
  },
  "language_info": {
   "codemirror_mode": {
    "name": "ipython",
    "version": 3
   },
   "file_extension": ".py",
   "mimetype": "text/x-python",
   "name": "python",
   "nbconvert_exporter": "python",
   "pygments_lexer": "ipython3",
   "version": "3.6.5"
  }
 },
 "nbformat": 4,
 "nbformat_minor": 2
}
