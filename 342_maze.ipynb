{
 "cells": [
  {
   "cell_type": "markdown",
   "metadata": {},
   "source": [
    "### Search am Beispiel Maze"
   ]
  },
  {
   "cell_type": "code",
   "execution_count": 113,
   "metadata": {},
   "outputs": [
    {
     "name": "stdout",
     "output_type": "stream",
     "text": [
      "###################################################################\n",
      "#                                                                 #\n",
      "#                                                                 #\n",
      "#                                                                 #\n",
      "#                                                                 #\n",
      "#                                                                 #\n",
      "#                                                                 #\n",
      "#                                                                 #\n",
      "#                                                                 #\n",
      "#                                                                 #\n",
      "#                                                                 #\n",
      "#             S                            E                      #\n",
      "#                                                                 #\n",
      "#                                                                 #\n",
      "#                                                                 #\n",
      "#                                                                 #\n",
      "#                                                                 #\n",
      "#                                                                 #\n",
      "#                                                                 #\n",
      "#                                                                 #\n",
      "#                                                                 #\n",
      "#                                                                 #\n",
      "#                                                                 #\n",
      "###################################################################\n"
     ]
    }
   ],
   "source": [
    "with open ('data/maze01.txt') as f:   # 10 x 30\n",
    "    lines = f.read().splitlines()\n",
    "grid = [list(s) for s in lines]\n",
    "\n",
    "def showGrid():\n",
    "    for a in grid:\n",
    "        print(''.join(a))\n",
    "\n",
    "zeilen, spalten = len(grid), len(grid[0])\n",
    "showGrid()"
   ]
  },
  {
   "cell_type": "code",
   "execution_count": 69,
   "metadata": {},
   "outputs": [
    {
     "data": {
      "text/plain": [
       "((11, 14), (11, 43))"
      ]
     },
     "execution_count": 69,
     "metadata": {},
     "output_type": "execute_result"
    }
   ],
   "source": [
    "def getVonBis():\n",
    "    for x in range(len(grid)):\n",
    "        for y in range(len(grid[x])):\n",
    "            if grid[x][y] == 'S':\n",
    "                start = (x,y)\n",
    "            elif grid[x][y] == 'E':\n",
    "                ende = (x,y)\n",
    "    return start, ende\n",
    "\n",
    "startstate, goalstate = getVonBis()\n",
    "startstate, goalstate"
   ]
  },
  {
   "cell_type": "code",
   "execution_count": 70,
   "metadata": {},
   "outputs": [
    {
     "data": {
      "text/plain": [
       "True"
      ]
     },
     "execution_count": 70,
     "metadata": {},
     "output_type": "execute_result"
    }
   ],
   "source": [
    "def goaltest(state):\n",
    "    return grid[state[0]][state[1]]  == 'E'\n",
    "goaltest((11,43))"
   ]
  },
  {
   "cell_type": "code",
   "execution_count": 71,
   "metadata": {},
   "outputs": [],
   "source": [
    "def free(state):\n",
    "    return grid[state[0]][state[1]] != '#'\n",
    "\n",
    "def nextstates(state):\n",
    "    tmp = []\n",
    "    x, y = state\n",
    "    links, rechts, oben, unten = (x,y-1), (x,y+1), (x-1,y), (x+1,y)\n",
    "    linksfrei = (y > 0 and free(links))\n",
    "    rechtsfrei = (y < spalten and free(rechts))\n",
    "    obenfrei = (x > 0 and free(oben))\n",
    "    untenfrei = (x < zeilen and free(unten))\n",
    "    if obenfrei: tmp.append(oben)\n",
    "    if untenfrei: tmp.append(unten)\n",
    "    if linksfrei: tmp.append(links)\n",
    "    if rechtsfrei: tmp.append(rechts)\n",
    "    return tmp"
   ]
  },
  {
   "cell_type": "code",
   "execution_count": 72,
   "metadata": {},
   "outputs": [],
   "source": [
    "from collections import deque\n",
    "def bfs(s):\n",
    "    ''' \n",
    "    s: Startstellung\n",
    "    returns: Tupel (prev, explored) \n",
    "        prev: dictionary mit den Vorgängern der Spielstellungen\n",
    "            auf dem  Weg zum Ziel, None wenn Ziel nicht gefunden\n",
    "        explored: set mit den untersuchten states\n",
    "    '''   \n",
    "    frontier =  deque([s])\n",
    "    prev = {s:None}\n",
    "    explored = set()\n",
    "\n",
    "    while frontier:\n",
    "        state = frontier.popleft()\n",
    "        explored.add(state)\n",
    "        if goaltest(state):\n",
    "            return prev, explored\n",
    "        for v in nextstates(state):\n",
    "            if v not in prev:\n",
    "                frontier.append(v)\n",
    "                prev[v] = state\n"
   ]
  },
  {
   "cell_type": "code",
   "execution_count": 75,
   "metadata": {},
   "outputs": [],
   "source": [
    "prev, explored = bfs(startstate)\n",
    " "
   ]
  },
  {
   "cell_type": "code",
   "execution_count": 76,
   "metadata": {},
   "outputs": [],
   "source": [
    "def reconstructPath(prev,state):\n",
    "    s = state\n",
    "    tmp = []\n",
    "    while prev[s] is not None:\n",
    "        tmp.append(s)\n",
    "        s = prev[s]\n",
    "    tmp.reverse()\n",
    "    return tmp,len(tmp)\n",
    "\n",
    "path, weglaenge = reconstructPath(prev,goalstate)\n"
   ]
  },
  {
   "cell_type": "code",
   "execution_count": 77,
   "metadata": {},
   "outputs": [
    {
     "name": "stdout",
     "output_type": "stream",
     "text": [
      "###################################################################\n",
      "#.................................                                #\n",
      "#..................................                               #\n",
      "#...................................                              #\n",
      "#....................................                             #\n",
      "#.....................................                            #\n",
      "#......................................                           #\n",
      "#.......................................                          #\n",
      "#........................................                         #\n",
      "#.........................................                        #\n",
      "#..........................................                       #\n",
      "#.............SooooooooooooooooooooooooooooE                      #\n",
      "#..........................................                       #\n",
      "#.........................................                        #\n",
      "#........................................                         #\n",
      "#.......................................                          #\n",
      "#......................................                           #\n",
      "#.....................................                            #\n",
      "#....................................                             #\n",
      "#...................................                              #\n",
      "#..................................                               #\n",
      "#.................................                                #\n",
      "#................................                                 #\n",
      "###################################################################\n",
      "explored = 825, weglänge = 29\n"
     ]
    }
   ],
   "source": [
    "def showResult():\n",
    "    for t in path[:-1]:\n",
    "        x, y = t\n",
    "        grid[x][y] = 'o'\n",
    "\n",
    "    for t in explored:\n",
    "        x, y = t\n",
    "        if grid[x][y] == ' ':\n",
    "            grid[x][y] = '.'\n",
    "\n",
    "    showGrid()\n",
    "    print(\"explored = {}, weglänge = {}\".format(len(explored), weglaenge))\n",
    "    \n",
    "showResult()"
   ]
  },
  {
   "cell_type": "markdown",
   "metadata": {},
   "source": [
    "#### dfs, greedy, astar"
   ]
  },
  {
   "cell_type": "code",
   "execution_count": 109,
   "metadata": {},
   "outputs": [],
   "source": [
    "def dfs(s):\n",
    "    frontier =  [s]\n",
    "    prev = {s:None}\n",
    "    explored = set()\n",
    "    \n",
    "    while frontier:\n",
    "        state = frontier.pop()  \n",
    "        explored.add(state)\n",
    "        if goaltest(state):\n",
    "            return prev,explored\n",
    "        nxt = nextstates(state)\n",
    "        nxt.reverse()        # die linken Kinder sollen zuletzt auf den frontier-Keller\n",
    "        for v in nxt:\n",
    "            if v not in prev:\n",
    "                frontier.append(v)\n",
    "                prev[v] = state\n",
    "\n",
    "def h(state):\n",
    "    x1, y1 = state\n",
    "    x2, y2 = goalstate\n",
    "    return ((x1-x2)**2 + (y1-y2)**2)**0.5\n",
    "    \n",
    "from heapq import heappop, heappush\n",
    "def greedy(s):\n",
    "    frontier =[(h(s),s)]  \n",
    "    prev = {s:None}\n",
    "    explored = set()\n",
    "    while frontier:\n",
    "        _ ,state = heappop(frontier)  \n",
    "        explored.add(state)\n",
    "        if goaltest(state):\n",
    "            return prev,explored\n",
    "        for v in nextstates(state):\n",
    "            if v not in prev:\n",
    "                heappush(frontier,(h(v),v))\n",
    "                prev[v] = state\n",
    "\n",
    "def astar(s):\n",
    "    frontier =[(h(s),s)]  \n",
    "    prev = {s:None}\n",
    "    explored = set()\n",
    "    g = {s:0}                         # backword costs \n",
    "    while frontier:\n",
    "        _ ,state = heappop(frontier)  # die Kosten braucht man an der Stelle nicht\n",
    "        explored.add(state)\n",
    "        if goaltest(state):\n",
    "            return prev,explored\n",
    "        for v in nextstates(state):\n",
    "            if v not in prev:\n",
    "                g[v] = g[state]+1\n",
    "                heappush(frontier,(g[v]+h(v),v))\n",
    "                prev[v] = state\n"
   ]
  },
  {
   "cell_type": "code",
   "execution_count": 111,
   "metadata": {},
   "outputs": [
    {
     "name": "stdout",
     "output_type": "stream",
     "text": [
      "###################################################################\n",
      "#................................................                 #\n",
      "#.................................................                #\n",
      "#......................ooooooooooooooooooo.........               #\n",
      "#......................o#################o........                #\n",
      "#......................o#   .............o........                #\n",
      "#......................o#   .............o....#...                #\n",
      "#......................o#    ...........oo....#...                #\n",
      "#......................o#    ..........oo.....#..                 #\n",
      "#......................o#    .oooooooooo.........      #          #\n",
      "#......................o#     o####################    #          #\n",
      "#......................o#     ooooooo                  #          #\n",
      "#......................o#     ......E                  #          #\n",
      "#......................o################################.         #\n",
      "#......................o.................................         #\n",
      "#......................o..................................        #\n",
      "#......................o..................................        #\n",
      "#.....Sooooooooooooooooo...................................       #\n",
      "#.........................................................        #\n",
      "###################################################################\n",
      "explored = 789, weglänge = 75\n"
     ]
    }
   ],
   "source": [
    "with open ('data/maze02.txt') as f:   # 10 x 30\n",
    "    lines = f.read().splitlines()\n",
    "grid = [list(s) for s in lines]\n",
    "zeilen, spalten = len(grid), len(grid[0])\n",
    "startstate, goalstate = getVonBis()\n",
    "\n",
    "prev, explored = astar(startstate)          # <---- update\n",
    "\n",
    "path, weglaenge = reconstructPath(prev,goalstate)\n",
    "\n",
    "#showGrid()\n",
    "showResult()"
   ]
  },
  {
   "cell_type": "code",
   "execution_count": null,
   "metadata": {},
   "outputs": [],
   "source": []
  }
 ],
 "metadata": {
  "kernelspec": {
   "display_name": "Python 3",
   "language": "python",
   "name": "python3"
  },
  "language_info": {
   "codemirror_mode": {
    "name": "ipython",
    "version": 3
   },
   "file_extension": ".py",
   "mimetype": "text/x-python",
   "name": "python",
   "nbconvert_exporter": "python",
   "pygments_lexer": "ipython3",
   "version": "3.6.5"
  }
 },
 "nbformat": 4,
 "nbformat_minor": 2
}
