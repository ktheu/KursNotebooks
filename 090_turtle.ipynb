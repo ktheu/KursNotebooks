{
 "cells": [
  {
   "cell_type": "markdown",
   "metadata": {},
   "source": [
    "# Turtle\n",
    "\n",
    "__[PythonDoc](https://docs.python.org/3.3/library/turtle.html?highlight=turtle)__  &nbsp; &nbsp; &nbsp; &nbsp; &nbsp; __[Referenz aus Python für Kids](http://python4kids.net/downloads/py4k_cda4/turtlemodul-referenz/turtlemodul_referenz.pdf)__ &nbsp; &nbsp; &nbsp; &nbsp; &nbsp;__[Key-Namen](http://infohost.nmt.edu/tcc/help/pubs/tkinter/web/key-names.html)__\n",
    " &nbsp; &nbsp; &nbsp; &nbsp; &nbsp;__[Colorstrings](http://www.science.smith.edu/dftwiki/index.php/Color_Charts_for_TKinter)__"
   ]
  },
  {
   "cell_type": "code",
   "execution_count": null,
   "metadata": {},
   "outputs": [],
   "source": [
    "import turtle as t\n",
    "t.forward(100)   # vorwärts\n",
    "t.back(100)      # rückwärts bewegen\n",
    "t.left(90)       # links \n",
    "t.right(90)      # rechts drehen\n",
    "t.color('green') # 'red','yellow', 'blue' oder anderer colorstring   \n",
    "t.bgcolor('grey')  # Hintergrundfarbe\n",
    "\n",
    "t.penup()           \n",
    "t.pendown()\n",
    "t.pensize(5)      # Strichdicke setzen\n",
    "t.setheading(120) # Richtung setzen\n",
    "\n",
    "t.setpos(30,90)\n",
    "t.home()          # nach (0/0)\n",
    "\n",
    "t.dot(20,'red')   # roter Punkt mit Dicke 20\n",
    "t.write('Hallo')  # schreibt Hallo an Turtleposition, mehr Parameter siehe Doku\n",
    "\n",
    "t.fillcolor('red')# Füllfarbe\n",
    "t.begin_fill()    # Füllbereich konstruieren   \n",
    "t.end_fill()\n",
    "\n",
    "t.reset()         # löscht alle Zeichnungen, Turtle auf Anfangszustand\n",
    "\n",
    "t.speed(k)        # k=1 sehr langsam, 2 langsam, 6 normal, 10 schnell, 0 ganz schnell\n",
    "t.hideturtle()    # Turtle verbergen\n",
    "\n",
    "t.setup(900,700,50,50)  # Breite, Höhe und Position des Turtle-Fensters\n",
    "t.tracer(0,0)     # Animation ausschalten\n",
    "t.update()        # bei ausgeschalteter Animation Zeichnung aktualisieren       \n",
    "\n",
    "x, y = t.position()    # Position abfragen\n",
    "winkel = t.heading()   # Richtung abfragen\n",
    "breite = t.window_width()   # Breite Turtle Fenster abfragen\n",
    "hoehe = t.window_height()   # Höhe Turtle Fenster abfragen   \n",
    "\n",
    "t.onscreenclick(mouseclick)         # function mouseclick wird bei Mausklick aufgerufen\n",
    "t.onscreenclick(leftmouse,btn=1)    # function leftmouse wird bei linkem Mausklick aufgerufen\n",
    "t.onscreenclick(rightmouse,btn=3)   # function rightmouse wird bei rechtem Mausklick aufgerufen\n",
    "\n",
    "t.listen()           # Turtle hört auf Keyboard events\n",
    "t.onkey(f_key,'f')   # function f_key wird bei Taste 'f' aufgerufen\n",
    "\n",
    "t.mainloop()         # startet die Eventloop, letztes statement in einem Turtle-Programm"
   ]
  },
  {
   "cell_type": "markdown",
   "metadata": {},
   "source": [
    "#### Quadrate\n"
   ]
  },
  {
   "cell_type": "code",
   "execution_count": null,
   "metadata": {},
   "outputs": [],
   "source": [
    "import turtle as t\n",
    "\n",
    "def quadrat(x,y,laenge,randbreite=1,randfarbe='black',fuellfarbe='white'):\n",
    "    t.pensize(randbreite)\n",
    "    t.color(randfarbe)\n",
    "    t.fillcolor(fuellfarbe)\n",
    "    t.penup()\n",
    "    t.setpos(x,y)\n",
    "    t.pendown()\n",
    "    t.setheading(0)\n",
    "    t.begin_fill()\n",
    "    for i in range(4):\n",
    "        t.fd(laenge)\n",
    "        t.right(90)\n",
    "    t.end_fill()\n",
    "\n",
    "t.setup(600,400,50,50)\n",
    "\n",
    "quadrat(40,60,100)\n",
    "quadrat(-100,0,100,10,'green','blue')\n",
    "quadrat(-200,100,150,5,'red','yellow')\n",
    "    \n",
    "t.mainloop()"
   ]
  },
  {
   "cell_type": "markdown",
   "metadata": {},
   "source": [
    "![quadrate](img/turtle_01.png)"
   ]
  },
  {
   "cell_type": "markdown",
   "metadata": {},
   "source": [
    "#### Muster bei Klick\n",
    "Bei Mausklick entsteht ein Muster"
   ]
  },
  {
   "cell_type": "code",
   "execution_count": null,
   "metadata": {},
   "outputs": [],
   "source": [
    "import turtle as t\n",
    "\n",
    "def zeichne():\n",
    "    laenge = 80\n",
    "    for i in range(20):\n",
    "        t.forward(laenge)            \n",
    "        t.right(90)\n",
    "        laenge -= 2\n",
    "\n",
    "def mouseClicked(x,y):\n",
    "    t.penup()\n",
    "    t.seth(0)\n",
    "    t.setpos(x,y)\n",
    "    t.pendown()\n",
    "    zeichne()\n",
    "    \n",
    "t.speed(9)\n",
    "t.setup(600,600,50,50)\n",
    "t.onscreenclick(mouseClicked)\n",
    "t.mainloop()"
   ]
  },
  {
   "cell_type": "markdown",
   "metadata": {},
   "source": [
    "![muster](img/turtle_muster.png)"
   ]
  },
  {
   "cell_type": "markdown",
   "metadata": {},
   "source": [
    "#### Spirale \n",
    "Mit den Tasten f und h kann der Winkel verändert werden."
   ]
  },
  {
   "cell_type": "code",
   "execution_count": 2,
   "metadata": {},
   "outputs": [],
   "source": [
    "import turtle as t\n",
    "\n",
    "def f_key():\n",
    "    global winkel\n",
    "    winkel += 0.5\n",
    "    zeichne()\n",
    "\n",
    "def h_key():\n",
    "    global winkel\n",
    "    winkel -= 0.5\n",
    "    zeichne()\n",
    "\n",
    "def zeichne():\n",
    "    t.reset()\n",
    "    t.hideturtle()\n",
    "    for i in range(45):\n",
    "        t.color(colors[i%6])\n",
    "        t.pensize(i)\n",
    "        t.forward(i*5)\n",
    "        t.left(winkel)\n",
    "    t.update()\n",
    "\n",
    "t.onkey(f_key,'f')\n",
    "t.onkey(h_key,'h')\n",
    "t.listen()\n",
    "t.tracer(0,0)\n",
    "\n",
    "winkel = 40\n",
    "colors = [\"blue\", \"green\", \"purple\", \"cyan\", \"magenta\", \"violet\"]\n",
    "zeichne()\n",
    "\n",
    "t.mainloop()"
   ]
  },
  {
   "cell_type": "markdown",
   "metadata": {},
   "source": [
    "![spirale](img/turtle_spirale.png)"
   ]
  },
  {
   "cell_type": "markdown",
   "metadata": {},
   "source": [
    "#### Schreiben"
   ]
  },
  {
   "cell_type": "code",
   "execution_count": null,
   "metadata": {},
   "outputs": [],
   "source": [
    "import turtle as t\n",
    "\n",
    "t.speed(1)\n",
    "t.setup(400,200)\n",
    "t.penup()\n",
    "t.setpos(-150,0)\n",
    "t.pendown()\n",
    "\n",
    "for i in range(0,10):\n",
    "   t.write(i)\n",
    "   t.penup()\n",
    "   t.forward(20)\n",
    "\n",
    "t.mainloop()"
   ]
  },
  {
   "cell_type": "markdown",
   "metadata": {},
   "source": [
    "![schreiben](img/turtle_schreiben.png)"
   ]
  }
 ],
 "metadata": {
  "kernelspec": {
   "display_name": "Python 3",
   "language": "python",
   "name": "python3"
  },
  "language_info": {
   "codemirror_mode": {
    "name": "ipython",
    "version": 3
   },
   "file_extension": ".py",
   "mimetype": "text/x-python",
   "name": "python",
   "nbconvert_exporter": "python",
   "pygments_lexer": "ipython3",
   "version": "3.6.5"
  }
 },
 "nbformat": 4,
 "nbformat_minor": 2
}
