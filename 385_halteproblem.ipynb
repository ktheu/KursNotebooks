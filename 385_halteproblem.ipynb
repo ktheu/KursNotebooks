{
 "cells": [
  {
   "cell_type": "markdown",
   "metadata": {},
   "source": [
    "## Das Halteproblem"
   ]
  },
  {
   "cell_type": "markdown",
   "metadata": {},
   "source": [
    "Das *Halteproblem* ist die Frage, ob ein Algorithmus zu einem Ende gelangt.\n",
    "\n",
    "Das Halteproblem ist **algorithmisch nicht entscheidbar**. D.h. es \n",
    "gibt keinen Algorithmus, der dies für alle Algorithmen und beliebige Eingaben entscheiden kann.  \n",
    "\n",
    " "
   ]
  },
  {
   "cell_type": "markdown",
   "metadata": {},
   "source": [
    "```\n",
    "def haltetest(pgm,inp):\n",
    "   # returned True, wenn pgm angesetzt auf inp hält\n",
    "   # sonst False    \n",
    "   \n",
    "def quer(x):\n",
    "   if haltetest(x,x):\n",
    "       while True: pass\n",
    "```\n",
    "\n",
    "Annahme: es gäbe eine eine Funktion *haltetest*, die das Halteproblem löst. Die Frage, ob *quer(quer)* hält, führt dann zum Widerspruch. "
   ]
  },
  {
   "cell_type": "markdown",
   "metadata": {},
   "source": [
    "### Das Postsche Korrespondenzproblem (PKP)\n",
    "\n",
    "Gegeben sind endliche viele Typen von Dominosteinen auf denen oben und unten ein Wort (z.B. 01-Folge) aufgedruckt ist.\n",
    "Von jedem Typ stehen beliebig viele Steine zur Verfügung. Kann man eine Folge von Dominosteine finden, so dass sich oben und\n",
    "unten das gleiche Gesamtwort ergibt?"
   ]
  },
  {
   "cell_type": "markdown",
   "metadata": {},
   "source": [
    "Beispiel 1: \n",
    "```\n",
    "1: (1,101), 2: (10,00), 3: (011,11)\n",
    "Mit der Folge 1,3,2,3 ergbit sich oben und unten: 101110011\n",
    "```\n",
    "\n",
    "Beispiel 2:\n",
    "```\n",
    "1: (001,0), 2: (01,011), 3: (01,101), 4: (10,001)\n",
    "Die Lösungsfolge hat die Länge 66\n",
    "\n",
    "```"
   ]
  },
  {
   "cell_type": "markdown",
   "metadata": {},
   "source": [
    "Es gibt keinen Algorithmus, der für beliebige PKP-Instanzen entscheiden kann, ob es eine Lösung gibt."
   ]
  },
  {
   "cell_type": "markdown",
   "metadata": {},
   "source": [
    "### Wie viele Probleme sind algorithmisch nicht lösbar?"
   ]
  },
  {
   "cell_type": "markdown",
   "metadata": {},
   "source": [
    "Jeder Algorithmus ist eine endliche Folge von Zeichen, die als binäre Zahl interpretiert werden kann.\n",
    "d.h. es gibt höchstens so viele Algorithmen wie es natürliche Zahlen gibt: abzählbar unendlich viele.  \n",
    "\n",
    "Betrachte die Menge der Entscheidungsprobleme, die jeder natürlichen Zahl entweder 1 oder 0 zuordnet (JA/NEIN). Davon gibt es so viele, wie es Teilmengen von natürlichen Zahlen gibt, also überabzählbar unendlich viele.  \n",
    "\n",
    "Die Menge der Algorithmen ist so groß wie $\\mathbb{N}$.  \n",
    "Die Menge der Entscheidungsprobleme ist so groß wie $\\mathbb{R}$.\n",
    "\n",
    "Also: Für fast alle Entscheidungsprobleme gibt es keine Algorithmen."
   ]
  }
 ],
 "metadata": {
  "kernelspec": {
   "display_name": "Python 3",
   "language": "python",
   "name": "python3"
  },
  "language_info": {
   "codemirror_mode": {
    "name": "ipython",
    "version": 3
   },
   "file_extension": ".py",
   "mimetype": "text/x-python",
   "name": "python",
   "nbconvert_exporter": "python",
   "pygments_lexer": "ipython3",
   "version": "3.6.5"
  }
 },
 "nbformat": 4,
 "nbformat_minor": 2
}
