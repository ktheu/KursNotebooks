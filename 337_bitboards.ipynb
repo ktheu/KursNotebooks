{
 "cells": [
  {
   "cell_type": "markdown",
   "metadata": {},
   "source": [
    "## Bitboards\n",
    "\n",
    "Literatur: [Bitboard Methods for Games](./data/bitboard_methods_for_games.pdf)\n"
   ]
  },
  {
   "cell_type": "markdown",
   "metadata": {},
   "source": [
    "#### Beispiel 1:\n",
    "Ein 5x5 quadratisches Bitboard mit Trennspalte an der rechten Seite"
   ]
  },
  {
   "cell_type": "code",
   "execution_count": 2,
   "metadata": {},
   "outputs": [
    {
     "data": {
      "text/plain": [
       "array([[1, 1, 1, 1, 1, 0],\n",
       "       [1, 1, 1, 1, 1, 0],\n",
       "       [1, 1, 1, 1, 1, 0],\n",
       "       [1, 1, 1, 1, 1, 0],\n",
       "       [1, 1, 1, 1, 1, 0]])"
      ]
     },
     "execution_count": 2,
     "metadata": {},
     "output_type": "execute_result"
    }
   ],
   "source": [
    "import numpy as np\n",
    " \n",
    "bb = np.ones((5, 6), dtype = int)\n",
    "bb[:,5] = 0\n",
    "bb"
   ]
  },
  {
   "cell_type": "code",
   "execution_count": 3,
   "metadata": {},
   "outputs": [],
   "source": [
    "def bz(a):\n",
    "    return int(''.join([str(x) for x in a.flatten()]),2)\n",
    "\n",
    "def board(k):\n",
    "    bs = bin(k)[2:]\n",
    "    bs = bs.rjust(30,'0')\n",
    "    bs = bs[len(bs)-30:]\n",
    "    i, j = 0, 0\n",
    "    tmp = np.zeros((5, 6), dtype = int)\n",
    "    for c in bs:\n",
    "        tmp[i,j] = int(c)\n",
    "        j = j+1\n",
    "        if j > 5:\n",
    "            j = 0\n",
    "            i = i+1\n",
    "    return tmp"
   ]
  },
  {
   "cell_type": "code",
   "execution_count": 4,
   "metadata": {},
   "outputs": [
    {
     "data": {
      "text/plain": [
       "array([[1, 1, 1, 1, 1, 0],\n",
       "       [1, 1, 1, 1, 1, 0],\n",
       "       [1, 1, 1, 1, 1, 0],\n",
       "       [1, 1, 1, 1, 1, 0],\n",
       "       [1, 1, 1, 1, 1, 0]])"
      ]
     },
     "execution_count": 4,
     "metadata": {},
     "output_type": "execute_result"
    }
   ],
   "source": [
    "k = bz(bb)\n",
    "board(k)"
   ]
  },
  {
   "cell_type": "markdown",
   "metadata": {},
   "source": [
    "#### Namenskonventionen\n",
    "\n",
    "```\n",
    "bitsw = weiße Figuren\n",
    "bitsb = schwarze Figuren\n",
    "bitsp = Figuren des aktuellen Spielers\n",
    "bitso = Figuren des aktuell oppositionellen Spielers\n",
    "bitsm = die Zelle, die Ausgangspunkt des letzten Zugs war\n",
    "mask =  alle Zellen, die auf dem zum Spielbrett gehören (also alle außer der Trennspalte)\n",
    "maskw = alle weißen Zellen eines dameartigen Bretts\n",
    "maskb = alle schwarzen Zellen eines dameartigen Bretts\n",
    "|bits| = Anzahl 1er in bits\n",
    "full = bitsw | bitsb = alle Figuren\n",
    "empty = !full & mask = alle unbesetzten Zellen\n",
    "emptyp = alle vom aktuellen Spieler nicht besetzten Zellen\n",
    "emptyo = all vom aktuell oppositionellen Spieler nicht besetzten Zellen\n",
    "```\n",
    "\n"
   ]
  },
  {
   "cell_type": "markdown",
   "metadata": {},
   "source": [
    "#### Beispiel Onitama:"
   ]
  },
  {
   "cell_type": "code",
   "execution_count": 5,
   "metadata": {},
   "outputs": [
    {
     "data": {
      "text/plain": [
       "1056698302"
      ]
     },
     "execution_count": 5,
     "metadata": {},
     "output_type": "execute_result"
    }
   ],
   "source": [
    "# Alle Felder des Bretts\n",
    "mask = np.ones((5, 6), dtype = int)\n",
    "mask[:,5] = 0\n",
    "mask = bz(mask)\n",
    "mask"
   ]
  },
  {
   "cell_type": "code",
   "execution_count": 6,
   "metadata": {},
   "outputs": [
    {
     "name": "stdout",
     "output_type": "stream",
     "text": [
      "62\n",
      "[[0 0 0 0 0 0]\n",
      " [0 0 0 0 0 0]\n",
      " [0 0 0 0 0 0]\n",
      " [0 0 0 0 0 0]\n",
      " [1 1 1 1 1 0]]\n"
     ]
    }
   ],
   "source": [
    "# Ausgangsposition für weiß \n",
    "bitsw = np.zeros((5,6), dtype = int)\n",
    "bitsw[4,0:5] = 1\n",
    "bitsw = bz(bitsw)\n",
    "print(bitsw)\n",
    "print(board(bitsw))\n",
    " "
   ]
  },
  {
   "cell_type": "code",
   "execution_count": 7,
   "metadata": {},
   "outputs": [
    {
     "name": "stdout",
     "output_type": "stream",
     "text": [
      "1040187392\n",
      "[[1 1 1 1 1 0]\n",
      " [0 0 0 0 0 0]\n",
      " [0 0 0 0 0 0]\n",
      " [0 0 0 0 0 0]\n",
      " [0 0 0 0 0 0]]\n"
     ]
    }
   ],
   "source": [
    "# Ausgangsposition für schwarz \n",
    "bitsb = np.zeros((5,6), dtype = int)\n",
    "bitsb[0,0:5] = 1\n",
    "bitsb = bz(bitsb)\n",
    "print(bitsb)\n",
    "print(board(bitsb))"
   ]
  },
  {
   "cell_type": "code",
   "execution_count": 8,
   "metadata": {},
   "outputs": [
    {
     "name": "stdout",
     "output_type": "stream",
     "text": [
      "1040187454\n",
      "[[1 1 1 1 1 0]\n",
      " [0 0 0 0 0 0]\n",
      " [0 0 0 0 0 0]\n",
      " [0 0 0 0 0 0]\n",
      " [1 1 1 1 1 0]]\n"
     ]
    }
   ],
   "source": [
    "# alle Figuren\n",
    "full = bitsw | bitsb\n",
    "print(full)\n",
    "print(board(full))\n",
    " "
   ]
  },
  {
   "cell_type": "code",
   "execution_count": 9,
   "metadata": {},
   "outputs": [
    {
     "name": "stdout",
     "output_type": "stream",
     "text": [
      "16510848\n"
     ]
    },
    {
     "data": {
      "text/plain": [
       "array([[0, 0, 0, 0, 0, 0],\n",
       "       [1, 1, 1, 1, 1, 0],\n",
       "       [1, 1, 1, 1, 1, 0],\n",
       "       [1, 1, 1, 1, 1, 0],\n",
       "       [0, 0, 0, 0, 0, 0]])"
      ]
     },
     "execution_count": 9,
     "metadata": {},
     "output_type": "execute_result"
    }
   ],
   "source": [
    "# alle leeren Felder\n",
    "empty = ~full & mask\n",
    "print(empty)\n",
    "board(empty)\n"
   ]
  },
  {
   "cell_type": "markdown",
   "metadata": {},
   "source": [
    "#### Logische Operationen"
   ]
  },
  {
   "cell_type": "code",
   "execution_count": 10,
   "metadata": {},
   "outputs": [
    {
     "data": {
      "text/plain": [
       "array([[0, 0, 0, 0, 0, 0],\n",
       "       [1, 0, 0, 1, 0, 0],\n",
       "       [0, 0, 0, 0, 0, 0],\n",
       "       [0, 0, 0, 0, 0, 0],\n",
       "       [0, 0, 0, 0, 0, 0]])"
      ]
     },
     "execution_count": 10,
     "metadata": {},
     "output_type": "execute_result"
    }
   ],
   "source": [
    "# union |\n",
    "a = np.zeros((5,6), dtype = int)\n",
    "a[1,0] = 1\n",
    "a = bz(a)\n",
    "b = np.zeros((5,6), dtype = int)\n",
    "b[1,3] = 1\n",
    "b = bz(b)\n",
    "board(a | b)"
   ]
  },
  {
   "cell_type": "code",
   "execution_count": 11,
   "metadata": {},
   "outputs": [
    {
     "data": {
      "text/plain": [
       "array([[1, 1, 1, 1, 1, 0],\n",
       "       [0, 1, 1, 1, 1, 0],\n",
       "       [1, 1, 1, 1, 1, 0],\n",
       "       [1, 1, 1, 1, 1, 0],\n",
       "       [1, 1, 1, 1, 1, 0]])"
      ]
     },
     "execution_count": 11,
     "metadata": {},
     "output_type": "execute_result"
    }
   ],
   "source": [
    "# Komplement\n",
    "board(~a & mask)"
   ]
  },
  {
   "cell_type": "code",
   "execution_count": 12,
   "metadata": {},
   "outputs": [
    {
     "data": {
      "text/plain": [
       "array([[0, 0, 1, 0, 0, 0],\n",
       "       [0, 0, 1, 0, 0, 0],\n",
       "       [1, 1, 0, 1, 1, 1],\n",
       "       [0, 0, 1, 0, 0, 0],\n",
       "       [0, 0, 1, 0, 0, 0]])"
      ]
     },
     "execution_count": 12,
     "metadata": {},
     "output_type": "execute_result"
    }
   ],
   "source": [
    "# exclusive or\n",
    "a = np.zeros((5,6), dtype = int)\n",
    "b = np.zeros((5,6), dtype = int)\n",
    "a[2,:] = 1\n",
    "b[:,2] = 1\n",
    "a, b = bz(a), bz(b)\n",
    "board(a ^ b)"
   ]
  },
  {
   "cell_type": "code",
   "execution_count": 13,
   "metadata": {},
   "outputs": [
    {
     "data": {
      "text/plain": [
       "array([[0, 0, 0, 0, 0, 0],\n",
       "       [0, 0, 0, 0, 0, 0],\n",
       "       [0, 0, 1, 0, 0, 0],\n",
       "       [0, 0, 0, 0, 0, 0],\n",
       "       [0, 0, 0, 0, 0, 0]])"
      ]
     },
     "execution_count": 13,
     "metadata": {},
     "output_type": "execute_result"
    }
   ],
   "source": [
    "# intersection\n",
    "board(a & b)"
   ]
  },
  {
   "cell_type": "markdown",
   "metadata": {},
   "source": [
    "#### Morphologische Operationen\n",
    "\n",
    "#### Dilation"
   ]
  },
  {
   "cell_type": "code",
   "execution_count": 14,
   "metadata": {},
   "outputs": [
    {
     "data": {
      "text/plain": [
       "array([[0, 0, 0, 0, 0, 0],\n",
       "       [0, 0, 0, 0, 0, 0],\n",
       "       [0, 0, 1, 0, 0, 0],\n",
       "       [0, 0, 0, 0, 0, 0],\n",
       "       [0, 0, 0, 0, 0, 0]])"
      ]
     },
     "execution_count": 14,
     "metadata": {},
     "output_type": "execute_result"
    }
   ],
   "source": [
    "a = np.zeros((5,6), dtype = int)\n",
    "a[2,2] = 1\n",
    "a = bz(a)\n",
    "board(a)"
   ]
  },
  {
   "cell_type": "code",
   "execution_count": 15,
   "metadata": {},
   "outputs": [
    {
     "data": {
      "text/plain": [
       "array([[0, 0, 0, 0, 0, 0],\n",
       "       [0, 0, 0, 0, 0, 0],\n",
       "       [0, 0, 1, 1, 0, 0],\n",
       "       [0, 0, 0, 0, 0, 0],\n",
       "       [0, 0, 0, 0, 0, 0]])"
      ]
     },
     "execution_count": 15,
     "metadata": {},
     "output_type": "execute_result"
    }
   ],
   "source": [
    "board(a | a >> 1)"
   ]
  },
  {
   "cell_type": "code",
   "execution_count": 16,
   "metadata": {},
   "outputs": [
    {
     "data": {
      "text/plain": [
       "array([[0, 0, 0, 0, 0, 0],\n",
       "       [0, 0, 1, 0, 0, 0],\n",
       "       [0, 1, 1, 1, 0, 0],\n",
       "       [0, 0, 1, 0, 0, 0],\n",
       "       [0, 0, 0, 0, 0, 0]])"
      ]
     },
     "execution_count": 16,
     "metadata": {},
     "output_type": "execute_result"
    }
   ],
   "source": [
    "# die vier richtungen von der mitte aus\n",
    "board(a | a << 1 | a >> 1 | a >> 6 | a << 6)"
   ]
  },
  {
   "cell_type": "code",
   "execution_count": 21,
   "metadata": {},
   "outputs": [
    {
     "data": {
      "text/plain": [
       "array([[0, 0, 0, 0, 0, 0],\n",
       "       [1, 0, 0, 0, 0, 1],\n",
       "       [1, 1, 0, 0, 0, 0],\n",
       "       [1, 0, 0, 0, 0, 0],\n",
       "       [0, 0, 0, 0, 0, 0]])"
      ]
     },
     "execution_count": 21,
     "metadata": {},
     "output_type": "execute_result"
    }
   ],
   "source": [
    "# die vier richtungen von der linken Seite aus\n",
    "a = np.zeros((5,6), dtype = int)\n",
    "a[2,0] = 1\n",
    "a = bz(a)\n",
    "board(a | a << 1 | a >> 1 | a >> 6 | a << 6)"
   ]
  },
  {
   "cell_type": "code",
   "execution_count": 22,
   "metadata": {},
   "outputs": [
    {
     "data": {
      "text/plain": [
       "array([[0, 0, 0, 0, 0, 0],\n",
       "       [0, 0, 0, 0, 1, 0],\n",
       "       [0, 0, 0, 1, 1, 1],\n",
       "       [0, 0, 0, 0, 1, 0],\n",
       "       [0, 0, 0, 0, 0, 0]])"
      ]
     },
     "execution_count": 22,
     "metadata": {},
     "output_type": "execute_result"
    }
   ],
   "source": [
    "# die vier richtungen von der rechten Seite aus\n",
    "a = np.zeros((5,6), dtype = int)\n",
    "a[2,4] = 1\n",
    "a = bz(a)\n",
    "board(a | a << 1 | a >> 1 | a >> 6 | a << 6)"
   ]
  },
  {
   "cell_type": "code",
   "execution_count": 23,
   "metadata": {},
   "outputs": [
    {
     "data": {
      "text/plain": [
       "array([[0, 1, 1, 1, 0, 0],\n",
       "       [0, 0, 1, 0, 0, 0],\n",
       "       [0, 0, 0, 0, 0, 0],\n",
       "       [0, 0, 0, 0, 0, 0],\n",
       "       [0, 0, 0, 0, 0, 0]])"
      ]
     },
     "execution_count": 23,
     "metadata": {},
     "output_type": "execute_result"
    }
   ],
   "source": [
    "# die vier richtungen von der ersten Zeile aus\n",
    "a = np.zeros((5,6), dtype = int)\n",
    "a[0,2] = 1\n",
    "a = bz(a)\n",
    "board(a | a << 1 | a >> 1 | a >> 6 | a << 6)"
   ]
  },
  {
   "cell_type": "code",
   "execution_count": 24,
   "metadata": {},
   "outputs": [
    {
     "data": {
      "text/plain": [
       "array([[0, 0, 0, 0, 0, 0],\n",
       "       [0, 0, 0, 0, 0, 0],\n",
       "       [0, 0, 0, 0, 0, 0],\n",
       "       [0, 0, 1, 0, 0, 0],\n",
       "       [0, 1, 1, 1, 0, 0]])"
      ]
     },
     "execution_count": 24,
     "metadata": {},
     "output_type": "execute_result"
    }
   ],
   "source": [
    "# die vier richtungen von der letzten Zeile aus\n",
    "a = np.zeros((5,6), dtype = int)\n",
    "a[4,2] = 1\n",
    "a = bz(a)\n",
    "board(a | a << 1 | a >> 1 | a >> 6 | a << 6)"
   ]
  },
  {
   "cell_type": "code",
   "execution_count": 25,
   "metadata": {},
   "outputs": [
    {
     "data": {
      "text/plain": [
       "array([[1, 1, 0, 0, 0, 0],\n",
       "       [1, 0, 0, 0, 0, 0],\n",
       "       [0, 0, 0, 0, 0, 0],\n",
       "       [0, 0, 0, 0, 0, 0],\n",
       "       [0, 0, 0, 0, 0, 0]])"
      ]
     },
     "execution_count": 25,
     "metadata": {},
     "output_type": "execute_result"
    }
   ],
   "source": [
    "# die vier richtungen von oben links aus\n",
    "a = np.zeros((5,6), dtype = int)\n",
    "a[0,0] = 1\n",
    "a = bz(a)\n",
    "board(a | a << 1 | a >> 1 | a >> 6 | a << 6)"
   ]
  },
  {
   "cell_type": "code",
   "execution_count": 26,
   "metadata": {},
   "outputs": [
    {
     "data": {
      "text/plain": [
       "array([[0, 0, 0, 0, 0, 0],\n",
       "       [0, 0, 0, 0, 0, 0],\n",
       "       [0, 0, 0, 0, 0, 0],\n",
       "       [0, 0, 0, 0, 1, 0],\n",
       "       [0, 0, 0, 1, 1, 1]])"
      ]
     },
     "execution_count": 26,
     "metadata": {},
     "output_type": "execute_result"
    }
   ],
   "source": [
    "# die vier richtungen von unten rechts aus\n",
    "a = np.zeros((5,6), dtype = int)\n",
    "a[4,4] = 1\n",
    "a = bz(a)\n",
    "board(a | a << 1 | a >> 1 | a >> 6 | a << 6)"
   ]
  },
  {
   "cell_type": "code",
   "execution_count": 27,
   "metadata": {},
   "outputs": [
    {
     "data": {
      "text/plain": [
       "array([[0, 0, 0, 0, 0, 0],\n",
       "       [0, 1, 0, 1, 0, 0],\n",
       "       [1, 1, 1, 1, 1, 0],\n",
       "       [0, 1, 0, 1, 0, 0],\n",
       "       [0, 0, 0, 0, 0, 0]])"
      ]
     },
     "execution_count": 27,
     "metadata": {},
     "output_type": "execute_result"
    }
   ],
   "source": [
    "# dilation mit mehreren Zellen\n",
    "a = np.zeros((5,6), dtype = int)\n",
    "a[2,1] = 1\n",
    "a[2,3] = 1\n",
    "a = bz(a)\n",
    "board(a | a << 1 | a >> 1 | a >> 6 | a << 6)"
   ]
  },
  {
   "cell_type": "code",
   "execution_count": 62,
   "metadata": {},
   "outputs": [],
   "source": [
    "def dilation(a):\n",
    "    return a | a << 1 | a >> 1 | a >> 6 | a << 6"
   ]
  },
  {
   "cell_type": "markdown",
   "metadata": {},
   "source": [
    "#### Erosion\n",
    "\n",
    "Die Null dehnt sich nach rechts aus. Aber hier müsste wohl die obere Zeile auch eine Begrenzung sein. Etwas unklar"
   ]
  },
  {
   "cell_type": "code",
   "execution_count": 61,
   "metadata": {},
   "outputs": [
    {
     "name": "stdout",
     "output_type": "stream",
     "text": [
      "[[1 1 1 1 1 1]\n",
      " [1 1 1 1 1 1]\n",
      " [1 0 1 1 1 1]\n",
      " [1 1 1 1 1 1]\n",
      " [1 1 1 1 1 1]]\n",
      "\n",
      "[[0 1 1 1 1 1]\n",
      " [1 1 1 1 1 1]\n",
      " [1 0 0 1 1 1]\n",
      " [1 1 1 1 1 1]\n",
      " [1 1 1 1 1 1]]\n"
     ]
    }
   ],
   "source": [
    "a = np.ones((5,6), dtype = int)\n",
    "\n",
    "a[2,1]=0\n",
    "a = bz(a)\n",
    "print(board(a))\n",
    "print()\n",
    "b = a & a >> 1\n",
    "print(board(b))"
   ]
  },
  {
   "cell_type": "markdown",
   "metadata": {},
   "source": [
    " ### Algorithmen\n",
    " \n",
    " Filter, Queries und Updates"
   ]
  },
  {
   "cell_type": "code",
   "execution_count": 69,
   "metadata": {},
   "outputs": [],
   "source": [
    "def getbz(aList):\n",
    "    ''' aList = Liste von Koordinaten-Tupels\n",
    "    returns: bitzahl für das entsprechende board'''\n",
    "    tmp = np.zeros((5,6), dtype = int)\n",
    "    for x,y in aList:\n",
    "        tmp[x,y] = 1\n",
    "    return bz(tmp)\n",
    "        \n",
    "    \n",
    "    "
   ]
  },
  {
   "cell_type": "markdown",
   "metadata": {},
   "source": [
    "### Filter\n",
    "\n",
    "Filter lesen ein Bitboard und erzeugen neue Bitboards, z.B. die gültigen Züge (mein Fall!)\n",
    "\n",
    "#### Nachbar Filter"
   ]
  },
  {
   "cell_type": "code",
   "execution_count": 70,
   "metadata": {},
   "outputs": [
    {
     "data": {
      "text/plain": [
       "array([[0, 0, 0, 0, 0, 0],\n",
       "       [1, 1, 1, 1, 1, 0],\n",
       "       [0, 0, 0, 0, 0, 0],\n",
       "       [1, 1, 1, 1, 1, 0],\n",
       "       [0, 0, 0, 0, 0, 0]])"
      ]
     },
     "execution_count": 70,
     "metadata": {},
     "output_type": "execute_result"
    }
   ],
   "source": [
    "# die Nachbarfelder aller Figuren\n",
    "a = dilation(full) & empty\n",
    "board(a)"
   ]
  },
  {
   "cell_type": "code",
   "execution_count": 91,
   "metadata": {},
   "outputs": [
    {
     "name": "stdout",
     "output_type": "stream",
     "text": [
      "[[1 0 0 0 0 0]\n",
      " [0 1 1 0 0 0]\n",
      " [0 0 0 0 0 0]\n",
      " [1 0 0 0 1 0]\n",
      " [0 1 0 0 0 0]]\n",
      "\n",
      "[[0 1 1 0 0 0]\n",
      " [1 0 0 1 0 0]\n",
      " [1 1 1 0 1 0]\n",
      " [0 1 0 1 0 0]\n",
      " [1 0 1 0 1 0]]\n"
     ]
    }
   ],
   "source": [
    "b = [(0,0),(1,1),(1,2)]\n",
    "w = [(3,0),(4,1),(3,4)]\n",
    "bitsw = getbz(w)\n",
    "bitsb= getbz(b)\n",
    "full = bitsw | bitsb\n",
    "print(board(full))\n",
    "print()\n",
    "empty = ~full & mask\n",
    "a = dilation(full) & empty  # alle leeren Nachbarfelder\n",
    "print(board(a))\n"
   ]
  },
  {
   "cell_type": "code",
   "execution_count": 107,
   "metadata": {},
   "outputs": [
    {
     "name": "stdout",
     "output_type": "stream",
     "text": [
      "[[0 0 0 0 0 0]\n",
      " [0 0 0 0 0 0]\n",
      " [0 0 0 0 0 0]\n",
      " [1 0 0 0 1 0]\n",
      " [0 1 0 0 0 0]]\n",
      "\n",
      "[[0 0 0 0 0 0]\n",
      " [0 0 0 0 0 0]\n",
      " [1 0 0 0 1 0]\n",
      " [0 1 0 0 0 0]\n",
      " [0 0 0 0 0 0]]\n",
      "\n",
      "[[0 0 0 0 0 0]\n",
      " [0 0 0 0 0 0]\n",
      " [0 0 0 0 0 0]\n",
      " [0 1 0 0 0 0]\n",
      " [0 0 1 0 0 0]]\n",
      "\n",
      "[[0 0 0 0 0 0]\n",
      " [0 0 0 0 0 0]\n",
      " [0 0 0 0 0 0]\n",
      " [0 0 0 0 0 0]\n",
      " [1 0 0 0 1 0]]\n",
      "\n",
      "[[0 0 0 0 0 0]\n",
      " [0 0 0 0 0 0]\n",
      " [0 0 0 0 0 0]\n",
      " [0 0 0 1 0 0]\n",
      " [1 0 0 0 0 0]]\n",
      "\n"
     ]
    }
   ],
   "source": [
    "def dirs(a):\n",
    "    '''N, E, S, W'''\n",
    "    tmp = [a << 6, a >> 1, a >> 6, a << 1]\n",
    "    return tmp\n",
    "\n",
    "# die Nachbarfelder des weißen Spielers in nördlicher Richtung:\n",
    "print(board(bitsw))\n",
    "print()\n",
    "\n",
    "for d in dirs(bitsw):\n",
    "    print(board(d & empty))\n",
    "    print()\n",
    "    "
   ]
  },
  {
   "cell_type": "markdown",
   "metadata": {},
   "source": [
    "## Onitama\n",
    "Aufgabe 1: Gegeben die weißen Figuren in Grundstellung. Generiere alle Nachfolgestellungen für weiß bei Karte 9:\n",
    "\n",
    "```\n",
    ". . x\n",
    "x o .\n",
    ". . x\n",
    "\n",
    "```\n"
   ]
  },
  {
   "cell_type": "code",
   "execution_count": 109,
   "metadata": {},
   "outputs": [
    {
     "name": "stdout",
     "output_type": "stream",
     "text": [
      "[[0 0 0 0 0 0]\n",
      " [0 0 0 0 0 0]\n",
      " [0 0 0 0 0 0]\n",
      " [0 0 0 0 0 1]\n",
      " [0 0 0 0 0 0]]\n",
      "\n",
      "[[0 0 0 0 0 0]\n",
      " [0 0 0 0 0 0]\n",
      " [0 0 0 0 0 0]\n",
      " [1 0 0 0 0 0]\n",
      " [0 0 0 0 0 0]]\n",
      "\n",
      "[[0 0 0 0 0 0]\n",
      " [0 0 0 0 0 0]\n",
      " [0 0 0 0 0 0]\n",
      " [0 0 0 0 0 0]\n",
      " [0 0 0 0 0 0]]\n",
      "\n"
     ]
    }
   ],
   "source": [
    "dirs = {}\n",
    "\n",
    "def ns(e, id):\n",
    "    ''' e bitboard einer Position'''\n",
    "    if id == 9:\n",
    "        return [e << 1, e << 6, e >> 8]\n",
    "        \n",
    "\n",
    "a = np.zeros((5,6), dtype = int)\n",
    "a[4,0] = 1\n",
    "a = bz(a)\n",
    "for x in ns(a,9):\n",
    "    print(board(x))\n",
    "    print()"
   ]
  },
  {
   "cell_type": "code",
   "execution_count": null,
   "metadata": {},
   "outputs": [],
   "source": []
  }
 ],
 "metadata": {
  "kernelspec": {
   "display_name": "Python 3",
   "language": "python",
   "name": "python3"
  },
  "language_info": {
   "codemirror_mode": {
    "name": "ipython",
    "version": 3
   },
   "file_extension": ".py",
   "mimetype": "text/x-python",
   "name": "python",
   "nbconvert_exporter": "python",
   "pygments_lexer": "ipython3",
   "version": "3.7.4"
  }
 },
 "nbformat": 4,
 "nbformat_minor": 4
}
