{
 "cells": [
  {
   "cell_type": "markdown",
   "metadata": {},
   "source": [
    "![aufgabe](img/autokennzeichen.png)"
   ]
  },
  {
   "cell_type": "markdown",
   "metadata": {},
   "source": [
    "[kuerzelliste](data/kuerzelliste.txt)\n",
    "\n",
    "Beispiele für die Eingabe:"
   ]
  },
  {
   "cell_type": "code",
   "execution_count": null,
   "metadata": {},
   "outputs": [],
   "source": [
    "BIBER\n",
    "BUNDESWETTBEWERB\n",
    "CLINTON\n",
    "DONAUDAMPFSCHIFFFAHRTSKAPITÄNSMÜTZE\n",
    "ETHERNET\n",
    "INFORMATIK\n",
    "LLANFAIRPWLLGWYNGYLLGOGERYCHWYRNDROBWLLLLANTYSILIOGOGOGOCH\n",
    "RINDFLEISCHETIKETTIERUNGSÜBERWACHUNGSAUFGABENÜBERTRAGUNGSGESETZ\n",
    "SOFTWARE\n",
    "TRUMP\n",
    "TSCHÜSS\n",
    "VERKEHRSWEGEPLANUNGSBESCHLEUNIGUNGSGESETZ"
   ]
  },
  {
   "cell_type": "markdown",
   "metadata": {},
   "source": [
    "\n",
    "<hr>\n",
    "#### Aufgabe:"
   ]
  },
  {
   "cell_type": "markdown",
   "metadata": {},
   "source": [
    "![rotation](img/rotation.png)"
   ]
  },
  {
   "cell_type": "markdown",
   "metadata": {},
   "source": [
    "![format](img/rotation_aufgabenformat.png)"
   ]
  },
  {
   "cell_type": "markdown",
   "metadata": {},
   "source": [
    "[rotation1](data/rotation1_03.txt) &nbsp;&nbsp;&nbsp; [rotation2](data/rotation2_03.txt)  &nbsp;&nbsp;&nbsp; [rotation3](data/rotation3_03.txt)"
   ]
  }
 ],
 "metadata": {
  "kernelspec": {
   "display_name": "Python 3",
   "language": "python",
   "name": "python3"
  },
  "language_info": {
   "codemirror_mode": {
    "name": "ipython",
    "version": 3
   },
   "file_extension": ".py",
   "mimetype": "text/x-python",
   "name": "python",
   "nbconvert_exporter": "python",
   "pygments_lexer": "ipython3",
   "version": "3.6.5"
  }
 },
 "nbformat": 4,
 "nbformat_minor": 2
}
