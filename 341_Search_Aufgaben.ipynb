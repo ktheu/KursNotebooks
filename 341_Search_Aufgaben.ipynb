{
 "cells": [
  {
   "cell_type": "markdown",
   "metadata": {},
   "source": [
    "[kuerzelliste](data/kuerzelliste)"
   ]
  },
  {
   "cell_type": "code",
   "execution_count": 4,
   "metadata": {},
   "outputs": [],
   "source": [
    "def readdata():\n",
    "    with open('data/kuerzelliste.txt') as f:\n",
    "        kuerzel = f.read().splitlines() \n",
    "    return kuerzel"
   ]
  },
  {
   "cell_type": "markdown",
   "metadata": {},
   "source": [
    "Ein Knoten im Baum ist ein Tupel\n",
    "```\n",
    "status = (wort, nr)\n",
    "wort: String, der noch zu verteilenden Buchstaben\n",
    "nr: 0 oder 1,\n",
    "    0 = als nächstes ist die vordere Position des Nummerzeichens dran (kuerzelliste)\n",
    "    1 = als nächstes ist die mittlere Position des Nummernzeichens dran (1 oder 2 Buchstaben)\n",
    "```    \n",
    "\n",
    "Wir starten mit z.B: \n",
    "``` ('BUNDESWETTBEWERB',0)```. \n",
    "\n",
    "Der gewünschte Zielstatus ist ```('', 0)```.\n",
    "\n",
    "Der Pfad vom Zielstatus zurück zum Start könnte z.B. so aussehen:"
   ]
  },
  {
   "cell_type": "code",
   "execution_count": null,
   "metadata": {},
   "outputs": [],
   "source": [
    "('', 0)\n",
    "('RB', 1)\n",
    "('WERB', 0)              # WE-RB-106\n",
    "('EWERB', 1)\n",
    "('BEWERB', 0)            # B-E-105\n",
    "('TTBEWERB', 1)\n",
    "('WETTBEWERB', 0)        # WE-TT-104\n",
    "('SWETTBEWERB', 1)\n",
    "('ESWETTBEWERB', 0)      # E-S-103\n",
    "('DESWETTBEWERB', 1)\n",
    "('NDESWETTBEWERB', 0)    # N-D-102\n",
    "('UNDESWETTBEWERB', 1)\n",
    "('BUNDESWETTBEWERB', 0)  # B-U-101\n"
   ]
  },
  {
   "cell_type": "code",
   "execution_count": 22,
   "metadata": {},
   "outputs": [],
   "source": [
    "def goaltest(state):\n",
    "    wort, nr = state\n",
    "    return wort == '' and nr == 0\n",
    "    \n",
    "def nextstates(state):\n",
    "    wort, nr = state\n",
    "    tmp = []\n",
    "    if nr == 0:\n",
    "        for k in kuerzel:\n",
    "            if wort.startswith(k):\n",
    "                if len(wort[len(k):]) > 0:\n",
    "                    tmp.append((wort[len(k):],1))\n",
    "    else:\n",
    "        tmp.append((wort[1:],0))\n",
    "        tmp.append((wort[2:],0))\n",
    "    return tmp   \n",
    "\n",
    "def reconstructPath(prev):\n",
    "    s = ('',0)\n",
    "    a = []   # Liste mit dem Ausgangswort, bei dem jeweils die schon\n",
    "             # verteilten Buchstaben fehlen \n",
    "    while prev[s] is not None:\n",
    "        w,_ = prev[s]\n",
    "        a.append(w)\n",
    "        s = prev[s]\n",
    "    a.reverse()   \n",
    "     \n",
    "    tmp = [] # Liste mit den Teilen des Wortes\n",
    "    for i in range(len(a)-1):\n",
    "        tmp.append(a[i][:-len(a[i+1])])\n",
    "    tmp.append(a[-1])\n",
    "    \n",
    "    knr = 101   # 3. Bestandteil des Kennzeichens ab 101 aufsteigend\n",
    "    for i in range(0,len(tmp),2):\n",
    "        print(tmp[i]+'-'+tmp[i+1]+'-'+str(knr))\n",
    "        knr+=1\n",
    "\n",
    "def dfs(s):\n",
    "    frontier =  [s]\n",
    "    prev = {s:None}\n",
    "    nrExplored = 0\n",
    "    while frontier:\n",
    "        state = frontier.pop()  \n",
    "        nrExplored +=1\n",
    "        if goaltest(state):\n",
    "            return prev,nrExplored\n",
    "        nxt = nextstates(state)\n",
    "        nxt.reverse()\n",
    "        for v in nxt:\n",
    "            if v not in prev:\n",
    "                frontier.append(v)\n",
    "                prev[v] = state\n",
    "    return None, nrExplored        "
   ]
  },
  {
   "cell_type": "code",
   "execution_count": 23,
   "metadata": {},
   "outputs": [
    {
     "name": "stdout",
     "output_type": "stream",
     "text": [
      "17\n",
      "B-U-101\n",
      "N-D-102\n",
      "E-S-103\n",
      "WE-TT-104\n",
      "B-E-105\n",
      "WE-RB-106\n"
     ]
    }
   ],
   "source": [
    "kuerzel = readdata()\n",
    "startstate = ('BUNDESWETTBEWERB',0)\n",
    "prev,nrExplored = dfs(startstate) \n",
    "print(nrExplored)\n",
    "if prev is None:\n",
    "    print('keine Lösung')\n",
    "else:\n",
    "    reconstructPath(prev)"
   ]
  },
  {
   "cell_type": "code",
   "execution_count": null,
   "metadata": {},
   "outputs": [],
   "source": []
  }
 ],
 "metadata": {
  "kernelspec": {
   "display_name": "Python 3",
   "language": "python",
   "name": "python3"
  },
  "language_info": {
   "codemirror_mode": {
    "name": "ipython",
    "version": 3
   },
   "file_extension": ".py",
   "mimetype": "text/x-python",
   "name": "python",
   "nbconvert_exporter": "python",
   "pygments_lexer": "ipython3",
   "version": "3.6.5"
  }
 },
 "nbformat": 4,
 "nbformat_minor": 2
}
