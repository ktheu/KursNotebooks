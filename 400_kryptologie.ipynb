{
 "cells": [
  {
   "cell_type": "markdown",
   "metadata": {},
   "source": [
    "# Kryptologie\n",
    "\n",
    "Die **Kryptologie** ist ein Teilgebiet der Informatik, das sich mit der Entwicklung und Bewertung von Verfahren der Verschlüsselung von Daten befasst.\n"
   ]
  },
  {
   "cell_type": "markdown",
   "metadata": {},
   "source": [
    "#### Ausgangssituation und Rollen\n",
    "**Alice** will **Bob** eine Nachricht schicken. Dazu wandelt er den **Klartext** in einen **Geheimtext** um (**Chiffrierung**) und verschickt den Geheimtext. Alice verwandelt den Geheimtext wieder in einen Klartext um (**Dechiffrierung**).\n",
    "\n",
    "**Angreifer**: **Eve** will den Text mitlesen (ohne ihn zu verändern). **Mallory** will die verschickte Nachricht verändern.\n",
    "\n"
   ]
  },
  {
   "cell_type": "markdown",
   "metadata": {},
   "source": [
    "#### Sicherheitsziele\n",
    "\n",
    "* **Vertraulichkeit**: Die Nachricht, die man erhält, ist nicht von dritten Personen gelesen worden.\n",
    "* **Integrität**: Die Nachricht, die man erhält, ist von keiner dritten Person manipuliert worden.\n",
    "* **Authentizität**: Die Nachricht, die man erhält, stammt wirklich von der Person, die als Absender angegeben ist.\n",
    "* **Verbindlichkeit**: Der Urheber kann nachträglich nicht bestreiten, die Nachricht verfasst zu haben."
   ]
  },
  {
   "cell_type": "markdown",
   "metadata": {},
   "source": [
    "<hr>\n",
    "Hinweis: In unseren Beispielen wandeln wir den Klartext zunächst in einen Text um, der keine Umlaute hat, keine Satzzeichen, keine Leerzeichen und der nur aus Großbuchstaben besteht."
   ]
  },
  {
   "cell_type": "code",
   "execution_count": 114,
   "metadata": {},
   "outputs": [],
   "source": [
    "def prepare(s):\n",
    "    '''\n",
    "    s: Klartext\n",
    "    returns: String, Klartext ohne Umlaute, Satzzeichen, Leerzeichen, nur Großbuchstaben\n",
    "    '''\n",
    "    s = s.upper()\n",
    "    s = s.replace('Ö','OE').replace('Ü','UE').replace('Ä','AE').replace('ß','SS')\n",
    "    return ''.join([c for c in list(s) if c.isalpha()]) "
   ]
  },
  {
   "cell_type": "code",
   "execution_count": 115,
   "metadata": {},
   "outputs": [
    {
     "data": {
      "text/plain": [
       "'HELLOWORLD'"
      ]
     },
     "execution_count": 115,
     "metadata": {},
     "output_type": "execute_result"
    }
   ],
   "source": [
    "prepare('Hello World!')"
   ]
  },
  {
   "cell_type": "markdown",
   "metadata": {},
   "source": [
    "<hr>"
   ]
  },
  {
   "cell_type": "markdown",
   "metadata": {},
   "source": [
    "# Monoalphabetische Chiffren\n",
    "Bei **monoalphabetische Ciffren** wird jeder Klartextbuchstabe durch immer denselben Geheimtextbuchstaben ersetzt.\n",
    "**Cäsar-Chiffre** und **Ersetzungs-Chiffre** sind monoalphabetische Chiffren.\n",
    "\n",
    "## Cäsar-Chiffre\n",
    "\n",
    "Die Buchstaben des Alphabeths werden um einen festen Betrag verschoben. Dadurch entsteht aus dem **Klartext-Alphabet** ein **Geheimtext-Alphabet**. \n"
   ]
  },
  {
   "cell_type": "code",
   "execution_count": 116,
   "metadata": {},
   "outputs": [],
   "source": [
    "def shift(c, k):\n",
    "    '''\n",
    "    c: Zeichen von A-Z\n",
    "    k: int von 0-25\n",
    "    returns: Zeichen um k Stellen verschoben mit wrap-around\n",
    "    '''\n",
    "    buchstabennr = ord(c) - ord('A')\n",
    "    neue_buchstabennr = (buchstabennr + k) % 26\n",
    "    return chr(ord('A') + neue_buchstabennr)\n",
    "\n",
    "\n",
    "\n",
    "def caesar(s, k):\n",
    "    '''\n",
    "    s: Klartext\n",
    "    k: ganze Zahl 0 <= k <= 26\n",
    "    returns: Geheimtext, Buchstaben um k-Stellen verschoben\n",
    "    '''\n",
    "    return ''.join([shift(c,k) for c in s])\n"
   ]
  },
  {
   "cell_type": "code",
   "execution_count": 117,
   "metadata": {},
   "outputs": [
    {
     "name": "stdout",
     "output_type": "stream",
     "text": [
      "Schluessel:           5\n",
      "Klartext-Alphabet:    A B C D E F G H I J K L M N O P Q R S T U V W X Y Z\n",
      "Geheimtext-Alphabet:  F G H I J K L M N O P Q R S T U V W X Y Z A B C D E\n"
     ]
    }
   ],
   "source": [
    "schluessel = 5\n",
    "klarAB = [chr(x) for x in range(ord('A'),ord('Z')+1)]\n",
    "geheimAB = [caesar(x,schluessel) for x in klarAB]\n",
    "print('Schluessel:          ',schluessel)\n",
    "print('Klartext-Alphabet:   ',*klarAB)\n",
    "print('Geheimtext-Alphabet: ',*geheimAB)\n"
   ]
  },
  {
   "cell_type": "markdown",
   "metadata": {},
   "source": [
    "#### Beispiel:"
   ]
  },
  {
   "cell_type": "code",
   "execution_count": 118,
   "metadata": {},
   "outputs": [
    {
     "data": {
      "text/plain": [
       "('HELLOWORLD', 'MJQQTBTWQI')"
      ]
     },
     "execution_count": 118,
     "metadata": {},
     "output_type": "execute_result"
    }
   ],
   "source": [
    "klartext = prepare('Hello World!')\n",
    "geheimtext = caesar(klartext,5)\n",
    "klartext, geheimtext"
   ]
  },
  {
   "cell_type": "markdown",
   "metadata": {},
   "source": [
    "#### Kryptoanalyse der Cäsar-Chiffre\n",
    "\n",
    "Es gibt nur 26 mögliche Schlüssel. Die **Kryptoanalyse** (=Knacken der Chiffre) ist mit einem **brute-force Angriff** möglich."
   ]
  },
  {
   "cell_type": "code",
   "execution_count": 121,
   "metadata": {},
   "outputs": [],
   "source": [
    "geheimtext = \"HUNYPMMHTKPLUZAHNTVYNLU\""
   ]
  },
  {
   "cell_type": "code",
   "execution_count": 122,
   "metadata": {},
   "outputs": [
    {
     "name": "stdout",
     "output_type": "stream",
     "text": [
      "k = 25: IVOZQNNIULQMVABIOUWZOMV\n",
      "k = 24: JWPAROOJVMRNWBCJPVXAPNW\n",
      "k = 23: KXQBSPPKWNSOXCDKQWYBQOX\n",
      "k = 22: LYRCTQQLXOTPYDELRXZCRPY\n",
      "k = 21: MZSDURRMYPUQZEFMSYADSQZ\n",
      "k = 20: NATEVSSNZQVRAFGNTZBETRA\n",
      "k = 19: OBUFWTTOARWSBGHOUACFUSB\n",
      "k = 18: PCVGXUUPBSXTCHIPVBDGVTC\n",
      "k = 17: QDWHYVVQCTYUDIJQWCEHWUD\n",
      "k = 16: REXIZWWRDUZVEJKRXDFIXVE\n",
      "k = 15: SFYJAXXSEVAWFKLSYEGJYWF\n",
      "k = 14: TGZKBYYTFWBXGLMTZFHKZXG\n",
      "k = 13: UHALCZZUGXCYHMNUAGILAYH\n",
      "k = 12: VIBMDAAVHYDZINOVBHJMBZI\n",
      "k = 11: WJCNEBBWIZEAJOPWCIKNCAJ\n",
      "k = 10: XKDOFCCXJAFBKPQXDJLODBK\n",
      "k =  9: YLEPGDDYKBGCLQRYEKMPECL\n",
      "k =  8: ZMFQHEEZLCHDMRSZFLNQFDM\n",
      "k =  7: ANGRIFFAMDIENSTAGMORGEN\n",
      "k =  6: BOHSJGGBNEJFOTUBHNPSHFO\n",
      "k =  5: CPITKHHCOFKGPUVCIOQTIGP\n",
      "k =  4: DQJULIIDPGLHQVWDJPRUJHQ\n",
      "k =  3: ERKVMJJEQHMIRWXEKQSVKIR\n",
      "k =  2: FSLWNKKFRINJSXYFLRTWLJS\n",
      "k =  1: GTMXOLLGSJOKTYZGMSUXMKT\n",
      "k =  0: HUNYPMMHTKPLUZAHNTVYNLU\n"
     ]
    }
   ],
   "source": [
    "for k in range(1,27):\n",
    "    print('k = {:2}: {}'.format(26-k, caesar(geheimtext,k)))"
   ]
  },
  {
   "cell_type": "markdown",
   "metadata": {},
   "source": [
    "## Ersetzungs-Chiffre\n",
    "\n",
    "Bei der Ersetzungs-Chiffre ist das Geheimtextalphabet eine Permutation des Klartextalphabets.  "
   ]
  },
  {
   "cell_type": "code",
   "execution_count": 124,
   "metadata": {},
   "outputs": [
    {
     "name": "stdout",
     "output_type": "stream",
     "text": [
      "Klartext-Alphabet:    A B C D E F G H I J K L M N O P Q R S T U V W X Y Z\n",
      "Geheimtext-Alphabet:  U D A I H V E Y R C N X O B S L W P K F G T Z J M Q\n"
     ]
    }
   ],
   "source": [
    "import random as r\n",
    "r.seed(42)\n",
    "klarAB = [chr(x) for x in range(ord('A'),ord('Z')+1)]\n",
    "geheimAB = r.sample(klarAB,26)\n",
    "geheimDict = {klarAB[i]:geheimAB[i] for i in range(26)}\n",
    "print('Klartext-Alphabet:   ',*klarAB)\n",
    "print('Geheimtext-Alphabet: ',*geheimAB)\n"
   ]
  },
  {
   "cell_type": "markdown",
   "metadata": {},
   "source": [
    "#### Beispiel:"
   ]
  },
  {
   "cell_type": "code",
   "execution_count": 125,
   "metadata": {},
   "outputs": [
    {
     "data": {
      "text/plain": [
       "('HELLOWORLD', 'YHXXSZSPXI')"
      ]
     },
     "execution_count": 125,
     "metadata": {},
     "output_type": "execute_result"
    }
   ],
   "source": [
    "klartext = prepare('Hello World!')\n",
    "geheimtext = ''.join(geheimDict[c] for c in klartext)\n",
    "klartext, geheimtext"
   ]
  },
  {
   "cell_type": "markdown",
   "metadata": {},
   "source": [
    "#### Krytoanalyse der Ersetzungs-Chiffre\n",
    "\n",
    "Die Anzahl der Schlüssel ist die Anzahl möglicher Permutationen. Ein brute-force-Angriff ist nicht mehr möglich."
   ]
  },
  {
   "cell_type": "code",
   "execution_count": 254,
   "metadata": {},
   "outputs": [
    {
     "name": "stdout",
     "output_type": "stream",
     "text": [
      "403291461126605635584000000 4.03e+26\n"
     ]
    }
   ],
   "source": [
    "import math\n",
    "a = math.factorial(26)\n",
    "print(a, '{:5.2e}'.format(a))"
   ]
  },
  {
   "cell_type": "code",
   "execution_count": 126,
   "metadata": {},
   "outputs": [
    {
     "data": {
      "text/plain": [
       "'OKLSGBNKMDFREYAMVNBKFGYIAWRFWUAFWTFEYGFNAKHARGMWUGAFVIBUAKWAKRBDGTMKARFATAKUAWPZKOVMRRFREYAWRLIIAGKFREYAWBUAKMRLIIAGKFREYAWXAKREYVZARRAVZWNAFWNARAGPGHAFRSFAVRTAFRAZIRAWRFHVAUMGAWUARHAWZGPAKRPZREYZAGPAWAFWTAFGAKAKMWTAWUZWNRDMVVOKLSGBNKMDFREYAKMVNBKFGYIAWFRGUMRYMRYFWNHAFUAIARUMKZINAYGMZROBISVAJAWFWRGMWPAWAGTMVMWNAWUBOZIAWGAWAFWAWOZKPAWIBANVFEYRGOBVVFRFBWRDKAFAWYMRYTAKGPZHARGFIIAWUFARAKYMRYTAKGOMWWUMWWPZIHAFRSFAVPZIADDFPFAWGAWXAKNVAFEYPTAFAKUBOZIAWGAXAKTAWUAGTAKUAW'"
      ]
     },
     "execution_count": 126,
     "metadata": {},
     "output_type": "execute_result"
    }
   ],
   "source": [
    "geheimtext = \"OKLSGBNKMDFREYAMVNBKFGYIAWRFWUAFWTFEYGFNAKHARGMWUGAFVIBUAKWAKRBDGTMKARFATAKUAWPZKOVMRRFREYAWRLIIAGKFREYAWBUAKMRLIIAGKFREYAWXAKREYVZARRAVZWNAFWNARAGPGHAFRSFAVRTAFRAZIRAWRFHVAUMGAWUARHAWZGPAKRPZREYZAGPAWAFWTAFGAKAKMWTAWUZWNRDMVVOKLSGBNKMDFREYAKMVNBKFGYIAWFRGUMRYMRYFWNHAFUAIARUMKZINAYGMZROBISVAJAWFWRGMWPAWAGTMVMWNAWUBOZIAWGAWAFWAWOZKPAWIBANVFEYRGOBVVFRFBWRDKAFAWYMRYTAKGPZHARGFIIAWUFARAKYMRYTAKGOMWWUMWWPZIHAFRSFAVPZIADDFPFAWGAWXAKNVAFEYPTAFAKUBOZIAWGAXAKTAWUAGTAKUAW\"\n",
    "geheimtext"
   ]
  },
  {
   "cell_type": "markdown",
   "metadata": {},
   "source": [
    "#### Häufigkeitsanalyse\n",
    "\n",
    "Die relativen Häufigkeiten der Buchstaben A - Z in deutschen Texten:"
   ]
  },
  {
   "cell_type": "code",
   "execution_count": 132,
   "metadata": {},
   "outputs": [
    {
     "data": {
      "text/plain": [
       "[('E', 17.4),\n",
       " ('N', 9.8),\n",
       " ('I', 7.6),\n",
       " ('S', 7.3),\n",
       " ('R', 7.0),\n",
       " ('A', 6.5),\n",
       " ('T', 6.2),\n",
       " ('D', 5.1),\n",
       " ('H', 4.8),\n",
       " ('U', 4.4),\n",
       " ('L', 3.4),\n",
       " ('C', 3.0),\n",
       " ('G', 3.0),\n",
       " ('M', 2.5),\n",
       " ('O', 2.5),\n",
       " ('B', 1.9),\n",
       " ('W', 1.9),\n",
       " ('F', 1.7),\n",
       " ('K', 1.2),\n",
       " ('Z', 1.1),\n",
       " ('P', 0.8),\n",
       " ('V', 0.7),\n",
       " ('J', 0.3),\n",
       " ('Y', 0.04),\n",
       " ('X', 0.03),\n",
       " ('Q', 0.02)]"
      ]
     },
     "execution_count": 132,
     "metadata": {},
     "output_type": "execute_result"
    }
   ],
   "source": [
    "hf = [6.5, 1.9, 3.0, 5.1, 17.4, 1.7, 3.0, 4.8, 7.6, 0.3, 1.2, 3.4, 2.5, 9.8, 2.5,\n",
    "              0.8, 0.02, 7.0, 7.3, 6.2, 4.4, 0.7, 1.9, 0.03, 0.04, 1.1]  ## rel.Häufigkeit A - Z in Deutsch\n",
    "hf_deutsch = [(chr(ord('A')+i),hf[i]) for i in range(26)]\n",
    "hf_deutsch = sorted(hf_list,key = lambda x : x[1], reverse = True)\n",
    "hf_deutsch"
   ]
  },
  {
   "cell_type": "markdown",
   "metadata": {},
   "source": [
    "Die relativen Häufigkeiten der Buchstaben im Geheimtext:"
   ]
  },
  {
   "cell_type": "code",
   "execution_count": 135,
   "metadata": {},
   "outputs": [
    {
     "data": {
      "text/plain": [
       "[('A', 17.6),\n",
       " ('W', 9.4),\n",
       " ('R', 8.6),\n",
       " ('F', 7.9),\n",
       " ('K', 6.4),\n",
       " ('G', 6.0),\n",
       " ('M', 4.7),\n",
       " ('Y', 4.1),\n",
       " ('I', 3.9),\n",
       " ('U', 3.6),\n",
       " ('V', 3.6),\n",
       " ('Z', 3.4),\n",
       " ('B', 2.8),\n",
       " ('N', 2.8),\n",
       " ('P', 2.6),\n",
       " ('T', 2.6),\n",
       " ('E', 2.1),\n",
       " ('O', 1.9),\n",
       " ('D', 1.5),\n",
       " ('H', 1.5),\n",
       " ('S', 1.1),\n",
       " ('L', 0.9),\n",
       " ('X', 0.6),\n",
       " ('J', 0.2),\n",
       " ('C', 0.0),\n",
       " ('Q', 0.0)]"
      ]
     },
     "execution_count": 135,
     "metadata": {},
     "output_type": "execute_result"
    }
   ],
   "source": [
    "def hf(a):\n",
    "    m = {chr(x): 0 for x in range(ord('A'),ord('Z')+1)}\n",
    "    for x in a:\n",
    "        m[x]+=1\n",
    "    mproz = {x: round(m[x]/len(a)*100,1) for x in m}\n",
    "    return sorted(list(mproz.items()),key = lambda x : x[1], reverse = True)\n",
    "\n",
    "hf(geheimtext)"
   ]
  },
  {
   "cell_type": "code",
   "execution_count": 136,
   "metadata": {},
   "outputs": [
    {
     "data": {
      "text/plain": [
       "[(('A', 17.6), ('E', 17.4)),\n",
       " (('W', 9.4), ('N', 9.8)),\n",
       " (('R', 8.6), ('I', 7.6)),\n",
       " (('F', 7.9), ('S', 7.3)),\n",
       " (('K', 6.4), ('R', 7.0)),\n",
       " (('G', 6.0), ('A', 6.5)),\n",
       " (('M', 4.7), ('T', 6.2)),\n",
       " (('Y', 4.1), ('D', 5.1)),\n",
       " (('I', 3.9), ('H', 4.8)),\n",
       " (('U', 3.6), ('U', 4.4)),\n",
       " (('V', 3.6), ('L', 3.4)),\n",
       " (('Z', 3.4), ('C', 3.0)),\n",
       " (('B', 2.8), ('G', 3.0)),\n",
       " (('N', 2.8), ('M', 2.5)),\n",
       " (('P', 2.6), ('O', 2.5)),\n",
       " (('T', 2.6), ('B', 1.9)),\n",
       " (('E', 2.1), ('W', 1.9)),\n",
       " (('O', 1.9), ('F', 1.7)),\n",
       " (('D', 1.5), ('K', 1.2)),\n",
       " (('H', 1.5), ('Z', 1.1)),\n",
       " (('S', 1.1), ('P', 0.8)),\n",
       " (('L', 0.9), ('V', 0.7)),\n",
       " (('X', 0.6), ('J', 0.3)),\n",
       " (('J', 0.2), ('Y', 0.04)),\n",
       " (('C', 0.0), ('X', 0.03)),\n",
       " (('Q', 0.0), ('Q', 0.02))]"
      ]
     },
     "execution_count": 136,
     "metadata": {},
     "output_type": "execute_result"
    }
   ],
   "source": [
    "list(zip(hf(geheimtext),hf_deutsch))    # Die Haufigkeitstabellen nebeneinander legen"
   ]
  },
  {
   "cell_type": "code",
   "execution_count": 137,
   "metadata": {},
   "outputs": [
    {
     "name": "stdout",
     "output_type": "stream",
     "text": [
      "..............E.........EN..N.E.N.......E..E...N..E.....E.NE........E..E.E..EN............EN....E......EN..E......E......EN.E......E..E..N.E.N.E.E....E....E...E..E...EN....E...EN.E..EN...E........E..ENE.N.E..E.E..N.EN..N....................E..........EN...........N..E..E.E.......E..........E.EN.N...N.ENE.....N.EN.....EN.ENE.NEN....EN..E...............N...E.EN.....E.....E.....EN..E.E......E....NN..NN....E....E....E.....EN.EN.E...E.....E.E......EN.E.E..EN.E..E..EN\n",
      "oklsgbnkmdfreyEmvnbkfgyiENrfNuEfNtfeygfnEkhErgmNugEfvibuEkNEkrbdgtmkErfEtEkuENpzkovmrrfreyENrliiEgkfreyENbuEkmrliiEgkfreyENxEkreyvzErrEvzNnEfNnErEgpghEfrsfEvrtEfrEzirENrfhvEumgENuErhENzgpEkrpzreyzEgpENEfNtEfgEkEkmNtENuzNnrdmvvoklsgbnkmdfreyEkmvnbkfgyiENfrgumrymryfNnhEfuEiErumkzinEygmzrobisvEjENfNrgmNpENEgtmvmNnENuboziENgENEfNENozkpENibEnvfeyrgobvvfrfbNrdkEfENymrytEkgpzhErgfiiENufErEkymrytEkgomNNumNNpzihEfrsfEvpziEddfpfENgENxEknvEfeyptEfEkuboziENgExEktENuEgtEkuEN\n"
     ]
    }
   ],
   "source": [
    "AB = 'ABCDEFGHIJKLMNOPQRSTUVWXYZ'\n",
    "K1 = 'E.....................N...'                                  # Punkte für unbekanntes\n",
    "ab = AB.lower()\n",
    "K2 = [ab[i] if K1[i] == '.' else K1[i] for i in range(len(AB))]    # kleine Buchstaben für unbekanntes\n",
    "\n",
    "m1  = {AB[i]:K1[i] for i in range(len(AB))}\n",
    "m2  = {AB[i]:K2[i] for i in range(len(AB))}\n",
    " \n",
    "text1 = ''.join([m1[c] for c in geheimtext])\n",
    "text2 = ''.join([m2[c] for c in geheimtext])\n",
    "\n",
    "print(text1)\n",
    "print(text2)"
   ]
  },
  {
   "cell_type": "markdown",
   "metadata": {},
   "source": [
    "# Polyalphabetische Chiffren\n",
    "\n",
    "Derselbe Klartextbuchstabe kann durch unterschiedliche Geheimtextbuchstaben ersetzt werden.\n",
    "\n",
    "## Vigenere-Chiffre\n",
    "Sender und Empfänger vereinbaren ein Schlüsselwort. Oft schreibt man es mit Wiederholungen unter den Klartext. Der Schlüsselbuchstabe bestimmt dann, mit welchem Alphabet der Klartextbuchstabe verschlüsselt wird. Dazu verwendet man\n",
    "das **Vigenere-Quadrat**. In den Zeilen steht der Klartextbuchstabe, in der Spalten der Schlüsselbuchstabe."
   ]
  },
  {
   "cell_type": "code",
   "execution_count": 138,
   "metadata": {},
   "outputs": [
    {
     "name": "stdout",
     "output_type": "stream",
     "text": [
      "Das Vigenere-Quadrat:\n",
      "\n",
      "  | A B C D E F G H I J K L M N O P Q R S T U V W X Y Z\n",
      "-------------------------------------------------------\n",
      "A | A B C D E F G H I J K L M N O P Q R S T U V W X Y Z\n",
      "B | B C D E F G H I J K L M N O P Q R S T U V W X Y Z A\n",
      "C | C D E F G H I J K L M N O P Q R S T U V W X Y Z A B\n",
      "D | D E F G H I J K L M N O P Q R S T U V W X Y Z A B C\n",
      "E | E F G H I J K L M N O P Q R S T U V W X Y Z A B C D\n",
      "F | F G H I J K L M N O P Q R S T U V W X Y Z A B C D E\n",
      "G | G H I J K L M N O P Q R S T U V W X Y Z A B C D E F\n",
      "H | H I J K L M N O P Q R S T U V W X Y Z A B C D E F G\n",
      "I | I J K L M N O P Q R S T U V W X Y Z A B C D E F G H\n",
      "J | J K L M N O P Q R S T U V W X Y Z A B C D E F G H I\n",
      "K | K L M N O P Q R S T U V W X Y Z A B C D E F G H I J\n",
      "L | L M N O P Q R S T U V W X Y Z A B C D E F G H I J K\n",
      "M | M N O P Q R S T U V W X Y Z A B C D E F G H I J K L\n",
      "N | N O P Q R S T U V W X Y Z A B C D E F G H I J K L M\n",
      "O | O P Q R S T U V W X Y Z A B C D E F G H I J K L M N\n",
      "P | P Q R S T U V W X Y Z A B C D E F G H I J K L M N O\n",
      "Q | Q R S T U V W X Y Z A B C D E F G H I J K L M N O P\n",
      "R | R S T U V W X Y Z A B C D E F G H I J K L M N O P Q\n",
      "S | S T U V W X Y Z A B C D E F G H I J K L M N O P Q R\n",
      "T | T U V W X Y Z A B C D E F G H I J K L M N O P Q R S\n",
      "U | U V W X Y Z A B C D E F G H I J K L M N O P Q R S T\n",
      "V | V W X Y Z A B C D E F G H I J K L M N O P Q R S T U\n",
      "W | W X Y Z A B C D E F G H I J K L M N O P Q R S T U V\n",
      "X | X Y Z A B C D E F G H I J K L M N O P Q R S T U V W\n",
      "Y | Y Z A B C D E F G H I J K L M N O P Q R S T U V W X\n",
      "Z | Z A B C D E F G H I J K L M N O P Q R S T U V W X Y\n"
     ]
    }
   ],
   "source": [
    "def schieb(a):\n",
    "    tmp = a[:]\n",
    "    tmp.append(a[0])\n",
    "    return tmp[1:] \n",
    "\n",
    "print('Das Vigenere-Quadrat:\\n')\n",
    "a = [chr(x) for x in range(ord('A'),ord('Z') + 1)]\n",
    "print('  | {}'.format(' '.join(a)))\n",
    "print('-'*55)\n",
    "for i in range(26):\n",
    "    zeile = ' '.join(a)\n",
    "    print('{} | {}'.format(chr(ord('A')+ i),zeile))\n",
    "    a = schieb(a)"
   ]
  },
  {
   "cell_type": "markdown",
   "metadata": {},
   "source": [
    "#### Beispiel:"
   ]
  },
  {
   "cell_type": "code",
   "execution_count": 139,
   "metadata": {},
   "outputs": [
    {
     "name": "stdout",
     "output_type": "stream",
     "text": [
      "DIENAECHSTEKLAUSURHATINAUFGABESIEBENDIELOESUNGZWEIUNDVIERZIG\n",
      "MINERVAMINERVAMINERVAMINERVAMINERVAMINERVAMINERVAMINERVAMINE\n"
     ]
    }
   ],
   "source": [
    "klartext = \"Die nächste Klausur hat in Aufgabe sieben die Lösung zweiundvierzig.\"\n",
    "klartext = prepare(klartext)\n",
    "schluessel = \"MINERVA\"\n",
    "schluessel = (\"MINERVA\"*len(klartext))[:len(klartext)]\n",
    "print(klartext)\n",
    "print(schluessel)\n"
   ]
  },
  {
   "cell_type": "code",
   "execution_count": 27,
   "metadata": {},
   "outputs": [],
   "source": [
    "def addZeichen(c1, c2):\n",
    "    c1nr = ord(c1)-ord('A')\n",
    "    c2nr = ord(c2)-ord('A')\n",
    "    c3nr = (c1nr + c2nr) % 26\n",
    "    return chr(ord('A')+c3nr)"
   ]
  },
  {
   "cell_type": "code",
   "execution_count": 144,
   "metadata": {},
   "outputs": [
    {
     "data": {
      "text/plain": [
       "'PQRRRZCTAGIBGAGAHVYVTUVNYWBANMFMVWEZLVICJEECAKQREUCAHMDEDHVK'"
      ]
     },
     "execution_count": 144,
     "metadata": {},
     "output_type": "execute_result"
    }
   ],
   "source": [
    "def vigenere(text,schluessel):\n",
    "    schluessel = (schluessel*len(text))[:len(text)]\n",
    "    tmp = [addZeichen(text[i],schluessel[i]) for i in range(len(text))]\n",
    "    return ''.join(tmp)\n",
    "\n",
    "klartext = \"Die nächste Klausur hat in Aufgabe sieben die Lösung zweiundvierzig.\"\n",
    "vigenere(prepare(klartext),\"MINERVA\")"
   ]
  },
  {
   "cell_type": "markdown",
   "metadata": {},
   "source": [
    "#### Kryptoanalyse der Vigenere-Chiffre\n",
    "\n",
    "Die Vigenere-Chiffre wurde um 1500 entwickelt und galt ca. 350 Jahre als sicher. Das Hauptproblem beim Knacken der Chiffre ist die Bestimmung der Schlüssellänge. Dafür wurden zwei Verfahren entwickelt: Der **Kasiski-Test** und der **Friedman-Angriff**. Beide benötigen einen langen Geheimtext."
   ]
  },
  {
   "cell_type": "markdown",
   "metadata": {},
   "source": [
    "##### Kasiski-Test\n",
    "\n",
    "Wenn häufig vorkommende Buchstabenfolgen zufällig auf dieselbe Schlüsselposition fallen, wiederholen sich auch gleichartige Sequenzen im Geheimtext. Der Abstand dieser Sequenzen ist also ein Vielfaches der Schlüssellänge."
   ]
  },
  {
   "cell_type": "code",
   "execution_count": 147,
   "metadata": {},
   "outputs": [
    {
     "data": {
      "text/plain": [
       "'SGFGMJVRGMLRWMRSLKDELJILSGFGMJVQGDRGOQYXHCWXYXDCXYLNWCVFQDACXRGMLCCAMVPROHYXRLSGFDQGDHCWHCBAYOVCJMCWPGMLUOMRERRORYEJBOVJSWROHCBPCDDRORXOLLSGFREZOKCCIFORUSICBXYXDROWQSIFDESCAGOIRGEQNEQWELSRBOVUKPNEVESWLKGFDXPOMZD'"
      ]
     },
     "execution_count": 147,
     "metadata": {},
     "output_type": "execute_result"
    }
   ],
   "source": [
    "geheimtext = \"SGFGMJVRGMLRWMRSLKDELJILSGFGMJVQGDRGOQYXHCWXYXDCXYLNWCVFQDACXRGMLCCAMVPROHYXRLSGFDQGDHCWHCBAYOVCJMCWPGMLUOMRERRORYEJBOVJSWROHCBPCDDRORXOLLSGFREZOKCCIFORUSICBXYXDROWQSIFDESCAGOIRGEQNEQWELSRBOVUKPNEVESWLKGFDXPOMZD\"\n",
    "geheimtext"
   ]
  },
  {
   "cell_type": "code",
   "execution_count": 148,
   "metadata": {},
   "outputs": [
    {
     "name": "stdout",
     "output_type": "stream",
     "text": [
      "54\n",
      "24\n"
     ]
    }
   ],
   "source": [
    "def abstand(text, teil):\n",
    "    x1 = text.find(teil)\n",
    "    x2 = text.find(teil,x1+1)\n",
    "    return x2-x1\n",
    "\n",
    "print(abstand(geheimtext,'GML'))\n",
    "print(abstand(geheimtext,'SGF'))"
   ]
  },
  {
   "cell_type": "code",
   "execution_count": 162,
   "metadata": {},
   "outputs": [
    {
     "data": {
      "text/plain": [
       "[('R', 12.9),\n",
       " ('E', 8.6),\n",
       " ('M', 8.6),\n",
       " ('G', 7.1),\n",
       " ('H', 7.1),\n",
       " ('I', 7.1),\n",
       " ('L', 7.1),\n",
       " ('A', 5.7),\n",
       " ('P', 5.7),\n",
       " ('V', 5.7),\n",
       " ('W', 5.7),\n",
       " ('D', 4.3),\n",
       " ('Q', 4.3),\n",
       " ('X', 4.3),\n",
       " ('F', 1.4),\n",
       " ('J', 1.4),\n",
       " ('K', 1.4),\n",
       " ('Y', 1.4),\n",
       " ('B', 0.0),\n",
       " ('C', 0.0),\n",
       " ('N', 0.0),\n",
       " ('O', 0.0),\n",
       " ('S', 0.0),\n",
       " ('T', 0.0),\n",
       " ('U', 0.0),\n",
       " ('Z', 0.0)]"
      ]
     },
     "execution_count": 162,
     "metadata": {},
     "output_type": "execute_result"
    }
   ],
   "source": [
    "a = geheimtext[1::3]\n",
    "hf(a)"
   ]
  },
  {
   "cell_type": "code",
   "execution_count": 149,
   "metadata": {},
   "outputs": [],
   "source": [
    "def abstandZuE(c):\n",
    "    '''\n",
    "    c: Zeichen A-Z\n",
    "    returns: Tupel (k,d) \n",
    "        k Abstand zu 'E'\n",
    "        d k-ter Buchstabe im Alphabet\n",
    "    '''\n",
    "    k = (ord(c)-ord('E'))% 26\n",
    "    d = chr(ord('A')+ k)\n",
    "    return k,d"
   ]
  },
  {
   "cell_type": "code",
   "execution_count": 175,
   "metadata": {},
   "outputs": [
    {
     "data": {
      "text/plain": [
       "(4, 'E')"
      ]
     },
     "execution_count": 175,
     "metadata": {},
     "output_type": "execute_result"
    }
   ],
   "source": [
    "abstandZuE('I')"
   ]
  },
  {
   "cell_type": "code",
   "execution_count": 102,
   "metadata": {},
   "outputs": [],
   "source": [
    "def subZeichen(c1, c2):\n",
    "    c1nr = ord(c1)-ord('A')\n",
    "    c2nr = ord(c2)-ord('A')\n",
    "    c3nr = (c1nr - c2nr) % 26\n",
    "    return chr(ord('A')+c3nr)"
   ]
  },
  {
   "cell_type": "code",
   "execution_count": 176,
   "metadata": {},
   "outputs": [
    {
     "data": {
      "text/plain": [
       "'ICHWILLNICHTMITIHMTANZENICHWILLMITNIEMANDEMTANZENUNDSELBSTWENNICHESWOLLTEDANNNICHTMITDEMDERWAEREZIEMLICHWEITUNTENAUFDERLISTEDERLETZTENZEHNICHHABEGESEHENWIEERTANZTESSIEHTAUSWIEETWASDASMANINDERWALPURGISNACHTTREIBT'"
      ]
     },
     "execution_count": 176,
     "metadata": {},
     "output_type": "execute_result"
    }
   ],
   "source": [
    "def vigenereKnack(text,schluessel):\n",
    "    schluessel = (schluessel*len(text))[:len(text)]\n",
    "    tmp = [subZeichen(text[i],schluessel[i]) for i in range(len(text))]\n",
    "    return ''.join(tmp)\n",
    "\n",
    "vigenereKnack(geheimtext,'KEY')   "
   ]
  },
  {
   "cell_type": "markdown",
   "metadata": {},
   "source": [
    "##### Friedman-Angriff\n",
    "\n",
    "Der Friedman-Angriff analysiert die im Geheimtext noch vorhandene spracheliche Redundanz. Ein Maß dafür ist der \n",
    "**Friedmansche Koinzidenzindex**. Aus diesem Wert leitet man eine Schätzung der Schlüssellänge ab.\n",
    "\n",
    "Betrachte eine Buchstabenfolge der Länge $n$. Es bezeichne $n_i$ die Häufigkeit des i-ten Buchstabens des Alphabets in der Buchstabenfolgen."
   ]
  },
  {
   "cell_type": "code",
   "execution_count": 177,
   "metadata": {},
   "outputs": [
    {
     "data": {
      "text/plain": [
       "[('R', 9.0),\n",
       " ('C', 7.6),\n",
       " ('G', 7.1),\n",
       " ('O', 7.1),\n",
       " ('D', 5.7),\n",
       " ('L', 5.7),\n",
       " ('S', 5.2),\n",
       " ('E', 4.7),\n",
       " ('M', 4.7),\n",
       " ('X', 4.7),\n",
       " ('W', 4.3),\n",
       " ('F', 3.8),\n",
       " ('V', 3.8),\n",
       " ('Q', 3.3),\n",
       " ('Y', 3.3),\n",
       " ('J', 2.8),\n",
       " ('B', 2.4),\n",
       " ('H', 2.4),\n",
       " ('I', 2.4),\n",
       " ('P', 2.4),\n",
       " ('A', 1.9),\n",
       " ('K', 1.9),\n",
       " ('N', 1.4),\n",
       " ('U', 1.4),\n",
       " ('Z', 0.9),\n",
       " ('T', 0.0)]"
      ]
     },
     "execution_count": 177,
     "metadata": {},
     "output_type": "execute_result"
    }
   ],
   "source": [
    "hf(geheimtext)"
   ]
  },
  {
   "cell_type": "code",
   "execution_count": 224,
   "metadata": {},
   "outputs": [],
   "source": [
    "import random as r\n",
    "def zweiGleiche(text):\n",
    "    '''\n",
    "    returns: die Wahrscheinlichkeit, in einem text zwei gleiche Zeichen zu ziehen.\n",
    "    '''\n",
    "    a = list(text)\n",
    "    treffer = 0\n",
    "    anzahl = 0\n",
    "    for i in range(1000000):\n",
    "        ziehung = r.sample(a,2)\n",
    "        anzahl += 1\n",
    "        if ziehung[0] == ziehung[1]:\n",
    "            treffer += 1\n",
    "    return treffer/anzahl"
   ]
  },
  {
   "cell_type": "code",
   "execution_count": 237,
   "metadata": {},
   "outputs": [
    {
     "data": {
      "text/plain": [
       "0.04829"
      ]
     },
     "execution_count": 237,
     "metadata": {},
     "output_type": "execute_result"
    }
   ],
   "source": [
    "zweiGleiche(geheimtext)"
   ]
  },
  {
   "cell_type": "code",
   "execution_count": 241,
   "metadata": {},
   "outputs": [],
   "source": [
    "def friedmann(text):\n",
    "    n = len(text)\n",
    "    i = zweiGleiche(text)\n",
    "    return (0.0377 * n)/((n-1)*i - 0.0385*n + 0.0762)\n"
   ]
  },
  {
   "cell_type": "code",
   "execution_count": 242,
   "metadata": {},
   "outputs": [
    {
     "data": {
      "text/plain": [
       "3.845584972637183"
      ]
     },
     "execution_count": 242,
     "metadata": {},
     "output_type": "execute_result"
    }
   ],
   "source": [
    "friedmann(geheimtext)"
   ]
  },
  {
   "cell_type": "code",
   "execution_count": 231,
   "metadata": {},
   "outputs": [],
   "source": [
    "geheimtext = \"\"\"\n",
    "FSGEXV EVIISA MGYFNX EJTMUR MPNYME FMPSIH EFIXUE HQFOOU\n",
    "PGIAVI KJSWLT IIZJIJ ELXVOT YBKMEC GYUELW RHEHOR ONIFVS\n",
    "EHKCJS WLFEEL JIBNTS VTIMGY JSNECT IBRQVE HXJDHF YVTSYP\n",
    "EEIYWX JLNRRU UYVCJC BELDHZ YVSKFE IUERXV TGCFKF IHIZOF\n",
    "UGYFSP IIGABV VOGYRL FGYRUL AHKVOK FEIUER XRVFTY XFHIII\n",
    "JGEIZU ZOIZOE LFVLAH RKFNMT IBCBIQ VUHXVS SOGOFN ILEFSY\n",
    "MEFSSR KBXORU TEGEEU IEDLCE NVRDHN IE\n",
    "\"\"\"\n",
    "geheimtext = prepare(geheimtext)"
   ]
  },
  {
   "cell_type": "code",
   "execution_count": 232,
   "metadata": {},
   "outputs": [
    {
     "data": {
      "text/plain": [
       "3.699257480770085"
      ]
     },
     "execution_count": 232,
     "metadata": {},
     "output_type": "execute_result"
    }
   ],
   "source": [
    "friedmann(geheimtext)"
   ]
  },
  {
   "cell_type": "code",
   "execution_count": 217,
   "metadata": {},
   "outputs": [
    {
     "data": {
      "text/plain": [
       "'LSXITLBUMBTGPGNASINSXYLJMDZMLSOQGKEPCIMUKBUGWWPLBUEOUCLWJHFVFHLOAUBGLBUENCVAXYUOLGPGLGSWUZFBTUMTKBLWBZGUZHRHCVBGKHBBVLGKATSNLBUEEQPNLVLJMDKBLGSWUZFBTUMTHUZOOLGYEPCILKLPBSTBGNTYNJKJAPPEHCVZBLSNQVKXTEOSGSVOEOUGPGLNTWNSMLSDPGUDAIIUKTFLREQGZNUDEIUBGKHBBVLBOMBCEOXPNGMKUXZKBMRWVOEODQUKVTFUUHFTEUOGZVOEOSVKTZSUIPKWLMLQPKLVUFJGYTBSICGILJHVVFKTZWVAUAXHUDPFHLRLFQPLFHEEKJLGBNEEQSEAEOQEOMZAOLTLLTEIZVYTNEOCPKWHRVUJPXZSFADLBHLUCPKCBNHVWYWHSSWVRTLPQKJLGTUUBGYNUDHZQZLTUUBGYPVHOBGUTIESVKJAABFQUHFTEOQPLBUENPCLNZCIMPZHUDFZPLBUEIINIXZTVVFLOVNFQPHGKESCPKSDITKJLGKEOJGPWLNIIGBLLROTCNXPNXINKWHSQZCJALIOMUTHYGFVUKBLMVBVLKGUNZQADHEQXEOXULJMDLLYOUSCLIWCIMPNKVSTUWAMLRJAVZVOWBKJBGKKSIPRZLWPZFLGBNESCUGUIDPVGNBNTSQTFLNJKJOTIELCEOXUGFJCJDLNHMJBGKBSQPNXNRPAUTNATFZXVGKENSWJALNVVFHNJHFQPLYSATKJLPLIOCPKZYUFAULLPESMEOMZCIWGUOVNNQTBGKSFQTLVOTWWTZBJHUQIKTZSECPPVOTGIGSEZTVVFLMDAEQGMEHSDPGGXYBSQEOLASPVUAAHEUBGKBLKSIPRXNRPAUTNATFZPPVOTTTCBYLNJKJABTWBTFLALRVUDSXPBFPWLUZCIIWMWLMXMILNUDCTGPULAVKJUBJHUHWSTUGFIWZWHSXQNSBJHBTNLLZONIEOXUWJMFBULFJMJSLALJMDLFBTUMTHGAWPZVLMLRPBMHXWPDPGUUHNEQJYLJHVMTGVOEOCOUTOMFQPLGSEJKJAXUKPZDPGKEOMUKBLFMIUJALUOLFLGRUDPGUOVNEMTTNATFZNLZLNMQGZLBNEOKUZMRPMJSBJHFVUJAYIUBGZBUDFVYHEKHJVGPGDIFMUZHCOFTNPZHRHTQZWHHJVYHGKEMBGRTTEJVYVEMDBPGYWHSHCVLDPNESCUGAEOWEODLIOMYVXSFFCPKAHTUMMLBUEGCTJAAAMAFLKDOMNPHXOESSCTLHGUMGYZBTFVVHZYOUSCLIWCIMPZVOOFVGUWHNLPGYKNRBCDHKAWPAQSELSEMPUAPNHMJLGZOJVCSELRGZWLALMFQPSBLBFATVMRAFXRJALNGZCNMLDFZYVEMZVZCSMLNHZQZLTUUBGYWPEOQEOMDOITKZMHNUEQYMLTFZQADHEQXEOXUWBAYPESSULWKXUNEWTAFHCIMPKNDIMTUABORXWJSPHSCZKUZLNFQHYXPLJKJDBYHBJGUDBCIMPNXIADSGUNUDNCVAXYHBBOPKHUDPYLBUMJBILZLBFVFLGZOMTUPXARJVMLGKANQVZBLWJMFLKZTBZMDBYDTIILFPREWEOGVCIUGPGSIFJGZLJHBZOHGAETZQADHEQXEOXUWPEQOGADFVPKXPNFOTVLZMVBVLKPCIUQLVOTFEQOELIOUCSPLNOQEOTUIIZGTAHUTMXVKIEJSQTFLIIZOLBUEIWEOTJHUCPNTUDFVVHZSEHMPMKHGUMFLKDOMNGPZHROQEOMDEJBXVGOIFZGPGCIFZVLEZTVMPKVOEOLCZMLHURCKTZHBMWZVOEOONLBJHBUYHEKEJPTTNLSTBLHWHRBVXVKIEJOGRHTMFVULBUETAVLALNFQEOXUBBMWTXKAIQPAXYUOLCTZHRUMPGTBNXIEOLLNIIULEUUFAULISAVLGYMLDBATVMRAFXRJALNPLWHESESTKLUZTFACWILTJBNPVOETPCZXSNVMUZVOEOLWKTJHUMDLBZIDPFLKMAMAEOXIOFAGDHSFEQEOFBSTQEODUADSGUWHSJAVLBUMBTGPGZUFAULKRESVWUWAAUINZPVLMMGYKVTLIGWIJHFVPVVOEJVUANLCLKJLGIEHTGPMLNVVFZTNTFHWPATSJMJUNYWJMFHWYUFJGUNUDEWTAWYUFJGULVSDPQLGLBMCOLGZTFPGUNUDIWTJAUUSEKLTSLFZNPXISULKLOVEHMNZBUGFVLHXZITBULAYSDPQLGPMXINKXZEIZUJAVEOCPKPHCIAGULVGVBGRKHEVBGYAPESQPUXUHFQNRKHEVBGYFLIOTKLULSSWVRTLPQKJLGPHSAGPWNEXQUZXPNEWMAHYWFZVLKNRBCGYALRSNTHZAESWVRTLPQKJLGDEJTKOKKIFPGPERRBMWAXYKFVPAWHKPMPUMLTJPTTBYJBMKUALIMSTHNAFVMTTXPNFSTHGREHZQZLTUUBGYSLIHMPKNIITBGPGLBFVUVZBTFACSLRLVOGZDPNETQIMLDFZYVEMEJNTLBSIDPDPGPCIMKUWVKUWTBGKKFVPLTSLFSTHXBTFZUPXOSULWOBLRTBGOMNLFQEOXPNTLGYPVLGADHLADPZVPFZCIIVAXUWBKJZXUDJMYVEMSCMGYXUUOLJPXYANAQUGPGFVTHBUBMCGOMKIFEQSYZMJTEOWVRULTBXIEONKUWLTNIPKBLWPTHZPBRAPGPLZEOLGUGHLMMMYTLUUMTUTJHEMODHSFGZCNMLRPBMHXWPDPGUWPECMUAXUNVZFPXIETBGUFLIOTKLULSGZQTFLSLQPKLWRBKJKXYWPTHTBARFKJAXTHPPPKXUNBTNLWPEFZILGHNOBYHKLNHQHADYAFCVLKYOUSCLIWCIMPHULRXWNSMLIOQJYXYUOAEONSDEMTNKVSTUWAMLRTWNJALKSIGBMLRBTUOXPLLZCLNAESXHSNLCLMPBGKMJBDYBUGFVWUWKESEQSYZAHBGSXIEXWJSFLIOOWAXZRPBMHXWPDPGUBJHIIDLFPCIOGMKLUULGPGLBFSCUGASDPCMMGUNIEOXUIDPJHULEJTGTNZSFQPLTSTFAEOPHCIMMYTUKFJGZNJHFVWUWKANQVLBSTFLGYPVLGDQUWHNOMPBGKSQWTULARFQEOLUADPFLFOAVAGKXYGSWUZFBTUMTDTLHSMPKWHSSWVRTLPQKJLGZIDPUJAVEOMYHEKBMCOLGGUNAVYTBSTMRMEBEDSVLNUDEQGCXYMFQPAEPCIMPOXPLLZCLNAESACTFLLUMCSLKESEQSYHNEIUOTLUTKJLGKESOTVLZMVBVLKKETZQADHEQXEOXUSLIOMTUDFZGZOLRTKJSHZSFVWUWRLPXHAXHNEQGHEAELWPUMLNJKJAOVMCMVAXHUGAVLALNVVFUTJHTMJLGDESLCZXPUOLTPXMWFZKZMKRBCUZXUDBATVMRAFXRJALNSQGMWLRXWNMFPTWMTZMLLMBGYLAINUGKBLMVBVLKZCIQERMKESOWAXUGSWUZFBTUMTDXPNVVFHNJHLCEOXUWJZJHULNHMDHVREOOTLBMEVVVLGKUSKJKTZLPKJPGKESBWLKLDBTKLZADFZUJASUFAULEYIFNFPXHLUMWUWKESEQSYAAUINZHVEGNPLMLDJKVBXYEUZCABUDBAJHXBSDPGUBUDBAUANLBDPGUNUDWMTZVOLBVIKBLGSWUZFBTUMTVAUEXMKAXYETHQNBORFSNLBKESIPSXNTFAKJAPNJPTIXATAWIKBLDFKMLNLBFZUPVOHFZWUWKIFJGAMCOSPCLGNEACPHVOEJVGYPLIMMMHFKATZQADHEQXEOXUETECYLLHSDGYPBNEMTATSLFAUVHMFFVBBYPNEMPKTKODPUVGZTEQGNKVSTUWAMLRTQEOLLLCAVNXYNVVVLKZCITQZLBNEZKLZLLIQGSMBNEEWYWPHNAEOBLRCIGUZSIDPWTWHSKCPNXOESHEOXUWJMFHLYOUSCLIWCIMPUNUAOLCZULTUBTHMKAMIIKBLAMBGNKVSTUWAMLRIIVAXLIOMIYHZSFAEOEHFIIWIXHUGCPKPHROCTDXUIHDQUBORACULALNVVFKTZWFVKNXZAIOCYLJHSMEREPCIIWZTJHHZQZLTUUBGYPHSIIUAWBSPOTVLZEPPTLGYIFNFHLYOUSCLIWCIMPKTZSJKJKBJHEIOPMNUUPQLKLNLIPUPHREQGHGAWPZVHVOGSWUZFBTUMTDTZHBAVKNMUFZIYHZSFIWNXUDBAUPVODJKJKTTIUOWALLHFVMHGUEJOTVLZMVBVLKDATPCZMKUGCGYAHASQILZYOTAGOTLNEMFHLZIDPFPVODBUKAZBTGIUZXUUOLJHEAEOSCUGHCIOTVLZMVBVLKDATPCZMKUGCGYXPNTWIYHZSFAOHNSUOLUVEHNHMBHXONFLCZLPCILKJAKANQVNNAFSMUZXUKBVPBGKDBUKAYBHSLGYZHNAMYVEMGSQOTBNAVAFLFIEUBGOXYAVAWUWMRBAUKTZASUGYHAKBMRWVOEOEGNPHRTRGASAWBZFLKDOMNULAYSBBVBGKETOGMBLLJPOZXORJUUANLBDPGUWLRBTVLGBNEQPKXTWFQEOXUBFBVBGKESTGNMLSJKJDBLDFZJPGBNEAEOEPEGMKUNUDTKJUTYCIBGKTZSFAMSTUGBTUZVONBZTLXPNSIGKXYWFZMPGLIOMTTNLHMMBBYHEMTKNDHMFQPQTLGFZXVKIEJLGYAVESBGKTZSFTVZTTEHMTHXBSDPWUWKADPVLXPEJLKLTYMFINAXMRBCFHWYIOVGUAHTFQPLGIOFAGULJHOITJALRBUNLBISJMTVXJHFTVDHOLHITBGKLJMIABTSUMTIXUDVUWZLAHJVGPGBNEVCJAZEIMPDTZMJBKOKPSUOGKTJHUOGATUDFZLHXNESOKUZPNEIUOTLUTKJLGKAGIPKXYDFVJLKYNJAGNKPMNQOIXATFLGYTSTFVNPXNEOCPKWPEBTVLPHROQTNXUDTHWLKILJKMLGIITBFBWHSQZCJAKESRCLZLRVVFYBZSEQGRNNEMJWLVOSFDQUWLRTKJBEAESSQTFKUIMTKNIITBOPKVFUOGUNNEOBNHNMEOAEOHULFOVLXYAOLCMBLLJPOLBUHBTVKBLAMBGPLANJKJAWHANMPKXOAULGYNUHPTFZBLMJBJHNAUOLJHTYVFZUJASUOOGUPHRPPPLWPETVWYXPNLTGPGLSECGYKLSXMKIELIOCPKWHSDPQZLKESRCLZLROQEOMZOOLGYGLRAWIZXPNFVUJAHRGMPOBYSDPHHXUGFZWUWZCITKASAEHIPGLHNGBFLFMETBUJASAGMPKXUWPTHKXUBBCEOTBFEIIBVRTFMKUKVTFAMHXWPDPGUALRBCUBGKUOBGYWLMLIGWIJHFVYHKLIOSQLIMCIMPBGKDBSCTWHSOQGKEPCIMCSELRMQGILAESWVRTLPQKJLGOESIWZNUDTIIAXNUUMPTHYGFVCJADATECYWHSGCGYXPNECPRELSLIGTFLRDPGUWHDSQPUXUUOLJPGAESLGTKVTLIGWIJHFVBHIWEMBGKBLAMBGNKVSTUWAMLREQGDTYAVKJUHJHMMDLGKIHDKLEWLBBBOTATFVUPXHBFZPPVOTHMJHUAINEQSYZBBCEOWLRXWNMLJHMQGMGVCIQOTXYSUMKUYLSUCPKWHNBPOLGZIFAVLBUEHMTHWLWJMFPXHLUMILBZSJUOHXYCIMPCHUDFVUPXIEOOGPLZLFQPMNLLMBGULPEEMODHSFJVFLGIAVKJBGKNBMJAXUDFVTHGGEOHWOXYNBKJCXYSUMERMLNTQGZBJHVVFKXYJBMILKARBBJPGAESMKUXUBBCOGNZEIMPDTZDFZYVEMEOLNPVOAONCUZLNXMTKXQEUHVDTJHUMFLKDOMNCBYTADPVLLPCIIWZWLMCMVAALRBCUHNZDFUUANLBDPGUTBSEMOOTLUTKJLGBNEPWTILLUMBBFIRVVPLGKEOVGYAHTUMIYHZSFVFBKZTVVVLKDEHAUHZAEFZKJADEJAUNTYNJKJABJHXMKZLNASVKJAAIOUGPGLMCIWJEDADSGSMZHJVWUWOESPKUNUDIMTDBLWBKMLEZTFQPZHSLUMFHLKIFOTVLZMVBVLKBNEZQADHEQXEOXUSFQPBGKWJMGYTUDFVDYNUNFVMHFBNEBTPGREOEQSEAEEIBVZLNJPPKBLSUMKUXBNEMTIXRANLCZNLBFZILPPCIBWUWMIFTJPGLIOCPKXYTSIPRLVSQITAXKESRCLZLRTMKUXRUHMNLKGOHLGUPVLGIWZWLMCZWUGLNVVFGHNIIUFLGWEMHCINUDBTNLWYEJLGYCHEHMTKBLGSWUZFBTUMTBGKDBATVMRAFXRJALNUZCUDLNEMPDXPNVVFHLZEOLGUDBCIMPBGKWBZGULLEMMPCXYGOCGNMBNELKLZYOTAOBMAESEWYWLWJMFLKMRJAEONUDHMUBGKUOLTVMRAFXRJALNHQPNFPTJPTLFSEFZGUDVESJEOXUNBKJOTBSFCPKWHCIBGKNDIMTUAGPENINZPPEEMTCHTWFOGHUBNEQPKXUWBTFNXOEOEGUGLSEQTKBLMVBVLKCESJQAXUHBBHYTNTXIUPAUSDPCKEVSIIGSMTEJVGSXAZUMBBYSUDPVPLAJFBBABONACGYBUNFZPKTZSFZGPGIUDPCBVOOIVGLLNESIFLSBLFAGUWVCIIWMFHNDPGYELIBZVGNIEOCVGXUWFQUZXZKBVPZHNUUEKLOPEMMCUWLRFMKUXSUFKMLLLIOMTIBILJWVOXRAVAHBXSLFVYVXZSJKJZTBBFZILUBNEMPNXDITAIBMHUTVGOFLNXQTKHKESIWJALRLIPUXZSFQPLKNEMMJYMLNGZGBGKIOIWMWPEUWKSXATFWFLKKEOBJLXAITKJSXNEOWFLKLNETKJALRLIPUCHWBAILPPSTLCZULSUMXVGHLMMOPLAUOLKJAIETWPKXYSSIVOXLSSMELGZISMP'"
      ]
     },
     "execution_count": 217,
     "metadata": {},
     "output_type": "execute_result"
    }
   ],
   "source": [
    "geheimtext"
   ]
  },
  {
   "cell_type": "code",
   "execution_count": 213,
   "metadata": {},
   "outputs": [
    {
     "data": {
      "text/plain": [
       "0.39984"
      ]
     },
     "execution_count": 213,
     "metadata": {},
     "output_type": "execute_result"
    }
   ],
   "source": [
    "zweiGleiche('aaabbb')"
   ]
  },
  {
   "cell_type": "code",
   "execution_count": 214,
   "metadata": {},
   "outputs": [
    {
     "data": {
      "text/plain": [
       "0.4"
      ]
     },
     "execution_count": 214,
     "metadata": {},
     "output_type": "execute_result"
    }
   ],
   "source": [
    "2/5"
   ]
  },
  {
   "cell_type": "code",
   "execution_count": null,
   "metadata": {},
   "outputs": [],
   "source": []
  }
 ],
 "metadata": {
  "kernelspec": {
   "display_name": "Python 3",
   "language": "python",
   "name": "python3"
  },
  "language_info": {
   "codemirror_mode": {
    "name": "ipython",
    "version": 3
   },
   "file_extension": ".py",
   "mimetype": "text/x-python",
   "name": "python",
   "nbconvert_exporter": "python",
   "pygments_lexer": "ipython3",
   "version": "3.6.5"
  }
 },
 "nbformat": 4,
 "nbformat_minor": 2
}
