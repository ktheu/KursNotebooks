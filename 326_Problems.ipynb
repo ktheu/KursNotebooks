{
 "cells": [
  {
   "cell_type": "markdown",
   "metadata": {},
   "source": [
    "# Mauskampf\n",
    "\n",
    "\n",
    "(Aufgabenstellung aus dem 17. Bundeswettbewerb Informatik)"
   ]
  },
  {
   "cell_type": "markdown",
   "metadata": {},
   "source": [
    "![a](img/mauskampf1.png)\n",
    "![a](img/mauskampf2.png)\n",
    "![a](img/mauskampf3.png)\n",
    "![a](img/mauskampf4.png)\n"
   ]
  },
  {
   "cell_type": "markdown",
   "metadata": {},
   "source": [
    "#### Lösungshinweise\n",
    "\n",
    "Wir stellen uns Eingang,  Ausgang und Gang als Stack vor. Um den Zustand der Gänge\n",
    "mitzuteilen, wählen wir folgende vereinfachte Notation:"
   ]
  },
  {
   "cell_type": "code",
   "execution_count": null,
   "metadata": {},
   "outputs": [],
   "source": [
    "Stack Eingang mit top-Element rechts :  Stack Gang mit top-Element links  \n",
    "                                     :  Stack Ausgang mit top-Element nach links\n"
   ]
  },
  {
   "cell_type": "markdown",
   "metadata": {},
   "source": [
    "Wir notieren den Anfangszustand im Eingang und die Reihenfolge der Ankunft im Ausgang"
   ]
  },
  {
   "cell_type": "code",
   "execution_count": null,
   "metadata": {},
   "outputs": [],
   "source": [
    "           9 8 7 6 5 4 3 2 1   :                               \n",
    "                               : 7 6 5 4 3 2 8 9 1     "
   ]
  },
  {
   "cell_type": "markdown",
   "metadata": {},
   "source": [
    "Jetzt verschieben wir so viele Mäuse in den Gang, bis das top-Element des Gangs mit dem top-Element des Ausgangs übereinstimmt. Damit ist das Ankommen der Maus rekonstruiert und beide werden von Gang und Ausgang entfernt."
   ]
  },
  {
   "cell_type": "code",
   "execution_count": null,
   "metadata": {},
   "outputs": [],
   "source": [
    "9 8 7 6 5 4 3 2 1  :                               Ausgangssituation        \n",
    "                   : 7 6 5 4 3 2 8 9 1                                    \n",
    "                                                                            \n",
    "  9 8 7 6 5 4 3 2  : 1                             kein Kampf               \n",
    "                   : 7 6 5 4 3 2 8 9 1                               \n",
    "                                                                            \n",
    "    9 8 7 6 5 4 3  : 2 1                           Maus 2 hat gegen Maus 1 gewonnen\n",
    "                   : 7 6 5 4 3 2 8 9 1                           \n",
    "                                                                            \n",
    "      9 8 7 6 5 4  : 3 2 1                         Maus 3 hat gegen Maus 2 gewonnen \n",
    "                   : 7 6 5 4 3 2 8 9 1                                  \n",
    "                                                                            \n",
    "        9 8 7 6 5  : 4 3 2 1                       Maus 4 hat gegen Maus 3 gewonnen\n",
    "                   : 7 6 5 4 3 2 8 9 1                                       \n",
    "                                                                            \n",
    "          9 8 7 6  : 5 4 3 2 1                     Maus 5 hat gegen Maus 4 gewonnen\n",
    "                   : 7 6 5 4 3 2 8 9 1                                     \n",
    "                                                                            \n",
    "            9 8 7  : 6 5 4 3 2 1                   Maus 6 hat gegen Maus 5 gewonnen\n",
    "                   : 7 6 5 4 3 2 8 9 1                                     \n",
    "                                                                            \n",
    "              9 8  : 7 6 5 4 3 2 1                 Maus 7 hat gegen Maus 6 gewonnen\n",
    "                   : 7 6 5 4 3 2 8 9 1                                 \n",
    "                                                                            \n",
    "              9 8  : 6 5 4 3 2 1                   Maus 7 hat gegen Maus 8 gewonnen\n",
    "                   : 6 5 4 3 2 8 9 1                                      \n",
    "                                                                            \n",
    "              9 8  : 5 4 3 2 1                     Maus 6 hat gegen Maus 8 gewonnen\n",
    "                   : 5 4 3 2 8 9 1  \n",
    "                        \n",
    "              9 8  : 4 3 2 1                       Maus 5 hat gegen Maus 8 gewonnen\n",
    "                   : 4 3 2 8 9 1                                          \n",
    "                                                                            \n",
    "              9 8  : 3 2 1                         Maus 4 hat gegen Maus 8 gewonnen\n",
    "                   : 3 2 8 9 1                                              \n",
    "                                                                            \n",
    "              9 8  : 2 1                           Maus 3 hat gegen Maus 8 gewonnen\n",
    "                   : 2 8 9 1                                                 \n",
    "                                                                            \n",
    "              9 8  : 1                             Maus 2 hat gegen Maus 8 gewonnen\n",
    "                   : 8 9 1                                                    \n",
    "                                                                            \n",
    "                9  : 8 1                           Maus 8 hat gegen Maus 1 gewonnen\n",
    "                   : 8 9 1                                                     \n",
    "                                                                            \n",
    "                9  : 1                             Maus 8 hat gegen Maus 9 gewonnen\n",
    "                   : 9 1                                                   \n",
    "                                                                            \n",
    "                   : 9 1                           Maus 9 hat gegen Maus 1 gewonnen\n",
    "                   : 9 1                                                    \n",
    "                                                                            \n",
    "                   : 1                             kein Kampf               \n",
    "                   : 1                                                      \n",
    "                                                                            \n",
    "                   :                               kein Kampf   "
   ]
  },
  {
   "cell_type": "markdown",
   "metadata": {},
   "source": [
    "Für die Ankunftsreihenfolge 7, 6, 5, 4, 3, 2, 8, 9, 1   erhalten wir folgendes Ergebnis:"
   ]
  },
  {
   "cell_type": "code",
   "execution_count": null,
   "metadata": {},
   "outputs": [],
   "source": [
    "Maus  1 - Siege: 0 Niederlagen: 3 \n",
    "Maus  2 - Siege: 2 Niederlagen: 1 \n",
    "Maus  3 - Siege: 2 Niederlagen: 1 \n",
    "Maus  4 - Siege: 2 Niederlagen: 1 \n",
    "Maus  5 - Siege: 2 Niederlagen: 1 \n",
    "Maus  6 - Siege: 2 Niederlagen: 1 \n",
    "Maus  7 - Siege: 2 Niederlagen: 0 \n",
    "Maus  8 - Siege: 2 Niederlagen: 6 \n",
    "Maus  9 - Siege: 1 Niederlagen: 1 "
   ]
  },
  {
   "cell_type": "markdown",
   "metadata": {},
   "source": [
    "Fehlerhafte Eingabe:"
   ]
  },
  {
   "cell_type": "code",
   "execution_count": null,
   "metadata": {},
   "outputs": [],
   "source": [
    "                  6 5 4 3 2 1  :                               \n",
    "                               : 4 5 3 1 2 6                   \n",
    "\n",
    "                    6 5 4 3 2  : 1                             \n",
    "                               : 4 5 3 1 2 6                   \n",
    "\n",
    "                      6 5 4 3  : 2 1                           \n",
    "                               : 4 5 3 1 2 6                   \n",
    "\n",
    "                        6 5 4  : 3 2 1                         \n",
    "                               : 4 5 3 1 2 6                   \n",
    "\n",
    "                          6 5  : 4 3 2 1                       \n",
    "                               : 4 5 3 1 2 6                   \n",
    "\n",
    "                          6 5  : 3 2 1                         \n",
    "                               : 5 3 1 2 6                     \n",
    "\n",
    "                            6  : 5 3 2 1                       \n",
    "                               : 5 3 1 2 6                     \n",
    "\n",
    "                            6  : 3 2 1                         \n",
    "                               : 3 1 2 6                       \n",
    "\n",
    "                            6  : 2 1                           \n",
    "                               : 1 2 6                         \n",
    "\n",
    "                               : 6 2 1                         \n",
    "                               : 1 2 6                         \n",
    "\n",
    "                        "
   ]
  }
 ],
 "metadata": {
  "kernelspec": {
   "display_name": "Python 3",
   "language": "python",
   "name": "python3"
  },
  "language_info": {
   "codemirror_mode": {
    "name": "ipython",
    "version": 3
   },
   "file_extension": ".py",
   "mimetype": "text/x-python",
   "name": "python",
   "nbconvert_exporter": "python",
   "pygments_lexer": "ipython3",
   "version": "3.6.5"
  }
 },
 "nbformat": 4,
 "nbformat_minor": 2
}
