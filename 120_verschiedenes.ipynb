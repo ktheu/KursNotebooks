{
 "cells": [
  {
   "cell_type": "markdown",
   "metadata": {},
   "source": [
    "### Daten einlesen\n",
    "\n",
    "In der ersten Zeile stehen width und height der einzulesenden Matrix"
   ]
  },
  {
   "cell_type": "code",
   "execution_count": null,
   "metadata": {},
   "outputs": [],
   "source": [
    "7 7\n",
    "A  B  C\n",
    "|  |  |\n",
    "|--|  |\n",
    "|  |--|\n",
    "|  |--|\n",
    "|  |  |\n",
    "1  2  3"
   ]
  },
  {
   "cell_type": "markdown",
   "metadata": {},
   "source": [
    "#### Mit input einlesen\n",
    "\n",
    "Mit Input eine Zeile mit Zahlen einlesen, die durch blank getrennt sind"
   ]
  },
  {
   "cell_type": "code",
   "execution_count": 25,
   "metadata": {},
   "outputs": [],
   "source": [
    "# 1. Möglichkeit \n",
    "lines = [input() for i in range(int(input().split()[1]))]"
   ]
  },
  {
   "cell_type": "code",
   "execution_count": 24,
   "metadata": {},
   "outputs": [],
   "source": [
    "# 2. Möglichkeit\n",
    "w, h = [int(i) for i in input().split()]\n",
    "lines = []\n",
    "for i in range(h):\n",
    "    lines.append(input())    "
   ]
  },
  {
   "cell_type": "code",
   "execution_count": null,
   "metadata": {},
   "outputs": [],
   "source": [
    "# 3. Möglichkeit"
   ]
  },
  {
   "cell_type": "code",
   "execution_count": 26,
   "metadata": {},
   "outputs": [],
   "source": [
    "w, h = map(int,input().split())\n",
    "lines = [input() for _ in range(h)]"
   ]
  },
  {
   "cell_type": "markdown",
   "metadata": {},
   "source": [
    "#### Aus Datei einlesen\n"
   ]
  },
  {
   "cell_type": "code",
   "execution_count": 38,
   "metadata": {},
   "outputs": [
    {
     "data": {
      "text/plain": [
       "['F  E  D  C  B  A',\n",
       " '|  |--|  |  |  |',\n",
       " '|--|  |--|  |--|',\n",
       " '|  |--|  |--|  |',\n",
       " '|  |  |  |  |--|',\n",
       " '|  |--|  |--|  |',\n",
       " '|  |  |--|  |  |',\n",
       " '|  |  |--|  |--|',\n",
       " '|--|  |  |--|  |',\n",
       " '|  |  |--|  |  |',\n",
       " '|--|  |  |  |--|',\n",
       " '|  |--|  |  |  |',\n",
       " '|  |  |--|  |  |',\n",
       " '0  1  2  3  4  ']"
      ]
     },
     "execution_count": 38,
     "metadata": {},
     "output_type": "execute_result"
    }
   ],
   "source": [
    "# 1. Möglichkeit\n",
    "with open ('data/data1.txt') as f:\n",
    "    lines = [f.readline()[:-1] for _ in range(int(f.readline().split()[1]))]\n",
    "lines\n"
   ]
  },
  {
   "cell_type": "code",
   "execution_count": 37,
   "metadata": {},
   "outputs": [
    {
     "data": {
      "text/plain": [
       "['F  E  D  C  B  A',\n",
       " '|  |--|  |  |  |',\n",
       " '|--|  |--|  |--|',\n",
       " '|  |--|  |--|  |',\n",
       " '|  |  |  |  |--|',\n",
       " '|  |--|  |--|  |',\n",
       " '|  |  |--|  |  |',\n",
       " '|  |  |--|  |--|',\n",
       " '|--|  |  |--|  |',\n",
       " '|  |  |--|  |  |',\n",
       " '|--|  |  |  |--|',\n",
       " '|  |--|  |  |  |',\n",
       " '|  |  |--|  |  |',\n",
       " '0  1  2  3  4  5']"
      ]
     },
     "execution_count": 37,
     "metadata": {},
     "output_type": "execute_result"
    }
   ],
   "source": [
    "# 2. Möglichkeit\n",
    "with open ('data/data1.txt') as f:\n",
    "    w, h = [int(i) for i in f.readline().split()]\n",
    "    lines = f.read().splitlines()               #  die Elemente von data enthalten keinen Zeilenvorschub\n",
    "\n",
    "lines"
   ]
  },
  {
   "cell_type": "code",
   "execution_count": 5,
   "metadata": {},
   "outputs": [
    {
     "name": "stdout",
     "output_type": "stream",
     "text": [
      "12 8 20\n"
     ]
    }
   ],
   "source": [
    "with open ('data/data1.txt') as f:\n",
    "    w, h = [int(i) for i in f.readline().split()]\n",
    "print(w,h,w+h)"
   ]
  },
  {
   "cell_type": "code",
   "execution_count": 12,
   "metadata": {},
   "outputs": [
    {
     "name": "stdout",
     "output_type": "stream",
     "text": [
      "16 14 30\n"
     ]
    }
   ],
   "source": [
    "with open ('data/data1.txt') as f:\n",
    "    w, h = map(int,f.readline().split())\n",
    "print(w,h,w+h)"
   ]
  },
  {
   "cell_type": "markdown",
   "metadata": {},
   "source": [
    "#### Eine Zeichenmatrix einlesen"
   ]
  },
  {
   "cell_type": "code",
   "execution_count": null,
   "metadata": {},
   "outputs": [],
   "source": [
    "with open ('data/data1.txt') as f:\n",
    "    w, h = map(int,f.readline().split())\n",
    "    grid = [[c for c in f.readline()[:-1]] for _ in range(h)]   # [:-1] wg. carrige return\n",
    "    \n",
    "grid"
   ]
  },
  {
   "cell_type": "code",
   "execution_count": null,
   "metadata": {},
   "outputs": [],
   "source": [
    "lines = [input() for i in range(int(input().split()[1]))]"
   ]
  },
  {
   "cell_type": "markdown",
   "metadata": {},
   "source": [
    "#### Die map-Funktion\n",
    "\n",
    "map(function,iterable)\n",
    "\n",
    "Die Funktion map ruft *function* für jedes Element von *iterable* auf und gibt ein iterierbares\n",
    "Objekt zurück, das die jeweiligen Rückgabewerte von function durchläuft. Sollten\n",
    "mehrere iterierbare Objekte übergeben werden, werden function die jeweils nten\n",
    "Elemente dieser Objekte übergeben."
   ]
  },
  {
   "cell_type": "code",
   "execution_count": 10,
   "metadata": {},
   "outputs": [
    {
     "data": {
      "text/plain": [
       "[6, 10]"
      ]
     },
     "execution_count": 10,
     "metadata": {},
     "output_type": "execute_result"
    }
   ],
   "source": [
    "def f(x):\n",
    "    return 2*x\n",
    "\n",
    "list(map(f,[3,5]))"
   ]
  },
  {
   "cell_type": "code",
   "execution_count": 11,
   "metadata": {},
   "outputs": [
    {
     "data": {
      "text/plain": [
       "[4, 6, 3, 5]"
      ]
     },
     "execution_count": 11,
     "metadata": {},
     "output_type": "execute_result"
    }
   ],
   "source": [
    "f = lambda x, y: x+y\n",
    "ergebnis = map(f, [1,2,3,4], [3,4,0,1])\n",
    "list(ergebnis)"
   ]
  },
  {
   "cell_type": "code",
   "execution_count": null,
   "metadata": {},
   "outputs": [],
   "source": []
  }
 ],
 "metadata": {
  "kernelspec": {
   "display_name": "Python 3",
   "language": "python",
   "name": "python3"
  },
  "language_info": {
   "codemirror_mode": {
    "name": "ipython",
    "version": 3
   },
   "file_extension": ".py",
   "mimetype": "text/x-python",
   "name": "python",
   "nbconvert_exporter": "python",
   "pygments_lexer": "ipython3",
   "version": "3.6.5"
  }
 },
 "nbformat": 4,
 "nbformat_minor": 2
}
