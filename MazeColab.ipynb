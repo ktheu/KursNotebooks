{
  "nbformat": 4,
  "nbformat_minor": 0,
  "metadata": {
    "colab": {
      "name": "Maze",
      "provenance": [],
      "collapsed_sections": [],
      "toc_visible": true,
      "authorship_tag": "ABX9TyM/WXkmpBsrLrdX3hzBdlr/",
      "include_colab_link": true
    },
    "kernelspec": {
      "name": "python3",
      "display_name": "Python 3"
    }
  },
  "cells": [
    {
      "cell_type": "markdown",
      "metadata": {
        "id": "view-in-github",
        "colab_type": "text"
      },
      "source": [
        "<a href=\"https://colab.research.google.com/github/ktheu/KursNotebooks/blob/master/MazeColab.ipynb\" target=\"_parent\"><img src=\"https://colab.research.google.com/assets/colab-badge.svg\" alt=\"Open In Colab\"/></a>"
      ]
    },
    {
      "cell_type": "code",
      "metadata": {
        "id": "jDbl3lcAbabv",
        "colab_type": "code",
        "colab": {}
      },
      "source": [
        "from google.colab import drive\n",
        "drive.mount('/content/gdrive')"
      ],
      "execution_count": 0,
      "outputs": []
    },
    {
      "cell_type": "code",
      "metadata": {
        "id": "8vIBTKMUccAk",
        "colab_type": "code",
        "colab": {}
      },
      "source": [
        "!ls gdrive/'My Drive'"
      ],
      "execution_count": 0,
      "outputs": []
    },
    {
      "cell_type": "code",
      "metadata": {
        "id": "138qpw4NejaZ",
        "colab_type": "code",
        "colab": {}
      },
      "source": [
        "from google.colab import files\n",
        "uploaded = files.upload()"
      ],
      "execution_count": 0,
      "outputs": []
    },
    {
      "cell_type": "code",
      "metadata": {
        "id": "FX3AfBLkfMDh",
        "colab_type": "code",
        "colab": {
          "base_uri": "https://localhost:8080/",
          "height": 353
        },
        "outputId": "3eb26bb4-4b42-4ca0-992d-c23c0929574d"
      },
      "source": [
        "f = open(\"maze02.txt\")       \n",
        "lines = f.read().splitlines()\n",
        "grid = [list(s) for s in lines]\n",
        "\n",
        "def showGrid():\n",
        "    for a in grid:\n",
        "        print(''.join(a))\n",
        "        \n",
        "showGrid()"
      ],
      "execution_count": 9,
      "outputs": [
        {
          "output_type": "stream",
          "text": [
            "XXXXXXXXXXXXXXXXXXXXXXXXXXXXXXXXXXXXXXXXXXXXXXXXXXXXXXXXXXXXXXXXXXX\n",
            "X                                                                 X\n",
            "X                                                                 X\n",
            "X                                                                 X\n",
            "X                       XXXXXXXXXXXXXXXXX                         X\n",
            "X                       X                                         X\n",
            "X                       X                     X                   X\n",
            "X                       X                     X                   X\n",
            "X                       X                     X                   X\n",
            "X                       X                              X          X\n",
            "X                       X      XXXXXXXXXXXXXXXXXXXX    X          X\n",
            "X                       X                              X          X\n",
            "X                       X           E                  X          X\n",
            "X                       XXXXXXXXXXXXXXXXXXXXXXXXXXXXXXXX          X\n",
            "X                                                                 X\n",
            "X                                                                 X\n",
            "X                                                                 X\n",
            "X     S                                                           X\n",
            "X                                                                 X\n",
            "XXXXXXXXXXXXXXXXXXXXXXXXXXXXXXXXXXXXXXXXXXXXXXXXXXXXXXXXXXXXXXXXXXX\n"
          ],
          "name": "stdout"
        }
      ]
    },
    {
      "cell_type": "code",
      "metadata": {
        "id": "dCR0akxVfkYS",
        "colab_type": "code",
        "colab": {}
      },
      "source": [
        "from collections import deque\n",
        "from heapq import heappop, heappush\n",
        "'''\n",
        "Ein state ist ein Tupel (x,y) in einem grid (einer\n",
        "Liste mit Listen von Tupeln)\n",
        "'''\n",
        "        \n",
        "def getStart():\n",
        "    for x in range(len(grid)):\n",
        "        for y in range(len(grid[x])):\n",
        "            if grid[x][y] == 'S':\n",
        "                return x, y\n",
        "def getGoal():\n",
        "    for x in range(len(grid)):\n",
        "        for y in range(len(grid[x])):\n",
        "            if grid[x][y] == 'E':\n",
        "                return x, y\n",
        "\n",
        "def goaltest(state):\n",
        "    return grid[state[0]][state[1]]  == 'E'\n",
        "\n",
        "def nextstates(state):\n",
        "    x, y = state\n",
        "    tmp = []\n",
        "    for xd, yd in dirs:\n",
        "        xn, yn = x+xd, y+yd\n",
        "        if grid[xn][yn] != 'X':\n",
        "            tmp.append((xn,yn))\n",
        "    return tmp\n",
        "\n",
        "def reconstructPath(prev,state):\n",
        "    s = state\n",
        "    tmp = []\n",
        "    while prev[s] is not None:\n",
        "        tmp.append(s)\n",
        "        s = prev[s]\n",
        "    tmp.append(s)\n",
        "    tmp.reverse()\n",
        "    return tmp \n",
        "\n",
        "def bfs(s):\n",
        "    frontier =  deque([s])\n",
        "    prev = {s:None}\n",
        "    while frontier:\n",
        "        state = frontier.popleft()\n",
        "        if goaltest(state):\n",
        "            return prev, state, frontier\n",
        "        for v in nextstates(state):\n",
        "            if v not in prev:\n",
        "                frontier.append(v)\n",
        "                prev[v] = state\n",
        "\n",
        "def dfs(s):\n",
        "    frontier =  [s]\n",
        "    prev = {s:None}\n",
        "    \n",
        "    while frontier:\n",
        "        state = frontier.pop()  \n",
        "        if goaltest(state):\n",
        "            return prev, state, frontier\n",
        "        nxt = nextstates(state)\n",
        "        nxt.reverse()        # die linken Kinder sollen zuletzt auf den frontier-Keller\n",
        "        for v in nxt:\n",
        "            if v not in prev:\n",
        "                frontier.append(v)\n",
        "                prev[v] = state\n",
        "\n",
        "def h(state):\n",
        "    ''' Manhatten-Distanz '''\n",
        "    x1, y1 = state\n",
        "    x2, y2 = goalstate\n",
        "    return abs(x1-x2) + abs(y1-y2)\n",
        "\n",
        "def h2(state):\n",
        "    ''' Euklidsche-Distanz '''\n",
        "    x1, y1 = state\n",
        "    x2, y2 = goalstate\n",
        "    return ((x1-x2)**2 + (y1-y2)**2)**0.5   \n",
        "\n",
        "def greedy(s):\n",
        "    frontier =[(h(s),s)]  \n",
        "    prev = {s:None}\n",
        "    while frontier:\n",
        "        _ ,state = heappop(frontier)  \n",
        "        if goaltest(state):\n",
        "            return prev,frontier\n",
        "        for v in nextstates(state):\n",
        "            if v not in prev:\n",
        "                heappush(frontier,(h(v),v))\n",
        "                prev[v] = state\n",
        "\n",
        "def astar(s):\n",
        "    frontier =[(h(s),s)]  \n",
        "    prev = {s:None}\n",
        "    g = {s:0}                         # backword costs \n",
        "    while frontier:\n",
        "        _ ,state = heappop(frontier)  # die Kosten braucht man an der Stelle nicht\n",
        "        if goaltest(state):\n",
        "            return prev,frontier\n",
        "        for v in nextstates(state):\n",
        "            gg = g[state] + 1\n",
        "            if v not in prev or gg < g[v]:\n",
        "                g[v] = gg\n",
        "                heappush(frontier,(g[v]+h(v),v))\n",
        "                prev[v] = state\n",
        "                \n",
        "def showResult():  \n",
        "    # für bfs und dfs\n",
        "    for x,y in prev:\n",
        "        grid[x][y]='.'\n",
        "    for x,y in path:\n",
        "        grid[x][y] = 'o'\n",
        "    for x,y in frontier:\n",
        "        grid[x][y] = '~'\n",
        "    x,y = startstate\n",
        "    grid[x][y] = 'S'\n",
        "    x,y = goalstate\n",
        "    grid[x][y] = 'E'\n",
        "    showGrid()\n",
        " \n",
        "    print(\"explored = {}, weglänge = {}\".format(len(prev)-len(frontier), len(path)-1))\n",
        "    print(\"gefundener Weg: 'o', explored: '.', frontier: '~'\")\n",
        "    \n",
        "def showResult2():\n",
        "    # für greedy und astar \n",
        "    for x,y in prev:\n",
        "        grid[x][y]='.'\n",
        "    for x,y in path:\n",
        "        grid[x][y] = 'o'\n",
        "    for tup in frontier:\n",
        "        _, state = tup\n",
        "        x, y = state\n",
        "        grid[x][y] = '~'\n",
        "    x,y = startstate\n",
        "    grid[x][y] = 'S'\n",
        "    x,y = goalstate\n",
        "    grid[x][y] = 'E'\n",
        "    showGrid()\n",
        " \n",
        "    print(\"explored = {}, weglänge = {}\".format(len(prev)-len(frontier), len(path)-1))\n",
        "    print(\"gefundener Weg: 'o', explored: '.', frontier: '~'\")\n",
        "    \n",
        "N, E, S, W  = (-1,0), (0,1), (1,0), (0,-1)\n",
        "dirs = [N,S,W,E]"
      ],
      "execution_count": 0,
      "outputs": []
    },
    {
      "cell_type": "markdown",
      "metadata": {
        "id": "wY75eSPPfz0-",
        "colab_type": "text"
      },
      "source": [
        "#### Breitensuche"
      ]
    },
    {
      "cell_type": "code",
      "metadata": {
        "id": "kaUWUorhfyPE",
        "colab_type": "code",
        "colab": {
          "base_uri": "https://localhost:8080/",
          "height": 386
        },
        "outputId": "be35380b-eac1-47c9-9d4f-12845ebf693b"
      },
      "source": [
        "f = open(\"maze02.txt\")       \n",
        "lines = f.read().splitlines()\n",
        "grid = [list(s) for s in lines]\n",
        "\n",
        "startstate = getStart()\n",
        "prev, goalstate, frontier = bfs(startstate)     # bfs, dfs, greedy, astar\n",
        "path = reconstructPath(prev,goalstate)\n",
        "\n",
        "showResult()"
      ],
      "execution_count": 11,
      "outputs": [
        {
          "output_type": "stream",
          "text": [
            "XXXXXXXXXXXXXXXXXXXXXXXXXXXXXXXXXXXXXXXXXXXXXXXXXXXXXXXXXXXXXXXXXXX\n",
            "X.................................................................X\n",
            "X.................................................................X\n",
            "X.....oooooooooooooooooooooooooooooooooooo........................X\n",
            "X.....o.................XXXXXXXXXXXXXXXXXo........................X\n",
            "X.....o.................X................o........................X\n",
            "X.....o.................X................o....X...................X\n",
            "X.....o.................X................o....X...................X\n",
            "X.....o.................X................o....X...................X\n",
            "X.....o.................X.....oooooooooooo.............X..........X\n",
            "X.....o.................X.....oXXXXXXXXXXXXXXXXXXXX....X..........X\n",
            "X.....o.................X.....o......~     ~...........X..........X\n",
            "X.....o.................X.....ooooooE       ~..........X..........X\n",
            "X.....o.................XXXXXXXXXXXXXXXXXXXXXXXXXXXXXXXX..........X\n",
            "X.....o...........................................................X\n",
            "X.....o...........................................................X\n",
            "X.....o...........................................................X\n",
            "X.....S...........................................................X\n",
            "X.................................................................X\n",
            "XXXXXXXXXXXXXXXXXXXXXXXXXXXXXXXXXXXXXXXXXXXXXXXXXXXXXXXXXXXXXXXXXXX\n",
            "explored = 1071, weglänge = 75\n",
            "gefundener Weg: 'o', explored: '.', frontier: '~'\n"
          ],
          "name": "stdout"
        }
      ]
    },
    {
      "cell_type": "markdown",
      "metadata": {
        "id": "xMlp7Cvfgdc0",
        "colab_type": "text"
      },
      "source": [
        "#### Tiefensuche\n"
      ]
    },
    {
      "cell_type": "markdown",
      "metadata": {
        "id": "5S6azE0_pbPC",
        "colab_type": "text"
      },
      "source": [
        ""
      ]
    },
    {
      "cell_type": "code",
      "metadata": {
        "id": "f258tJTNgocf",
        "colab_type": "code",
        "colab": {
          "base_uri": "https://localhost:8080/",
          "height": 454
        },
        "outputId": "2694e39a-be5d-438f-9f23-a9713593f575"
      },
      "source": [
        "f = open(\"gdrive/My Drive/data/maze01.txt\")    \n",
        "lines = f.read().splitlines()\n",
        "f.close()\n",
        "grid = [list(s) for s in lines]\n",
        "\n",
        "startstate = getStart()\n",
        "prev, goalstate, frontier = dfs(startstate)     # bfs, dfs, greedy, astar\n",
        "path = reconstructPath(prev,goalstate)\n",
        "\n",
        "showResult()"
      ],
      "execution_count": 37,
      "outputs": [
        {
          "output_type": "stream",
          "text": [
            "XXXXXXXXXXXXXXXXXXXXXXXXXXXXXXXXXXXXXXXXXXXXXXXXXXXXXXXXXXXXXXXXXXX\n",
            "X..........~ooo~ooo~ooo~ooo~ooo~ooo~ooo~                          X\n",
            "X..........~o~o~o~o~o~o~o~o~o~o~o~o~o~o~                          X\n",
            "X..........~o~o~o~o~o~o~o~o~o~o~o~o~o~o~                          X\n",
            "X..........~o~o~o~o~o~o~o~o~o~o~o~o~o~o~                          X\n",
            "X..........~o~o~o~o~o~o~o~o~o~o~o~o~o~o~                          X\n",
            "X..........~o~o~o~o~o~o~o~ooo~ooo~ooo~o~                          X\n",
            "X..........~o~o~o~o~o~o~o~XXXXXXXXXXXXo~                          X\n",
            "X..........~o~o~o~o~o~o~o~X        Eo~o~                          X\n",
            "X..........~o~o~o~o~o~o~o~X        ~o~o~                          X\n",
            "X..........~o~o~o~o~o~o~o~X        ~o~o~                          X\n",
            "X..........~o~S~o~o~o~o~o~X        ~o~o~                          X\n",
            "X..........~o~~oo~o~o~o~o~X        ~o~o~                          X\n",
            "X..........~o~oo~~o~o~o~o~         ~o~o~                          X\n",
            "X..........~o~o~.~o~o~o~o~         ~o~o~                          X\n",
            "X..........~o~o~.~o~o~o~o~         ~o~o~                          X\n",
            "X..........~o~o~.~o~o~o~o~         ~o~o~                          X\n",
            "X..........~o~o~.~o~o~o~o~         ~o~o~                          X\n",
            "X..........~o~o~.~o~o~o~o~         ~o~o~                          X\n",
            "X..........~o~o~.~o~o~o~o~         ~o~o~                          X\n",
            "X..........~o~o~.~o~o~o~o~         ~o~o~                          X\n",
            "X..........~o~o~.~o~o~o~o~         ~o~o~                          X\n",
            "X...........ooo~..ooo~ooo~         ~ooo~                          X\n",
            "XXXXXXXXXXXXXXXXXXXXXXXXXXXXXXXXXXXXXXXXXXXXXXXXXXXXXXXXXXXXXXXXXXX\n",
            "explored = 464, weglänge = 232\n",
            "gefundener Weg: 'o', explored: '.', frontier: '~'\n"
          ],
          "name": "stdout"
        }
      ]
    },
    {
      "cell_type": "markdown",
      "metadata": {
        "id": "YIphLaOVgxS1",
        "colab_type": "text"
      },
      "source": [
        "#### Greedy"
      ]
    },
    {
      "cell_type": "code",
      "metadata": {
        "id": "qvW9MtADgzV3",
        "colab_type": "code",
        "colab": {
          "base_uri": "https://localhost:8080/",
          "height": 386
        },
        "outputId": "54ae1257-e050-4b4c-8981-89f3b48e2e42"
      },
      "source": [
        "f = open(\"maze02.txt\")       \n",
        "lines = f.read().splitlines()\n",
        "grid = [list(s) for s in lines]\n",
        "\n",
        "startstate = getStart()\n",
        "goalstart = getGoal()\n",
        "prev, frontier = greedy(startstate)     # bfs, dfs, greedy, astar\n",
        "path = reconstructPath(prev,goalstate)\n",
        "\n",
        "showResult2()"
      ],
      "execution_count": 13,
      "outputs": [
        {
          "output_type": "stream",
          "text": [
            "XXXXXXXXXXXXXXXXXXXXXXXXXXXXXXXXXXXXXXXXXXXXXXXXXXXXXXXXXXXXXXXXXXX\n",
            "X                               ~.......~                         X\n",
            "X                      ~~~~~~~~~.........~                        X\n",
            "X                     ~ooooooooooooooooooo~                       X\n",
            "X                     ~oXXXXXXXXXXXXXXXXXo~                       X\n",
            "X                    ~.oX        ~..oooooo~                       X\n",
            "X                   ~..oX       ~...o...~~    X                   X\n",
            "X                  ~...oX      ~....o....~    X                   X\n",
            "X                 ~....oX     ~.....o.....~   X                   X\n",
            "X                ~.....oX    ~ooooooo.....~            X          X\n",
            "X               ~......oX    ~oXXXXXXXXXXXXXXXXXXXX    X          X\n",
            "X     ~~~~~~~~~~.......oX    ~ooooooo~                 X          X\n",
            "X    ~ooooooooooooooooooX     ~~~~~~E                  X          X\n",
            "X    ~o~~~~~~~~~........XXXXXXXXXXXXXXXXXXXXXXXXXXXXXXXX          X\n",
            "X    ~o~        ~.......................................~         X\n",
            "X    ~o~         ~.....................................~          X\n",
            "X    ~o~          ~...................................~           X\n",
            "X    ~S~           ~.................................~            X\n",
            "X     ~             ~...............................~             X\n",
            "XXXXXXXXXXXXXXXXXXXXXXXXXXXXXXXXXXXXXXXXXXXXXXXXXXXXXXXXXXXXXXXXXXX\n",
            "explored = 334, weglänge = 75\n",
            "gefundener Weg: 'o', explored: '.', frontier: '~'\n"
          ],
          "name": "stdout"
        }
      ]
    },
    {
      "cell_type": "markdown",
      "metadata": {
        "id": "iaow2x4Fg_vu",
        "colab_type": "text"
      },
      "source": [
        "#### A*"
      ]
    },
    {
      "cell_type": "code",
      "metadata": {
        "id": "CxdxgB61hCyw",
        "colab_type": "code",
        "colab": {
          "base_uri": "https://localhost:8080/",
          "height": 454
        },
        "outputId": "b1a8b575-03d6-48ca-992b-b2075c28796f"
      },
      "source": [
        "f = open(\"gdrive/My Drive/data/maze01.txt\")       \n",
        "lines = f.read().splitlines()\n",
        "f.close()\n",
        "grid = [list(s) for s in lines]\n",
        "\n",
        "startstate = getStart()\n",
        "goalstate = getGoal()\n",
        "prev, frontier = astar(startstate)     # bfs, dfs, greedy, astar\n",
        "path = reconstructPath(prev,goalstate)\n",
        "\n",
        "showResult2()"
      ],
      "execution_count": 36,
      "outputs": [
        {
          "output_type": "stream",
          "text": [
            "XXXXXXXXXXXXXXXXXXXXXXXXXXXXXXXXXXXXXXXXXXXXXXXXXXXXXXXXXXXXXXXXXXX\n",
            "X                                                                 X\n",
            "X                                                                 X\n",
            "X                                                                 X\n",
            "X                                                                 X\n",
            "X             ~~~~~~~~~~~~~~~~~~~~~~                              X\n",
            "X            ~......................~                             X\n",
            "X           ~.............XXXXXXXXXXXX                            X\n",
            "X          ~..............XooooooooE                              X\n",
            "X          ~..............Xo~~~~~~~                               X\n",
            "X          ~..............Xo~                                     X\n",
            "X          ~..SoooooooooooXo~                                     X\n",
            "X           ~............oXo~                                     X\n",
            "X            ~...........ooo~                                     X\n",
            "X             ~~~~~~~~~~~~~~                                      X\n",
            "X                                                                 X\n",
            "X                                                                 X\n",
            "X                                                                 X\n",
            "X                                                                 X\n",
            "X                                                                 X\n",
            "X                                                                 X\n",
            "X                                                                 X\n",
            "X                                                                 X\n",
            "XXXXXXXXXXXXXXXXXXXXXXXXXXXXXXXXXXXXXXXXXXXXXXXXXXXXXXXXXXXXXXXXXXX\n",
            "explored = 131, weglänge = 28\n",
            "gefundener Weg: 'o', explored: '.', frontier: '~'\n"
          ],
          "name": "stdout"
        }
      ]
    }
  ]
}