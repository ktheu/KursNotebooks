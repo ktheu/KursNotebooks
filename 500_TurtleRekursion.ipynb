{
 "cells": [
  {
   "cell_type": "markdown",
   "metadata": {},
   "source": [
    "# Rekursive Zeichnungen mit der Turtle"
   ]
  },
  {
   "cell_type": "markdown",
   "metadata": {},
   "source": [
    "#### Rekursiver Baum mit Äpfel"
   ]
  },
  {
   "cell_type": "code",
   "execution_count": null,
   "metadata": {},
   "outputs": [],
   "source": [
    "import turtle as t\n",
    "  \n",
    "def zeichne():\n",
    "    t.reset()\n",
    "    t.hideturtle()\n",
    "    t.penup()\n",
    "    t.setpos(-50,-300)       # Startposition\n",
    "    t.pendown()\n",
    "    t.setheading(90)\n",
    "    t.forward(200)           # Stamm zeichnen\n",
    "    zeichne_rekursiv(200,6)\n",
    "    t.update()\n",
    "    \n",
    "def zeichne_rekursiv(laenge,bremse):\n",
    "    if bremse == 0: \n",
    "        t.dot(10, \"red\")\n",
    "        return\n",
    "    pos = t.position()\n",
    "    winkel = t.heading()\n",
    "    t.right(60)\n",
    "    t.forward(laenge)\n",
    "    zeichne_rekursiv(laenge*0.7,bremse-1)\n",
    "    t.penup()\n",
    "    t.setpos(pos)\n",
    "    t.setheading(winkel)\n",
    "    t.pendown()\n",
    "    t.right(-40)\n",
    "    t.forward(laenge * 0.8)\n",
    "    zeichne_rekursiv(laenge * 0.6,bremse-1)\n",
    "\n",
    "t.setup(900,700,50,50)\n",
    "#t.tracer(0,0)\n",
    "zeichne()  \n",
    "t.mainloop()"
   ]
  },
  {
   "cell_type": "markdown",
   "metadata": {},
   "source": [
    "![baum](img/turtle_02.png)"
   ]
  },
  {
   "cell_type": "markdown",
   "metadata": {},
   "source": [
    "#### Rekursiver Baum mit Steuerung\n",
    "Mit rechter und linker Maustaste werden die Rekursionsstufen verändert, mit den Tasten 'f' und 'g' werden die Winkel der Äste verändert.\n"
   ]
  },
  {
   "cell_type": "code",
   "execution_count": null,
   "metadata": {},
   "outputs": [],
   "source": [
    "import turtle as t\n",
    "\n",
    "def leftmouse(x,y):\n",
    "    global bremse\n",
    "    bremse += 1\n",
    "    zeichne()\n",
    "    \n",
    "def rightmouse(x,y):\n",
    "    global bremse\n",
    "    if bremse > 0:\n",
    "        bremse -= 1\n",
    "    zeichne()\n",
    "\n",
    "def f_key():\n",
    "    global nachrechts, nachlinks\n",
    "    nachrechts -=1\n",
    "    nachlinks -=1\n",
    "    zeichne()\n",
    "    \n",
    "def g_key():\n",
    "    global nachrechts, nachlinks\n",
    "    nachrechts +=1\n",
    "    nachlinks +=1\n",
    "    zeichne()\n",
    "    \n",
    "def zeichne():\n",
    "    t.reset()\n",
    "    t.hideturtle()\n",
    "    t.color('green')\n",
    "    t.penup()\n",
    "    t.setpos(-50,-300)\n",
    "    t.pendown()\n",
    "    t.setheading(90)\n",
    "    zeichne_rekursiv(400,bremse)\n",
    "    t.update()\n",
    "    \n",
    "def zeichne_rekursiv(laenge,bremse):\n",
    "    if bremse == 0: return\n",
    "    \n",
    "    t.forward(laenge*0.5)\n",
    "    pos, winkel = t.position(), t.heading()\n",
    "    \n",
    "    t.right(nachrechts)\n",
    "    zeichne_rekursiv(laenge*0.7,bremse-1)\n",
    "    \n",
    "    t.penup()\n",
    "    t.setpos(pos)\n",
    "    t.setheading(winkel)\n",
    "    t.pendown()\n",
    "\n",
    "    t.forward(laenge*0.3)\n",
    "    pos, winkel = t.position(), t.heading()\n",
    "    \n",
    "    t.left(nachlinks)\n",
    "    zeichne_rekursiv(laenge*0.5,bremse-1)\n",
    "    \n",
    "    t.penup()\n",
    "    t.setpos(pos)\n",
    "    t.setheading(winkel)\n",
    "    t.pendown()\n",
    "    \n",
    "    t.forward(laenge*0.2)\n",
    "\n",
    "\n",
    "t.setup(900,700,50,50)\n",
    "t.tracer(0,0)\n",
    "t.onscreenclick(leftmouse,btn=1)\n",
    "t.onscreenclick(rightmouse,btn=3)\n",
    "t.onkey(f_key,'f')\n",
    "t.onkey(g_key,'g')\n",
    "t.listen()\n",
    "\n",
    "bremse = 2          # Rekursionsstufen\n",
    "nachrechts = 60     # Winkel nach rechts\n",
    "nachlinks = 40      # Winkel nach links\n",
    "\n",
    "zeichne()\n",
    "t.mainloop()"
   ]
  },
  {
   "cell_type": "markdown",
   "metadata": {},
   "source": [
    "![baum](img/turtle_03.png)"
   ]
  },
  {
   "cell_type": "markdown",
   "metadata": {},
   "source": [
    "#### Sierpinski-Dreieck"
   ]
  },
  {
   "cell_type": "code",
   "execution_count": null,
   "metadata": {},
   "outputs": [],
   "source": [
    "import turtle as t\n",
    "\n",
    "def leftmouse(x,y):\n",
    "    global bremse\n",
    "    bremse += 1\n",
    "    print('hallo')\n",
    "    zeichne()\n",
    "    \n",
    "def rightmouse(x,y):\n",
    "    global bremse\n",
    "    if bremse > 0:\n",
    "        bremse -= 1\n",
    "    zeichne()\n",
    "    \n",
    "def zeichne():\n",
    "    t.reset()\n",
    "    t.hideturtle()\n",
    "    t.penup()\n",
    "    t.setpos(-350,-280)\n",
    "    t.setheading(0)\n",
    "    zeichne_rekursiv(650,bremse)\n",
    "    t.update()\n",
    "    \n",
    "def zeichne_rekursiv(laenge,bremse):\n",
    "    if bremse == 0: \n",
    "        t.pendown()\n",
    "        for i in range(3):\n",
    "            t.forward(laenge)\n",
    "            t.left(120)\n",
    "        t.penup()\n",
    "        return\n",
    "    \n",
    "    le = laenge/2\n",
    "    \n",
    "    zeichne_rekursiv(le,bremse-1)\n",
    "    \n",
    "    t.forward(le)\n",
    "    \n",
    "    zeichne_rekursiv(le,bremse-1)\n",
    "    \n",
    "    t.left(120)\n",
    "    t.forward(le)\n",
    "    t.right(120)\n",
    "    \n",
    "    zeichne_rekursiv(le,bremse-1)\n",
    "    \n",
    "    t.right(120)\n",
    "    t.forward(le)\n",
    "    t.left(120)\n",
    "      \n",
    "t.onscreenclick(leftmouse,btn=1)\n",
    "t.onscreenclick(rightmouse,btn=3)\n",
    "t.listen()\n",
    "\n",
    "t.setup(900,700,50,50)\n",
    "t.tracer(0,0) \n",
    "\n",
    "bremse = 2\n",
    "zeichne()\n",
    "t.mainloop()"
   ]
  },
  {
   "cell_type": "markdown",
   "metadata": {},
   "source": [
    "![sierpinski](img/turtle_04.png)"
   ]
  },
  {
   "cell_type": "markdown",
   "metadata": {},
   "source": [
    "#### Kochsche Schneeflocke"
   ]
  },
  {
   "cell_type": "code",
   "execution_count": null,
   "metadata": {},
   "outputs": [],
   "source": [
    "import turtle as t\n",
    "\n",
    "def leftmouse(x,y):\n",
    "    global bremse\n",
    "    bremse += 1\n",
    "    zeichne()\n",
    "    \n",
    "def rightmouse(x,y):\n",
    "    global bremse\n",
    "    if bremse > 0:\n",
    "        bremse -= 1\n",
    "    zeichne()\n",
    "    \n",
    "def zeichne():\n",
    "    t.reset()\n",
    "    t.hideturtle()\n",
    "    t.penup()\n",
    "    t.setpos(-380,180)\n",
    "    t.setheading(0)\n",
    "    for i in range(3):\n",
    "        zeichne_rekursiv(laenge,bremse)\n",
    "        t.right(120)\n",
    "    t.update()\n",
    "    \n",
    "def zeichne_rekursiv(laenge,bremse):\n",
    "    if bremse == 0: \n",
    "        t.pendown()\n",
    "        t.forward(laenge)\n",
    "        t.penup()\n",
    "        return\n",
    "    \n",
    "    le = laenge/3   \n",
    "    \n",
    "    zeichne_rekursiv(le,bremse-1)\n",
    "    t.left(60)\n",
    "    zeichne_rekursiv(le,bremse-1)\n",
    "    t.right(120)\n",
    "    zeichne_rekursiv(le,bremse-1)\n",
    "    t.left(60)\n",
    "    zeichne_rekursiv(le,bremse-1)\n",
    "    \n",
    "t.tracer(0,0)       \n",
    "t.onscreenclick(leftmouse,btn=1)\n",
    "t.onscreenclick(rightmouse,btn=3)\n",
    "t.listen()\n",
    "\n",
    "bremse = 2\n",
    "laenge = 650\n",
    "zeichne()\n",
    "t.mainloop()"
   ]
  },
  {
   "cell_type": "markdown",
   "metadata": {},
   "source": [
    "![koch](img/turtle_05.png)"
   ]
  },
  {
   "cell_type": "markdown",
   "metadata": {},
   "source": [
    "#### Aufgabe\n",
    "Zeichne ein rekursives Bild mit zweifarbigen H-Formen."
   ]
  },
  {
   "cell_type": "markdown",
   "metadata": {},
   "source": [
    "![hform](img/turtle_06.png)\n"
   ]
  }
 ],
 "metadata": {
  "kernelspec": {
   "display_name": "Python 3",
   "language": "python",
   "name": "python3"
  },
  "language_info": {
   "codemirror_mode": {
    "name": "ipython",
    "version": 3
   },
   "file_extension": ".py",
   "mimetype": "text/x-python",
   "name": "python",
   "nbconvert_exporter": "python",
   "pygments_lexer": "ipython3",
   "version": "3.6.5"
  }
 },
 "nbformat": 4,
 "nbformat_minor": 2
}
