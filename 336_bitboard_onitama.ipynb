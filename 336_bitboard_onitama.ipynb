{
 "cells": [
  {
   "cell_type": "markdown",
   "metadata": {},
   "source": [
    "## Bitboard für Onitama\n",
    "\n"
   ]
  },
  {
   "cell_type": "code",
   "execution_count": 5,
   "metadata": {},
   "outputs": [],
   "source": [
    "import numpy as np"
   ]
  },
  {
   "cell_type": "markdown",
   "metadata": {},
   "source": [
    "#### Board\n",
    "\n",
    "Ein *board* ist ein 5x5 numpy-Array mit den Werten:\n",
    "```\n",
    "0 - frei\n",
    "1 - Schüler Spieler 1\n",
    "2 - Meister Spieler 1\n",
    "3 - Schüler Spieler 2\n",
    "4 - Meister Spieler2\n",
    "\n",
    "```\n",
    " \n",
    "\n",
    "Funktionen zum Erstellen und Füllen eines boards:"
   ]
  },
  {
   "cell_type": "code",
   "execution_count": 33,
   "metadata": {},
   "outputs": [],
   "source": [
    "def makeBoard():\n",
    "    return np.zeros((5, 5), dtype = int)\n",
    "    \n",
    "def startBoard():\n",
    "    board = makeBoard()\n",
    "    board[4] = np.array([1,1,2,1,1])\n",
    "    board[0] = np.array([3,3,4,3,3])\n",
    "    return board\n",
    "\n",
    "def showBoard(board):\n",
    "    for i in range(5):\n",
    "        print(i,'|',*board[i,:])\n",
    "    print('    =========')\n",
    "    print('    A B C D E')\n",
    "    print()\n",
    "    \n"
   ]
  },
  {
   "cell_type": "markdown",
   "metadata": {},
   "source": [
    "Das Startboard"
   ]
  },
  {
   "cell_type": "code",
   "execution_count": 34,
   "metadata": {},
   "outputs": [
    {
     "name": "stdout",
     "output_type": "stream",
     "text": [
      "0 | 3 3 4 3 3\n",
      "1 | 0 0 0 0 0\n",
      "2 | 0 0 0 0 0\n",
      "3 | 0 0 0 0 0\n",
      "4 | 1 1 2 1 1\n",
      "    =========\n",
      "    A B C D E\n",
      "\n"
     ]
    }
   ],
   "source": [
    "board = startBoard()\n",
    "showBoard(board)\n",
    " "
   ]
  },
  {
   "cell_type": "code",
   "execution_count": 114,
   "metadata": {},
   "outputs": [],
   "source": [
    "def boardzahlen(board):\n",
    "    ''' returns int : zahl, die im bin-format das board repräsentiert'''\n",
    "    bs1, bs2, bs3, bs4 = '', '', '', ''\n",
    "    for j in range(4, -1, -1):\n",
    "        for i in range(0, 5):\n",
    "            bs1 += ['0', '1'][int(board[i, j] == 1)]\n",
    "            bs2 += ['0', '1'][int(board[i, j] == 2)]\n",
    "            bs3 += ['0', '1'][int(board[i, j] == 3)]\n",
    "            bs4 += ['0', '1'][int(board[i, j] == 4)]\n",
    "    return int(bs1, 2), int(bs2, 2), int(bs3, 2), int(bs4, 2)"
   ]
  },
  {
   "cell_type": "code",
   "execution_count": 116,
   "metadata": {},
   "outputs": [
    {
     "data": {
      "text/plain": [
       "(1081377, 1024, 17302032, 16384)"
      ]
     },
     "execution_count": 116,
     "metadata": {},
     "output_type": "execute_result"
    }
   ],
   "source": [
    "board = startBoard()\n",
    "bs1, bs2, bs3, bs4 = boardzahlen(board) \n",
    "bs1, bs2, bs3, bs4"
   ]
  },
  {
   "cell_type": "markdown",
   "metadata": {},
   "source": [
    "Wir betrachten den Bitstring, der durch die beiden Bitzahlen repräsentiert werden."
   ]
  },
  {
   "cell_type": "code",
   "execution_count": 117,
   "metadata": {},
   "outputs": [],
   "source": [
    "def bitboard(bz):\n",
    "    bs = bitstr(bz)\n",
    "    i, j = 4, 0\n",
    "    board = np.zeros((5, 5), dtype = int)\n",
    "    for c in bs[::-1]:\n",
    "        board[i,j] = int(c)\n",
    "        i-=1\n",
    "        if i == -1:\n",
    "            j += 1\n",
    "            i = 4 \n",
    "    showBoard(board)\n",
    "    \n",
    "def bitstr(bz):\n",
    "    bitstr = bin(bz)[2:]\n",
    "    return bitstr.rjust(25,'0')"
   ]
  },
  {
   "cell_type": "code",
   "execution_count": 63,
   "metadata": {},
   "outputs": [
    {
     "name": "stdout",
     "output_type": "stream",
     "text": [
      "0000100001000000000100001 0000000000000010000000000 1000010000000001000010000 0000000000100000000000000\n",
      "0 | 0 0 0 0 0\n",
      "1 | 0 0 0 0 0\n",
      "2 | 0 0 0 0 0\n",
      "3 | 0 0 0 0 0\n",
      "4 | 1 1 0 1 1\n",
      "    =========\n",
      "    A B C D E\n",
      "\n",
      "0 | 0 0 0 0 0\n",
      "1 | 0 0 0 0 0\n",
      "2 | 0 0 0 0 0\n",
      "3 | 0 0 0 0 0\n",
      "4 | 0 0 1 0 0\n",
      "    =========\n",
      "    A B C D E\n",
      "\n",
      "0 | 1 1 0 1 1\n",
      "1 | 0 0 0 0 0\n",
      "2 | 0 0 0 0 0\n",
      "3 | 0 0 0 0 0\n",
      "4 | 0 0 0 0 0\n",
      "    =========\n",
      "    A B C D E\n",
      "\n",
      "0 | 0 0 1 0 0\n",
      "1 | 0 0 0 0 0\n",
      "2 | 0 0 0 0 0\n",
      "3 | 0 0 0 0 0\n",
      "4 | 0 0 0 0 0\n",
      "    =========\n",
      "    A B C D E\n",
      "\n"
     ]
    }
   ],
   "source": [
    "print(bitstr(bs1), bitstr(bs2), bitstr(bs3), bitstr(bs4))\n",
    "bitboard(bs1)\n",
    "bitboard(bs2)\n",
    "bitboard(bs3)\n",
    "bitboard(bs4)"
   ]
  },
  {
   "cell_type": "markdown",
   "metadata": {},
   "source": [
    "#### Modellierung des Spielstatus\n",
    "\n",
    "Eine Spielstellung ist vollständig beschrieben durch \n",
    "a. die Lage auf dem Brett (die 4 Bitboards)\n",
    "b. die Verteilung der Karten (id0 .. id4 in einer Liste)\n",
    "c. wer dran ist (der untere Spieler 0 oder der obere 1)\n",
    "d. der wievielte Zug es ist. Bei 200 endet das Spiel.\n",
    "\n",
    "\n",
    "```\n",
    "status = [boardzahlen, cards, playerid, turn]  \n",
    "```\n",
    "\n",
    "<img src = './img/onitama01.png' width = 500>\n",
    "\n",
    "Diese Spielstellung wäre also repräsentiert durch\n",
    "\n"
   ]
  },
  {
   "cell_type": "code",
   "execution_count": 128,
   "metadata": {},
   "outputs": [
    {
     "data": {
      "text/plain": [
       "[(1081377, 1024, 17302032, 16384), [2, 3, 14, 8, 10], 0, 0]"
      ]
     },
     "execution_count": 128,
     "metadata": {},
     "output_type": "execute_result"
    }
   ],
   "source": [
    "board = startBoard()\n",
    "bz = boardzahlen(board)\n",
    "cards = [2, 3, 14, 8, 10]\n",
    "startstate = [bz, cards, player, turn]\n",
    "startstate\n",
    "\n"
   ]
  },
  {
   "cell_type": "markdown",
   "metadata": {},
   "source": [
    "----"
   ]
  },
  {
   "cell_type": "markdown",
   "metadata": {},
   "source": [
    "#### goaltest\n",
    "\n",
    "Das Spiel ist zu Ende, wenn ein Meister geschlagen wurde, oder der Meister das Anfangsfeld des gegnerischen Meisters betritt. Nach 200 Zügen ist unentschieden."
   ]
  },
  {
   "cell_type": "code",
   "execution_count": 101,
   "metadata": {},
   "outputs": [
    {
     "name": "stdout",
     "output_type": "stream",
     "text": [
      "0 | 0 0 1 0 0\n",
      "1 | 0 0 0 0 0\n",
      "2 | 0 0 0 0 0\n",
      "3 | 0 0 0 0 0\n",
      "4 | 0 0 0 0 0\n",
      "    =========\n",
      "    A B C D E\n",
      "\n"
     ]
    }
   ],
   "source": [
    "M1 = 1024       # Startpos Meister 1\n",
    "M2 = 16384      # Startpos Meister 2\n",
    "bitboard(M2)"
   ]
  },
  {
   "cell_type": "code",
   "execution_count": 126,
   "metadata": {},
   "outputs": [],
   "source": [
    "s1, m1, s2, m2 = bz \n",
    "\n",
    "if M2 & m1:\n",
    "    print('Meister 1 hat das Heimatfeld von Meister 2 erreicht')\n",
    "if M1 & m2:\n",
    "    print('Meister 2 hat das Heimatfeld von Meister 1 erreicht')\n",
    "if not M1:\n",
    "    print('Meister 1 wurde geschlagen')\n",
    "if not M2:\n",
    "    print('Meister 2 wurde geschlagen')\n",
    "if turn >= 200:\n",
    "    print('Unentschieden')\n"
   ]
  },
  {
   "cell_type": "code",
   "execution_count": 131,
   "metadata": {},
   "outputs": [],
   "source": [
    "def goaltest(state):\n",
    "    m1 = state[0][1]\n",
    "    m2 = state[0][3]\n",
    "    turn = state[3]\n",
    "    return M2 & m1 or M1 & m2 or not M1 or not M2 or turn >= 200"
   ]
  },
  {
   "cell_type": "code",
   "execution_count": 132,
   "metadata": {},
   "outputs": [
    {
     "data": {
      "text/plain": [
       "False"
      ]
     },
     "execution_count": 132,
     "metadata": {},
     "output_type": "execute_result"
    }
   ],
   "source": [
    "goaltest(startstate)"
   ]
  },
  {
   "cell_type": "markdown",
   "metadata": {},
   "source": [
    "#### nextstates"
   ]
  },
  {
   "cell_type": "code",
   "execution_count": null,
   "metadata": {},
   "outputs": [],
   "source": []
  }
 ],
 "metadata": {
  "kernelspec": {
   "display_name": "Python 3",
   "language": "python",
   "name": "python3"
  },
  "language_info": {
   "codemirror_mode": {
    "name": "ipython",
    "version": 3
   },
   "file_extension": ".py",
   "mimetype": "text/x-python",
   "name": "python",
   "nbconvert_exporter": "python",
   "pygments_lexer": "ipython3",
   "version": "3.7.4"
  }
 },
 "nbformat": 4,
 "nbformat_minor": 4
}
