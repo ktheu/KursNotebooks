{
 "cells": [
  {
   "cell_type": "markdown",
   "metadata": {},
   "source": [
    "## Bitboard für Onitama\n",
    "\n"
   ]
  },
  {
   "cell_type": "code",
   "execution_count": 4,
   "metadata": {},
   "outputs": [],
   "source": [
    "import numpy as np"
   ]
  },
  {
   "cell_type": "markdown",
   "metadata": {},
   "source": [
    "#### Aufgabe 1:\n",
    "\n",
    "Karte 8:\n",
    "    \n",
    "```\n",
    ". . x\n",
    "x o .\n",
    ". . x\n",
    "\n",
    "```\n",
    "Eine einzelnen Position auf dem Board werden durch die Indizes des numpy-Arrays bezeichnet: 0 - 24\n",
    "\n",
    "Schreibe eine Funktion n8, die jeder Zahl 0-24 eine Liste mit den bitboard-Positionen zuordnet, die durch Ausspielen der Karte 8 für weiß entstehen können. Weiß ist der Spieler unten, Schwarz ist der Spieler oben.\n"
   ]
  },
  {
   "cell_type": "code",
   "execution_count": 6,
   "metadata": {},
   "outputs": [],
   "source": [
    "def n8(k):\n",
    "    '''\n",
    "    k: int, 0 - 24\n",
    "    returns: Liste mit den Nachfolge-bitboards bei Spielen der Karte 8 an Position k\n",
    "    '''  \n",
    "    zeile = k // 5\n",
    "    spalte = k % 5\n",
    "    a = np.zeros((5,7), dtype = int)\n",
    "    a[zeile,spalte] = 1\n",
    "    a = bz(a)\n",
    "    tmp = set()\n",
    "    for x in [a << 1, a >> 8, a << 6]:\n",
    "        x1b = board7(x)[:,:5]\n",
    "        if bz(x1b) != 0:\n",
    "            tmp.add(bz(x1b))\n",
    "    return tmp\n",
    "     \n",
    "    "
   ]
  },
  {
   "cell_type": "code",
   "execution_count": null,
   "metadata": {},
   "outputs": [],
   "source": [
    "def bz(a):\n",
    "    ''' a : numpy-array\n",
    "        returns: int, bitboard von a\n",
    "    '''\n",
    "    return int(''.join([str(x) for x in a.flatten()]),2)\n",
    "\n",
    "def board7(k):\n",
    "    ''' k: bitboard einer 5 x 7 boards\n",
    "        returns: 5 x 7 numpy-Array\n",
    "    '''\n",
    "    bs = bin(k)[2:]\n",
    "    bs = bs.rjust(35,'0')\n",
    "    bs = bs[len(bs)-35:]\n",
    "    i, j = 0, 0\n",
    "    tmp = np.zeros((5, 7), dtype = int)\n",
    "    for c in bs:\n",
    "        tmp[i,j] = int(c)\n",
    "        j = j+1\n",
    "        if j > 6:\n",
    "            j = 0\n",
    "            i = i+1\n",
    "    return tmp\n",
    "\n",
    "def board5(k):\n",
    "    ''' k: bitboard einer 5 x 5 boards\n",
    "        returns: 5 x 5 numpy-Array\n",
    "    '''\n",
    "    bs = bin(k)[2:]\n",
    "    bs = bs.rjust(25,'0')\n",
    "    bs = bs[len(bs)-25:]\n",
    "    i, j = 0, 0\n",
    "    tmp = np.zeros((5, 5), dtype = int)\n",
    "    for c in bs:\n",
    "        tmp[i,j] = int(c)\n",
    "        j = j+1\n",
    "        if j > 4:\n",
    "            j = 0\n",
    "            i = i+1\n",
    "    return tmp\n",
    "\n",
    "\n",
    "a = np.zeros((5,7), dtype = int)\n",
    "for k in range(25):\n",
    "    for x in n8(k): \n",
    "        print(x,end= ' ')\n",
    "    print()\n",
    " "
   ]
  },
  {
   "cell_type": "markdown",
   "metadata": {},
   "source": [
    "### Aufgabe 2: \n",
    "Erweitere die Funktion von A1 auf alle Karten für weiß"
   ]
  },
  {
   "cell_type": "code",
   "execution_count": 12,
   "metadata": {},
   "outputs": [],
   "source": [
    "def nw(k,id):\n",
    "    '''\n",
    "    k: int, 0 - 24, PositionsIndex\n",
    "    id: int, 0 -15,  Kartenid\n",
    "    returns: Liste mit den Nachfolge-bitboards bei Spielen der Karte id an Position k\n",
    "    '''\n",
    "    zeile = k // 5\n",
    "    spalte = k % 5\n",
    "    a = np.zeros((5,7), dtype = int)\n",
    "    a[zeile,spalte] = 1\n",
    "    a = bz(a)\n",
    "    tmp = set()\n",
    "\n",
    "    if id == 0: nbl = [a << 8, a >> 1, a >> 6]\n",
    "    elif id == 1: nbl = [a << 7, a >> 6, a >> 8]\n",
    "    elif id == 2: nbl = [a << 8, a << 2, a >> 8]\n",
    "    elif id == 3: nbl = [a << 7, a << 1, a >> 7]\n",
    "    elif id == 4: nbl = [a << 7, a << 1, a >> 1]\n",
    "    elif id == 5: nbl = [a << 6, a << 1, a >> 1, a >> 6]\n",
    "    elif id == 8: nbl = [a << 1, a >> 8, a << 6]  \n",
    "    for x in nbl:\n",
    "        x1b = board7(x)[:,:5]\n",
    "        if bz(x1b) != 0:\n",
    "            tmp.add(bz(x1b))\n",
    "    return tmp"
   ]
  },
  {
   "cell_type": "code",
   "execution_count": 18,
   "metadata": {},
   "outputs": [
    {
     "name": "stdout",
     "output_type": "stream",
     "text": [
      "[[0 0 0 1 0]\n",
      " [0 0 0 0 0]\n",
      " [0 0 0 0 0]\n",
      " [0 0 0 0 0]\n",
      " [0 0 0 0 0]]\n",
      "\n",
      "[[0 0 0 0 0]\n",
      " [0 0 0 0 0]\n",
      " [0 0 1 0 0]\n",
      " [0 0 0 0 0]\n",
      " [0 0 0 0 0]]\n",
      "\n",
      "[[0 0 0 0 0]\n",
      " [0 0 0 0 0]\n",
      " [0 0 0 0 1]\n",
      " [0 0 0 0 0]\n",
      " [0 0 0 0 0]]\n",
      "\n"
     ]
    }
   ],
   "source": [
    " \n",
    " \n",
    "for x in nw(8,1): \n",
    "    print(board5(x))\n",
    "    print()"
   ]
  },
  {
   "cell_type": "markdown",
   "metadata": {},
   "source": [
    "### Board\n",
    "\n",
    "Ein *board* ist ein 5x5 numpy-Array mit den Werten:\n",
    "```\n",
    "0 - frei\n",
    "1 - Schüler Spieler 1\n",
    "2 - Meister Spieler 1\n",
    "3 - Schüler Spieler 2\n",
    "4 - Meister Spieler2\n",
    "\n",
    "```\n",
    " \n",
    "\n",
    " "
   ]
  },
  {
   "cell_type": "code",
   "execution_count": 63,
   "metadata": {},
   "outputs": [],
   "source": [
    "def bz(a):\n",
    "    ''' returned die bitzahl eines np-arrays'''\n",
    "    return int(''.join([str(x) for x in a.flatten()]),2)\n",
    "\n",
    "def board(k):\n",
    "    ''' macht aus einer bitboard-Zahl eine np-Array'''\n",
    "    bs = bin(k)[2:]\n",
    "    bs = bs.rjust(25,'0')\n",
    "    i, j = 0, 0\n",
    "    tmp = np.zeros((5, 5), dtype = int)\n",
    "    for c in bs:\n",
    "        tmp[i,j] = int(c)\n",
    "        j = j+1\n",
    "        if j > 4:\n",
    "            j = 0\n",
    "            i = i+1\n",
    "    return tmp\n",
    "\n",
    "def showBoard(bz):\n",
    "    ''' zeigt das Board einer bitzahl bz'''\n",
    "    tmp = board(bz)\n",
    "    for i in range(5):\n",
    "        print(i,'|',*tmp[i])\n",
    "    print('    =========')\n",
    "    print('    A B C D E')\n",
    "    print()\n",
    "    \n",
    "# mask = die gültigen Felder des Boards (ohne Trennfelder)\n",
    "mask = bz(np.ones((5,5),dtype = int))\n",
    "\n",
    "# w_start = die startfelder für weiß\n",
    "w_start = np.zeros((5,5),dtype = int)\n",
    "w_start[4]=1\n",
    "w_start = bz(w_start)\n",
    "\n"
   ]
  },
  {
   "cell_type": "markdown",
   "metadata": {},
   "source": [
    "### Aufgabe 1:\n",
    "Gegeben die weißen Figuren in Grundstellung. Generiere alle Nachfolgestellungen für weiß bei Karte 8:\n",
    "\n",
    "```\n",
    ". . x\n",
    "x o .\n",
    ". . x\n",
    "\n",
    "```"
   ]
  },
  {
   "cell_type": "code",
   "execution_count": 64,
   "metadata": {},
   "outputs": [
    {
     "data": {
      "text/plain": [
       "1"
      ]
     },
     "execution_count": 64,
     "metadata": {},
     "output_type": "execute_result"
    }
   ],
   "source": [
    "e = np.zeros((5,5), dtype = int)\n",
    "e[4,4] = 1\n",
    "e = bz(e)\n",
    "e"
   ]
  },
  {
   "cell_type": "code",
   "execution_count": 102,
   "metadata": {},
   "outputs": [
    {
     "name": "stdout",
     "output_type": "stream",
     "text": [
      "[[0 0 0 0 0]\n",
      " [0 0 0 0 0]\n",
      " [0 0 0 0 0]\n",
      " [0 1 0 0 0]\n",
      " [0 1 1 1 1]]\n",
      "\n",
      "[[0 0 0 0 0]\n",
      " [0 0 0 0 0]\n",
      " [0 0 0 0 0]\n",
      " [0 0 1 0 0]\n",
      " [1 0 1 1 1]]\n",
      "\n",
      "[[0 0 0 0 0]\n",
      " [0 0 0 0 0]\n",
      " [0 0 0 0 0]\n",
      " [0 0 0 1 0]\n",
      " [1 1 0 1 1]]\n",
      "\n",
      "[[0 0 0 0 0]\n",
      " [0 0 0 0 0]\n",
      " [0 0 0 0 0]\n",
      " [0 0 0 0 1]\n",
      " [1 1 1 0 1]]\n",
      "\n"
     ]
    }
   ],
   "source": [
    "e20, e21, e22, e23, e24 = 16, 8, 4, 2, 1\n",
    "es = [e20,e21,e22,e23,e24]\n",
    "\n",
    "wn = {}\n",
    "wn[(e20,8)] = [e[k] for k in {20 << 4]\n",
    "wn[(e21,8)] = [e21 << 1, e21 << 4]  \n",
    "wn[(e22,8)] = [e22 << 1, e22 << 4] \n",
    "wn[(e23,8)] = [e23 << 1, e23 << 4] \n",
    "wn[(e24,8)] = [e23 << 1] \n",
    "\n",
    "\n",
    "# for e in es:\n",
    "#     tmp = []\n",
    "#     t = w_start & ~e   # die Figur wird gezogen\n",
    "#     for x in wn[(e,8)]:\n",
    "#         if not x & t:\n",
    "#             tmp.append(t | x)\n",
    "   \n",
    "tmp = []\n",
    "\n",
    "for e in es:\n",
    "    t = w_start & ~e\n",
    "    for x in wn[(e,8)]:\n",
    "        if not (x & t):\n",
    "            tmp.append(t | x)\n",
    "for x in tmp:\n",
    "    print(board(x))\n",
    "    print()"
   ]
  },
  {
   "cell_type": "code",
   "execution_count": 112,
   "metadata": {},
   "outputs": [
    {
     "data": {
      "text/plain": [
       "16777216"
      ]
     },
     "execution_count": 112,
     "metadata": {},
     "output_type": "execute_result"
    }
   ],
   "source": [
    "e = {k : 2**(24-k) for k in range(25)}\n",
    "e[0]"
   ]
  },
  {
   "cell_type": "markdown",
   "metadata": {},
   "source": [
    "---"
   ]
  },
  {
   "cell_type": "code",
   "execution_count": 30,
   "metadata": {},
   "outputs": [],
   "source": [
    "def makeBoard():\n",
    "    return np.zeros((5, 7), dtype = int)\n",
    "    \n",
    "# def startBoard():\n",
    "#     board = makeBoard()\n",
    "#     board[4,0:5] = np.array([1,1,2,1,1])\n",
    "#     board[0,0:5] = np.array([3,3,4,3,3])\n",
    "#     return board\n",
    "\n",
    "\n",
    "    \n",
    "def startBoard():\n",
    "    b = makeBoard()\n",
    "    b[4,0:5] = 1"
   ]
  },
  {
   "cell_type": "markdown",
   "metadata": {},
   "source": [
    "Das Startboard"
   ]
  },
  {
   "cell_type": "code",
   "execution_count": 27,
   "metadata": {},
   "outputs": [
    {
     "name": "stdout",
     "output_type": "stream",
     "text": [
      "0 | 0 0 0 0 0\n",
      "1 | 0 0 0 0 0\n",
      "2 | 0 0 0 0 0\n",
      "3 | 0 0 0 0 0\n",
      "4 | 1 1 1 1 1\n",
      "    =========\n",
      "    A B C D E\n",
      "\n"
     ]
    }
   ],
   "source": [
    "b = makeBoard()\n",
    "b[4,0:5] = 1\n",
    "b = bz(b)\n",
    "showBoard(b)"
   ]
  },
  {
   "cell_type": "code",
   "execution_count": 9,
   "metadata": {},
   "outputs": [
    {
     "name": "stdout",
     "output_type": "stream",
     "text": [
      "0 | 3 3 4 3 3\n",
      "1 | 0 0 0 0 0\n",
      "2 | 0 0 0 0 0\n",
      "3 | 0 0 0 0 0\n",
      "4 | 1 1 2 1 1\n",
      "    =========\n",
      "    A B C D E\n",
      "\n"
     ]
    }
   ],
   "source": [
    "board = startBoard()\n",
    "showBoard(board)\n",
    " "
   ]
  },
  {
   "cell_type": "code",
   "execution_count": null,
   "metadata": {},
   "outputs": [],
   "source": []
  },
  {
   "cell_type": "code",
   "execution_count": 114,
   "metadata": {},
   "outputs": [],
   "source": [
    "def boardzahlen(board):\n",
    "    ''' returns int : zahl, die im bin-format das board repräsentiert'''\n",
    "    bs1, bs2, bs3, bs4 = '', '', '', ''\n",
    "    for j in range(4, -1, -1):\n",
    "        for i in range(0, 5):\n",
    "            bs1 += ['0', '1'][int(board[i, j] == 1)]\n",
    "            bs2 += ['0', '1'][int(board[i, j] == 2)]\n",
    "            bs3 += ['0', '1'][int(board[i, j] == 3)]\n",
    "            bs4 += ['0', '1'][int(board[i, j] == 4)]\n",
    "    return int(bs1, 2), int(bs2, 2), int(bs3, 2), int(bs4, 2)"
   ]
  },
  {
   "cell_type": "code",
   "execution_count": 116,
   "metadata": {},
   "outputs": [
    {
     "data": {
      "text/plain": [
       "(1081377, 1024, 17302032, 16384)"
      ]
     },
     "execution_count": 116,
     "metadata": {},
     "output_type": "execute_result"
    }
   ],
   "source": [
    "board = startBoard()\n",
    "bs1, bs2, bs3, bs4 = boardzahlen(board) \n",
    "bs1, bs2, bs3, bs4"
   ]
  },
  {
   "cell_type": "markdown",
   "metadata": {},
   "source": [
    "Wir betrachten den Bitstring, der durch die beiden Bitzahlen repräsentiert werden."
   ]
  },
  {
   "cell_type": "code",
   "execution_count": 117,
   "metadata": {},
   "outputs": [],
   "source": [
    "def bitboard(bz):\n",
    "    bs = bitstr(bz)\n",
    "    i, j = 4, 0\n",
    "    board = np.zeros((5, 5), dtype = int)\n",
    "    for c in bs[::-1]:\n",
    "        board[i,j] = int(c)\n",
    "        i-=1\n",
    "        if i == -1:\n",
    "            j += 1\n",
    "            i = 4 \n",
    "    showBoard(board)\n",
    "    \n",
    "def bitstr(bz):\n",
    "    bitstr = bin(bz)[2:]\n",
    "    return bitstr.rjust(25,'0')"
   ]
  },
  {
   "cell_type": "code",
   "execution_count": 63,
   "metadata": {},
   "outputs": [
    {
     "name": "stdout",
     "output_type": "stream",
     "text": [
      "0000100001000000000100001 0000000000000010000000000 1000010000000001000010000 0000000000100000000000000\n",
      "0 | 0 0 0 0 0\n",
      "1 | 0 0 0 0 0\n",
      "2 | 0 0 0 0 0\n",
      "3 | 0 0 0 0 0\n",
      "4 | 1 1 0 1 1\n",
      "    =========\n",
      "    A B C D E\n",
      "\n",
      "0 | 0 0 0 0 0\n",
      "1 | 0 0 0 0 0\n",
      "2 | 0 0 0 0 0\n",
      "3 | 0 0 0 0 0\n",
      "4 | 0 0 1 0 0\n",
      "    =========\n",
      "    A B C D E\n",
      "\n",
      "0 | 1 1 0 1 1\n",
      "1 | 0 0 0 0 0\n",
      "2 | 0 0 0 0 0\n",
      "3 | 0 0 0 0 0\n",
      "4 | 0 0 0 0 0\n",
      "    =========\n",
      "    A B C D E\n",
      "\n",
      "0 | 0 0 1 0 0\n",
      "1 | 0 0 0 0 0\n",
      "2 | 0 0 0 0 0\n",
      "3 | 0 0 0 0 0\n",
      "4 | 0 0 0 0 0\n",
      "    =========\n",
      "    A B C D E\n",
      "\n"
     ]
    }
   ],
   "source": [
    "print(bitstr(bs1), bitstr(bs2), bitstr(bs3), bitstr(bs4))\n",
    "bitboard(bs1)\n",
    "bitboard(bs2)\n",
    "bitboard(bs3)\n",
    "bitboard(bs4)"
   ]
  },
  {
   "cell_type": "markdown",
   "metadata": {},
   "source": [
    "#### Modellierung des Spielstatus\n",
    "\n",
    "Eine Spielstellung ist vollständig beschrieben durch \n",
    "a. die Lage auf dem Brett (die 4 Bitboards)\n",
    "b. die Verteilung der Karten (id0 .. id4 in einer Liste)\n",
    "c. wer dran ist (der untere Spieler 0 oder der obere 1)\n",
    "d. der wievielte Zug es ist. Bei 200 endet das Spiel.\n",
    "\n",
    "\n",
    "```\n",
    "status = [boardzahlen, cards, playerid, turn]  \n",
    "```\n",
    "\n",
    "<img src = './img/onitama01.png' width = 500>\n",
    "\n",
    "Diese Spielstellung wäre also repräsentiert durch\n",
    "\n"
   ]
  },
  {
   "cell_type": "code",
   "execution_count": 128,
   "metadata": {},
   "outputs": [
    {
     "data": {
      "text/plain": [
       "[(1081377, 1024, 17302032, 16384), [2, 3, 14, 8, 10], 0, 0]"
      ]
     },
     "execution_count": 128,
     "metadata": {},
     "output_type": "execute_result"
    }
   ],
   "source": [
    "board = startBoard()\n",
    "bz = boardzahlen(board)\n",
    "cards = [2, 3, 14, 8, 10]\n",
    "startstate = [bz, cards, player, turn]\n",
    "startstate\n",
    "\n"
   ]
  },
  {
   "cell_type": "markdown",
   "metadata": {},
   "source": [
    "----"
   ]
  },
  {
   "cell_type": "markdown",
   "metadata": {},
   "source": [
    "#### goaltest\n",
    "\n",
    "Das Spiel ist zu Ende, wenn ein Meister geschlagen wurde, oder der Meister das Anfangsfeld des gegnerischen Meisters betritt. Nach 200 Zügen ist unentschieden."
   ]
  },
  {
   "cell_type": "code",
   "execution_count": 101,
   "metadata": {},
   "outputs": [
    {
     "name": "stdout",
     "output_type": "stream",
     "text": [
      "0 | 0 0 1 0 0\n",
      "1 | 0 0 0 0 0\n",
      "2 | 0 0 0 0 0\n",
      "3 | 0 0 0 0 0\n",
      "4 | 0 0 0 0 0\n",
      "    =========\n",
      "    A B C D E\n",
      "\n"
     ]
    }
   ],
   "source": [
    "M1 = 1024       # Startpos Meister 1\n",
    "M2 = 16384      # Startpos Meister 2\n",
    "bitboard(M2)"
   ]
  },
  {
   "cell_type": "code",
   "execution_count": 126,
   "metadata": {},
   "outputs": [],
   "source": [
    "s1, m1, s2, m2 = bz \n",
    "\n",
    "if M2 & m1:\n",
    "    print('Meister 1 hat das Heimatfeld von Meister 2 erreicht')\n",
    "if M1 & m2:\n",
    "    print('Meister 2 hat das Heimatfeld von Meister 1 erreicht')\n",
    "if not M1:\n",
    "    print('Meister 1 wurde geschlagen')\n",
    "if not M2:\n",
    "    print('Meister 2 wurde geschlagen')\n",
    "if turn >= 200:\n",
    "    print('Unentschieden')\n"
   ]
  },
  {
   "cell_type": "code",
   "execution_count": 131,
   "metadata": {},
   "outputs": [],
   "source": [
    "def goaltest(state):\n",
    "    m1 = state[0][1]\n",
    "    m2 = state[0][3]\n",
    "    turn = state[3]\n",
    "    return M2 & m1 or M1 & m2 or not M1 or not M2 or turn >= 200"
   ]
  },
  {
   "cell_type": "code",
   "execution_count": 132,
   "metadata": {},
   "outputs": [
    {
     "data": {
      "text/plain": [
       "False"
      ]
     },
     "execution_count": 132,
     "metadata": {},
     "output_type": "execute_result"
    }
   ],
   "source": [
    "goaltest(startstate)"
   ]
  },
  {
   "cell_type": "markdown",
   "metadata": {},
   "source": [
    "## Neuer Ansatz"
   ]
  },
  {
   "cell_type": "code",
   "execution_count": null,
   "metadata": {},
   "outputs": [],
   "source": []
  }
 ],
 "metadata": {
  "kernelspec": {
   "display_name": "Python 3",
   "language": "python",
   "name": "python3"
  },
  "language_info": {
   "codemirror_mode": {
    "name": "ipython",
    "version": 3
   },
   "file_extension": ".py",
   "mimetype": "text/x-python",
   "name": "python",
   "nbconvert_exporter": "python",
   "pygments_lexer": "ipython3",
   "version": "3.7.4"
  }
 },
 "nbformat": 4,
 "nbformat_minor": 4
}
