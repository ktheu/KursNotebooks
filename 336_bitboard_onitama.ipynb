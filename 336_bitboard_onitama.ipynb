{
 "cells": [
  {
   "cell_type": "markdown",
   "metadata": {},
   "source": [
    "## Bitboard für Onitama\n",
    "\n"
   ]
  },
  {
   "cell_type": "markdown",
   "metadata": {},
   "source": [
    "```\n",
    "Namenskonventionen\n",
    "bitboard = Zahl, die ein bitboard darstellt\n",
    "k = int, 0 - 24, Index auf dem 5x5 bitboard Feld\n",
    "a = Liste mit bitboards\n",
    "x = einzelnes bitboard, b1, b2 einzelne bitboards\n",
    "e = einzelnes bitboard mit nur einer Position\n",
    "na = numpy Array\n",
    "st = state \n",
    "\n",
    "precalculated dicts:\n",
    "\n",
    "\n",
    "pos2bb = getPos2bb(), pos2bb[k] = e\n",
    "posNamen = getPosNamen()  dict das zu einem e den boardnamen zurückgibt\n",
    "```\n",
    " "
   ]
  },
  {
   "cell_type": "code",
   "execution_count": 2,
   "metadata": {},
   "outputs": [],
   "source": [
    "import numpy as np"
   ]
  },
  {
   "cell_type": "code",
   "execution_count": 3,
   "metadata": {},
   "outputs": [
    {
     "name": "stdout",
     "output_type": "stream",
     "text": [
      "2\n"
     ]
    }
   ],
   "source": [
    "def bz(na):\n",
    "    ''' na : numpy-array 5x5 oder 5x7\n",
    "        returns: int, bitboard von a\n",
    "    '''\n",
    "    return int(''.join([str(x) for x in na.flatten()]),2)\n",
    "\n",
    "def test_bz():\n",
    "    na = np.zeros((5, 5), dtype = int)\n",
    "    na[4,3] = 1\n",
    "    print(bz(na))   # expect 2\n",
    "    \n",
    "test_bz()"
   ]
  },
  {
   "cell_type": "code",
   "execution_count": 4,
   "metadata": {},
   "outputs": [
    {
     "name": "stdout",
     "output_type": "stream",
     "text": [
      "[[0 0 0 0 0]\n",
      " [0 0 0 0 0]\n",
      " [0 0 0 0 0]\n",
      " [0 0 0 0 0]\n",
      " [0 1 0 1 0]]\n"
     ]
    }
   ],
   "source": [
    "def board(x):\n",
    "    ''' x: bitboard einer 5 x 5 boards\n",
    "        returns: 5 x 5 numpy-Array\n",
    "    '''\n",
    "    bs = bin(x)[2:]\n",
    "    bs = bs.rjust(25,'0')\n",
    "    bs = bs[len(bs)-25:]\n",
    "    i, j = 0, 0\n",
    "    tmp = np.zeros((5, 5), dtype = int)\n",
    "    for c in bs:\n",
    "        tmp[i,j] = int(c)\n",
    "        j = j+1\n",
    "        if j > 4:\n",
    "            j = 0\n",
    "            i = i+1\n",
    "    return tmp\n",
    "\n",
    "def test_board():\n",
    "    print(board(10))\n",
    "    \n",
    "test_board()"
   ]
  },
  {
   "cell_type": "code",
   "execution_count": 5,
   "metadata": {},
   "outputs": [
    {
     "name": "stdout",
     "output_type": "stream",
     "text": [
      "[[0 0 0 0 0 0 0]\n",
      " [0 0 0 0 0 0 0]\n",
      " [0 0 0 0 0 0 0]\n",
      " [0 0 0 0 0 0 0]\n",
      " [0 0 0 1 0 1 0]]\n"
     ]
    }
   ],
   "source": [
    "def board7(x):\n",
    "    ''' k: bitboard einer 5 x 7 boards\n",
    "        returns: 5 x 7 numpy-Array\n",
    "    '''\n",
    "    bs = bin(x)[2:]\n",
    "    bs = bs.rjust(35,'0')\n",
    "    bs = bs[len(bs)-35:]\n",
    "    i, j = 0, 0\n",
    "    tmp = np.zeros((5, 7), dtype = int)\n",
    "    for c in bs:\n",
    "        tmp[i,j] = int(c)\n",
    "        j = j+1\n",
    "        if j > 6:\n",
    "            j = 0\n",
    "            i = i+1\n",
    "    return tmp\n",
    "\n",
    "def test_board7():\n",
    "    print(board7(10))\n",
    "    \n",
    "test_board7()"
   ]
  },
  {
   "cell_type": "code",
   "execution_count": 6,
   "metadata": {},
   "outputs": [
    {
     "name": "stdout",
     "output_type": "stream",
     "text": [
      "[[0 0 0 0 0]\n",
      " [0 0 0 0 0]\n",
      " [1 0 0 0 0]\n",
      " [0 0 0 0 0]\n",
      " [0 0 0 0 0]]\n",
      "\n",
      "[[0 0 0 0 0]\n",
      " [0 0 0 0 0]\n",
      " [0 0 1 0 0]\n",
      " [0 0 0 0 0]\n",
      " [0 0 0 0 0]]\n",
      "\n",
      "[[0 0 0 0 0]\n",
      " [0 0 0 0 0]\n",
      " [0 0 0 0 0]\n",
      " [0 0 1 0 0]\n",
      " [0 0 0 0 0]]\n",
      "\n",
      "[[0 0 0 0 0]\n",
      " [0 0 0 0 0]\n",
      " [0 0 0 0 0]\n",
      " [1 0 0 0 0]\n",
      " [0 0 0 0 0]]\n",
      "\n"
     ]
    }
   ],
   "source": [
    "def nw(k,id):\n",
    "    '''\n",
    "    k: int, 0 - 24, PositionsIndex\n",
    "    id: int, 0 -15,  Kartenid\n",
    "    returns: Liste mit den Nachfolge-bitboards bei Spielen der Karte id an Position k für Spieler weiß\n",
    "    '''\n",
    "    zeile = k // 5\n",
    "    spalte = k % 5\n",
    "    a = np.zeros((5,7), dtype = int)\n",
    "    a[zeile,spalte] = 1\n",
    "    a = bz(a)\n",
    "    tmp = set()\n",
    "\n",
    "    if id == 0: nbl = [a << 8, a >> 1, a >> 6]\n",
    "    elif id == 1: nbl = [a << 7, a >> 6, a >> 8]\n",
    "    elif id == 2: nbl = [a << 8, a << 2, a >> 8]\n",
    "    elif id == 3: nbl = [a << 7, a << 1, a >> 7]\n",
    "    elif id == 4: nbl = [a << 7, a << 1, a >> 1]\n",
    "    elif id == 5: nbl = [a << 6, a << 1, a >> 1, a >> 6]\n",
    "    elif id == 6: nbl = [a << 7, a << 2, a >> 2]\n",
    "    elif id == 7: nbl = [a << 7, a >> 1, a >> 7]\n",
    "    elif id == 8: nbl = [a << 6, a << 1, a >> 8]  \n",
    "    elif id == 9: nbl = [a << 6, a >> 2, a >> 6]\n",
    "    elif id == 10: nbl = [a << 9, a << 5, a >> 6, a >> 8]\n",
    "    elif id == 11: nbl = [a << 8, a << 6, a >> 6, a >> 8]\n",
    "    elif id == 12: nbl = [a << 8, a << 1, a >> 1, a >> 8]\n",
    "    elif id == 13: nbl = [a << 8, a << 6, a << 1, a >> 1]\n",
    "    elif id == 14: nbl = [a << 8, a << 6, a >> 7]\n",
    "    elif id == 15: nbl = [a << 14, a >> 7]\n",
    "    for x in nbl:\n",
    "        x1b = board7(x)[:,:5]\n",
    "        if bz(x1b) != 0:\n",
    "            tmp.add(bz(x1b))\n",
    "    return tmp\n",
    "\n",
    "def test_nw():\n",
    "    for x in nw(16,13): \n",
    "        print(board(x))\n",
    "        print()\n",
    "\n",
    "test_nw()"
   ]
  },
  {
   "cell_type": "code",
   "execution_count": 7,
   "metadata": {},
   "outputs": [
    {
     "name": "stdout",
     "output_type": "stream",
     "text": [
      "[[0 0 0 0 0]\n",
      " [0 0 0 0 0]\n",
      " [0 0 0 0 1]\n",
      " [0 0 0 0 0]\n",
      " [0 0 0 0 0]]\n",
      "\n",
      "[[0 0 0 0 0]\n",
      " [0 0 0 0 0]\n",
      " [0 0 1 0 0]\n",
      " [0 0 0 0 0]\n",
      " [0 0 0 0 0]]\n",
      "\n",
      "[[0 0 0 0 0]\n",
      " [0 0 1 0 0]\n",
      " [0 0 0 0 0]\n",
      " [0 0 0 0 0]\n",
      " [0 0 0 0 0]]\n",
      "\n",
      "[[0 0 0 0 0]\n",
      " [0 0 0 0 1]\n",
      " [0 0 0 0 0]\n",
      " [0 0 0 0 0]\n",
      " [0 0 0 0 0]]\n",
      "\n"
     ]
    }
   ],
   "source": [
    "def nb(k,id):\n",
    "    '''\n",
    "    k: int, 0 - 24, PositionsIndex\n",
    "    id: int, 0 -15,  Kartenid\n",
    "    returns: Liste mit den Nachfolge-bitboards bei Spielen der Karte id an Position k für Spieler weiß\n",
    "    '''\n",
    "    zeile = k // 5\n",
    "    spalte = k % 5\n",
    "    a = np.zeros((5,7), dtype = int)\n",
    "    a[zeile,spalte] = 1\n",
    "    a = bz(a)\n",
    "    tmp = set()\n",
    "\n",
    "    if id == 0: nbl = [a >> 8, a << 1, a << 6]\n",
    "    elif id == 1: nbl = [a >> 7, a << 6, a << 8]\n",
    "    elif id == 2: nbl = [a >> 8, a >> 2, a << 8]\n",
    "    elif id == 3: nbl = [a >> 7, a >> 1, a << 7]\n",
    "    elif id == 4: nbl = [a >> 7, a >> 1, a << 1]\n",
    "    elif id == 5: nbl = [a >> 6, a >> 1, a << 1, a << 6]\n",
    "    elif id == 6: nbl = [a >> 7, a >> 2, a << 2]\n",
    "    elif id == 7: nbl = [a >> 7, a << 1, a << 7]\n",
    "    elif id == 8: nbl = [a >> 6, a >> 1, a << 8]  \n",
    "    elif id == 9: nbl = [a >> 6, a << 2, a << 6]\n",
    "    elif id == 10: nbl = [a >> 9, a >> 5, a << 6, a << 8]\n",
    "    elif id == 11: nbl = [a >> 8, a >> 6, a << 6, a << 8]\n",
    "    elif id == 12: nbl = [a >> 8, a >> 1, a << 1, a << 8]\n",
    "    elif id == 13: nbl = [a >> 8, a >> 6, a >> 1, a << 1]\n",
    "    elif id == 14: nbl = [a >> 8, a >> 6, a << 7]\n",
    "    elif id == 15: nbl = [a >> 14, a << 7]\n",
    "    for x in nbl:\n",
    "        x1b = board7(x)[:,:5]\n",
    "        if bz(x1b) != 0:\n",
    "            tmp.add(bz(x1b))\n",
    "    return tmp\n",
    "\n",
    "def test_nb():\n",
    "    for x in nb(8,13): \n",
    "        print(board(x))\n",
    "        print()\n",
    "\n",
    "test_nb()"
   ]
  },
  {
   "cell_type": "code",
   "execution_count": 8,
   "metadata": {},
   "outputs": [
    {
     "name": "stdout",
     "output_type": "stream",
     "text": [
      "21\n"
     ]
    }
   ],
   "source": [
    "def bb2pos(e):\n",
    "    ''' e: int, Einzelpos-Bitbaord\n",
    "    returns: int, Index k der Position\n",
    "    '''\n",
    "    return 24 - int(np.log2(e))\n",
    "\n",
    "def test_bb2pos():\n",
    "    e = 8\n",
    "    print(bb2pos(e))\n",
    "\n",
    "test_bb2pos()"
   ]
  },
  {
   "cell_type": "code",
   "execution_count": 9,
   "metadata": {},
   "outputs": [
    {
     "name": "stdout",
     "output_type": "stream",
     "text": [
      "[[0 0 0 0 0]\n",
      " [0 0 0 0 0]\n",
      " [0 0 0 1 0]\n",
      " [0 0 0 0 0]\n",
      " [0 0 0 0 0]]\n"
     ]
    }
   ],
   "source": [
    "# precalculated dictionary pos2bb \n",
    "pos2bb = {}\n",
    "for k in range(25):\n",
    "    pos2bb[k] = 2 ** (24 - k)\n",
    "    \n",
    "def test_pos2bb():\n",
    "    print(board(pos2bb[13]))\n",
    "\n",
    "test_pos2bb()"
   ]
  },
  {
   "cell_type": "code",
   "execution_count": 10,
   "metadata": {},
   "outputs": [
    {
     "name": "stdout",
     "output_type": "stream",
     "text": [
      "[[0 0 0 0 0]\n",
      " [0 0 0 0 0]\n",
      " [0 0 1 0 0]\n",
      " [0 0 0 0 0]\n",
      " [0 0 0 0 0]]\n",
      "\n",
      "[[0 0 0 0 0]\n",
      " [0 0 0 0 0]\n",
      " [0 0 0 0 0]\n",
      " [1 0 0 0 0]\n",
      " [0 0 0 0 0]]\n",
      "\n",
      "[[0 0 0 0 0]\n",
      " [0 0 0 0 0]\n",
      " [0 0 0 0 0]\n",
      " [0 0 0 0 1]\n",
      " [0 0 0 0 0]]\n",
      "\n"
     ]
    }
   ],
   "source": [
    "# precalculated dictionaries (k,id) -> a\n",
    "nmw = {}    # next map/move white\n",
    "nmb = {}    # next map/move black\n",
    "for k in range(25):\n",
    "    for id in range(16):\n",
    "        nmw[(pos2bb[k],id)] = nw(k,id)\n",
    "        nmb[(pos2bb[k],id)] = nb(k,id)\n",
    "        \n",
    "def test_nmw():\n",
    "    for x in nmw[(128,6)]:\n",
    "        print(board(x))\n",
    "        print()\n",
    "\n",
    "test_nmw()"
   ]
  },
  {
   "cell_type": "code",
   "execution_count": 11,
   "metadata": {},
   "outputs": [
    {
     "name": "stdout",
     "output_type": "stream",
     "text": [
      "[[0 0 0 0 0]\n",
      " [0 0 0 0 0]\n",
      " [0 0 0 0 0]\n",
      " [0 0 1 1 0]\n",
      " [0 1 0 0 0]]\n"
     ]
    }
   ],
   "source": [
    "def bb(klist):\n",
    "    '''\n",
    "    klist: Liste mit Index-Positionen k\n",
    "    returns: 5x5 Bitboard x mit diesen Positionen\n",
    "    '''\n",
    "    tmp = np.zeros((5, 5), dtype = int)\n",
    "    for k in klist:\n",
    "        x, y = k // 5, k % 5\n",
    "        tmp[x,y] = 1\n",
    "    return bz(tmp)\n",
    "\n",
    "def bb_test():\n",
    "    x = bb([21,17,18])\n",
    "    print(board(x))\n",
    "    \n",
    "bb_test()"
   ]
  },
  {
   "cell_type": "code",
   "execution_count": 12,
   "metadata": {},
   "outputs": [
    {
     "name": "stdout",
     "output_type": "stream",
     "text": [
      "[[0 0 0 0 0]\n",
      " [0 0 0 0 0]\n",
      " [0 0 0 0 0]\n",
      " [0 0 1 0 0]\n",
      " [0 0 0 0 0]]\n",
      "\n",
      "[[0 0 0 0 0]\n",
      " [0 0 0 0 0]\n",
      " [0 0 0 0 0]\n",
      " [0 0 0 1 0]\n",
      " [0 0 0 0 0]]\n",
      "\n",
      "[[0 0 0 0 0]\n",
      " [0 0 0 0 0]\n",
      " [0 0 0 0 0]\n",
      " [0 0 0 0 0]\n",
      " [0 1 0 0 0]]\n",
      "\n"
     ]
    }
   ],
   "source": [
    "def eList(x):\n",
    "    '''x : int, bitboard  \n",
    "    returns: Liste mit den Einzelbitboards e von x '''\n",
    "    return [pos2bb[k] for k in range(25) if (pos2bb[k] & x)]\n",
    "\n",
    "def eList_test():\n",
    "    x = bb([21,17,18])\n",
    "    for e in eList(x):\n",
    "        print(board(e))\n",
    "        print()\n",
    "        \n",
    "eList_test()"
   ]
  },
  {
   "cell_type": "code",
   "execution_count": 13,
   "metadata": {},
   "outputs": [
    {
     "name": "stdout",
     "output_type": "stream",
     "text": [
      "[[0 0 0 0 0]\n",
      " [0 0 0 0 0]\n",
      " [0 0 1 0 0]\n",
      " [0 0 0 0 0]\n",
      " [0 0 0 0 0]]\n",
      "\n",
      "[[0 0 1 0 0]\n",
      " [0 0 0 0 0]\n",
      " [0 0 0 0 0]\n",
      " [0 0 0 0 0]\n",
      " [0 0 0 0 0]]\n",
      "\n"
     ]
    }
   ],
   "source": [
    "def nextw(x,y,id):\n",
    "    '''\n",
    "    x, y: int, bitboard Stellungen\n",
    "    id: int, Karten id 0-15\n",
    "    returns: List a of ints, Folgestellungen für weiss mit Karte id für die Positionen aus x, wobei \n",
    "             Zielpositionen aus y ausgeschlossen sind\n",
    "    '''\n",
    "    tmp = []\n",
    "    for e in eList(x):\n",
    "        t = x & ~e\n",
    "        for z in nmw[(e,id)]:\n",
    "            if not (z & (x | y)):\n",
    "                tmp.append(t | z)\n",
    "    return tmp\n",
    "\n",
    "def nextb(x,y,id):\n",
    "    '''\n",
    "    x, y: int, bitboard Stellung\n",
    "    id: int, Karten id 0-15\n",
    "    returns: List a of ints, Folgestellungen für schwarz mit Karte id für die Positionen aus x, wobei \n",
    "             Zielpositionen aus y ausgeschlossen sind\n",
    "    '''\n",
    "    tmp = []\n",
    "    for e in eList(x):\n",
    "        t = x & ~e\n",
    "        for z in nmb[(e,id)]:\n",
    "            if not (z & (x | y)):\n",
    "                tmp.append(t | z)\n",
    "    return tmp  \n",
    "\n",
    "\n",
    "def test_nextw():\n",
    "    x = bb([21,22])\n",
    "    y = bb([23])\n",
    "    for z in nextw(x,y,5):\n",
    "        print(board(z))\n",
    "        print()\n",
    "        \n",
    "def test_nextb():\n",
    "    x = bb([7])\n",
    "    y = bb([8])\n",
    "    for z in nextb(x,y,3):\n",
    "        print(board(z))\n",
    "        print()\n",
    "        \n",
    "test_nextb()"
   ]
  },
  {
   "cell_type": "code",
   "execution_count": 14,
   "metadata": {},
   "outputs": [
    {
     "name": "stdout",
     "output_type": "stream",
     "text": [
      "[[0 0 0 0 0]\n",
      " [0 0 0 0 0]\n",
      " [0 0 0 0 0]\n",
      " [0 0 0 0 0]\n",
      " [1 1 0 0 0]]\n"
     ]
    }
   ],
   "source": [
    "def minus(x,y):\n",
    "    ''' x, y bitboard\n",
    "    returns bitboard x minus Positions in bitboard y '''\n",
    "    return x & ~y\n",
    "\n",
    "def test_minus():\n",
    "    x = bb([20,21,22])\n",
    "    y = bb([22,23])\n",
    "    print(board(minus(x,y)))\n",
    "    \n",
    "test_minus()"
   ]
  },
  {
   "cell_type": "code",
   "execution_count": 15,
   "metadata": {},
   "outputs": [
    {
     "name": "stdout",
     "output_type": "stream",
     "text": [
      "(4, 8, 0, 2, (2, 3, 8, 14, 10), 0, 0)\n",
      "[[0 0 0 0 0]\n",
      " [0 0 0 0 0]\n",
      " [0 0 0 0 0]\n",
      " [0 0 0 0 0]\n",
      " [0 3 1 4 0]]\n",
      "ids: (2, 3, 8, 14, 10) player: 0 turn: 0\n"
     ]
    }
   ],
   "source": [
    "'''\n",
    "beim dem Ausdruck von show bedeutet\n",
    "player: 0 = als nächstes ist weiß dran\n",
    "turn: 0 = bis jetzt wurden 0 Züge gemacht\n",
    "\n",
    "'''\n",
    "\n",
    "def show(state):\n",
    "    sw, sb, mw, mb, ids, player, turn = state\n",
    "    a = np.zeros((5,5), dtype = int)\n",
    "    for x in range(5):\n",
    "        for y in range(5):\n",
    "            if board(sw)[x,y] == 1:\n",
    "                a[x,y] = 1\n",
    "            if board(sb)[x,y] == 1:\n",
    "                a[x,y] = 3\n",
    "            if board(mw)[x,y] == 1:\n",
    "                a[x,y] = 2\n",
    "            if board(mb)[x,y] == 1:\n",
    "                a[x,y] = 4\n",
    "\n",
    "    print(a)\n",
    "    print('ids:',ids, 'player:',player, 'turn:',turn)\n",
    "    \n",
    "def startstate():\n",
    "    sw = bb([20,21,23,24])\n",
    "    sb = bb([0,1,3,4])\n",
    "    mw = bb([22])\n",
    "    mb = bb([2])\n",
    "    ids = (2,3,8,14,10)\n",
    "    player = 0\n",
    "    turn = 0\n",
    "    return sw, sb, mw, mb, ids, player, turn\n",
    "\n",
    "def teststate():\n",
    "    sw = bb([22])\n",
    "    mw = bb([])\n",
    "    sb = bb([21])\n",
    "    mb = bb([23])\n",
    "    ids = (2,3,8,14,10)\n",
    "    player = 0\n",
    "    turn = 0\n",
    "    return sw, sb, mw, mb, ids, player, turn\n",
    "\n",
    "def test_show():\n",
    "    print(teststate())\n",
    "    show(teststate())\n",
    "    \n",
    "test_show()"
   ]
  },
  {
   "cell_type": "code",
   "execution_count": 16,
   "metadata": {},
   "outputs": [
    {
     "name": "stdout",
     "output_type": "stream",
     "text": [
      "(2, 10, 8, 14, 3)\n"
     ]
    }
   ],
   "source": [
    "def swap(tup,i,j):\n",
    "    ''' vertauscht im tuple tup die indizes i und j'''\n",
    "    tmp = list(tup)\n",
    "    tmp[i],tmp[j] = tmp[j],tmp[i]\n",
    "    return tuple(tmp)\n",
    "\n",
    "def test_swap():\n",
    "    ids = (2,3,8,14,10)\n",
    "    print(swap(ids,1,4))\n",
    "    \n",
    "test_swap()\n"
   ]
  },
  {
   "cell_type": "code",
   "execution_count": 17,
   "metadata": {},
   "outputs": [
    {
     "name": "stdout",
     "output_type": "stream",
     "text": [
      "[[0 0 0 0 1]\n",
      " [0 0 0 0 1]\n",
      " [0 0 0 0 1]\n",
      " [0 0 0 0 2]\n",
      " [0 3 0 4 1]]\n",
      "ids: (15, 7, 4, 5, 0) player: 0 turn: 0\n",
      "====\n",
      "[[0 0 0 0 1]\n",
      " [0 0 0 0 1]\n",
      " [0 0 0 0 1]\n",
      " [0 0 0 0 2]\n",
      " [0 3 0 4 1]]\n",
      "ids: (0, 7, 4, 5, 15) player: 1 turn: 1\n",
      "----\n",
      "[[0 0 0 0 1]\n",
      " [0 0 0 0 1]\n",
      " [0 0 0 0 1]\n",
      " [0 0 0 0 2]\n",
      " [0 3 0 4 1]]\n",
      "ids: (15, 0, 4, 5, 7) player: 1 turn: 1\n",
      "----\n"
     ]
    }
   ],
   "source": [
    "'''\n",
    "wenn es keinen gültigen Zug gibt, kann man PASS sagen und eine Karte tauschen\n",
    "\n",
    "'''\n",
    "\n",
    "def nextstates(state):\n",
    "    sw, sb, mw, mb, ids, player, turn = state\n",
    "    tmp = []    \n",
    "    if player == 0:\n",
    "        player = 1\n",
    "        turn += 1\n",
    "        for i in range(0,2):\n",
    "            id = ids[i]\n",
    "            ids_neu = swap(ids,i,4)\n",
    "            for x in nextw(sw,mw,id):\n",
    "                sb_neu = minus(sb,x)\n",
    "                mb_neu = minus(mb,x)\n",
    "                tmp.append((x,sb_neu,mw,mb_neu,ids_neu,player,turn))\n",
    "            for x in nextw(mw,sw,id):\n",
    "                sb_neu = minus(sb,x)\n",
    "                mb_neu = minus(mb,x)\n",
    "                tmp.append((sw,sb_neu,x,mb_neu,ids_neu,player,turn))\n",
    "        if len(tmp) == 0:   # kein gültiger Zug gefunden\n",
    "            tmp.append((sw,sb,mw,mb,swap(ids,0,4),player,turn))\n",
    "            tmp.append((sw,sb,mw,mb,swap(ids,1,4),player,turn))\n",
    "                \n",
    "                \n",
    "    elif player == 1:\n",
    "        player = 0\n",
    "        turn += 1\n",
    "        \n",
    "        for i in range(2,4):\n",
    "            id = ids[i]\n",
    "            ids_neu = swap(ids,i,4)\n",
    "            for x in nextb(sb,mb,id):\n",
    "                sw_neu = minus(sw,x)\n",
    "                mw_neu = minus(mw,x)\n",
    "                tmp.append((sw_neu,x,mw_neu,mb,ids_neu,player,turn))\n",
    "            for x in nextb(mb,sb,id):\n",
    "                sw_neu = minus(sw,x)\n",
    "                mw_neu = minus(mw,x)\n",
    "                tmp.append((sw_neu,sb,mw_neu,x,ids_neu,player,turn))\n",
    "        if len(tmp) == 0:   # kein gültiger Zug gefunden\n",
    "            tmp.append((sw,sb,mw,mb,swap(ids,2,4),player,turn))\n",
    "            tmp.append((sw,sb,mw,mb,swap(ids,3,4),player,turn))\n",
    "    return tmp \n",
    "\n",
    "def test_nextstates():\n",
    "    sw = bb([22])\n",
    "    mw = bb([])\n",
    "    sb = bb([21])\n",
    "    mb = bb([23])\n",
    "    ids = (3,5,4,4,0)\n",
    "    player = 0\n",
    "    turn = 0\n",
    "    state = (sw,sb,mw,mb,ids,player,turn)\n",
    "    show(state)\n",
    "    print('====')\n",
    "    for st in nextstates(state):\n",
    "        show(st)\n",
    "        print('----')\n",
    "\n",
    "def test_nextstates1():\n",
    "    sw = bb([4,9,14,24])\n",
    "    mw = bb([19])\n",
    "    sb = bb([21])\n",
    "    mb = bb([23])\n",
    "    ids = (15,7,4,5,0)\n",
    "    player = 0\n",
    "    turn = 0\n",
    "    state = (sw,sb,mw,mb,ids,player,turn)\n",
    "    show(state)\n",
    "    print('====')\n",
    "    for st in nextstates(state):\n",
    "        show(st)\n",
    "        print('----')\n",
    "        \n",
    "test_nextstates1()\n",
    " \n",
    " "
   ]
  },
  {
   "cell_type": "code",
   "execution_count": 18,
   "metadata": {},
   "outputs": [
    {
     "name": "stdout",
     "output_type": "stream",
     "text": [
      "D4\n"
     ]
    }
   ],
   "source": [
    "def getPosNamen():\n",
    "    '''e bitboard einer Einzelposition\n",
    "    returns: Positionsname wie in Codingame: A1 für Index 20'''\n",
    "    tmp = {}\n",
    "    tmp1 = []\n",
    "    for i in range(5,-1,-1):\n",
    "        for c in 'ABCDE':\n",
    "            tmp1.append(c+str(i))\n",
    "    tmp2 = [pos2bb[k] for k in range(25)]\n",
    "    for x,name in zip(tmp2,tmp1):\n",
    "        tmp[x]=name\n",
    "    return tmp\n",
    "    \n",
    "posNamen = getPosNamen()\n",
    "print(posNamen[bb([8])])"
   ]
  },
  {
   "cell_type": "code",
   "execution_count": 19,
   "metadata": {},
   "outputs": [
    {
     "name": "stdout",
     "output_type": "stream",
     "text": [
      "B1D1\n"
     ]
    }
   ],
   "source": [
    "def zug(b1, b2):\n",
    "    ''' zwei bitboards b2 entsteht aus b1, indem ein bit aus b1 an eine andere stelle gewandert ist'''\n",
    "    ''' returns 2 bitboards: die von-Position des gewanderten bits und die zu-Position'''\n",
    "    return posNamen[b1 & ~b2]+posNamen[b2 & ~b1]\n",
    "\n",
    "def test_zug():\n",
    "    b1 = bb([21,22])\n",
    "    b2 = bb([22,23])\n",
    "    print(zug(b1,b2))\n",
    "    \n",
    "test_zug()"
   ]
  },
  {
   "cell_type": "code",
   "execution_count": 20,
   "metadata": {},
   "outputs": [
    {
     "name": "stdout",
     "output_type": "stream",
     "text": [
      "[[0 0 0 0 0]\n",
      " [0 0 0 0 0]\n",
      " [0 0 0 0 0]\n",
      " [0 0 1 0 0]\n",
      " [0 3 0 4 0]]\n",
      "ids: (0, 5, 4, 4, 3) player: 1 turn: 1\n",
      "3 C1C2\n",
      "----\n",
      "[[0 0 0 0 0]\n",
      " [0 0 0 0 0]\n",
      " [0 0 0 0 0]\n",
      " [0 0 0 0 0]\n",
      " [0 1 0 4 0]]\n",
      "ids: (0, 5, 4, 4, 3) player: 1 turn: 1\n",
      "3 C1B1\n",
      "----\n",
      "[[0 0 0 0 0]\n",
      " [0 0 0 0 0]\n",
      " [0 0 0 0 0]\n",
      " [0 0 0 1 0]\n",
      " [0 3 0 4 0]]\n",
      "ids: (3, 0, 4, 4, 5) player: 1 turn: 1\n",
      "5 C1D2\n",
      "----\n",
      "[[0 0 0 0 0]\n",
      " [0 0 0 0 0]\n",
      " [0 0 0 0 0]\n",
      " [0 0 0 0 0]\n",
      " [0 1 0 4 0]]\n",
      "ids: (3, 0, 4, 4, 5) player: 1 turn: 1\n",
      "5 C1B1\n",
      "----\n",
      "[[0 0 0 0 0]\n",
      " [0 0 0 0 0]\n",
      " [0 0 0 0 0]\n",
      " [0 0 0 0 0]\n",
      " [0 3 0 1 0]]\n",
      "ids: (3, 0, 4, 4, 5) player: 1 turn: 1\n",
      "5 C1D1\n",
      "----\n"
     ]
    }
   ],
   "source": [
    "def getMsg(state1, state2):\n",
    "    sw1, sb1, mw1, mb1, ids1, player1, turn1 = state1\n",
    "    sw2, sb2, mw2, mb2, ids2, player2, turn2 = state2\n",
    "    cardid = ids2[-1]\n",
    "    if player1 == 0:  # es war ein Zug von weiss\n",
    "        allw1 = sw1 | mw1\n",
    "        allw2 = sw2 | mw2\n",
    "        if allw1 == allw2: return \"PASS\"\n",
    "        return str(cardid) + \" \" + zug(allw1, allw2)\n",
    "    if player1 == 1:\n",
    "        allb1 = sb1 | mb1\n",
    "        allb2 = sb2 | mb2\n",
    "        if allb1 == allb2: return \"PASS\"\n",
    "        return str(cardid) + \" \" + zug(allb1, allb2)\n",
    "    \n",
    "def test_getMsg():\n",
    "    sw = bb([22])\n",
    "    mw = bb([])\n",
    "    sb = bb([21])\n",
    "    mb = bb([23])\n",
    "    ids = (3,5,4,4,0)\n",
    "    player = 0\n",
    "    turn = 0\n",
    "    state = (sw,sb,mw,mb,ids,player,turn)\n",
    "    for st in nextstates(state):\n",
    "        show(st)\n",
    "        print(getMsg(state,st))\n",
    "        print(\"----\")\n",
    "        \n",
    "test_getMsg()"
   ]
  },
  {
   "cell_type": "code",
   "execution_count": 21,
   "metadata": {},
   "outputs": [
    {
     "name": "stdout",
     "output_type": "stream",
     "text": [
      "[[0 0 0 2 0]\n",
      " [0 0 0 0 0]\n",
      " [0 0 0 0 0]\n",
      " [0 0 0 0 0]\n",
      " [0 3 1 0 0]]\n",
      "ids: (3, 5, 4, 7, 0) player: 0 turn: 0\n",
      "True\n"
     ]
    }
   ],
   "source": [
    "mfb = bb([2])  # meister feld black\n",
    "mfw = bb([22]) # meister feld white\n",
    "def goaltest(state):\n",
    "    sw, sb, mw, mb, ids, player, turn = state\n",
    "    return mw == mfb or mb == mfw or mw == 0 or mb == 0 or turn > 200\n",
    "\n",
    "\n",
    "def test_goaltest():\n",
    "    sw = bb([22])\n",
    "    mw = bb([3])\n",
    "    sb = bb([21])\n",
    "    mb = bb([])\n",
    "    ids = (3,5,4,7,0)\n",
    "    player = 0\n",
    "    turn = 0\n",
    "    state = (sw,sb,mw,mb,ids,player,turn)\n",
    "    show(state)\n",
    "    print(goaltest(state))\n",
    "    \n",
    "    \n",
    "test_goaltest()   "
   ]
  },
  {
   "cell_type": "code",
   "execution_count": 22,
   "metadata": {},
   "outputs": [
    {
     "name": "stdout",
     "output_type": "stream",
     "text": [
      "2\n"
     ]
    }
   ],
   "source": [
    "def countBits(x):\n",
    "    ''' nicht effizient '''\n",
    "    return bin(x).count('1')\n",
    "\n",
    "def test_countBits():\n",
    "    x = 12\n",
    "    print(countBits(x))\n",
    "    \n",
    "test_countBits()"
   ]
  },
  {
   "cell_type": "code",
   "execution_count": 23,
   "metadata": {},
   "outputs": [
    {
     "name": "stdout",
     "output_type": "stream",
     "text": [
      "-40\n"
     ]
    }
   ],
   "source": [
    "def evaluation(state):\n",
    "    sw, sb, mw, mb, ids, player, turn = state\n",
    "    if mw == mfb or mb == 0: return 10000\n",
    "    if mb == mfw or mw == 0: return -10000\n",
    "    pw = countBits(sw)*40\n",
    "    pb = countBits(sb)*40\n",
    "    return pw - pb\n",
    "\n",
    "def test_evaluation():\n",
    "    sw = bb([22,23])\n",
    "    mw = bb([1])\n",
    "    sb = bb([21,17,18])\n",
    "    mb = bb([20])\n",
    "    ids = (3,5,4,7,0)\n",
    "    player = 0\n",
    "    turn = 0\n",
    "    state = (sw,sb,mw,mb,ids,player,turn)\n",
    "    print(evaluation(state))\n",
    "    \n",
    "test_evaluation()\n",
    "    \n",
    "    \n",
    "    "
   ]
  },
  {
   "cell_type": "code",
   "execution_count": 26,
   "metadata": {},
   "outputs": [
    {
     "name": "stdout",
     "output_type": "stream",
     "text": [
      "[[0 0 0 0 0]\n",
      " [0 0 0 0 0]\n",
      " [0 0 0 0 0]\n",
      " [0 0 0 0 0]\n",
      " [1 1 0 1 1]]\n",
      "[[0 0 0 0 0]\n",
      " [0 0 0 0 0]\n",
      " [0 0 0 0 0]\n",
      " [0 0 0 0 0]\n",
      " [0 0 1 0 0]]\n",
      "[[1 1 0 1 1]\n",
      " [0 0 0 0 0]\n",
      " [0 0 0 0 0]\n",
      " [0 0 0 0 0]\n",
      " [0 0 0 0 0]]\n",
      "[[0 0 1 0 0]\n",
      " [0 0 0 0 0]\n",
      " [0 0 0 0 0]\n",
      " [0 0 0 0 0]\n",
      " [0 0 0 0 0]]\n"
     ]
    }
   ],
   "source": [
    "def boardlist2bbs(bl):\n",
    "    ''' einer boardlist die bitboards für ein state'''\n",
    "    swl, sbl, mwl, mbl = [], [], [], []\n",
    "    for k in range(25):\n",
    "        if bl[k] == 'b': sbl.append(k)\n",
    "        elif bl[k] == 'B': mbl.append(k)\n",
    "        elif bl[k] == 'w': swl.append(k)\n",
    "        elif bl[k] == 'W': mwl.append(k)\n",
    "            \n",
    "    return bb(swl),bb(sbl),bb(mwl),bb(mbl)\n",
    "            \n",
    "\n",
    "def boardlist2bbs_test():\n",
    "    bl =  ['b', 'b', 'B', 'b', 'b', '.', '.', '.', '.', '.', '.', '.', '.', '.', '.', '.', '.', '.', '.', '.', 'w', 'w', 'W', 'w', 'w']\n",
    "    sw, sb, mw, mb = boardlist2bbs(bl)\n",
    "    print(board(sw))\n",
    "    print(board(mw))\n",
    "    print(board(sb))\n",
    "    print(board(mb))\n",
    "    \n",
    "boardlist2bbs_test()"
   ]
  },
  {
   "cell_type": "markdown",
   "metadata": {},
   "source": [
    "#### Die Indexpositionen des 5x5 Bitboards"
   ]
  },
  {
   "cell_type": "code",
   "execution_count": 12,
   "metadata": {},
   "outputs": [
    {
     "name": "stdout",
     "output_type": "stream",
     "text": [
      "[[ 0  1  2  3  4]\n",
      " [ 5  6  7  8  9]\n",
      " [10 11 12 13 14]\n",
      " [15 16 17 18 19]\n",
      " [20 21 22 23 24]]\n"
     ]
    }
   ],
   "source": [
    "a = np.arange(25)\n",
    "a = a.reshape(5,5)\n",
    "print(a)"
   ]
  },
  {
   "cell_type": "markdown",
   "metadata": {},
   "source": [
    "#### Modellierung des Spielstatus\n",
    "\n",
    "Eine Spielstellung ist vollständig beschrieben durch \n",
    "- die Lage auf dem Brett (die 4 Bitboards: sw, sb, mw, mb )\n",
    "Stellung der weißen, Stellung der schwarzen, Stellung der Meister\n",
    "- die Verteilung der Karten (id0 .. id4 in einer Liste)\n",
    "- wer dran ist (der untere (weisse) Spieler 0 oder der obere (schwarze) Spieler ist 1)\n",
    "-  der wievielte Zug es ist. Bei 200 endet das Spiel.\n",
    "\n",
    "\n",
    "```\n",
    "status = [sw, sb, mw, mb, ids, player(0/1), turn(0-200)]  \n",
    "```\n",
    "\n",
    "<img src = './img/onitama01.png' width = 500>\n",
    "\n",
    "\n",
    "\n"
   ]
  },
  {
   "cell_type": "markdown",
   "metadata": {},
   "source": [
    " \n",
    "\n",
    "Die Funktion show zeigt das Brett mit:\n",
    "```\n",
    "0 - frei\n",
    "1 - Schüler Spieler 1\n",
    "2 - Meister Spieler 1\n",
    "3 - Schüler Spieler 2\n",
    "4 - Meister Spieler2\n",
    "\n",
    "```"
   ]
  },
  {
   "cell_type": "markdown",
   "metadata": {},
   "source": [
    "#### Eine Abfolge von 10 zufälligen Zügen zum Test"
   ]
  },
  {
   "cell_type": "code",
   "execution_count": 73,
   "metadata": {},
   "outputs": [
    {
     "name": "stdout",
     "output_type": "stream",
     "text": [
      "[[3 3 4 3 3]\n",
      " [0 0 0 0 0]\n",
      " [0 0 0 0 0]\n",
      " [0 0 0 0 0]\n",
      " [1 1 2 1 1]]\n",
      "ids: (2, 3, 8, 14, 10) player: 0 turn: 0\n",
      "=====\n",
      "2 D1C2\n",
      "[[3 3 4 3 3]\n",
      " [0 0 0 0 0]\n",
      " [0 0 0 0 0]\n",
      " [0 0 1 0 0]\n",
      " [1 1 2 0 1]]\n",
      "ids: (10, 3, 8, 14, 2) player: 1 turn: 1\n",
      "-----\n",
      "8 C5B4\n",
      "[[3 3 0 3 3]\n",
      " [0 4 0 0 0]\n",
      " [0 0 0 0 0]\n",
      " [0 0 1 0 0]\n",
      " [1 1 2 0 1]]\n",
      "ids: (10, 3, 2, 14, 8) player: 0 turn: 2\n",
      "-----\n",
      "10 C2A3\n",
      "[[3 3 0 3 3]\n",
      " [0 4 0 0 0]\n",
      " [1 0 0 0 0]\n",
      " [0 0 0 0 0]\n",
      " [1 1 2 0 1]]\n",
      "ids: (8, 3, 2, 14, 10) player: 1 turn: 3\n",
      "-----\n",
      "14 E5D4\n",
      "[[3 3 0 3 0]\n",
      " [0 4 0 3 0]\n",
      " [1 0 0 0 0]\n",
      " [0 0 0 0 0]\n",
      " [1 1 2 0 1]]\n",
      "ids: (8, 3, 2, 10, 14) player: 0 turn: 4\n",
      "-----\n",
      "8 C1D2\n",
      "[[3 3 0 3 0]\n",
      " [0 4 0 3 0]\n",
      " [1 0 0 0 0]\n",
      " [0 0 0 2 0]\n",
      " [1 1 0 0 1]]\n",
      "ids: (14, 3, 2, 10, 8) player: 1 turn: 5\n",
      "-----\n",
      "10 D4C5\n",
      "[[3 3 3 3 0]\n",
      " [0 4 0 0 0]\n",
      " [1 0 0 0 0]\n",
      " [0 0 0 2 0]\n",
      " [1 1 0 0 1]]\n",
      "ids: (14, 3, 2, 8, 10) player: 0 turn: 6\n",
      "-----\n",
      "3 B1B2\n",
      "[[3 3 3 3 0]\n",
      " [0 4 0 0 0]\n",
      " [1 0 0 0 0]\n",
      " [0 1 0 2 0]\n",
      " [1 0 0 0 1]]\n",
      "ids: (14, 10, 2, 8, 3) player: 1 turn: 7\n",
      "-----\n",
      "8 B4A3\n",
      "[[3 3 3 3 0]\n",
      " [0 0 0 0 0]\n",
      " [4 0 0 0 0]\n",
      " [0 1 0 2 0]\n",
      " [1 0 0 0 1]]\n",
      "ids: (14, 10, 2, 3, 8) player: 0 turn: 8\n",
      "-----\n",
      "14 B2A3\n",
      "[[3 3 3 3 0]\n",
      " [0 0 0 0 0]\n",
      " [1 0 0 0 0]\n",
      " [0 0 0 2 0]\n",
      " [1 0 0 0 1]]\n",
      "ids: (8, 10, 2, 3, 14) player: 1 turn: 9\n",
      "-----\n",
      "3 B5B4\n",
      "[[3 0 3 3 0]\n",
      " [0 3 0 0 0]\n",
      " [1 0 0 0 0]\n",
      " [0 0 0 2 0]\n",
      " [1 0 0 0 1]]\n",
      "ids: (8, 10, 2, 14, 3) player: 0 turn: 10\n",
      "-----\n"
     ]
    }
   ],
   "source": [
    "import random\n",
    "state = startstate()\n",
    "show(state)\n",
    "print('=====')\n",
    "for i in range(10):\n",
    "    ns = nextstates(state)\n",
    "    i = random.randint(0,len(ns)-1)\n",
    "    print(getMsg(state,ns[i]))\n",
    "    state = ns[i]\n",
    "    show(state)\n",
    "    print('-----')"
   ]
  },
  {
   "cell_type": "markdown",
   "metadata": {},
   "source": [
    "-----"
   ]
  }
 ],
 "metadata": {
  "kernelspec": {
   "display_name": "Python 3",
   "language": "python",
   "name": "python3"
  },
  "language_info": {
   "codemirror_mode": {
    "name": "ipython",
    "version": 3
   },
   "file_extension": ".py",
   "mimetype": "text/x-python",
   "name": "python",
   "nbconvert_exporter": "python",
   "pygments_lexer": "ipython3",
   "version": "3.7.4"
  }
 },
 "nbformat": 4,
 "nbformat_minor": 4
}
