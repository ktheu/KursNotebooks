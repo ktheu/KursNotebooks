{
 "cells": [
  {
   "cell_type": "markdown",
   "metadata": {},
   "source": [
    "## Neuronale Netze\n",
    "\n",
    "Problemstellung Klassifikation: [Cat vs. Dog](https://www.kaggle.com/c/dogs-vs-cats/overview). Es stehen 25000 Beispielbilder zur Verfügung. \n",
    "\n",
    "Problemstellung Klassifikation: Ein Punkt soll in eine von zwei Klassen eingeteilt werden. Es stehen Beispielpunkte zur Verfügung.\n",
    "\n",
    "[ConvNetJS](https://cs.stanford.edu/people/karpathy/convnetjs/demo/classify2d.html) - \n",
    "[Tensorflow Playground](https://playground.tensorflow.org/)"
   ]
  },
  {
   "cell_type": "markdown",
   "metadata": {},
   "source": [
    "### Perceptron\n",
    "\n",
    "Ein Perceptron erhält Inputwerte x1, x2 und berechnet daraus eine gewichtete Summe. Wenn diese Summe\n",
    "größer als ein Schwellwert ist, bedeutet es, dass das Perceptron aktiviert wird und \"feuert\", d.h. eine 1 ausgibt. \n",
    "\n",
    "<img src=\"./img/nn_01.png\" width=\"800\"/>   "
   ]
  },
  {
   "cell_type": "markdown",
   "metadata": {},
   "source": [
    "In der Gleichung bringen wir den Schwellwert auf die andere Seite. Den negativen Schwellwert nennen wir den **Bias b**. Je größer der Bias, desto einfacher ist es, das Perceptron zu aktivieren. Der Ausgabewert des Perceptrons hängt von den Inputwerten x1, x2 und den drei Parametern w1, w2 und b ab.\n",
    "\n",
    "<img src=\"./img/nna_01.png\" width=\"800\"/>  "
   ]
  },
  {
   "cell_type": "code",
   "execution_count": 1,
   "metadata": {},
   "outputs": [],
   "source": [
    "class Perceptron:\n",
    "    def __init__(self,param):\n",
    "        self.w1, self.w2, self.b = param\n",
    "    \n",
    "    def calc(self, x1, x2):\n",
    "        z = self.w1 * x1 + self.w2 * x2 + self.b\n",
    "        if z >= 0: return 1\n",
    "        else: return 0\n"
   ]
  },
  {
   "cell_type": "code",
   "execution_count": 2,
   "metadata": {},
   "outputs": [
    {
     "name": "stdout",
     "output_type": "stream",
     "text": [
      "0\n",
      "1\n"
     ]
    }
   ],
   "source": [
    "pc = Perceptron([1,-2,-4])\n",
    "print(pc.calc(3,2))\n",
    "print(pc.calc(3,-2))\n"
   ]
  },
  {
   "cell_type": "markdown",
   "metadata": {},
   "source": [
    "Wir möchten ein Perceptron, das sich bei 0-1 Inputs wie ein logisches **OR** verhält. \n",
    "\n",
    "<img src=\"./img/nn_02.png\" width=\"300\"/>   "
   ]
  },
  {
   "cell_type": "code",
   "execution_count": 3,
   "metadata": {},
   "outputs": [
    {
     "name": "stdout",
     "output_type": "stream",
     "text": [
      "0 0 0 0\n",
      "0 1 1 1\n",
      "1 0 1 1\n",
      "1 1 1 1\n"
     ]
    }
   ],
   "source": [
    "X = [(0,0),(0,1),(1,0),(1,1)]\n",
    "Y = [0,1,1,1]\n",
    "pc = Perceptron([1,1,-0.5])\n",
    "for (x1,x2),y in zip(X,Y):\n",
    "    print(x1,x2,pc.calc(x1,x2),y)"
   ]
  },
  {
   "cell_type": "markdown",
   "metadata": {},
   "source": [
    "#### Übung\n",
    "\n",
    "Bestimme die Parameter eines Perceptrons, das für die Punkte (2/4) und (6/3) feuert, aber nicht für (6/4). Überprüfe das Ergebnis in Python. Nutze dazu die Perceptron-Klasse von oben.\n"
   ]
  },
  {
   "cell_type": "markdown",
   "metadata": {},
   "source": [
    "Wir möchten, dass das Perceptron geeignete Werte für seine Parameter selbst findet (lernt). Wir starten mit zufälligen Anfangswerten und messen den Fehler."
   ]
  },
  {
   "cell_type": "code",
   "execution_count": 4,
   "metadata": {},
   "outputs": [
    {
     "name": "stdout",
     "output_type": "stream",
     "text": [
      "0 0 0 0\n",
      "0 1 0 1\n",
      "1 0 0 1\n",
      "1 1 0 1\n"
     ]
    }
   ],
   "source": [
    "X = [(0,0),(0,1),(1,0),(1,1)]\n",
    "Y = [0,1,1,1]\n",
    "pc = Perceptron([-1,1,-1.5])\n",
    "for (x1,x2),y in zip(X,Y):\n",
    "    print(x1,x2,pc.calc(x1,x2),y)"
   ]
  },
  {
   "cell_type": "markdown",
   "metadata": {},
   "source": [
    "Dieses Perceptron macht viele Fehler. Wenn wir ein bisschen an den Parametern drehen, können wir leider nicht sehen, ob wir uns in die richtige Richtung bewegen."
   ]
  },
  {
   "cell_type": "code",
   "execution_count": 97,
   "metadata": {},
   "outputs": [
    {
     "name": "stdout",
     "output_type": "stream",
     "text": [
      "0 0 0 0 0\n",
      "0 1 0 0 1\n",
      "1 0 0 0 1\n",
      "1 1 0 0 1\n"
     ]
    }
   ],
   "source": [
    "X = [(0,0),(0,1),(1,0),(1,1)]\n",
    "Y = [0,1,1,1]\n",
    "pc1 = Perceptron([-1.1, 1, -1.5])\n",
    "pc2 = Perceptron([-0.9, 1, -1.5])\n",
    "for (x1,x2),y in zip(X,Y):\n",
    "    print(x1,x2,pc1.calc(x1,x2),pc2.calc(x1,x2), y)\n"
   ]
  },
  {
   "cell_type": "markdown",
   "metadata": {},
   "source": [
    "### Neuron"
   ]
  },
  {
   "cell_type": "markdown",
   "metadata": {},
   "source": [
    "Das Neuron nutzt eine Aktivierungfunktion, die es erlaubt, bei Parameteränderungen zu erkennen, ob der Fehler größer oder kleiner wird.  Zunächst nutzen wir die **sigmoid**-Funktion als Aktivierungsfunktion.\n",
    "\n",
    "<img src=\"./img/nna_02.png\" width=\"700\"/>  \n",
    "\n",
    "<img src=\"./img/nn_03.png\" width=\"500\"/>  "
   ]
  },
  {
   "cell_type": "code",
   "execution_count": 5,
   "metadata": {},
   "outputs": [],
   "source": [
    "import math\n",
    "class Neuron:\n",
    "    def __init__(self,param):\n",
    "        self.w1, self.w2, self.b = param\n",
    "    \n",
    "    def calc(self, x1, x2):\n",
    "        z = self.w1 * x1 + self.w2 * x2 + self.b\n",
    "        return 1/(1+math.exp(-z))\n"
   ]
  },
  {
   "cell_type": "code",
   "execution_count": 7,
   "metadata": {},
   "outputs": [
    {
     "name": "stdout",
     "output_type": "stream",
     "text": [
      "0 0 0.18242552380635635 0.18242552380635635 0\n",
      "0 1 0.3775406687981454 0.3775406687981454 1\n",
      "1 0 0.06913842034334682 0.08317269649392238 1\n",
      "1 1 0.16798161486607552 0.19781611144141825 1\n"
     ]
    }
   ],
   "source": [
    "X = [(0,0),(0,1),(1,0),(1,1)]\n",
    "Y = [0,1,1,1]\n",
    "n1 = Neuron([-1.1, 1, -1.5])\n",
    "n2 = Neuron([-0.9, 1, -1.5])\n",
    "for (x1,x2),y in zip(X,Y):\n",
    "    print(x1,x2,n1.calc(x1,x2),n2.calc(x1,x2), y)\n"
   ]
  },
  {
   "cell_type": "markdown",
   "metadata": {},
   "source": [
    "Wir messen den Fehler, den das Neuron bei einer Berechnung macht, als den halben quadratischen Abstand zum\n",
    "gewünschten Ergebnis.\n",
    "\n",
    "<img src=\"./img/nna_03.png\" width=\"900\"/>  "
   ]
  },
  {
   "cell_type": "code",
   "execution_count": 5,
   "metadata": {},
   "outputs": [
    {
     "name": "stdout",
     "output_type": "stream",
     "text": [
      "0.43325164024043983\n",
      "0.42028615222711274\n"
     ]
    }
   ],
   "source": [
    "x1, x2 = 1, 0\n",
    "y = 1\n",
    "\n",
    "n1 = Neuron([-1.1, 1, -1.5])\n",
    "n2 = Neuron([-0.9, 1, -1.5])\n",
    "\n",
    "a = n1.calc(x1,x2)\n",
    "loss = 0.5*(y -a)**2\n",
    "print(loss)\n",
    "\n",
    "a = n2.calc(x1,x2)\n",
    "loss = 0.5*(y -a)**2\n",
    "print(loss)"
   ]
  },
  {
   "cell_type": "markdown",
   "metadata": {},
   "source": [
    "Der Gesamtfehler wird über alle Eingaben gemittelt"
   ]
  },
  {
   "cell_type": "code",
   "execution_count": 8,
   "metadata": {},
   "outputs": [
    {
     "name": "stdout",
     "output_type": "stream",
     "text": [
      "0.24743657055225335 0.23810074828168448\n"
     ]
    }
   ],
   "source": [
    "X = [(0,0),(0,1),(1,0),(1,1)]\n",
    "Y = [0,1,1,1]\n",
    "n1 = Neuron([-1.1, 1, -1.5])\n",
    "n2 = Neuron([-0.9, 1, -1.5])\n",
    "loss1 = loss2 = 0\n",
    "for (x1,x2),y in zip(X,Y):\n",
    "    a1 = n1.calc(x1,x2)\n",
    "    a2 = n2.calc(x1,x2)\n",
    "    loss1 = loss1 + 0.5*(y-a1)**2\n",
    "    loss2 = loss2 + 0.5*(y-a2)**2\n",
    "loss1 = loss1 / 4\n",
    "loss2 = loss2 / 4\n",
    "print(loss1, loss2)"
   ]
  },
  {
   "cell_type": "markdown",
   "metadata": {},
   "source": [
    "#### Übung\n",
    "\n",
    "Die erwartete Ausgabe für das Neuron mit w1,w2,b = -1,1,-1.5 bei der Eingabe von (3,2) ist 1. Wie groß ist der Fehler?\n",
    "Ändere durch Ausprobieren die Parameter w1,w2,b so, dass der Fehler kleiner als 0.000008 wird."
   ]
  },
  {
   "cell_type": "code",
   "execution_count": 9,
   "metadata": {},
   "outputs": [
    {
     "name": "stdout",
     "output_type": "stream",
     "text": [
      "0.07585818002124355 0.42701905171682414 False\n"
     ]
    }
   ],
   "source": [
    "x1, x2 = 3, 2\n",
    "y = 1\n",
    "\n",
    "n = Neuron([-1, 1, -1.5])\n",
    "a = n.calc(x1,x2)\n",
    " \n",
    "loss = 0.5*(y -a)**2\n",
    "print(a,loss,loss<0.000008)\n",
    "\n",
    " "
   ]
  },
  {
   "cell_type": "markdown",
   "metadata": {},
   "source": [
    "### Änderungsrate\n",
    "\n",
    "Wir möchte wissen, wie sich bei Änderung des Parameters der *loss* ändert. Diese Frage wird durch die Ableitung beantwortet. Wenn wir mehrere Funktionen hintereinanderschalten, benötigen wir die Kettenregel. Bei einfachen Verkettungen lässt sich die Ableitungsfunktion berechnen, bei komplizierteren Verkettungen können wir die Ableitung an den Stellen, die uns interessieren, schrittweise berechnen.\n",
    "\n",
    "<img src=\"./img/nn_19a.png\" width=\"600\"/>   \n",
    "\n",
    "Wenn man a and der Stelle 2 ein klein wenig schubst, ändert sich c um das 60-fache."
   ]
  },
  {
   "cell_type": "code",
   "execution_count": 31,
   "metadata": {},
   "outputs": [
    {
     "name": "stdout",
     "output_type": "stream",
     "text": [
      "75 75.06001199999999\n"
     ]
    }
   ],
   "source": [
    "def f(a):\n",
    "    b = 2*a + 1\n",
    "    c = 3*b**2\n",
    "    return c\n",
    "\n",
    "a = 2\n",
    "c = f(a)\n",
    "\n",
    "a1 = 2.001   # Änderung von a um 0.001\n",
    "c1 = f(a1)\n",
    "print(c, c1)"
   ]
  },
  {
   "cell_type": "markdown",
   "metadata": {},
   "source": [
    "### Gradient\n",
    "\n",
    "Um herauszufinden, in welchem Verhältnis wir die Parameter ändern müssen, damit der Fehler geringer wird, nutzen wir den **Gradienten**."
   ]
  },
  {
   "cell_type": "markdown",
   "metadata": {},
   "source": [
    "Der Fehler ist abhängig von den 3 Parametern w1, w2 und b. Wir versuchen den Fehler zu minimieren. Der Gradient gibt die Richtung des steilsten Anstiegs an. Um unseren Funktionswert zu minimieren, gehen wir mit unseren Parametern in Richtung des negativen Gradienten (**gradient descent**)."
   ]
  },
  {
   "cell_type": "markdown",
   "metadata": {},
   "source": [
    "\n",
    "\n",
    "Um den Gradienten einer Funktion zu berechnen, stellen wir sie in einem **computation graph** dar. Wir notieren die partiellen Ableitungen (lokaler Gradient) an den entsprechenden Verbindungen. Den Gradienten erhalten wir durch Multiplikation der lokalen Gradienten längs des entsprechenden Pfades.\n"
   ]
  },
  {
   "cell_type": "markdown",
   "metadata": {},
   "source": [
    "\n",
    "#### Beispiel 1:\n",
    "\n",
    "Bestimme den Wert der Funktion Funktion $f(x_1,x_2,x_3) = (x_1^2 + 3x_2) \\cdot 2x_3$ am Punkt $x = (2,-1,3)$.\n",
    "Gehe von $x$ aus um $0.01$ Längeneinheiten in Richtung des negativen Gradienten zum Punkt $x'$ und werte dort die Funktion erneut aus.\n",
    "\n",
    "<img src=\"./img/nn_19.png\" width=\"800\"/>    \n",
    "\n"
   ]
  },
  {
   "cell_type": "markdown",
   "metadata": {},
   "source": [
    "#### Beispiel 2:\n",
    "Bestimme den Wert der Funktion $f(x_1,x_2,x_3) = (x_1\\cdot x_2 + x_1^2) \\cdot (x_3 - 5)$ am Punkt $x = (1,-2,2)$.\n",
    "Gehe von $x$ aus um $0.01$ Längeneinheiten in Richtung des negativen Gradienten zum Punkt $x'$ und werte dort die Funktion erneut aus.\n",
    "(Mit etwas Übung kann man bei einfachen Funktionen die partiellen Ableitungen direkt hinschreiben). \n",
    "\n",
    "<img src=\"./img/nn_20.png\" width=\"800\"/>  "
   ]
  },
  {
   "cell_type": "markdown",
   "metadata": {},
   "source": [
    "\n",
    "\n",
    "#### Beispiel 3: \n",
    "Wenn es auf dem Weg zurück zur Variablen mehrere Wege gibt, werden die Werte der Pfade addiert.\n",
    "\n",
    "Bestimme den Wert der Funktion $f(x_1,x_2,x_3) = (x_1 + 2x_2)(x_2 +4x_3)$ am Punkt $x = (-1,2,3)$. Gehe von $x$ aus um $0.02$ Längeneinheiten in Richtung des negativen Gradienten zum Punkt $x'$ und werte dort die Funktion erneut aus.\n",
    "\n",
    "<img src=\"./img/nn_21.png\" width=\"900\"/>   \n",
    "\n",
    "In diesem Beispiel ist es noch möglich, die partiellen Ableitungen direkt hinzuschreiben. Die Addition der Pfade spiegelt sich in der Addition bei der Produktregel.\n",
    "\n",
    "<img src=\"./img/nn_21a.png\" width=\"500\"/> "
   ]
  },
  {
   "cell_type": "markdown",
   "metadata": {},
   "source": [
    "#### Übung\n",
    "\n",
    "Bestimme den Wert der Funktion $f(x_1,x_2,x_3) = (x_1^2 -4x_3)(4x_1x_2 - x_3)$  am Punkt $x = (1,2,-1)$. Gehe von $x$ aus um $0.1$ Längeneinheiten in Richtung des negativen Gradienten zum Punkt $x'$ und werte dort die Funktion erneut aus.\n",
    "\n",
    "\n",
    "\n"
   ]
  },
  {
   "cell_type": "markdown",
   "metadata": {},
   "source": [
    "### Die lokalen Gradienten eines Neurons\n",
    "\n",
    "\n",
    "Übung: Zeige $\\sigma^{\\prime}(z) = \\sigma(z) \\cdot (1-\\sigma(z))$\n",
    "\n",
    "\n",
    "\n",
    "<img src=\"./img/nn_08.png\" width=\"701\"/>  "
   ]
  },
  {
   "cell_type": "markdown",
   "metadata": {},
   "source": [
    "Wir fassen alles zu einer Einheit zusammen\n",
    "\n",
    "<img src=\"./img/nn_22.png\" width=\"601\"/>  "
   ]
  },
  {
   "cell_type": "code",
   "execution_count": 1,
   "metadata": {},
   "outputs": [],
   "source": [
    "import math\n",
    "class Neuron:\n",
    "    def __init__(self,param):\n",
    "        self.w1, self.w2, self.b = param\n",
    "    \n",
    "    def forward(self, x1, x2):\n",
    "        z = self.w1 * x1 + self.w2 * x2 + self.b\n",
    "        a = 1/(1+math.exp(-1.0*z))\n",
    "        \n",
    "        # Wir merken uns die lokalen Gradienten\n",
    "        self.db = a *(1-a)\n",
    "        self.dw1 = x1 * self.db   \n",
    "        self.dw2 = x2 * self.db\n",
    "        self.dx1 = self.w1 * self.db\n",
    "        self.dx2 = self.w2 * self.db\n",
    "        return a\n",
    "    \n"
   ]
  },
  {
   "cell_type": "code",
   "execution_count": 6,
   "metadata": {},
   "outputs": [
    {
     "data": {
      "text/plain": [
       "(0.07585818002124355,\n",
       " 0.21031114963532443,\n",
       " 0.1402074330902163,\n",
       " 0.07010371654510815)"
      ]
     },
     "execution_count": 6,
     "metadata": {},
     "output_type": "execute_result"
    }
   ],
   "source": [
    "n.w1, n.w2, n.b\n",
    "a = n.forward(3,2)\n",
    "a, n.dw1, n.dw2, n.db"
   ]
  },
  {
   "cell_type": "markdown",
   "metadata": {},
   "source": [
    "#### Übung\n",
    "\n",
    "Berechne für $x = (3,2)$ den Output und die lokalen Gradienten des Neurons <br>\n",
    "```n = Neuron([-1,2,-4])``` <br>\n"
   ]
  },
  {
   "cell_type": "markdown",
   "metadata": {},
   "source": [
    "### Fehlerberechnung Neuron"
   ]
  },
  {
   "cell_type": "markdown",
   "metadata": {},
   "source": [
    "Die Berechnung des Fehlers als computational graph\n",
    "\n",
    "<img src=\"./img/nn_15.png\" width=\"601\"/>  "
   ]
  },
  {
   "cell_type": "markdown",
   "metadata": {},
   "source": [
    "#### Beispiel\n",
    "\n",
    "Für das Neuron  &nbsp; ```n = Neuron([-1,2,-4])```  &nbsp; ist $y = 1$ der erwartete Output bei $x = (-1,2)$.\n",
    "Berechne die neuen Werte für $w_1, w_2, b$ nach einem Durchgang forward/backward-propagation bei einer learning-rate von 0.2\n",
    "\n",
    "<img src=\"./img/nn_23.png\" width=\"801\"/>  \n"
   ]
  },
  {
   "cell_type": "code",
   "execution_count": 23,
   "metadata": {},
   "outputs": [],
   "source": [
    "import math\n",
    "import random\n",
    "\n",
    "class Neuron:\n",
    "    def __init__(self,param):\n",
    "        self.w1, self.w2, self.b = param\n",
    "    \n",
    "    def forward(self, x1, x2):\n",
    "        z = self.w1 * x1 + self.w2 * x2 + self.b\n",
    "        print(\"z=\",z)\n",
    "        a = 1/(1+math.exp(-1.0*z))\n",
    "        \n",
    "        # wir berechnen die lokalen Gradienten\n",
    "        self.db = a *(1-a)    \n",
    "        print(\"a*(1-a)\",self.db)\n",
    "        self.dw1 = x1 * self.db   \n",
    "        self.dw2 = x2 * self.db\n",
    "        #self.dx1 = self.w1 * self.db\n",
    "        #self.dx2 = self.w2 * self.db\n",
    "        return a\n",
    "    \n",
    "    def backward(self, g):\n",
    "        # wir multiplizieren den lokalen Gradienten mit\n",
    "        # dem upstream Gradienten g\n",
    "        self.db *= g\n",
    "        self.dw1 *= g\n",
    "        self.dw2 *= g\n",
    "        #self.dx1 *= g\n",
    "        #self.dx2 *= g\n",
    "        \n",
    "    def update(self,lr):\n",
    "        self.w1 = self.w1 - lr * self.dw1\n",
    "        self.w2 = self.w2 - lr * self.dw2\n",
    "        self.b = self.b - lr * self.db\n"
   ]
  },
  {
   "cell_type": "code",
   "execution_count": 24,
   "metadata": {},
   "outputs": [],
   "source": [
    "n = Neuron([-1,1,-1.5])"
   ]
  },
  {
   "cell_type": "code",
   "execution_count": 25,
   "metadata": {},
   "outputs": [
    {
     "name": "stdout",
     "output_type": "stream",
     "text": [
      "z= -2.5\n",
      "a*(1-a) 0.07010371654510815\n",
      "-- nach forward propagation ---\n",
      "a = 0.0759\n",
      "db = 0.0701\n",
      "dw1 = 0.0701, dw2 = 0.0000\n",
      "loss=0.4270\n",
      "g=-0.9241\n",
      "-- nach backward propagation ---\n",
      "db = -0.0648\n",
      "dw1 = -0.0648, dw2 = -0.0000\n",
      "-- nach Parameterupdate ---\n",
      "b = -1.4981\n",
      "w1 = -0.9981, w2 = 1.0000\n",
      "-- neues Ergebnis:\n",
      "z= -2.4961128534282837\n",
      "a*(1-a) 0.07033518368744232\n",
      "a = 0.0761\n"
     ]
    }
   ],
   "source": [
    "n = Neuron([-1,1,-1.5])\n",
    "a = n.forward(1,0)\n",
    "print('-- nach forward propagation ---') \n",
    "print(\"a = {:6.4f}\".format(a))\n",
    "print(\"db = {:6.4f}\".format(n.db))\n",
    "print(\"dw1 = {:6.4f}, dw2 = {:6.4f}\".format(n.dw1,n.dw2))\n",
    "\n",
    "y = 1\n",
    "print(\"loss={:6.4f}\".format(0.5*(y-a)**2))\n",
    "g = a - y  # upstream gradient\n",
    "print(\"g={:6.4f}\".format(g))\n",
    "n.backward(g)\n",
    "print('-- nach backward propagation ---')\n",
    "print(\"db = {:6.4f}\".format(n.db))\n",
    "print(\"dw1 = {:6.4f}, dw2 = {:6.4f}\".format(n.dw1,n.dw2))\n",
    "\n",
    "print('-- nach Parameterupdate ---')\n",
    "n.update(0.03)\n",
    "print(\"b = {:6.4f}\".format(n.b))\n",
    "print(\"w1 = {:6.4f}, w2 = {:6.4f}\".format(n.w1,n.w2))\n",
    "\n",
    "print('-- neues Ergebnis:') \n",
    "a = n.forward(1,0)\n",
    "print(\"a = {:6.4f}\".format(a))"
   ]
  },
  {
   "cell_type": "markdown",
   "metadata": {},
   "source": [
    "### Ein Neuron für die OR-Funktion\n",
    "\n",
    "Wir initialisieren die Parameter des Neurons mit zufälligen Werten. Wir spendieren dem Neuron noch weitere Attribute, damit es\n",
    "die Änderungswünsche der vier Eingabepunkte aufsummieren kann. Die Änderung der Parameter orientiert sich dann an dem Durchschnitt aller Änderungswünsche."
   ]
  },
  {
   "cell_type": "code",
   "execution_count": 66,
   "metadata": {},
   "outputs": [],
   "source": [
    "import math\n",
    "\n",
    "class Neuron:\n",
    "    def __init__(self,param):\n",
    "        self.w1, self.w2, self.b = param\n",
    "        self.sumdb = 0\n",
    "        self.sumdw1 = 0\n",
    "        self.sumdw2 = 0\n",
    "    \n",
    "    def forward(self, x1, x2):\n",
    "        z = self.w1 * x1 + self.w2 * x2 + self.b\n",
    "        a = 1/(1+math.exp(-1.0*z))\n",
    "        \n",
    "        # wir berechnen die lokalen Gradienten\n",
    "        self.db = a *(1-a)    \n",
    "        self.dw1 = x1 * self.db   \n",
    "        self.dw2 = x2 * self.db\n",
    "        self.dx1 = self.w1 * self.db\n",
    "        self.dx2 = self.w2 * self.db\n",
    "        return a\n",
    "    \n",
    "    def backward(self, g):\n",
    "        \n",
    "        # wir multiplizieren den lokalen Gradienten mit\n",
    "        # dem upstream Gradienten g\n",
    "        self.db *= g\n",
    "        self.dw1 *= g\n",
    "        self.dw2 *= g\n",
    "        self.dx1 *= g\n",
    "        self.dx2 *= g\n",
    "        \n",
    "        # wir addieren die Änderungswünsche\n",
    "        self.sumdb += self.db \n",
    "        self.sumdw1 += self.dw1\n",
    "        self.sumdw2 += self.dw2 \n",
    "        \n",
    "    def update(self,lr):\n",
    "        self.w1 = self.w1 - lr * self.sumdw1\n",
    "        self.w2 = self.w2 - lr * self.sumdw2\n",
    "        self.b = self.b - lr * self.sumdb\n",
    "        \n",
    "        # reset Änderungswünsche für neuen Durchgang\n",
    "        self.sumdw1 = 0\n",
    "        self.sumdw2 = 0\n",
    "        self.sumdb = 0\n",
    "        \n",
    "        "
   ]
  },
  {
   "cell_type": "code",
   "execution_count": 71,
   "metadata": {},
   "outputs": [
    {
     "name": "stdout",
     "output_type": "stream",
     "text": [
      "0.05477788660656421\n",
      "0.9657946341792935\n",
      "0.9657777325838186\n",
      "0.9999272754808666\n"
     ]
    }
   ],
   "source": [
    "n = Neuron([-1, 1, -1.5])\n",
    "lr = 0.1\n",
    "\n",
    "X  = [(0,0),(0,1),(1,0),(1,1)]\n",
    "Y = [0,1,1,1]\n",
    "for k in range(10000):\n",
    "    for (x1,x2),y in zip(X,Y):\n",
    "        a = n.forward(x1,x2)\n",
    "        n.backward(a-y)\n",
    "    n.update(lr)\n",
    "\n",
    "for (x1,x2) in X:\n",
    "    print(n.forward(x1,x2))"
   ]
  },
  {
   "cell_type": "code",
   "execution_count": 5,
   "metadata": {},
   "outputs": [
    {
     "data": {
      "image/png": "[encoded data removed]",
      "text/plain": [
       "<Figure size 432x288 with 1 Axes>"
      ]
     },
     "metadata": {
      "needs_background": "light"
     },
     "output_type": "display_data"
    }
   ],
   "source": [
    "import matplotlib.pyplot as plt\n",
    "%matplotlib inline\n",
    "def plotGerade(w1, w2, b):\n",
    "    m = -w1/w2\n",
    "    c = -b/w2\n",
    "    y0 = c\n",
    "    y1 = m + c\n",
    "    plt.plot([0,1],[y0,y1])\n",
    "    plt.scatter([0,0,1,1], [0,1,0,1], s=30)\n",
    "    \n",
    "plotGerade(n.w1, n.w2, n.b)"
   ]
  },
  {
   "cell_type": "markdown",
   "metadata": {},
   "source": [
    "### Berechnen der Parameter für eine XOR-Erkennung\n",
    "\n",
    "Mit einem Neuron können wir kein **XOR** modellieren. Wie vernetzen 3 Neuronen und lassen das Netz die 9 Parameter lernen.\n",
    "\n",
    "\n",
    "<img src=\"./img/nn_16.png\" width=\"400\"/>  \n",
    "\n",
    "Da nur die Layer mit Parametern gezählt werden, ist das Netz ein 2-Layer Netz. Für die hidden Layer eignet sich die \n",
    "**Relu** Aktivierungsfunktion besser.\n",
    "\n"
   ]
  },
  {
   "cell_type": "markdown",
   "metadata": {},
   "source": [
    "### Relu \n",
    "\n",
    "Relu = rectified linear unit, $f(x) = max(0,x)$\n",
    "\n",
    "<img src=\"./img/nn_17.png\" width=\"400\"/>  \n",
    "\n",
    "Der lokale Gradient der Relu-Funktion\n",
    "\n",
    "<img src=\"./img/nn_18.png\" width=\"400\"/>  \n",
    "\n",
    "<img src=\"./img/nn_24.png\" width=\"900\"/>   "
   ]
  },
  {
   "cell_type": "markdown",
   "metadata": {},
   "source": [
    "Das Netz implementiert die abgebildeten Verknüpfungen"
   ]
  },
  {
   "cell_type": "code",
   "execution_count": null,
   "metadata": {},
   "outputs": [],
   "source": [
    "import math\n",
    "class Netz:\n",
    "    def __init__(self,param):\n",
    "        self.w11, self.w12, self.b1, self.w21, self.w22, self.b2, self.w31, self.w32, self.b3 = param\n",
    "   \n",
    "    def forward(self, x1, x2):\n",
    "        z1 = self.w11 * x1 + self.w12 * x2 + self.b1   \n",
    "        a1 = z1 if z1 > 0 else 0 \n",
    "        \n",
    "        z2 = self.w21 * x1 + self.w22 * x2 + self.b2 \n",
    "        a2 = z2 if z2 > 0 else 0 \n",
    "        \n",
    "        z3 = self.w31 * a1 + self.w32 * a2 + self.b3\n",
    "        a3 = 1/(1+math.exp(-1.0*z3))\n",
    "        \n",
    "        # wir berechnen die lokalen gradienten \n",
    "        self.db3 = a3 *(1-a3)    \n",
    "        self.dw31 = db3*a1 * self.db3   \n",
    "        self.dw32 = a2 * self.db3\n",
    "        self.d1 = self.w1 * self.db\n",
    "        self.dx2 = self.w2 * self.db\n",
    "        \n",
    "        \n",
    "        \n",
    "        g = a3 - y\n",
    "        \n",
    "        # backward\n",
    "        db3 =  g * a3*(1-a3)\n",
    "        dw31 = db3 * a1\n",
    "        dw32 = db3 * a2\n",
    " \n",
    "        db1 = db3 * self.w31 if z1 > 0 else 0\n",
    "        dw11 = db1 * x1\n",
    "        dw12 = db1 * x2\n",
    "        \n",
    "        db2 = db3 * self.w32 if z2 > 0 else 0\n",
    "        dw21 = db2 * x1\n",
    "        dw22 = db2 * x2\n",
    "        \n",
    "        return a3\n",
    "    \n",
    "    def update(self, lr):\n",
    "        \n",
    "        self.w11 = self.w11 - lr * self.dw11\n",
    "        self.w12 = self.w12 - lr * self.dw12\n",
    "        self.b1 = self.b1 - lr * self.db1\n",
    "        self.w21 = self.w21 - lr * self.dw21\n",
    "        self.w22 = self.w22 - lr * self.dw22\n",
    "        self.b2 = self.b2 - lr * self.db2\n",
    "        self.w31 = self.w31 - lr * self.dw31\n",
    "        self.w32 = self.w32 - lr * self.dw32\n",
    "        self.b3 = self.b3 - lr * self.db3\n",
    "        "
   ]
  },
  {
   "cell_type": "code",
   "execution_count": 72,
   "metadata": {},
   "outputs": [],
   "source": [
    "import math\n",
    "class Netz:\n",
    "    def __init__(self,param):\n",
    "        self.w11, self.w12, self.b1, self.w21, self.w22, self.b2, self.w31, self.w32, self.b3 = param\n",
    "   \n",
    "    def calc(self, x1, x2):\n",
    "        # forward\n",
    "        z1 = self.w11 * x1 + self.w12 * x2 + self.b1   \n",
    "        a1 = z1 if z1 > 0 else 0 \n",
    "        \n",
    "        z2 = self.w21 * x1 + self.w22 * x2 + self.b2 \n",
    "        a2 = z2 if z2 > 0 else 0 \n",
    "        \n",
    "        z3 = self.w31 * a1 + self.w32 * a2 + self.b3\n",
    "        a3 = 1/(1+math.exp(-1.0*z3))\n",
    "        \n",
    "        g = a3 - y\n",
    "        \n",
    "        # backward\n",
    "        db3 =  g * a3*(1-a3)\n",
    "        dw31 = db3 * a1\n",
    "        dw32 = db3 * a2\n",
    " \n",
    "        db1 = db3 * self.w31 if z1 > 0 else 0\n",
    "        dw11 = db1 * x1\n",
    "        dw12 = db1 * x2\n",
    "        \n",
    "        db2 = db3 * self.w32 if z2 > 0 else 0\n",
    "        dw21 = db2 * x1\n",
    "        dw22 = db2 * x2\n",
    "        \n",
    "        return a3\n",
    "    \n",
    "    def update(self, lr):\n",
    "        \n",
    "        self.w11 = self.w11 - lr * self.dw11\n",
    "        self.w12 = self.w12 - lr * self.dw12\n",
    "        self.b1 = self.b1 - lr * self.db1\n",
    "        self.w21 = self.w21 - lr * self.dw21\n",
    "        self.w22 = self.w22 - lr * self.dw22\n",
    "        self.b2 = self.b2 - lr * self.db2\n",
    "        self.w31 = self.w31 - lr * self.dw31\n",
    "        self.w32 = self.w32 - lr * self.dw32\n",
    "        self.b3 = self.b3 - lr * self.db3\n",
    "        \n"
   ]
  },
  {
   "cell_type": "code",
   "execution_count": 73,
   "metadata": {},
   "outputs": [],
   "source": [
    "param = [-3, 2, 5, 3, -1, -1, -1, 5, -1]\n",
    "netz = Netz(param)"
   ]
  },
  {
   "cell_type": "markdown",
   "metadata": {},
   "source": [
    "Wir erweitern die Klasse Netz um die Summenfelder für die Änderungswünsche"
   ]
  },
  {
   "cell_type": "code",
   "execution_count": 7,
   "metadata": {},
   "outputs": [],
   "source": [
    "import math\n",
    "class Netz:\n",
    "    def __init__(self,param):\n",
    "        self.w11, self.w12, self.b1, self.w21, self.w22, self.b2, self.w31, self.w32, self.b3 = param\n",
    "        self.sumdw11 = self.sumdw12 = self.sumdb1 = self.sumdw21 = self.sumdw22 = self.sumdb2 = 0\n",
    "        self.sumdw31 = self.sumdw32 = self.sumdb3 = 0\n",
    "   \n",
    "    def calc(self, x1, x2, y=0):\n",
    "        \n",
    "        # forward\n",
    "        z1 = self.w11 * x1 + self.w12 * x2 + self.b1 \n",
    "        a1 = z1 if z1 > 0 else 0 \n",
    "        \n",
    "        z2 = self.w21 * x1 + self.w22 * x2 + self.b2 \n",
    "        a2 = z2 if z2 > 0 else 0 \n",
    "        \n",
    "        z3 = self.w31 * a1 + self.w32 * a2 + self.b3\n",
    "        a3 = 1/(1+math.exp(-1.0*z3))\n",
    "        \n",
    "        g = a3 - y\n",
    "     \n",
    "        # backward\n",
    "        db3 =  g * a3*(1-a3)\n",
    "        dw31 = db3 * a1\n",
    "        dw32 = db3 * a2\n",
    " \n",
    "        db1 = db3 * self.w31 if z1 > 0 else 0\n",
    "        dw11 = db1 * x1\n",
    "        dw12 = db1 * x2\n",
    "        \n",
    "        db2 = db3 * self.w32 if z2 > 0 else 0\n",
    "        dw21 = db2 * x1\n",
    "        dw22 = db2 * x2\n",
    "        \n",
    "        self.sumdb1 += db1\n",
    "        self.sumdw11 += dw11\n",
    "        self.sumdw12 += dw12\n",
    "        \n",
    "        self.sumdb2 += db2\n",
    "        self.sumdw21 += dw21\n",
    "        self.sumdw22 += dw22\n",
    "        \n",
    "        self.sumdb3 += db3\n",
    "        self.sumdw31 += dw31\n",
    "        self.sumdw32 += dw32\n",
    "        \n",
    "        return a3\n",
    "    \n",
    "    def update(self, lr):\n",
    "        \n",
    "        self.w11 = self.w11 - lr * self.sumdw11\n",
    "        self.w12 = self.w12 - lr * self.sumdw12\n",
    "        self.b1 = self.b1 - lr * self.sumdb1\n",
    "        self.w21 = self.w21 - lr * self.sumdw21\n",
    "        self.w22 = self.w22 - lr * self.sumdw22\n",
    "        self.b2 = self.b2 - lr * self.sumdb2\n",
    "        self.w31 = self.w31 - lr * self.sumdw31\n",
    "        self.w32 = self.w32 - lr * self.sumdw32\n",
    "        self.b3 = self.b3 - lr * self.sumdb3\n",
    "        \n",
    "        self.sumdw11 = self.sumdw12 = self.sumdb1 = self.sumdw21 = self.sumdw22 = self.sumdb2 = 0\n",
    "        self.sumdw31 = self.sumdw32 = self.sumdb3 = 0\n",
    " "
   ]
  },
  {
   "cell_type": "code",
   "execution_count": 11,
   "metadata": {},
   "outputs": [
    {
     "name": "stdout",
     "output_type": "stream",
     "text": [
      "0.02152887960849732\n",
      "0.9865561278944127\n",
      "0.9925728614413033\n",
      "0.007333030796455198\n"
     ]
    }
   ],
   "source": [
    "X  = [(0,0),(0,1),(1,0),(1,1)]\n",
    "Y = [0,1,1,0]\n",
    "param = [-3, 2, 5, 3, -1, -1, -1, 5, -1]        # bei 1 noch schlecht, bei 1000 schlecht, bei 10000 gut\n",
    "#param = [-3, 2, -5, 3, -1, -1, -1, 5, -1]      # kommt zu keinem richtigen Ergebnis.\n",
    "lr = 0.1\n",
    "netz = Netz(param)\n",
    "for i in range(10000):\n",
    "    for (x1,x2),y in zip(X,Y):\n",
    "        netz.calc(x1,x2,y)\n",
    "        netz.update(0.1)\n",
    "for (x1,x2),y in zip(X,Y):\n",
    "    print(netz.calc(x1,x2,y))"
   ]
  },
  {
   "cell_type": "code",
   "execution_count": 12,
   "metadata": {},
   "outputs": [
    {
     "data": {
      "text/plain": [
       "<matplotlib.collections.PathCollection at 0x279b059e948>"
      ]
     },
     "execution_count": 12,
     "metadata": {},
     "output_type": "execute_result"
    },
    {
     "data": {
      "image/png": "[encoded data removed]",
      "text/plain": [
       "<Figure size 432x288 with 1 Axes>"
      ]
     },
     "metadata": {
      "needs_background": "light"
     },
     "output_type": "display_data"
    }
   ],
   "source": [
    "import matplotlib.pyplot as plt\n",
    "%matplotlib inline\n",
    "\n",
    "x1 = 0\n",
    "X1, X2, Y = [], [], []\n",
    "while x1 < 1:\n",
    "    x2 = 0\n",
    "    while x2 < 1:\n",
    "        x2 += 0.05\n",
    "        X1.append(x1)\n",
    "        X2.append(x2)\n",
    "        Y.append(netz.calc(x1,x2) > 0.5)\n",
    "    x1 += 0.05\n",
    "\n",
    "plt.scatter(X1, X2, c=Y,s=5)\n"
   ]
  }
 ],
 "metadata": {
  "kernelspec": {
   "display_name": "Python 3",
   "language": "python",
   "name": "python3"
  },
  "language_info": {
   "codemirror_mode": {
    "name": "ipython",
    "version": 3
   },
   "file_extension": ".py",
   "mimetype": "text/x-python",
   "name": "python",
   "nbconvert_exporter": "python",
   "pygments_lexer": "ipython3",
   "version": "3.7.4"
  }
 },
 "nbformat": 4,
 "nbformat_minor": 4
}
