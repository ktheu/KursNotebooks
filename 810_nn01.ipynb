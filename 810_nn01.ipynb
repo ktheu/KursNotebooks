{
 "cells": [
  {
   "cell_type": "markdown",
   "metadata": {},
   "source": [
    "## Neuronale Netze"
   ]
  },
  {
   "cell_type": "markdown",
   "metadata": {},
   "source": [
    "### Begriffe \n",
    "Machine Learning, Neuronale Netze, Deep Learning"
   ]
  },
  {
   "cell_type": "markdown",
   "metadata": {},
   "source": [
    "### Perceptron\n",
    "\n",
    "Ein Perceptron erhält Inputwerte und berechnet daraus eine gewichtete Summe. Wenn diese Summe\n",
    "größer als ein Schwellwert ist, bedeutet es, dass das Perceptron aktiviert wird und \"feuert\", d.h. eine 1 ausgibt. \n",
    "\n",
    "<img src=\"./img/nn_01.png\" width=\"800\"/>   "
   ]
  },
  {
   "cell_type": "markdown",
   "metadata": {},
   "source": [
    "In der Gleichung bringen wir den Schwellwert auf die andere Seite. Den negativen Schwellwert nennen wir den **Bias b**. Je größer der Bias, desto einfacher ist es, das Perceptron zu aktivieren."
   ]
  },
  {
   "cell_type": "code",
   "execution_count": 154,
   "metadata": {},
   "outputs": [],
   "source": [
    "class Perceptron:\n",
    "    def __init__(self,param):\n",
    "        self.w1, self.w2, self.b = param\n",
    "    \n",
    "    def forward(self, x1, x2):\n",
    "        z = self.w1 * x1 + self.w2 * x2 + self.b\n",
    "        if z >= 0: return 1\n",
    "        else: return 0\n"
   ]
  },
  {
   "cell_type": "code",
   "execution_count": 161,
   "metadata": {},
   "outputs": [
    {
     "name": "stdout",
     "output_type": "stream",
     "text": [
      "0\n",
      "1\n"
     ]
    }
   ],
   "source": [
    "pc = Perceptron([1,-2,-4])\n",
    "print(pc.forward(3,2))\n",
    "print(pc.forward(3,-2))\n"
   ]
  },
  {
   "cell_type": "markdown",
   "metadata": {},
   "source": [
    "Wir möchten ein Perceptron, das sich bei 0-1 Inputs wie ein logisches **OR** verhält. \n",
    "\n",
    "<img src=\"./img/nn_02.png\" width=\"300\"/>   "
   ]
  },
  {
   "cell_type": "code",
   "execution_count": 160,
   "metadata": {},
   "outputs": [
    {
     "name": "stdout",
     "output_type": "stream",
     "text": [
      "0 0 0 0\n",
      "0 1 1 1\n",
      "1 0 1 1\n",
      "1 1 1 1\n"
     ]
    }
   ],
   "source": [
    "X = [(0,0),(0,1),(1,0),(1,1)]\n",
    "Y = [0,1,1,1]\n",
    "pc = Perceptron([1,1,-0.5])\n",
    "for (x1,x2),y in zip(X,Y):\n",
    "    print(x1,x2,pc.forward(x1,x2),y)"
   ]
  },
  {
   "cell_type": "markdown",
   "metadata": {},
   "source": [
    "Wir möchten, dass das Perceptron geeignete Werte für seine Parameter selbst findet (lernt). Wir starten mit zufälligen Anfangswerten und messen den Fehler."
   ]
  },
  {
   "cell_type": "code",
   "execution_count": 162,
   "metadata": {},
   "outputs": [
    {
     "name": "stdout",
     "output_type": "stream",
     "text": [
      "0 0 0 0\n",
      "0 1 0 1\n",
      "1 0 0 1\n",
      "1 1 0 1\n"
     ]
    }
   ],
   "source": [
    "X = [(0,0),(0,1),(1,0),(1,1)]\n",
    "Y = [0,1,1,1]\n",
    "pc = Perceptron([-1,1,-1.5])\n",
    "for (x1,x2),y in zip(X,Y):\n",
    "    print(x1,x2,pc.forward(x1,x2),y)"
   ]
  },
  {
   "cell_type": "markdown",
   "metadata": {},
   "source": [
    "Dieses Perceptron macht viele Fehler. Wenn wir ein bisschen an den Parameter drehen, können wir leider nicht sehen, ob wir uns in die richtige Richtung bewegen."
   ]
  },
  {
   "cell_type": "code",
   "execution_count": 163,
   "metadata": {},
   "outputs": [
    {
     "name": "stdout",
     "output_type": "stream",
     "text": [
      "0 0 0 0 0\n",
      "0 1 0 0 1\n",
      "1 0 0 0 1\n",
      "1 1 0 0 1\n"
     ]
    }
   ],
   "source": [
    "X = [(0,0),(0,1),(1,0),(1,1)]\n",
    "Y = [0,1,1,1]\n",
    "pc1 = Perceptron([-1.1, 1, -1.5])\n",
    "pc2 = Perceptron([-0.9, 1, -1.5])\n",
    "for (x1,x2),y in zip(X,Y):\n",
    "    print(x1,x2,pc1.forward(x1,x2),pc2.forward(x1,x2), y)\n"
   ]
  },
  {
   "cell_type": "markdown",
   "metadata": {},
   "source": [
    "Wir nutzen die **sigmoid**-Funktion als Aktivierungsfunktion, um unseren Fehler besser messen zu können. \n",
    "\n",
    "<img src=\"./img/nn_03.png\" width=\"600\"/>  \n",
    "\n"
   ]
  },
  {
   "cell_type": "code",
   "execution_count": 164,
   "metadata": {},
   "outputs": [],
   "source": [
    "import math\n",
    "import random\n",
    "class Neuron:\n",
    "    def __init__(self,param):\n",
    "        self.w1, self.w2, self.b = param\n",
    "    \n",
    "    def forward(self, x1, x2):\n",
    "        z = self.w1 * x1 + self.w2 * x2 + self.b\n",
    "        return 1/(1+math.exp(-z))\n"
   ]
  },
  {
   "cell_type": "code",
   "execution_count": 166,
   "metadata": {},
   "outputs": [
    {
     "name": "stdout",
     "output_type": "stream",
     "text": [
      "0 0 0.18242552380635635 0.18242552380635635 0.18242552380635635 0\n",
      "0 1 0.3775406687981454 0.3775406687981454 0.3775406687981454 1\n",
      "1 0 0.06913842034334682 0.08317269649392238 0.07585818002124355 1\n",
      "1 1 0.16798161486607552 0.19781611144141825 0.18242552380635635 1\n"
     ]
    }
   ],
   "source": [
    "X = [(0,0),(0,1),(1,0),(1,1)]\n",
    "Y = [0,1,1,1]\n",
    "n1 = Neuron([-1.1, 1, -1.5])\n",
    "n2 = Neuron([-1, 1, -1.5])\n",
    "n3 = Neuron([-0.9, 1, -1.5])\n",
    "for (x1,x2),y in zip(X,Y):\n",
    "    print(x1,x2,n1.forward(x1,x2),n3.forward(x1,x2),n2.forward(x1,x2), y)"
   ]
  },
  {
   "cell_type": "markdown",
   "metadata": {},
   "source": [
    "Wir messen den Gesamtfehler über die mittlere quadratische Abweichung (MSE mean squared error)"
   ]
  },
  {
   "cell_type": "code",
   "execution_count": 167,
   "metadata": {},
   "outputs": [
    {
     "name": "stdout",
     "output_type": "stream",
     "text": [
      "0.4948731411045067 0.48580020457331063 0.47620149656336896\n"
     ]
    }
   ],
   "source": [
    "X = [(0,0),(0,1),(1,0),(1,1)]\n",
    "Y = [0,1,1,1]\n",
    "n1 = Neuron([-1.1, 1, -1.5])\n",
    "n2 = Neuron([-1, 1, -1.5])\n",
    "n3 = Neuron([-0.9, 1, -1.5])\n",
    "\n",
    "e1, e2, e3 = 0, 0, 0\n",
    "for (x1,x2),y in zip(X,Y):\n",
    "    e1 += (n1.forward(x1,x2) - y) ** 2\n",
    "    e2 += (n2.forward(x1,x2) - y) ** 2\n",
    "    e3 += (n3.forward(x1,x2) - y) ** 2\n",
    "\n",
    "print(e1/4,e2/4,e3/4)"
   ]
  },
  {
   "cell_type": "markdown",
   "metadata": {},
   "source": [
    "Wir versuchen den Fehler zu minimieren. Der Fehler ist abhängig von den 3 Parametern w1, w2 und b. Um die Richtung der Parameteränderung herauszufinden, nutzen wir das Verfahren des **gradient descent**. Dieses Verfahren nutzt einen \n",
    "**computation graph** um den **Gradienten** einer Funktion zu bestimmen."
   ]
  },
  {
   "cell_type": "markdown",
   "metadata": {},
   "source": [
    "### Gradient\n",
    "\n",
    "Um den Gradienten einer Funktion zu berechnen, stellen wir sie in einem computation graph dar. Wir notieren die partiellen Ableitungen (lokaler Gradient) an den entsprechenden Verbindungen. Den Gradienten erhalten wir durch Multiplikation der lokalen Gradienten längs des entsprechenden Pfades.\n"
   ]
  },
  {
   "cell_type": "markdown",
   "metadata": {},
   "source": [
    "\n",
    "#### Beispiel1:\n",
    "\n",
    "Bestimme den Gradienten der Funktion $f(x,y,z) = (x^2 + 3y) \\cdot 2z$ am Punkt $(2,-1,3)$.\n",
    "\n",
    "<img src=\"./img/nn_19.png\" width=\"801\"/>    \n",
    "\n",
    "Der gesuchte Gradient ist $(24, 18, 2)$"
   ]
  },
  {
   "cell_type": "markdown",
   "metadata": {},
   "source": [
    "#### Beispiel2:\n",
    "Bestimme den Gradienten der Funktion $f(x,y,z) = (x\\cdot y + x^2) \\cdot (z - 5)$ am Punkt $(1,0,2)$.\n",
    "Mit etwas Übung kann man bei einfachen Funktionen die partiellen Ableitungen direkt hinschreiben\n",
    "\n",
    "<img src=\"./img/nn_20.png\" width=\"801\"/>  "
   ]
  },
  {
   "cell_type": "markdown",
   "metadata": {},
   "source": [
    "#### Beispiel3: \n",
    "Bestimme den Gradienten der Funktion $f(x,y,z) = (x + 2y)(y +4z)$ am Punkt $(1,2,-1)$ mit einem computational graph. \n",
    "\n",
    "<img src=\"./img/nn_21.png\" width=\"901\"/>   \n",
    "\n",
    "Wenn es mehrere Wege gibt, werden die Werte addiert."
   ]
  },
  {
   "cell_type": "markdown",
   "metadata": {},
   "source": [
    "### Die lokalen Gradienten eines Neurons\n",
    "\n",
    "Übungsaufgabe: Zeige $\\sigma^{\\prime}(z) = \\sigma(z) \\cdot (1-\\sigma(z))$\n",
    "\n",
    "\n",
    "\n",
    "<img src=\"./img/nn_08.png\" width=\"700\"/>  "
   ]
  },
  {
   "cell_type": "markdown",
   "metadata": {},
   "source": [
    "Wir fassen alles zu einer Einheit zusammen\n",
    "\n",
    "<img src=\"./img/nn_22.png\" width=\"600\"/>  "
   ]
  },
  {
   "cell_type": "code",
   "execution_count": 169,
   "metadata": {},
   "outputs": [],
   "source": [
    "import math\n",
    "class Neuron:\n",
    "    def __init__(self,w1,w2,b):\n",
    "        self.w1 = w1\n",
    "        self.w2 = w2\n",
    "        self.b = b\n",
    "    \n",
    "    def forward(self, x1, x2):\n",
    "        z = self.w1 * x1 + self.w2 * x2 + self.b\n",
    "        a = 1/(1+math.exp(-1.0*z))\n",
    "        \n",
    "        # Wir merken uns die lokalen Gradienten\n",
    "        self.db = a *(1-a)\n",
    "        self.dw1 = x1 * self.db   \n",
    "        self.dw2 = x2 * self.db\n",
    "        self.dx1 = self.w1 * self.db\n",
    "        self.dx2 = self.w2 * self.db\n",
    "        return a"
   ]
  },
  {
   "cell_type": "markdown",
   "metadata": {},
   "source": [
    "### Die Berechnung der Parameter für eine OR-Erkennung"
   ]
  },
  {
   "cell_type": "markdown",
   "metadata": {},
   "source": [
    "Die Berechnung des Fehlers als computational graph\n",
    "\n",
    "<img src=\"./img/nn_15.png\" width=\"700\"/>  "
   ]
  },
  {
   "cell_type": "code",
   "execution_count": 2,
   "metadata": {},
   "outputs": [],
   "source": [
    "import math\n",
    "import random\n",
    "\n",
    "class Neuron:\n",
    "    def __init__(self):\n",
    "        self.w1, self.w2, self.b = [random.random() for i in range(3)]\n",
    "        self.sumdb = 0\n",
    "        self.sumdw1 = 0\n",
    "        self.sumdw2 = 0\n",
    "    \n",
    "    def forward(self, x1, x2):\n",
    "        z = self.w1 * x1 + self.w2 * x2 + self.b\n",
    "        a = 1/(1+math.exp(-1.0*z))\n",
    "        \n",
    "        # wir berechnen die lokalen Gradienten\n",
    "        self.db = a *(1-a)    \n",
    "        self.dw1 = x1 * self.db   \n",
    "        self.dw2 = x2 * self.db\n",
    "        self.dx1 = self.w1 * self.db\n",
    "        self.dx2 = self.w2 * self.db\n",
    "        return a\n",
    "    \n",
    "    def backward(self, g):\n",
    "        \n",
    "        # wir multiplizieren den lokalen Gradienten mit\n",
    "        # dem upstream Gradienten g\n",
    "        self.db *= g\n",
    "        self.dw1 *= g\n",
    "        self.dw2 *= g\n",
    "        self.dx1 *= g\n",
    "        self.dx2 *= g\n",
    "        \n",
    "        # wir addieren die Änderungswünsche\n",
    "        self.sumdb += self.db \n",
    "        self.sumdw1 += self.dw1\n",
    "        self.sumdw2 += self.dw2 \n",
    "        \n",
    "    def update(self,lr):\n",
    "        self.w1 = self.w1 - lr * self.sumdw1\n",
    "        self.w2 = self.w2 - lr * self.sumdw2\n",
    "        self.b = self.b - lr * self.sumdb\n",
    "        \n",
    "        # reset Änderungswünsche für neuen Durchgang\n",
    "        self.sumdw1 = 0\n",
    "        self.sumdw2 = 0\n",
    "        self.sumdb = 0\n",
    "        \n",
    "    def setWeights(self,param):\n",
    "        self.w1, self.w2, self.b = param\n",
    "    \n",
    "    def getWeights(self):\n",
    "        return [self.w1, self.w2, self.b]\n",
    "        \n",
    "        "
   ]
  },
  {
   "cell_type": "code",
   "execution_count": 6,
   "metadata": {},
   "outputs": [
    {
     "data": {
      "text/plain": [
       "[-0.9862484457826324, 2.0014658084708663, 0.9995923244251446]"
      ]
     },
     "execution_count": 6,
     "metadata": {},
     "output_type": "execute_result"
    }
   ],
   "source": [
    "n = Neuron()\n",
    "n.setWeights([-1,2,1])\n",
    "X  = [(0,0),(0,1),(1,0),(1,1)]\n",
    "Y = [0,1,1,1]\n",
    "for (x1,x2),y in zip(X,Y):\n",
    "    a = n.forward(x1,x2)\n",
    "    n.backward(a-y)\n",
    "\n",
    "n.update(0.1)\n",
    "n.getWeights()    "
   ]
  },
  {
   "cell_type": "code",
   "execution_count": 56,
   "metadata": {},
   "outputs": [
    {
     "name": "stdout",
     "output_type": "stream",
     "text": [
      "0.8434929327076187\n",
      "0.9945825668132567\n",
      "0.17864560169863866\n",
      "0.8810802611843536\n",
      "0 [-3.2100010744673377, 3.52825064075557, 1.684450356039796]\n"
     ]
    }
   ],
   "source": [
    "X  = [(0,0),(0,1),(1,0),(1,1)]\n",
    "Y = [1,1,0,1]\n",
    "param = [-1, 1, -1.5]\n",
    "\n",
    "class Netz1:\n",
    "    def __init__(self):\n",
    "        self.n = [Neuron() for i in range(1)]\n",
    " \n",
    "    def forward(self,x1,x2):\n",
    "        return  self.n[0].forward(x1,x2)\n",
    "    \n",
    "    def backward(self,g):\n",
    "        self.n[0].backward(g)\n",
    "    \n",
    "    def update(self,lr):\n",
    "        for neuron in self.n:\n",
    "            neuron.update(lr)\n",
    "        \n",
    "    def step(self, X,Y,lr):\n",
    "        for (x1,x2),y in zip(X,Y):\n",
    "            a = self.forward(x1,x2)\n",
    "            self.backward(a - y)\n",
    "        self.update(lr)\n",
    "    \n",
    "    def train(self,X,Y,k,lr):\n",
    "        for i in range(k):\n",
    "            self.step(X,Y,lr)\n",
    "            \n",
    "    def printWeights(self):\n",
    "        for i in range(len(self.n)):\n",
    "            print(i, self.n[i].getWeights())\n",
    "        \n",
    "netz = Netz1()\n",
    "netz.train(X,Y,1000,0.1)\n",
    "\n",
    "for (x1,x2) in X:\n",
    "    print(netz.forward(x1,x2))\n",
    "\n",
    "netz.printWeights()"
   ]
  },
  {
   "cell_type": "code",
   "execution_count": 39,
   "metadata": {},
   "outputs": [],
   "source": [
    "class Netz:\n",
    "    def __init__(self,param):\n",
    "        w1, w2, b = param\n",
    "        self.n = Neuron(w1,w2,b)\n",
    "    \n",
    "    def forward(self, x1, x2):\n",
    "        return self.n.forward(x1,x2)\n",
    "    \n",
    "    def backward(self,y):\n",
    "        ay = self.n.a - y\n",
    "        db = ay * self.n.db\n",
    "        dw1 = ay * self.n.dw1\n",
    "        dw2 = ay * self.n.dw2\n",
    "        return dw1, dw2, db\n",
    "   "
   ]
  },
  {
   "cell_type": "markdown",
   "metadata": {},
   "source": [
    "Jeder der 4 Punkte wünscht sich eine Änderung der 3 Parameter"
   ]
  },
  {
   "cell_type": "code",
   "execution_count": 77,
   "metadata": {},
   "outputs": [
    {
     "name": "stdout",
     "output_type": "stream",
     "text": [
      "0 0 0.18242552380635635 (0.0, 0.0, 0.027208119642790095)\n",
      "0 1 0.3775406687981454 (-0.0, -0.14628025352695762, -0.14628025352695762)\n",
      "1 0 0.07585818002124355 (-0.06478577619527111, -0.0, -0.06478577619527111)\n",
      "1 1 0.18242552380635635 (-0.12193833242754278, -0.12193833242754278, -0.12193833242754278)\n"
     ]
    }
   ],
   "source": [
    "X  = [(0,0),(0,1),(1,0),(1,1)]\n",
    "Y = [0,1,1,1]\n",
    "param = [-1, 1, -1.5]\n",
    "netz = Netz(param)\n",
    "for (x1,x2),y in zip(X,Y):\n",
    "    print(x1,x2, netz.forward(x1,x2),netz.backward(y))"
   ]
  },
  {
   "cell_type": "markdown",
   "metadata": {},
   "source": [
    "Wir berechnen den Mittelwert der Wünsche"
   ]
  },
  {
   "cell_type": "code",
   "execution_count": 99,
   "metadata": {},
   "outputs": [
    {
     "data": {
      "text/plain": [
       "[-0.04668102715570347, -0.0670546464886251, -0.07644906062674535]"
      ]
     },
     "execution_count": 99,
     "metadata": {},
     "output_type": "execute_result"
    }
   ],
   "source": [
    "X  = [(0,0),(0,1),(1,0),(1,1)]\n",
    "Y = [0,1,1,1]\n",
    "param = [-1, 1, -1.5]\n",
    "dparam = [0] * 3\n",
    "netz = Netz(param)\n",
    "for (x1,x2),y in zip(X,Y):\n",
    "    netz.forward(x1,x2) \n",
    "    d1 = netz.backward(y)\n",
    "    for j in range(3):\n",
    "        dparam[j] += 0.25 * d1[j]\n",
    "dparam"
   ]
  },
  {
   "cell_type": "markdown",
   "metadata": {},
   "source": [
    "In diese Richtung updaten wir unsere Parameter. Die Länge des Schritts wird durch die learning_rate festgelegt. Dies wiederholen wir\n",
    "zig-mal und schauen dann, was unser Netz über die Punkte aussagt.\n",
    " "
   ]
  },
  {
   "cell_type": "code",
   "execution_count": 17,
   "metadata": {},
   "outputs": [
    {
     "name": "stdout",
     "output_type": "stream",
     "text": [
      "0.1963048891265467\n",
      "0.8864483438997881\n",
      "0.8789510640715681\n",
      "0.9957094916019151\n"
     ]
    }
   ],
   "source": [
    "X  = [(0,0),(0,1),(1,0),(1,1)]\n",
    "Y = [0,1,1,1]\n",
    "param = [-1, 1, -1.5]\n",
    "lr = 0.1\n",
    "\n",
    "for k in range(1000):\n",
    "    netz = Netz(param)\n",
    "    dparam = [0] * 3\n",
    "    for (x1,x2),y in zip(X,Y):\n",
    "        netz.forward(x1,x2) \n",
    "        d1 = netz.backward(y)\n",
    "        for j in range(3):\n",
    "            dparam[j] +=  d1[j]\n",
    "    for i in range(3):\n",
    "        param[i] = param[i] - lr * dparam[i]   \n",
    "\n",
    "for x1,x2 in X:\n",
    "    print(netz.forward(x1,x2))\n",
    "\n"
   ]
  },
  {
   "cell_type": "markdown",
   "metadata": {},
   "source": [
    "Die berechneten Gewichte erzeugen eine trennende Gerade"
   ]
  },
  {
   "cell_type": "code",
   "execution_count": 96,
   "metadata": {},
   "outputs": [
    {
     "data": {
      "image/png": "[encoded data removed]",
      "text/plain": [
       "<Figure size 432x288 with 1 Axes>"
      ]
     },
     "metadata": {},
     "output_type": "display_data"
    }
   ],
   "source": [
    "import matplotlib.pyplot as plt\n",
    "%matplotlib inline\n",
    "def plotGerade(w1, w2, b):\n",
    "    m = -w1/w2\n",
    "    c = -b/w2\n",
    "    y0 = c\n",
    "    y1 = m + c\n",
    "    plt.plot([0,1],[y0,y1])\n",
    "    plt.scatter([0,0,1,1], [0,1,0,1], s=30)\n",
    "    \n",
    "plotGerade(netz.n.w1, netz.n.w2, netz.n.b)"
   ]
  },
  {
   "cell_type": "markdown",
   "metadata": {},
   "source": [
    "### Berechnen der Parameter für eine XOR-Erkennung\n",
    "\n",
    "Mit einem Neuron können wir kein **XOR** modellieren. Wie vernetzen 3 Neuronen und lassen das Netz die 9 Parameter lernen.\n",
    "\n",
    "\n",
    "<img src=\"./img/nn_16.png\" width=\"400\"/>  \n",
    "\n",
    "Da nur die Layer mit Parametern gezählt werden, ist das Netz ein 2-Layer Netz. Für die hidden Layer eignet sich die \n",
    "**Relu** Aktivierungsfunktion besser.\n",
    "\n"
   ]
  },
  {
   "cell_type": "markdown",
   "metadata": {},
   "source": [
    "### Relu \n",
    "\n",
    "Relu = rectified linear unit, $f(x) = max(0,x)$\n",
    "\n",
    "<img src=\"./img/nn_17.png\" width=\"400\"/>  \n",
    "\n",
    "Der lokale Gradient der Relu-Funktion\n",
    "\n",
    "<img src=\"./img/nn_18.png\" width=\"400\"/>  \n",
    "\n",
    "Wir erweitern unsere Neuron-Klasse so, dass wir auch mit relu aktivieren können."
   ]
  },
  {
   "cell_type": "code",
   "execution_count": 159,
   "metadata": {},
   "outputs": [],
   "source": [
    "import math\n",
    "class Neuron:\n",
    "    def __init__(self,w1,w2,b,activation='sigmoid'):\n",
    "        self.w1 = w1\n",
    "        self.w2 = w2\n",
    "        self.b = b\n",
    "        self.activation = activation\n",
    "        \n",
    "    def forward(self, x1, x2):\n",
    "        if self.activation == 'sigmoid': \n",
    "            return self.forward_sigmoid(x1, x2)\n",
    "        if self.activation == 'relu':\n",
    "            return self.forward_relu(x1,x2)\n",
    "            \n",
    "    def forward_relu(self, x1, x2):\n",
    "        z = self.w1 * x1 + self.w2 * x2 + self.b\n",
    "        if z > 0:\n",
    "            self.a = z\n",
    "            self.db = 1\n",
    "            self.dw1 = x1\n",
    "            self.dw2 = x2\n",
    "            self.dx1 = self.w1\n",
    "            self.dx2 = self.w2\n",
    "            return z\n",
    "        else:\n",
    "            self.a = 0\n",
    "            self.db = 0\n",
    "            self.dw1 = 0\n",
    "            self.dw2 = 0\n",
    "            self.dx1 = 0\n",
    "            self.dx2 = 0\n",
    "            return 0\n",
    "    \n",
    "    def forward_sigmoid(self, x1, x2):\n",
    "        z = self.w1 * x1 + self.w2 * x2 + self.b\n",
    "        a = 1/(1+math.exp(-1.0*z))\n",
    "\n",
    "        self.a = a\n",
    "        self.db = a *(1-a)\n",
    "        self.dw1 = x1 * self.db   \n",
    "        self.dw2 = x2 * self.db\n",
    "        self.dx1 = self.w1 * self.db\n",
    "        self.dx2 = self.w2 * self.db\n",
    "        return a\n"
   ]
  },
  {
   "cell_type": "code",
   "execution_count": 125,
   "metadata": {},
   "outputs": [],
   "source": [
    "import math\n",
    "import random\n",
    "class Neuron:\n",
    "    def __init__(self,activation='relu'):\n",
    "        self.w1, self.w2, self.b = [random.uniform(-1,1) for i in range(3)]\n",
    "        self.activation = activation\n",
    "        self.sumdb = 0\n",
    "        self.sumdw1 = 0\n",
    "        self.sumdw2 = 0\n",
    "        \n",
    "    def forward(self, x1, x2):\n",
    "        if self.activation == 'sigmoid': \n",
    "            return self.forward_sigmoid(x1, x2)\n",
    "        if self.activation == 'relu':\n",
    "            return self.forward_relu(x1,x2)\n",
    "        \n",
    "    \n",
    "    def forward_sigmoid(self, x1, x2):\n",
    "        z = self.w1 * x1 + self.w2 * x2 + self.b\n",
    "        a = 1/(1+math.exp(-1.0*z))\n",
    "        \n",
    "        # Wir merken den Output und die lokalen Gradienten\n",
    "        self.a = a\n",
    "        self.db = a *(1-a)\n",
    "        self.dw1 = x1 * self.db   \n",
    "        self.dw2 = x2 * self.db\n",
    "        self.dx1 = self.w1 * self.db\n",
    "        self.dx2 = self.w2 * self.db\n",
    "        return a\n",
    "    \n",
    "    def forward_relu(self, x1, x2):\n",
    "        z = self.w1 * x1 + self.w2 * x2 + self.b\n",
    "        if z > 0:\n",
    "            self.a = z\n",
    "            self.db = 1\n",
    "            self.dw1 = x1\n",
    "            self.dw2 = x2\n",
    "            self.dx1 = self.w1\n",
    "            self.dx2 = self.w2\n",
    "            return z\n",
    "        else:\n",
    "            self.a = 0\n",
    "            self.db = 0\n",
    "            self.dw1 = 0\n",
    "            self.dw2 = 0\n",
    "            self.dx1 = 0\n",
    "            self.dx2 = 0\n",
    "            return 0\n",
    "    \n",
    "    def backward(self, g):\n",
    "        self.db *= g\n",
    "        self.dw1 *= g\n",
    "        self.dw2 *= g\n",
    "        self.dx1 *= g\n",
    "        self.dx2 *= g\n",
    "        self.sumdb += self.db\n",
    "        self.sumdw1 += self.dw1\n",
    "        self.sumdw2 += self.dw2\n",
    "        \n",
    "    def update(self,lr):\n",
    "        self.w1 = self.w1 - lr * self.sumdw1\n",
    "        self.w2 = self.w2 - lr * self.sumdw2\n",
    "        self.b = self.b - lr * self.sumdb\n",
    "        self.sumdw1 = 0\n",
    "        self.sumdw2 = 0\n",
    "        self.sumdb = 0\n",
    "    \n",
    "    def getWeights(self):\n",
    "        return [self.w1, self.w2, self.b]"
   ]
  },
  {
   "cell_type": "code",
   "execution_count": 150,
   "metadata": {},
   "outputs": [
    {
     "name": "stdout",
     "output_type": "stream",
     "text": [
      "0.9887605770256399\n",
      "0.020624702618845865\n",
      "0.020624354676309707\n",
      "0.9887216252801253\n"
     ]
    }
   ],
   "source": [
    "X  = [(0,0),(0,1),(1,0),(1,1)]\n",
    "Y = [1,0,0,1]\n",
    " \n",
    "\n",
    "class Netz3:\n",
    "    def __init__(self):\n",
    "        self.n = [Neuron() for i in range(3)]\n",
    "        self.n[2].activation = 'sigmoid'\n",
    " \n",
    "    def forward(self,x1,x2):\n",
    "        out0 = self.n[0].forward(x1,x2)\n",
    "        out1 = self.n[1].forward(x1,x2)\n",
    "        return  self.n[2].forward(out0,out1)\n",
    "    \n",
    "    def backward(self,g):\n",
    "        self.n[2].backward(g)\n",
    "        self.n[1].backward(self.n[2].dx2)\n",
    "        self.n[0].backward(self.n[2].dx1)\n",
    "    \n",
    "    def update(self,lr):\n",
    "        for neuron in self.n:\n",
    "            neuron.update(lr)\n",
    "        \n",
    "    def step(self, X,Y,lr):\n",
    "        for (x1,x2),y in zip(X,Y):\n",
    "            a = self.forward(x1,x2)\n",
    "            self.backward(a - y)\n",
    "        self.update(lr)\n",
    "    \n",
    "    def train(self,X,Y,k,lr):\n",
    "        for i in range(k):\n",
    "            self.step(X,Y,lr)\n",
    "            \n",
    "    def printWeights(self):\n",
    "        for i in range(len(self.n)):\n",
    "            print(i, self.n[i].getWeights())\n",
    "        \n",
    "netz = Netz3()\n",
    "netz.train(X,Y,10000,0.1)\n",
    "for x1, x2 in X:\n",
    "    print(netz.forward(x1,x2))"
   ]
  },
  {
   "cell_type": "code",
   "execution_count": 143,
   "metadata": {},
   "outputs": [
    {
     "name": "stdout",
     "output_type": "stream",
     "text": [
      "[0, 1, 1, 0]\n",
      "[1, 0, 0, 1]\n"
     ]
    }
   ],
   "source": [
    "w = [0,1]\n",
    "Yall = [[y1, y2, y3, y4] for y1 in w for y2 in w for y3 in w for y4 in w]\n",
    "for Y in Yall:\n",
    "    netz = NetzXOR()\n",
    "    netz.train(X,Y,10000,0.1)\n",
    "    result = [int(netz.forward(x1,x2)>0.5) for x1,x2 in X]\n",
    "    x = sum(a != b for a,b in (zip(Y,result)))\n",
    "    if x != 0: print(Y)"
   ]
  },
  {
   "cell_type": "code",
   "execution_count": 99,
   "metadata": {},
   "outputs": [
    {
     "name": "stdout",
     "output_type": "stream",
     "text": [
      "0.5000000000003519\n",
      "0.49999999999905964\n",
      "0.5000000000009657\n",
      "0.4999999999996734\n"
     ]
    }
   ],
   "source": [
    "X  = [(0,0),(0,1),(1,0),(1,1)]\n",
    "Y = [0,1,1,0]\n",
    " \n",
    "\n",
    "class Netz7:\n",
    "    def __init__(self):\n",
    "        self.n = [Neuron() for i in range(7)]\n",
    "        self.n[-1].activation = 'sigmoid'\n",
    " \n",
    "    def forward(self,x1,x2):\n",
    "        out0 = self.n[0].forward(x1,x2)\n",
    "        out1 = self.n[1].forward(x1,x2)\n",
    "        out2 = self.n[2].forward(x1,x2)\n",
    "        out3 = self.n[3].forward(x1,x2)\n",
    "        out4 = self.n[4].forward(out0,out1)\n",
    "        out5 = self.n[5].forward(out2,out3)\n",
    "        return  self.n[6].forward(out4,out5)\n",
    "    \n",
    "    def backward(self,g):\n",
    "        self.n[6].backward(g)\n",
    "        self.n[4].backward(self.n[6].dx1)\n",
    "        self.n[5].backward(self.n[6].dx2)\n",
    "        self.n[0].backward(self.n[4].dx1)\n",
    "        self.n[1].backward(self.n[4].dx2)\n",
    "        self.n[2].backward(self.n[5].dx1)\n",
    "        self.n[3].backward(self.n[5].dx2)\n",
    "    \n",
    "    def update(self,lr):\n",
    "        for neuron in self.n:\n",
    "            neuron.update(lr)\n",
    "        \n",
    "    def step(self, X,Y,lr):\n",
    "        for (x1,x2),y in zip(X,Y):\n",
    "            a = self.forward(x1,x2)\n",
    "            self.backward(a - y)\n",
    "        self.update(lr)\n",
    "    \n",
    "    def train(self,X,Y,k,lr):\n",
    "        for i in range(k):\n",
    "            self.step(X,Y,lr)\n",
    "            \n",
    "    def printWeights(self):\n",
    "        for i in range(len(self.n)):\n",
    "            print(i, self.n[i].getWeights())\n",
    "        \n",
    "netz = Netz7()\n",
    "netz.train(X,Y,20000,0.1)\n",
    "for x1, x2 in X:\n",
    "    print(netz.forward(x1,x2))"
   ]
  },
  {
   "cell_type": "markdown",
   "metadata": {},
   "source": [
    "Mit dieser Darstellung des Netzes können wir die Werte der **backpropagation** ablesen.\n",
    "\n",
    "<img src=\"./img/nn_10.png\" width=\"700\"/>  "
   ]
  },
  {
   "cell_type": "code",
   "execution_count": 233,
   "metadata": {},
   "outputs": [],
   "source": [
    "class Netz:\n",
    "    \n",
    "    def __init__(self,param):\n",
    "        w11, w12, b1, w21, w22, b2, w31, w32, b3 = param\n",
    "        self.n1 = Neuron(w11,w12,b1,'relu')\n",
    "        self.n2 = Neuron(w21,w22,b2,'relu')\n",
    "        self.n3 = Neuron(w31,w32,b3)\n",
    "        \n",
    "    def forward(self,x1, x2):\n",
    "        return self.n3.forward(self.n1.forward(x1,x2),self.n2.forward(x1,x2))\n",
    "    \n",
    "    def backward(self, y):\n",
    "        de = self.n3.a - y        # lokaler Gradient der Fehlerfunktion\n",
    "        n3db = de * self.n3.db  \n",
    "        n3dw1 = de * self.n3.dw1  \n",
    "        n3dw2 = de * self.n3.dw2  \n",
    "        \n",
    "        n1db = de * self.n3.dx1 * self.n1.db\n",
    "        n1dw1 = de * self.n3.dx1 * self.n1.dw1\n",
    "        n1dw2 = de * self.n3.dx1 * self.n1.dw2\n",
    "        \n",
    "        n2db = de * self.n3.dx2 * self.n2.db\n",
    "        n2dw1 = de * self.n3.dx2 * self.n2.dw1\n",
    "        n2dw2 = de * self.n3.dx2 * self.n2.dw2\n",
    "        \n",
    "        return (n1dw1, n1dw2, n1db, n2dw1, n2dw2, n2db, n3dw1, n3dw2, n3db)"
   ]
  },
  {
   "cell_type": "markdown",
   "metadata": {},
   "source": [
    "Wir berechnen den Mittelwert der Wünsche und updaten unsere Parameter. Die Länge des Schritts wird durch die learning_rate festgelegt. Dies wiederholen wir\n",
    "zig-mal und schauen dann, was unser Netz über die Punkte aussagt."
   ]
  },
  {
   "cell_type": "code",
   "execution_count": 240,
   "metadata": {},
   "outputs": [
    {
     "name": "stdout",
     "output_type": "stream",
     "text": [
      "0.04470008680792714\n",
      "0.04470008680792714\n",
      "0.9802043885882203\n",
      "0.9951011006093095\n"
     ]
    }
   ],
   "source": [
    "X  = [(0,0),(0,1),(1,0),(1,1)]\n",
    "Y  = [0,0,1,1]\n",
    "param = [1, -4, -2, 2, 1, -1, -1, 2, -2]\n",
    "\n",
    "lr = 0.1\n",
    "\n",
    "for k in range(6000):\n",
    "    netz = Netz(param)\n",
    "    dparam = [0] * 9\n",
    "    for (x1,x2),y in zip(X,Y):\n",
    "        netz.forward(x1,x2) \n",
    "        d1 = netz.backward(y)\n",
    "        for j in range(9):\n",
    "            dparam[j] += 0.25 * d1[j]\n",
    "    for i in range(9):\n",
    "        param[i] = param[i] - lr * dparam[i]   \n",
    "\n",
    "for x1,x2 in X:\n",
    "    print(netz.forward(x1,x2))\n",
    "\n"
   ]
  },
  {
   "cell_type": "code",
   "execution_count": 241,
   "metadata": {},
   "outputs": [
    {
     "data": {
      "text/plain": [
       "<matplotlib.collections.PathCollection at 0x24a1836fda0>"
      ]
     },
     "execution_count": 241,
     "metadata": {},
     "output_type": "execute_result"
    },
    {
     "data": {
      "image/png": "[encoded data removed]",
      "text/plain": [
       "<Figure size 432x288 with 1 Axes>"
      ]
     },
     "metadata": {},
     "output_type": "display_data"
    }
   ],
   "source": [
    "import matplotlib.pyplot as plt\n",
    "%matplotlib inline\n",
    "\n",
    "x1 = 0\n",
    "X1, X2, Y = [], [], []\n",
    "while x1 < 1:\n",
    "    x2 = 0\n",
    "    while x2 < 1:\n",
    "        x2 += 0.05\n",
    "        X1.append(x1)\n",
    "        X2.append(x2)\n",
    "        Y.append(netz.forward(x1,x2) > 0.5)\n",
    "    x1 += 0.05\n",
    "\n",
    "plt.scatter(X1, X2, c=Y,s=5)\n"
   ]
  },
  {
   "cell_type": "code",
   "execution_count": 247,
   "metadata": {},
   "outputs": [],
   "source": [
    "class Netz:\n",
    "    \n",
    "    def __init__(self,param):\n",
    "         \n",
    "        self.n11 = Neuron(w11_1,w11_2,b11,'relu')\n",
    "        self.n12 = Neuron(w12_1,w12_2,b12,'relu')\n",
    "        self.n13 = Neuron(w13_1,w13_2,b13,'relu')\n",
    "        self.n14 = Neuron(w14_1,w14_2,b14,'relu')\n",
    "        self.n21 = Neuron(w21_1,w21_2,b21,'relu')\n",
    "        self.n22 = Neuron(w22_1,w22_2,b22,'relu')\n",
    "        self.n31 = Neuron(w31_1,w31_2,b31)\n",
    "        \n",
    "    def forward(self,x1, x2):\n",
    "        n1out = self.n1.forward(x1,x2)\n",
    "        n2out = self.n2.forward(x1,x2)\n",
    "        n3out = self.n3.forward(x1,x2)\n",
    "        n4out = self.n4.forward(n1out,n2out)\n",
    "        n5out = self.n5.forward(n2out,n3out)\n",
    "        return self.n6.forward(n4out,n5out)\n",
    "    \n",
    "    def backward(self, y):\n",
    "        de = self.n6.a - y        # lokaler Gradient der Fehlerfunktion\n",
    "        n6db = de * self.n6.db  \n",
    "        n6dw1 = de * self.n6.dw1  \n",
    "        n6dw2 = de * self.n6.dw2  \n",
    "        \n",
    "        n6x1b = de * self.n6.dx1\n",
    "        n6x2b = de * self.n6.dx2\n",
    "        \n",
    "        n4db = n6x1b * self.n4.db\n",
    "        n4dw1 = n6x1b * self.n4.dw1\n",
    "        n4dw2 = n6x1b * self.n4.dw2\n",
    "      \n",
    "        n5db =  n6x2b * self.n5.db\n",
    "        n5dw1 = n6x2b * self.n5.dw1\n",
    "        n5dw2 = n6x2b * self.n5.dw2\n",
    "        \n",
    "        n4x1b = self.n4.dx1 * n6x1b\n",
    "        n4x2b = self.n4.dx2 * n6x1b\n",
    "        n5x1b = self.n5.dx1 * n6x2b\n",
    "        n5x2b = self.n5.dx2 * n6x2b\n",
    "        \n",
    "        n1db = n4x1b * self.n1.db\n",
    "        n1dw1 = n4x1b * self.n1.dw1\n",
    "        n1dw2 = n4x1b * self.n1.dw2\n",
    "        \n",
    "        n3db = n5x2b * self.n3.db\n",
    "        n3dw1 = n5x2b * self.n3.dw1\n",
    "        n3dw2 = n5x2b * self.n3.dw2\n",
    "        \n",
    "        n2db =  (n4x2b + n5x1b) * self.n2.db\n",
    "        n2dw1 = (n4x2b + n5x1b) * self.n2.dw1\n",
    "        n2dw2 = (n4x2b + n5x1b) * self.n2.dw2\n",
    "        \n",
    "        return (n1dw1, n1dw2, n1db, n2dw1, n2dw2, n2db, n3dw1, n3dw2, n3db, n4dw1, n4dw2, n4db, n5dw1, n5dw2,\n",
    "                n5db, n6dw1, n6dw2, n6db)"
   ]
  },
  {
   "cell_type": "code",
   "execution_count": 272,
   "metadata": {},
   "outputs": [
    {
     "name": "stdout",
     "output_type": "stream",
     "text": [
      "1 0.5002082603951772\n",
      "0 0.49933282952128444\n",
      "1 0.500668950437122\n",
      "0 0.49979351956610074\n"
     ]
    }
   ],
   "source": [
    "X  = [(0,0),(0,1),(1,0),(1,1)]\n",
    "Y  = [0,1,1,0]\n",
    "import random\n",
    "random.seed(20)\n",
    "param = [random.random() for i in range(18)]\n",
    "\n",
    "lr = 0.5\n",
    "\n",
    "for k in range(5000):\n",
    "    netz = Netz(param)\n",
    "    dparam = [0] * 18\n",
    "    for (x1,x2),y in zip(X,Y):\n",
    "        netz.forward(x1,x2) \n",
    "        d1 = netz.backward(y)\n",
    "        for j in range(18):\n",
    "            dparam[j] +=  d1[j]\n",
    "    for i in range(18):\n",
    "        param[i] = param[i] - lr * dparam[i]   \n",
    "\n",
    "for x1,x2 in X:\n",
    "\n",
    "    print(int(netz.forward(x1,x2)>0.5),netz.forward(x1,x2))"
   ]
  },
  {
   "cell_type": "code",
   "execution_count": null,
   "metadata": {},
   "outputs": [],
   "source": [
    "# param = [-6, -6, 9, 7, 7, -3, 9, 9, -14]\n",
    "netz = Netz(param)\n",
    "for x1, x2 in X:\n",
    "    print(x1, x2, netz.forward(x1, x2))"
   ]
  },
  {
   "cell_type": "markdown",
   "metadata": {},
   "source": [
    "Wir runden die gefundenen Parameter und schauen, ob damit das Netz noch funktioniert."
   ]
  },
  {
   "cell_type": "code",
   "execution_count": 158,
   "metadata": {},
   "outputs": [
    {
     "name": "stdout",
     "output_type": "stream",
     "text": [
      "[-6, -6, 9, 7, 7, -3, 9, 9, -14]\n",
      "0 0 0.010208458731221538\n",
      "0 1 0.9680555573154928\n",
      "1 0 0.9680555573154928\n",
      "1 1 0.010218165780843511\n"
     ]
    }
   ],
   "source": [
    "par = [round(k) for k in param]\n",
    "#par = [-5, 5, -3, -6, 6, 4, 6, -6, 3]\n",
    "print(par)\n",
    "netz = Netz(par)\n",
    "for x1, x2 in X:\n",
    "    print(x1, x2, netz.forward(x1, x2))"
   ]
  },
  {
   "cell_type": "markdown",
   "metadata": {},
   "source": [
    "### Lösung mit Keras"
   ]
  },
  {
   "cell_type": "code",
   "execution_count": 74,
   "metadata": {},
   "outputs": [
    {
     "name": "stdout",
     "output_type": "stream",
     "text": [
      "[array([[4.4741755],\n",
      "       [4.4722185]], dtype=float32), array([-1.9656965], dtype=float32)]\n",
      "[]\n",
      "[[0.12285189]\n",
      " [0.92459786]\n",
      " [0.9247341 ]\n",
      " [0.9990711 ]]\n"
     ]
    }
   ],
   "source": [
    "import numpy as np\n",
    "from keras.models import Sequential\n",
    "from keras.layers import Dense, Activation\n",
    "X_train = np.array([(0,0),(0,1),(1,0),(1,1)])\n",
    "Y_train = np.array([0,1,1,1]) \n",
    "Y_train = Y_train.reshape(4,1)\n",
    "\n",
    "model = Sequential()\n",
    "model.add(Dense(1, input_dim=2))\n",
    "model.add(Activation('sigmoid'))\n",
    " \n",
    "model.compile(optimizer='sgd', loss='mse')\n",
    "\n",
    "model.fit(X_train, Y_train, epochs=50000,verbose=0)\n",
    "\n",
    "for layer in model.layers:\n",
    "    print(layer.get_weights())\n",
    "\n",
    "print(model.predict(X_train) )"
   ]
  },
  {
   "cell_type": "code",
   "execution_count": 98,
   "metadata": {},
   "outputs": [
    {
     "data": {
      "image/png": "[encoded data removed]",
      "text/plain": [
       "<Figure size 432x288 with 1 Axes>"
      ]
     },
     "metadata": {},
     "output_type": "display_data"
    }
   ],
   "source": [
    "import matplotlib.pyplot as plt\n",
    "%matplotlib inline\n",
    "def plotGerade(w1, w2, b):\n",
    "    m = -w1/w2\n",
    "    c = -b/w2\n",
    "    y0 = c\n",
    "    y1 = m + c\n",
    "    plt.plot([0,1],[y0,y1])\n",
    "    plt.scatter([0,0,1,1], [0,1,0,1], s=30)\n",
    "    \n",
    "plotGerade(4.4741755,4.4722185, -1.9656965)"
   ]
  },
  {
   "cell_type": "code",
   "execution_count": 97,
   "metadata": {},
   "outputs": [
    {
     "name": "stdout",
     "output_type": "stream",
     "text": [
      "[[0.619803  ]\n",
      " [0.619803  ]\n",
      " [0.619803  ]\n",
      " [0.20366785]]\n"
     ]
    }
   ],
   "source": [
    "import numpy as np\n",
    "from keras.models import Sequential\n",
    "from keras.layers import Dense, Activation\n",
    "X_train = np.array([(0,0),(0,1),(1,0),(1,1)])\n",
    "Y_train = np.array([0,1,1,0]) \n",
    "Y_train = Y_train.reshape(4,1)\n",
    "\n",
    "model = Sequential()\n",
    "model.add(Dense(2, input_dim=2))\n",
    "model.add(Activation('relu'))\n",
    "model.add(Dense(1))\n",
    "model.add(Activation('sigmoid'))\n",
    " \n",
    "model.compile(optimizer='rmsprop', loss='mse')\n",
    "\n",
    "model.fit(X_train, Y_train, epochs=2000,verbose=0)\n",
    "\n",
    "#for layer in model.layers:\n",
    "#    print(layer.get_weights())\n",
    "\n",
    "print(model.predict(X_train) )"
   ]
  },
  {
   "cell_type": "code",
   "execution_count": 231,
   "metadata": {},
   "outputs": [
    {
     "name": "stdout",
     "output_type": "stream",
     "text": [
      "[[0.9999455]\n",
      " [0.9999999]\n",
      " [1.       ]\n",
      " [1.       ]]\n"
     ]
    }
   ],
   "source": [
    "# import numpy as np\n",
    "from keras.models import Sequential\n",
    "from keras.layers import Dense, Activation\n",
    " \n",
    "X_train = np.array([(0,0),(0,1),(1,0),(1,1)])\n",
    "Y_train = np.array([1,1,1,1]) \n",
    "Y_train = Y_train.reshape(4,1)\n",
    "\n",
    "model = Sequential()\n",
    "model.add(Dense(4, input_dim=2))\n",
    "model.add(Activation('relu'))\n",
    "model.add(Dense(1))\n",
    "model.add(Activation('sigmoid'))\n",
    " \n",
    "model.compile(optimizer='rmsprop', loss='mse')\n",
    "\n",
    "model.fit(X_train, Y_train, epochs=4000,verbose=0)\n",
    " \n",
    "\n",
    "\n",
    "print(model.predict(X_train) )\n"
   ]
  },
  {
   "cell_type": "code",
   "execution_count": 118,
   "metadata": {},
   "outputs": [],
   "source": [
    "par1 = [-5, 5, -3, -6, 6, 3.5, 6, -6, 3]"
   ]
  },
  {
   "cell_type": "code",
   "execution_count": null,
   "metadata": {},
   "outputs": [],
   "source": []
  }
 ],
 "metadata": {
  "kernelspec": {
   "display_name": "Python 3",
   "language": "python",
   "name": "python3"
  },
  "language_info": {
   "codemirror_mode": {
    "name": "ipython",
    "version": 3
   },
   "file_extension": ".py",
   "mimetype": "text/x-python",
   "name": "python",
   "nbconvert_exporter": "python",
   "pygments_lexer": "ipython3",
   "version": "3.6.5"
  }
 },
 "nbformat": 4,
 "nbformat_minor": 2
}
