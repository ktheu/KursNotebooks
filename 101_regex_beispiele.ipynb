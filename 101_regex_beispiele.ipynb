{
 "cells": [
  {
   "cell_type": "markdown",
   "metadata": {},
   "source": [
    "## Reguläre Ausdrücke in Python\n",
    "\n",
    "Regular Expressions matchen, suchen und ersetzen Textmuster in Strings."
   ]
  },
  {
   "cell_type": "markdown",
   "metadata": {},
   "source": [
    "#### Zwei Arten, reguläre Expressions in Python zu definieren\n"
   ]
  },
  {
   "cell_type": "markdown",
   "metadata": {},
   "source": [
    "re.compile()"
   ]
  },
  {
   "cell_type": "code",
   "execution_count": 100,
   "metadata": {},
   "outputs": [],
   "source": [
    "import re\n",
    "s = 'Ihr naht euch wieder, schwankende Gestalten'"
   ]
  },
  {
   "cell_type": "code",
   "execution_count": 2,
   "metadata": {},
   "outputs": [
    {
     "name": "stdout",
     "output_type": "stream",
     "text": [
      "<re.Match object; span=(0, 3), match='Ihr'>\n"
     ]
    }
   ],
   "source": [
    "reg = re.compile('Ihr')\n",
    "mat = reg.match(s)            # Die match-Methode matched nur am String-Anfang\n",
    "print(mat)"
   ]
  },
  {
   "cell_type": "markdown",
   "metadata": {},
   "source": [
    "RawString Notation"
   ]
  },
  {
   "cell_type": "code",
   "execution_count": 3,
   "metadata": {},
   "outputs": [
    {
     "data": {
      "text/plain": [
       "<re.Match object; span=(0, 3), match='Ihr'>"
      ]
     },
     "execution_count": 3,
     "metadata": {},
     "output_type": "execute_result"
    }
   ],
   "source": [
    "reg = r'Ihr'\n",
    "mat = re.match(reg,s)\n",
    "mat"
   ]
  },
  {
   "cell_type": "markdown",
   "metadata": {},
   "source": [
    "Wir werden meist die RawString Notation nutzen"
   ]
  },
  {
   "cell_type": "markdown",
   "metadata": {},
   "source": [
    "#### Aufgabe 1\n",
    "\n",
    "Alle vorgegebenen email-Adressen matchen"
   ]
  },
  {
   "cell_type": "code",
   "execution_count": 4,
   "metadata": {},
   "outputs": [
    {
     "name": "stdout",
     "output_type": "stream",
     "text": [
      "<re.Match object; span=(0, 15), match='hannah@gmail.de'>\n",
      "<re.Match object; span=(0, 14), match='bertram@gmx.de'>\n",
      "<re.Match object; span=(0, 13), match='walter@web.de'>\n",
      "<re.Match object; span=(0, 13), match='ulli@yahoo.de'>\n",
      "<re.Match object; span=(0, 15), match='robert@unity.de'>\n"
     ]
    }
   ],
   "source": [
    "a = [\n",
    "'hannah@gmail.de',\n",
    "'bertram@gmx.de',\n",
    "'walter@web.de',\n",
    "'ulli@yahoo.de',\n",
    "'robert@unity.de']\n",
    "\n",
    "reg = r'\\w*@\\w*\\.de'\n",
    "for x in a:\n",
    "    print(re.match(reg,x))"
   ]
  },
  {
   "cell_type": "markdown",
   "metadata": {},
   "source": [
    "#### Aufgabe 2\n",
    "IBAN-Nummern mit Länderkennzeichen aus Deutschland, Frankreich oder Polen, mit einer Prüfziffer (=die beiden Ziffern hinter der Länderkennung) zwischen 10 und 79 gefolgt von einer 8 und 10-stelligen Zahlenfolge"
   ]
  },
  {
   "cell_type": "code",
   "execution_count": 5,
   "metadata": {},
   "outputs": [
    {
     "name": "stdout",
     "output_type": "stream",
     "text": [
      "DE23 23455678 5645788956\n",
      "DE18 23455679 5645788957\n",
      "FR54 23455680 5645788958\n",
      "PL86 234556 815645788959\n",
      "FR45 23455682 56457889\n",
      "DE75 23455683 5645788961\n",
      "PL53 23455684 5645788962\n",
      "PL44 23455685 5645788963\n",
      "DE68 23455686 5645788964\n",
      "FR75 23455687 5645788965\n",
      "FR04 23455688 564578896\n",
      "DE08 23455689 5645788967\n",
      "DE45 23455690 5645788968\n",
      "FR75 23455691 5645788969\n",
      "UK53 23455692 5645788970\n",
      "FR21 23455693 5645788971\n",
      "DE54 2345569456 578897223\n",
      "SP75 23455695 5645788973\n"
     ]
    }
   ],
   "source": [
    "f = open('./data/regex_iban.txt')\n",
    "lines = [x.rstrip('\\n') for x in f.readlines()]\n",
    "\n",
    "for x in lines:\n",
    "    print(x)"
   ]
  },
  {
   "cell_type": "code",
   "execution_count": 6,
   "metadata": {},
   "outputs": [
    {
     "name": "stdout",
     "output_type": "stream",
     "text": [
      "DE23 23455678 5645788956 <re.Match object; span=(0, 24), match='DE23 23455678 5645788956'>\n",
      "DE18 23455679 5645788957 <re.Match object; span=(0, 24), match='DE18 23455679 5645788957'>\n",
      "FR54 23455680 5645788958 <re.Match object; span=(0, 24), match='FR54 23455680 5645788958'>\n",
      "PL86 234556 815645788959 None\n",
      "FR45 23455682 56457889 None\n",
      "DE75 23455683 5645788961 <re.Match object; span=(0, 24), match='DE75 23455683 5645788961'>\n",
      "PL53 23455684 5645788962 <re.Match object; span=(0, 24), match='PL53 23455684 5645788962'>\n",
      "PL44 23455685 5645788963 <re.Match object; span=(0, 24), match='PL44 23455685 5645788963'>\n",
      "DE68 23455686 5645788964 <re.Match object; span=(0, 24), match='DE68 23455686 5645788964'>\n",
      "FR75 23455687 5645788965 <re.Match object; span=(0, 24), match='FR75 23455687 5645788965'>\n",
      "FR04 23455688 564578896 None\n",
      "DE08 23455689 5645788967 None\n",
      "DE45 23455690 5645788968 <re.Match object; span=(0, 24), match='DE45 23455690 5645788968'>\n",
      "FR75 23455691 5645788969 <re.Match object; span=(0, 24), match='FR75 23455691 5645788969'>\n",
      "UK53 23455692 5645788970 None\n",
      "FR21 23455693 5645788971 <re.Match object; span=(0, 24), match='FR21 23455693 5645788971'>\n",
      "DE54 2345569456 578897223 None\n",
      "SP75 23455695 5645788973 None\n"
     ]
    }
   ],
   "source": [
    "f = open('./data/regex_iban.txt')\n",
    "lines = [x.rstrip('\\n') for x in f.readlines()]\n",
    "\n",
    "reg = r'(DE|FR|PL)[1-7][0-9]\\s\\d{8}\\s\\d{10}'\n",
    "for x in lines:\n",
    "    print(x,re.match(reg,x))"
   ]
  },
  {
   "cell_type": "markdown",
   "metadata": {},
   "source": [
    "#### Aufgabe 3\n",
    "\n",
    "Alle Telefonnummern soll gematched werden."
   ]
  },
  {
   "cell_type": "code",
   "execution_count": 7,
   "metadata": {},
   "outputs": [
    {
     "name": "stdout",
     "output_type": "stream",
     "text": [
      "02922 8659\n",
      "03922/8659552\n",
      "04922-86595521\n",
      "05922 86595\n",
      "05922/8659552\n",
      "06922-86595521\n",
      "07922 86595\n",
      "07922/86595521\n",
      "02922-865955\n",
      "02922 8659\n",
      "03922/8659552\n",
      "04922-86595521\n",
      "05922 86595\n",
      "05922/8659552\n",
      "06922-86595521\n",
      "07922 86595\n",
      "07922/86595521\n",
      "02922-865955\n"
     ]
    }
   ],
   "source": [
    "f = open('./data/regex_telefonnummern.txt')\n",
    "lines = [x.rstrip('\\n') for x in f.readlines()]\n",
    "\n",
    "for x in lines:\n",
    "    print(x)"
   ]
  },
  {
   "cell_type": "code",
   "execution_count": 8,
   "metadata": {},
   "outputs": [
    {
     "name": "stdout",
     "output_type": "stream",
     "text": [
      "02922 8659 <re.Match object; span=(0, 10), match='02922 8659'>\n",
      "03922/8659552 <re.Match object; span=(0, 13), match='03922/8659552'>\n",
      "04922-86595521 <re.Match object; span=(0, 14), match='04922-86595521'>\n",
      "05922 86595 <re.Match object; span=(0, 11), match='05922 86595'>\n",
      "05922/8659552 <re.Match object; span=(0, 13), match='05922/8659552'>\n",
      "06922-86595521 <re.Match object; span=(0, 14), match='06922-86595521'>\n",
      "07922 86595 <re.Match object; span=(0, 11), match='07922 86595'>\n",
      "07922/86595521 <re.Match object; span=(0, 14), match='07922/86595521'>\n",
      "02922-865955 <re.Match object; span=(0, 12), match='02922-865955'>\n",
      "02922 8659 <re.Match object; span=(0, 10), match='02922 8659'>\n",
      "03922/8659552 <re.Match object; span=(0, 13), match='03922/8659552'>\n",
      "04922-86595521 <re.Match object; span=(0, 14), match='04922-86595521'>\n",
      "05922 86595 <re.Match object; span=(0, 11), match='05922 86595'>\n",
      "05922/8659552 <re.Match object; span=(0, 13), match='05922/8659552'>\n",
      "06922-86595521 <re.Match object; span=(0, 14), match='06922-86595521'>\n",
      "07922 86595 <re.Match object; span=(0, 11), match='07922 86595'>\n",
      "07922/86595521 <re.Match object; span=(0, 14), match='07922/86595521'>\n",
      "02922-865955 <re.Match object; span=(0, 12), match='02922-865955'>\n"
     ]
    }
   ],
   "source": [
    "f = open('./data/regex_telefonnummern.txt')\n",
    "lines = [x.rstrip('\\n') for x in f.readlines()]\n",
    "\n",
    "reg = r'\\d{5}[ /-]\\d{4,8}'\n",
    "\n",
    "for x in lines:\n",
    "    print(x,re.match(reg,x))"
   ]
  },
  {
   "cell_type": "markdown",
   "metadata": {},
   "source": [
    "#### Aufgabe 4\n",
    "\n",
    "Matche die URLs mit folgenden Länderkennungen: de, com, biz, eu, info.\n",
    "Subdomain und domain bestehen nur aus Buchstaben."
   ]
  },
  {
   "cell_type": "code",
   "execution_count": 9,
   "metadata": {},
   "outputs": [
    {
     "name": "stdout",
     "output_type": "stream",
     "text": [
      "your.mail.de\n",
      "my.mail.com\n",
      "mail.com\n",
      "inter.chat.biz\n",
      "social.network.info\n",
      "your.network.com\n",
      "info.euro.eu\n",
      "your.phone.fr\n",
      "phone.pl\n"
     ]
    }
   ],
   "source": [
    "f = open('./data/regex_url.txt')\n",
    "lines = [x.rstrip('\\n') for x in f.readlines()]\n",
    "\n",
    "for x in lines:\n",
    "    print(x)"
   ]
  },
  {
   "cell_type": "code",
   "execution_count": 10,
   "metadata": {},
   "outputs": [
    {
     "name": "stdout",
     "output_type": "stream",
     "text": [
      "your.mail.de <re.Match object; span=(0, 12), match='your.mail.de'>\n",
      "my.mail.com <re.Match object; span=(0, 11), match='my.mail.com'>\n",
      "mail.com None\n",
      "inter.chat.biz <re.Match object; span=(0, 14), match='inter.chat.biz'>\n",
      "social.network.info <re.Match object; span=(0, 19), match='social.network.info'>\n",
      "your.network.com <re.Match object; span=(0, 16), match='your.network.com'>\n",
      "info.euro.eu <re.Match object; span=(0, 12), match='info.euro.eu'>\n",
      "your.phone.fr None\n",
      "phone.pl None\n"
     ]
    }
   ],
   "source": [
    "f = open('./data/regex_url.txt')\n",
    "lines = [x.rstrip('\\n') for x in f.readlines()]\n",
    "\n",
    "reg = r'[a-zA-Z]+\\.[a-zA-Z]+\\.(de|com|biz|eu|info)'\n",
    "for x in lines:\n",
    "    print(x,re.match(reg,x))"
   ]
  },
  {
   "cell_type": "markdown",
   "metadata": {},
   "source": [
    "### Gruppen\n",
    "\n",
    "Fullmatch: der gesamte String matcht dem regulären Ausdruck.\n",
    "\n",
    "Groupmatch: Eine Teilmenge des Strings, der einem Gruppen-Element matcht\n",
    "\n",
    "#### Aufgabe 5:\n"
   ]
  },
  {
   "cell_type": "code",
   "execution_count": 11,
   "metadata": {},
   "outputs": [
    {
     "name": "stdout",
     "output_type": "stream",
     "text": [
      "dussitazemmu-3202@yopmail.com\n",
      "hanna.ahrens@testmail.de\n",
      "unerrudill-5928@yogamail.com\n",
      "vodippeziff-5475@mailu.com\n",
      "s.l.Müller@email.de\n",
      "mipittary-1063@pipmail.com\n",
      "Sebastian.L.Muelle@yourmail.de\n",
      "andy_ypsilon@fanta.de\n"
     ]
    }
   ],
   "source": [
    "f = open('./data/regex_email2.txt')\n",
    "lines = [x.rstrip('\\n') for x in f.readlines()]\n",
    "\n",
    "for x in lines:\n",
    "    print(x)"
   ]
  },
  {
   "cell_type": "code",
   "execution_count": 12,
   "metadata": {},
   "outputs": [
    {
     "name": "stdout",
     "output_type": "stream",
     "text": [
      "dussitazemmu-3202@yopmail.com <re.Match object; span=(0, 29), match='dussitazemmu-3202@yopmail.com'>\n",
      "hanna.ahrens@testmail.de <re.Match object; span=(0, 24), match='hanna.ahrens@testmail.de'>\n",
      "unerrudill-5928@yogamail.com <re.Match object; span=(0, 28), match='unerrudill-5928@yogamail.com'>\n",
      "vodippeziff-5475@mailu.com <re.Match object; span=(0, 26), match='vodippeziff-5475@mailu.com'>\n",
      "s.l.Müller@email.de None\n",
      "mipittary-1063@pipmail.com <re.Match object; span=(0, 26), match='mipittary-1063@pipmail.com'>\n",
      "Sebastian.L.Muelle@yourmail.de None\n",
      "andy_ypsilon@fanta.de <re.Match object; span=(0, 21), match='andy_ypsilon@fanta.de'>\n",
      "\n",
      "Ausgabe der Gruppen: \n",
      "\n",
      "dussitazemmu-3202@yopmail.com [('dussitazemmu', '-', '3202', 'yopmail', 'com')]\n",
      "hanna.ahrens@testmail.de [('hanna', '.', 'ahrens', 'testmail', 'de')]\n",
      "unerrudill-5928@yogamail.com [('unerrudill', '-', '5928', 'yogamail', 'com')]\n",
      "vodippeziff-5475@mailu.com [('vodippeziff', '-', '5475', 'mailu', 'com')]\n",
      "s.l.Müller@email.de [('l', '.', 'Müller', 'email', 'de')]\n",
      "mipittary-1063@pipmail.com [('mipittary', '-', '1063', 'pipmail', 'com')]\n",
      "Sebastian.L.Muelle@yourmail.de [('L', '.', 'Muelle', 'yourmail', 'de')]\n",
      "andy_ypsilon@fanta.de [('andy', '_', 'ypsilon', 'fanta', 'de')]\n"
     ]
    }
   ],
   "source": [
    "f = open('./data/regex_email2.txt')\n",
    "lines = [x.rstrip('\\n') for x in f.readlines()]\n",
    "\n",
    "reg = r'(\\w+)(_|\\.|-)(\\w+)@(\\w+)\\.(com|de)'\n",
    "\n",
    "for x in lines:\n",
    "    print(x,re.match(reg,x))\n",
    "    \n",
    "print('\\nAusgabe der Gruppen: \\n')\n",
    "for x in lines:\n",
    "    print(x,re.findall(reg,x))"
   ]
  },
  {
   "cell_type": "markdown",
   "metadata": {},
   "source": [
    "#### Aufgabe 6\n",
    "\n",
    "Nur die Bankids der Deutschen Ländercodes"
   ]
  },
  {
   "cell_type": "code",
   "execution_count": 13,
   "metadata": {},
   "outputs": [
    {
     "name": "stdout",
     "output_type": "stream",
     "text": [
      "DE23 23455678 5645788956 --> 23455678\n",
      "DE18 23455679 5645788957 --> 23455679\n",
      "DE75 23455683 5645788961 --> 23455683\n",
      "DE68 23455686 5645788964 --> 23455686\n",
      "DE08 23455689 5645788967 --> 23455689\n",
      "DE45 23455690 5645788968 --> 23455690\n"
     ]
    }
   ],
   "source": [
    "f = open('./data/regex_iban.txt')\n",
    "lines = [x.rstrip('\\n') for x in f.readlines()]\n",
    "\n",
    "reg = r'DE\\d{2}\\s(\\d{8})\\s\\d{10}'\n",
    "for x in lines:\n",
    "    if re.findall(reg,x):\n",
    "        print(x,'-->',re.findall(reg,x)[0])"
   ]
  },
  {
   "cell_type": "markdown",
   "metadata": {},
   "source": [
    "#### Aufgabe 7\n",
    "Matche alle Telefonnummern, die mit 02, 05, 07 beginnen und eine 4-6 stellige Rufnummer haben"
   ]
  },
  {
   "cell_type": "code",
   "execution_count": 20,
   "metadata": {},
   "outputs": [
    {
     "name": "stdout",
     "output_type": "stream",
     "text": [
      "02922 8659 <re.Match object; span=(0, 10), match='02922 8659'>\n",
      "03922/8659552 None\n",
      "04922-86595521 None\n",
      "05922 86595 <re.Match object; span=(0, 11), match='05922 86595'>\n",
      "05922/8659552 <re.Match object; span=(0, 12), match='05922/865955'>\n",
      "06922-86595521 None\n",
      "07922 86595 <re.Match object; span=(0, 11), match='07922 86595'>\n",
      "07922/86595521 <re.Match object; span=(0, 12), match='07922/865955'>\n",
      "02922-865955 <re.Match object; span=(0, 12), match='02922-865955'>\n",
      "02922 8659 <re.Match object; span=(0, 10), match='02922 8659'>\n",
      "03922/8659552 None\n",
      "04922-86595521 None\n",
      "05922 86595 <re.Match object; span=(0, 11), match='05922 86595'>\n",
      "05922/8659552 <re.Match object; span=(0, 12), match='05922/865955'>\n",
      "06922-86595521 None\n",
      "07922 86595 <re.Match object; span=(0, 11), match='07922 86595'>\n",
      "07922/86595521 <re.Match object; span=(0, 12), match='07922/865955'>\n",
      "02922-865955 <re.Match object; span=(0, 12), match='02922-865955'>\n"
     ]
    }
   ],
   "source": [
    "f = open('./data/regex_telefonnummern.txt')\n",
    "lines = [x.rstrip('\\n') for x in f.readlines()]\n",
    "\n",
    "reg = r'0[257]\\d+[\\s/-]\\d{4,6}'\n",
    "\n",
    "for x in lines:\n",
    "    print(x,re.match(reg,x))"
   ]
  },
  {
   "cell_type": "markdown",
   "metadata": {},
   "source": [
    "#### Aufgabe 8\n",
    "Die Warnings rauslesen"
   ]
  },
  {
   "cell_type": "code",
   "execution_count": 3,
   "metadata": {},
   "outputs": [
    {
     "name": "stdout",
     "output_type": "stream",
     "text": [
      ":.....mailslot_create: setsockopt(MCAST_ADD) failed - EDC8116I Address not available.\n"
     ]
    }
   ],
   "source": [
    "import re\n",
    "stringlist = [\"03/22 08:51:01 INFO   :.main: *************** RSVP Agent started ***************\",\n",
    "\"03/22 08:51:01 INFO   :...locate_configFile: Specified configuration file: /u/user10/rsvpd1.conf\",\n",
    "\"03/22 08:51:01 INFO   :.main: Using log level 511\",\n",
    "\"03/22 08:51:06 WARNING:.....mailslot_create: setsockopt(MCAST_ADD) failed - EDC8116I Address not available.\",\n",
    "\"03/22 08:51:06 INFO   :....mailbox_register: mailbox allocated for rsvp-udp\",\n",
    "\"03/22 08:51:06 TRACE  :..entity_initialize: interface 129.1.1.1, entity for rsvp allocated and initialized\",\n",
    "\"03/22 08:51:06 INFO   :.....mailslot_create: creating mailslot for RSVP\",\n",
    "\"03/22 08:51:06 INFO   :....mailbox_register: mailbox allocated for rsvp\"]\n",
    "\n",
    "\n",
    "reg = r'\\d{2}/\\d{2}\\s\\d{2}:\\d{2}:\\d{2}\\sWARNING(.*)$'\n",
    "reg = r\"\"\"\\d{2}/\\d{2}\\s         # 03/02\n",
    "          \\d{2}:\\d{2}:\\d{2}\\s   # 08:51:01\n",
    "          WARNING(.*)$          # WARNING mit capture group bis Ende\n",
    "       \"\"\"       \n",
    "for x in stringlist:\n",
    "    mat = re.match(reg,x,re.VERBOSE)\n",
    "    if mat:\n",
    "        print(mat.group(1))             # Die Gruppe mit Nummer 1 wird ausgegeben\n",
    " "
   ]
  },
  {
   "cell_type": "markdown",
   "metadata": {},
   "source": [
    "#### Aufgabe 9\n",
    "\n",
    "Wie häufig kommt Broder vor?"
   ]
  },
  {
   "cell_type": "code",
   "execution_count": 40,
   "metadata": {},
   "outputs": [
    {
     "name": "stdout",
     "output_type": "stream",
     "text": [
      "Broder kommt 3 mal vor\n"
     ]
    }
   ],
   "source": [
    "stringList = [\"Hans Meyer\", \"Walter Broder\", \"Dietmar Danzig\", \"Danny Bertram\", \"Walter Broder\", \"Jens Hobbens\", \"Christian Datwich\", \n",
    "              \"Luisa Kurz\", \"Angelika Hartwig\", \"Walter Broder\", \"Ulrike Kamps\", \"Dieter Meyer\"]\n",
    "\n",
    "reg = '^.*\\sBroder'\n",
    "count = 0\n",
    "for x in stringList:\n",
    "    mat = re.match(reg,x)\n",
    "    if mat: count+=1\n",
    "print(\"Broder kommt\", count, \"mal vor\")\n",
    "        "
   ]
  },
  {
   "cell_type": "markdown",
   "metadata": {},
   "source": [
    "### Aufgabe 10\n",
    "\n",
    "Suche die email-Adresse von Sebastian Ludwig Müller, jeder Namensbestandteil kann auch mit einem Buchstaben abgekürzt werden, es kann auch ue statt ü vorkommen."
   ]
  },
  {
   "cell_type": "code",
   "execution_count": 16,
   "metadata": {},
   "outputs": [
    {
     "data": {
      "text/plain": [
       "['dussitazemmu-3202@yopmail.com',\n",
       " 'hanna.ahrens@testmail.de',\n",
       " 'unerrudill-5928@yogamail.com',\n",
       " 'vodippeziff-5475@mailu.com',\n",
       " 's.l.Müller@email.de',\n",
       " 'mipittary-1063@pipmail.com',\n",
       " 'Sebastian.L.Muelle@yourmail.de']"
      ]
     },
     "execution_count": 16,
     "metadata": {},
     "output_type": "execute_result"
    }
   ],
   "source": [
    "stringList = [\"dussitazemmu-3202@yopmail.com\", \n",
    "\"hanna.ahrens@testmail.de\", \n",
    "\"unerrudill-5928@yogamail.com\", \n",
    "\"vodippeziff-5475@mailu.com\", \n",
    "\"s.l.Müller@email.de\", \n",
    "\"mipittary-1063@pipmail.com\", \n",
    "\"Sebastian.L.Muelle@yourmail.de\"]\n",
    "\n",
    "stringList"
   ]
  },
  {
   "cell_type": "code",
   "execution_count": 28,
   "metadata": {},
   "outputs": [
    {
     "name": "stdout",
     "output_type": "stream",
     "text": [
      "<re.Match object; span=(0, 19), match='s.l.Müller@email.de'>\n"
     ]
    }
   ],
   "source": [
    "reg = r\"\"\"^(s|sebastian)\\.      \n",
    "           (l|ludwig)\\. \n",
    "           (müller|mueller)@email.de$   \n",
    "      \"\"\"  \n",
    "for x in stringList:\n",
    "    mat = re.fullmatch(reg,x,re.VERBOSE|re.IGNORECASE)\n",
    "    if mat:\n",
    "        print(mat)      \n",
    "\n"
   ]
  },
  {
   "cell_type": "markdown",
   "metadata": {},
   "source": [
    "#### Aufgabe 11\n",
    "String replacements"
   ]
  },
  {
   "cell_type": "code",
   "execution_count": 73,
   "metadata": {},
   "outputs": [
    {
     "name": "stdout",
     "output_type": "stream",
     "text": [
      "<re.Match object; span=(0, 29), match='\\\\Verkauf\\\\2000\\\\Verkauf2000.xls'>\n",
      "<re.Match object; span=(0, 29), match='\\\\Verkauf\\\\2005\\\\Verkauf2005.xls'>\n",
      "None\n",
      "<re.Match object; span=(0, 29), match='\\\\Verkauf\\\\2010\\\\Verkauf2010.xls'>\n",
      "<re.Match object; span=(0, 29), match='\\\\Verkauf\\\\2015\\\\Verkauf2015.xls'>\n",
      "<re.Match object; span=(0, 29), match='\\\\Verkauf\\\\2020\\\\Verkauf2020.xls'>\n",
      "None\n",
      "None\n",
      "None\n",
      "None\n",
      "None\n",
      "<re.Match object; span=(0, 29), match='\\\\Einkauf\\\\2000\\\\Einkauf2000.xls'>\n",
      "None\n",
      "<re.Match object; span=(0, 29), match='\\\\Einkauf\\\\2005\\\\Einkauf2005.xls'>\n",
      "<re.Match object; span=(0, 29), match='\\\\Einkauf\\\\2010\\\\Einkauf2010.xls'>\n",
      "<re.Match object; span=(0, 29), match='\\\\Einkauf\\\\2015\\\\Einkauf2015.xls'>\n",
      "None\n",
      "<re.Match object; span=(0, 29), match='\\\\Einkauf\\\\2020\\\\Einkauf2020.xls'>\n",
      "<re.Match object; span=(0, 29), match='\\\\Einkauf\\\\2025\\\\Einkauf2025.xls'>\n",
      "None\n"
     ]
    }
   ],
   "source": [
    "s = \"\"\"\\\\Verkauf\\\\2000\\\\Verkauf2000.xls\n",
    "\\\\Verkauf\\\\2005\\\\Verkauf2005.xls\n",
    "\\\\Verkauf\\\\Zusammenfassung2005.xls\n",
    "\\\\Verkauf\\\\2010\\\\Verkauf2010.xls\n",
    "\\\\Verkauf\\\\2015\\\\Verkauf2015.xls\n",
    "\\\\Verkauf\\\\2020\\\\Verkauf2020.xls\n",
    "\\\\Verkauf\\\\2025\\\\Verkauf2025xls\n",
    "\\\\Verkauf\\\\Zusammenfassung2025.xls\n",
    "\\\\Verkauf\\\\Readme.txt\n",
    "\\\\Verkauf\\\\Mitarbeiterliste.doc\n",
    "\\\\Verkauf\\\\2025\\\\Verkauf_Überblick.xls\n",
    "\\\\Einkauf\\\\2000\\\\Einkauf2000.xls\n",
    "\\\\Einkauf\\\\ABC-Analyse.doc\n",
    "\\\\Einkauf\\\\2005\\\\Einkauf2005.xls\n",
    "\\\\Einkauf\\\\2010\\\\Einkauf2010.xls\n",
    "\\\\Einkauf\\\\2015\\\\Einkauf2015.xls\n",
    "\\\\Einkauf\\\\2015\\\\Stammdatenüberblick.xls\n",
    "\\\\Einkauf\\\\2020\\\\Einkauf2020.xls\n",
    "\\\\Einkauf\\\\2025\\\\Einkauf2025.xls\n",
    "\\\\Einkauf\\\\2025\\\\Entwurf_AGBs.doc\"\"\"\n",
    "\n",
    "a = s.split()\n",
    "reg = r'^\\\\(\\w+)\\\\(\\d{4})\\\\\\1\\2\\.xls'     #\\1 ist match der ersten Gruppe, \\2 ist match der zweiten Gruppe\n",
    "for x in a:\n",
    "    \n",
    "    mat = re.match(reg,x)\n",
    "    print(mat)"
   ]
  },
  {
   "cell_type": "markdown",
   "metadata": {},
   "source": [
    "#### Beispiele"
   ]
  },
  {
   "cell_type": "code",
   "execution_count": 49,
   "metadata": {},
   "outputs": [],
   "source": [
    "reg = r'Gieß\\S*'      # bis zum Ende des Wortes matchen\n",
    " "
   ]
  },
  {
   "cell_type": "markdown",
   "metadata": {},
   "source": [
    "#### Ersetzungen"
   ]
  },
  {
   "cell_type": "code",
   "execution_count": 51,
   "metadata": {},
   "outputs": [
    {
     "data": {
      "text/plain": [
       "'afbssfassdasst'"
      ]
     },
     "execution_count": 51,
     "metadata": {},
     "output_type": "execute_result"
    }
   ],
   "source": [
    "text = \"afbßfassdaßt\"\n",
    "re.sub(r'ß',r'ss',text)     # schar"
   ]
  },
  {
   "cell_type": "markdown",
   "metadata": {},
   "source": [
    "#### Greedy"
   ]
  },
  {
   "cell_type": "code",
   "execution_count": 60,
   "metadata": {},
   "outputs": [
    {
     "name": "stdout",
     "output_type": "stream",
     "text": [
      "('Dies ist eine Z', 'eile', '')\n",
      "('Di', 'es ist e', 'ine Zeile')\n"
     ]
    }
   ],
   "source": [
    "text = \"Dies ist eine Zeile\"\n",
    "mat = re.search(r'(.*)(e.*e)(.*)',text)\n",
    "mat1 = re.search(r'(.*?)(e.*?e)(.*)',text)\n",
    "print(mat.groups())\n",
    "print(mat1.groups())\n"
   ]
  },
  {
   "cell_type": "markdown",
   "metadata": {},
   "source": [
    "#### Named Groups"
   ]
  },
  {
   "cell_type": "code",
   "execution_count": 83,
   "metadata": {},
   "outputs": [
    {
     "data": {
      "text/plain": [
       "'Entstehung'"
      ]
     },
     "execution_count": 83,
     "metadata": {},
     "output_type": "execute_result"
    }
   ],
   "source": [
    "s = '<html><body><h1><h2><span class=\"mw-headline\" id=\"Entstehung\">Entstehung</span></h2></h1></body></html>'\n",
    "reg = r'<span.*?>(?P<content>.*?)</span>'\n",
    "mat=re.search(reg,s)\n",
    "mat.group('content')"
   ]
  },
  {
   "cell_type": "markdown",
   "metadata": {},
   "source": [
    "#### Lookahead"
   ]
  },
  {
   "cell_type": "code",
   "execution_count": 99,
   "metadata": {},
   "outputs": [
    {
     "name": "stdout",
     "output_type": "stream",
     "text": [
      "ROBertO \n",
      "NickAS \n",
      "Nina99 \n",
      "UlliOO \n",
      "TomatenMarc \n"
     ]
    }
   ],
   "source": [
    "s = \"\"\"Enko12 oHgo64uVrE\n",
    "ROBertO EkrE58uxGI1\n",
    "SkyDiver ufdi72EdYO\n",
    "NickAS udSE63aM\n",
    "RavenClaw Evja51uhNE\n",
    "Rowena88 oDSO98orjI\n",
    "SabbiSo ErqE65UlWu\n",
    "Nina99 apVi24oDo\n",
    "JanaSky ADqi76oZli\n",
    "Driver oZVu82IvMi\n",
    "UlliOO eGSe56OqKO12\n",
    "ChrisTian IlWI63oNLI\n",
    "FlexBert EwcO17itpE\n",
    "HannesCore adwO92Ebda\n",
    "TomatenMarc oXNU11uYjo45\n",
    "LarsVegas eCyA74oNnu\n",
    "AndyWand iQMe76opsE\n",
    "EnteDu ohGU13AlcE\n",
    "Wanny23 uqzI16IsFA\n",
    "JanBolte EqwE27iWYu\"\"\"\n",
    "\n",
    "a = s.split('\\n')\n",
    "\n",
    "# das muster \\w+ matcht nur, wenn der folgende lookahead matcht\n",
    "reg = r'\\w+\\s(?!\\w{10}$)'\n",
    "\n",
    "for x in a:\n",
    "    mat = re.match(reg,x)\n",
    "    if mat:\n",
    "        print(mat.group(0))"
   ]
  },
  {
   "cell_type": "code",
   "execution_count": 108,
   "metadata": {},
   "outputs": [
    {
     "name": "stdout",
     "output_type": "stream",
     "text": [
      "Avatar \n",
      "Titanic \n",
      "Terminator 2: Judgment Day \n",
      "The Abyss \n",
      "Aliens \n"
     ]
    }
   ],
   "source": [
    "### alle Filme von James Cameron, die länger >= 150 Minuten sind\n",
    "\n",
    "f = open('./data/regex_imdb.txt',encoding='utf-8')\n",
    "lines = [x.rstrip('\\n') for x in f.readlines()]\n",
    "\n",
    "reg = r'(?<=^James Cameron;1[5-9]\\d;)(.*$)'\n",
    "\n",
    "for x in lines:\n",
    "    mat = re.search(reg,x)\n",
    "    if mat:\n",
    "        print(mat.group(0))"
   ]
  },
  {
   "cell_type": "code",
   "execution_count": 118,
   "metadata": {},
   "outputs": [
    {
     "data": {
      "text/plain": [
       "['one', 'two', '3.4', '5,6', 'seven', 'eight', 'nine', 'ten', '1.2', 'a', '5']"
      ]
     },
     "execution_count": 118,
     "metadata": {},
     "output_type": "execute_result"
    }
   ],
   "source": [
    "## Beim Punkt und Komma nicht trennen, wenn vorher eine Zahl steht\n",
    "s = \"one two 3.4 5,6 seven.eight nine,ten,1.2,a,5\"\n",
    " \n",
    "reg = r'\\s|(?<!\\d)[,.]|[,.](?!\\d)'   # ein negativer lookbehind und ein negativer lookahead\n",
    "re.split(reg,s)"
   ]
  },
  {
   "cell_type": "code",
   "execution_count": 120,
   "metadata": {},
   "outputs": [
    {
     "data": {
      "text/plain": [
       "'\"Tarzan\" und noch Moglie und noch \"Tarzan\" und noch Moglie und noch \"Moglie.'"
      ]
     },
     "execution_count": 120,
     "metadata": {},
     "output_type": "execute_result"
    }
   ],
   "source": [
    "# Conditionals\n",
    "# Nur die Tarzans ohne Anführungszeichen sollen in Mogli umgewandelt werden. Der letzte Tarzan wird auch ersetzt.\n",
    "s = '\"Tarzan\" und noch Tarzan und noch \"Tarzan\" und noch Tarzan und noch \"Tarzan.'\n",
    "\n",
    "reg = r'((?<=\")?)Tarzan(?(1)(?!\"))'\n",
    "re.sub(reg,r'Moglie',s)\n",
    "\n",
    "# oder\n",
    "reg = r'((?<=\")?)Tarzan(?(1)(?!\"))'"
   ]
  },
  {
   "cell_type": "markdown",
   "metadata": {},
   "source": [
    "#### Aufgabe\n",
    "\n",
    "Alle Trennungen eliminieren, dabei die Sätze nicht zu lange werden lassen"
   ]
  },
  {
   "cell_type": "code",
   "execution_count": 20,
   "metadata": {},
   "outputs": [],
   "source": [
    "import re\n",
    "f = open('./data/zauberberg.txt',encoding='utf-8')\n",
    "data = f.read()\n",
    "#data_neu = re.sub(r'(\\w+)(-\\n)(\\w+[\\.,]?)\\s',r'\\1\\3\\n',data)\n",
    "#reg = r'(\\w+)(-\\n)(\\w+[\\.,]?)\\s'\n",
    "\n",
    "reg = r\"\"\"([a-zA-Zäüöß]+?)             # Gruppe1: mindestens ein Buchstabe vor dem Trennstrich\n",
    "       (-\\n)                        # Gruppe2: Trennstrich mit newline\n",
    "       ([a-zA-Zäüöß])\"\"\"   # Gruppe3: der Rest vom Wort, dann ein Satzendezeichen (oder keins) und ein Leerzeichen\n",
    "     \n",
    "reg = r'([a-zA-Züöäß]+?)(-\\n)([a-zA-Zöäü]+\\s?[\\.,:;\\?\\!]?\\s?)'\n",
    "#   ([a-zA-Zäüöß]+[\\!\\.;\\,\\?]?)   # Gruppe3: der Rest vom Wort, dann ein Satzendezeichen (oder keins) und ein Leerzeichen\n",
    "\n",
    "#data_neu = re.sub(reg,r'\\1\\3\\n',data,re.VERBOSE)\n",
    "data_neu = re.sub(r\"([a-zA-Zäöüß]+)(-\\n)([a-zA-Zäüöß]+[\\s,\\.?!;:]?)(\\s?)\", \"\\\\1\\\\3\\n\", data)\n",
    "\n",
    " \n",
    "f1 = open('./data/zauberberg_ungetrennt',\"w\",encoding='utf-8')\n",
    "f1.write(data_neu) \n",
    "f1.close()\n",
    "f.close()\n"
   ]
  },
  {
   "cell_type": "markdown",
   "metadata": {},
   "source": [
    "Alle Sätze ausgeben, in denen das Wort *Zeit* vorkommt."
   ]
  },
  {
   "cell_type": "code",
   "execution_count": 18,
   "metadata": {},
   "outputs": [
    {
     "name": "stdout",
     "output_type": "stream",
     "text": [
      "Aber das\n",
      "Gesetz der Zeit und der Zeitgenossenschaft bringt es nun einmal\n",
      " mit sich, daß Sie mit mir vorlieb nehmen müssen, mit dem\n",
      "Verfasser des »Zauberbergs«, der nicht wenig verwirrt ist, sein\n",
      "Buch den großen Werken der Weltliteratur als Studienobjekt\n",
      "eingegliedert zu sehen.\n",
      "\n",
      "Zeit, sagt man, ist Lethe;\n",
      "\n",
      "Denn es war ja nun schon das drittemal binnen so kurzer\n",
      "Zeit und bei so jungen Jahren, daß der Tod auf den Geist und\n",
      "die Sinne - namentlich auch auf die Sinne - des kleinen Hans\n",
      "Castorp wirkte;\n",
      "\n",
      "Also vor einiger Zeit, da habe ich doch\n",
      "einmal hinter die Kulissen gesehen, aus reinem Zufall, ich weiß\n",
      "es wie heute.\n",
      "\n",
      "Was ist denn die\n",
      "Zeit?\n",
      "\n",
      "Um diese\n",
      " Zeit gehe ich immer ein bißchen hinunter, durchs Dorf und bis\n",
      "Platz, wenn ich Zeit habe.\n",
      "\n",
      "Um Zeit zu gewinnen,\n",
      "ließ er sich die Frage wiederholen und sagte dann:\n",
      "» .\n",
      "\n",
      "Die Musik weckt die Zeit, sie weckt uns zum\n",
      "feinsten Genusse der Zeit, sie weckt .\n",
      "\n",
      "Damit er\n",
      "schneller dazu gelange und Zeit spare, mit der man hier so verschwenderisch\n",
      " umging, hielt er denn vorerst einmal mit aller\n",
      "Gewissenhaftigkeit den Kurdienst ein, - tat es um seiner baldigen\n",
      " Genesung willen, ohne Frage, aber, wie Hans Castorp\n",
      "manchmal zu spüren glaubte, ein wenig doch auch um des Kurdienstes\n",
      " willen, der am Ende ein Dienst war wie ein anderer,\n",
      "und Pflichterfüllung war Pflichterfüllung.\n",
      "\n",
      "Aber von Zeit zu\n",
      "Zeit wird immer noch mein Taschentuch rot, wenn ich es benutze,\n",
      " und die verdammte Hitze im Gesicht mitsamt dem sinnlosen\n",
      " Herzklopfen werde ich auch, wie es scheint, bis zum\n",
      "Schluß nicht mehr loswerden.\n",
      "\n",
      "Die Zeit schlich, die Frist schien endlos.\n",
      "\n",
      "Es ist Zeit.\n",
      "\n",
      "Joachim blieb um diese Zeit eine Weile bei ihm;\n",
      "\n",
      "Die Zeit\n",
      "hat in Wirklichkeit keine Einschnitte, es gibt kein Gewitter oder\n",
      "Drommetengetön beim Beginn eines neuen Monats oder Jahres,\n",
      " und selbst bei dem eines neuen Säkulums sind es nur wir\n",
      "Menschen, die schießen und läuten.\n",
      "\n",
      "Wir haben so wenig Zeit, wie unser edler und zierlich gegliederter\n",
      " Erdteil Raum hat, wir sind auf genaue Bewirtschaftung\n",
      " des einen wie des anderen angewiesen, auf Nutzung, Nutzung,\n",
      " Ingenieur!\n",
      "\n",
      "Die\n",
      "Zeit ist eine Göttergabe, dem Menschen verliehen, damit er sie\n",
      "nutze - sie nutze, Ingenieur, im Dienste des Menschheitsfortschritts\n",
      ".\n",
      "\n",
      "Es ist nun hohe Zeit, daß\n",
      "wir vorm Tee doch wenigstens noch auf zwanzig Minuten in\n",
      "den Liegedienst kommen.\n",
      "\n",
      "Ganz kurze Zeit danach aber sah man Herrn\n",
      "Popow stillvergnügt, in Gesellschaft seiner ebenfalls stillvergnügten\n",
      " Braut, wieder am Guten Russentisch sitzen und, als sei\n",
      "nichts geschehen, sein Mittagessen beenden!\n",
      "\n",
      "Da ferner eine endliche Zeit\n",
      "und ein begrenzter Raum auch mit der verzweifeltsten Anstrengung\n",
      " nicht vorgestellt werden können, so hat man sich entschlossen,\n",
      " Zeit und Raum als ewig und unendlich zu »denken«,\n",
      "- in der Meinung offenbar, dies gelinge, wenn nicht recht gut,\n",
      "so doch etwas besser.\n",
      "\n",
      "Die Zeit schritt fort,\n",
      "und mehr als eine Veränderung hatte sie bereits gezeitigt.\n",
      "\n",
      "Die Zeit zeitigte Veränderungen,\n",
      " - sie hatte das ja immer getan, aber allmählicher,\n",
      "nicht so auffallend.\n",
      "\n",
      "Da er viel Zeit hatte, gelangen ihm einige Fortschritte\n",
      " in botanischer Systematik auf Grund vergleichender\n",
      "Morphologie.\n",
      "\n",
      "Aber die Zeit, die sich für den\n",
      "einzelnen mit dem Raum hier oben verband, die persönliche\n",
      "und individuelle Zeit also zu messen und zu zählen war Sache\n",
      "der Kurzfristigen und Anfänger;\n",
      "\n",
      "Ich brauche noch etwas Zeit für meine Equipierung\n",
      " und andere Vorbereitungen.\n",
      "\n",
      "Solide Zeit werde er wieder haben, langsam\n",
      "gewichtige Jugendjahre.\n",
      "\n",
      "Ja Zeit!\n",
      "\n",
      "Zu Privatunterhaltungen habe der Hofrat selten\n",
      " Zeit.\n",
      "\n",
      "Hans Castorp hatte keine Zeit, sich mit den Titeln zu beschäftigen,\n",
      " die Naphta Herrn Settembrini da wieder verlieh.\n",
      "\n",
      "Denn Fortschritt sei nur\n",
      "in der Zeit;\n",
      "\n",
      "Sie halte sich zur Zeit in\n",
      "einem Kurort des Allgäus auf und wolle im Herbst nach Spanien\n",
      " gehen.\n",
      "\n",
      "Es war die Zeit, wo unsere Väter den Bund mit katholisch\n",
      "-hierarchischem Leben zu erfüllen suchten, und wo zu\n",
      "Clermont in Frankreich eine jesuitische Freimaurerloge blühte.\n",
      "\n",
      "Siebentes Kapitel\n",
      "Strandspaziergang\n",
      "Kann man die Zeit erzählen, diese selbst, als solche, an und für\n",
      "sich?\n",
      "\n",
      "Die Zeit ist das Element\n",
      " der Erzählung, wie sie das Element des Lebens ist, - unlösbar\n",
      " damit verbunden, wie mit den Körpern im Raum.\n",
      "\n",
      "Die Zeit, sei ihr subjektives Erlebnis\n",
      "auch abgeschwächt oder aufgehoben, hat sachliche Wirklichkeit,\n",
      "sofern sie tätig ist, sofern sie »zeitigt«.\n",
      "\n",
      "du wirst\n",
      "von solchem Gange niemals zu rechter Zeit nach Hause zurückkehren,\n",
      " denn du bist der Zeit und sie ist dir abhanden gekommen\n",
      ".\n",
      "\n",
      "Vielleicht ist es noch Zeit, Sie zu bitten,\n",
      "daß Sie darin gewissen Betrachtungen Rechnung tragen, die wir\n",
      "gelegentlich über das menschenfeindliche Wesen des Paradoxons\n",
      " angestellt haben.\n",
      "\n",
      "Es ist\n",
      "hohe Zeit, daß ich mich aufrichte und ihm frank, wenn auch\n",
      "ehrerbietig in das großmächtige Antlitz blicke!\n",
      "\n",
      "Ich habe lange Zeit, sehr lange Zeit mit Clawdia -\n",
      "verzeihen Sie - mit Ihrer gegenwärtigen Reisebegleiterin zusammen\n",
      " in diesem Hause gelebt, ohne sie gesellschaftlich zu\n",
      "kennen.\n",
      "\n",
      "Und\n",
      "darum trug Hans Castorp nach kurzer Zeit den Schlüssel des\n",
      "Schränkchens, worin die Alben und Nadeln aufbewahrt wurden,\n",
      " einfach in der Tasche, so daß man ihn rufen mußte, wenn\n",
      "man aufgespielt haben wollte.\n",
      "\n",
      "Die Lehre von der\n",
      "Unendlichkeit des Raumes und der Zeit fuße sicherlich auf Erfahrung?\n",
      "\n",
      "Das alles kostete Zeit, und so kam es, daß bis zum Stelldichein\n",
      " zwei Tage und drei Nächte vergingen.\n",
      "\n",
      "Die Zeit, die nicht von der Art der Bahnhofsuhren ist, deren\n",
      "großer Zeiger ruckweise, von fünf zu fünf Minuten fällt, sondern\n",
      " eher von der jener ganz kleinen Uhren, deren Zeigerbewegung\n",
      " überhaupt untersichtig bleibt, oder wie das Gras, das\n",
      "kein Auge wachsen sieht, ob es gleich heimlich wächst, was\n",
      "denn auch eines Tages nicht mehr zu verkennen ist;\n",
      "\n"
     ]
    }
   ],
   "source": [
    "import re\n",
    "f = open('./data/zauberberg_ungetrennt',encoding='utf-8')\n",
    "data = f.read()\n",
    "\n",
    " \n",
    "reg = r'[\\?|\\.]\\s[a-zA-Z\\s]*?Zeit.*?[\\.?!;]'   # 1.Versuch\n",
    "reg = r'[\\?|\\.]\\s*([a-zA-Z\\s]*?Zeit.*?[\\.?!;])'   # 2.Versuch\n",
    "reg = r'[\\?|\\.]\\s*([a-zA-Z\\s]*?Zeit(?!\\w).*?[\\.?!;])'   # 3.Versuch\n",
    "iter = re.finditer(reg,data,re.DOTALL) \n",
    " \n",
    "for it in iter:\n",
    "    print(it.group(1))\n",
    "    print()\n",
    " \n",
    "f.close()\n",
    " "
   ]
  },
  {
   "cell_type": "code",
   "execution_count": null,
   "metadata": {},
   "outputs": [],
   "source": []
  }
 ],
 "metadata": {
  "kernelspec": {
   "display_name": "Python 3",
   "language": "python",
   "name": "python3"
  },
  "language_info": {
   "codemirror_mode": {
    "name": "ipython",
    "version": 3
   },
   "file_extension": ".py",
   "mimetype": "text/x-python",
   "name": "python",
   "nbconvert_exporter": "python",
   "pygments_lexer": "ipython3",
   "version": "3.7.7"
  }
 },
 "nbformat": 4,
 "nbformat_minor": 4
}
