{
 "cells": [
  {
   "cell_type": "markdown",
   "metadata": {},
   "source": [
    "### Fingerzeichen"
   ]
  },
  {
   "cell_type": "code",
   "execution_count": 1,
   "metadata": {},
   "outputs": [
    {
     "name": "stderr",
     "output_type": "stream",
     "text": [
      "C:\\Users\\khthe\\Anaconda3\\lib\\site-packages\\h5py\\__init__.py:36: FutureWarning: Conversion of the second argument of issubdtype from `float` to `np.floating` is deprecated. In future, it will be treated as `np.float64 == np.dtype(float).type`.\n",
      "  from ._conv import register_converters as _register_converters\n"
     ]
    }
   ],
   "source": [
    "import numpy as np\n",
    "import math\n",
    "import h5py\n",
    "import matplotlib.pyplot as plt\n",
    "import tensorflow as tf\n",
    "import scipy"
   ]
  },
  {
   "cell_type": "code",
   "execution_count": 2,
   "metadata": {},
   "outputs": [],
   "source": [
    "def load_dataset():\n",
    "    train_dataset = h5py.File('data/train_signs.h5', \"r\")\n",
    "    train_set_x_orig = np.array(train_dataset[\"train_set_x\"][:]) # your train set features\n",
    "    train_set_y_orig = np.array(train_dataset[\"train_set_y\"][:]) # your train set labels\n",
    "\n",
    "    test_dataset = h5py.File('data/test_signs.h5', \"r\")\n",
    "    test_set_x_orig = np.array(test_dataset[\"test_set_x\"][:]) # your test set features\n",
    "    test_set_y_orig = np.array(test_dataset[\"test_set_y\"][:]) # your test set labels\n",
    "\n",
    "    classes = np.array(test_dataset[\"list_classes\"][:]) # the list of classes\n",
    "    \n",
    "    train_set_y_orig = train_set_y_orig.reshape((1, train_set_y_orig.shape[0]))\n",
    "    test_set_y_orig = test_set_y_orig.reshape((1, test_set_y_orig.shape[0]))\n",
    "    \n",
    "    return train_set_x_orig, train_set_y_orig, test_set_x_orig, test_set_y_orig, classes"
   ]
  },
  {
   "cell_type": "code",
   "execution_count": 3,
   "metadata": {},
   "outputs": [],
   "source": [
    "X_train_orig, Y_train_orig, X_test_orig, Y_test_orig, classes = load_dataset()\n"
   ]
  },
  {
   "cell_type": "code",
   "execution_count": 4,
   "metadata": {},
   "outputs": [
    {
     "name": "stdout",
     "output_type": "stream",
     "text": [
      "y = 3\n"
     ]
    },
    {
     "data": {
      "image/png": "[encoded data removed]",
      "text/plain": [
       "<Figure size 432x288 with 1 Axes>"
      ]
     },
     "metadata": {},
     "output_type": "display_data"
    }
   ],
   "source": [
    "# Beispielbild\n",
    "index = 32\n",
    "plt.imshow(X_train_orig[index])\n",
    "print (\"y = \" + str(np.squeeze(Y_train_orig[:, index])))"
   ]
  },
  {
   "cell_type": "code",
   "execution_count": 5,
   "metadata": {},
   "outputs": [
    {
     "name": "stdout",
     "output_type": "stream",
     "text": [
      "Anzahl Trainingsbilder = 1080\n",
      "Anzahl Testbilder = 120\n",
      "X_train shape: (12288, 1080)\n",
      "X_test shape: (12288, 120)\n"
     ]
    }
   ],
   "source": [
    "# Wir wandeln die Eingabebilder in Vektoren um und normalisieren die Werte\n",
    "X_train_flatten = X_train_orig.reshape(X_train_orig.shape[0], -1).T\n",
    "X_test_flatten = X_test_orig.reshape(X_test_orig.shape[0], -1).T\n",
    "X_train = X_train_flatten/255.\n",
    "X_test = X_test_flatten/255.\n",
    "\n",
    "print (\"Anzahl Trainingsbilder = \" + str(X_train.shape[1]))\n",
    "print (\"Anzahl Testbilder = \" + str(X_test.shape[1]))\n",
    "print (\"X_train shape: \" + str(X_train.shape))\n",
    "print (\"X_test shape: \" + str(X_test.shape))\n"
   ]
  },
  {
   "cell_type": "code",
   "execution_count": 6,
   "metadata": {},
   "outputs": [
    {
     "name": "stdout",
     "output_type": "stream",
     "text": [
      "Y_train shape: (6, 1080)\n",
      "Y_test shape: (6, 120)\n"
     ]
    }
   ],
   "source": [
    "# Die Ausgabedaten werden in eine one-hot-Matrix umgewandelt\n",
    "Y_test = np.eye(6)[Y_test_orig.reshape(-1)].T\n",
    "Y_train = np.eye(6)[Y_train_orig.reshape(-1)].T\n",
    "\n",
    "print (\"Y_train shape: \" + str(Y_train.shape))\n",
    "print (\"Y_test shape: \" + str(Y_test.shape))"
   ]
  },
  {
   "cell_type": "markdown",
   "metadata": {},
   "source": [
    "### Training ohne Minibatch"
   ]
  },
  {
   "cell_type": "code",
   "execution_count": null,
   "metadata": {},
   "outputs": [],
   "source": [
    "tf.reset_default_graph()\n",
    "tf.set_random_seed(1)                             # to keep consistent results\n",
    "seed = 3                                          # to keep consistent results\n",
    "n_x, m = X_train.shape                          # (n_x: input size, m : number of examples in the train set)\n",
    "n_y = Y_train.shape[0]                            # n_y : output size\n",
    "costs = []  \n",
    "learning_rate = 0.0001\n",
    "minibatch_size = 32\n",
    "num_epochs = 1000\n",
    "\n",
    "X = tf.placeholder(shape=[n_x,None],dtype='float')\n",
    "Y = tf.placeholder(shape=[n_y,None],dtype='float')\n",
    "\n",
    "# initialisierung der parameter\n",
    "W1 = tf.get_variable('W1',[25,12288],initializer=tf.contrib.layers.xavier_initializer(seed=1))\n",
    "b1 = tf.get_variable('b1',[25,1],initializer=tf.zeros_initializer())\n",
    "W2 = tf.get_variable('W2',[12,25],initializer=tf.contrib.layers.xavier_initializer(seed=1))\n",
    "b2 = tf.get_variable('b2',[12,1],initializer=tf.zeros_initializer())\n",
    "W3 = tf.get_variable('W3',[6,12],initializer=tf.contrib.layers.xavier_initializer(seed=1))\n",
    "b3 = tf.get_variable('b3',[6,1],initializer=tf.zeros_initializer())\n",
    "\n",
    "# forwardprop\n",
    "Z1 = tf.add(tf.matmul(W1,X),b1)                                             \n",
    "A1 = tf.nn.relu(Z1)                                              \n",
    "Z2 = tf.add(tf.matmul(W2,A1),b2)                                             \n",
    "A2 = tf.nn.relu(Z2)                                              \n",
    "Z3 = tf.add(tf.matmul(W3,Z2),b3)    \n",
    "\n",
    "# Kosten berechnen\n",
    "logits = tf.transpose(Z3)\n",
    "labels = tf.transpose(Y)\n",
    "cost = tf.reduce_mean(tf.nn.softmax_cross_entropy_with_logits(logits = logits, labels = labels))\n",
    "\n",
    "optimizer = tf.train.GradientDescentOptimizer(learning_rate = learning_rate).minimize(cost)\n",
    "init = tf.global_variables_initializer()\n",
    "\n",
    "with tf.Session() as sess:\n",
    "    sess.run(init)\n",
    "    for epoch in range(num_epochs):\n",
    "        epoch_kosten = 0                       \n",
    "        _ , kosten = sess.run([optimizer, cost], feed_dict={X: X_train, Y: Y_train})\n",
    "        epoch_kosten += kosten\n",
    "\n",
    "        if epoch % 50 == 0:\n",
    "            print (\"Kosten nach Epoche %i: %f\" % (epoch, epoch_kosten))\n",
    "        \n",
    "        if epoch % 5 == 0:\n",
    "            costs.append(epoch_kosten)\n",
    "            \n",
    "    plt.plot(np.squeeze(costs))\n",
    "    plt.ylabel('Kosten')\n",
    "    plt.xlabel('Iterationen (mal 5)')\n",
    "    plt.title(\"Learning rate =\" + str(learning_rate))\n",
    "    plt.show()\n",
    "\n",
    "    correct_prediction = tf.equal(tf.argmax(Z3), tf.argmax(Y))\n",
    "    accuracy = tf.reduce_mean(tf.cast(correct_prediction, \"float\"))\n",
    "\n",
    "    print (\"Train Accuracy:\", accuracy.eval({X: X_train, Y: Y_train}))\n",
    "    print (\"Test Accuracy:\", accuracy.eval({X: X_test, Y: Y_test}))\n",
    "    \n",
    "    #parameter = sess.run(W1),sess.run(b1),sess.run(W2),sess.run(b2),sess.run(W3),sess.run(b3)"
   ]
  },
  {
   "cell_type": "markdown",
   "metadata": {},
   "source": [
    "### Training mit Minibatch\n",
    "\n",
    "Das Aufteilen der Trainingsdaten in kleine Portionen beschleunigt den Gang zum Minimum"
   ]
  },
  {
   "cell_type": "code",
   "execution_count": 7,
   "metadata": {},
   "outputs": [
    {
     "name": "stdout",
     "output_type": "stream",
     "text": [
      "WARNING:tensorflow:From <ipython-input-7-becc4bb9b6e8>:62: softmax_cross_entropy_with_logits (from tensorflow.python.ops.nn_ops) is deprecated and will be removed in a future version.\n",
      "Instructions for updating:\n",
      "\n",
      "Future major versions of TensorFlow will allow gradients to flow\n",
      "into the labels input on backprop by default.\n",
      "\n",
      "See `tf.nn.softmax_cross_entropy_with_logits_v2`.\n",
      "\n"
     ]
    }
   ],
   "source": [
    "def random_mini_batches(X, Y, mini_batch_size = 64, seed = 0):\n",
    "    \n",
    "    m = X.shape[1]                  \n",
    "    mini_batches = []\n",
    "    np.random.seed(seed)\n",
    "    \n",
    "    # X und Y werden gemischt\n",
    "    permutation = list(np.random.permutation(m))\n",
    "    shuffled_X = X[:, permutation]\n",
    "    shuffled_Y = Y[:, permutation].reshape((Y.shape[0],m))\n",
    "\n",
    "    # Einteilung in Portionen\n",
    "    num_complete_minibatches = math.floor(m/mini_batch_size) # number of mini batches of size mini_batch_size in your partitionning\n",
    "    for k in range(0, num_complete_minibatches):\n",
    "        mini_batch_X = shuffled_X[:, k * mini_batch_size : k * mini_batch_size + mini_batch_size]\n",
    "        mini_batch_Y = shuffled_Y[:, k * mini_batch_size : k * mini_batch_size + mini_batch_size]\n",
    "        mini_batch = (mini_batch_X, mini_batch_Y)\n",
    "        mini_batches.append(mini_batch)\n",
    "    \n",
    "    # Ende-Behandlung, der letzte mini-batch ist evtl. kleiner\n",
    "    if m % mini_batch_size != 0:\n",
    "        mini_batch_X = shuffled_X[:, num_complete_minibatches * mini_batch_size : m]\n",
    "        mini_batch_Y = shuffled_Y[:, num_complete_minibatches * mini_batch_size : m]\n",
    "        mini_batch = (mini_batch_X, mini_batch_Y)\n",
    "        mini_batches.append(mini_batch)\n",
    "    \n",
    "    return mini_batches\n",
    "\n",
    "\n",
    "\n",
    "tf.reset_default_graph()\n",
    "tf.set_random_seed(1)                             # to keep consistent results\n",
    "seed = 3                                          # to keep consistent results\n",
    "n_x, m = X_train.shape                          # (n_x: input size, m : number of examples in the train set)\n",
    "n_y = Y_train.shape[0]                            # n_y : output size\n",
    "costs = []  \n",
    "learning_rate = 0.0001\n",
    "minibatch_size = 32\n",
    "num_epochs = 1500\n",
    "\n",
    "X = tf.placeholder(shape=[n_x,None],dtype='float')\n",
    "Y = tf.placeholder(shape=[n_y,None],dtype='float')\n",
    "\n",
    "# initialisierung der parameter\n",
    "W1 = tf.get_variable('W1',[25,12288],initializer=tf.contrib.layers.xavier_initializer(seed=1))\n",
    "b1 = tf.get_variable('b1',[25,1],initializer=tf.zeros_initializer())\n",
    "W2 = tf.get_variable('W2',[12,25],initializer=tf.contrib.layers.xavier_initializer(seed=1))\n",
    "b2 = tf.get_variable('b2',[12,1],initializer=tf.zeros_initializer())\n",
    "W3 = tf.get_variable('W3',[6,12],initializer=tf.contrib.layers.xavier_initializer(seed=1))\n",
    "b3 = tf.get_variable('b3',[6,1],initializer=tf.zeros_initializer())\n",
    "\n",
    "# forwardprop\n",
    "Z1 = tf.add(tf.matmul(W1,X),b1)                                             \n",
    "A1 = tf.nn.relu(Z1)                                              \n",
    "Z2 = tf.add(tf.matmul(W2,A1),b2)                                             \n",
    "A2 = tf.nn.relu(Z2)                                              \n",
    "Z3 = tf.add(tf.matmul(W3,Z2),b3)    \n",
    "\n",
    "# Kosten berechnen\n",
    "logits = tf.transpose(Z3)\n",
    "labels = tf.transpose(Y)\n",
    "cost = tf.reduce_mean(tf.nn.softmax_cross_entropy_with_logits(logits = logits, labels = labels))\n",
    "\n",
    "optimizer = tf.train.GradientDescentOptimizer(learning_rate = learning_rate).minimize(cost)\n",
    "init = tf.global_variables_initializer()"
   ]
  },
  {
   "cell_type": "code",
   "execution_count": 63,
   "metadata": {},
   "outputs": [
    {
     "name": "stdout",
     "output_type": "stream",
     "text": [
      "Kosten nach epoch 0: 1.877091\n",
      "Kosten nach epoch 50: 1.606949\n",
      "Kosten nach epoch 100: 1.469517\n",
      "Kosten nach epoch 150: 1.370159\n",
      "Kosten nach epoch 200: 1.290366\n",
      "Kosten nach epoch 250: 1.219376\n",
      "Kosten nach epoch 300: 1.157710\n",
      "Kosten nach epoch 350: 1.101385\n",
      "Kosten nach epoch 400: 1.049604\n",
      "Kosten nach epoch 450: 1.002898\n",
      "Kosten nach epoch 500: 0.955978\n",
      "Kosten nach epoch 550: 0.913638\n",
      "Kosten nach epoch 600: 0.873848\n",
      "Kosten nach epoch 650: 0.838844\n",
      "Kosten nach epoch 700: 0.802411\n",
      "Kosten nach epoch 750: 0.767863\n",
      "Kosten nach epoch 800: 0.737561\n",
      "Kosten nach epoch 850: 0.708276\n",
      "Kosten nach epoch 900: 0.679775\n",
      "Kosten nach epoch 950: 0.651512\n",
      "Kosten nach epoch 1000: 0.629291\n",
      "Kosten nach epoch 1050: 0.603715\n",
      "Kosten nach epoch 1100: 0.578398\n",
      "Kosten nach epoch 1150: 0.557177\n",
      "Kosten nach epoch 1200: 0.536484\n",
      "Kosten nach epoch 1250: 0.515690\n",
      "Kosten nach epoch 1300: 0.497435\n",
      "Kosten nach epoch 1350: 0.479685\n",
      "Kosten nach epoch 1400: 0.462647\n",
      "Kosten nach epoch 1450: 0.444468\n"
     ]
    },
    {
     "data": {
      "image/png": "[encoded data removed]",
      "text/plain": [
       "<Figure size 432x288 with 1 Axes>"
      ]
     },
     "metadata": {},
     "output_type": "display_data"
    },
    {
     "name": "stdout",
     "output_type": "stream",
     "text": [
      "Train Accuracy: 0.90185183\n",
      "Test Accuracy: 0.84166664\n"
     ]
    }
   ],
   "source": [
    "# Training\n",
    "saver = tf.train.Saver()\n",
    "with tf.Session() as sess:\n",
    "    sess.run(init)\n",
    "    for epoch in range(num_epochs):\n",
    "        epoch_cost = 0                       \n",
    "        num_minibatches = int(m / minibatch_size) # number of minibatches of size minibatch_size in the train set\n",
    "        seed = seed + 1\n",
    "        minibatches = random_mini_batches(X_train, Y_train, minibatch_size, seed)\n",
    "\n",
    "        for minibatch in minibatches:\n",
    "            (minibatch_X, minibatch_Y) = minibatch\n",
    "            _ , minibatch_cost = sess.run([optimizer, cost], feed_dict={X: minibatch_X, Y: minibatch_Y})\n",
    "            epoch_cost += minibatch_cost / num_minibatches\n",
    "\n",
    "        if epoch % 50 == 0:\n",
    "            print (\"Kosten nach epoch %i: %f\" % (epoch, epoch_cost))\n",
    "        \n",
    "        if epoch % 5 == 0:\n",
    "            costs.append(epoch_cost)\n",
    "            \n",
    "    plt.plot(np.squeeze(costs))\n",
    "    plt.ylabel('Kosten')\n",
    "    plt.xlabel('Iterationen (mal 5)')\n",
    "    plt.title(\"Learning rate =\" + str(learning_rate))\n",
    "    plt.show()\n",
    "\n",
    "    correct_prediction = tf.equal(tf.argmax(Z3), tf.argmax(Y))\n",
    "    accuracy = tf.reduce_mean(tf.cast(correct_prediction, \"float\"))\n",
    "\n",
    "    print (\"Train Accuracy:\", accuracy.eval({X: X_train, Y: Y_train}))\n",
    "    print (\"Test Accuracy:\", accuracy.eval({X: X_test, Y: Y_test}))\n",
    "    save_path = saver.save(sess, \"data/model.ckpt\")                         # save Model\n",
    "    "
   ]
  },
  {
   "cell_type": "code",
   "execution_count": 8,
   "metadata": {},
   "outputs": [
    {
     "name": "stdout",
     "output_type": "stream",
     "text": [
      "INFO:tensorflow:Restoring parameters from data/model.ckpt\n",
      "2 predict =  1 richtig =  2\n",
      "46 predict =  1 richtig =  3\n",
      "64 predict =  0 richtig =  2\n",
      "69 predict =  1 richtig =  2\n",
      "76 predict =  1 richtig =  5\n",
      "77 predict =  5 richtig =  4\n",
      "80 predict =  1 richtig =  2\n",
      "82 predict =  4 richtig =  5\n",
      "88 predict =  0 richtig =  3\n",
      "89 predict =  4 richtig =  5\n",
      "93 predict =  0 richtig =  5\n",
      "111 predict =  4 richtig =  2\n",
      "131 predict =  3 richtig =  5\n",
      "136 predict =  2 richtig =  0\n",
      "137 predict =  1 richtig =  2\n",
      "141 predict =  0 richtig =  4\n",
      "147 predict =  4 richtig =  0\n",
      "159 predict =  4 richtig =  5\n",
      "169 predict =  5 richtig =  4\n",
      "170 predict =  2 richtig =  1\n"
     ]
    }
   ],
   "source": [
    "# Beispiele für falsche Predictions\n",
    "\n",
    "saver = tf.train.Saver()\n",
    "with tf.Session() as sess:\n",
    "    saver.restore(sess, \"data/model.ckpt\")\n",
    "    for index in range(200):\n",
    "        p = tf.argmax(Z3) \n",
    "        X1 = X_train_orig[index] \n",
    "        X1 = X1.reshape(12288, 1)\n",
    "        prediction = sess.run(p, feed_dict = {X: X1})\n",
    "        if prediction[0] != Y_train_orig[0][index]:\n",
    "            print(index, \"predict = \", prediction[0], 'richtig = ',Y_train_orig[0][index])"
   ]
  },
  {
   "cell_type": "markdown",
   "metadata": {},
   "source": [
    "### Test an eigenen Bildern\n",
    "\n",
    "Da wird leider keins richtig geraten."
   ]
  },
  {
   "cell_type": "code",
   "execution_count": 1,
   "metadata": {},
   "outputs": [
    {
     "ename": "NameError",
     "evalue": "name 'np' is not defined",
     "output_type": "error",
     "traceback": [
      "\u001b[1;31m---------------------------------------------------------------------------\u001b[0m",
      "\u001b[1;31mNameError\u001b[0m                                 Traceback (most recent call last)",
      "\u001b[1;32m<ipython-input-1-d6da50783f7b>\u001b[0m in \u001b[0;36m<module>\u001b[1;34m()\u001b[0m\n\u001b[0;32m      1\u001b[0m \u001b[0mfname\u001b[0m \u001b[1;33m=\u001b[0m \u001b[1;34m\"data/finger3c.jpg\"\u001b[0m\u001b[1;33m\u001b[0m\u001b[0m\n\u001b[1;32m----> 2\u001b[1;33m \u001b[0mimage\u001b[0m \u001b[1;33m=\u001b[0m \u001b[0mnp\u001b[0m\u001b[1;33m.\u001b[0m\u001b[0marray\u001b[0m\u001b[1;33m(\u001b[0m\u001b[0mplt\u001b[0m\u001b[1;33m.\u001b[0m\u001b[0mimread\u001b[0m\u001b[1;33m(\u001b[0m\u001b[0mfname\u001b[0m\u001b[1;33m)\u001b[0m\u001b[1;33m)\u001b[0m\u001b[1;33m\u001b[0m\u001b[0m\n\u001b[0m\u001b[0;32m      3\u001b[0m \u001b[0mimage\u001b[0m \u001b[1;33m=\u001b[0m \u001b[0mscipy\u001b[0m\u001b[1;33m.\u001b[0m\u001b[0mmisc\u001b[0m\u001b[1;33m.\u001b[0m\u001b[0mimresize\u001b[0m\u001b[1;33m(\u001b[0m\u001b[0mimage\u001b[0m\u001b[1;33m,\u001b[0m \u001b[0msize\u001b[0m\u001b[1;33m=\u001b[0m\u001b[1;33m(\u001b[0m\u001b[1;36m64\u001b[0m\u001b[1;33m,\u001b[0m\u001b[1;36m64\u001b[0m\u001b[1;33m)\u001b[0m\u001b[1;33m)\u001b[0m\u001b[1;33m\u001b[0m\u001b[0m\n\u001b[0;32m      4\u001b[0m \u001b[1;33m\u001b[0m\u001b[0m\n\u001b[0;32m      5\u001b[0m \u001b[0mplt\u001b[0m\u001b[1;33m.\u001b[0m\u001b[0mimshow\u001b[0m\u001b[1;33m(\u001b[0m\u001b[0mimage\u001b[0m\u001b[1;33m)\u001b[0m\u001b[1;33m\u001b[0m\u001b[0m\n",
      "\u001b[1;31mNameError\u001b[0m: name 'np' is not defined"
     ]
    }
   ],
   "source": [
    "fname = \"data/finger3c.jpg\" \n",
    "image = np.array(plt.imread(fname))\n",
    "image = scipy.misc.imresize(image, size=(64,64))\n",
    "\n",
    "plt.imshow(image)\n",
    "X1 = image.reshape(12288, 1)\n",
    "saver = tf.train.Saver()\n",
    "with tf.Session() as sess:\n",
    "    saver.restore(sess, \"data/model.ckpt\")\n",
    "    p = tf.argmax(Z3) \n",
    "    prediction = sess.run(p, feed_dict = {X: X1})\n",
    "    print('predict = ',prediction)"
   ]
  },
  {
   "cell_type": "code",
   "execution_count": null,
   "metadata": {},
   "outputs": [],
   "source": []
  }
 ],
 "metadata": {
  "kernelspec": {
   "display_name": "Python 3",
   "language": "python",
   "name": "python3"
  },
  "language_info": {
   "codemirror_mode": {
    "name": "ipython",
    "version": 3
   },
   "file_extension": ".py",
   "mimetype": "text/x-python",
   "name": "python",
   "nbconvert_exporter": "python",
   "pygments_lexer": "ipython3",
   "version": "3.6.5"
  }
 },
 "nbformat": 4,
 "nbformat_minor": 2
}
