{
 "cells": [
  {
   "cell_type": "markdown",
   "metadata": {},
   "source": [
    "# Keller, Schlange und Heap in Python"
   ]
  },
  {
   "cell_type": "markdown",
   "metadata": {},
   "source": [
    "#### Keller (Stack)\n",
    "Der Keller wird durch eine Liste implementiert. Das Top-Element des Kellers ist das letzte Element der Liste."
   ]
  },
  {
   "cell_type": "raw",
   "metadata": {},
   "source": [
    "stack = []           # leerer Keller, entspricht: stack = Keller()\n",
    "stack.append(x)      # Laufzeit O(1), entspricht: stack.push(x)\n",
    "x = stack.pop()      # Laufzeit O(1), entspricht: x = keller.top() und keller.pop()"
   ]
  },
  {
   "cell_type": "markdown",
   "metadata": {},
   "source": [
    "Elemente auf den Keller legen und ihn wieder leeren.\n"
   ]
  },
  {
   "cell_type": "code",
   "execution_count": 4,
   "metadata": {},
   "outputs": [
    {
     "name": "stdout",
     "output_type": "stream",
     "text": [
      "4\n",
      "3\n",
      "2\n",
      "1\n",
      "0\n"
     ]
    }
   ],
   "source": [
    "st = []\n",
    "for i in range(5):\n",
    "    st.append(i)\n",
    "    \n",
    "while st:              # solange der Keller nicht leer\n",
    "    x = st.pop()       # hole ein Element vom Keller\n",
    "    print(x)           # und kümmere dich darum"
   ]
  },
  {
   "cell_type": "markdown",
   "metadata": {},
   "source": [
    "#### Schlange (Queue)\n"
   ]
  },
  {
   "cell_type": "raw",
   "metadata": {},
   "source": [
    "from collections import deque\n",
    "q = deque()              # leere Schlange, entpricht: q = Schlange()\n",
    "q = deque([0,1,2,3,4])   # Schlange mit head 0 und tail 4\n",
    "q.append(x)              # Laufzeit O(1), entspricht: q.enq(x)\n",
    "x = q.popleft()          # Laufzeit O(1), entspricht: x = q.front() und q.deque()"
   ]
  },
  {
   "cell_type": "markdown",
   "metadata": {},
   "source": [
    "Elemente in eine Schlange einfügen und sie wieder leeren."
   ]
  },
  {
   "cell_type": "code",
   "execution_count": 9,
   "metadata": {},
   "outputs": [
    {
     "name": "stdout",
     "output_type": "stream",
     "text": [
      "0\n",
      "1\n",
      "2\n",
      "3\n",
      "4\n"
     ]
    }
   ],
   "source": [
    "from collections import deque\n",
    "q = deque()\n",
    "for i in range(5):\n",
    "    q.append(i)\n",
    "\n",
    "while q:                 # solange die Schlange nicht leer\n",
    "    x = q.popleft()      # hole das erste Element\n",
    "    print(x)             # und kümmere dich darum"
   ]
  },
  {
   "cell_type": "markdown",
   "metadata": {},
   "source": [
    "#### Heap"
   ]
  },
  {
   "cell_type": "raw",
   "metadata": {},
   "source": [
    "from heapq import heapify, heappop, heappush\n",
    "h = []                       # ein leerer (Min-) Heap\n",
    "a = [5,2,8,12,9]\n",
    "heapify(a)                   # Laufzeit O(n), a wird zu einem heap umgruppiert.\n",
    "\n",
    "x = 3\n",
    "heappush(h,x)                # Laufzeit O(log(n)), 3 kommt auf den heap und sickert an die richtige Stelle\n",
    "x = heappop(h)               # Laufzeit O(log(n)), das kleinste Element wird aus dem heap entfernt und der heap wird reorganisiert."
   ]
  },
  {
   "cell_type": "code",
   "execution_count": 18,
   "metadata": {},
   "outputs": [
    {
     "name": "stdout",
     "output_type": "stream",
     "text": [
      "[2, 5, 8, 12, 9]\n",
      "[2, 5, 3, 12, 9, 8]\n",
      "2\n",
      "[3, 5, 8, 12, 9]\n"
     ]
    }
   ],
   "source": [
    "from heapq import heapify, heappop, heappush\n",
    "a = [5,2,8,12,9]\n",
    "heapify(a)\n",
    "print(a)\n",
    "heappush(a,3)\n",
    "print(a)\n",
    "x = heappop(a)\n",
    "print(x)\n",
    "print(a)"
   ]
  },
  {
   "cell_type": "code",
   "execution_count": 20,
   "metadata": {},
   "outputs": [
    {
     "name": "stdout",
     "output_type": "stream",
     "text": [
      "2\n",
      "5\n",
      "8\n",
      "9\n",
      "12\n"
     ]
    }
   ],
   "source": [
    "from heapq import heapify, heappop, heappush\n",
    "a = [5,2,8,12,9]\n",
    "heapify(a)\n",
    "while a:                # solange der Heap nicht leer\n",
    "    x = heappop(a)      # hole das kleinste Element\n",
    "    print(x)            # und kümmere dich daraum"
   ]
  },
  {
   "cell_type": "markdown",
   "metadata": {},
   "source": [
    "#### Beispiel: Verzeichnisbaum"
   ]
  },
  {
   "cell_type": "raw",
   "metadata": {},
   "source": [
    "import os\n",
    "#start = r'd:\\data'\n",
    "start = os.path.expanduser('~')\n",
    "stack = [start]\n",
    "dateiliste = []\n",
    "\n",
    "while stack:\n",
    "    x = stack.pop()\n",
    "    try:\n",
    "        if os.path.isfile(x):\n",
    "            if x.endswith('.pdf'):              # nur pdf-Dateien\n",
    "                dateiliste.append(x+'\\n')\n",
    "        if os.path.isdir(x) and not os.path.islink(x):\n",
    "            a = os.listdir(x)\n",
    "            a.reverse()                         # reihenfolge für stack\n",
    "            for e in a:\n",
    "                stack.append(x+'/'+e)\n",
    "    except PermissionError:                     # auch symlinks\n",
    "        print('keine Berechtigung für' + x)\n",
    "\n",
    "homedir = os.path.expanduser('~')\n",
    "ausgabedatei = homedir+'/verzeichnisbaum.txt'\n",
    "with open(ausgabedatei,'w') as f:\n",
    "    f.writelines(dateiliste)\n",
    "\n",
    "os.startfile(ausgabedatei)"
   ]
  },
  {
   "cell_type": "code",
   "execution_count": null,
   "metadata": {},
   "outputs": [],
   "source": []
  }
 ],
 "metadata": {
  "kernelspec": {
   "display_name": "Python 3",
   "language": "python",
   "name": "python3"
  },
  "language_info": {
   "codemirror_mode": {
    "name": "ipython",
    "version": 3
   },
   "file_extension": ".py",
   "mimetype": "text/x-python",
   "name": "python",
   "nbconvert_exporter": "python",
   "pygments_lexer": "ipython3",
   "version": "3.6.5"
  }
 },
 "nbformat": 4,
 "nbformat_minor": 2
}
