{
 "cells": [
  {
   "cell_type": "markdown",
   "metadata": {},
   "source": [
    "#### Mathe Wahlteil 2018 Stochastik\n",
    "\n",
    "### C1.1  "
   ]
  },
  {
   "cell_type": "markdown",
   "metadata": {},
   "source": [
    "Ein Unternehmen stellt Kunststoffteile her. Erfahrungsgemäß sind 4% der hergestellten Teile fehlerhaft. Die Anzahl fehlerhafter Teile unter zufällig ausgewählten kann als binomialverteilt angenommen werden.\n",
    "\n",
    "**a.** (1.5 VP) 800 Kunststoffteile werden zufällig ausgewählt. Berechnen Sie für die folgenden Ereignisse jeweils die Wahrscheinlichkeit: <br>\n",
    "A: Genau 30 Teile sind fehlerhaft <br>\n",
    "B: Mindestens 5% der Teile sind fehlerhaft \n"
   ]
  },
  {
   "cell_type": "code",
   "execution_count": 86,
   "metadata": {},
   "outputs": [],
   "source": [
    "from scipy.stats import binom"
   ]
  },
  {
   "cell_type": "code",
   "execution_count": 83,
   "metadata": {},
   "outputs": [
    {
     "data": {
      "text/plain": [
       "0.06927614736414749"
      ]
     },
     "execution_count": 83,
     "metadata": {},
     "output_type": "execute_result"
    }
   ],
   "source": [
    "# A: Genau 30 Teile sind fehlerhaft \n",
    "b = binom(800,0.04)\n",
    "b.pmf(30)              #  BinomPD"
   ]
  },
  {
   "cell_type": "code",
   "execution_count": 87,
   "metadata": {},
   "outputs": [
    {
     "data": {
      "text/plain": [
       "0.09116490099014918"
      ]
     },
     "execution_count": 87,
     "metadata": {},
     "output_type": "execute_result"
    }
   ],
   "source": [
    "# B: Mindestens 5% der Teile sind fehlerhaft\n",
    "b = binom(800,0.04)\n",
    "1 - b.cdf(39)           "
   ]
  },
  {
   "cell_type": "markdown",
   "metadata": {},
   "source": [
    "**b.** (2 VP) Ermitteln Sie, wie viele Kunststoffteile mindestens zufällig ausgewählt werden müssen, damit davon mit einer Wahrscheinlichkeit von 95% mindestens 100 keinen Fehler mehr haben."
   ]
  },
  {
   "cell_type": "code",
   "execution_count": 92,
   "metadata": {},
   "outputs": [
    {
     "name": "stdout",
     "output_type": "stream",
     "text": [
      "108\n"
     ]
    }
   ],
   "source": [
    "for n in range(100,800):\n",
    "    b = binom(n,0.96)         # Verteilung von n guten\n",
    "    if 1 - b.cdf(99) >= 0.95: # mehr als 100 gute\n",
    "        break\n",
    "print(n)\n"
   ]
  },
  {
   "cell_type": "markdown",
   "metadata": {},
   "source": [
    "**c.** (2.5 VP) Die Kunststoffteile werden aus einem Kunststoffgranulat hergestellt. Nach einem Wechsel des Granulats vermutet der Produktionsleiter, dass sich der Anteil der fehlerhaften Teile reduziert hat. Um einen Anhaltspunkt dafür zu gewinnen, ob die Vermutung gerechtfertigt ist, soll die Nullhypothese \"Der Anteil der fehlerhaften Teile beträgt mindestens 4%\" auf der Grundlage einer Stichprobe von 500 Teilen auf einem Signifikanzniveau von 5% getestet werden. Bestimmen Sie die zugehörige Entscheidungsregel."
   ]
  },
  {
   "cell_type": "markdown",
   "metadata": {},
   "source": [
    "**Merkhilfe**:\n",
    "Bei einem Signifikanznivea von 5% gilt:\n",
    "\n",
    "links: kleinste Zahl a, für die gilt $P(X \\le a) > 0.05 \\rightarrow \\text{Annahmebereich} = \\{a, ...\\}$   <br> \n",
    "rechts: kleinste Zahl a, für die gilt $P(X \\le a) > 0.95 \\rightarrow \\text{Annahmebereich} = \\{... a\\}$ "
   ]
  },
  {
   "cell_type": "markdown",
   "metadata": {},
   "source": [
    "Der Produktionsleiter will durch den Test signifikante Hinweise dafür finden, dass die fehlerhaften Teile weniger geworden sind. D.h. es ist ein linksseitiger Test."
   ]
  },
  {
   "cell_type": "code",
   "execution_count": 96,
   "metadata": {},
   "outputs": [
    {
     "name": "stdout",
     "output_type": "stream",
     "text": [
      "13\n"
     ]
    }
   ],
   "source": [
    "b = binom(500,0.04)\n",
    "for a in range(1,500):\n",
    "    if b.cdf(a) > 0.05:\n",
    "        break\n",
    "print(a)"
   ]
  },
  {
   "cell_type": "markdown",
   "metadata": {},
   "source": [
    "Wenn 13 oder mehr fehlerhafte gefunden werden, wird die Nullhypthese als angenommen."
   ]
  },
  {
   "cell_type": "markdown",
   "metadata": {},
   "source": [
    "### C1.2  "
   ]
  },
  {
   "cell_type": "markdown",
   "metadata": {},
   "source": [
    "Für ein Spiel wird ein Glücksrad verwendet, das drei Sektoren in den Farben rot, grün und blau hat. Für einen Einsatz von 5 Euro darf ein Spieler das Glücksrad dreimal drehen. Erzielt der Spieler dreimal die gleiche Farbe, werden ihm 10 Euro ausgezahlt. Erzielt er drei verschiedene Farben, wird ein anderer Betrag ausgezahlt. In allen anderen Fällen erfolgt keine Auszahlung. \n",
    "\n",
    "Die Wahrscheinlichkeit, das dreimal die gleiche Farbe erzielt wird, ist $\\frac{1}{6}$. Die Wahrscheinlichkeit dafür, dass drei verschiedene Farben erzielt werden, beträgt ebenfalls $\\frac{1}{6}$.\n",
    " \n",
    "**a.** Bei dem Spiel ist zu erwarten, dass sich die Einsätze der Spieler und die Auszahlungen auf lange Sicht ausgleichen. Berechnen Sie den Betrag, der ausgezahlt wird, wenn drei verschiedene Farben erscheinen."
   ]
  },
  {
   "cell_type": "code",
   "execution_count": 106,
   "metadata": {},
   "outputs": [
    {
     "data": {
      "text/plain": [
       "[20]"
      ]
     },
     "execution_count": 106,
     "metadata": {},
     "output_type": "execute_result"
    }
   ],
   "source": [
    "from sympy import symbols, Rational\n",
    "from sympy.solvers import solve\n",
    "x = symbols('x')\n",
    "solve(Rational(1,6) * 10 + Rational(1,6) * x - 5,x)   # löst die = 0 Gleichung"
   ]
  },
  {
   "cell_type": "markdown",
   "metadata": {},
   "source": [
    "Die ursprünglichen Größen der Sektoren werden geändert. Dabei soll der Mittelpunktswinkel des blauen Sektors größer als 180° werden. Die Abbildung zeigt einen Teil eines Baumdiagramms, das für das geänderte Glücksrad zwei Drehungen beschreibt. Ergänzend ist für einen Pfad die zugehörige Wahrscheinlichkeit angegeben. Bestimmen Sie die Weite des zum blauen Sektor gehörenden Mittelpunktswinkels."
   ]
  },
  {
   "cell_type": "code",
   "execution_count": 125,
   "metadata": {},
   "outputs": [
    {
     "data": {
      "text/plain": [
       "[-3*p + 1]"
      ]
     },
     "execution_count": 125,
     "metadata": {},
     "output_type": "execute_result"
    }
   ],
   "source": [
    "p, b  = symbols('p b')\n",
    "solve(2 * p + p + b - 1,b)"
   ]
  },
  {
   "cell_type": "code",
   "execution_count": 127,
   "metadata": {},
   "outputs": [
    {
     "data": {
      "text/plain": [
       "[1/8, 5/24]"
      ]
     },
     "execution_count": 127,
     "metadata": {},
     "output_type": "execute_result"
    }
   ],
   "source": [
    "b = -3*p + 1\n",
    "solve(2 * p * b - Rational(5,32),p)"
   ]
  },
  {
   "cell_type": "code",
   "execution_count": 130,
   "metadata": {},
   "outputs": [
    {
     "data": {
      "text/plain": [
       "(0.625, 0.375)"
      ]
     },
     "execution_count": 130,
     "metadata": {},
     "output_type": "execute_result"
    }
   ],
   "source": [
    "1 - 3*1/8, 1 - 3 * 5/24"
   ]
  },
  {
   "cell_type": "code",
   "execution_count": 131,
   "metadata": {},
   "outputs": [
    {
     "data": {
      "text/plain": [
       "225.0"
      ]
     },
     "execution_count": 131,
     "metadata": {},
     "output_type": "execute_result"
    }
   ],
   "source": [
    "0.625 * 360"
   ]
  },
  {
   "cell_type": "markdown",
   "metadata": {},
   "source": [
    "### C2 (\n"
   ]
  },
  {
   "cell_type": "code",
   "execution_count": null,
   "metadata": {},
   "outputs": [],
   "source": []
  }
 ],
 "metadata": {
  "kernelspec": {
   "display_name": "Python 3",
   "language": "python",
   "name": "python3"
  },
  "language_info": {
   "codemirror_mode": {
    "name": "ipython",
    "version": 3
   },
   "file_extension": ".py",
   "mimetype": "text/x-python",
   "name": "python",
   "nbconvert_exporter": "python",
   "pygments_lexer": "ipython3",
   "version": "3.6.5"
  }
 },
 "nbformat": 4,
 "nbformat_minor": 2
}
