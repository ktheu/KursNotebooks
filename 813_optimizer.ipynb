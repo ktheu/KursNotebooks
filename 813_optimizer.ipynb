{
 "cells": [
  {
   "cell_type": "markdown",
   "metadata": {},
   "source": [
    "## Optimizer\n",
    "\n",
    "#### Gradient Descent with Momentum\n",
    "\n",
    "Die Lernrate bekommt in jede Richtung eine andere \"Beschleunigung\", je nachdem, wie die Durchschnittsgeschwindigkeit z.B. der letzten 10 Bewegungen war.\n",
    "\n",
    "<img src=\"./img/optimizer01.png\" width=\"400\">"
   ]
  },
  {
   "cell_type": "markdown",
   "metadata": {},
   "source": [
    "#### RMSprop\n",
    "\n",
    "RMSprop (Root-Mean-Square Propagation) versucht wie Momentum, die Lernrate in den Richtungen, die nicht so eine einen hohe durchschnittliche Geschwindigkeit entwickeln, zu dämpfen. Bei der Implementation wird dabei ein Term mit einer Quadratwurzel benutzt.\n",
    "\n",
    "#### Adam\n",
    "\n",
    "Adam (Adaptive Momentum) verbindet Elemente von Gradient Descent with Momentum und RMSprop. Adam hat sich in vielen Anwendungsbeispielen als sehr gut herausgestellt.\n",
    "\n"
   ]
  },
  {
   "cell_type": "code",
   "execution_count": null,
   "metadata": {},
   "outputs": [],
   "source": []
  }
 ],
 "metadata": {
  "kernelspec": {
   "display_name": "Python 3",
   "language": "python",
   "name": "python3"
  },
  "language_info": {
   "codemirror_mode": {
    "name": "ipython",
    "version": 3
   },
   "file_extension": ".py",
   "mimetype": "text/x-python",
   "name": "python",
   "nbconvert_exporter": "python",
   "pygments_lexer": "ipython3",
   "version": "3.7.4"
  }
 },
 "nbformat": 4,
 "nbformat_minor": 4
}
