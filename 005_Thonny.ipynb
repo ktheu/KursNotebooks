{
 "cells": [
  {
   "cell_type": "markdown",
   "metadata": {},
   "source": [
    "# Thonny\n",
    "\n",
    "Eine Entwicklungsumgebung (IDE = integrated development environment) ist ein Programm, das beim Erstellen, Ausführen und Testen von\n",
    "Programmen hilft. __[Thonny](https://thonny.org/)__ ist eine Python IDE für Programmieranfänger. \n",
    "\n",
    "Durch die Installation wird eine Version von Python 3 mit installiert.   Thonny öffnet sich mit einem Fenster für Programmcode und einer shell."
   ]
  },
  {
   "cell_type": "markdown",
   "metadata": {},
   "source": [
    "### Debug-Modus\n",
    "\n",
    "Thonny hat einen einfach zu bediendenden Debug-Modus, der hilft Fehler zu finden und den Ablauf des Programms zu verstehen.\n",
    "Gehe die folgenden Programme im Debug-Modus durch. Aktiviere das *Variables*-Fenster. "
   ]
  },
  {
   "cell_type": "markdown",
   "metadata": {},
   "source": [
    "#### Zuweisungen"
   ]
  },
  {
   "cell_type": "code",
   "execution_count": null,
   "metadata": {},
   "outputs": [],
   "source": [
    "# Werte verändern\n",
    "x = 5\n",
    "x = x + 2\n",
    "\n",
    "# auswertungsreihenfolge\n",
    "a = 4+2*3**2/4\n",
    "b = 8%2*3\n",
    "c = 2**3**2\n",
    "\n",
    "# zuweisung\n",
    "pi = 3.1415\n",
    "radius = 2.2\n",
    "flaeche = pi*(radius**2)\n",
    "print(flaeche)"
   ]
  },
  {
   "cell_type": "code",
   "execution_count": null,
   "metadata": {},
   "outputs": [],
   "source": [
    "# boolesche Werte\n",
    "i = 5\n",
    "j = 7\n",
    "i > j\n",
    "a = i > j\n",
    "b = i != j\n",
    "\n",
    "c = True\n",
    "d = False\n",
    "e = c and d\n",
    "f = c or d\n",
    "\n",
    "a = 2\n",
    "b = 3\n",
    "c = (a * b > a + b) and (a % 2 == 0)"
   ]
  },
  {
   "cell_type": "markdown",
   "metadata": {},
   "source": [
    "#### Bedingte Anweisungen"
   ]
  },
  {
   "cell_type": "code",
   "execution_count": null,
   "metadata": {},
   "outputs": [],
   "source": [
    "x = int(input('Eingabe: '))\n",
    "\n",
    "if x >= 30:\n",
    "    antwort = 'heiß' \n",
    "elif x >= 15:\n",
    "    antwort = 'warm'\n",
    "else:\n",
    "    antwort = 'kalt'\n",
    "    \n",
    "print(\"Es ist\",antwort)"
   ]
  },
  {
   "cell_type": "markdown",
   "metadata": {},
   "source": [
    "#### while-Schleife"
   ]
  },
  {
   "cell_type": "code",
   "execution_count": null,
   "metadata": {},
   "outputs": [],
   "source": [
    "x = 7\n",
    "while x >= 0:\n",
    "    print(x)\n",
    "    x -= 2\n",
    "\n",
    "print(x)\n",
    "print('Fertig')"
   ]
  },
  {
   "cell_type": "markdown",
   "metadata": {},
   "source": [
    "#### for-Schleife\n",
    "\n",
    "Hinweis: besteht der Rumpf der for-Schleife nur aus einer Anweisung, funktioniert das step-into in der Version 2 von Thonny nicht richtig. Dann als letzte\n",
    "Anweisung noch *pass* einfügen:\n"
   ]
  },
  {
   "cell_type": "code",
   "execution_count": null,
   "metadata": {},
   "outputs": [],
   "source": [
    "for i in range(4):\n",
    "    k = i * i\n",
    "    print(k)\n",
    "print(\"Ende\",i,k)"
   ]
  },
  {
   "cell_type": "code",
   "execution_count": 3,
   "metadata": {},
   "outputs": [
    {
     "name": "stdout",
     "output_type": "stream",
     "text": [
      "H a l l o \n",
      "Ende 4 o\n"
     ]
    }
   ],
   "source": [
    "s = \"Hallo\"\n",
    "for i in range(len(s)):\n",
    "    c = s[i]\n",
    "    print(c,end=' ')\n",
    "    \n",
    "print()                \n",
    "print(\"Ende\",i,c)"
   ]
  },
  {
   "cell_type": "code",
   "execution_count": 7,
   "metadata": {},
   "outputs": [
    {
     "name": "stdout",
     "output_type": "stream",
     "text": [
      "H a l l o \n",
      "Ende o\n"
     ]
    }
   ],
   "source": [
    "s = \"Hallo\"\n",
    "for c in s:\n",
    "    print(c, end=' ')\n",
    "print()\n",
    "print(\"Ende\",c)"
   ]
  },
  {
   "cell_type": "markdown",
   "metadata": {},
   "source": [
    "#### Funktionen"
   ]
  },
  {
   "cell_type": "code",
   "execution_count": null,
   "metadata": {},
   "outputs": [],
   "source": [
    "def aufsum(x, y):\n",
    "    summe = 0\n",
    "    while x <= y:\n",
    "        summe += x\n",
    "        x += 1             \n",
    "    return summe\n",
    "\n",
    "x = 4\n",
    "z = 6\n",
    "y = aufsum(x, z)\n",
    "print(x,y,z)\n"
   ]
  }
 ],
 "metadata": {
  "kernelspec": {
   "display_name": "Python 3",
   "language": "python",
   "name": "python3"
  },
  "language_info": {
   "codemirror_mode": {
    "name": "ipython",
    "version": 3
   },
   "file_extension": ".py",
   "mimetype": "text/x-python",
   "name": "python",
   "nbconvert_exporter": "python",
   "pygments_lexer": "ipython3",
   "version": "3.6.5"
  }
 },
 "nbformat": 4,
 "nbformat_minor": 2
}
