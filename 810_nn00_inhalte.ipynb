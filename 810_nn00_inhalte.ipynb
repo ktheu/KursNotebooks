{
 "cells": [
  {
   "cell_type": "markdown",
   "metadata": {},
   "source": [
    "## Neuronale Netze"
   ]
  },
  {
   "cell_type": "markdown",
   "metadata": {},
   "source": [
    "Teil 1\n",
    "\n",
    "\n",
    "1. Problemstellung Klassifikation. Ein Punkt soll (durch eine Funktion / Programm) zwei möglichen Klassen zugeordnet werden. Es stehen Beispiele bereits klassifizierter Punkte zur Verfügung\n",
    "\n",
    "2. Ein Bild soll einer von zwei möglichen Klassen zugeordnet werden. Es stehen Beispiele bereits klassifizierter Bilder zur Verfügung (Katzen).\n"
   ]
  },
  {
   "cell_type": "markdown",
   "metadata": {},
   "source": [
    "Teil 2"
   ]
  },
  {
   "cell_type": "markdown",
   "metadata": {},
   "source": [
    "1. Perceptron und Neuron für die OR-Funktion\n",
    "\n",
    "2. Netz mit 1 hidden Layer for die XOR-Funktion\n",
    "\n",
    "3. Am Beispiel Forward/Backward Propagation mit Taschenrechner rechnen"
   ]
  },
  {
   "cell_type": "markdown",
   "metadata": {},
   "source": [
    "Teil 3\n",
    "\n",
    "1. Die Beispiele von Teil 2 mit PyTorch\n",
    "\n",
    "2. Bilderkennung mit Pytorch\n",
    "\n",
    "\n",
    "\n"
   ]
  },
  {
   "cell_type": "markdown",
   "metadata": {},
   "source": [
    "Teil 4\n",
    "\n",
    "Die Aufgaben des letzten Bundeswettbewerbs KI\n"
   ]
  },
  {
   "cell_type": "code",
   "execution_count": null,
   "metadata": {},
   "outputs": [],
   "source": []
  }
 ],
 "metadata": {
  "kernelspec": {
   "display_name": "Python 3",
   "language": "python",
   "name": "python3"
  },
  "language_info": {
   "codemirror_mode": {
    "name": "ipython",
    "version": 3
   },
   "file_extension": ".py",
   "mimetype": "text/x-python",
   "name": "python",
   "nbconvert_exporter": "python",
   "pygments_lexer": "ipython3",
   "version": "3.7.5"
  }
 },
 "nbformat": 4,
 "nbformat_minor": 4
}
