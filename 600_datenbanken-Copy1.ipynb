{
 "cells": [
  {
   "cell_type": "markdown",
   "metadata": {},
   "source": [
    "# Datenbanken in Python \n",
    "\n",
    "[SQLite-Docu](https://www.sqlite.org/lang.html) <br>\n",
    "Web-Client: [Sqlite Browser](https://sqliteonline.com/)    <br>\n",
    "Lokaler-Client: [DB Browser for SQLite](https://sqlitebrowser.org/)"
   ]
  },
  {
   "cell_type": "markdown",
   "metadata": {},
   "source": [
    "#### Tabellen anlegen und mit Daten füllen"
   ]
  },
  {
   "cell_type": "code",
   "execution_count": 2,
   "metadata": {},
   "outputs": [],
   "source": [
    "import sqlite3 as sq"
   ]
  },
  {
   "cell_type": "code",
   "execution_count": 8,
   "metadata": {},
   "outputs": [],
   "source": [
    "# Eine Verbindung zur Datenbank aufbauen. \n",
    "# Die Datei wird neu angelegt, falls sie noch nicht existiert\n",
    "connection = sq.connect(\"lagerverwaltung.db\")       \n",
    "connection.close()"
   ]
  },
  {
   "cell_type": "code",
   "execution_count": 3,
   "metadata": {},
   "outputs": [],
   "source": [
    "# Eine Datenbank anlegen, ohne sie abzuspeichern\n",
    "connection = sq.connect(\":memory:\")       \n",
    "connection.close()"
   ]
  },
  {
   "cell_type": "markdown",
   "metadata": {},
   "source": [
    "Um mit einer verbunden Datenbank zu arbeiten, wird ein Cursor benötigt. Den kann man sich als einen Zeiger auf die aktuelle Bearbeitungsposition vorstellen. Es kann mehrere Cursor geben.\n",
    "\n",
    "SQL-Anweisungen sind nicht case-sensitiv. Es ist aber üblich, SQL Schlüsselworte mit Großbuchstaben zu schreiben.\n",
    "\n",
    "Beim Anlegen einer Tabelle muss der Datentyp der festgelegt werden.\n",
    "\n",
    "Python - Sqlite3\n",
    "* None - NULL\n",
    "* int - INTEGER\n",
    "* float - REAL\n",
    "* str - TEXT\n",
    "* bytes - BLOB"
   ]
  },
  {
   "cell_type": "code",
   "execution_count": null,
   "metadata": {},
   "outputs": [],
   "source": [
    "# Tabellen in einer Datenbank anlegen\n",
    "connection = sq.connect(\"lagerverwaltung.db\")  \n",
    "cursor = connection.cursor()\n",
    "cursor.execute(\"\"\"\n",
    "CREATE TABLE lager (fachnummer INTEGER, seriennummer INTEGER,\n",
    "komponente TEXT, lieferant TEXT, reserviert INTEGER)\n",
    "\"\"\")\n",
    "\n",
    "cursor.execute(\"\"\"\n",
    "CREATE TABLE lieferanten (kurzname TEXT, name TEXT, telefonnummer TEXT)\n",
    "\"\"\")\n",
    "\n",
    "cursor.execute(\n",
    "\"\"\"CREATE TABLE kunden (kundennummer INTEGER, name TEXT, anschrift TEXT)\n",
    "\"\"\")\n",
    "connection.close()\n"
   ]
  },
  {
   "cell_type": "code",
   "execution_count": 7,
   "metadata": {},
   "outputs": [],
   "source": [
    "# Daten in eine Tabelle einfügen\n",
    "connection = sq.connect(\"lagerverwaltung.db\")  \n",
    "cursor = connection.cursor()\n",
    "cursor.execute(\"\"\"\n",
    "INSERT INTO lager VALUES (1, 26071987, 'Grafikkarte Typ 1', 'FC', 0)\n",
    "\"\"\")\n",
    "connection.commit()    # erst durch commit werden die Daten \n",
    "connection.close()"
   ]
  },
  {
   "cell_type": "markdown",
   "metadata": {},
   "source": [
    "**Transaktionen** sind Ketten von Operationen, die vollständig ausgeführt werden müssen, damit\n",
    "die Konsistenz der Datenbank erhalten bleibt. Um die Datenbank transaktionssicher zu machen, werden kritische Anweisungen\n",
    "mit einer try-except-Anweisung umgeben. Der **rollback** macht alles bis zum letzten **commit** rückgängig."
   ]
  },
  {
   "cell_type": "code",
   "execution_count": 8,
   "metadata": {},
   "outputs": [],
   "source": [
    "# Transaktionssicherheit\n",
    "connection = sq.connect(\"lagerverwaltung.db\")  \n",
    "try:\n",
    "    cursor = connection.cursor()\n",
    "    cursor.execute(\"\"\"\n",
    "    INSERT INTO lager VALUES (1, 26071997, 'Grafikkarte Typ 2', 'FC', 0)\n",
    "    \"\"\")\n",
    "    # Hier können weitere Datenbankmanipulationen stehen\n",
    "    connection.commit()\n",
    "except:\n",
    "    print(\"Ein Problem trat auf -> Rollback\")\n",
    "    connection.rollback()\n",
    "connection.close()"
   ]
  },
  {
   "cell_type": "markdown",
   "metadata": {},
   "source": [
    "Häufig ist es einfacher, die einzufügenden Daten unabhängig vom SQL-Statement zu generieren.\n"
   ]
  },
  {
   "cell_type": "code",
   "execution_count": 9,
   "metadata": {},
   "outputs": [],
   "source": [
    "connection = sq.connect(\"lagerverwaltung.db\")  \n",
    "cursor = connection.cursor()\n",
    "\n",
    "daten = (\"DR\", \"Danger Electronics\",\"666\") \n",
    "sql = \"INSERT INTO lieferanten VALUES (?,?,?)\"\n",
    "cursor.execute(sql,daten)\n",
    "\n",
    "connection.commit()     \n",
    "connection.close()"
   ]
  },
  {
   "cell_type": "markdown",
   "metadata": {},
   "source": [
    "Wir füllen die Tabelle lager neu:"
   ]
  },
  {
   "cell_type": "code",
   "execution_count": 17,
   "metadata": {},
   "outputs": [],
   "source": [
    "daten = \\\n",
    "((1, \"2607871987\", \"Grafikkarte Typ 1\", \"FC\", 0),\n",
    "(2, \"19870109\", \"Prozessor Typ 13\", \"LPE\", 57),\n",
    "(10, \"06198823\", \"Netzteil Typ 3\", \"FC\", 0),\n",
    "(25, \"11198703\", \"LED-Lüfter\", \"FC\", 57),\n",
    "(26, \"19880105\", \"Festplatte 128 GB\", \"LPE\", 12))\n",
    "\n",
    "connection = sq.connect(\"lagerverwaltung.db\")  \n",
    "cursor = connection.cursor()\n",
    "cursor.execute(\"DROP TABLE IF EXISTS lager\")\n",
    "cursor.execute(\"\"\"\n",
    "CREATE TABLE lager (fachnummer INTEGER, seriennummer INTEGER,\n",
    "komponente TEXT, lieferant TEXT, reserviert INTEGER)\n",
    "\"\"\")\n",
    "\n",
    "for d in daten:\n",
    "    sql = \"INSERT INTO lager VALUES (?,?,?,?,?)\"\n",
    "    cursor.execute(sql,d)\n",
    "\n",
    "connection.commit()\n",
    "connection.close()"
   ]
  },
  {
   "cell_type": "markdown",
   "metadata": {},
   "source": [
    "Die Methode **executemany** ist schneller als das INSERT in der Schleife. **Dies ist unsere bevorzugte Art, eine Tabelle mit Daten zu füllen:**"
   ]
  },
  {
   "cell_type": "code",
   "execution_count": 21,
   "metadata": {},
   "outputs": [],
   "source": [
    "lieferanten = \\\n",
    "((\"FC\", \"FiboComputing Inc.\", \"011235813\"),\n",
    "(\"LPE\", \"LettgenPetersErnesti\", \"026741337\"),\n",
    "(\"GC\", \"Golden Computers\", \"016180339\"))\n",
    "\n",
    "kunden = \\\n",
    "((12, \"Heinz Elhurg\",\"Turnhallenstr. 1, 3763 Sporthausen\"),\n",
    "(57, \"Markus Altbert\",\"Kämperweg 24, 2463 Duisschloss\"),\n",
    "(64, \"Steve Apple\",\"Podmacstr 2, 7467 Iwarhausen\"))\n",
    "\n",
    "connection = sq.connect(\"lagerverwaltung.db\")  \n",
    "cursor = connection.cursor()\n",
    "\n",
    "cursor.execute(\"DROP TABLE IF EXISTS lieferanten\")\n",
    "cursor.execute(\"DROP TABLE IF EXISTS kunden\")\n",
    "\n",
    "cursor.execute(\"\"\"\n",
    "CREATE TABLE lieferanten (kurzname TEXT, name TEXT, telefonnummer TEXT)\n",
    "\"\"\")\n",
    "\n",
    "cursor.execute(\"\"\"\n",
    "CREATE TABLE kunden (kundennummer INTEGER, name TEXT, anschrift TEXT)\n",
    "\"\"\")\n",
    "\n",
    "cursor.executemany(\"INSERT INTO lieferanten VALUES (?,?,?)\",lieferanten)\n",
    "cursor.executemany(\"INSERT INTO kunden VALUES (?,?,?)\",kunden)\n",
    "\n",
    "connection.commit()\n",
    "connection.close()"
   ]
  },
  {
   "cell_type": "markdown",
   "metadata": {},
   "source": [
    "#### Abfragen\n",
    "\n",
    "Das Resultat von **fetchall** ist eine Liste von Tupel."
   ]
  },
  {
   "cell_type": "code",
   "execution_count": 26,
   "metadata": {},
   "outputs": [
    {
     "name": "stdout",
     "output_type": "stream",
     "text": [
      "[(1, 'Grafikkarte Typ 1'), (2, 'Prozessor Typ 13'), (10, 'Netzteil Typ 3'), (25, 'LED-Lüfter'), (26, 'Festplatte 128 GB')]\n"
     ]
    }
   ],
   "source": [
    "connection = sq.connect(\"lagerverwaltung.db\")  \n",
    "cursor = connection.cursor()\n",
    "\n",
    "sql = \"SELECT fachnummer, komponente FROM lager\"\n",
    "\n",
    "cursor.execute(sql)\n",
    "data = cursor.fetchall()\n",
    "connection.close()\n",
    "print(data)\n"
   ]
  },
  {
   "cell_type": "markdown",
   "metadata": {},
   "source": [
    "Mit der **WHERE**-Klausel können wir Bedingungen formulieren."
   ]
  },
  {
   "cell_type": "code",
   "execution_count": 23,
   "metadata": {},
   "outputs": [
    {
     "name": "stdout",
     "output_type": "stream",
     "text": [
      "[(1, 'Grafikkarte Typ 1'), (10, 'Netzteil Typ 3')]\n"
     ]
    }
   ],
   "source": [
    "connection = sq.connect(\"lagerverwaltung.db\")  \n",
    "cursor = connection.cursor()\n",
    "\n",
    "sql = \"SELECT fachnummer, komponente FROM lager WHERE reserviert = 0\"\n",
    "\n",
    "cursor.execute(sql)\n",
    "data = cursor.fetchall()\n",
    "connection.close()\n",
    "print(data)"
   ]
  },
  {
   "cell_type": "markdown",
   "metadata": {},
   "source": [
    "Komplexe Bedingungen können mit **AND** und **OR** formuliert werden"
   ]
  },
  {
   "cell_type": "code",
   "execution_count": 25,
   "metadata": {},
   "outputs": [
    {
     "name": "stdout",
     "output_type": "stream",
     "text": [
      "[(25, 'LED-Lüfter')]\n"
     ]
    }
   ],
   "source": [
    "connection = sq.connect(\"lagerverwaltung.db\")  \n",
    "cursor = connection.cursor()\n",
    "\n",
    "sql = \"SELECT fachnummer, komponente FROM lager WHERE reserviert!=0 AND lieferant='FC'\"\n",
    "\n",
    "cursor.execute(sql)\n",
    "data = cursor.fetchall()\n",
    "connection.close()\n",
    "print(data)"
   ]
  },
  {
   "cell_type": "markdown",
   "metadata": {},
   "source": [
    "Mit dem * erhält man alle Datenfelder"
   ]
  },
  {
   "cell_type": "code",
   "execution_count": 27,
   "metadata": {},
   "outputs": [
    {
     "name": "stdout",
     "output_type": "stream",
     "text": [
      "[(12, 'Heinz Elhurg', 'Turnhallenstr. 1, 3763 Sporthausen'), (57, 'Markus Altbert', 'Kämperweg 24, 2463 Duisschloss'), (64, 'Steve Apple', 'Podmacstr 2, 7467 Iwarhausen')]\n"
     ]
    }
   ],
   "source": [
    "connection = sq.connect(\"lagerverwaltung.db\")  \n",
    "cursor = connection.cursor()\n",
    "\n",
    "sql = \"SELECT * FROM kunden\"\n",
    "\n",
    "cursor.execute(sql)\n",
    "data = cursor.fetchall()\n",
    "connection.close()\n",
    "print(data)"
   ]
  },
  {
   "cell_type": "markdown",
   "metadata": {},
   "source": [
    "Bei Abfragen über mehrere Tabellen nutzen wir die Punkt-Notation"
   ]
  },
  {
   "cell_type": "code",
   "execution_count": 28,
   "metadata": {},
   "outputs": [
    {
     "name": "stdout",
     "output_type": "stream",
     "text": [
      "[(1, 'Grafikkarte Typ 1', 'FiboComputing Inc.'), (10, 'Netzteil Typ 3', 'FiboComputing Inc.'), (25, 'LED-Lüfter', 'FiboComputing Inc.')]\n"
     ]
    }
   ],
   "source": [
    "connection = sq.connect(\"lagerverwaltung.db\")  \n",
    "cursor = connection.cursor()\n",
    "\n",
    "sql = \"\"\"\n",
    "SELECT lager.fachnummer, lager.komponente, lieferanten.name\n",
    "FROM lager, lieferanten\n",
    "WHERE lieferanten.telefonnummer='011235813' AND\n",
    "lager.lieferant=lieferanten.kurzname \n",
    "\"\"\" \n",
    "\n",
    "cursor.execute(sql)\n",
    "data = cursor.fetchall()\n",
    "connection.close()\n",
    "print(data)"
   ]
  },
  {
   "cell_type": "markdown",
   "metadata": {},
   "source": [
    "Liefert eine Abfrage sehr große Datenmengen, dann kann das Resultat von fetchall zu Speicherproblemen führen. \n",
    "Wir können die Datensätze des Resultats auch mit einer for-Schleife über den cursor erhalten."
   ]
  },
  {
   "cell_type": "code",
   "execution_count": 30,
   "metadata": {},
   "outputs": [
    {
     "name": "stdout",
     "output_type": "stream",
     "text": [
      "(12, 'Heinz Elhurg', 'Turnhallenstr. 1, 3763 Sporthausen')\n",
      "(57, 'Markus Altbert', 'Kämperweg 24, 2463 Duisschloss')\n",
      "(64, 'Steve Apple', 'Podmacstr 2, 7467 Iwarhausen')\n"
     ]
    }
   ],
   "source": [
    "connection = sq.connect(\"lagerverwaltung.db\")  \n",
    "cursor = connection.cursor()\n",
    "\n",
    "sql = \"SELECT * FROM kunden\"\n",
    "\n",
    "cursor.execute(sql)\n",
    "for zeile in cursor:\n",
    "    print(zeile)\n",
    "connection.close()\n"
   ]
  }
 ],
 "metadata": {
  "kernelspec": {
   "display_name": "Python 3",
   "language": "python",
   "name": "python3"
  },
  "language_info": {
   "codemirror_mode": {
    "name": "ipython",
    "version": 3
   },
   "file_extension": ".py",
   "mimetype": "text/x-python",
   "name": "python",
   "nbconvert_exporter": "python",
   "pygments_lexer": "ipython3",
   "version": "3.6.5"
  }
 },
 "nbformat": 4,
 "nbformat_minor": 2
}
