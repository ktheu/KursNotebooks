{
 "cells": [
  {
   "cell_type": "markdown",
   "metadata": {},
   "source": [
    "<a href='https://mattmazur.com/2015/03/17/a-step-by-step-backpropagation-example/'> Beispiel nachvollziehen </a>"
   ]
  },
  {
   "cell_type": "code",
   "execution_count": 103,
   "metadata": {},
   "outputs": [],
   "source": [
    "import math\n",
    "class Neuron:\n",
    "    def __init__(self,w1,w2,b):\n",
    "        self.w1 = w1\n",
    "        self.w2 = w2\n",
    "        self.b = b\n",
    "    \n",
    "    def forward(self, x1, x2):\n",
    "        z = self.w1 * x1 + self.w2 * x2 + self.b\n",
    "        a = 1/(1+math.exp(-1.0*z))\n",
    "        self.db = a *(1-a)\n",
    "        self.dw1 = x1 * self.db\n",
    "        self.dw2 = x2 * self.db\n",
    "        self.dx1 = self.w1 * self.db\n",
    "        self.dx2 = self.w2 * self.db\n",
    "        return a\n"
   ]
  },
  {
   "cell_type": "code",
   "execution_count": 112,
   "metadata": {},
   "outputs": [
    {
     "data": {
      "text/plain": [
       "(0.1497807161327628,\n",
       " 0.19956143226552567,\n",
       " 0.24975114363236958,\n",
       " 0.29950228726473915,\n",
       " 0.35891647971788465,\n",
       " 0.4086661860762334,\n",
       " 0.5113012702387375,\n",
       " 0.5613701211079891)"
      ]
     },
     "execution_count": 112,
     "metadata": {},
     "output_type": "execute_result"
    }
   ],
   "source": [
    "w1, w2, w3, w4, w5, w6, w7, w8 = 0.15, 0.2, 0.25, 0.3, 0.4, 0.45, 0.5, 0.55\n",
    "b1, b2 = 0.35, 0.6\n",
    "\n",
    "y1, y2 = .01, .99\n",
    "x1, x2 = 0.05, 0.1\n",
    "\n",
    "h1 = Neuron(w1,w2,b1)\n",
    "h2 = Neuron(w3,w4,b1)\n",
    "o1 = Neuron(w5,w6,b2)\n",
    "o2 = Neuron(w7,w8,b2)\n",
    "\n",
    "class Netz:\n",
    "    \n",
    "    def __init__(self,h1,h2,o1,o2,alpha = 0.5):\n",
    "        self.h1 = h1\n",
    "        self.h2 = h2\n",
    "        self.o1 = o1\n",
    "        self.o2 = o2\n",
    "        self.alpha = alpha\n",
    "        \n",
    "    def forward(self,x1, x2):\n",
    "        h1out = h1.forward(x1,x2)\n",
    "        h2out = h2.forward(x1,x2)\n",
    "        self.y1 = o1.forward(h1out,h2out)\n",
    "        self.y2 = o2.forward(h1out,h2out)\n",
    "        return self.y1, self.y2\n",
    "    \n",
    "    def backward(self,y1,y2):\n",
    "        de1 = self.y1 - y1\n",
    "        de2 = self.y2 - y2\n",
    "        dw5 = de1 * o1.dw1\n",
    "        dw6 = de1 * o1.dw2\n",
    "        w5 = self.o1.w1 - self.alpha * dw5\n",
    "        w6 = self.o1.w2 - self.alpha * dw6\n",
    "        dw7 = de2 * o2.dw1\n",
    "        dw8 = de2 * o2.dw2\n",
    "        w7 = self.o2.w1 - self.alpha * dw7\n",
    "        w8 = self.o2.w2 - self.alpha * dw8\n",
    "        \n",
    "        dw1 = (de1 * o1.dx1 + de2 * o2.dx1) * h1.dw1 \n",
    "        w1 = self.h1.w1 - self.alpha * dw1\n",
    "        dw2 = (de1 * o1.dx1 + de2 * o2.dx1) * h1.dw2 \n",
    "        w2 = self.h1.w2 - self.alpha * dw2\n",
    "        \n",
    "        dw3 = (de1 * o1.dx2 + de2 * o2.dx2) * h2.dw1\n",
    "        w3 = self.h2.w1 - self.alpha * dw3\n",
    "        \n",
    "        dw4 = (de1 * o1.dx2 + de2 * o2.dx2) * h2.dw2\n",
    "        w4 = self.h2.w2 - self.alpha * dw4\n",
    "        \n",
    "        return w1, w2, w3, w4, w5, w6, w7, w8 \n",
    "         \n",
    "    \n",
    "netz = Netz(h1,h2,o1,o2)\n",
    "netz.forward(x1,x2)\n",
    "netz.backward(y1,y2)\n",
    "        "
   ]
  },
  {
   "cell_type": "code",
   "execution_count": null,
   "metadata": {},
   "outputs": [],
   "source": []
  }
 ],
 "metadata": {
  "kernelspec": {
   "display_name": "Python 3",
   "language": "python",
   "name": "python3"
  },
  "language_info": {
   "codemirror_mode": {
    "name": "ipython",
    "version": 3
   },
   "file_extension": ".py",
   "mimetype": "text/x-python",
   "name": "python",
   "nbconvert_exporter": "python",
   "pygments_lexer": "ipython3",
   "version": "3.6.5"
  }
 },
 "nbformat": 4,
 "nbformat_minor": 2
}
