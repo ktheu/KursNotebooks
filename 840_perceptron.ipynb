{
 "cells": [
  {
   "cell_type": "code",
   "execution_count": 2,
   "metadata": {},
   "outputs": [],
   "source": [
    "import torch\n",
    "import torch.optim as optim\n",
    "import torch.nn as nn\n",
    "import numpy as np"
   ]
  },
  {
   "cell_type": "code",
   "execution_count": 3,
   "metadata": {},
   "outputs": [
    {
     "name": "stdout",
     "output_type": "stream",
     "text": [
      "Parameter containing:\n",
      "tensor([[0.5406, 0.5869]], requires_grad=True) Parameter containing:\n",
      "tensor([-0.1657], requires_grad=True)\n"
     ]
    }
   ],
   "source": [
    "torch.manual_seed(42)\n",
    "model = nn.Sequential(nn.Linear(2, 1))\n",
    "optimizer = optim.SGD(model.parameters(), lr=0.01)\n",
    "loss_fn = nn.MSELoss(reduction='mean')\n",
    " \n",
    "print(*model.parameters())"
   ]
  },
  {
   "cell_type": "code",
   "execution_count": 4,
   "metadata": {},
   "outputs": [
    {
     "name": "stdout",
     "output_type": "stream",
     "text": [
      "tensor([[-0.1657],\n",
      "        [ 0.4212],\n",
      "        [ 0.3750],\n",
      "        [ 0.9619]], grad_fn=<AddmmBackward>)\n"
     ]
    }
   ],
   "source": [
    "X = [(0,0),(0,1),(1,0),(1,1)]\n",
    "Y = [0,1,1,1]\n",
    "x = torch.tensor(X).view(4,2).float()\n",
    "y_hat = model(x)\n",
    "print(y_hat)"
   ]
  },
  {
   "cell_type": "code",
   "execution_count": 5,
   "metadata": {},
   "outputs": [],
   "source": [
    "class Perceptron:\n",
    "    def __init__(self,param):\n",
    "        self.w1, self.w2, self.b = param\n",
    "    \n",
    "    def calc(self, x1, x2):\n",
    "        z = self.w1 * x1 + self.w2 * x2 + self.b\n",
    "        if z >= 0: return 1\n",
    "        else: return 0"
   ]
  },
  {
   "cell_type": "code",
   "execution_count": 6,
   "metadata": {},
   "outputs": [
    {
     "data": {
      "text/plain": [
       "tensor([[ 8.],\n",
       "        [11.],\n",
       "        [14.]], grad_fn=<AddBackward0>)"
      ]
     },
     "execution_count": 6,
     "metadata": {},
     "output_type": "execute_result"
    }
   ],
   "source": [
    "p = nn.Linear(1,1)\n",
    "p.weight.data = torch.tensor([3.0])\n",
    "p.bias.data = torch.tensor([2.0])\n",
    "list(p.parameters())\n",
    "x = torch.tensor([2,3,4]).view(3,1,1).float()\n",
    "p(x)"
   ]
  },
  {
   "cell_type": "code",
   "execution_count": 7,
   "metadata": {},
   "outputs": [
    {
     "name": "stdout",
     "output_type": "stream",
     "text": [
      "[Parameter containing:\n",
      "tensor([[3., 1.]], requires_grad=True), Parameter containing:\n",
      "tensor([2.], requires_grad=True)]\n"
     ]
    },
    {
     "data": {
      "text/plain": [
       "tensor([[[11.]],\n",
       "\n",
       "        [[14.]]], grad_fn=<AddBackward0>)"
      ]
     },
     "execution_count": 7,
     "metadata": {},
     "output_type": "execute_result"
    }
   ],
   "source": [
    "p = nn.Linear(2,1)\n",
    "p.weight.data = torch.tensor([[3.0, 1.0]])\n",
    "p.bias.data = torch.tensor([2.0])\n",
    "print(list(p.parameters()))\n",
    "#x = torch.tensor([[[2.0, 3.0]]])\n",
    "x = torch.tensor([[2,3],[3,3]]).view(2,1,2).float()\n",
    "x = torch.tensor([2,3,3,3]).view(2,1,2).float()\n",
    "p(x) "
   ]
  },
  {
   "cell_type": "code",
   "execution_count": 8,
   "metadata": {},
   "outputs": [
    {
     "data": {
      "text/plain": [
       "11"
      ]
     },
     "execution_count": 8,
     "metadata": {},
     "output_type": "execute_result"
    }
   ],
   "source": [
    "3*2 +1*3 +2"
   ]
  },
  {
   "cell_type": "code",
   "execution_count": 9,
   "metadata": {},
   "outputs": [
    {
     "name": "stdout",
     "output_type": "stream",
     "text": [
      "[Parameter containing:\n",
      "tensor([3., 1.], requires_grad=True), Parameter containing:\n",
      "tensor([2.], requires_grad=True)]\n"
     ]
    },
    {
     "data": {
      "text/plain": [
       "tensor([[2.],\n",
       "        [3.],\n",
       "        [5.],\n",
       "        [6.]], grad_fn=<AddBackward0>)"
      ]
     },
     "execution_count": 9,
     "metadata": {},
     "output_type": "execute_result"
    }
   ],
   "source": [
    "p = nn.Linear(2,1)\n",
    "p.weight.data = torch.tensor([3.0, 1.0])\n",
    "p.bias.data = torch.tensor([2.0])\n",
    "print(list(p.parameters()))\n",
    "x = torch.tensor([[0,0],[0,1],[1,0],[1,1]]).view(4,1,2).float()\n",
    "p(x) "
   ]
  },
  {
   "cell_type": "code",
   "execution_count": 16,
   "metadata": {},
   "outputs": [
    {
     "name": "stdout",
     "output_type": "stream",
     "text": [
      "tensor([[0.1824],\n",
      "        [0.3775],\n",
      "        [0.0759],\n",
      "        [0.1824]], grad_fn=<SigmoidBackward>)\n"
     ]
    },
    {
     "ename": "RuntimeError",
     "evalue": "multi-target not supported at C:\\w\\1\\s\\tmp_conda_3.7_104508\\conda\\conda-bld\\pytorch_1572950778684\\work\\aten\\src\\THNN/generic/ClassNLLCriterion.c:22",
     "output_type": "error",
     "traceback": [
      "\u001b[1;31m---------------------------------------------------------------------------\u001b[0m",
      "\u001b[1;31mRuntimeError\u001b[0m                              Traceback (most recent call last)",
      "\u001b[1;32m<ipython-input-16-2aa1ec5cd953>\u001b[0m in \u001b[0;36m<module>\u001b[1;34m\u001b[0m\n\u001b[0;32m     21\u001b[0m     \u001b[0myhat\u001b[0m \u001b[1;33m=\u001b[0m \u001b[0mmodel\u001b[0m\u001b[1;33m(\u001b[0m\u001b[0mx\u001b[0m\u001b[1;33m)\u001b[0m\u001b[1;33m\u001b[0m\u001b[1;33m\u001b[0m\u001b[0m\n\u001b[0;32m     22\u001b[0m \u001b[1;33m\u001b[0m\u001b[0m\n\u001b[1;32m---> 23\u001b[1;33m     \u001b[0mloss\u001b[0m \u001b[1;33m=\u001b[0m \u001b[0mloss_fn\u001b[0m\u001b[1;33m(\u001b[0m\u001b[0myhat\u001b[0m\u001b[1;33m,\u001b[0m\u001b[0my\u001b[0m\u001b[1;33m)\u001b[0m\u001b[1;33m\u001b[0m\u001b[1;33m\u001b[0m\u001b[0m\n\u001b[0m\u001b[0;32m     24\u001b[0m     \u001b[0mloss\u001b[0m\u001b[1;33m.\u001b[0m\u001b[0mbackward\u001b[0m\u001b[1;33m(\u001b[0m\u001b[1;33m)\u001b[0m\u001b[1;33m\u001b[0m\u001b[1;33m\u001b[0m\u001b[0m\n\u001b[0;32m     25\u001b[0m     \u001b[0moptimizer\u001b[0m\u001b[1;33m.\u001b[0m\u001b[0mstep\u001b[0m\u001b[1;33m(\u001b[0m\u001b[1;33m)\u001b[0m\u001b[1;33m\u001b[0m\u001b[1;33m\u001b[0m\u001b[0m\n",
      "\u001b[1;32m~\\.conda\\envs\\pytorch\\lib\\site-packages\\torch\\nn\\modules\\module.py\u001b[0m in \u001b[0;36m__call__\u001b[1;34m(self, *input, **kwargs)\u001b[0m\n\u001b[0;32m    539\u001b[0m             \u001b[0mresult\u001b[0m \u001b[1;33m=\u001b[0m \u001b[0mself\u001b[0m\u001b[1;33m.\u001b[0m\u001b[0m_slow_forward\u001b[0m\u001b[1;33m(\u001b[0m\u001b[1;33m*\u001b[0m\u001b[0minput\u001b[0m\u001b[1;33m,\u001b[0m \u001b[1;33m**\u001b[0m\u001b[0mkwargs\u001b[0m\u001b[1;33m)\u001b[0m\u001b[1;33m\u001b[0m\u001b[1;33m\u001b[0m\u001b[0m\n\u001b[0;32m    540\u001b[0m         \u001b[1;32melse\u001b[0m\u001b[1;33m:\u001b[0m\u001b[1;33m\u001b[0m\u001b[1;33m\u001b[0m\u001b[0m\n\u001b[1;32m--> 541\u001b[1;33m             \u001b[0mresult\u001b[0m \u001b[1;33m=\u001b[0m \u001b[0mself\u001b[0m\u001b[1;33m.\u001b[0m\u001b[0mforward\u001b[0m\u001b[1;33m(\u001b[0m\u001b[1;33m*\u001b[0m\u001b[0minput\u001b[0m\u001b[1;33m,\u001b[0m \u001b[1;33m**\u001b[0m\u001b[0mkwargs\u001b[0m\u001b[1;33m)\u001b[0m\u001b[1;33m\u001b[0m\u001b[1;33m\u001b[0m\u001b[0m\n\u001b[0m\u001b[0;32m    542\u001b[0m         \u001b[1;32mfor\u001b[0m \u001b[0mhook\u001b[0m \u001b[1;32min\u001b[0m \u001b[0mself\u001b[0m\u001b[1;33m.\u001b[0m\u001b[0m_forward_hooks\u001b[0m\u001b[1;33m.\u001b[0m\u001b[0mvalues\u001b[0m\u001b[1;33m(\u001b[0m\u001b[1;33m)\u001b[0m\u001b[1;33m:\u001b[0m\u001b[1;33m\u001b[0m\u001b[1;33m\u001b[0m\u001b[0m\n\u001b[0;32m    543\u001b[0m             \u001b[0mhook_result\u001b[0m \u001b[1;33m=\u001b[0m \u001b[0mhook\u001b[0m\u001b[1;33m(\u001b[0m\u001b[0mself\u001b[0m\u001b[1;33m,\u001b[0m \u001b[0minput\u001b[0m\u001b[1;33m,\u001b[0m \u001b[0mresult\u001b[0m\u001b[1;33m)\u001b[0m\u001b[1;33m\u001b[0m\u001b[1;33m\u001b[0m\u001b[0m\n",
      "\u001b[1;32m~\\.conda\\envs\\pytorch\\lib\\site-packages\\torch\\nn\\modules\\loss.py\u001b[0m in \u001b[0;36mforward\u001b[1;34m(self, input, target)\u001b[0m\n\u001b[0;32m    914\u001b[0m     \u001b[1;32mdef\u001b[0m \u001b[0mforward\u001b[0m\u001b[1;33m(\u001b[0m\u001b[0mself\u001b[0m\u001b[1;33m,\u001b[0m \u001b[0minput\u001b[0m\u001b[1;33m,\u001b[0m \u001b[0mtarget\u001b[0m\u001b[1;33m)\u001b[0m\u001b[1;33m:\u001b[0m\u001b[1;33m\u001b[0m\u001b[1;33m\u001b[0m\u001b[0m\n\u001b[0;32m    915\u001b[0m         return F.cross_entropy(input, target, weight=self.weight,\n\u001b[1;32m--> 916\u001b[1;33m                                ignore_index=self.ignore_index, reduction=self.reduction)\n\u001b[0m\u001b[0;32m    917\u001b[0m \u001b[1;33m\u001b[0m\u001b[0m\n\u001b[0;32m    918\u001b[0m \u001b[1;33m\u001b[0m\u001b[0m\n",
      "\u001b[1;32m~\\.conda\\envs\\pytorch\\lib\\site-packages\\torch\\nn\\functional.py\u001b[0m in \u001b[0;36mcross_entropy\u001b[1;34m(input, target, weight, size_average, ignore_index, reduce, reduction)\u001b[0m\n\u001b[0;32m   2007\u001b[0m     \u001b[1;32mif\u001b[0m \u001b[0msize_average\u001b[0m \u001b[1;32mis\u001b[0m \u001b[1;32mnot\u001b[0m \u001b[1;32mNone\u001b[0m \u001b[1;32mor\u001b[0m \u001b[0mreduce\u001b[0m \u001b[1;32mis\u001b[0m \u001b[1;32mnot\u001b[0m \u001b[1;32mNone\u001b[0m\u001b[1;33m:\u001b[0m\u001b[1;33m\u001b[0m\u001b[1;33m\u001b[0m\u001b[0m\n\u001b[0;32m   2008\u001b[0m         \u001b[0mreduction\u001b[0m \u001b[1;33m=\u001b[0m \u001b[0m_Reduction\u001b[0m\u001b[1;33m.\u001b[0m\u001b[0mlegacy_get_string\u001b[0m\u001b[1;33m(\u001b[0m\u001b[0msize_average\u001b[0m\u001b[1;33m,\u001b[0m \u001b[0mreduce\u001b[0m\u001b[1;33m)\u001b[0m\u001b[1;33m\u001b[0m\u001b[1;33m\u001b[0m\u001b[0m\n\u001b[1;32m-> 2009\u001b[1;33m     \u001b[1;32mreturn\u001b[0m \u001b[0mnll_loss\u001b[0m\u001b[1;33m(\u001b[0m\u001b[0mlog_softmax\u001b[0m\u001b[1;33m(\u001b[0m\u001b[0minput\u001b[0m\u001b[1;33m,\u001b[0m \u001b[1;36m1\u001b[0m\u001b[1;33m)\u001b[0m\u001b[1;33m,\u001b[0m \u001b[0mtarget\u001b[0m\u001b[1;33m,\u001b[0m \u001b[0mweight\u001b[0m\u001b[1;33m,\u001b[0m \u001b[1;32mNone\u001b[0m\u001b[1;33m,\u001b[0m \u001b[0mignore_index\u001b[0m\u001b[1;33m,\u001b[0m \u001b[1;32mNone\u001b[0m\u001b[1;33m,\u001b[0m \u001b[0mreduction\u001b[0m\u001b[1;33m)\u001b[0m\u001b[1;33m\u001b[0m\u001b[1;33m\u001b[0m\u001b[0m\n\u001b[0m\u001b[0;32m   2010\u001b[0m \u001b[1;33m\u001b[0m\u001b[0m\n\u001b[0;32m   2011\u001b[0m \u001b[1;33m\u001b[0m\u001b[0m\n",
      "\u001b[1;32m~\\.conda\\envs\\pytorch\\lib\\site-packages\\torch\\nn\\functional.py\u001b[0m in \u001b[0;36mnll_loss\u001b[1;34m(input, target, weight, size_average, ignore_index, reduce, reduction)\u001b[0m\n\u001b[0;32m   1836\u001b[0m                          .format(input.size(0), target.size(0)))\n\u001b[0;32m   1837\u001b[0m     \u001b[1;32mif\u001b[0m \u001b[0mdim\u001b[0m \u001b[1;33m==\u001b[0m \u001b[1;36m2\u001b[0m\u001b[1;33m:\u001b[0m\u001b[1;33m\u001b[0m\u001b[1;33m\u001b[0m\u001b[0m\n\u001b[1;32m-> 1838\u001b[1;33m         \u001b[0mret\u001b[0m \u001b[1;33m=\u001b[0m \u001b[0mtorch\u001b[0m\u001b[1;33m.\u001b[0m\u001b[0m_C\u001b[0m\u001b[1;33m.\u001b[0m\u001b[0m_nn\u001b[0m\u001b[1;33m.\u001b[0m\u001b[0mnll_loss\u001b[0m\u001b[1;33m(\u001b[0m\u001b[0minput\u001b[0m\u001b[1;33m,\u001b[0m \u001b[0mtarget\u001b[0m\u001b[1;33m,\u001b[0m \u001b[0mweight\u001b[0m\u001b[1;33m,\u001b[0m \u001b[0m_Reduction\u001b[0m\u001b[1;33m.\u001b[0m\u001b[0mget_enum\u001b[0m\u001b[1;33m(\u001b[0m\u001b[0mreduction\u001b[0m\u001b[1;33m)\u001b[0m\u001b[1;33m,\u001b[0m \u001b[0mignore_index\u001b[0m\u001b[1;33m)\u001b[0m\u001b[1;33m\u001b[0m\u001b[1;33m\u001b[0m\u001b[0m\n\u001b[0m\u001b[0;32m   1839\u001b[0m     \u001b[1;32melif\u001b[0m \u001b[0mdim\u001b[0m \u001b[1;33m==\u001b[0m \u001b[1;36m4\u001b[0m\u001b[1;33m:\u001b[0m\u001b[1;33m\u001b[0m\u001b[1;33m\u001b[0m\u001b[0m\n\u001b[0;32m   1840\u001b[0m         \u001b[0mret\u001b[0m \u001b[1;33m=\u001b[0m \u001b[0mtorch\u001b[0m\u001b[1;33m.\u001b[0m\u001b[0m_C\u001b[0m\u001b[1;33m.\u001b[0m\u001b[0m_nn\u001b[0m\u001b[1;33m.\u001b[0m\u001b[0mnll_loss2d\u001b[0m\u001b[1;33m(\u001b[0m\u001b[0minput\u001b[0m\u001b[1;33m,\u001b[0m \u001b[0mtarget\u001b[0m\u001b[1;33m,\u001b[0m \u001b[0mweight\u001b[0m\u001b[1;33m,\u001b[0m \u001b[0m_Reduction\u001b[0m\u001b[1;33m.\u001b[0m\u001b[0mget_enum\u001b[0m\u001b[1;33m(\u001b[0m\u001b[0mreduction\u001b[0m\u001b[1;33m)\u001b[0m\u001b[1;33m,\u001b[0m \u001b[0mignore_index\u001b[0m\u001b[1;33m)\u001b[0m\u001b[1;33m\u001b[0m\u001b[1;33m\u001b[0m\u001b[0m\n",
      "\u001b[1;31mRuntimeError\u001b[0m: multi-target not supported at C:\\w\\1\\s\\tmp_conda_3.7_104508\\conda\\conda-bld\\pytorch_1572950778684\\work\\aten\\src\\THNN/generic/ClassNLLCriterion.c:22"
     ]
    }
   ],
   "source": [
    "torch.manual_seed(42)\n",
    "p = nn.Linear(2,1)\n",
    "p.weight.data = torch.tensor([-1.0, 1.0])\n",
    "p.bias.data = torch.tensor([-1.5])\n",
    "model = torch.nn.Sequential(\n",
    "    p,\n",
    "    torch.nn.Sigmoid()\n",
    ")\n",
    "#x = torch.tensor([[0,0],[0,1],[1,0],[1,1]]).view(4,1,2).float()\n",
    "x = torch.tensor([0,0,0,1,1,0,1,1]).view(4,1,2).float()\n",
    "y = torch.tensor([0,1,1,1]).view(4,1)\n",
    "print(model(x))\n",
    "\n",
    "optimizer = optim.SGD(model.parameters(), lr=0.1)\n",
    "#loss_fn = nn.MSELoss(reduction='mean')\n",
    "loss_fn = nn.CrossEntropyLoss()\n",
    "#loss_fn = nn.BCELoss()\n",
    "\n",
    "for epoch in range(1000):\n",
    "    model.train()\n",
    "    yhat = model(x)\n",
    "    \n",
    "    loss = loss_fn(yhat,y)\n",
    "    loss.backward()\n",
    "    optimizer.step()\n",
    "    optimizer.zero_grad()\n",
    "\n",
    "\n",
    "print(model(x))\n",
    " "
   ]
  },
  {
   "cell_type": "code",
   "execution_count": 81,
   "metadata": {},
   "outputs": [
    {
     "name": "stdout",
     "output_type": "stream",
     "text": [
      "Parameter containing:\n",
      "tensor([3., 1.], requires_grad=True) Parameter containing:\n",
      "tensor([2.], requires_grad=True)\n"
     ]
    }
   ],
   "source": [
    "print(*net.parameters())"
   ]
  },
  {
   "cell_type": "code",
   "execution_count": null,
   "metadata": {},
   "outputs": [],
   "source": [
    "\n"
   ]
  },
  {
   "cell_type": "code",
   "execution_count": 131,
   "metadata": {},
   "outputs": [
    {
     "data": {
      "text/plain": [
       "<matplotlib.collections.PathCollection at 0x24d1514eb88>"
      ]
     },
     "execution_count": 131,
     "metadata": {},
     "output_type": "execute_result"
    },
    {
     "data": {
      "image/png": "[encoded data removed]",
      "text/plain": [
       "<Figure size 432x288 with 1 Axes>"
      ]
     },
     "metadata": {
      "needs_background": "light"
     },
     "output_type": "display_data"
    }
   ],
   "source": []
  },
  {
   "cell_type": "code",
   "execution_count": 132,
   "metadata": {},
   "outputs": [
    {
     "name": "stderr",
     "output_type": "stream",
     "text": [
      "C:\\Users\\khthe\\.conda\\envs\\pytorch\\lib\\site-packages\\ipykernel_launcher.py:32: UserWarning: Implicit dimension choice for softmax has been deprecated. Change the call to include dim=X as an argument.\n"
     ]
    },
    {
     "name": "stdout",
     "output_type": "stream",
     "text": [
      "0.97\n"
     ]
    },
    {
     "data": {
      "image/png": "[encoded data removed]",
      "text/plain": [
       "<Figure size 432x288 with 1 Axes>"
      ]
     },
     "metadata": {
      "needs_background": "light"
     },
     "output_type": "display_data"
    }
   ],
   "source": [
    "X = torch.from_numpy(X).type(torch.FloatTensor)\n",
    "y = torch.from_numpy(y).type(torch.LongTensor)\n",
    "\n",
    "\n",
    "import torch.nn as nn\n",
    "import torch.nn.functional as F\n",
    "\n",
    "#our class must extend nn.Module\n",
    "class Net(nn.Module):\n",
    "    def __init__(self):\n",
    "        super(Net,self).__init__()\n",
    "        #Our network consists of 3 layers. 1 input, 1 hidden and 1 output layer\n",
    "        #This applies Linear transformation to input data. \n",
    "        self.fc1 = nn.Linear(2,3)\n",
    "        \n",
    "        #This applies linear transformation to produce output data\n",
    "        self.fc2 = nn.Linear(3,2)\n",
    "        \n",
    "    #This must be implemented\n",
    "    def forward(self,x):\n",
    "        #Output of the first layer\n",
    "        x = self.fc1(x)\n",
    "        #Activation function is Relu. Feel free to experiment with this\n",
    "        x = F.tanh(x)\n",
    "        #This produces output\n",
    "        x = self.fc2(x)\n",
    "        return x\n",
    "        \n",
    "    #This function takes an input and predicts the class, (0 or 1)        \n",
    "    def predict(self,x):\n",
    "        #Apply softmax to output\n",
    "        pred = F.softmax(self.forward(x))\n",
    "        ans = []\n",
    "        for t in pred:\n",
    "            if t[0]>t[1]:\n",
    "                ans.append(0)\n",
    "            else:\n",
    "                ans.append(1)\n",
    "        return torch.tensor(ans)\n",
    "        \n",
    "\n",
    "#Initialize the model        \n",
    "model = Net()\n",
    "#Define loss criterion\n",
    "criterion = nn.CrossEntropyLoss()\n",
    "#Define the optimizer\n",
    "optimizer = torch.optim.Adam(model.parameters(), lr=0.01)\n",
    "\n",
    "#Number of epochs\n",
    "epochs = 50000\n",
    "#List to store losses\n",
    "losses = []\n",
    "for i in range(epochs):\n",
    "    #Precit the output for Given input\n",
    "    y_pred = model.forward(X)\n",
    "    #Compute Cross entropy loss\n",
    "    loss = criterion(y_pred,y)\n",
    "    #Add loss to the list\n",
    "    losses.append(loss.item())\n",
    "    #Clear the previous gradients\n",
    "    optimizer.zero_grad()\n",
    "    #Compute gradients\n",
    "    loss.backward()\n",
    "    #Adjust weights\n",
    "    optimizer.step()\n",
    "    \n",
    "\n",
    "from sklearn.metrics import accuracy_score\n",
    "print(accuracy_score(model.predict(X),y))\n",
    "    \n",
    "\n",
    "def predict(x):\n",
    "    x = torch.from_numpy(x).type(torch.FloatTensor)\n",
    "    ans = model.predict(x)\n",
    "    return ans.numpy()\n",
    "\n",
    "\n",
    "\n",
    "    \n",
    "# Helper function to plot a decision boundary.\n",
    "# If you don't fully understand this function don't worry, it just generates the contour plot below.\n",
    "def plot_decision_boundary(pred_func,X,y):\n",
    "    # Set min and max values and give it some padding\n",
    "    x_min, x_max = X[:, 0].min() - .5, X[:, 0].max() + .5\n",
    "    y_min, y_max = X[:, 1].min() - .5, X[:, 1].max() + .5\n",
    "    h = 0.01\n",
    "    # Generate a grid of points with distance h between them\n",
    "    xx,yy=np.meshgrid(np.arange(x_min, x_max, h), np.arange(y_min, y_max, h))\n",
    "    # Predict the function value for the whole gid\n",
    "    Z = pred_func(np.c_[xx.ravel(), yy.ravel()])\n",
    "    Z = Z.reshape(xx.shape)\n",
    "    # Plot the contour and training examples\n",
    "    plt.contourf(xx, yy, Z, cmap=plt.cm.Spectral)\n",
    "    plt.scatter(X[:, 0], X[:, 1], c=y, cmap=plt.cm.binary)\n",
    "    \n",
    "    \n",
    "plot_decision_boundary(lambda x : predict(x) ,X.numpy(), y.numpy())"
   ]
  },
  {
   "cell_type": "code",
   "execution_count": 114,
   "metadata": {},
   "outputs": [
    {
     "data": {
      "text/plain": [
       "array([[ 0.76124789,  0.72137115],\n",
       "       [ 1.65197081, -0.2536864 ],\n",
       "       [ 0.54546113,  0.77019213],\n",
       "       [ 0.51151333,  0.30364052],\n",
       "       [ 0.93157455,  0.46206014],\n",
       "       [ 1.21755278,  0.51404305],\n",
       "       [ 1.59100575, -0.1050253 ],\n",
       "       [ 2.15962228,  0.35184843],\n",
       "       [-0.90498855,  0.26769582],\n",
       "       [-0.29360948,  0.75043196],\n",
       "       [ 1.12355978,  0.06877339],\n",
       "       [ 0.14757676,  0.30608126],\n",
       "       [ 0.29148379,  0.95235206],\n",
       "       [ 0.52079969, -0.17997308],\n",
       "       [ 0.35603908,  0.84615975],\n",
       "       [ 0.89772072, -0.57431249],\n",
       "       [-0.15591392, -0.16167268],\n",
       "       [ 0.61903578, -0.4324993 ],\n",
       "       [ 0.13169054,  1.18036156],\n",
       "       [-0.29050562,  0.77717293],\n",
       "       [ 1.88507759, -0.0938116 ],\n",
       "       [ 0.59275231,  0.72110187],\n",
       "       [-0.54826554,  0.64427598],\n",
       "       [ 0.85662417, -0.63285497],\n",
       "       [-0.1669528 ,  0.8531625 ],\n",
       "       [ 0.27673393,  0.70730111],\n",
       "       [ 1.85225992, -0.08582066],\n",
       "       [-0.02001061,  1.20082273],\n",
       "       [ 0.53662209, -0.23821053],\n",
       "       [ 0.19055961,  0.92764878],\n",
       "       [ 1.16855914,  0.33523268],\n",
       "       [ 1.08602125,  0.74246137],\n",
       "       [ 0.73023063,  0.58175604],\n",
       "       [ 0.17016192,  1.05169135],\n",
       "       [-0.91086683,  0.78824526],\n",
       "       [ 0.27287602,  0.12949631],\n",
       "       [-1.11416865,  0.22621481],\n",
       "       [ 0.07743645,  0.12156228],\n",
       "       [ 1.33006408, -0.41660242],\n",
       "       [ 0.70075739, -0.23558389],\n",
       "       [ 0.77227496, -0.4332242 ],\n",
       "       [-0.54855654,  0.46163918],\n",
       "       [-0.99170533,  0.98999004],\n",
       "       [ 0.41174733,  0.61683039],\n",
       "       [-0.10401859,  0.11182471],\n",
       "       [-0.04942899,  0.06031222],\n",
       "       [-0.2340098 ,  0.93500277],\n",
       "       [ 0.723872  , -0.58027353],\n",
       "       [ 0.40327198, -0.44709466],\n",
       "       [ 1.6463584 , -0.39683981],\n",
       "       [-0.43079214,  0.58615953],\n",
       "       [-0.95990486,  0.23396369],\n",
       "       [ 0.92067092, -0.64699119],\n",
       "       [ 0.09066838, -0.0682797 ],\n",
       "       [ 0.50296252, -0.32865777],\n",
       "       [ 0.06269614,  0.40618889],\n",
       "       [-1.64852771, -0.28513068],\n",
       "       [-0.68898982,  1.10535578],\n",
       "       [-0.07224482,  0.78533879],\n",
       "       [ 1.77357512,  0.155273  ],\n",
       "       [ 1.36235223, -0.68714919],\n",
       "       [ 1.25745197,  0.0823447 ],\n",
       "       [-0.86182808,  0.24615575],\n",
       "       [ 1.0189717 , -0.71108158],\n",
       "       [-1.34832424,  0.27474654],\n",
       "       [ 0.02546061,  0.37473813],\n",
       "       [-0.63747224,  1.04243851],\n",
       "       [-0.4914268 ,  1.05132303],\n",
       "       [ 1.05145664,  0.43073817],\n",
       "       [-0.67122672,  0.65718218],\n",
       "       [-0.29989589,  0.07660318],\n",
       "       [ 1.19018265, -0.45271962],\n",
       "       [-0.65923665,  0.51864013],\n",
       "       [ 1.25805103,  0.02230265],\n",
       "       [ 0.90150838,  0.6587442 ],\n",
       "       [ 0.44303795, -0.26211596],\n",
       "       [-0.51243895,  1.19242351],\n",
       "       [ 1.27657371, -0.49707776],\n",
       "       [ 1.33745276, -0.3026579 ],\n",
       "       [-0.21921977,  0.99159451],\n",
       "       [ 1.47969266, -0.32166577],\n",
       "       [ 1.66524592, -0.2735773 ],\n",
       "       [ 0.48168215,  0.79735845],\n",
       "       [ 0.19885556, -0.427647  ],\n",
       "       [-0.00322516,  0.40791668],\n",
       "       [ 1.87442085, -0.005471  ],\n",
       "       [ 1.99496589, -0.00503341],\n",
       "       [ 0.37340883, -0.27146802],\n",
       "       [ 0.57254956,  0.63109707],\n",
       "       [ 1.46924731, -0.41520031],\n",
       "       [ 1.60299213, -0.2810899 ],\n",
       "       [ 1.14476479, -0.56100344],\n",
       "       [ 0.18301483,  0.05101104],\n",
       "       [-0.01769826,  0.03088032],\n",
       "       [-1.22349322,  0.44756761],\n",
       "       [ 0.30242614, -0.35292482],\n",
       "       [-0.40442585,  0.57326184],\n",
       "       [ 0.87190841,  0.55728709],\n",
       "       [ 0.0454733 , -0.01410147],\n",
       "       [ 0.84504931,  1.0468095 ],\n",
       "       [-0.82390247,  0.24997624],\n",
       "       [ 1.80100698,  0.03702515],\n",
       "       [-0.68168299,  1.28105454],\n",
       "       [ 2.17222713,  0.21006465],\n",
       "       [ 0.01295051, -0.81747262],\n",
       "       [-0.90869539,  0.91544165],\n",
       "       [ 0.08815663,  1.23361427],\n",
       "       [-0.25911504,  1.11880545],\n",
       "       [ 1.1159747 ,  0.63539523],\n",
       "       [ 0.42104217,  0.12576767],\n",
       "       [ 1.36636367, -0.15801029],\n",
       "       [-1.04558482,  0.67342705],\n",
       "       [ 0.7447392 ,  0.77250369],\n",
       "       [ 1.44105671, -0.29927678],\n",
       "       [-0.28196099,  0.50336048],\n",
       "       [ 0.83593117,  0.39764286],\n",
       "       [ 0.31367009,  0.98363794],\n",
       "       [ 0.68916728,  1.13436283],\n",
       "       [ 2.00358145,  0.25696396],\n",
       "       [ 1.74762951,  0.07503239],\n",
       "       [-1.03569635,  0.74664325],\n",
       "       [ 2.0636785 ,  0.03195287],\n",
       "       [ 0.02629807,  0.47236535],\n",
       "       [-0.22598848,  0.7929224 ],\n",
       "       [-0.38266204,  0.65517255],\n",
       "       [-0.05398083, -0.21992699],\n",
       "       [ 1.25131681, -0.2033281 ],\n",
       "       [ 1.32089549, -0.4337753 ],\n",
       "       [ 0.16752544,  1.03113266],\n",
       "       [-1.1332338 , -0.16035729],\n",
       "       [ 2.14782551, -0.15896053],\n",
       "       [ 1.94307922,  0.05463964],\n",
       "       [ 2.22915672,  0.17190273],\n",
       "       [ 2.03950966, -0.20440117],\n",
       "       [ 0.93217829,  0.23046686],\n",
       "       [-0.91785685,  0.29656471],\n",
       "       [ 2.50998637,  0.35515401],\n",
       "       [ 0.87225833,  0.06246524],\n",
       "       [ 0.94626125, -0.56330776],\n",
       "       [ 1.62836447, -0.26737886],\n",
       "       [ 1.84279752, -0.45444096],\n",
       "       [-0.06413172, -0.2835343 ],\n",
       "       [ 1.53157661, -0.29037003],\n",
       "       [ 0.1968682 ,  0.16201849],\n",
       "       [ 1.04289717, -0.66376498],\n",
       "       [ 0.52573851, -0.39947122],\n",
       "       [ 1.37267277, -0.10289995],\n",
       "       [ 1.04644612, -0.08411137],\n",
       "       [ 0.50817422, -0.39065011],\n",
       "       [ 1.81849465,  0.56254075],\n",
       "       [-0.11588164,  1.4424011 ],\n",
       "       [-0.90482797, -0.23595916],\n",
       "       [ 0.35912475,  0.65182444],\n",
       "       [ 1.54687034, -0.13039573],\n",
       "       [ 1.49072489, -0.274191  ],\n",
       "       [-0.59282129,  0.61286619],\n",
       "       [ 1.62412154,  0.12022478],\n",
       "       [ 2.20158957,  0.38072343],\n",
       "       [-1.01461362,  0.0671087 ],\n",
       "       [ 1.99486923,  0.78862242],\n",
       "       [-0.32619932,  0.39189975],\n",
       "       [-0.94418323, -0.18063933],\n",
       "       [ 0.23446601,  0.00878136],\n",
       "       [ 1.02522167, -0.13865778],\n",
       "       [ 0.22341163,  0.4848143 ],\n",
       "       [ 0.9043606 ,  0.79044126],\n",
       "       [ 0.52716644,  0.24715122],\n",
       "       [-0.71496877,  0.03621144],\n",
       "       [ 0.15821714,  0.41712542],\n",
       "       [ 0.11780183,  0.93120595],\n",
       "       [ 0.49438216,  0.97589478],\n",
       "       [ 0.5684687 ,  0.24603644],\n",
       "       [ 0.31533266,  0.96264567],\n",
       "       [ 0.07497662,  0.00542359],\n",
       "       [ 1.22389022, -0.33013299],\n",
       "       [ 1.7452046 ,  0.4554407 ],\n",
       "       [ 0.38781828,  1.11720665],\n",
       "       [ 0.65480587,  0.86517028],\n",
       "       [ 0.71031971,  0.10712252],\n",
       "       [ 0.65815772, -0.73335861],\n",
       "       [ 1.44086073, -0.78630729],\n",
       "       [ 1.02973403,  0.6429838 ],\n",
       "       [ 0.76988526,  0.27190326],\n",
       "       [-0.16037077,  0.95824019],\n",
       "       [ 0.91671215,  0.80229575],\n",
       "       [ 1.01572309, -0.32093543],\n",
       "       [ 0.71225025,  0.15255315],\n",
       "       [ 0.33782209, -0.51946461],\n",
       "       [-0.31822559,  0.86812871],\n",
       "       [-0.94171729,  0.34757267],\n",
       "       [ 0.54402603, -0.35567978],\n",
       "       [ 0.293157  ,  1.27378673],\n",
       "       [ 2.17296258,  0.15275185],\n",
       "       [-1.324502  ,  0.42787322],\n",
       "       [-0.69550269,  0.82576008],\n",
       "       [-0.70790111,  0.67138844],\n",
       "       [ 0.93674973, -0.56714591],\n",
       "       [-0.04290339,  1.08843121],\n",
       "       [ 0.84211441,  0.63361822],\n",
       "       [-0.08252118,  0.81831689]])"
      ]
     },
     "execution_count": 114,
     "metadata": {},
     "output_type": "execute_result"
    }
   ],
   "source": [
    "X"
   ]
  },
  {
   "cell_type": "code",
   "execution_count": null,
   "metadata": {},
   "outputs": [],
   "source": []
  }
 ],
 "metadata": {
  "kernelspec": {
   "display_name": "Python 3",
   "language": "python",
   "name": "python3"
  },
  "language_info": {
   "codemirror_mode": {
    "name": "ipython",
    "version": 3
   },
   "file_extension": ".py",
   "mimetype": "text/x-python",
   "name": "python",
   "nbconvert_exporter": "python",
   "pygments_lexer": "ipython3",
   "version": "3.7.4"
  }
 },
 "nbformat": 4,
 "nbformat_minor": 4
}
