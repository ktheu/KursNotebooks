{
 "cells": [
  {
   "cell_type": "markdown",
   "metadata": {},
   "source": [
    "<html>\n",
    "  <head>\n",
    "    <script src=\"https://cdnjs.cloudflare.com/ajax/libs/p5.js/0.7.2/p5.js\"></script>\n",
    "    <script>\n",
    "    \n",
    "    \n",
    "    function setup() {\n",
    "      createCanvas(100,100);\n",
    "      background(200);\n",
    "      if (50 < width) {\n",
    "        var wort = \"Hallo\";     // var ist function-scoped, let is block-scoped\n",
    "      }\n",
    "      text(wort, 50,50);\n",
    "    }\n",
    "\n",
    "\n",
    "    </script>\n",
    "  </head>\n",
    "  <body>\n",
    "  </body>\n",
    "</html>"
   ]
  },
  {
   "cell_type": "markdown",
   "metadata": {},
   "source": [
    "<html>\n",
    "  <head>\n",
    "    <script src=\"https://cdnjs.cloudflare.com/ajax/libs/p5.js/0.7.2/p5.js\"></script>\n",
    "    <script>\n",
    "    \n",
    "    \n",
    "    function setup() {\n",
    "      createCanvas(100,100);\n",
    "      background(200);\n",
    "      if (50 < width) {\n",
    "        var wort = \"Hallo\";     // var ist function-scoped, let is block-scoped\n",
    "      }\n",
    "      text(wort, 50,50);\n",
    "    }\n",
    "\n",
    "\n",
    "    </script>\n",
    "  </head>\n",
    "  <body>\n",
    "  </body>\n",
    "</html>"
   ]
  },
  {
   "cell_type": "markdown",
   "metadata": {
    "slideshow": {
     "slide_type": "notes"
    }
   },
   "source": [
    "Hallo"
   ]
  },
  {
   "cell_type": "markdown",
   "metadata": {},
   "source": [
    "### Scope  "
   ]
  },
  {
   "cell_type": "markdown",
   "metadata": {},
   "source": [
    "*var* ist *function-scoped*, *let* ist *block-scoped*"
   ]
  },
  {
   "cell_type": "code",
   "execution_count": null,
   "metadata": {},
   "outputs": [],
   "source": [
    "function setup() {\n",
    "  createCanvas(100,100);\n",
    "  background(200);\n",
    "  if (50 < width) {\n",
    "    var wort = \"Hallo\";     \n",
    "  }\n",
    "  text(wort, 50,50);\n",
    "}"
   ]
  },
  {
   "cell_type": "code",
   "execution_count": null,
   "metadata": {},
   "outputs": [],
   "source": []
  },
  {
   "cell_type": "code",
   "execution_count": null,
   "metadata": {},
   "outputs": [],
   "source": [
    "function setup() {\n",
    "  createCanvas(100,100);\n",
    "  background(200);\n",
    "  if (50 < width) {\n",
    "    let wort = \"Hallo\";     \n",
    "  }\n",
    "  text(wort, 50,50);\n",
    "}"
   ]
  },
  {
   "cell_type": "code",
   "execution_count": null,
   "metadata": {},
   "outputs": [],
   "source": [
    " function setup() {\n",
    "  createCanvas(100,100);\n",
    "  background(200);\n",
    "  if (50 < width) {\n",
    "    let wort = \"Hallo\";     \n",
    "  }\n",
    "  text(wort, 50,50);\n",
    "}"
   ]
  },
  {
   "cell_type": "code",
   "execution_count": null,
   "metadata": {},
   "outputs": [],
   "source": [
    "function setup() {\n",
    "  createCanvas(100,100);\n",
    "  background(200);\n",
    "  if (50 < width) {\n",
    "     wort = \"Hallo\";     \n",
    "  }\n",
    "  text(wort, 50,50);\n",
    "}"
   ]
  },
  {
   "cell_type": "code",
   "execution_count": null,
   "metadata": {},
   "outputs": [],
   "source": [
    "\"use strict\"\n",
    "function setup() {\n",
    "  createCanvas(100,100);\n",
    "  background(200);\n",
    "  if (50 < width) {\n",
    "     wort = \"Hallo\";     \n",
    "  }\n",
    "  text(wort, 50,50);\n",
    "}"
   ]
  },
  {
   "cell_type": "code",
   "execution_count": null,
   "metadata": {},
   "outputs": [],
   "source": [
    "function setup() {\n",
    "  let wort;\n",
    "  createCanvas(100,100);\n",
    "  background(200);\n",
    "  if (50 < width) {\n",
    "     word = \"Hallo\";     \n",
    "  }\n",
    "  text(wort, 50,50);\n",
    "}"
   ]
  },
  {
   "cell_type": "code",
   "execution_count": null,
   "metadata": {},
   "outputs": [],
   "source": [
    "\"use strict\"\n",
    "function setup() {\n",
    "  let wort;\n",
    "  createCanvas(100,100);\n",
    "  background(200);\n",
    "  if (50 < width) {\n",
    "     let wort = \"Hallo\";     \n",
    "  }\n",
    "  text(wort, 50,50);\n",
    "}"
   ]
  },
  {
   "cell_type": "code",
   "execution_count": null,
   "metadata": {},
   "outputs": [],
   "source": [
    "let wort = \"Hallo\";\n",
    "\n",
    "function setup() {\n",
    "  createCanvas(100, 100);\n",
    "}\n",
    "\n",
    "function draw() {\n",
    "  background(200);\n",
    "  text(wort, 20, 20);\n",
    "}"
   ]
  },
  {
   "cell_type": "code",
   "execution_count": null,
   "metadata": {},
   "outputs": [],
   "source": [
    "let wort;\n",
    "\n",
    "function setup() {\n",
    "  createCanvas(100, 100);\n",
    "  wort = \"Hallo\";\n",
    "}\n",
    "\n",
    "function draw() {\n",
    "  background(200);\n",
    "  text(wort, 20, 20);\n",
    "}"
   ]
  },
  {
   "cell_type": "code",
   "execution_count": null,
   "metadata": {},
   "outputs": [],
   "source": [
    "let wort;\n",
    "\n",
    "function setup() {\n",
    "  createCanvas(100, 100);\n",
    "  let wort = \"Hallo\";\n",
    "}\n",
    "\n",
    "function draw() {\n",
    "  background(200);\n",
    "  text(wort, 20, 20);\n",
    "}"
   ]
  },
  {
   "cell_type": "code",
   "execution_count": null,
   "metadata": {},
   "outputs": [],
   "source": [
    "let wort;\n",
    "\n",
    "function setup() {\n",
    "  createCanvas(100, 100);\n",
    "  word = \"Hallo\";\n",
    "}\n",
    "\n",
    "function draw() {\n",
    "  background(200);\n",
    "  text(wort, 20, 20);\n",
    "}"
   ]
  },
  {
   "cell_type": "code",
   "execution_count": null,
   "metadata": {},
   "outputs": [],
   "source": [
    "let wort;\n",
    "\n",
    "function setup() {\n",
    "  createCanvas(100, 100);\n",
    "  let word = \"Hallo\";\n",
    "}\n",
    "\n",
    "function draw() {\n",
    "  background(200);\n",
    "  text(word, 20, 20);\n",
    "}"
   ]
  },
  {
   "cell_type": "code",
   "execution_count": null,
   "metadata": {},
   "outputs": [],
   "source": [
    "let wort;\n",
    "\n",
    "function setup() {\n",
    "  createCanvas(100, 100);\n",
    "  var word = \"Hallo\";\n",
    "}\n",
    "\n",
    "function draw() {\n",
    "  background(200);\n",
    "  text(word, 20, 20);\n",
    "}"
   ]
  },
  {
   "cell_type": "code",
   "execution_count": null,
   "metadata": {},
   "outputs": [],
   "source": [
    "\"use strict\";\n",
    "let wort;\n",
    "\n",
    "function setup() {\n",
    "  createCanvas(100, 100);\n",
    "  wort = \"a\";\n",
    "}\n",
    "\n",
    "function draw() {\n",
    "  background(200);\n",
    "  text(wort, 20, 20);\n",
    "}\n",
    "\n",
    "function mousePressed() {\n",
    "  wort = wort + \"a\";\n",
    "}"
   ]
  },
  {
   "cell_type": "code",
   "execution_count": null,
   "metadata": {},
   "outputs": [],
   "source": [
    "\"use strict\";\n",
    "let x;\n",
    "\n",
    "function setup() {\n",
    "  createCanvas(100, 100);\n",
    "  x = 100;\n",
    "}\n",
    "\n",
    "function draw() {\n",
    "  background(200);\n",
    "  text( (x * (x+1))/ 2 , 20, 20);\n",
    "}"
   ]
  },
  {
   "cell_type": "code",
   "execution_count": null,
   "metadata": {},
   "outputs": [],
   "source": [
    "\"use strict\";\n",
    "let x = 100;\n",
    "\n",
    "function setup() {\n",
    "  createCanvas(100, 100);\n",
    "}\n",
    "\n",
    "function draw() {\n",
    "  background(200);\n",
    "  text( (x * (x+1))/ 2 , 20, 20);\n",
    "}"
   ]
  },
  {
   "cell_type": "code",
   "execution_count": null,
   "metadata": {},
   "outputs": [],
   "source": [
    "\"use strict\";\n",
    "function setup() {\n",
    "  createCanvas(100, 100);\n",
    "}\n",
    "\n",
    "function draw() {\n",
    "  background(200);\n",
    "  let x = 100;\n",
    "  text( (x * (x+1))/ 2 , 20, 20);\n",
    "}"
   ]
  },
  {
   "cell_type": "code",
   "execution_count": null,
   "metadata": {},
   "outputs": [],
   "source": [
    "\"use strict\";\n",
    "\n",
    "const ZAHL = 100;\n",
    "\n",
    "function setup() {\n",
    "  createCanvas(100, 100);\n",
    "}\n",
    "\n",
    "function draw() {\n",
    "  background(200);\n",
    "  text( (ZAHL * (ZAHL+1))/ 2 , 20, 20);\n",
    "}"
   ]
  }
 ],
 "metadata": {
  "celltoolbar": "Edit Metadata",
  "kernelspec": {
   "display_name": "Python 3",
   "language": "python",
   "name": "python3"
  },
  "language_info": {
   "codemirror_mode": {
    "name": "ipython",
    "version": 3
   },
   "file_extension": ".py",
   "mimetype": "text/x-python",
   "name": "python",
   "nbconvert_exporter": "python",
   "pygments_lexer": "ipython3",
   "version": "3.6.5"
  }
 },
 "nbformat": 4,
 "nbformat_minor": 2
}
