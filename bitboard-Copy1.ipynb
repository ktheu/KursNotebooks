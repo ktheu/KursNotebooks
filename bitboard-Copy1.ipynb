{
 "cells": [
  {
   "cell_type": "markdown",
   "metadata": {},
   "source": [
    "## Bitboard für Connect 4\n",
    "\n",
    "[doc](https://towardsdatascience.com/creating-the-perfect-connect-four-ai-bot-c165115557b0)\n",
    "\n",
    "\n",
    "Ein *board* modellieren wir als eine 6 x 7 numpy-Matrix. \n",
    "\n",
    "\n",
    "Die erste Reihe ist eine Sentinel-Reihe, die immer mit Nullen gefüllt ist.\n",
    "\n",
    "Die Abbildung zeigt die Ordnung der Bits im Bitstring. \n",
    " 0 ist das least significant bit, d.h. das am weitesten rechts stehende Bit. Bits 6, 13, 20, 27, 34, 41 und 48 bilden eine *Sentinel*-Reihe (Wächter), die immer mit 0 gefüllt ist."
   ]
  },
  {
   "cell_type": "code",
   "execution_count": 298,
   "metadata": {},
   "outputs": [
    {
     "name": "stdout",
     "output_type": "stream",
     "text": [
      "[ 6 13 20 27 34 41 48]\n",
      "----------------------\n",
      "[ 5 12 19 26 33 40 47]\n",
      "[ 4 11 18 25 32 39 46]\n",
      "[ 3 10 17 24 31 38 45]\n",
      "[ 2  9 16 23 30 37 44]\n",
      "[ 1  8 15 22 29 36 43]\n",
      "[ 0  7 14 21 28 35 42]\n"
     ]
    }
   ],
   "source": [
    "import numpy as np\n",
    "board = np.zeros((7, 7), dtype = int)\n",
    "\n",
    "for j in range(7):\n",
    "    for i in range(6,-1,-1):\n",
    "        board[i,j] = 6-i + 7 *j\n",
    "\n",
    "for i in range(7):\n",
    "    print(row(i,board))\n",
    "    if i == 0:\n",
    "        print('----------------------')"
   ]
  },
  {
   "cell_type": "markdown",
   "metadata": {},
   "source": [
    "#### Funktionen für das Board\n",
    "Zum Füllen und Anzeigen des boards implementieren wir einige Funktionen\n",
    "\n"
   ]
  },
  {
   "cell_type": "code",
   "execution_count": 299,
   "metadata": {},
   "outputs": [],
   "source": [
    "def makeBoard(i,j):\n",
    "    return np.zeros((i, j), dtype = int)\n",
    "\n",
    "def showBoard(board):\n",
    "    for i in range(len(board)):\n",
    "        print(*row(i,board))\n",
    "        #print(''.join(str(board[x])))\n",
    "    print('==============')\n",
    "    print('0 1 2 3 4 5 6 ')\n",
    "    print()\n",
    "    \n",
    "        \n",
    "def row(i, board):\n",
    "    return board[i,:]\n",
    "\n",
    "def col(j, board):\n",
    "    return board[:,j]\n",
    "\n",
    "def insert(j, x, board):\n",
    "    ''' insert in col j value x as in connect 4'''\n",
    "    coltmp = np.argwhere(col(j,board)==0)  # \n",
    "    if len(coltmp) == 0: return False\n",
    "    board[coltmp[-1],j] = x\n",
    "    return True\n",
    "\n",
    "def fill(j, s, board):\n",
    "    ''' fill col j with values of s \n",
    "    eg. s = '1122' : 2 is at the bottom of col j '''\n",
    "    for c in list(s)[::-1]:\n",
    "        insert(j,int(c),board)"
   ]
  },
  {
   "cell_type": "code",
   "execution_count": 300,
   "metadata": {},
   "outputs": [
    {
     "name": "stdout",
     "output_type": "stream",
     "text": [
      "0 0 0 0 0 0 0\n",
      "0 0 0 1 0 0 0\n",
      "0 0 2 2 0 0 0\n",
      "0 0 1 2 0 0 0\n",
      "0 0 1 1 2 0 0\n",
      "0 0 1 2 2 1 0\n",
      "==============\n",
      "0 1 2 3 4 5 6 \n",
      "\n"
     ]
    }
   ],
   "source": [
    "board = makeBoard(6,7)\n",
    "fill(2,'2111', board)\n",
    "fill(3,'12212', board)\n",
    "fill(4,'22', board)\n",
    "fill(5,'1', board)\n",
    "showBoard(board)"
   ]
  },
  {
   "cell_type": "markdown",
   "metadata": {},
   "source": [
    "#### Board nach Bitstring"
   ]
  },
  {
   "cell_type": "code",
   "execution_count": 359,
   "metadata": {},
   "outputs": [],
   "source": [
    "def board2bitnr(player, board):\n",
    "    ''' returns int : zahl, die im bin-format das board repräsentiert'''\n",
    "    position, mask = '', ''\n",
    "    # Start with right-most column\n",
    "    for j in range(6, -1, -1):\n",
    "        # Add 0-bits to sentinel \n",
    "        mask += '0'\n",
    "        position += '0'\n",
    "        # Start with bottom row\n",
    "        for i in range(0, 6):\n",
    "            mask += ['0', '1'][int(board[i, j] != 0)]\n",
    "            position += ['0', '1'][int(board[i, j] == player)]\n",
    "    return int(position, 2), int(mask, 2)\n",
    "\n",
    "def showBitnr(bn):\n",
    "    bs = bitnr2str(bn)\n",
    "    i, j = 6, 0\n",
    "    board = makeBoard(7,7)\n",
    "    for c in bs[::-1]:\n",
    "        board[i,j] = int(c)\n",
    "        i-=1\n",
    "        if i == -1:\n",
    "            j += 1\n",
    "            i = 6 \n",
    "    print()\n",
    "    for i in range(7):\n",
    "        print(*row(i,board))\n",
    "        if i == 0:\n",
    "            print('-'*13)\n",
    "    print('=============')\n",
    "    print('0 1 2 3 4 5 6')\n",
    "\n",
    "def bitstr(bitnr):\n",
    "    bitstr = bin(bitnr)[2:]\n",
    "    return bitstr.rjust(49,'0')\n",
    "  \n",
    "    "
   ]
  },
  {
   "cell_type": "markdown",
   "metadata": {},
   "source": [
    "#### Board mit Bitnummern, Bitstring und BitBoard"
   ]
  },
  {
   "cell_type": "code",
   "execution_count": 360,
   "metadata": {},
   "outputs": [
    {
     "name": "stdout",
     "output_type": "stream",
     "text": [
      "0 0 0 0 0 0 0\n",
      "0 0 0 1 0 0 0\n",
      "0 0 2 2 0 0 0\n",
      "0 0 1 2 0 0 0\n",
      "0 0 1 1 2 0 0\n",
      "0 0 1 2 2 2 0\n",
      "==============\n",
      "0 1 2 3 4 5 6 \n",
      "\n",
      "Bitnummern:  37863424 35192438784\n",
      "Bitstrings:  0000000000000000000000010010000011100000000000000 0000000000000100000110001101000100000000000000000\n",
      "\n",
      "0 0 0 0 0 0 0\n",
      "-------------\n",
      "0 0 0 0 0 0 0\n",
      "0 0 0 1 0 0 0\n",
      "0 0 0 0 0 0 0\n",
      "0 0 1 0 0 0 0\n",
      "0 0 1 1 0 0 0\n",
      "0 0 1 0 0 0 0\n",
      "=============\n",
      "0 1 2 3 4 5 6\n",
      "\n",
      "0 0 0 0 0 0 0\n",
      "-------------\n",
      "0 0 0 0 0 0 0\n",
      "0 0 0 0 0 0 0\n",
      "0 0 1 1 0 0 0\n",
      "0 0 0 1 0 0 0\n",
      "0 0 0 0 1 0 0\n",
      "0 0 0 1 1 1 0\n",
      "=============\n",
      "0 1 2 3 4 5 6\n"
     ]
    }
   ],
   "source": [
    "board = makeBoard(6,7)\n",
    "fill(2,'2111', board)\n",
    "fill(3,'12212', board)\n",
    "fill(4,'22', board)\n",
    "fill(5,'2', board)\n",
    "showBoard(board)\n",
    "\n",
    "bn1, mask = board2bitstring(1,board)\n",
    "bn2 = bn1 ^ mask\n",
    "bn1, bn2                         # bitnummer pro spieler\n",
    "print(\"Bitnummern: \", bn1, bn2)\n",
    "bs1, bs2  = bitstr(bn1), bitstr(bn2)       # bitstring pro spieler\n",
    "print(\"Bitstrings: \", bs1, bs2)\n",
    "showBitnr(bn1)\n",
    "showBitnr(bn2)\n"
   ]
  },
  {
   "cell_type": "markdown",
   "metadata": {},
   "source": [
    "#### Check auf Vierer"
   ]
  },
  {
   "cell_type": "markdown",
   "metadata": {},
   "source": [
    "Die Funktion entdeckt, ob vier Positionen verbunden sind"
   ]
  },
  {
   "cell_type": "code",
   "execution_count": 361,
   "metadata": {},
   "outputs": [],
   "source": [
    "def check4(bn):\n",
    "    '''  bn: bitnummer '''\n",
    "    # Horizontal  \n",
    "    m = bn & (bn >> 7)\n",
    "    if m & (m >> 14):\n",
    "        return True\n",
    "    # Diagonal \\\n",
    "    m = bn & (bn >> 6)\n",
    "    if m & (m >> 12):\n",
    "        return True\n",
    "    # Diagonal /\n",
    "    m = bn & (bn >> 8)\n",
    "    if m & (m >> 16):\n",
    "        return True\n",
    "    # Vertical\n",
    "    m = bn & (bn >> 1)\n",
    "    if m & (m >> 2):\n",
    "        return True\n",
    "    # Nothing found\n",
    "    return False"
   ]
  },
  {
   "cell_type": "code",
   "execution_count": 362,
   "metadata": {},
   "outputs": [
    {
     "data": {
      "text/plain": [
       "(False, True)"
      ]
     },
     "execution_count": 362,
     "metadata": {},
     "output_type": "execute_result"
    }
   ],
   "source": [
    "check4(bn1), check4(bn2)"
   ]
  },
  {
   "cell_type": "markdown",
   "metadata": {},
   "source": [
    "#### Erläuterung des horizontalen Checks\n",
    "\n",
    "Wir betrachten folgendes bitboard"
   ]
  },
  {
   "cell_type": "code",
   "execution_count": 388,
   "metadata": {},
   "outputs": [
    {
     "name": "stdout",
     "output_type": "stream",
     "text": [
      "\n",
      "0 0 0 0 0 0 0\n",
      "-------------\n",
      "0 0 0 0 0 0 0\n",
      "0 0 0 0 0 0 0\n",
      "0 0 1 1 1 1 0\n",
      "0 0 0 0 0 0 0\n",
      "0 0 0 0 0 0 0\n",
      "0 0 0 0 0 0 0\n",
      "=============\n",
      "0 1 2 3 4 5 6\n"
     ]
    }
   ],
   "source": [
    "board = makeBoard(6,7)\n",
    "board[2] = np.array([0,0,1,1,1,1,0])\n",
    "\n",
    "bn = board2bitnr(1,board)[0]\n",
    "showBitnr(bn)\n"
   ]
  },
  {
   "cell_type": "markdown",
   "metadata": {},
   "source": [
    "Die Bits in *bn1* sind um 7 Stellen nach rechts verschoben. "
   ]
  },
  {
   "cell_type": "code",
   "execution_count": 389,
   "metadata": {},
   "outputs": [
    {
     "name": "stdout",
     "output_type": "stream",
     "text": [
      "0000000000100000010000001000000100000000000000000\n",
      "0000000000000000010000001000000100000010000000000\n"
     ]
    }
   ],
   "source": [
    "bn1 = bn >> 7\n",
    "print(bitstr(bn))\n",
    "print(bitstr(bn1))"
   ]
  },
  {
   "cell_type": "markdown",
   "metadata": {},
   "source": [
    "Das bedeutet, dass die Bits im Board um eine Stelle nach links verschoben wurden."
   ]
  },
  {
   "cell_type": "code",
   "execution_count": 390,
   "metadata": {},
   "outputs": [
    {
     "name": "stdout",
     "output_type": "stream",
     "text": [
      "\n",
      "0 0 0 0 0 0 0\n",
      "-------------\n",
      "0 0 0 0 0 0 0\n",
      "0 0 0 0 0 0 0\n",
      "0 0 1 1 1 1 0\n",
      "0 0 0 0 0 0 0\n",
      "0 0 0 0 0 0 0\n",
      "0 0 0 0 0 0 0\n",
      "=============\n",
      "0 1 2 3 4 5 6\n",
      "\n",
      "0 0 0 0 0 0 0\n",
      "-------------\n",
      "0 0 0 0 0 0 0\n",
      "0 0 0 0 0 0 0\n",
      "0 1 1 1 1 0 0\n",
      "0 0 0 0 0 0 0\n",
      "0 0 0 0 0 0 0\n",
      "0 0 0 0 0 0 0\n",
      "=============\n",
      "0 1 2 3 4 5 6\n"
     ]
    }
   ],
   "source": [
    "showBitnr(bn)\n",
    "showBitnr(bn1)"
   ]
  },
  {
   "cell_type": "markdown",
   "metadata": {},
   "source": [
    "Mit der *&*-Verbindung prüfen wir also, ob an einer Stelle dasselbe steht, wie an der Stelle rechts daneben"
   ]
  },
  {
   "cell_type": "code",
   "execution_count": 391,
   "metadata": {},
   "outputs": [
    {
     "name": "stdout",
     "output_type": "stream",
     "text": [
      "\n",
      "0 0 0 0 0 0 0\n",
      "-------------\n",
      "0 0 0 0 0 0 0\n",
      "0 0 0 0 0 0 0\n",
      "0 0 1 1 1 0 0\n",
      "0 0 0 0 0 0 0\n",
      "0 0 0 0 0 0 0\n",
      "0 0 0 0 0 0 0\n",
      "=============\n",
      "0 1 2 3 4 5 6\n"
     ]
    }
   ],
   "source": [
    "m = bn & bn1\n",
    "showBitnr(m)"
   ]
  },
  {
   "cell_type": "markdown",
   "metadata": {},
   "source": [
    "Dieses Bitboard können wir wie folgt interpretieren: Dort wo eine 1 steht, steht im ursprünglichen bitboard links daneben auch eine 1"
   ]
  },
  {
   "cell_type": "code",
   "execution_count": 392,
   "metadata": {},
   "outputs": [
    {
     "name": "stdout",
     "output_type": "stream",
     "text": [
      "0000000000000000010000001000000100000000000000000\n",
      "0000000000000000000000000000000100000010000001000\n"
     ]
    }
   ],
   "source": [
    "m1 = m >> 14\n",
    "print(bitstr(m))\n",
    "print(bitstr(m1))"
   ]
  },
  {
   "cell_type": "code",
   "execution_count": 393,
   "metadata": {},
   "outputs": [
    {
     "name": "stdout",
     "output_type": "stream",
     "text": [
      "\n",
      "0 0 0 0 0 0 0\n",
      "-------------\n",
      "0 0 0 0 0 0 0\n",
      "0 0 0 0 0 0 0\n",
      "0 0 1 1 1 0 0\n",
      "0 0 0 0 0 0 0\n",
      "0 0 0 0 0 0 0\n",
      "0 0 0 0 0 0 0\n",
      "=============\n",
      "0 1 2 3 4 5 6\n",
      "\n",
      "0 0 0 0 0 0 0\n",
      "-------------\n",
      "0 0 0 0 0 0 0\n",
      "0 0 0 0 0 0 0\n",
      "1 1 1 0 0 0 0\n",
      "0 0 0 0 0 0 0\n",
      "0 0 0 0 0 0 0\n",
      "0 0 0 0 0 0 0\n",
      "=============\n",
      "0 1 2 3 4 5 6\n"
     ]
    }
   ],
   "source": [
    "showBitnr(m)\n",
    "showBitnr(m1)"
   ]
  },
  {
   "cell_type": "code",
   "execution_count": 394,
   "metadata": {},
   "outputs": [
    {
     "name": "stdout",
     "output_type": "stream",
     "text": [
      "\n",
      "0 0 0 0 0 0 0\n",
      "-------------\n",
      "0 0 0 0 0 0 0\n",
      "0 0 0 0 0 0 0\n",
      "0 0 1 0 0 0 0\n",
      "0 0 0 0 0 0 0\n",
      "0 0 0 0 0 0 0\n",
      "0 0 0 0 0 0 0\n",
      "=============\n",
      "0 1 2 3 4 5 6\n"
     ]
    }
   ],
   "source": [
    "showBitnr(m & m1)"
   ]
  },
  {
   "cell_type": "code",
   "execution_count": null,
   "metadata": {},
   "outputs": [],
   "source": []
  }
 ],
 "metadata": {
  "kernelspec": {
   "display_name": "Python 3",
   "language": "python",
   "name": "python3"
  },
  "language_info": {
   "codemirror_mode": {
    "name": "ipython",
    "version": 3
   },
   "file_extension": ".py",
   "mimetype": "text/x-python",
   "name": "python",
   "nbconvert_exporter": "python",
   "pygments_lexer": "ipython3",
   "version": "3.7.4"
  }
 },
 "nbformat": 4,
 "nbformat_minor": 4
}
