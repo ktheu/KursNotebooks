{
 "cells": [
  {
   "cell_type": "markdown",
   "metadata": {},
   "source": [
    "### Algorithmus\n",
    "\n",
    "Ein Algorithmus ist eine endlich lange Vorschrift, bestehend aus Einzelanweisungen."
   ]
  },
  {
   "cell_type": "markdown",
   "metadata": {},
   "source": [
    "#### Collatz Algorithmus"
   ]
  },
  {
   "cell_type": "code",
   "execution_count": 1,
   "metadata": {},
   "outputs": [],
   "source": [
    "def collatz(x):\n",
    "    z = 0\n",
    "    while x!=1:\n",
    "        if x % 2 == 0:\n",
    "            x = x//2\n",
    "        else:\n",
    "            x = 3*x + 1\n",
    "        z+=1\n",
    "    return z "
   ]
  },
  {
   "cell_type": "code",
   "execution_count": 2,
   "metadata": {},
   "outputs": [
    {
     "name": "stdout",
     "output_type": "stream",
     "text": [
      "Die Collatz-Zahl für 17 ist 12\n"
     ]
    }
   ],
   "source": [
    "x = 17\n",
    "print('Die Collatz-Zahl für {} ist {}'.format(x,collatz(x)))"
   ]
  },
  {
   "cell_type": "markdown",
   "metadata": {},
   "source": [
    "#### Pledge Algorihmus\n",
    "\n",
    "\n",
    "```\n",
    "Setze den Zähler auf 0.\n",
    "Drehst du dich um 90 Grad nach rechts, dann erhöhe den Zähler um 1.\n",
    "Drehst du dich um 90 Grad nach links, dann erniedrige den Zähler um 1.\n",
    "Ist der Zähler 0, dann gehe solange geradeaus, bis du auf ein Hindernis stößt.\n",
    "Stößt du auf ein Hindernis, dann drehe dich 90 Grad nach rechts und gehe solange\n",
    "    an dem Hindernis entlang (auch um die Ecken herum), bis der Zähler 0 ist.\n",
    "\n",
    "\n",
    "\n",
    "```\n",
    "\n"
   ]
  },
  {
   "cell_type": "markdown",
   "metadata": {},
   "source": [
    "#### Euklidscher Algorithmus"
   ]
  },
  {
   "cell_type": "code",
   "execution_count": 9,
   "metadata": {},
   "outputs": [],
   "source": [
    "def ggtDumm(a,b):\n",
    "    '''\n",
    "    a, b: positive ganze Zahlen\n",
    "    returns: größten gemeinsamen Teiler von a und b\n",
    "    '''\n",
    "    teiler = a\n",
    "    while a % teiler != 0 or b % teiler != 0:\n",
    "        teiler -= 1\n",
    "    return teiler"
   ]
  },
  {
   "cell_type": "code",
   "execution_count": 4,
   "metadata": {},
   "outputs": [],
   "source": [
    "def ggt(a,b):\n",
    "    '''\n",
    "    a, b: positive ganze Zahlen\n",
    "    returns: größten gemeinsamen Teiler von a und b\n",
    "    '''\n",
    "    while a != b:\n",
    "        if (a > b):\n",
    "            a = a - b\n",
    "        else:  \n",
    "            b = b - a\n",
    "    return a"
   ]
  },
  {
   "cell_type": "code",
   "execution_count": 12,
   "metadata": {},
   "outputs": [],
   "source": [
    "def ggtTurbo(a,b):\n",
    "    '''\n",
    "    a, b: positive ganze Zahlen\n",
    "    returns: größten gemeinsamen Teiler von a und b\n",
    "    '''\n",
    "    while b != 0:\n",
    "        a, b = b, a % b\n",
    "    return a"
   ]
  },
  {
   "cell_type": "code",
   "execution_count": 13,
   "metadata": {},
   "outputs": [
    {
     "name": "stdout",
     "output_type": "stream",
     "text": [
      "Der ggT von 44 und 80 ist 4\n"
     ]
    }
   ],
   "source": [
    "a, b = 44, 80\n",
    "print('Der ggT von {} und {} ist {}'.format(a,b,ggt(a,b)))"
   ]
  },
  {
   "cell_type": "markdown",
   "metadata": {},
   "source": [
    "#### Das Sieb des Eratosthenes"
   ]
  },
  {
   "cell_type": "code",
   "execution_count": 17,
   "metadata": {},
   "outputs": [],
   "source": [
    "def eratosthenes(n):\n",
    "    '''\n",
    "    n: positive ganze Zahl\n",
    "    returns: Liste mit allen Primzahlen <= n\n",
    "    '''\n",
    "    tmp = []\n",
    "    prim = [True] * (n+1)\n",
    "    for i in range(2,n+1):\n",
    "        if prim[i]:\n",
    "            tmp.append(i)\n",
    "            for j in range(i+i,n+1,i):\n",
    "                prim[j] = False\n",
    "    return tmp"
   ]
  },
  {
   "cell_type": "code",
   "execution_count": 23,
   "metadata": {},
   "outputs": [
    {
     "name": "stdout",
     "output_type": "stream",
     "text": [
      "2 3 5 7 11 13 17 19 23 29 31 37 41 43 47 53 59 61 67 71 73 79 83 89 97\n"
     ]
    }
   ],
   "source": [
    "print(*eratosthenes(100))"
   ]
  },
  {
   "cell_type": "markdown",
   "metadata": {},
   "source": [
    "#### Binäre Suche"
   ]
  },
  {
   "cell_type": "code",
   "execution_count": 26,
   "metadata": {},
   "outputs": [],
   "source": [
    "def binaereSuche(a, x):\n",
    "    '''\n",
    "    a: sortierte Liste mit Zahlen\n",
    "    x: Zahl\n",
    "    returns: Index von x in a, falls x in a\n",
    "             -1              , falls x nicht in a\n",
    "    '''\n",
    "    links = 0\n",
    "    rechts = len(a)-1\n",
    "    mitte = (links + rechts)//2\n",
    "    while links <= rechts and a[mitte] != x:\n",
    "        if a[mitte] < x:\n",
    "            links = mitte + 1\n",
    "        else:\n",
    "            rechts = mitte - 1\n",
    "        mitte = (links + rechts)//2\n",
    "\n",
    "    if links > rechts:\n",
    "        return -1\n",
    "    else:\n",
    "        return mitte\n"
   ]
  },
  {
   "cell_type": "code",
   "execution_count": 28,
   "metadata": {},
   "outputs": [
    {
     "name": "stdout",
     "output_type": "stream",
     "text": [
      "5\n",
      "-1\n"
     ]
    }
   ],
   "source": [
    "a = [2, 4, 6, 12, 22, 42, 49]\n",
    "print(binaereSuche(a,42))\n",
    "print(binaereSuche(a,13))"
   ]
  },
  {
   "cell_type": "code",
   "execution_count": null,
   "metadata": {},
   "outputs": [],
   "source": []
  }
 ],
 "metadata": {
  "kernelspec": {
   "display_name": "Python 3",
   "language": "python",
   "name": "python3"
  },
  "language_info": {
   "codemirror_mode": {
    "name": "ipython",
    "version": 3
   },
   "file_extension": ".py",
   "mimetype": "text/x-python",
   "name": "python",
   "nbconvert_exporter": "python",
   "pygments_lexer": "ipython3",
   "version": "3.6.5"
  }
 },
 "nbformat": 4,
 "nbformat_minor": 2
}
