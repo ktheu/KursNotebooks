{
 "cells": [
  {
   "cell_type": "markdown",
   "metadata": {},
   "source": [
    "## Gleichungen lösen mit Sympy"
   ]
  },
  {
   "cell_type": "markdown",
   "metadata": {},
   "source": [
    "Die verwendeten Variablen müssen als *symbols* deklariert werden. Das Gleichheitszeichen wird durch die *Eq*-Funktion ersetzt. Für quadratische Gleichungen und Betragsgleichungen nehmen wir die Funktion *solve*, für lineare Gleichungssysteme nehmen wir *linsolve*. "
   ]
  },
  {
   "cell_type": "markdown",
   "metadata": {},
   "source": [
    "#### Import und Symbole setzen"
   ]
  },
  {
   "cell_type": "code",
   "execution_count": 9,
   "metadata": {},
   "outputs": [],
   "source": [
    "from sympy import *\n",
    " \n",
    "x = symbols(\"x\",real=True)\n",
    "# init_printing(use_unicode=True)"
   ]
  },
  {
   "cell_type": "markdown",
   "metadata": {},
   "source": [
    "#### Einfache Gleichungen\n"
   ]
  },
  {
   "cell_type": "markdown",
   "metadata": {},
   "source": [
    "Löse die Gleichung $\\frac{3}{4}x + 2 = 4x$.\n"
   ]
  },
  {
   "cell_type": "code",
   "execution_count": 2,
   "metadata": {},
   "outputs": [
    {
     "data": {
      "text/plain": [
       "[0.615384615384615]"
      ]
     },
     "execution_count": 2,
     "metadata": {},
     "output_type": "execute_result"
    }
   ],
   "source": [
    "g = Eq(3/4*x + 2,4*x)\n",
    "solve(g)"
   ]
  },
  {
   "cell_type": "markdown",
   "metadata": {},
   "source": [
    "Wenn wir die Brüche beibehalten wollen, müssen wir mit *Rational*-Objekten arbeiten. Verschiedene Möglichkeiten, Rational-Objekte zu erzeugen:"
   ]
  },
  {
   "cell_type": "code",
   "execution_count": 3,
   "metadata": {},
   "outputs": [
    {
     "name": "stdout",
     "output_type": "stream",
     "text": [
      "3/4 3/4 3/4\n"
     ]
    }
   ],
   "source": [
    "a = Rational(3,4)\n",
    "b = Rational(3/4)\n",
    "c = Rational('3/4')\n",
    "print(a,b,c)"
   ]
  },
  {
   "cell_type": "code",
   "execution_count": 4,
   "metadata": {},
   "outputs": [
    {
     "data": {
      "text/plain": [
       "[8/13]"
      ]
     },
     "execution_count": 4,
     "metadata": {},
     "output_type": "execute_result"
    }
   ],
   "source": [
    "solve(Eq(Rational(3,4)*x + 2, 4*x))"
   ]
  },
  {
   "cell_type": "markdown",
   "metadata": {},
   "source": [
    "-----\n",
    "\n",
    "#### Bruchgleichungen\n",
    "\n",
    "Löse folgende Gleichungen: \n",
    "\n",
    "a. $\\frac{4}{x^2} + \\frac{2}{x} = 2$ <br>\n",
    "b. $6 - \\frac{12}{x^2 +1} = 0$ <br>\n",
    "c. $\\frac{2}{x^4} - \\frac{1}{x^2} = 1$ <br>\n",
    "d. $\\frac{1}{x^4} - 1 = 15$ <br>\n",
    "e. $1 - \\frac{4x}{x^2+3} = 0$"
   ]
  },
  {
   "cell_type": "code",
   "execution_count": 5,
   "metadata": {},
   "outputs": [
    {
     "name": "stdout",
     "output_type": "stream",
     "text": [
      "a: [-1, 2]\n",
      "b: [-1, 1]\n",
      "c: [-1, 1]\n",
      "d: [-1/2, 1/2]\n",
      "e: [1, 3]\n"
     ]
    },
    {
     "data": {
      "text/plain": [
       "[1, 3]"
      ]
     },
     "execution_count": 5,
     "metadata": {},
     "output_type": "execute_result"
    }
   ],
   "source": [
    "g = Eq(4/(x**2) + 2/x, 2)\n",
    "print(\"a:\",solve(g))\n",
    "\n",
    "g = Eq(6 - 12/(x**2+1))\n",
    "print(\"b:\",solve(g)) \n",
    "\n",
    "g = Eq(2/x**4 - 1/x**2, 1)\n",
    "print(\"c:\",solve(g))\n",
    "\n",
    "g = Eq(1/x**4-1,15)\n",
    "print(\"d:\",solve(g)) \n",
    "\n",
    "g = Eq(1 - (4*x)/(x**2+3), 0)\n",
    "print(\"e:\",solve(g)) \n",
    "solve(g)"
   ]
  },
  {
   "cell_type": "markdown",
   "metadata": {},
   "source": [
    " -----\n",
    " \n",
    " #### Exponentialgleichungen\n",
    " \n",
    " Löse folgende Gleichungen:\n",
    " \n",
    " a. $(x^2-4)\\cdot \\mathrm{e}^{0.5x} = 0$ <br>\n",
    " b. $\\mathrm{e}^{3x} - 3\\mathrm{e}^x = 0$  <br>\n",
    " c. $\\mathrm{e}^{4x} - 5\\mathrm{e}^{2x} + 6 = 0$ <br>\n",
    " d. $\\mathrm{e}^x - 8\\mathrm{e}^{-x} = 2$"
   ]
  },
  {
   "cell_type": "code",
   "execution_count": 65,
   "metadata": {},
   "outputs": [
    {
     "name": "stdout",
     "output_type": "stream",
     "text": [
      "a. [-2, 2, zoo]\n",
      "b. [log(sqrt(3))]\n",
      "c. [log(sqrt(2)), log(sqrt(3))]\n",
      "d. [log(4)]\n"
     ]
    }
   ],
   "source": [
    "g = Eq((x**2 - 4)*E**(Rational(1,2)*x),0)\n",
    "print('a.',solve(g))\n",
    "\n",
    "g = Eq(E**(3*x) - 3*E**x, 0)\n",
    "print('b.',solve(g))\n",
    "\n",
    "g = Eq(E**(4*x) - 5*E**(2*x) + 6, 0)\n",
    "print('c.',solve(g))\n",
    "\n",
    "g = Eq(E**x - 8*E**(-x), 2)\n",
    "print('d.',solve(g))\n",
    "\n",
    "\n",
    "# zoo = complex infinity"
   ]
  },
  {
   "cell_type": "markdown",
   "metadata": {},
   "source": [
    "-----\n",
    "#### Trigonometrische Gleichungen\n",
    "\n",
    "Löse folgende Gleichungen:\n",
    "\n",
    "a. $\\sin(3x) = 1, \\quad x \\in [0;2\\pi]$  <br>\n",
    "b. $\\cos(x - \\frac{\\pi}{2}) = -1, \\quad x \\in [-\\pi;2\\pi]$ <br>\n",
    "c. $\\cos(x) \\cdot (\\cos(x) + 1) = 0, \\quad x \\in [0;\\pi]$ "
   ]
  },
  {
   "cell_type": "code",
   "execution_count": 56,
   "metadata": {},
   "outputs": [
    {
     "name": "stdout",
     "output_type": "stream",
     "text": [
      "a: [pi/6, 5*pi/6, 3*pi/2]\n",
      "b: [pi/6]\n",
      "c: [pi/2, pi]\n"
     ]
    }
   ],
   "source": [
    "def loesungen(alist, periode, von, bis):\n",
    "    tmp = []\n",
    "    for a in alist:\n",
    "        if von <= a <= bis: \n",
    "            tmp.append(a)\n",
    "        x = a + periode\n",
    "        while x <= bis:\n",
    "            tmp.append(x)\n",
    "            x += periode\n",
    "        x = a - periode\n",
    "        while von <= x :\n",
    "            tmp.append(x)\n",
    "            x -= periode\n",
    "    tmp.sort()\n",
    "    return tmp\n",
    "        \n",
    "\n",
    "g = Eq(sin(3*x), 1)\n",
    "a = solve(g)\n",
    "periode = 2*pi/3\n",
    "print(\"a:\",loesungen(a,periode,0, 2*pi))\n",
    "\n",
    "g = Eq(cos(x - pi/2),-1)\n",
    "periode = 2*pi\n",
    "print(\"b:\",loesungen(a,periode,-pi,2*pi))\n",
    "\n",
    "g = Eq(cos(x)*(cos(x)+1), 0)\n",
    "periode = 2*pi\n",
    "a = solve(g) \n",
    "print(\"c:\",loesungen(a,periode,0,pi))\n"
   ]
  },
  {
   "cell_type": "markdown",
   "metadata": {},
   "source": [
    "---------\n",
    "\n",
    "#### Ungleichungen\n",
    "\n",
    "Bestimme die Lösungsmengen folgender Ungleichungen\n",
    "\n",
    "a. $2x > x^2$  <br>\n",
    "b. $4*x < x**2$  <br>\n",
    "c. $x^2 + 2x < 3$  <br>\n",
    "d. $(x + 2) \\cdot \\mathrm{e}^{2x} > 0$"
   ]
  },
  {
   "cell_type": "code",
   "execution_count": 64,
   "metadata": {},
   "outputs": [
    {
     "name": "stdout",
     "output_type": "stream",
     "text": [
      "a: (0 < x) & (x < 2)\n",
      "b: ((-oo < x) & (x < 0)) | ((4 < x) & (x < oo))\n",
      "c: (-3 < x) & (x < 1)\n",
      "d: (-2 < x) & (x < oo)\n"
     ]
    }
   ],
   "source": [
    "a = solve(2*x > x**2)\n",
    "print(\"a:\",a)\n",
    "\n",
    "a = solve(4*x < x**2)\n",
    "print(\"b:\",a)\n",
    "\n",
    "a = solve(x**2 + 2*x < 3)\n",
    "print(\"c:\",a)\n",
    "\n",
    "a = solve((x+2)*E**(2*x) > 0)\n",
    "print(\"d:\",a)"
   ]
  },
  {
   "cell_type": "markdown",
   "metadata": {},
   "source": [
    "-----\n",
    "#### Sonderfälle\n",
    "\n",
    "Wenn eine Gleichung immer richtig ist, wertet sie sich zu True aus, wenn sie immer falsch ist, wertet sie sich zu False aus"
   ]
  },
  {
   "cell_type": "code",
   "execution_count": 26,
   "metadata": {},
   "outputs": [
    {
     "name": "stdout",
     "output_type": "stream",
     "text": [
      "True True True\n",
      "False False\n"
     ]
    }
   ],
   "source": [
    "print(Eq(1,1), Eq(x,x), Eq(0*x,0))\n",
    "print(Eq(1,2), Eq(0*x,4))"
   ]
  }
 ],
 "metadata": {
  "kernelspec": {
   "display_name": "Python 3",
   "language": "python",
   "name": "python3"
  },
  "language_info": {
   "codemirror_mode": {
    "name": "ipython",
    "version": 3
   },
   "file_extension": ".py",
   "mimetype": "text/x-python",
   "name": "python",
   "nbconvert_exporter": "python",
   "pygments_lexer": "ipython3",
   "version": "3.6.5"
  }
 },
 "nbformat": 4,
 "nbformat_minor": 2
}
