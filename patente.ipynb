{
 "cells": [
  {
   "cell_type": "markdown",
   "metadata": {},
   "source": [
    "### Beispiel aus dem Local Search Artikel"
   ]
  },
  {
   "cell_type": "code",
   "execution_count": 101,
   "metadata": {},
   "outputs": [],
   "source": [
    "import matplotlib.pyplot as plt\n",
    "import numpy as np\n",
    "np.set_printoptions(linewidth=120) \n"
   ]
  },
  {
   "cell_type": "code",
   "execution_count": 87,
   "metadata": {},
   "outputs": [],
   "source": [
    "'''\n",
    "Die Firmen A, B, C sind mit 0, 1, 2 kodiert\n",
    "Es sind 9 Patente 0-8 verfügbar\n",
    "'''\n",
    "firms = list(range(3))\n",
    "patents = list(range(9))\n",
    "\n",
    "data = {0:{0,1,2,4}, 1:{2,4}, 2:{0,2,3,4,5,6,7,8}}\n",
    "    \n",
    "N = len(firms)\n",
    "V = len(patents)\n"
   ]
  },
  {
   "cell_type": "markdown",
   "metadata": {},
   "source": [
    "Wir lassen im folgenden die Indizes i,j,k über die Liste der Firmen und den Index v über die Liste der Patente laufen.\n",
    "\n",
    "In der NxV-Matrix a gibt der Koeffizient $a_{iv}$ an, ob Firma i auf das Patent v zugreift"
   ]
  },
  {
   "cell_type": "code",
   "execution_count": 76,
   "metadata": {},
   "outputs": [
    {
     "data": {
      "text/plain": [
       "array([[1., 1., 1., 0., 1., 0., 0., 0., 0.],\n",
       "       [0., 0., 1., 0., 1., 0., 0., 0., 0.],\n",
       "       [1., 0., 1., 1., 1., 1., 1., 1., 1.]])"
      ]
     },
     "execution_count": 76,
     "metadata": {},
     "output_type": "execute_result"
    }
   ],
   "source": [
    "a = np.zeros((N,V))\n",
    "for i in firms:\n",
    "    for v in patents:\n",
    "        a[i,v] = 1 if v in data[i] else 0\n",
    "\n",
    "a"
   ]
  },
  {
   "cell_type": "markdown",
   "metadata": {},
   "source": [
    "In der NxN-Matrix *alpha* gibt der Koeffizent $\\text{alpha}_{ij}$ an, z welchem Anteil Firma j die Patente nutzt, auf die Firma i zugreift."
   ]
  },
  {
   "cell_type": "code",
   "execution_count": 90,
   "metadata": {},
   "outputs": [
    {
     "data": {
      "text/plain": [
       "array([[0.   , 0.5  , 0.75 ],\n",
       "       [1.   , 0.   , 1.   ],\n",
       "       [0.375, 0.25 , 0.   ]])"
      ]
     },
     "execution_count": 90,
     "metadata": {},
     "output_type": "execute_result"
    }
   ],
   "source": [
    "alpha = np.zeros((N,N))\n",
    "for i in firms:\n",
    "    for j in firms:\n",
    "        if i == j: \n",
    "            alpha[i,j] = 0\n",
    "        else:\n",
    "            alpha[i,j] = np.sum([a[i,v]*a[j,v] for v in patents])/np.sum([a[i,v] for v in patents])\n",
    "alpha"
   ]
  },
  {
   "cell_type": "markdown",
   "metadata": {},
   "source": [
    "Beispiel: alpha[2,1] = 0.25, d.h Firma 1 greift auf 25% der Patente zu, auf die Firma 2 zugreift.\n"
   ]
  },
  {
   "cell_type": "code",
   "execution_count": 93,
   "metadata": {},
   "outputs": [
    {
     "data": {
      "text/plain": [
       "array([[0.       , 0.2795085, 0.25     ],\n",
       "       [0.2795085, 0.       , 0.6731456],\n",
       "       [0.25     , 0.6731456, 0.       ]])"
      ]
     },
     "execution_count": 93,
     "metadata": {},
     "output_type": "execute_result"
    }
   ],
   "source": [
    "d = np.zeros((N,N))\n",
    "for i in firms:\n",
    "    for j in firms:\n",
    "        summe = 0\n",
    "        for k in firms:\n",
    "            if k == i or k == j: continue\n",
    "            summe += (alpha[i,k]-alpha[j,k])**2 + (alpha[k,i]-alpha[k,j])**2   \n",
    "        d[i,j]=np.sqrt(summe)\n",
    "d"
   ]
  },
  {
   "cell_type": "markdown",
   "metadata": {},
   "source": [
    "d ist die Abstandsmatrix\n",
    "Der Abstand zwischen zwei Firmen i,j ist die Summe aller Unterschiede, mit denen i,j sich für die Patente anderer Firmen k interessieren und der Unterschiede, mit denen sich andere Firmen k für die Patente von i und j interessieren."
   ]
  },
  {
   "cell_type": "code",
   "execution_count": 100,
   "metadata": {},
   "outputs": [
    {
     "data": {
      "image/png": "[encoded data removed]",
      "text/plain": [
       "<Figure size 432x288 with 1 Axes>"
      ]
     },
     "metadata": {
      "needs_background": "light"
     },
     "output_type": "display_data"
    }
   ],
   "source": [
    "from sklearn.manifold import MDS\n",
    "np.random.seed(2)\n",
    "embedding = MDS(n_components=2,dissimilarity = 'precomputed')\n",
    "m = embedding.fit_transform(d)\n",
    "plt.axis('equal')\n",
    "plt.scatter(m[:, 0], m[:, 1], color='navy') \n",
    "for i in firms:\n",
    "    plt.annotate(i,(m[i,0]+0.01,m[i,1]))\n",
    " "
   ]
  },
  {
   "cell_type": "markdown",
   "metadata": {},
   "source": [
    "### Vergleich zweier Datensätze\n",
    "\n",
    "Firma 1 interessiert sich in der nächsten Zeiteinheit für drei weitere Bereiche interessiert: 5,6,7"
   ]
  },
  {
   "cell_type": "code",
   "execution_count": 106,
   "metadata": {},
   "outputs": [],
   "source": [
    "data0 = {0:{0,1,2,4}, 1:{2,4}, 2:{0,2,3,4,5,6,7,8}}\n",
    "data1 = {0:{0,1,2,4}, 1:{2,4,5}, 2:{0,2,3,4,5,6,7,8}}"
   ]
  },
  {
   "cell_type": "code",
   "execution_count": 107,
   "metadata": {},
   "outputs": [
    {
     "data": {
      "image/png": "[encoded data removed]",
      "text/plain": [
       "<Figure size 432x288 with 1 Axes>"
      ]
     },
     "metadata": {
      "needs_background": "light"
     },
     "output_type": "display_data"
    },
    {
     "data": {
      "image/png": "[encoded data removed]",
      "text/plain": [
       "<Figure size 432x288 with 1 Axes>"
      ]
     },
     "metadata": {
      "needs_background": "light"
     },
     "output_type": "display_data"
    }
   ],
   "source": [
    "def getDistance(data):\n",
    "    a = np.zeros((N,V))\n",
    "    for i in firms:\n",
    "        for v in patents:\n",
    "            a[i,v] = 1 if v in data[i] else 0\n",
    "            \n",
    "    alpha = np.zeros((F,F))\n",
    "    for i in firms:\n",
    "        for j in firms:\n",
    "            if i == j: \n",
    "                alpha[i,j] = 0\n",
    "            else:\n",
    "                alpha[i,j] = np.sum([a[i,v]*a[j,v] for v in patents])/np.sum([a[i,v] for v in patents])\n",
    "    d = np.zeros((N,N))\n",
    "    for i in firms:\n",
    "        for j in firms:\n",
    "            summe = 0\n",
    "            for k in firms:\n",
    "                if k == i or k == j: continue\n",
    "                summe += (alpha[i,k]-alpha[j,k])**2 + (alpha[k,i]-alpha[k,j])**2   \n",
    "            d[i,j]=np.sqrt(summe)\n",
    "    return d\n",
    "\n",
    "def plotDistance(d):\n",
    "    np.random.seed(2)\n",
    "    embedding = MDS(n_components=2,dissimilarity = 'precomputed')\n",
    "    m = embedding.fit_transform(d)\n",
    "    plt.axis('equal')\n",
    "    plt.xlim(-1, 1)\n",
    "    plt.ylim(-1, 1)\n",
    "    plt.scatter(m[:, 0], m[:, 1], color='navy') \n",
    "    for i in range(F):\n",
    "        plt.annotate(i,(m[i,0]+0.05,m[i,1]))\n",
    "    plt.show()\n",
    "    \n",
    "d0 = getDistance(data0)\n",
    "d1 = getDistance(data1)\n",
    "\n",
    "plotDistance(d0)\n",
    "plotDistance(d1)\n",
    " \n",
    " "
   ]
  },
  {
   "cell_type": "markdown",
   "metadata": {},
   "source": [
    "### Vergleich zwischen Zeiteinheiten\n",
    "\n",
    "Die Elemente der Matrix dd zeigt die Differenz zwischen Firma i zum Zeitpunkt l zu Firma j zum Zeitpunkt m.\n",
    "Für 2 Zeitpunkte 0 und 1 zeigt die Matrix b, wo die Werte in der 6x6 Matrix stehen."
   ]
  },
  {
   "cell_type": "code",
   "execution_count": 108,
   "metadata": {},
   "outputs": [
    {
     "data": {
      "text/plain": [
       "array([['0 0 0 0', '0 1 0 0', '0 2 0 0', '0 0 0 1', '0 1 0 1', '0 2 0 1'],\n",
       "       ['1 0 0 0', '1 1 0 0', '1 2 0 0', '1 0 0 1', '1 1 0 1', '1 2 0 1'],\n",
       "       ['2 0 0 0', '2 1 0 0', '2 2 0 0', '2 0 0 1', '2 1 0 1', '2 2 0 1'],\n",
       "       ['0 0 1 0', '0 1 1 0', '0 2 1 0', '0 0 1 1', '0 1 1 1', '0 2 1 1'],\n",
       "       ['1 0 1 0', '1 1 1 0', '1 2 1 0', '1 0 1 1', '1 1 1 1', '1 2 1 1'],\n",
       "       ['2 0 1 0', '2 1 1 0', '2 2 1 0', '2 0 1 1', '2 1 1 1', '2 2 1 1']], dtype=object)"
      ]
     },
     "execution_count": 108,
     "metadata": {},
     "output_type": "execute_result"
    }
   ],
   "source": [
    "b =  np.zeros((6,6),dtype=object)   \n",
    "for k1 in range(6):\n",
    "    for k2 in range(6):\n",
    "        l = k1 // 3\n",
    "        m = k2 // 3\n",
    "        i = k1 % 3\n",
    "        j = k2 % 3\n",
    "        s = '{} {} {} {}'.format(str(i),str(j),str(l),str(m))\n",
    "       \n",
    "        b[k1,k2]= s\n",
    "b"
   ]
  },
  {
   "cell_type": "raw",
   "metadata": {},
   "source": [
    "Wenn an der Stelle 2 1 1 0 steht: 0.25, dann bedeutet dies:\n",
    "Der Abstand von Firma 2 zum Zeitpunkt 1 zur Firma 1 zum Zeitpunkt 0 beträgt 0.25\n",
    "\n",
    " "
   ]
  },
  {
   "cell_type": "code",
   "execution_count": 109,
   "metadata": {},
   "outputs": [
    {
     "data": {
      "text/plain": [
       "array([[[0.        , 0.5       , 0.75      ],\n",
       "        [1.        , 0.        , 1.        ],\n",
       "        [0.375     , 0.25      , 0.        ]],\n",
       "\n",
       "       [[0.        , 0.5       , 0.75      ],\n",
       "        [0.66666667, 0.        , 1.        ],\n",
       "        [0.375     , 0.375     , 0.        ]]])"
      ]
     },
     "execution_count": 109,
     "metadata": {},
     "output_type": "execute_result"
    }
   ],
   "source": [
    "def getAlpha(data):\n",
    "    a = np.zeros((N,V))\n",
    "    for i in firms:\n",
    "        for v in patents:\n",
    "            a[i,v] = 1 if v in data[i] else 0\n",
    "            \n",
    "    alpha = np.zeros((F,F))\n",
    "    for i in firms:\n",
    "        for j in firms:\n",
    "            if i == j: \n",
    "                alpha[i,j] = 0\n",
    "            else:\n",
    "                alpha[i,j] = np.sum([a[i,v]*a[j,v] for v in patents])/np.sum([a[i,v] for v in patents])\n",
    "    return alpha\n",
    "\n",
    "alpha0 = getAlpha(data0)\n",
    "alpha1 = getAlpha(data1)\n",
    "\n",
    "alphaA = np.zeros((2,3,3))\n",
    "alphaA[0,:,:] = alpha0\n",
    "alphaA[1,:,:] = alpha1\n",
    "alphaA"
   ]
  },
  {
   "cell_type": "code",
   "execution_count": 110,
   "metadata": {},
   "outputs": [
    {
     "data": {
      "text/plain": [
       "array([[0.        , 0.2795085 , 0.25      , 0.16666667, 0.25      , 0.125     ],\n",
       "       [0.2795085 , 0.        , 0.6731456 , 0.2795085 , 0.17800008, 0.6731456 ],\n",
       "       [0.25      , 0.6731456 , 0.        , 0.41666667, 0.38414769, 0.0625    ],\n",
       "       [0.16666667, 0.2795085 , 0.41666667, 0.        , 0.25      , 0.35600016],\n",
       "       [0.25      , 0.17800008, 0.38414769, 0.25      , 0.        , 0.38414769],\n",
       "       [0.125     , 0.6731456 , 0.0625    , 0.35600016, 0.38414769, 0.        ]])"
      ]
     },
     "execution_count": 110,
     "metadata": {},
     "output_type": "execute_result"
    }
   ],
   "source": [
    "dd = np.zeros((6,6))\n",
    "for k1 in range(6):\n",
    "    for k2 in range(6):\n",
    "        l = k1 // 3\n",
    "        m = k2 // 3\n",
    "        i = k1 % 3\n",
    "        j = k2 % 3\n",
    "        faktor = 0.5 if (i == j and l != m) else 1\n",
    "        tmp = 0\n",
    "        for k in range(3):\n",
    "            if k != i and k != j:\n",
    "                s1 = (alphaA[l,i,k] - alphaA[m,j,k])**2\n",
    "                s2 = (alphaA[l,k,i] - alphaA[m,k,j])**2\n",
    "                tmp = tmp + s1 + s2\n",
    "            \n",
    "            \n",
    "        dd[k1,k2] = faktor*np.sqrt(tmp)\n",
    "dd       \n"
   ]
  },
  {
   "cell_type": "code",
   "execution_count": 111,
   "metadata": {},
   "outputs": [
    {
     "data": {
      "image/png": "[encoded data removed]",
      "text/plain": [
       "<Figure size 432x288 with 1 Axes>"
      ]
     },
     "metadata": {
      "needs_background": "light"
     },
     "output_type": "display_data"
    }
   ],
   "source": [
    "from sklearn.manifold import MDS\n",
    "np.random.seed(42)\n",
    "embedding = MDS(n_components=2, dissimilarity = 'precomputed')\n",
    "m = embedding.fit_transform(dd)\n",
    "plt.axis('equal')\n",
    "plt.scatter(m[:, 0], m[:, 1], color='navy') \n",
    "for i in range(F):\n",
    "    plt.annotate(i,(m[i,0],m[i,1]))\n",
    "    plt.annotate(i,(m[i+3,0],m[i+3,1]),color='red')"
   ]
  },
  {
   "cell_type": "code",
   "execution_count": null,
   "metadata": {},
   "outputs": [],
   "source": []
  }
 ],
 "metadata": {
  "kernelspec": {
   "display_name": "Python 3",
   "language": "python",
   "name": "python3"
  },
  "language_info": {
   "codemirror_mode": {
    "name": "ipython",
    "version": 3
   },
   "file_extension": ".py",
   "mimetype": "text/x-python",
   "name": "python",
   "nbconvert_exporter": "python",
   "pygments_lexer": "ipython3",
   "version": "3.7.7"
  }
 },
 "nbformat": 4,
 "nbformat_minor": 4
}
