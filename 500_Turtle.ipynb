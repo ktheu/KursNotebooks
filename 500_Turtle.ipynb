{
 "cells": [
  {
   "cell_type": "markdown",
   "metadata": {},
   "source": [
    "# Turtle\n"
   ]
  },
  {
   "cell_type": "markdown",
   "metadata": {},
   "source": [
    "### Interactiver Modus in der Shell\n",
    "Gib nacheinander die folgende Befehle in der Shell ein.\n",
    "Beim ersten Turtle-Befehl öffnet sich ein 960 x 810 grosses\n",
    "Turtle-Grafik Fenster. Der Nullpunkt (0/0) ist in der Mitte des Fensters.\n"
   ]
  },
  {
   "cell_type": "code",
   "execution_count": null,
   "metadata": {},
   "outputs": [],
   "source": [
    "from turtle import *\n",
    "fd(100)               # gehe 100 Pixel vorwärts = forward(100)\n",
    "right(90)             # drehe nach rechts um 90 Grad\n",
    "pensize(5)            # setze Stiftstärke auf 5\n",
    "fd(80)\n",
    "shape('turtle')       # zeige die Turtle in Gestalt einer 'turtle'\n",
    "right(120)\n",
    "color('blue')         # setze Stift und Füllfarbe\n",
    "fd(50)\n",
    "ht()                  # die Turtle verschwindet = hideturtle()\n",
    "dot(30,'red')         # einen 30 Pixel dicken roten Punkt malen\n",
    "setheading(180)       # Richtung nach links setzen\n",
    "color('green')\n",
    "fd(100)\n",
    "circle(50)\n",
    "goto(100,100)         # zu einer Position gehen\n",
    "penup()               # Stift anheben = pu()\n",
    "goto(-100,100)\n",
    "pendown()             # Stift absenken = pd()\n",
    "dot(30,'red')\n",
    "home()                # zum Ursprung (0/0) gehen\n"
   ]
  },
  {
   "cell_type": "markdown",
   "metadata": {},
   "source": [
    "![](img/turtle01.png)"
   ]
  },
  {
   "cell_type": "markdown",
   "metadata": {},
   "source": [
    "### Turtle als Objekt\n",
    "In Python-Programmen können wir die Turtle und ihren Screen auch als Objekte nutzen.\n",
    "  Es kann nur einen Screen aber mehrere Turtles geben."
   ]
  },
  {
   "cell_type": "code",
   "execution_count": 2,
   "metadata": {},
   "outputs": [],
   "source": [
    "from turtle import Turtle, Screen\n",
    "\n",
    "bob = Turtle()\n",
    "alice = Turtle()\n",
    "screen = Screen()\n",
    "\n",
    "screen.bgcolor('yellow')   # setze die Hintergrundfarbe\n",
    "bob.color('red')\n",
    "alice.color('blue')\n",
    "for i in range(4):\n",
    "    bob.fd(100)\n",
    "    alice.fd(150)\n",
    "    bob.right(90)\n",
    "    alice.right(90)\n"
   ]
  },
  {
   "cell_type": "markdown",
   "metadata": {},
   "source": [
    " Um das gezeichnete Bild möglichst schnell zu sehen, schalten wir die Animation mit\n",
    "  der tracer-Methode aus. Die update-Methode sorgt dafür, dass die Zeichnung am Ende\n",
    "  erscheint."
   ]
  },
  {
   "cell_type": "code",
   "execution_count": 1,
   "metadata": {},
   "outputs": [],
   "source": [
    "from turtle import Turtle, Screen\n",
    "\n",
    "bob = Turtle()\n",
    "alice = Turtle()\n",
    "bob.ht()                   # hideturtle\n",
    "alice.ht()\n",
    "\n",
    "screen = Screen()\n",
    "screen.tracer(0,0)         # Animation aus\n",
    "screen.bgcolor('yellow')   # setze die Hintergrundfarbe\n",
    "bob.color('red')\n",
    "alice.color('blue')\n",
    "for i in range(4):\n",
    "    bob.fd(100)\n",
    "    alice.fd(150)\n",
    "    bob.right(90)\n",
    "    alice.right(90)\n",
    "\n",
    "screen.update()            # Zeichnung anzeigen\n"
   ]
  },
  {
   "cell_type": "markdown",
   "metadata": {},
   "source": [
    "Wir erzeugen eine neue Klasse Stiftsturtle, die von Turtle erbt und eine\n",
    "    neue Funktionalität bereitstellt."
   ]
  },
  {
   "cell_type": "code",
   "execution_count": null,
   "metadata": {},
   "outputs": [],
   "source": [
    "from turtle import Turtle, Screen\n",
    "\n",
    "class Stiftsturtle(Turtle):\n",
    "    def __init__(self):\n",
    "        super().__init__()\n",
    "        self.ht()\n",
    "\n",
    "    def quadrat(self,x,y,laenge,farbe=None):\n",
    "        '''\n",
    "        x, y, laenge: int\n",
    "        farbe: String mit Farbname oder Tupel mit Farbwerten. Wenn\n",
    "            kein Wert übergeben wird, wird eine zufällige Farbe gewählt.\n",
    "        returns: nichts, zeichnet ein Quadrat der Länge laenge und\n",
    "            Farbe farbe an die Position (x/y).\n",
    "        '''\n",
    "        from random import random\n",
    "        self.penup()\n",
    "        self.goto(x,y)\n",
    "        self.pendown()\n",
    "        if farbe is None:\n",
    "            farbe = (random(),random(),random())\n",
    "        self.color(farbe)\n",
    "        self.begin_fill()\n",
    "\n",
    "        for k in  range(4):\n",
    "            self.fd(laenge)\n",
    "            self.right(90)\n",
    "        self.end_fill()\n",
    "\n",
    "screen = Screen()\n",
    "screen.tracer(0,0)\n",
    "\n",
    "bob = Stiftsturtle()\n",
    "bob.quadrat(100,100,50,'red')\n",
    "bob.quadrat(-200,0,100,(1,1,0))\n",
    "bob.quadrat(-300,200,150)"
   ]
  },
  {
   "cell_type": "markdown",
   "metadata": {},
   "source": [
    "##### Aufgabe1:\n",
    "Denke dir eine neue Funktionalitäten für die Stiftsturtle aus und implementiere sie."
   ]
  },
  {
   "cell_type": "markdown",
   "metadata": {},
   "source": [
    "##### Aufgabe2:\n",
    "Implementiere in der Stiftsturtle eine Methode *rechteck(x,y,breite,hoehe,linienfarbe,liniendicke,fuellfarbe)*.\n",
    "An Position (x/y) soll ein Rechteck mit Breite *breite* und Höhe *hoehe*\n",
    "gezeichnet werden. Die Umrandung hat die Farbe *linienfarbe* und die Dicke *liniendicke*. Das\n",
    "Rechteck ist mit der Farbe *fuellfarbe* gefüllt. Wenn keine Argumente übergeben werden,\n",
    "sollen Zufallswerte innerhalb sinnvoller Grenzen gewählt werden.\n",
    "\n",
    "Zeichne dann 400 Rechtecke\n",
    "\n",
    "![](img/stiftsturtle_02.png)\n"
   ]
  },
  {
   "cell_type": "markdown",
   "metadata": {},
   "source": [
    "Die Methode *onscreenclick* wird eine Funktion übergeben, die zwei Parameter erwartet. Diese Parameter werden mit der Koordinate der Maus gefüllt."
   ]
  },
  {
   "cell_type": "code",
   "execution_count": null,
   "metadata": {},
   "outputs": [],
   "source": [
    "from turtle import Turtle, Screen\n",
    "\n",
    "def printxy(x,y):\n",
    "    print(x,y)\n",
    "    \n",
    "screen = Screen()\n",
    "bob = Turtle()\n",
    "screen.onscreenclick(printxy)"
   ]
  },
  {
   "cell_type": "code",
   "execution_count": null,
   "metadata": {},
   "outputs": [],
   "source": [
    "'''\n",
    "btn=1: linke Maustaste\n",
    "btn=3: rechte Maustaste\n",
    "'''\n",
    "\n",
    "from turtle import Turtle, Screen\n",
    "\n",
    "def print1(x,y):\n",
    "    print(\"x=\",x)\n",
    "def print3(x,y):\n",
    "    print(\"y=\",y)\n",
    "    \n",
    "screen = Screen()\n",
    "bob = Turtle()\n",
    "screen.onscreenclick(print1,btn=1)\n",
    "screen.onscreenclick(print3,btn=3)\n",
    "screen.mainloop()"
   ]
  },
  {
   "cell_type": "code",
   "execution_count": null,
   "metadata": {},
   "outputs": [],
   "source": []
  }
 ],
 "metadata": {
  "kernelspec": {
   "display_name": "Python 3",
   "language": "python",
   "name": "python3"
  },
  "language_info": {
   "codemirror_mode": {
    "name": "ipython",
    "version": 3
   },
   "file_extension": ".py",
   "mimetype": "text/x-python",
   "name": "python",
   "nbconvert_exporter": "python",
   "pygments_lexer": "ipython3",
   "version": "3.6.5"
  }
 },
 "nbformat": 4,
 "nbformat_minor": 2
}
