{
 "cells": [
  {
   "cell_type": "markdown",
   "metadata": {},
   "source": [
    "# Turtle\n"
   ]
  },
  {
   "cell_type": "markdown",
   "metadata": {},
   "source": [
    "### Interactiver Modus in der Shell\n",
    "Gib nacheinander die folgende Befehle in der Shell ein.\n",
    "Beim ersten Turtle-Befehl öffnet sich ein 960 x 810 grosses\n",
    "Turtle-Grafik Fenster. Der Nullpunkt (0/0) ist in der Mitte des Fensters.\n"
   ]
  },
  {
   "cell_type": "code",
   "execution_count": null,
   "metadata": {},
   "outputs": [],
   "source": [
    "from turtle import *\n",
    "fd(100)               # gehe 100 Pixel vorwärts = forward(100)\n",
    "right(90)             # drehe nach rechts um 90 Grad\n",
    "pensize(5)            # setze Stiftstärke auf 5\n",
    "fd(80)\n",
    "shape('turtle')       # zeige die Turtle in Gestalt einer 'turtle'\n",
    "right(120)\n",
    "color('blue')         # setze Stift und Füllfarbe\n",
    "fd(50)\n",
    "ht()                  # die Turtle verschwindet = hideturtle()\n",
    "dot(30,'red')         # einen 30 Pixel dicken roten Punkt malen\n",
    "setheading(180)       # Richtung nach links setzen\n",
    "color('green')\n",
    "fd(100)\n",
    "color('green')\n",
    "circle(50)\n",
    "goto(100,100)         # zu einer Position gehen\n",
    "penup()               # Stift anheben = pu()\n",
    "goto(-100,100)\n",
    "pendown()             # Stift absenken = pd()\n",
    "dot(30,'red')\n",
    "home()                # zum Ursprung (0/0) gehen\n",
    "reset()               # Zeichnungen löschen und Turtle nach (0/0)\n"
   ]
  },
  {
   "cell_type": "markdown",
   "metadata": {},
   "source": [
    "<img src=\"attachment:turtle01.png\" width=\"40\">"
   ]
  },
  {
   "cell_type": "code",
   "execution_count": null,
   "metadata": {},
   "outputs": [],
   "source": []
  }
 ],
 "metadata": {
  "kernelspec": {
   "display_name": "Python 3",
   "language": "python",
   "name": "python3"
  },
  "language_info": {
   "codemirror_mode": {
    "name": "ipython",
    "version": 3
   },
   "file_extension": ".py",
   "mimetype": "text/x-python",
   "name": "python",
   "nbconvert_exporter": "python",
   "pygments_lexer": "ipython3",
   "version": "3.6.5"
  }
 },
 "nbformat": 4,
 "nbformat_minor": 2
}
