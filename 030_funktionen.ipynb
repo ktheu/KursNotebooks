{
 "cells": [
  {
   "cell_type": "markdown",
   "metadata": {},
   "source": [
    "# Funktionen"
   ]
  },
  {
   "cell_type": "markdown",
   "metadata": {},
   "source": [
    "Funktionen beginnen mit dem Schlüsselwort *def*. Sie haben\n",
    " - einen Namen\n",
    " - Parameter (0 oder mehr)\n",
    " - einen docstring (optional, aber empfohlen)\n",
    " - einen Funktionsrumpf\n",
    " \n",
    "Mit *return* können Funktionen eine Wert zurückgeben. Fehlt *return* wird *None* zurückgegeben."
   ]
  },
  {
   "cell_type": "markdown",
   "metadata": {},
   "source": [
    "### Funktionen ohne return"
   ]
  },
  {
   "cell_type": "code",
   "execution_count": 52,
   "metadata": {},
   "outputs": [
    {
     "name": "stdout",
     "output_type": "stream",
     "text": [
      "*****\n",
      "None\n"
     ]
    }
   ],
   "source": [
    "def sterne():\n",
    "    print('*****')\n",
    "\n",
    "a = sterne()\n",
    "print(a)\n"
   ]
  },
  {
   "cell_type": "code",
   "execution_count": 53,
   "metadata": {},
   "outputs": [
    {
     "name": "stdout",
     "output_type": "stream",
     "text": [
      "******************************\n",
      "********************\n"
     ]
    }
   ],
   "source": [
    "def sterne(k):               # k ist der formale Parameter\n",
    "    for i in range(k):\n",
    "        print('*',end='')    # end='' verhindert Zeilenumbruch\n",
    "    print()\n",
    "    \n",
    "sterne(30)                   # 30 ist der aktuelle Parameter\n",
    "sterne(20)\n"
   ]
  },
  {
   "cell_type": "code",
   "execution_count": 54,
   "metadata": {},
   "outputs": [
    {
     "name": "stdout",
     "output_type": "stream",
     "text": [
      "*******\n",
      "***\n"
     ]
    }
   ],
   "source": [
    "def sterne(k = 3):           # k ist optionaler Parameter mit default-Wert 3\n",
    "    for i in range(k):\n",
    "        print('*',end='')\n",
    "    print()\n",
    "    \n",
    "sterne(7)            \n",
    "sterne()"
   ]
  },
  {
   "cell_type": "markdown",
   "metadata": {},
   "source": [
    "### Funktionen mit return"
   ]
  },
  {
   "cell_type": "code",
   "execution_count": 55,
   "metadata": {},
   "outputs": [
    {
     "data": {
      "text/plain": [
       "'*****'"
      ]
     },
     "execution_count": 55,
     "metadata": {},
     "output_type": "execute_result"
    }
   ],
   "source": [
    "def sterne():\n",
    "    return '*****'\n",
    "\n",
    "sterne()\n"
   ]
  },
  {
   "cell_type": "code",
   "execution_count": 56,
   "metadata": {},
   "outputs": [
    {
     "name": "stdout",
     "output_type": "stream",
     "text": [
      "***\n",
      "************\n"
     ]
    }
   ],
   "source": [
    "def sterne(k = 3):\n",
    "    tmp = ''\n",
    "    for i in range(k):\n",
    "        tmp = tmp + '*'\n",
    "    return tmp        \n",
    "\n",
    "a = sterne()\n",
    "b = sterne(12)\n",
    "print(a)\n",
    "print(b)\n"
   ]
  },
  {
   "cell_type": "markdown",
   "metadata": {},
   "source": [
    "### Lokale und globale Variablen\n"
   ]
  },
  {
   "cell_type": "markdown",
   "metadata": {},
   "source": [
    "Beim Aufruf der Funktion wird der *formale Parameter* mit dem Objekt verbunden (binding), auf den der *aktuelle Parameter* zeigt und kann in der Funktion als *lokale Variable* benutzt werden. Innerhalb des *global frame* entsteht ein neuer frame, relativ zu dem die lokalen Variablen ihre Werte erhalten. Dies lässt sich gut im \n",
    "__[Python Tutor](http://www.pythontutor.com/visualize.html#mode=edit)__ oder im Debug-Modus von *Thonny* verfolgen."
   ]
  },
  {
   "cell_type": "code",
   "execution_count": 57,
   "metadata": {},
   "outputs": [
    {
     "name": "stdout",
     "output_type": "stream",
     "text": [
      "15\n",
      "4\n"
     ]
    }
   ],
   "source": [
    "def aufsum(x, y):\n",
    "    summe = 0\n",
    "    while x <= y:\n",
    "        summe += x\n",
    "        x += 1             # das lokale x verändert seinen Wert\n",
    "    return summe\n",
    "\n",
    "x = 4\n",
    "z = 6\n",
    "y = aufsum(x, z)\n",
    "print(y)\n",
    "print(x)                   # das globale x bleibt unverändert"
   ]
  },
  {
   "cell_type": "markdown",
   "metadata": {},
   "source": [
    "Globale Variablen sind außerhalb der Funktionen definiert. Funktionen können auf globale Variablen lesend zugreifen."
   ]
  },
  {
   "cell_type": "code",
   "execution_count": 58,
   "metadata": {},
   "outputs": [
    {
     "name": "stdout",
     "output_type": "stream",
     "text": [
      "11\n"
     ]
    }
   ],
   "source": [
    "x = 10      # globale Variable\n",
    "def f(k):\n",
    "    return k + x\n",
    "\n",
    "print(f(1))"
   ]
  },
  {
   "cell_type": "markdown",
   "metadata": {},
   "source": [
    "Lokale Variablen verdecken gleichnamige globale Variablen."
   ]
  },
  {
   "cell_type": "code",
   "execution_count": 59,
   "metadata": {},
   "outputs": [
    {
     "name": "stdout",
     "output_type": "stream",
     "text": [
      "6\n",
      "10\n"
     ]
    }
   ],
   "source": [
    "x = 10       # globale Variable\n",
    "def f(k):\n",
    "    x = 5    # lokale Variable\n",
    "    return k + x\n",
    "\n",
    "print(f(1))\n",
    "print(x)"
   ]
  },
  {
   "cell_type": "markdown",
   "metadata": {},
   "source": [
    "Innerhalb einer Funktion kann man eine globale Variable nicht verändern, es sei denn, man erklärt sie explizit als global"
   ]
  },
  {
   "cell_type": "code",
   "execution_count": 60,
   "metadata": {},
   "outputs": [
    {
     "name": "stdout",
     "output_type": "stream",
     "text": [
      "11\n"
     ]
    }
   ],
   "source": [
    "x = 10\n",
    "def f():\n",
    "    global x    # x ist globale Variable\n",
    "    x = 11\n",
    "\n",
    "f()\n",
    "print(x)"
   ]
  },
  {
   "cell_type": "markdown",
   "metadata": {},
   "source": [
    "Globale Variablen sollten möglichst sparsam eingesetzt werden. Sie erschweren den Test von Funktionen als abgeschlossene Einheiten und können zu Seiteneffekten führen. Funktionen sollten alles, was sie für ihre Arbeit benötigen, über die Parameter erhalten und alle Ergebnisse mittels return zurückgeben. Manchmal sind globale Variablen aber nützlich."
   ]
  },
  {
   "cell_type": "markdown",
   "metadata": {},
   "source": [
    "### Dokumentation / Spezifikation"
   ]
  },
  {
   "cell_type": "markdown",
   "metadata": {},
   "source": [
    "Die Spezifikation ist ein Kontrakt zwischen dem Implementierer der Funktion und dem Anwender. Es werden die Voraussetzungen für die Anwendung der Funktion aufgelistet, meist betrifft das die Werte, die die Parameter annehmen können. Es wird beschrieben, was unter diesen Voraussetzungen die Funktion tut und zurückliefert. In Python nutzen wir dazu den *docstring*."
   ]
  },
  {
   "cell_type": "code",
   "execution_count": 61,
   "metadata": {},
   "outputs": [],
   "source": [
    "def is_even(n):\n",
    "    '''\n",
    "    n: positive ganze Zahl\n",
    "    returns: True, wenn n gerade, sonst False\n",
    "    '''\n",
    "    return n % 2 == 0"
   ]
  },
  {
   "cell_type": "code",
   "execution_count": 62,
   "metadata": {},
   "outputs": [
    {
     "name": "stdout",
     "output_type": "stream",
     "text": [
      "Help on function is_even in module __main__:\n",
      "\n",
      "is_even(n)\n",
      "    n: positive ganze Zahl\n",
      "    returns: True, wenn n gerade, sonst False\n",
      "\n"
     ]
    }
   ],
   "source": [
    "help(is_even)"
   ]
  },
  {
   "cell_type": "markdown",
   "metadata": {},
   "source": [
    "### Warum Funktionen?"
   ]
  },
  {
   "cell_type": "markdown",
   "metadata": {},
   "source": [
    "- **Abstraktion**: wir müssen nicht wissen, wie die Funktion ihr Ziel erreicht, sondern nur, wie man sie anwendet (wir müssen das Interface beherrschen). Die Abstraktion wird durch einen Kontrakt ermöglicht.\n",
    "- **Dekomposition** (= Modularisierung): das Problem wird in verschiedene, eigenständige Teile aufgeteilt, die getrennt erstellt und getestet werden können und die auch an verschiedenen Stellen eingesetzt werden können (reusable)."
   ]
  },
  {
   "cell_type": "markdown",
   "metadata": {},
   "source": [
    "### return und print, Aufgabenstellungen"
   ]
  },
  {
   "cell_type": "markdown",
   "metadata": {},
   "source": [
    " - Return kann nur innerhalb einer Funktion benutzt werden, print kann auch außerhalb vorkommen.\n",
    " - In einer Funktion kann es mehrere return Anweisungen geben, aber bei der ersten Ausführung von return wird die Funktion sofort verlassen.\n",
    " - Return gibt einen Wert an den Aufrufer zurück, den man beim Aufruf in einer Variablen speichern kann, print gibt keinen Wert zurück, sondern schreibt etwas auf die Konsole.\n",
    " \n",
    "- In der Aufgabenstellung `Schreibe eine Funktion, die ... zurückgibt` \n",
    "wird mit return etwas zurückgegeben. \n",
    "- In der Aufgabenstellung `Schreibe eine Funktion, die ... ausgibt/ausdruckt` wird mit print etwas auf der Konsole ausgegeben. \n",
    "- In der Aufgabenstellung `Schreibe eine Funktion, die ... prüft` wird mit return ein boolescher Wert zurückgegeben. \n",
    "- In der Aufgabenstellung `Schreibe eine Funktion, die einen String/Zeichen/Zahl erhält ... ` oder \n",
    " `  Schreibe eine Funktion, der ein String/Zeichen/Zahl übergeben wird ...` werden die Eingabeparameter der Funktion beschrieben."
   ]
  },
  {
   "cell_type": "markdown",
   "metadata": {},
   "source": [
    "### Funktionen als Argumente\n",
    "Die Argumente von Funktionen können beliebige Typen sein, auch andere Funktionen."
   ]
  },
  {
   "cell_type": "code",
   "execution_count": 63,
   "metadata": {},
   "outputs": [
    {
     "name": "stdout",
     "output_type": "stream",
     "text": [
      "5\n"
     ]
    }
   ],
   "source": [
    "def betrag(x):\n",
    "    if x > 0: return x\n",
    "    return -x\n",
    "\n",
    "def plus10(x):\n",
    "    return x+10\n",
    "\n",
    "def verknuepf(f1,f2,k):\n",
    "    return f1(f2(k))\n",
    "\n",
    "print(verknuepf(betrag,plus10,-5))"
   ]
  },
  {
   "cell_type": "code",
   "execution_count": 64,
   "metadata": {},
   "outputs": [
    {
     "name": "stdout",
     "output_type": "stream",
     "text": [
      "15\n"
     ]
    }
   ],
   "source": [
    "print(verknuepf(plus10,betrag,-5))"
   ]
  }
 ],
 "metadata": {
  "kernelspec": {
   "display_name": "Python 3",
   "language": "python",
   "name": "python3"
  },
  "language_info": {
   "codemirror_mode": {
    "name": "ipython",
    "version": 3
   },
   "file_extension": ".py",
   "mimetype": "text/x-python",
   "name": "python",
   "nbconvert_exporter": "python",
   "pygments_lexer": "ipython3",
   "version": "3.6.5"
  }
 },
 "nbformat": 4,
 "nbformat_minor": 2
}
