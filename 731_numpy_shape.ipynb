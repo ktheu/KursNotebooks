{
 "cells": [
  {
   "cell_type": "markdown",
   "metadata": {},
   "source": [
    "#### Shapes of numpy Arrays"
   ]
  },
  {
   "cell_type": "code",
   "execution_count": 1,
   "metadata": {},
   "outputs": [],
   "source": [
    "import numpy as np"
   ]
  },
  {
   "cell_type": "code",
   "execution_count": 4,
   "metadata": {},
   "outputs": [
    {
     "data": {
      "text/plain": [
       "array([ 0,  1,  2,  3,  4,  5,  6,  7,  8,  9, 10, 11, 12, 13, 14, 15, 16,\n",
       "       17, 18, 19, 20, 21, 22, 23, 24, 25, 26, 27, 28, 29])"
      ]
     },
     "execution_count": 4,
     "metadata": {},
     "output_type": "execute_result"
    }
   ],
   "source": [
    "a = np.arange(30)\n",
    "a"
   ]
  },
  {
   "cell_type": "code",
   "execution_count": 9,
   "metadata": {},
   "outputs": [
    {
     "data": {
      "text/plain": [
       "array([[[ 0,  1,  2,  3,  4],\n",
       "        [ 5,  6,  7,  8,  9],\n",
       "        [10, 11, 12, 13, 14]],\n",
       "\n",
       "       [[15, 16, 17, 18, 19],\n",
       "        [20, 21, 22, 23, 24],\n",
       "        [25, 26, 27, 28, 29]]])"
      ]
     },
     "execution_count": 9,
     "metadata": {},
     "output_type": "execute_result"
    }
   ],
   "source": [
    "b = a.reshape(2,3,5)\n",
    "b"
   ]
  },
  {
   "cell_type": "code",
   "execution_count": 16,
   "metadata": {},
   "outputs": [
    {
     "data": {
      "text/plain": [
       "(2, 3, 5, (2, 3, 5))"
      ]
     },
     "execution_count": 16,
     "metadata": {},
     "output_type": "execute_result"
    }
   ],
   "source": [
    "len(b), len(b[0]), len(b[0,0]), b.shape"
   ]
  },
  {
   "cell_type": "code",
   "execution_count": 20,
   "metadata": {},
   "outputs": [
    {
     "data": {
      "text/plain": [
       "array([[[ 0, 15],\n",
       "        [ 5, 20],\n",
       "        [10, 25]],\n",
       "\n",
       "       [[ 1, 16],\n",
       "        [ 6, 21],\n",
       "        [11, 26]],\n",
       "\n",
       "       [[ 2, 17],\n",
       "        [ 7, 22],\n",
       "        [12, 27]],\n",
       "\n",
       "       [[ 3, 18],\n",
       "        [ 8, 23],\n",
       "        [13, 28]],\n",
       "\n",
       "       [[ 4, 19],\n",
       "        [ 9, 24],\n",
       "        [14, 29]]])"
      ]
     },
     "execution_count": 20,
     "metadata": {},
     "output_type": "execute_result"
    }
   ],
   "source": [
    "bt = b.T\n",
    "bt"
   ]
  },
  {
   "cell_type": "code",
   "execution_count": 21,
   "metadata": {},
   "outputs": [
    {
     "data": {
      "text/plain": [
       "(5, 3, 2)"
      ]
     },
     "execution_count": 21,
     "metadata": {},
     "output_type": "execute_result"
    }
   ],
   "source": [
    "bt.shape"
   ]
  },
  {
   "cell_type": "code",
   "execution_count": 37,
   "metadata": {},
   "outputs": [
    {
     "data": {
      "text/plain": [
       "array([[ 0,  1,  2,  3,  4,  5,  6,  7,  8,  9],\n",
       "       [10, 11, 12, 13, 14, 15, 16, 17, 18, 19],\n",
       "       [20, 21, 22, 23, 24, 25, 26, 27, 28, 29]])"
      ]
     },
     "execution_count": 37,
     "metadata": {},
     "output_type": "execute_result"
    }
   ],
   "source": [
    "b.reshape(3,-1)\n",
    " "
   ]
  },
  {
   "cell_type": "code",
   "execution_count": 22,
   "metadata": {},
   "outputs": [],
   "source": [
    "c = a.reshape(2,5,3)"
   ]
  },
  {
   "cell_type": "code",
   "execution_count": 23,
   "metadata": {},
   "outputs": [
    {
     "data": {
      "text/plain": [
       "array([[[ 0,  1,  2],\n",
       "        [ 3,  4,  5],\n",
       "        [ 6,  7,  8],\n",
       "        [ 9, 10, 11],\n",
       "        [12, 13, 14]],\n",
       "\n",
       "       [[15, 16, 17],\n",
       "        [18, 19, 20],\n",
       "        [21, 22, 23],\n",
       "        [24, 25, 26],\n",
       "        [27, 28, 29]]])"
      ]
     },
     "execution_count": 23,
     "metadata": {},
     "output_type": "execute_result"
    }
   ],
   "source": [
    "c"
   ]
  },
  {
   "cell_type": "code",
   "execution_count": 26,
   "metadata": {},
   "outputs": [
    {
     "name": "stdout",
     "output_type": "stream",
     "text": [
      "(3, 5, 2)\n"
     ]
    },
    {
     "data": {
      "text/plain": [
       "array([[[ 0, 15],\n",
       "        [ 3, 18],\n",
       "        [ 6, 21],\n",
       "        [ 9, 24],\n",
       "        [12, 27]],\n",
       "\n",
       "       [[ 1, 16],\n",
       "        [ 4, 19],\n",
       "        [ 7, 22],\n",
       "        [10, 25],\n",
       "        [13, 28]],\n",
       "\n",
       "       [[ 2, 17],\n",
       "        [ 5, 20],\n",
       "        [ 8, 23],\n",
       "        [11, 26],\n",
       "        [14, 29]]])"
      ]
     },
     "execution_count": 26,
     "metadata": {},
     "output_type": "execute_result"
    }
   ],
   "source": [
    "ct = c.T\n",
    "print(ct.shape)\n",
    "ct"
   ]
  },
  {
   "cell_type": "code",
   "execution_count": 28,
   "metadata": {},
   "outputs": [
    {
     "data": {
      "text/plain": [
       "array([[[ 0,  1],\n",
       "        [ 2,  3],\n",
       "        [ 4,  5],\n",
       "        [ 6,  7],\n",
       "        [ 8,  9]],\n",
       "\n",
       "       [[10, 11],\n",
       "        [12, 13],\n",
       "        [14, 15],\n",
       "        [16, 17],\n",
       "        [18, 19]],\n",
       "\n",
       "       [[20, 21],\n",
       "        [22, 23],\n",
       "        [24, 25],\n",
       "        [26, 27],\n",
       "        [28, 29]]])"
      ]
     },
     "execution_count": 28,
     "metadata": {},
     "output_type": "execute_result"
    }
   ],
   "source": [
    "d = a.reshape(3,5,2)\n",
    "d"
   ]
  },
  {
   "cell_type": "markdown",
   "metadata": {},
   "source": [
    "RGB-Daten für ein Bild 5x5 Pixel Bild werden in einer 5x5x3 Matrix geliefert.\n"
   ]
  },
  {
   "cell_type": "code",
   "execution_count": 59,
   "metadata": {},
   "outputs": [
    {
     "name": "stdout",
     "output_type": "stream",
     "text": [
      "[102 179  92  14 106  71 188  20 102 121 210 214  74 202  87 116  99 103\n",
      " 151 130 149  52   1  87 235 157  37 129 191 187  20 160 203  57  21 252\n",
      " 235  88  48 218  58 254 169 255 219 187 207  14 189 189 174 189  50 107\n",
      "  54 243  63 248 130 228  50 134  20  72 166  17 131  88  59  13 241 249\n",
      "   8  89  52]\n"
     ]
    },
    {
     "data": {
      "text/plain": [
       "array([[[102, 179,  92],\n",
       "        [ 14, 106,  71],\n",
       "        [188,  20, 102],\n",
       "        [121, 210, 214],\n",
       "        [ 74, 202,  87]],\n",
       "\n",
       "       [[116,  99, 103],\n",
       "        [151, 130, 149],\n",
       "        [ 52,   1,  87],\n",
       "        [235, 157,  37],\n",
       "        [129, 191, 187]],\n",
       "\n",
       "       [[ 20, 160, 203],\n",
       "        [ 57,  21, 252],\n",
       "        [235,  88,  48],\n",
       "        [218,  58, 254],\n",
       "        [169, 255, 219]],\n",
       "\n",
       "       [[187, 207,  14],\n",
       "        [189, 189, 174],\n",
       "        [189,  50, 107],\n",
       "        [ 54, 243,  63],\n",
       "        [248, 130, 228]],\n",
       "\n",
       "       [[ 50, 134,  20],\n",
       "        [ 72, 166,  17],\n",
       "        [131,  88,  59],\n",
       "        [ 13, 241, 249],\n",
       "        [  8,  89,  52]]])"
      ]
     },
     "execution_count": 59,
     "metadata": {},
     "output_type": "execute_result"
    }
   ],
   "source": [
    "np.random.seed(42)\n",
    "a = np.random.randint(0,256,size=(25*3))\n",
    "print(a)\n",
    "a.reshape(5,5,3)"
   ]
  },
  {
   "cell_type": "code",
   "execution_count": 60,
   "metadata": {},
   "outputs": [
    {
     "name": "stdout",
     "output_type": "stream",
     "text": [
      "(75,)\n"
     ]
    },
    {
     "data": {
      "text/plain": [
       "array([  0, 179,  92,   0, 106,  71,   0,  20, 102,   0, 210, 214,   0,\n",
       "       202,  87,   0,  99, 103,   0, 130, 149,   0,   1,  87,   0, 157,\n",
       "        37,   0, 191, 187,   0, 160, 203,   0,  21, 252,   0,  88,  48,\n",
       "         0,  58, 254,   0, 255, 219,   0, 207,  14,   0, 189, 174,   0,\n",
       "        50, 107,   0, 243,  63,   0, 130, 228,   0, 134,  20,   0, 166,\n",
       "        17,   0,  88,  59,   0, 241, 249,   0,  89,  52])"
      ]
     },
     "execution_count": 60,
     "metadata": {},
     "output_type": "execute_result"
    }
   ],
   "source": [
    "print(a.shape)\n",
    "a[::3] = 0\n",
    "a"
   ]
  },
  {
   "cell_type": "code",
   "execution_count": 53,
   "metadata": {},
   "outputs": [
    {
     "data": {
      "text/plain": [
       "array([  0, 179,  92,  14, 106,  71, 188,  20,   0, 121,   0, 214,  74,\n",
       "       202,   0, 116,   0, 103, 151, 130, 149,  52,   1,   0, 235, 157,\n",
       "        37,   0, 191, 187,  20, 160, 203,   0,   0,   0, 235,  88,   0,\n",
       "       218,  58, 254, 169,   0,   0, 187,   0,  14,   0,   0,   0,   0,\n",
       "        50, 107,   0,   0,   0, 248, 130,   0,  50, 134,  20,   0, 166,\n",
       "        17, 131,  88,  59,  13, 241,   0,   8,  89,  52])"
      ]
     },
     "execution_count": 53,
     "metadata": {},
     "output_type": "execute_result"
    }
   ],
   "source": [
    "a"
   ]
  },
  {
   "cell_type": "code",
   "execution_count": null,
   "metadata": {},
   "outputs": [],
   "source": []
  }
 ],
 "metadata": {
  "kernelspec": {
   "display_name": "Python 3",
   "language": "python",
   "name": "python3"
  },
  "language_info": {
   "codemirror_mode": {
    "name": "ipython",
    "version": 3
   },
   "file_extension": ".py",
   "mimetype": "text/x-python",
   "name": "python",
   "nbconvert_exporter": "python",
   "pygments_lexer": "ipython3",
   "version": "3.7.4"
  }
 },
 "nbformat": 4,
 "nbformat_minor": 4
}
