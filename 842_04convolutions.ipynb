{
 "cells": [
  {
   "cell_type": "code",
   "execution_count": 2,
   "metadata": {},
   "outputs": [],
   "source": [
    "import torch\n",
    "import torch.optim as optim\n",
    "import torch.nn as nn\n",
    "import torch.nn.functional as F\n",
    "import torchvision\n",
    "import torchvision.transforms as transforms\n",
    "import numpy as np\n",
    "torch.set_printoptions(linewidth=120)"
   ]
  },
  {
   "cell_type": "code",
   "execution_count": 31,
   "metadata": {},
   "outputs": [
    {
     "data": {
      "text/plain": [
       "tensor([13.], grad_fn=<AddBackward0>)"
      ]
     },
     "execution_count": 31,
     "metadata": {},
     "output_type": "execute_result"
    }
   ],
   "source": [
    "class Perceptron(nn.Module):\n",
    "    def __init__(self):\n",
    "        super().__init__()\n",
    "        self.fc1 = nn.Linear(in_features=2, out_features=1)\n",
    "        self.fc1.weight.data = torch.tensor([[3.0, 1.0]])\n",
    "        self.fc1.bias.data = torch.tensor([2.0])\n",
    "            \n",
    "    def forward(self, t):\n",
    "        t = self.fc1(t)\n",
    "        return t\n",
    "    \n",
    "p = Perceptron()\n",
    "x = torch.tensor([3., 2.])\n",
    "p(x)"
   ]
  },
  {
   "cell_type": "code",
   "execution_count": 49,
   "metadata": {},
   "outputs": [
    {
     "data": {
      "text/plain": [
       "tensor([[0.8808],\n",
       "        [0.9526],\n",
       "        [0.9933],\n",
       "        [0.9975]], grad_fn=<SigmoidBackward>)"
      ]
     },
     "execution_count": 49,
     "metadata": {},
     "output_type": "execute_result"
    }
   ],
   "source": [
    "class Neuron(nn.Module):\n",
    "    def __init__(self):\n",
    "        super().__init__()\n",
    "        self.fc1 = nn.Linear(in_features=2, out_features=1)\n",
    "        self.fc1.weight.data = torch.tensor([[3.0, 1.0]])\n",
    "        self.fc1.bias.data = torch.tensor([2.0])\n",
    "            \n",
    "    def forward(self, t):\n",
    "        t = self.fc1(t)\n",
    "        t = torch.sigmoid(t)\n",
    "        return t\n",
    "    \n",
    "p = Neuron()\n",
    "x = torch.tensor([[0,0],[0,1],[1,0],[1,1]]).float()\n",
    "p(x)\n",
    " "
   ]
  },
  {
   "cell_type": "code",
   "execution_count": 37,
   "metadata": {},
   "outputs": [],
   "source": [
    "t = torch.Tensor([3,4])"
   ]
  },
  {
   "cell_type": "code",
   "execution_count": 38,
   "metadata": {},
   "outputs": [
    {
     "data": {
      "text/plain": [
       "tensor([15.], grad_fn=<AddBackward0>)"
      ]
     },
     "execution_count": 38,
     "metadata": {},
     "output_type": "execute_result"
    }
   ],
   "source": [
    "net(t)"
   ]
  },
  {
   "cell_type": "code",
   "execution_count": 39,
   "metadata": {},
   "outputs": [
    {
     "data": {
      "text/plain": [
       "torch.Size([3, 2])"
      ]
     },
     "execution_count": 39,
     "metadata": {},
     "output_type": "execute_result"
    }
   ],
   "source": [
    "t = torch.Tensor([[3,4],[1,2],[2,2]])\n",
    "t.shape"
   ]
  },
  {
   "cell_type": "code",
   "execution_count": 41,
   "metadata": {},
   "outputs": [
    {
     "data": {
      "text/plain": [
       "tensor([[15.],\n",
       "        [ 7.],\n",
       "        [10.]], grad_fn=<AddmmBackward>)"
      ]
     },
     "execution_count": 41,
     "metadata": {},
     "output_type": "execute_result"
    }
   ],
   "source": [
    "net(t)"
   ]
  },
  {
   "cell_type": "code",
   "execution_count": 4,
   "metadata": {},
   "outputs": [
    {
     "data": {
      "text/plain": [
       "tensor([0.9820], grad_fn=<SigmoidBackward>)"
      ]
     },
     "execution_count": 4,
     "metadata": {},
     "output_type": "execute_result"
    }
   ],
   "source": [
    "class Netz2P(nn.Module):\n",
    "    def __init__(self):\n",
    "        super().__init__()\n",
    "        self.fc1 = nn.Linear(in_features=2, out_features=2)\n",
    "        self.fc1.weight.data = torch.tensor([[3.0, 1.0],[2.0, -1.0]])\n",
    "        self.fc1.bias.data = torch.tensor([1.0,2.0])\n",
    "        self.fc2 = nn.Linear(in_features=2, out_features=1)\n",
    "        self.fc2.weight.data = torch.tensor([[1.0, -1.0]])\n",
    "        self.fc2.bias.data = torch.tensor([-2.0])\n",
    "            \n",
    "    def forward(self, t):\n",
    "        t = self.fc1(t)\n",
    "        t = torch.relu(t)\n",
    "        t = self.fc2(t)\n",
    "        t = torch.sigmoid(t)\n",
    "        return t\n",
    "    \n",
    "net = Netz2P()\n",
    "x = torch.tensor([3., 2.])\n",
    "net(x)"
   ]
  },
  {
   "cell_type": "code",
   "execution_count": 68,
   "metadata": {},
   "outputs": [
    {
     "name": "stdout",
     "output_type": "stream",
     "text": [
      "tensor([[-0.0353, -0.0177],\n",
      "        [ 0.0707,  0.0353],\n",
      "        [ 0.1060,  0.0530]])\n"
     ]
    }
   ],
   "source": [
    "class Netz2(nn.Module):\n",
    "    def __init__(self):\n",
    "        super().__init__()\n",
    "        self.fc1 = nn.Linear(in_features=2, out_features=3)\n",
    "        self.fc1.weight.data = torch.tensor([[3.0, 1.0],[2.0, -1.0],[-1,2]])\n",
    "        self.fc1.bias.data = torch.tensor([1.0,2.0,1.0])\n",
    "        self.fc2 = nn.Linear(in_features=3, out_features=1)\n",
    "        self.fc2.weight.data = torch.tensor([[-1.0, 2.0, 3.0]])\n",
    "        self.fc2.bias.data = torch.tensor([-1.0])\n",
    "            \n",
    "    def forward(self, t):\n",
    "        t = self.fc1(t)\n",
    "        t = torch.relu(t)\n",
    "        t = self.fc2(t)\n",
    "        t = torch.sigmoid(t)\n",
    "        return t\n",
    "    \n",
    "net = Netz2()\n",
    "#x = torch.tensor([[3., 2.],[1.,2.],[-1.,1],[0,2]])\n",
    "x = torch.tensor([2.,1.])\n",
    "net(x)\n",
    "\n",
    "\n",
    "target = torch.tensor([0])\n",
    "loss = abs(target-net(x))\n",
    "loss.backward()\n",
    "print(net.fc1.weight.grad)\n"
   ]
  },
  {
   "cell_type": "code",
   "execution_count": 20,
   "metadata": {},
   "outputs": [
    {
     "name": "stdout",
     "output_type": "stream",
     "text": [
      "tensor([8., 5.], grad_fn=<ReluBackward0>)\n",
      "tensor([1.], grad_fn=<AddBackward0>)\n",
      "tensor([8., 5.], grad_fn=<ReluBackward0>)\n",
      "tensor([1.], grad_fn=<AddBackward0>)\n",
      "tensor([[-0.2875, -0.1437],\n",
      "        [ 0.5749,  0.2875]])\n",
      "tensor([0.1437])\n",
      "tensor([[1.1499, 0.7187]])\n"
     ]
    }
   ],
   "source": [
    "class Netz3(nn.Module):\n",
    "    def __init__(self):\n",
    "        super().__init__()\n",
    "        self.fc1 = nn.Linear(in_features=2, out_features=2)\n",
    "        self.fc1.weight.data = torch.tensor([[3.0, 1.0],[2.0, -1.0]])\n",
    "        self.fc1.bias.data = torch.tensor([1.0,2.0])\n",
    "        self.fc2 = nn.Linear(in_features=2, out_features=1)\n",
    "        self.fc2.weight.data = torch.tensor([[-1.0, 2.0]])\n",
    "        self.fc2.bias.data = torch.tensor([-1.0])\n",
    "            \n",
    "    def forward(self, t):\n",
    "        t = self.fc1(t)\n",
    "        t = torch.relu(t)\n",
    "        print(t)\n",
    "        t = self.fc2(t)\n",
    "        print(t)\n",
    "        t = torch.sigmoid(t)\n",
    "        \n",
    "        return t\n",
    "    \n",
    "net = Netz3()\n",
    "#x = torch.tensor([[3., 2.],[1.,2.],[-1.,1],[0,2]])\n",
    "x = torch.tensor([2.,1.])\n",
    "net(x)\n",
    "\n",
    "\n",
    "target = torch.tensor([0])\n",
    "loss = 0.5*(target-net(x))**2\n",
    "loss.backward()\n",
    "print(net.fc1.weight.grad)\n",
    "print(net.fc2.bias.grad)\n",
    "print(net.fc2.weight.grad)"
   ]
  },
  {
   "cell_type": "code",
   "execution_count": 11,
   "metadata": {},
   "outputs": [],
   "source": [
    "import math\n",
    "def sigmoid(x):\n",
    "    return  1/(1+math.exp(-1.0*x))"
   ]
  },
  {
   "cell_type": "code",
   "execution_count": 76,
   "metadata": {},
   "outputs": [
    {
     "name": "stdout",
     "output_type": "stream",
     "text": [
      "n3:  [1.14987872 0.7186742 ] 0.14373484045721513\n",
      "n1:  [-0.28746968 -0.14373484] 1\n",
      "n2:  [0.57493936 0.28746968] 1\n"
     ]
    }
   ],
   "source": [
    "# Ergebnis von oben nachrechnen\n",
    "w1, b1 = np.array([3,1]), 1\n",
    "w2, b2 = np.array([2,-1]), 2\n",
    "w3, b3 = np.array([-1,2]), -1\n",
    "x1, x2 = 2, 1\n",
    "y = 0\n",
    "    \n",
    "W = np.array([w1,w2])   \n",
    "x = np.array([x1,x2]).T\n",
    "b = np.array([b1,b2]).T\n",
    "z = np.dot(W,x)+ b\n",
    "a = torch.relu(torch.tensor(z)).numpy()\n",
    "z3 = np.dot(w3,a)+b3\n",
    "a3 = sigmoid(z3)\n",
    "dloss = a3-y\n",
    "db3 = a3*(1-a3)*dloss\n",
    "dw3 = a * db3\n",
    "print(\"n3: \",dw3,db3)\n",
    "db1 = 0 if a[0] <= 0 else 1\n",
    "db2 = 0 if a[1] <= 0 else 1\n",
    "dw1 = x * db1*db3*w3[0]\n",
    "dw2 = x * db2*db3*w3[1]\n",
    "print(\"n1: \",dw1,db1)\n",
    "print(\"n2: \",dw2,db2)"
   ]
  },
  {
   "cell_type": "code",
   "execution_count": null,
   "metadata": {},
   "outputs": [],
   "source": []
  }
 ],
 "metadata": {
  "kernelspec": {
   "display_name": "Python 3",
   "language": "python",
   "name": "python3"
  },
  "language_info": {
   "codemirror_mode": {
    "name": "ipython",
    "version": 3
   },
   "file_extension": ".py",
   "mimetype": "text/x-python",
   "name": "python",
   "nbconvert_exporter": "python",
   "pygments_lexer": "ipython3",
   "version": "3.7.5"
  }
 },
 "nbformat": 4,
 "nbformat_minor": 4
}
