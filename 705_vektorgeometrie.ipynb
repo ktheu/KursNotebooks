{
 "cells": [
  {
   "cell_type": "markdown",
   "metadata": {},
   "source": [
    "## Klassen für Vektorgeometrie"
   ]
  },
  {
   "cell_type": "markdown",
   "metadata": {},
   "source": [
    "#### Die Klasse Vektor\n",
    "Ein Punkt hat drei Koordinaten *x1, x2, x3* vom Typ *float*."
   ]
  },
  {
   "cell_type": "code",
   "execution_count": 1,
   "metadata": {},
   "outputs": [],
   "source": [
    "import math\n",
    "from sympy import symbols, Eq, solve, linsolve\n",
    "_k = symbols(\"_k\",real=True)"
   ]
  },
  {
   "cell_type": "code",
   "execution_count": 116,
   "metadata": {},
   "outputs": [],
   "source": [
    "class Vektor:\n",
    "    ''' Ein Vektor hat drei Koordinaten vom Typ float.'''\n",
    "    \n",
    "    def __init__(self,x1,x2,x3):\n",
    "        ''' x1, x2, x3: float'''\n",
    "        self.x1 = x1\n",
    "        self.x2 = x2\n",
    "        self.x3 = x3\n",
    "        \n",
    "    def __str__(self):\n",
    "        ''' returns: String-Repraesentation (x1|x2|x3)  '''\n",
    "        return '({}|{}|{})'.format(round(self.x1,4), round(self.x2,4), round(self.x3))\n",
    "    \n",
    "    def __add__(self,other):\n",
    "        ''' returns: Vektor, self + other '''\n",
    "        return Vektor(self.x1 + other.x1, self.x2 + other.x2, self.x3 + other.x3)\n",
    "    \n",
    "    def __sub__(self, other):\n",
    "        ''' returns: Vektor, self - other '''\n",
    "        return Vektor(self.x1 - other.x1, self.x2 - other.x2, self.x3 - other.x3)\n",
    "    \n",
    "    def mult(self,k):\n",
    "        ''' \n",
    "        k: float\n",
    "        returns: Vektor, k * self '''\n",
    "        return Vektor(self.x1*k, self.x2*k, self.x3*k) \n",
    "    \n",
    "    def laenge(self):\n",
    "        ''' returns: float, die Laenge des Vektors '''\n",
    "        return math.sqrt(self.x1**2 + self.x2**2 + self.x3**2)\n",
    "    \n",
    "    def vektorprodukt(self,other):\n",
    "        ''' returns: Vektor, vektorprodukt aus self und other'''\n",
    "        x1k = self.x2*other.x3 - self.x3*other.x2\n",
    "        x2k = self.x3*other.x1 - self.x1*other.x3\n",
    "        x3k = self.x1*other.x2 - self.x2*other.x1\n",
    "        return Vektor(x1k, x2k, x3k)\n",
    "    \n",
    "    def skalarprodukt(self,other):\n",
    "        ''' returns: float, skalarprodukt aus self und other'''\n",
    "        return self.x1*other.x1 + self.x2*other.x2 + self.x3*other.x3\n",
    "    \n",
    "    def orthogonal(self,other):\n",
    "        ''' returns: bool, True wenn self orthogonal zu other '''\n",
    "        return math.isclose(self.skalarprodukt(other),0)\n",
    "          \n",
    "    def parallel(self,other):\n",
    "        ''' returns: bool, True wenn self parallel zu other '''\n",
    "        e1 =  Eq( self.x1 * _k ,  other.x1 )\n",
    "        e2 =  Eq( self.x2 * _k ,  other.x2 )\n",
    "        e3 =  Eq( self.x3 * _k ,  other.x3 )\n",
    "        equations = []\n",
    "        if e1 != True: equations.append(e1)\n",
    "        if e2 != True: equations.append(e2)\n",
    "        if e3 != True: equations.append(e3)\n",
    " \n",
    "        erg = linsolve(equations,_k)\n",
    "        if not erg:\n",
    "            return False\n",
    "        return True\n"
   ]
  },
  {
   "cell_type": "code",
   "execution_count": 117,
   "metadata": {},
   "outputs": [
    {
     "name": "stdout",
     "output_type": "stream",
     "text": [
      "Help on class Vektor in module __main__:\n",
      "\n",
      "class Vektor(builtins.object)\n",
      " |  Ein Vektor hat drei Koordinaten vom Typ float.\n",
      " |  \n",
      " |  Methods defined here:\n",
      " |  \n",
      " |  __add__(self, other)\n",
      " |      returns: Vektor, self + other\n",
      " |  \n",
      " |  __init__(self, x1, x2, x3)\n",
      " |      x1, x2, x3: float\n",
      " |  \n",
      " |  __str__(self)\n",
      " |      returns: String-Repraesentation (x1|x2|x3)\n",
      " |  \n",
      " |  __sub__(self, other)\n",
      " |      returns: Vektor, self - other\n",
      " |  \n",
      " |  laenge(self)\n",
      " |      returns: float, die Laenge des Vektors\n",
      " |  \n",
      " |  mult(self, k)\n",
      " |      k: float\n",
      " |      returns: Vektor, k * self\n",
      " |  \n",
      " |  orthogonal(self, other)\n",
      " |      returns: bool, True wenn self orthogonal zu other\n",
      " |  \n",
      " |  parallel(self, other)\n",
      " |      returns: bool, True wenn self parallel zu other\n",
      " |  \n",
      " |  skalarprodukt(self, other)\n",
      " |      returns: float, skalarprodukt aus self und other\n",
      " |  \n",
      " |  vektorprodukt(self, other)\n",
      " |      returns: Vektor, vektorprodukt aus self und other\n",
      " |  \n",
      " |  ----------------------------------------------------------------------\n",
      " |  Data descriptors defined here:\n",
      " |  \n",
      " |  __dict__\n",
      " |      dictionary for instance variables (if defined)\n",
      " |  \n",
      " |  __weakref__\n",
      " |      list of weak references to the object (if defined)\n",
      "\n"
     ]
    }
   ],
   "source": [
    "help(Vektor)"
   ]
  },
  {
   "cell_type": "code",
   "execution_count": 106,
   "metadata": {},
   "outputs": [
    {
     "name": "stdout",
     "output_type": "stream",
     "text": [
      "(2|3|4)\n"
     ]
    }
   ],
   "source": [
    "v = Vektor(2,3,4)\n",
    "print(v)"
   ]
  },
  {
   "cell_type": "code",
   "execution_count": 59,
   "metadata": {},
   "outputs": [
    {
     "name": "stdout",
     "output_type": "stream",
     "text": [
      "(2|1|0)\n"
     ]
    }
   ],
   "source": [
    "# Test -\n",
    "v1 = Vektor(4,4,4)   \n",
    "print(v1-v)\n",
    "# erwartet: (2|1|0)"
   ]
  },
  {
   "cell_type": "code",
   "execution_count": 60,
   "metadata": {},
   "outputs": [
    {
     "name": "stdout",
     "output_type": "stream",
     "text": [
      "5.385164807134504\n"
     ]
    }
   ],
   "source": [
    "# Test laenge()\n",
    "print(v.laenge())\n",
    "# erwartet: 5.385164807134504"
   ]
  },
  {
   "cell_type": "code",
   "execution_count": 61,
   "metadata": {},
   "outputs": [
    {
     "name": "stdout",
     "output_type": "stream",
     "text": [
      "(4|6|8)\n"
     ]
    }
   ],
   "source": [
    "# Test mult()\n",
    "print(v.mult(2))\n",
    "# erwartet: (4|6|8)"
   ]
  },
  {
   "cell_type": "code",
   "execution_count": 62,
   "metadata": {},
   "outputs": [
    {
     "name": "stdout",
     "output_type": "stream",
     "text": [
      "(6|7|8)\n"
     ]
    }
   ],
   "source": [
    "# Test +\n",
    "print(v+v1)\n",
    "# erwartet: (6|7|8)"
   ]
  },
  {
   "cell_type": "code",
   "execution_count": 63,
   "metadata": {},
   "outputs": [
    {
     "name": "stdout",
     "output_type": "stream",
     "text": [
      "(4|1|-6)\n"
     ]
    }
   ],
   "source": [
    "# Test vektorprodukt()\n",
    "v1 = Vektor(1,2,1)\n",
    "v2 = Vektor(3,0,2)\n",
    "print(v1.vektorprodukt(v2))\n",
    "# erwartet: (4|1|-6)"
   ]
  },
  {
   "cell_type": "code",
   "execution_count": 64,
   "metadata": {},
   "outputs": [
    {
     "name": "stdout",
     "output_type": "stream",
     "text": [
      "5\n"
     ]
    }
   ],
   "source": [
    "# Test skalarprodukt()\n",
    "v1 = Vektor(1,2,1)\n",
    "v2 = Vektor(3,0,2)\n",
    "print(v1.skalarprodukt(v2))\n",
    "# erwartet: 5"
   ]
  },
  {
   "cell_type": "code",
   "execution_count": 65,
   "metadata": {},
   "outputs": [
    {
     "name": "stdout",
     "output_type": "stream",
     "text": [
      "True\n"
     ]
    }
   ],
   "source": [
    "# Test orthogonal()\n",
    "v1 = Vektor(-4,1,1)\n",
    "v2 = Vektor(2,9,-1)\n",
    "print(v1.orthogonal(v2))\n",
    "# erwartet: True"
   ]
  },
  {
   "cell_type": "code",
   "execution_count": 66,
   "metadata": {},
   "outputs": [
    {
     "name": "stdout",
     "output_type": "stream",
     "text": [
      "True\n",
      "False\n"
     ]
    }
   ],
   "source": [
    "# Test parallel()\n",
    "v1 = Vektor(2,3,1)\n",
    "v2 = Vektor(8,12,4)\n",
    "print(v1.parallel(v2))\n",
    "# erwartet : True \n",
    "\n",
    "v1 = Vektor(2,0,1)\n",
    "v2 = Vektor(8,0,5)\n",
    "print(v1.parallel(v2))\n",
    "# erwartet: \n",
    "\n"
   ]
  },
  {
   "cell_type": "code",
   "execution_count": 131,
   "metadata": {},
   "outputs": [],
   "source": [
    "class Ebene:\n",
    "    ''' Eine Ebene in Koordinatenform hat ist durch 4 floats a,b,c,d beschrieben.'''\n",
    "    def __init__(self,a=0,b=0,c=0,d=0):\n",
    "        ''' a, b, c, d: floats '''\n",
    "        self.a = a\n",
    "        self.b = b\n",
    "        self.c = c\n",
    "        self.d = d\n",
    "        \n",
    "    def __str__(self):\n",
    "        ''' String Repraesentation in der Form a*x1 + b*x2 + c*x3 = d '''\n",
    "        return '{}*x1 + {}*x2 + {}*x3 = {}'.format(self.a,self.b,self.c,self.d)\n",
    "    \n",
    "    def normale(self):\n",
    "        ''' returns: Vektor, die Normale aus den Koeffizienten der linken Seite'''\n",
    "        return Vektor(self.a,self.b,self.c)\n",
    "    \n",
    "    def kuerze(self,k):\n",
    "        ''' \n",
    "        k: int\n",
    "        returns: None, dividiert die Koeffizienten a,b,c,d ganzzahlig durch k'''\n",
    "        self.a //=k\n",
    "        self.b //=k\n",
    "        self.c //=k\n",
    "        self.d //=k\n",
    "\n",
    "    def punktProbe(self,p):\n",
    "        ''' returns: bool, True wenn Punkt p in der Ebene liegt '''     \n",
    "        return math.isclose(self.a*p.x1 + self.b*p.x2 + self.c *p.x3, self.d)\n",
    "    \n",
    "    def ausParameterform(self,stuetz,v1,v2):\n",
    "        ''' stuetz, v1, v2: Stuetz- und Richtungsvektoren einer Ebene in Parameterform\n",
    "        returns: None, setzt a, b, c, d auf die entsprechenden Werte der Koordinatenform\n",
    "        '''\n",
    "        n = v1.vektorprodukt(v2)\n",
    "        d = n.skalarprodukt(stuetz)\n",
    "        self.a, self.b, self.c = n.x1, n.x2, n.x3\n",
    "        self.d = n.skalarprodukt(stuetz) \n",
    "\n",
    "    def abstandZuPunkt(self, p):\n",
    "        ''' returns: float, Abstand des Punktes p zur Ebene  '''\n",
    "        tmp = self.a * p.x1 + self.b * p.x2 + self.c * p.x3 - self.d\n",
    "        return abs(tmp)/(self.normale().laenge())\n",
    "       \n",
    "    def schnittMitGerade(self,g):\n",
    "        ''' \n",
    "        g: Gerade, die die Ebene schneidet\n",
    "        returns: Vektor, Schnittpunkt von g mit der Ebene\n",
    "        '''\n",
    "        r1,r2,r3 = g.r.x1, g.r.x2, g.r.x3\n",
    "        s1,s2,s3 = g.stuetz.x1,g.stuetz.x2, g.stuetz.x3\n",
    "        equation = [Eq(self.a*(s1 + _k * r1) + self.b*(s2 + _k * r2) + self.c*(s3 + _k * r3),self.d)]\n",
    "        erg, = linsolve(equation,_k) \n",
    "        n = erg[0]\n",
    "        return Vektor(s1+n*r1,s2+n*r2,s3+n*r3)\n",
    "        \n"
   ]
  },
  {
   "cell_type": "code",
   "execution_count": 132,
   "metadata": {},
   "outputs": [
    {
     "name": "stdout",
     "output_type": "stream",
     "text": [
      "Help on class Ebene in module __main__:\n",
      "\n",
      "class Ebene(builtins.object)\n",
      " |  Eine Ebene in Koordinatenform hat ist durch 4 floats a,b,c,d beschrieben.\n",
      " |  \n",
      " |  Methods defined here:\n",
      " |  \n",
      " |  __init__(self, a=0, b=0, c=0, d=0)\n",
      " |      a, b, c, d: floats\n",
      " |  \n",
      " |  __str__(self)\n",
      " |      String Repraesentation in der Form a*x1 + b*x2 + c*x3 = d\n",
      " |  \n",
      " |  abstandZuPunkt(self, p)\n",
      " |      returns: float, Abstand des Punktes p zur Ebene\n",
      " |  \n",
      " |  ausParameterform(self, stuetz, v1, v2)\n",
      " |      stuetz, v1, v2: Stuetz- und Richtungsvektoren einer Ebene in Parameterform\n",
      " |      returns: None, setzt a, b, c, d auf die entsprechenden Werte der Koordinatenform\n",
      " |  \n",
      " |  kuerze(self, k)\n",
      " |      k: int\n",
      " |      returns: None, dividiert die Koeffizienten a,b,c,d ganzzahlig durch k\n",
      " |  \n",
      " |  normale(self)\n",
      " |      returns: Vektor, die Normale aus den Koeffizienten der linken Seite\n",
      " |  \n",
      " |  punktProbe(self, p)\n",
      " |      returns: bool, True wenn Punkt p in der Ebene liegt\n",
      " |  \n",
      " |  schnittMitGerade(self, g)\n",
      " |      g: Gerade, die die Ebene schneidet\n",
      " |      returns: Vektor, Schnittpunkt von g mit der Ebene\n",
      " |  \n",
      " |  ----------------------------------------------------------------------\n",
      " |  Data descriptors defined here:\n",
      " |  \n",
      " |  __dict__\n",
      " |      dictionary for instance variables (if defined)\n",
      " |  \n",
      " |  __weakref__\n",
      " |      list of weak references to the object (if defined)\n",
      "\n"
     ]
    }
   ],
   "source": [
    "help(Ebene)"
   ]
  },
  {
   "cell_type": "code",
   "execution_count": 147,
   "metadata": {},
   "outputs": [
    {
     "name": "stdout",
     "output_type": "stream",
     "text": [
      "10*x1 + 8*x2 + 10*x3 = 60\n"
     ]
    }
   ],
   "source": [
    "E = Ebene(10,8,10,60)\n",
    "print(E)"
   ]
  },
  {
   "cell_type": "code",
   "execution_count": 148,
   "metadata": {},
   "outputs": [
    {
     "name": "stdout",
     "output_type": "stream",
     "text": [
      "(10|8|10)\n"
     ]
    }
   ],
   "source": [
    "# Test: normale()\n",
    "E = Ebene(10,8,10,60)\n",
    "print(E.normale())\n",
    "# erwartet: (10|8|10)"
   ]
  },
  {
   "cell_type": "code",
   "execution_count": 149,
   "metadata": {},
   "outputs": [
    {
     "name": "stdout",
     "output_type": "stream",
     "text": [
      "5*x1 + 4*x2 + 5*x3 = 30\n"
     ]
    }
   ],
   "source": [
    "# Test: kuerze()\n",
    "E = Ebene(10,8,10,60)\n",
    "E.kuerze(2) \n",
    "print(E)\n",
    "# erwartet: 5*x1 + 4*x2 + 5*x3 = 30"
   ]
  },
  {
   "cell_type": "code",
   "execution_count": 150,
   "metadata": {},
   "outputs": [
    {
     "name": "stdout",
     "output_type": "stream",
     "text": [
      "True\n",
      "False\n"
     ]
    }
   ],
   "source": [
    "# Test: punktprobe()\n",
    "E = Ebene(5,4,7,30)\n",
    "p1 = Vektor(1,1,3)\n",
    "p2 = Vektor(1,2,3)\n",
    "print(E.punktProbe(p1))\n",
    "print(E.punktProbe(p2))\n",
    "# erwartet: True - False"
   ]
  },
  {
   "cell_type": "code",
   "execution_count": 151,
   "metadata": {},
   "outputs": [
    {
     "name": "stdout",
     "output_type": "stream",
     "text": [
      "4*x1 + 10*x2 + -6*x3 = 32\n"
     ]
    }
   ],
   "source": [
    "# Test: ausParameterform()\n",
    "E = Ebene()\n",
    "E.ausParameterform(Vektor(3,2,0),Vektor(1,2,4),Vektor(3,0,2))\n",
    "print(E)\n",
    "# erwartet: 4*x1 + 10*x2 + -6*x3 = 32"
   ]
  },
  {
   "cell_type": "code",
   "execution_count": 152,
   "metadata": {},
   "outputs": [
    {
     "name": "stdout",
     "output_type": "stream",
     "text": [
      "9.0\n"
     ]
    }
   ],
   "source": [
    "# Test: abstandZuPunkt()\n",
    "E = Ebene(2,-4,4,-6)\n",
    "P = Vektor(4,-5,5)\n",
    "print(E.abstandZuPunkt(P))\n",
    "# erwartet: 9.0"
   ]
  },
  {
   "cell_type": "code",
   "execution_count": 153,
   "metadata": {},
   "outputs": [
    {
     "name": "stdout",
     "output_type": "stream",
     "text": [
      "(3.0|4.0|0)\n"
     ]
    }
   ],
   "source": [
    "# Test: schnittMitGerade()\n",
    "E = Ebene(-1,2,1,5)\n",
    "g = Gerade(Vektor(-1,6,-6),Vektor(2,-1,3))\n",
    "print(E.schnittMitGerade(g))\n",
    "# erwartet: (3.0|4.0|0)"
   ]
  },
  {
   "cell_type": "code",
   "execution_count": 154,
   "metadata": {},
   "outputs": [],
   "source": [
    "class Gerade:\n",
    "    ''' Eine Gerade wird durch einen Stuetz- und einen Richtungsvektor beschrieben.'''\n",
    "    def __init__(self,stuetz, r):\n",
    "        ''' stuetz, r : Vektoren '''\n",
    "        self.stuetz = stuetz\n",
    "        self.r = r\n",
    "    \n",
    "    def __str__(self):\n",
    "        ''' String-Repraesentation in der Form: stuetz + k * r'''\n",
    "        return '{} + k*{}'.format(str(self.stuetz),str(self.r))\n",
    "        \n",
    "    def punkt(self, k):\n",
    "        ''' returns: Vektor p mit p = stuetz + k * r  '''\n",
    "        return self.stuetz + self.r.mult(k)\n",
    "    \n",
    "    def hilfsebene(self,p):\n",
    "        '''\n",
    "        p: Vektor\n",
    "        returns: Ebene mit Richtungsvektor als Normale, die durch Punkt p geht\n",
    "        '''\n",
    "        a,b,c = self.r.x1, self.r.x2, self.r.x3\n",
    "        d = a*p.x1 + b*p.x2 + c*p.x3\n",
    "        return Ebene(a,b,c,d)\n",
    "    \n",
    "    def abstandZuPunkt(self,p):\n",
    "        '''\n",
    "        p: Vektor\n",
    "        returns: float, abstand von p zur Geraden\n",
    "        '''\n",
    "        he = self.hilfsebene(p)\n",
    "        p1 = he.schnittMitGerade(self)\n",
    "        return (p1-p).laenge()\n",
    "    \n",
    "    def getFaktor(self, p):\n",
    "        '''\n",
    "        p: Punkt, der auf der Gerade liegt\n",
    "        returns: float k mit p = stuetz + k * r\n",
    "        '''\n",
    "        e1 = Eq(self.stuetz.x1 + _k * self.r.x1,p.x1)\n",
    "        e2 = Eq(self.stuetz.x2 + _k * self.r.x2,p.x2)\n",
    "        e3 = Eq(self.stuetz.x3 + _k * self.r.x3,p.x3)\n",
    "        equations = []\n",
    "        if e1 != True: equations.append(e1)\n",
    "        if e2 != True: equations.append(e2)\n",
    "        if e3 != True: equations.append(e3)\n",
    "   \n",
    "        erg, = linsolve(equations,_k)\n",
    "        return erg[0]\n",
    "    \n",
    "    def punkteMitAbstand(self,abstand, e):\n",
    "        '''\n",
    "        abstand: float\n",
    "        e: Ebene, die von der Geraden geschnitten wird\n",
    "        returns (p1,p2) die beiden Punkte auf der Geraden, die\n",
    "           zur Ebene e den Abstand abstand haben.\n",
    "        '''\n",
    "        # returned punkte mit Abstand t zur Ebene E\n",
    "        s1 = e.a * (self.stuetz.x1 + _k * self.r.x1)\n",
    "        s2 = e.b * (self.stuetz.x2 + _k * self.r.x2)\n",
    "        s3 = e.c * (self.stuetz.x3 + _k * self.r.x3)\n",
    "        zaehler = abs(s1+s2+s3-e.d)\n",
    "        nenner = e.normale().laenge()\n",
    "        equation = Eq(zaehler/nenner,abstand)\n",
    "        erg = solve(equation)\n",
    "        return self.punkt(erg[0]), self.punkt(erg[1])\n"
   ]
  },
  {
   "cell_type": "code",
   "execution_count": 155,
   "metadata": {},
   "outputs": [
    {
     "name": "stdout",
     "output_type": "stream",
     "text": [
      "Help on class Gerade in module __main__:\n",
      "\n",
      "class Gerade(builtins.object)\n",
      " |  Eine Gerade wird durch einen Stuetz- und einen Richtungsvektor beschrieben.\n",
      " |  \n",
      " |  Methods defined here:\n",
      " |  \n",
      " |  __init__(self, stuetz, r)\n",
      " |      stuetz, r : Vektoren\n",
      " |  \n",
      " |  __str__(self)\n",
      " |      String-Repraesentation in der Form: stuetz + k * r\n",
      " |  \n",
      " |  abstandZuPunkt(self, p)\n",
      " |      p: Vektor\n",
      " |      returns: float, abstand von p zur Geraden\n",
      " |  \n",
      " |  getFaktor(self, p)\n",
      " |      p: Punkt, der auf der Gerade liegt\n",
      " |      returns: float k mit p = stuetz + k * r\n",
      " |  \n",
      " |  hilfsebene(self, p)\n",
      " |      p: Vektor\n",
      " |      returns: Ebene mit Richtungsvektor als Normale, die durch Punkt p geht\n",
      " |  \n",
      " |  punkt(self, k)\n",
      " |      returns: Vektor p mit p = stuetz + k * r\n",
      " |  \n",
      " |  punkteMitAbstand(self, abstand, e)\n",
      " |      abstand: float\n",
      " |      e: Ebene, die von der Geraden geschnitten wird\n",
      " |      returns (p1,p2) die beiden Punkte auf der Geraden, die\n",
      " |         zur Ebene e den Abstand abstand haben.\n",
      " |  \n",
      " |  ----------------------------------------------------------------------\n",
      " |  Data descriptors defined here:\n",
      " |  \n",
      " |  __dict__\n",
      " |      dictionary for instance variables (if defined)\n",
      " |  \n",
      " |  __weakref__\n",
      " |      list of weak references to the object (if defined)\n",
      "\n"
     ]
    }
   ],
   "source": [
    "help(Gerade)"
   ]
  },
  {
   "cell_type": "code",
   "execution_count": 156,
   "metadata": {},
   "outputs": [
    {
     "name": "stdout",
     "output_type": "stream",
     "text": [
      "(2|0|3) + k*(-1|1|1)\n"
     ]
    }
   ],
   "source": [
    "g = Gerade(Vektor(2,0,3),Vektor(-1,1,1))\n",
    "print(g)"
   ]
  },
  {
   "cell_type": "code",
   "execution_count": 158,
   "metadata": {},
   "outputs": [
    {
     "name": "stdout",
     "output_type": "stream",
     "text": [
      "(0|2|5)\n"
     ]
    }
   ],
   "source": [
    "# Test: punkt()\n",
    "g = Gerade(Vektor(2,0,3),Vektor(-1,1,1))\n",
    "print(g.punkt(2))\n",
    "# erwartet: (0|2|5)"
   ]
  },
  {
   "cell_type": "code",
   "execution_count": 159,
   "metadata": {},
   "outputs": [
    {
     "name": "stdout",
     "output_type": "stream",
     "text": [
      "4*x1 + 3*x2 + -2*x3 = 61\n"
     ]
    }
   ],
   "source": [
    "# Test: hilfsebene()\n",
    "g = Gerade(Vektor(-5,2,6),Vektor(4,3,-2))\n",
    "P = Vektor(4,7,-12)\n",
    "print(g.hilfsebene(P))\n",
    "# erwartet: 4*x1 + 3*x2 + -2*x3 = 61"
   ]
  },
  {
   "cell_type": "code",
   "execution_count": 160,
   "metadata": {},
   "outputs": [
    {
     "name": "stdout",
     "output_type": "stream",
     "text": [
      "13.0\n"
     ]
    }
   ],
   "source": [
    "# Test: abstandZuPunkt()\n",
    "g = Gerade(Vektor(-5,2,6),Vektor(4,3,-2))\n",
    "P = Vektor(4,7,-12)\n",
    "print(g.abstandZuPunkt(P))\n",
    "# erwartet: 13.0"
   ]
  },
  {
   "cell_type": "code",
   "execution_count": 161,
   "metadata": {},
   "outputs": [
    {
     "name": "stdout",
     "output_type": "stream",
     "text": [
      "3\n"
     ]
    }
   ],
   "source": [
    "# Test: getFaktor()\n",
    "g = Gerade(Vektor(-5,2,6),Vektor(4,3,-2))\n",
    "P = Vektor(7,11,0)\n",
    "print(g.getFaktor(P))\n",
    "# erwartet: 3\n",
    " "
   ]
  },
  {
   "cell_type": "code",
   "execution_count": 162,
   "metadata": {},
   "outputs": [
    {
     "name": "stdout",
     "output_type": "stream",
     "text": [
      "(0.0|0.0|-1) (0.0|0.0|5)\n"
     ]
    }
   ],
   "source": [
    "# Test: punkteMitAbstand()\n",
    "E = Ebene(0,0,1,2)\n",
    "g = Gerade(Vektor(0,0,0),Vektor(0,0,1))\n",
    "p1, p2 = g.punkteMitAbstand(3,E)\n",
    "print(p1,p2)\n",
    "# erwartet: (0.0|0.0|-1) (0.0|0.0|5)"
   ]
  },
  {
   "cell_type": "markdown",
   "metadata": {},
   "source": [
    "## Anwendung der Klassen für Vektorgeometrie"
   ]
  },
  {
   "cell_type": "markdown",
   "metadata": {},
   "source": [
    "#### Abitur 2019, Pflichtteil\n",
    "\n",
    "<img src=\"./geoklassen01.png\" width=600 align=\"left\">\n"
   ]
  },
  {
   "cell_type": "code",
   "execution_count": 165,
   "metadata": {},
   "outputs": [
    {
     "name": "stdout",
     "output_type": "stream",
     "text": [
      "(0.0|2.0|-5)\n",
      "9.0\n"
     ]
    }
   ],
   "source": [
    "g = Gerade(Vektor(4,-6,3),Vektor(1,-2,2))\n",
    "\n",
    "E23 = Ebene(1,0,0,0)   # x2x3-Ebene\n",
    "print(E23.schnittMitGerade(g))\n",
    "# Lösung: (0|2|-5)\n",
    "\n",
    "P = Vektor(-3,-1,7)\n",
    "print(g.abstandZuPunkt(P))\n",
    "# Lösung: 9"
   ]
  },
  {
   "cell_type": "markdown",
   "metadata": {},
   "source": [
    "#### Abitur 2019, Wahlteil\n",
    "\n",
    "<img src=\"./geoklassen03.png\" width=600 align=\"left\">\n",
    "<img src=\"./geoklassen03a.png\" width=500 align=\"left\">\n",
    "\n",
    "<img src=\"./geoklassen02.png\" width=300 align=\"left\">\n",
    "\n",
    "<img src=\"./geoklassen04.png\" width=300 align=\"left\">"
   ]
  },
  {
   "cell_type": "code",
   "execution_count": null,
   "metadata": {},
   "outputs": [],
   "source": []
  },
  {
   "cell_type": "code",
   "execution_count": 83,
   "metadata": {},
   "outputs": [
    {
     "name": "stdout",
     "output_type": "stream",
     "text": [
      "5.916079783099616 2.8284271247461903 5.916079783099616 5.656854249492381\n",
      "True\n",
      "5*x1 + 4*x2 + 5*x3 = 30\n",
      "(5.0|-9.5|5) (5.0|-0.5|5)\n"
     ]
    },
    {
     "data": {
      "text/plain": [
       "(-1.90000000000000, -0.100000000000002)"
      ]
     },
     "execution_count": 83,
     "metadata": {},
     "output_type": "execute_result"
    }
   ],
   "source": [
    "A = Vektor(0,0,0)\n",
    "G = Vektor(5,5,5)\n",
    "K = Vektor(5,0,1)\n",
    "L = Vektor(2,5,0)\n",
    "M = Vektor(0,5,2)\n",
    "N = Vektor(1,0,5)\n",
    "\n",
    "KL = L-K\n",
    "LM = M-L\n",
    "MN = N-M\n",
    "NK = K-N\n",
    "\n",
    "# a)\n",
    "print(KL.laenge(), LM.laenge(), MN.laenge(), NK.laenge())\n",
    "\n",
    "print(LM.parallel(NK))\n",
    "T = Ebene()\n",
    "T.ausParameterform(K,KL,LM) \n",
    "T.kuerze(2)\n",
    "print(T)\n",
    "\n",
    "# b)\n",
    "F = Vektor(5,0,5)\n",
    "FG = G-F\n",
    "grenze = 18/math.sqrt(66)\n",
    "g = Gerade(F,FG)\n",
    "v1, v2 = g.punkteMitAbstand(grenze,T)\n",
    "print(v1,v2)\n",
    "g.getFaktor(v1), g.getFaktor(v2)\n",
    "\n"
   ]
  },
  {
   "cell_type": "markdown",
   "metadata": {},
   "source": [
    "#### Abitur 2019, Pflichtteil \n",
    "\n",
    "<img src=\"./geoklassen05.png\" width=600 align=\"left\">\n",
    "\n",
    "<img src=\"./geoklassen06.png\" width=300 align=\"left\">"
   ]
  },
  {
   "cell_type": "code",
   "execution_count": 84,
   "metadata": {},
   "outputs": [
    {
     "name": "stdout",
     "output_type": "stream",
     "text": [
      "10*x1 + 20*x2 + 20*x3 = 180\n",
      "4.47213595499958 7.0710678118654755 7.0710678118654755\n",
      "30.0\n",
      "-1*x1 + -9*x2 + 0*x3 = -5\n",
      "(0|0|0) + k*(4|6|10)\n",
      "(0.3448|0.5172|1)\n"
     ]
    }
   ],
   "source": [
    "# a\n",
    "A = Vektor(6,6,0)\n",
    "B = Vektor(2,8,0)\n",
    "O = Vektor(0,0,0)\n",
    "S = Vektor(4,6,10)\n",
    "C = Vektor(2,3,5)\n",
    "\n",
    "AB = B-A\n",
    "AC = C-A\n",
    "BC = C-B\n",
    "\n",
    "E = Ebene()\n",
    "E.ausParameterform(A,AB,AC)\n",
    "print(E)\n",
    "\n",
    "print(AB.laenge(), AC.laenge(), BC.laenge())\n",
    "g = AB.vektorprodukt(AC).laenge() * 0.5\n",
    "h = E.abstandZuPunkt(S)\n",
    "volumen = 1/3 * g * h\n",
    "print(volumen)\n",
    "\n",
    "HE = Ebene()\n",
    "V = Vektor(-9,1,-4)\n",
    "HE.ausParameterform(F,Vektor(0,0,1),V)\n",
    "print(HE)\n",
    "g = Gerade(O,S)\n",
    "print(g)\n",
    "M = HE.schnittMitGerade(g)\n",
    "print(M)\n"
   ]
  }
 ],
 "metadata": {
  "kernelspec": {
   "display_name": "Python 3",
   "language": "python",
   "name": "python3"
  },
  "language_info": {
   "codemirror_mode": {
    "name": "ipython",
    "version": 3
   },
   "file_extension": ".py",
   "mimetype": "text/x-python",
   "name": "python",
   "nbconvert_exporter": "python",
   "pygments_lexer": "ipython3",
   "version": "3.6.5"
  }
 },
 "nbformat": 4,
 "nbformat_minor": 2
}
