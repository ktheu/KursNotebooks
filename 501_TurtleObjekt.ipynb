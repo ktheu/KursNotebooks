{
 "cells": [
  {
   "cell_type": "markdown",
   "metadata": {},
   "source": [
    "# Turtle\n"
   ]
  },
  {
   "cell_type": "markdown",
   "metadata": {},
   "source": [
    "### Interactiver Modus in der Shell\n",
    "Gib nacheinander die folgende Befehle in der Shell ein.\n",
    "Beim ersten Turtle-Befehl öffnet sich ein 960 x 810 grosses\n",
    "Turtle-Grafik Fenster. Der Nullpunkt (0/0) ist in der Mitte des Fensters.\n"
   ]
  },
  {
   "cell_type": "code",
   "execution_count": null,
   "metadata": {},
   "outputs": [],
   "source": [
    "from turtle import *\n",
    "fd(100)               # gehe 100 Pixel vorwärts = forward(100)\n",
    "right(90)             # drehe nach rechts um 90 Grad\n",
    "pensize(5)            # setze Stiftstärke auf 5\n",
    "fd(80)\n",
    "shape('turtle')       # zeige die Turtle in Gestalt einer 'turtle'\n",
    "right(120)\n",
    "color('blue')         # setze Stift und Füllfarbe\n",
    "fd(50)\n",
    "ht()                  # die Turtle verschwindet = hideturtle()\n",
    "dot(30,'red')         # einen 30 Pixel dicken roten Punkt malen\n",
    "setheading(180)       # Richtung nach links setzen\n",
    "color('green')\n",
    "fd(100)\n",
    "circle(50)\n",
    "goto(100,100)         # zu einer Position gehen\n",
    "penup()               # Stift anheben = pu()\n",
    "goto(-100,100)\n",
    "pendown()             # Stift absenken = pd()\n",
    "dot(30,'red')\n",
    "home()                # zum Ursprung (0/0) gehen\n"
   ]
  },
  {
   "cell_type": "markdown",
   "metadata": {},
   "source": [
    "![](img/turtle01.png)"
   ]
  },
  {
   "cell_type": "markdown",
   "metadata": {},
   "source": [
    "### Turtle als Objekt\n",
    "In Python-Programmen können wir die Turtle und ihren Screen auch als Objekte nutzen.\n",
    "  Es kann nur einen Screen aber mehrere Turtles geben."
   ]
  },
  {
   "cell_type": "code",
   "execution_count": 2,
   "metadata": {},
   "outputs": [],
   "source": [
    "from turtle import Turtle, Screen\n",
    "\n",
    "screen = Screen()\n",
    "screen.setup (width=500, height=500, startx=10, starty=150)\n",
    "screen.bgcolor('yellow')   # Hintergrundfarbe\n",
    "\n",
    "bob = Turtle()\n",
    "alice = Turtle()\n",
    "\n",
    "bob.color('red')\n",
    "alice.color('blue')\n",
    "for i in range(4):\n",
    "    bob.fd(100)\n",
    "    alice.fd(150)\n",
    "    bob.right(90)\n",
    "    alice.right(90)"
   ]
  },
  {
   "cell_type": "markdown",
   "metadata": {},
   "source": [
    " Um das gezeichnete Bild möglichst schnell zu sehen, schalten wir die Animation mit\n",
    "  der tracer-Methode aus. Die update-Methode sorgt dafür, dass die Zeichnung am Ende\n",
    "  erscheint."
   ]
  },
  {
   "cell_type": "code",
   "execution_count": 1,
   "metadata": {},
   "outputs": [],
   "source": [
    "from turtle import Turtle, Screen\n",
    "\n",
    "screen = Screen()\n",
    "screen.setup (width=500, height=500, startx=10, starty=150)\n",
    "screen.tracer(0,0)         # Animation aus\n",
    "screen.bgcolor('yellow')\n",
    "\n",
    "bob = Turtle()\n",
    "alice = Turtle()\n",
    "bob.ht()                   # hideturtle\n",
    "alice.ht()\n",
    "\n",
    "bob.color('red')\n",
    "alice.color('blue')\n",
    "for i in range(4):\n",
    "    bob.fd(100)\n",
    "    alice.fd(150)\n",
    "    bob.right(90)\n",
    "    alice.right(90)\n",
    "\n",
    "screen.update()            # Zeichnung anzeigen"
   ]
  },
  {
   "cell_type": "markdown",
   "metadata": {},
   "source": [
    "Wir erzeugen eine neue Klasse Stiftsturtle, die von Turtle erbt und eine\n",
    "    neue Funktionalität bereitstellt."
   ]
  },
  {
   "cell_type": "code",
   "execution_count": 1,
   "metadata": {},
   "outputs": [],
   "source": [
    "from turtle import Turtle, Screen\n",
    "\n",
    "class QuadratTurtle(Turtle):\n",
    "    def __init__(self):\n",
    "        super().__init__()\n",
    "        self.ht()\n",
    "\n",
    "    def quadrat(self,x,y,laenge,farbe=None):\n",
    "        '''\n",
    "        x, y, laenge: int\n",
    "        farbe: String mit Farbname oder Tupel mit Farbwerten. Wenn\n",
    "            kein Wert übergeben wird, wird eine zufällige Farbe gewählt.\n",
    "        returns: nichts, zeichnet ein Quadrat der Länge laenge und\n",
    "            Farbe farbe an die Position (x/y).\n",
    "        '''\n",
    "        from random import random\n",
    "        self.penup()\n",
    "        self.goto(x,y)\n",
    "        self.pendown()\n",
    "        if farbe is None:\n",
    "            farbe = (random(),random(),random())\n",
    "        self.color(farbe)\n",
    "        self.begin_fill()\n",
    "\n",
    "        for k in  range(4):\n",
    "            self.fd(laenge)\n",
    "            self.right(90)\n",
    "        self.end_fill()\n",
    "\n",
    "screen = Screen()\n",
    "screen.setup (width=500, height=500, startx=10, starty=150)\n",
    "screen.tracer(0,0)\n",
    "\n",
    "bob = QuadratTurtle()\n",
    "bob.quadrat(100,100,50,'red')\n",
    "bob.quadrat(-200,0,100,(1,1,0))\n",
    "bob.quadrat(-180,200,80)\n",
    "screen.update()\n"
   ]
  },
  {
   "cell_type": "markdown",
   "metadata": {},
   "source": [
    "##### Aufgabe:\n",
    "Implementiere eine QuadratTurtle mit einer Methode *rechteck(x,y,breite,hoehe,linienfarbe,liniendicke,fuellfarbe)*.\n",
    "An Position (x/y) soll ein Rechteck mit Breite *breite* und Höhe *hoehe*\n",
    "gezeichnet werden. Die Umrandung hat die Farbe *linienfarbe* und die Dicke *liniendicke*. Das\n",
    "Rechteck ist mit der Farbe *fuellfarbe* gefüllt. Wenn keine Argumente übergeben werden,\n",
    "sollen Zufallswerte innerhalb sinnvoller Grenzen gewählt werden.\n",
    "\n",
    "Zeichne dann 300 zufällige Rechtecke\n",
    "\n",
    "\n",
    "![](img/stiftsturtle_02.png)\n"
   ]
  },
  {
   "cell_type": "markdown",
   "metadata": {},
   "source": [
    "### Mouse-Events\n"
   ]
  },
  {
   "cell_type": "raw",
   "metadata": {},
   "source": [
    "screen.onscreenclick(fun,btn=1)\n",
    "'''\n",
    "fun: Funktion mit zwei Argumenten für die Koordinaten des Clicks.\n",
    "btn: 1/2/3 = linke/mittlere/rechte Maustaste\n",
    "'''"
   ]
  },
  {
   "cell_type": "code",
   "execution_count": null,
   "metadata": {},
   "outputs": [],
   "source": [
    "'''\n",
    "zeichnet die Koordinaten der Mausklicks\n",
    "'''\n",
    "from turtle import Turtle, Screen\n",
    "screen = Screen()\n",
    "screen.setup (width=500, height=500, startx=10, starty=150)\n",
    "t = Turtle()\n",
    "t.up()\n",
    "\n",
    "def coord(x,y):\n",
    "    t.goto(x,y)\n",
    "    t.stamp()\n",
    "    koord = str(int(x)) + ' / ' + str(int(y))\n",
    "    t.write(koord)\n",
    "    \n",
    "screen.onscreenclick(coord)"
   ]
  },
  {
   "cell_type": "raw",
   "metadata": {},
   "source": [
    "screen.onscreenclick(func,btn=1)  # btn=1/2/3: linke/mittlere/rechte Maustaste\n"
   ]
  },
  {
   "cell_type": "markdown",
   "metadata": {},
   "source": [
    "### Key-Events"
   ]
  },
  {
   "cell_type": "raw",
   "metadata": {},
   "source": [
    "screen.onkey(fun,key)\n",
    "= screen.onkeyreleased(fun,key)\n",
    "'''\n",
    "fun: Funktion mit keinem Argument oder None\n",
    "key: String, key (z.B: 'a') oder key-Name (z.B: 'space')\n",
    "'''\n",
    "screen.listen() wird benötigt"
   ]
  },
  {
   "cell_type": "code",
   "execution_count": null,
   "metadata": {},
   "outputs": [],
   "source": [
    "from turtle import Turtle, Screen\n",
    "screen = Screen()\n",
    "screen.setup (width=500, height=500, startx=10, starty=150)\n",
    "\n",
    "def farbeRot():\n",
    "    screen.bgcolor('red')\n",
    "    \n",
    "def farbeBlau():\n",
    "    screen.bgcolor('blue')    \n",
    "    \n",
    "screen.onkey(farbeRot,'r')       \n",
    "screen.onkey(farbeBlau,'Left')   # Key-Name\n",
    "screen.listen()"
   ]
  },
  {
   "cell_type": "markdown",
   "metadata": {},
   "source": [
    "### Links"
   ]
  },
  {
   "cell_type": "markdown",
   "metadata": {},
   "source": [
    "__[PythonDoc](https://docs.python.org/3.3/library/turtle.html?highlight=turtle)__\n",
    "\n",
    "__[Referenz aus Python für Kids](http://python4kids.net/downloads/py4k_cda4/turtlemodul-referenz/turtlemodul_referenz.pdf)__\n",
    "\n",
    "__[Key-Namen](http://infohost.nmt.edu/tcc/help/pubs/tkinter/web/key-names.html)__"
   ]
  },
  {
   "cell_type": "code",
   "execution_count": null,
   "metadata": {},
   "outputs": [],
   "source": []
  }
 ],
 "metadata": {
  "kernelspec": {
   "display_name": "Python 3",
   "language": "python",
   "name": "python3"
  },
  "language_info": {
   "codemirror_mode": {
    "name": "ipython",
    "version": 3
   },
   "file_extension": ".py",
   "mimetype": "text/x-python",
   "name": "python",
   "nbconvert_exporter": "python",
   "pygments_lexer": "ipython3",
   "version": "3.6.5"
  }
 },
 "nbformat": 4,
 "nbformat_minor": 2
}
