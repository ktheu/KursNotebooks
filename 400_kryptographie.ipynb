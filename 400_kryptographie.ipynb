{
 "cells": [
  {
   "cell_type": "markdown",
   "metadata": {},
   "source": [
    "# Kryptologie\n",
    "\n",
    "Die **Kryptologie** ist ein Teilgebiet der Informatik, das sich mit der Entwicklung und Bewertung von Verfahren der Verschlüsselung geheimer Daten befasst.\n"
   ]
  },
  {
   "cell_type": "markdown",
   "metadata": {},
   "source": [
    "#### Ausgangssituation und Rollen\n",
    "**Alice** will **Bob** eine Nachricht schicken. Dazu wandelt er den **Klartext** in einen **Geheimtext** um (**Chiffrierung**) und verschickt den Geheimtext. Alice verwandelt den Geheimtext wieder in einen Klartext um (**Dechiffrierung**).\n",
    "\n",
    "**Angreifer**: **Eve** will den Text mitlesen (ohne ihn zu verändern). **Mallory** will die verschickte Nachricht verändern.\n",
    "\n"
   ]
  },
  {
   "cell_type": "markdown",
   "metadata": {},
   "source": [
    "#### Sicherheitsziele\n",
    "\n",
    "* **Vertraulichkeit**: Die Nachricht, die man erhält, ist nicht von dritten Personen gelesen worden.\n",
    "* **Integrität**: Die Nachricht, die man erhält, ist von keiner dritten Person manipuliert worden.\n",
    "* **Authentizität**: Die Nachricht, die man erhält, stammt wirklich von der Person, die als Absender angegeben ist.\n",
    "* **Verbindlichkeit**: Der Urheber kann nachträglich nicht bestreiten, die Nachricht verfasst zu haben."
   ]
  },
  {
   "cell_type": "markdown",
   "metadata": {},
   "source": [
    "<hr>\n",
    "Hinweis: In unseren Beispielen wandeln wir den Klartext zunächst in einen Text um, der keine Umlaute hat, keine Satzzeichen, keine Leerzeichen und der nur aus Großbuchstaben besteht."
   ]
  },
  {
   "cell_type": "code",
   "execution_count": 37,
   "metadata": {},
   "outputs": [],
   "source": [
    "def prepare(s):\n",
    "    '''\n",
    "    s: Klartext\n",
    "    returns: String, Klartext ohne Umlaute, Satzzeichen, Leerzeichen, nur Großbuchstaben\n",
    "    '''\n",
    "    s = s.upper()\n",
    "    s = s.replace('Ö','OE').replace('Ü','UE').replace('Ä','AE').replace('ß','SS')\n",
    "    return ''.join([c for c in list(s) if c.isalpha()])\n",
    " "
   ]
  },
  {
   "cell_type": "code",
   "execution_count": 38,
   "metadata": {},
   "outputs": [
    {
     "data": {
      "text/plain": [
       "'HELLOWORLD'"
      ]
     },
     "execution_count": 38,
     "metadata": {},
     "output_type": "execute_result"
    }
   ],
   "source": [
    "prepare('Hello World!')"
   ]
  },
  {
   "cell_type": "markdown",
   "metadata": {},
   "source": [
    "<hr>"
   ]
  },
  {
   "cell_type": "markdown",
   "metadata": {},
   "source": [
    "#### Cäsar-Verfahren\n",
    "\n",
    "Die Buchstaben des Alphabeths werden um einen festen Betrag verschoben. Es gibt nur 26 mögliche Schlüssel. Die **Kryptoanalyse** ist mit einem **brute-force Angriff** möglich.\n"
   ]
  },
  {
   "cell_type": "code",
   "execution_count": 84,
   "metadata": {},
   "outputs": [],
   "source": [
    "def caesar(s, k):\n",
    "    '''\n",
    "    s: Klartext\n",
    "    k: ganze Zahl 0 <= k <= 26\n",
    "    returns: Geheimtext, Buchstaben um k-Stellen verschoben\n",
    "    '''\n",
    "    s = prepare(s)\n",
    "    a = [((ord(c) - ord('A')) + k) % 26  for c in list(s)]\n",
    "    return ''.join([chr(k + ord('A')) for k in a])\n"
   ]
  },
  {
   "cell_type": "code",
   "execution_count": 90,
   "metadata": {},
   "outputs": [
    {
     "data": {
      "text/plain": [
       "'KHOORZRUOG'"
      ]
     },
     "execution_count": 90,
     "metadata": {},
     "output_type": "execute_result"
    }
   ],
   "source": [
    "caesar('Hello World!',3)"
   ]
  },
  {
   "cell_type": "code",
   "execution_count": 112,
   "metadata": {},
   "outputs": [],
   "source": [
    "geheimtext = \"\"\"\n",
    "HUNYPMMHTKPLUZAHNTVYNLU\n",
    "\"\"\""
   ]
  },
  {
   "cell_type": "code",
   "execution_count": 114,
   "metadata": {},
   "outputs": [
    {
     "name": "stdout",
     "output_type": "stream",
     "text": [
      "k = 25: IVOZQNNIULQMVABIOUWZOMV\n",
      "k = 24: JWPAROOJVMRNWBCJPVXAPNW\n",
      "k = 23: KXQBSPPKWNSOXCDKQWYBQOX\n",
      "k = 22: LYRCTQQLXOTPYDELRXZCRPY\n",
      "k = 21: MZSDURRMYPUQZEFMSYADSQZ\n",
      "k = 20: NATEVSSNZQVRAFGNTZBETRA\n",
      "k = 19: OBUFWTTOARWSBGHOUACFUSB\n",
      "k = 18: PCVGXUUPBSXTCHIPVBDGVTC\n",
      "k = 17: QDWHYVVQCTYUDIJQWCEHWUD\n",
      "k = 16: REXIZWWRDUZVEJKRXDFIXVE\n",
      "k = 15: SFYJAXXSEVAWFKLSYEGJYWF\n",
      "k = 14: TGZKBYYTFWBXGLMTZFHKZXG\n",
      "k = 13: UHALCZZUGXCYHMNUAGILAYH\n",
      "k = 12: VIBMDAAVHYDZINOVBHJMBZI\n",
      "k = 11: WJCNEBBWIZEAJOPWCIKNCAJ\n",
      "k = 10: XKDOFCCXJAFBKPQXDJLODBK\n",
      "k =  9: YLEPGDDYKBGCLQRYEKMPECL\n",
      "k =  8: ZMFQHEEZLCHDMRSZFLNQFDM\n",
      "k =  7: ANGRIFFAMDIENSTAGMORGEN\n",
      "k =  6: BOHSJGGBNEJFOTUBHNPSHFO\n",
      "k =  5: CPITKHHCOFKGPUVCIOQTIGP\n",
      "k =  4: DQJULIIDPGLHQVWDJPRUJHQ\n",
      "k =  3: ERKVMJJEQHMIRWXEKQSVKIR\n",
      "k =  2: FSLWNKKFRINJSXYFLRTWLJS\n",
      "k =  1: GTMXOLLGSJOKTYZGMSUXMKT\n",
      "k =  0: HUNYPMMHTKPLUZAHNTVYNLU\n"
     ]
    }
   ],
   "source": [
    "for k in range(1,27):\n",
    "    print('k = {:2}: {}'.format(26-k, caesar(geheimtext,k)))"
   ]
  },
  {
   "cell_type": "markdown",
   "metadata": {},
   "source": [
    "Die **Cäsar-Chiffre** ist eine **monoalphabetische Ciffre**, da jeder Klartextbuchstabe durch immer denselben Geheimtextbuchstaben ersetzt wird.  "
   ]
  },
  {
   "cell_type": "markdown",
   "metadata": {},
   "source": [
    "#### Substitutions-Chiffre\n",
    "\n",
    "Bei der Substitutions-Chiffre ist das Geheimtextalphabet eine Permutation des Klartextalphabets. Anzahl Schlüssel:"
   ]
  },
  {
   "cell_type": "code",
   "execution_count": 117,
   "metadata": {},
   "outputs": [
    {
     "data": {
      "text/plain": [
       "403291461126605635584000000"
      ]
     },
     "execution_count": 117,
     "metadata": {},
     "output_type": "execute_result"
    }
   ],
   "source": [
    "import math\n",
    "math.factorial(26)"
   ]
  },
  {
   "cell_type": "code",
   "execution_count": 124,
   "metadata": {},
   "outputs": [
    {
     "data": {
      "text/plain": [
       "'4.03e+26'"
      ]
     },
     "execution_count": 124,
     "metadata": {},
     "output_type": "execute_result"
    }
   ],
   "source": [
    "'{:5.2e}'.format(math.factorial(26))"
   ]
  },
  {
   "cell_type": "code",
   "execution_count": null,
   "metadata": {},
   "outputs": [],
   "source": []
  }
 ],
 "metadata": {
  "kernelspec": {
   "display_name": "Python 3",
   "language": "python",
   "name": "python3"
  },
  "language_info": {
   "codemirror_mode": {
    "name": "ipython",
    "version": 3
   },
   "file_extension": ".py",
   "mimetype": "text/x-python",
   "name": "python",
   "nbconvert_exporter": "python",
   "pygments_lexer": "ipython3",
   "version": "3.6.5"
  }
 },
 "nbformat": 4,
 "nbformat_minor": 2
}
