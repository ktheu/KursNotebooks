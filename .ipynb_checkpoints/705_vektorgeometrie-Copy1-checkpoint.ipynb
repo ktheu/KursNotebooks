{
 "cells": [
  {
   "cell_type": "markdown",
   "metadata": {},
   "source": [
    "### Klassen für Vektorgeometrie"
   ]
  },
  {
   "cell_type": "markdown",
   "metadata": {},
   "source": [
    "#### Die Klasse Vektor\n",
    "Ein Punkt hat drei Koordinaten *x1, x2, x3* vom Typ *float*."
   ]
  },
  {
   "cell_type": "code",
   "execution_count": 1,
   "metadata": {},
   "outputs": [],
   "source": [
    "import math\n",
    "from sympy import symbols, Eq, solve, linsolve\n",
    "_x1, _x2, _x3, _k, _s = symbols(\"_x1 _x2 _x3 _k _s\",real=True)"
   ]
  },
  {
   "cell_type": "code",
   "execution_count": 115,
   "metadata": {},
   "outputs": [],
   "source": [
    "class Vektor:\n",
    "    def __init__(self,x1,x2,x3):\n",
    "        self.x1 = x1\n",
    "        self.x2 = x2\n",
    "        self.x3 = x3\n",
    "        \n",
    "    def __str__(self):\n",
    "        return '({}|{}|{})'.format(round(self.x1,4), round(self.x2,4), round(self.x3))\n",
    "    \n",
    "    def nach(self, other):\n",
    "        return Vektor(other.x1 - self.x1, other.x2 - self.x2, other.x3 - self.x3)\n",
    "    \n",
    "    def laenge(self):\n",
    "        return math.sqrt(self.x1**2 + self.x2**2 + self.x3**2)\n",
    "    \n",
    "    def abstand(self,v):\n",
    "        return self.nach(v).laenge()\n",
    "    \n",
    "    def mult(self,k):\n",
    "        return Vektor(self.x1*k, self.x2*k, self.x3*k)\n",
    "    \n",
    "    def __add__(self,other):\n",
    "        return Vektor(self.x1 + other.x1, self.x2 + other.x2, self.x3 + other.x3)\n",
    "    \n",
    "    def vektorprodukt(self,other):\n",
    "        x1k = self.x2*other.x3 - self.x3*other.x2\n",
    "        x2k = self.x3*other.x1 - self.x1*other.x3\n",
    "        x3k = self.x1*other.x2 - self.x2*other.x1\n",
    "        return Vektor(x1k, x2k, x3k)\n",
    "    \n",
    "    def skalarprodukt(self,other):\n",
    "        return self.x1*other.x1 + self.x2*other.x2 + self.x3*other.x3\n",
    "    \n",
    "    def orthogonal(self,other):\n",
    "        return math.isclose(self.skalarprodukt(other),0)\n",
    "          \n",
    "    def parallel(self,other):\n",
    "        \n",
    "        e1 =  Eq( self.x1 * _k ,  other.x1 )\n",
    "        e2 =  Eq( self.x2 * _k ,  other.x2 )\n",
    "        e3 =  Eq( self.x3 * _k ,  other.x3 )\n",
    "        equations = []\n",
    "        if e1 != True and e1 != False: equations.append(e1)\n",
    "        if e2 != True and e2 != False: equations.append(e2)\n",
    "        if e3 != True and e3 != False: equations.append(e3)\n",
    " \n",
    "        erg = solve(equations)\n",
    "        if not erg:\n",
    "            return False\n",
    "        return True\n",
    "    \n",
    "\n"
   ]
  },
  {
   "cell_type": "code",
   "execution_count": 114,
   "metadata": {},
   "outputs": [],
   "source": [
    "class Ebene:\n",
    "    def __init__(self,a=0,b=0,c=0,d=0):\n",
    "        self.a = a\n",
    "        self.b = b\n",
    "        self.c = c\n",
    "        self.d = d\n",
    "        \n",
    "    def __str__(self):\n",
    "        return '{}*x1 + {}*x2 + {}*x3 = {}'.format(self.a,self.b,self.c,self.d)\n",
    "\n",
    "    def punktProbe(self,v):\n",
    "        return math.isclose(self.a*v.x1 + self.b*v.x2 + self.c *v.x3, self.d)\n",
    "    \n",
    "    def normale(self):\n",
    "        return Vektor(self.a,self.b,self.c)\n",
    "    \n",
    "    def kuerze(self,k):\n",
    "        self.a //=k\n",
    "        self.b //=k\n",
    "        self.c //=k\n",
    "        self.d //=k\n",
    "     \n",
    "    def abstand(self, v):\n",
    "        tmp = self.a * v.x1 + self.b * v.x2 + self.c * v.x3 - self.d\n",
    "        return abs(tmp)/(self.normale().laenge())\n",
    "    \n",
    "    def make(self,stuetz,v1,v2):\n",
    "        n = v1.vektorprodukt(v2)\n",
    "        d = n.skalarprodukt(stuetz)\n",
    "        self.a, self.b, self.c = n.x1, n.x2, n.x3\n",
    "        self.d = n.skalarprodukt(stuetz) \n",
    "        \n",
    "    def lageZuGerade(self,g):\n",
    "        r1,r2,r3 = g.r.x1, g.r.x2, g.r.x3\n",
    "        if self.normale().orthogonal(g.r):\n",
    "            if punktProbe(g.stuetz):\n",
    "                return (2,'Gerade in Ebene')\n",
    "            else:\n",
    "                return (0,'Gerade parallel zur Ebene')\n",
    "        else:\n",
    "            s1,s2,s3 = g.stuetz.x1,g.stuetz.x2, g.stuetz.x3\n",
    "            equations = [Eq(self.a*(s1 + _k * r1) + self.b*(s2 + _k * r2) + self.c*(s3 + _k * r3),self.d)]\n",
    "            erg, = linsolve(equations,_k) \n",
    "            n = erg[0]\n",
    "            p = (s1+n*r1,s2+n*r2,s3+n*r3)\n",
    "            return (1,p)\n",
    "        \n",
    "    def schnittMitGerade(self,g):\n",
    "        (f,p) = self.lageZuGerade(g)\n",
    "        if f == 1:\n",
    "            p1,p2,p3 = p\n",
    "            return Vektor(p1,p2,p3)\n"
   ]
  },
  {
   "cell_type": "code",
   "execution_count": 113,
   "metadata": {},
   "outputs": [],
   "source": [
    "class Gerade:\n",
    "    def __init__(self,stuetz, r):\n",
    "        self.stuetz = stuetz\n",
    "        self.r = r\n",
    "    \n",
    "    def __str__(self):\n",
    "        return '{} + k*{}'.format(str(self.stuetz),str(self.r))\n",
    "        \n",
    "    def punkt(self, k):\n",
    "        return self.stuetz + self.r.mult(k)\n",
    "    \n",
    "    def punkteMitAbstand(self,abstand, e):\n",
    "        # returned punkte mit Abstand t zur Ebene E\n",
    "        s1 = e.a * (self.stuetz.x1 + _k * self.r.x1)\n",
    "        s2 = e.b * (self.stuetz.x2 + _k * self.r.x2)\n",
    "        s3 = e.c * (self.stuetz.x3 + _k * self.r.x3)\n",
    "        zaehler = abs(s1+s2+s3-e.d)\n",
    "        nenner = e.normale().laenge()\n",
    "        equation = Eq(zaehler/nenner,abstand)\n",
    "        erg = solve(equation)\n",
    "        return self.punkt(erg[0]), self.punkt(erg[1])\n",
    "    \n",
    "    def hilfsebene(self,p):\n",
    "        a,b,c = self.r.x1, self.r.x2, self.r.x3\n",
    "        d = a*p.x1 + b*p.x2 + c*p.x3\n",
    "        return Ebene(a,b,c,d)\n",
    "    \n",
    "    def abstandZuPunkt(self,p):\n",
    "        he = self.hilfsebene(p)\n",
    "        p1 = he.schnittMitGerade(g)\n",
    "        return p.abstand(p1)\n",
    "    \n",
    "    def getFaktor(self, p):\n",
    "        e1 = Eq(self.stuetz.x1 + _k * self.r.x1,p.x1)\n",
    "        e2 = Eq(self.stuetz.x2 + _k * self.r.x2,p.x2)\n",
    "        e3 = Eq(self.stuetz.x3 + _k * self.r.x3,p.x3)\n",
    "        equations = []\n",
    "        if e1 != True and e1 != False: equations.append(e1)\n",
    "        if e2 != True and e2 != False: equations.append(e2)\n",
    "        if e3 != True and e3 != False: equations.append(e3)\n",
    "   \n",
    "        erg, = linsolve(equations,_k)\n",
    "        return erg[0]\n"
   ]
  },
  {
   "cell_type": "markdown",
   "metadata": {},
   "source": [
    "#### Abitur 2019, Pflichtteil A6"
   ]
  },
  {
   "cell_type": "code",
   "execution_count": 116,
   "metadata": {},
   "outputs": [
    {
     "name": "stdout",
     "output_type": "stream",
     "text": [
      "(0.0|2.0|-5)\n",
      "9.0\n"
     ]
    }
   ],
   "source": [
    "g = Gerade(Vektor(4,-6,3),Vektor(1,-2,2))\n",
    "\n",
    "E23 = Ebene(1,0,0,0)   # x2x3-Ebene\n",
    "print(E23.schnittMitGerade(g))\n",
    "\n",
    "P = Vektor(-3,-1,7)\n",
    "print(g.abstandZuPunkt(P))\n"
   ]
  },
  {
   "cell_type": "markdown",
   "metadata": {},
   "source": [
    "#### Abitur 2019, B1"
   ]
  },
  {
   "cell_type": "code",
   "execution_count": 117,
   "metadata": {},
   "outputs": [
    {
     "name": "stdout",
     "output_type": "stream",
     "text": [
      "5.916079783099616 2.8284271247461903 5.916079783099616 5.656854249492381\n",
      "True\n",
      "5*x1 + 4*x2 + 5*x3 = 30\n",
      "(5.0|-9.5|5) (5.0|-0.5|5)\n"
     ]
    },
    {
     "data": {
      "text/plain": [
       "(-1.90000000000000, -0.100000000000002)"
      ]
     },
     "execution_count": 117,
     "metadata": {},
     "output_type": "execute_result"
    }
   ],
   "source": [
    "A = Vektor(0,0,0)\n",
    "G = Vektor(5,5,5)\n",
    "K = Vektor(5,0,1)\n",
    "L = Vektor(2,5,0)\n",
    "M = Vektor(0,5,2)\n",
    "N = Vektor(1,0,5)\n",
    "\n",
    "KL = K.nach(L)\n",
    "LM = L.nach(M)\n",
    "MN = M.nach(N)\n",
    "NK = N.nach(K)\n",
    "\n",
    "# a)\n",
    "print(KL.laenge(), LM.laenge(), MN.laenge(), NK.laenge())\n",
    "\n",
    "print(LM.parallel(NK))\n",
    "T = Ebene()\n",
    "T.make(K,KL,LM) \n",
    "T.kuerze(2)\n",
    "print(T)\n",
    "\n",
    "# b)\n",
    "F = Vektor(5,0,5)\n",
    "FG = F.nach(G)\n",
    "grenze = 18/math.sqrt(66)\n",
    "g = Gerade(F,FG)\n",
    "v1, v2 = g.punkteMitAbstand(grenze,T)\n",
    "print(v1,v2)\n",
    "g.getFaktor(v1), g.getFaktor(v2)\n",
    "\n"
   ]
  },
  {
   "cell_type": "markdown",
   "metadata": {},
   "source": [
    "#### Abitur 2019, Pflichtteil B2"
   ]
  },
  {
   "cell_type": "code",
   "execution_count": 118,
   "metadata": {},
   "outputs": [
    {
     "name": "stdout",
     "output_type": "stream",
     "text": [
      "10*x1 + 20*x2 + 20*x3 = 180\n",
      "4.47213595499958 7.0710678118654755 7.0710678118654755\n",
      "30.0\n",
      "-1*x1 + -9*x2 + 0*x3 = -5\n",
      "(0|0|0) + k*(4|6|10)\n",
      "(0.3448|0.5172|1)\n"
     ]
    }
   ],
   "source": [
    "# a\n",
    "A = Vektor(6,6,0)\n",
    "B = Vektor(2,8,0)\n",
    "O = Vektor(0,0,0)\n",
    "S = Vektor(4,6,10)\n",
    "C = Vektor(2,3,5)\n",
    "\n",
    "AB = A.nach(B)\n",
    "AC = A.nach(C)\n",
    "BC = B.nach(C)\n",
    "\n",
    "E = Ebene()\n",
    "E.make(A,AB,AC)\n",
    "print(E)\n",
    "\n",
    "print(AB.laenge(), AC.laenge(), BC.laenge())\n",
    "g = AB.vektorprodukt(AC).laenge() * 0.5\n",
    "h = E.abstand(S)\n",
    "volumen = 1/3 * g * h\n",
    "print(volumen)\n",
    "\n",
    "HE = Ebene()\n",
    "V = Vektor(-9,1,-4)\n",
    "HE.make(F,Vektor(0,0,1),V)\n",
    "print(HE)\n",
    "g = Gerade(O,S)\n",
    "print(g)\n",
    "M = HE.schnittMitGerade(g)\n",
    "print(M)\n"
   ]
  },
  {
   "cell_type": "markdown",
   "metadata": {},
   "source": [
    "#### Abitur 2018, Pflichtteil A6"
   ]
  },
  {
   "cell_type": "code",
   "execution_count": 119,
   "metadata": {},
   "outputs": [
    {
     "name": "stdout",
     "output_type": "stream",
     "text": [
      "-1\n",
      "(3.0|-3.0|-1)\n"
     ]
    }
   ],
   "source": [
    "E = Ebene(1,-2,3,12)\n",
    "P = Vektor(5,1,5)\n",
    "Q = Vektor(6,3,8)\n",
    "\n",
    "PQ = P.nach(Q)\n",
    "g = Gerade(P,PQ)\n",
    "\n",
    "S = E.schnittMitGerade(g)\n",
    "k = g.getFaktor(S)\n",
    "\n",
    "print(k)\n",
    "\n",
    "PS = P.nach(S)\n",
    "R = P + PS + PS\n",
    "print(R)\n",
    "\n"
   ]
  }
 ],
 "metadata": {
  "kernelspec": {
   "display_name": "Python 3",
   "language": "python",
   "name": "python3"
  },
  "language_info": {
   "codemirror_mode": {
    "name": "ipython",
    "version": 3
   },
   "file_extension": ".py",
   "mimetype": "text/x-python",
   "name": "python",
   "nbconvert_exporter": "python",
   "pygments_lexer": "ipython3",
   "version": "3.6.5"
  }
 },
 "nbformat": 4,
 "nbformat_minor": 2
}
