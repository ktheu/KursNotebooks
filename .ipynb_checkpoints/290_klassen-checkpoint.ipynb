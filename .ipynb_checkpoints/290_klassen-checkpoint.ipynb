{
 "cells": [
  {
   "cell_type": "markdown",
   "metadata": {},
   "source": [
    "### Klassen und Objekte\n",
    "\n",
    "#### Konzepte objektorientierter Programmierung\n",
    "\n",
    "* Klassen und Objekte\n",
    "* Attribute, Konstruktor, Methoden\n",
    "* Klassendiagramm und Objektdiagramm\n",
    "* Assoziation und Vererbung\n",
    "* Überschreiben\n",
    "* Sichtbarkeit von Attributen, \n",
    "* Datenkapselung, Information Hiding, getter-/setter-Methoden"
   ]
  },
  {
   "cell_type": "markdown",
   "metadata": {},
   "source": [
    "#### Attribute, Methoden, Objektdiagramm\n",
    "\n",
    "Die Objektorientierung fasst Daten und ihre Verarbeitungsfunktionen zu einem Objekt zusammen. Die Daten des Objekts werden **Attribute** genannt, die Verarbeitungsfunktionen **Methoden**.\n",
    "\n",
    "Ein Objekt befindet sich stets in einem bestimmten Zustand. Der aktuelle Objektzustand wird durch die aktuellen Werte der Attribute festgelegt.\n",
    "Den Zustand eines Objekts verdeutlicht man mit einem **Objektdiagramm**.\n",
    "\n",
    "<img src=\"./img/klassen1.png\" width=\"120\"/> "
   ]
  },
  {
   "cell_type": "markdown",
   "metadata": {},
   "source": [
    "### Klassen und Klassendiagramm\n",
    "\n",
    "Eine **Klasse** ist ein Bauplan für Objekte. Dieser Bauplan legt fest, welche Attribute die zu konstruierenden Objekte haben sollen und welche Methoden sie ausführen können sollen. \n",
    "\n",
    "Das **Klassendiagramm** zeigt die Struktur der Klasse Datum, die als Bauplan für Datum-Objekte dienen soll.\n",
    "\n",
    "<img src=\"./img/klassen2.png\" width=\"200\"/> "
   ]
  },
  {
   "cell_type": "markdown",
   "metadata": {},
   "source": [
    "Objekt- und Klassendiagramm zeigen eine Situation, in der zwei Datum-Objekte erzeugt wurden und einen dazu passenden Python-Code.\n",
    "\n",
    "<img src=\"./img/klassen3.png\" width=\"400\"/> "
   ]
  },
  {
   "cell_type": "code",
   "execution_count": 3,
   "metadata": {},
   "outputs": [
    {
     "name": "stdout",
     "output_type": "stream",
     "text": [
      "True\n",
      "False\n"
     ]
    }
   ],
   "source": [
    "class Datum:\n",
    "    def __init__(self,tag,monat,jahr):\n",
    "        self.tag = tag\n",
    "        self.monat = monat\n",
    "        self.jahr = jahr\n",
    "\n",
    "    def im_fruehling(self):\n",
    "        return 3 <= self.monat <=5: \n",
    "\n",
    "d1 = Datum(12,3,1990)\n",
    "d2 = Datum(3,9,1995)\n",
    "print(d1.im_fruehling())\n",
    "print(d2.im_fruehling())"
   ]
  },
  {
   "cell_type": "markdown",
   "metadata": {},
   "source": [
    "#### Punktnotation und *self*\n",
    "\n",
    "Auf die Attribute und die Methoden greifen wir mit der Punkt-Notation zu.  \n",
    "\n",
    "Eine Methode steht innerhalb des class-Blocks und erhält mit dem ersten Parameter **self** immer eine Referenz auf die Instanz, über die sie aufgerufen wird. Dieser erste Parameter muss nur bei der Definition hingeschrieben werden und wird beim Aufruf der Methode automatisch mit der entsprechenden Instanz verküpft."
   ]
  },
  {
   "cell_type": "markdown",
   "metadata": {},
   "source": [
    "d1.imFruehling() $\\approx$ imFruehling(d1)"
   ]
  },
  {
   "cell_type": "markdown",
   "metadata": {},
   "source": [
    " #### Konstruktor und \\_\\_str__\n",
    " \n",
    "Der **Konstruktor**  (= Methode  **\\_\\_init__**) wird beim Instanziieren eines Objekts durchlaufen. Seine Aufgabe ist es, das Objekt in einen vernünftigen Anfangszustand zu versetzen. \n",
    "\n",
    "Die __str__- Methode wird aufgerufen, wenn das Objekt gedruckt wird."
   ]
  },
  {
   "cell_type": "code",
   "execution_count": 7,
   "metadata": {},
   "outputs": [
    {
     "name": "stdout",
     "output_type": "stream",
     "text": [
      "12.3.1990\n"
     ]
    }
   ],
   "source": [
    "class Datum:\n",
    "    def __init__(self,tag,monat,jahr):\n",
    "        self.tag = tag\n",
    "        self.monat = monat\n",
    "        self.jahr = jahr\n",
    "        \n",
    "    def im_fruehling(self):\n",
    "        return 3 <= self.monat <=5: \n",
    "\n",
    "    def __str__(self):\n",
    "        return str(self.tag)+'.'+str(self.monat)+'.'+str(self.jahr)\n",
    "\n",
    "d1 = Datum(12,3,1990)\n",
    "print(d1)\n",
    " "
   ]
  },
  {
   "cell_type": "markdown",
   "metadata": {},
   "source": [
    "#### Assoziation \n"
   ]
  },
  {
   "cell_type": "markdown",
   "metadata": {},
   "source": [
    "Das Beispiel zeigt eine Beziehung zwischen zwei Klassen (**Assoziation**). Das\n",
    "gebdatum-Attribut eines Person-Objekts zeigt auf ein Objekt der Klasse Datum.\n",
    "\n",
    "<img src=\"./img/klassen4.png\" width=\"500\"/> \n",
    "\n",
    "Das Klassendiagramm für die Klasse Person:\n",
    "\n",
    "<img src=\"./img/klassen5.png\" width=\"200\"/> "
   ]
  },
  {
   "cell_type": "code",
   "execution_count": 18,
   "metadata": {},
   "outputs": [
    {
     "name": "stdout",
     "output_type": "stream",
     "text": [
      "Malte Riedberg, geboren am 9.8.1990\n",
      "1990\n"
     ]
    }
   ],
   "source": [
    "import datetime\n",
    "class Datum:\n",
    "    def __init__(self,tag=1,monat=1,jahr=1970):\n",
    "        self.tag = tag\n",
    "        self.monat = monat\n",
    "        self.jahr = jahr\n",
    "\n",
    "    def __str__(self):\n",
    "        return str(self.tag) + \".\" + str(self.monat) + \".\" + str(self.jahr)\n",
    "\n",
    "    def im_fruehling(self):\n",
    "        if 3 <= self.monat <=5: return True\n",
    "        return False\n",
    "\n",
    "\n",
    "class Person:\n",
    "    def __init__(self,vorname,nachname,tag,monat,jahr):\n",
    "        self.vorname = vorname\n",
    "        self.nachname = nachname\n",
    "        self.gebdatum = Datum(tag,monat,jahr)\n",
    "\n",
    "    def jahrgang(self):\n",
    "        return self.gebdatum.jahr\n",
    "\n",
    "    def alter(self):\n",
    "        heute = datetime.date.today()\n",
    "        akt_jahr = heute.year\n",
    "        return akt_jahr - self.jahrgang()\n",
    "\n",
    "    def __str__(self):\n",
    "        return self.vorname + \" \" + self.nachname + \", geboren am \" + str(self.gebdatum)\n",
    "    \n",
    "p = Person(\"Malte\",\"Riedberg\",9,8,1990)\n",
    "print(p)\n",
    "print(p.jahrgang())\n"
   ]
  },
  {
   "cell_type": "markdown",
   "metadata": {},
   "source": [
    "#### Vererbung\n",
    "\n",
    "Aus bestehenden Klassen kann man neue Klassen ableiten.\n",
    "Eine abgeleitete Klasse erbt von der Oberklasse ihre\n",
    "Attribute und Methoden, fügt ggf. eigene hinzu und kann ihnen durch Überschreiben\n",
    "eine neue Bedeutung geben. \n",
    "\n",
    "Im Beispiel wird die Methode *jahrgang* der Oberklasse Person überschrieben. Sie soll das Attribut jsb (Jahr des Studienbeginns) zurückgeben.\n",
    "\n",
    "<img src=\"./img/klassen6.png\" width=\"500\"/> "
   ]
  },
  {
   "cell_type": "code",
   "execution_count": 26,
   "metadata": {},
   "outputs": [
    {
     "name": "stdout",
     "output_type": "stream",
     "text": [
      "Peter Döhlmann, geboren am 10.4.1992\n",
      "2011\n"
     ]
    }
   ],
   "source": [
    "class Student(Person):\n",
    "    def __init__(self,vorname,nachname,tag,monat,jahr,fach,jsb):\n",
    "        super().__init__(vorname,nachname,tag,monat,jahr)\n",
    "        self.fach = fach\n",
    "        self.jsb = jsb   \n",
    "\n",
    "    def jahrgang(self):\n",
    "        return self.jsb\n",
    "    \n",
    "s = Student(\"Peter\", \"Döhlmann\", 10,4,1992, \"Bio\", 2011)\n",
    "print(s)\n",
    "print(s.jahrgang())"
   ]
  },
  {
   "cell_type": "markdown",
   "metadata": {},
   "source": [
    "#### Datenkapselung, Information Hiding, Geheimnisprinzip \n",
    "\n",
    "In der objektorientieren Programmierung werden die Daten und die Methoden, die auf ihnen arbeiten als eine Einheit gesehen (**Datenkapselung**). Im Idealfall kann auf die Daten der Kapsel (die Werte der Attribute) nur durch wohldefinierte Schnittstellenmethoden zugegriffen werden. Die Attribute sind nach außen hin nicht direkt sichtbar (**Geheimnisprinzip, Information Hiding**).  \n",
    "\n",
    "Allgemein bedeutet das Prinzip des Information Hiding, dass ein Teilsystem (hier ein Objekt) nichts von den Implementierungsentscheidungen eines anderen Teilsystems wissen darf. \n",
    "\n",
    "Der Entwickler einer Klasse hat die Möglichkeit, **Zugriffsrechte für Attribute und Methoden** einer Klasse zu vergeben.\n",
    " \n",
    "* public:  von überall zugreifbar\n",
    "* private: nur innerhalb der Klasse zugreifbar\n",
    "* protected: innerhalb der Klasse und in abgeleiteten Klassen zugreifbar\n",
    "\n",
    "\n",
    "In Python gibt es keine Möglichkeit die Zugriffsrechte sicher durchzusetzen. Es gilt die Konvention:\n",
    "\n",
    "* private: Name beginnt mit doppeltem Unterstrich und endet ohne Unterstrich\n",
    "* protected: Name beginnt mit einfachem Unterstrich und endet ohne Unterstrich\n",
    "* public: sonst"
   ]
  },
  {
   "cell_type": "markdown",
   "metadata": {},
   "source": [
    "#### getter und setter\n",
    "\n",
    "Getter- und setter-Methoden dienen dazu, um auf private Attribute zugreifen zu können."
   ]
  },
  {
   "cell_type": "code",
   "execution_count": 31,
   "metadata": {},
   "outputs": [
    {
     "name": "stdout",
     "output_type": "stream",
     "text": [
      "2000\n"
     ]
    }
   ],
   "source": [
    "class Konto:\n",
    "    def __init__(self,kontostand):\n",
    "        self.__kontostand = kontostand\n",
    "\n",
    "    def getKontostand(self):\n",
    "        return self.__kontostand\n",
    "\n",
    "    def setKontostand(self,betrag):\n",
    "        self.__kontostand = betrag\n",
    "\n",
    "k = Konto(1000)\n",
    "k.setKontostand(2000)\n",
    "print(k.getKontostand())"
   ]
  },
  {
   "cell_type": "markdown",
   "metadata": {},
   "source": [
    "#### Vereinbarung\n",
    "\n",
    "Um unsere Algorithmen schlank zu halten erlauben wir uns in diesem Kurs öffentliche Attribute und\n",
    "den direkten Zugriff darauf (sofern nicht explizit anders vorgegeben)."
   ]
  },
  {
   "cell_type": "markdown",
   "metadata": {},
   "source": [
    "### Beispiel: Objektorientierte Modellierung des Rucksackproblems\n",
    "\n",
    "In der Klasse Ding ist *id* eine Klassenvariable. Sie ist nicht an eine Instanz gebunden, sondern klebt an der Klasse. \n",
    "\n",
    "Die Methode *\\_\\_lt\\_\\_* (less than) ist ein magische Methode und beschreibt den Ausgang eines Vergleichs zweier Instanzen mit dem *<* Operator."
   ]
  },
  {
   "cell_type": "code",
   "execution_count": 3,
   "metadata": {},
   "outputs": [
    {
     "name": "stdout",
     "output_type": "stream",
     "text": [
      "6 3 0\n",
      "Wert = 18, Gewicht = 10\n"
     ]
    }
   ],
   "source": [
    "class Ding:\n",
    "    id = 0\n",
    "\n",
    "    def __init__(self, wert, gewicht):\n",
    "        self.wert = wert\n",
    "        self.gewicht = gewicht\n",
    "        self.id = Ding.id\n",
    "        Ding.id += 1\n",
    "\n",
    "    def wertDichte(self):\n",
    "        return self.wert/self.gewicht\n",
    " \n",
    "    def __str__(self):\n",
    "        return \"({}/{}/{})\".format(self.wert, self.gewicht,self.id)\n",
    "\n",
    "    def __lt__(self,other):            \n",
    "        return self.wert < other.wert\n",
    "\n",
    "class Rucksack:\n",
    "    \n",
    "    def __init__(self,kapazitaet):\n",
    "        self.inhalt = []\n",
    "        self.kapazitaet = kapazitaet\n",
    "        \n",
    "    def passt(self,ding):\n",
    "        return self.kapazitaet - self.gewicht() >= ding.gewicht\n",
    "         \n",
    "    def packeEin(self,ding):\n",
    "        if self.passt(ding):\n",
    "            self.inhalt.append(ding)\n",
    "         \n",
    "    def gewicht(self):\n",
    "        summe = 0\n",
    "        for x in self.inhalt:\n",
    "            summe += x.gewicht\n",
    "        return summe\n",
    "    \n",
    "    def wert(self):\n",
    "        summe = 0\n",
    "        for x in self.inhalt:\n",
    "            summe += x.wert\n",
    "        return summe\n",
    "\n",
    "    def gibInhalt(self):\n",
    "        result = \"\"\n",
    "        for x in self.inhalt:\n",
    "            result += str(x.id)+' '\n",
    "        return result.strip()\n",
    "\n",
    "wert = [1,1,1,10,10,13,7]\n",
    "gewicht = [2,2,2,5,5,8,3]\n",
    "kapazitaet = 10\n",
    "\n",
    "r = Rucksack(kapazitaet)\n",
    "a = []  \n",
    "for i in range(len(wert)):\n",
    "    d = Ding(wert[i],gewicht[i])\n",
    "    a.append(d)\n",
    "\n",
    "#a.sort(reverse = True)\n",
    "a.sort(key = lambda x : x.gewicht)\n",
    "a.sort(key = lambda x : x.wertDichte(),reverse=True)\n",
    "\n",
    "for d in a:\n",
    "    if r.passt(d):\n",
    "        r.packeEin(d)\n",
    "\n",
    "print(r.gibInhalt())\n",
    "print('Wert = {}, Gewicht = {}'.format(r.wert(), r.gewicht()))\n",
    "    "
   ]
  },
  {
   "cell_type": "code",
   "execution_count": null,
   "metadata": {},
   "outputs": [],
   "source": []
  }
 ],
 "metadata": {
  "kernelspec": {
   "display_name": "Python 3",
   "language": "python",
   "name": "python3"
  },
  "language_info": {
   "codemirror_mode": {
    "name": "ipython",
    "version": 3
   },
   "file_extension": ".py",
   "mimetype": "text/x-python",
   "name": "python",
   "nbconvert_exporter": "python",
   "pygments_lexer": "ipython3",
   "version": "3.6.5"
  }
 },
 "nbformat": 4,
 "nbformat_minor": 2
}
