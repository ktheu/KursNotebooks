{
 "cells": [
  {
   "cell_type": "markdown",
   "metadata": {},
   "source": [
    "#### Eine Zeile mit input einlesen\n",
    "\n",
    "Mit Input eine Zeile mit Zahlen einlesen, die durch blank getrennt sind"
   ]
  },
  {
   "cell_type": "code",
   "execution_count": 3,
   "metadata": {},
   "outputs": [
    {
     "name": "stdout",
     "output_type": "stream",
     "text": [
      "14\n"
     ]
    }
   ],
   "source": [
    "w, h = [int(i) for i in input().split()]\n",
    "print(w + h)"
   ]
  },
  {
   "cell_type": "code",
   "execution_count": 4,
   "metadata": {},
   "outputs": [
    {
     "name": "stdout",
     "output_type": "stream",
     "text": [
      "15\n"
     ]
    }
   ],
   "source": [
    "w, h = map(int,input().split())\n",
    "print(w + h)"
   ]
  },
  {
   "cell_type": "markdown",
   "metadata": {},
   "source": [
    "#### Eine Zeile aus Datei einlesen\n",
    "\n",
    "Eine Zeile einlesen mit Zahlen, die durch blank getrennt sind."
   ]
  },
  {
   "cell_type": "code",
   "execution_count": 5,
   "metadata": {},
   "outputs": [
    {
     "name": "stdout",
     "output_type": "stream",
     "text": [
      "12 8 20\n"
     ]
    }
   ],
   "source": [
    "with open ('data/data1.txt') as f:\n",
    "    w, h = [int(i) for i in f.readline().split()]\n",
    "print(w,h,w+h)"
   ]
  },
  {
   "cell_type": "code",
   "execution_count": 12,
   "metadata": {},
   "outputs": [
    {
     "name": "stdout",
     "output_type": "stream",
     "text": [
      "16 14 30\n"
     ]
    }
   ],
   "source": [
    "with open ('data/data1.txt') as f:\n",
    "    w, h = map(int,f.readline().split())\n",
    "print(w,h,w+h)"
   ]
  },
  {
   "cell_type": "markdown",
   "metadata": {},
   "source": [
    "#### Eine Zeichenmatrix einlesen"
   ]
  },
  {
   "cell_type": "code",
   "execution_count": 22,
   "metadata": {},
   "outputs": [
    {
     "data": {
      "text/plain": [
       "[['F',\n",
       "  ' ',\n",
       "  ' ',\n",
       "  'E',\n",
       "  ' ',\n",
       "  ' ',\n",
       "  'D',\n",
       "  ' ',\n",
       "  ' ',\n",
       "  'C',\n",
       "  ' ',\n",
       "  ' ',\n",
       "  'B',\n",
       "  ' ',\n",
       "  ' ',\n",
       "  'A'],\n",
       " ['|',\n",
       "  ' ',\n",
       "  ' ',\n",
       "  '|',\n",
       "  '-',\n",
       "  '-',\n",
       "  '|',\n",
       "  ' ',\n",
       "  ' ',\n",
       "  '|',\n",
       "  ' ',\n",
       "  ' ',\n",
       "  '|',\n",
       "  ' ',\n",
       "  ' ',\n",
       "  '|'],\n",
       " ['|',\n",
       "  '-',\n",
       "  '-',\n",
       "  '|',\n",
       "  ' ',\n",
       "  ' ',\n",
       "  '|',\n",
       "  '-',\n",
       "  '-',\n",
       "  '|',\n",
       "  ' ',\n",
       "  ' ',\n",
       "  '|',\n",
       "  '-',\n",
       "  '-',\n",
       "  '|'],\n",
       " ['|',\n",
       "  ' ',\n",
       "  ' ',\n",
       "  '|',\n",
       "  '-',\n",
       "  '-',\n",
       "  '|',\n",
       "  ' ',\n",
       "  ' ',\n",
       "  '|',\n",
       "  '-',\n",
       "  '-',\n",
       "  '|',\n",
       "  ' ',\n",
       "  ' ',\n",
       "  '|'],\n",
       " ['|',\n",
       "  ' ',\n",
       "  ' ',\n",
       "  '|',\n",
       "  ' ',\n",
       "  ' ',\n",
       "  '|',\n",
       "  ' ',\n",
       "  ' ',\n",
       "  '|',\n",
       "  ' ',\n",
       "  ' ',\n",
       "  '|',\n",
       "  '-',\n",
       "  '-',\n",
       "  '|'],\n",
       " ['|',\n",
       "  ' ',\n",
       "  ' ',\n",
       "  '|',\n",
       "  '-',\n",
       "  '-',\n",
       "  '|',\n",
       "  ' ',\n",
       "  ' ',\n",
       "  '|',\n",
       "  '-',\n",
       "  '-',\n",
       "  '|',\n",
       "  ' ',\n",
       "  ' ',\n",
       "  '|'],\n",
       " ['|',\n",
       "  ' ',\n",
       "  ' ',\n",
       "  '|',\n",
       "  ' ',\n",
       "  ' ',\n",
       "  '|',\n",
       "  '-',\n",
       "  '-',\n",
       "  '|',\n",
       "  ' ',\n",
       "  ' ',\n",
       "  '|',\n",
       "  ' ',\n",
       "  ' ',\n",
       "  '|'],\n",
       " ['|',\n",
       "  ' ',\n",
       "  ' ',\n",
       "  '|',\n",
       "  ' ',\n",
       "  ' ',\n",
       "  '|',\n",
       "  '-',\n",
       "  '-',\n",
       "  '|',\n",
       "  ' ',\n",
       "  ' ',\n",
       "  '|',\n",
       "  '-',\n",
       "  '-',\n",
       "  '|'],\n",
       " ['|',\n",
       "  '-',\n",
       "  '-',\n",
       "  '|',\n",
       "  ' ',\n",
       "  ' ',\n",
       "  '|',\n",
       "  ' ',\n",
       "  ' ',\n",
       "  '|',\n",
       "  '-',\n",
       "  '-',\n",
       "  '|',\n",
       "  ' ',\n",
       "  ' ',\n",
       "  '|'],\n",
       " ['|',\n",
       "  ' ',\n",
       "  ' ',\n",
       "  '|',\n",
       "  ' ',\n",
       "  ' ',\n",
       "  '|',\n",
       "  '-',\n",
       "  '-',\n",
       "  '|',\n",
       "  ' ',\n",
       "  ' ',\n",
       "  '|',\n",
       "  ' ',\n",
       "  ' ',\n",
       "  '|'],\n",
       " ['|',\n",
       "  '-',\n",
       "  '-',\n",
       "  '|',\n",
       "  ' ',\n",
       "  ' ',\n",
       "  '|',\n",
       "  ' ',\n",
       "  ' ',\n",
       "  '|',\n",
       "  ' ',\n",
       "  ' ',\n",
       "  '|',\n",
       "  '-',\n",
       "  '-',\n",
       "  '|'],\n",
       " ['|',\n",
       "  ' ',\n",
       "  ' ',\n",
       "  '|',\n",
       "  '-',\n",
       "  '-',\n",
       "  '|',\n",
       "  ' ',\n",
       "  ' ',\n",
       "  '|',\n",
       "  ' ',\n",
       "  ' ',\n",
       "  '|',\n",
       "  ' ',\n",
       "  ' ',\n",
       "  '|'],\n",
       " ['|',\n",
       "  ' ',\n",
       "  ' ',\n",
       "  '|',\n",
       "  ' ',\n",
       "  ' ',\n",
       "  '|',\n",
       "  '-',\n",
       "  '-',\n",
       "  '|',\n",
       "  ' ',\n",
       "  ' ',\n",
       "  '|',\n",
       "  ' ',\n",
       "  ' ',\n",
       "  '|'],\n",
       " ['0', ' ', ' ', '1', ' ', ' ', '2', ' ', ' ', '3', ' ', ' ', '4', ' ', ' ']]"
      ]
     },
     "execution_count": 22,
     "metadata": {},
     "output_type": "execute_result"
    }
   ],
   "source": [
    "with open ('data/data1.txt') as f:\n",
    "    w, h = map(int,f.readline().split())\n",
    "    grid = [[c for c in f.readline()[:-1]] for _ in range(h)]   # [:-1] wg. carrige return\n",
    "    \n",
    "grid"
   ]
  },
  {
   "cell_type": "markdown",
   "metadata": {},
   "source": [
    "#### Die map-Funktion\n",
    "\n",
    "map(function,iterable)\n",
    "\n",
    "Die Funktion map ruft *function* für jedes Element von *iterable* auf und gibt ein iterierbares\n",
    "Objekt zurück, das die jeweiligen Rückgabewerte von function durchläuft. Sollten\n",
    "mehrere iterierbare Objekte übergeben werden, werden function die jeweils nten\n",
    "Elemente dieser Objekte übergeben."
   ]
  },
  {
   "cell_type": "code",
   "execution_count": 10,
   "metadata": {},
   "outputs": [
    {
     "data": {
      "text/plain": [
       "[6, 10]"
      ]
     },
     "execution_count": 10,
     "metadata": {},
     "output_type": "execute_result"
    }
   ],
   "source": [
    "def f(x):\n",
    "    return 2*x\n",
    "\n",
    "list(map(f,[3,5]))"
   ]
  },
  {
   "cell_type": "code",
   "execution_count": 11,
   "metadata": {},
   "outputs": [
    {
     "data": {
      "text/plain": [
       "[4, 6, 3, 5]"
      ]
     },
     "execution_count": 11,
     "metadata": {},
     "output_type": "execute_result"
    }
   ],
   "source": [
    "f = lambda x, y: x+y\n",
    "ergebnis = map(f, [1,2,3,4], [3,4,0,1])\n",
    "list(ergebnis)"
   ]
  },
  {
   "cell_type": "code",
   "execution_count": null,
   "metadata": {},
   "outputs": [],
   "source": []
  }
 ],
 "metadata": {
  "kernelspec": {
   "display_name": "Python 3",
   "language": "python",
   "name": "python3"
  },
  "language_info": {
   "codemirror_mode": {
    "name": "ipython",
    "version": 3
   },
   "file_extension": ".py",
   "mimetype": "text/x-python",
   "name": "python",
   "nbconvert_exporter": "python",
   "pygments_lexer": "ipython3",
   "version": "3.6.5"
  }
 },
 "nbformat": 4,
 "nbformat_minor": 2
}
