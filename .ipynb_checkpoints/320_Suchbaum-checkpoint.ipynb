{
 "cells": [
  {
   "cell_type": "markdown",
   "metadata": {},
   "source": [
    "# Suchbaum"
   ]
  },
  {
   "cell_type": "code",
   "execution_count": 1,
   "metadata": {},
   "outputs": [],
   "source": [
    "from baum import Knoten, Baum\n",
    "class Suchbaum(Baum):\n",
    "\n",
    "    def lookup(self,x):\n",
    "        k = self.wurzel\n",
    "        while k is not None:\n",
    "            if x < k.inhalt:\n",
    "                k = k.links\n",
    "            elif x > k.inhalt:\n",
    "                k = k.rechts\n",
    "            else:\n",
    "                return k.inhalt\n",
    "        return None\n",
    "\n",
    "    def insert(self,x):\n",
    "        if self.wurzel is None:\n",
    "            self.wurzel = Knoten(x)\n",
    "            return TrueS\n",
    "        else:\n",
    "            vater = None\n",
    "            k = self.wurzel\n",
    "            while k is not None:\n",
    "                vater = k\n",
    "                if (x < k.inhalt):\n",
    "                    k = k.links\n",
    "                elif (x > k.inhalt):\n",
    "                    k = k.rechts\n",
    "                else:\n",
    "                    return False\n",
    "            if x < vater.inhalt:\n",
    "                vater.links = Knoten(x)\n",
    "            else:\n",
    "                vater.rechts = Knoten(x)\n",
    "            return True\n",
    "\n",
    "    def delete(self, x):\n",
    "        vater = None\n",
    "        sohn = self.wurzel\n",
    "\n",
    "        while sohn is not None and x != sohn.inhalt:\n",
    "            vater = sohn\n",
    "            if x < sohn.inhalt:\n",
    "                sohn = sohn.links\n",
    "            else:\n",
    "                sohn = sohn.rechts\n",
    "\n",
    "        if sohn is not None:\n",
    "            if sohn.links is None:\n",
    "                ersatzknoten = sohn.rechts\n",
    "            elif sohn.rechts is None:\n",
    "                ersatzknoten = sohn.links\n",
    "            else:\n",
    "                ersatzknoten = sohn\n",
    "                tmp = self.findMax(ersatzknoten.links).inhalt\n",
    "                self.delete(tmp)\n",
    "                ersatzknoten.inhalt = tmp\n",
    "\n",
    "            if vater is None:\n",
    "                self.wurzel = ersatzknoten\n",
    "            elif x < vater.inhalt:\n",
    "                vater.links = ersatzknoten\n",
    "            else:\n",
    "                vater.rechts = ersatzknoten\n",
    "        else:\n",
    "            return False\n",
    "\n",
    "    def findMax(self, t):\n",
    "        while t.rechts is not None:\n",
    "            t = t.rechts\n",
    "        return t"
   ]
  },
  {
   "cell_type": "code",
   "execution_count": 7,
   "metadata": {},
   "outputs": [
    {
     "name": "stdout",
     "output_type": "stream",
     "text": [
      "78\n",
      "..50\n",
      ".42\n",
      "....35\n",
      "...30\n",
      "....28\n",
      "..10\n"
     ]
    }
   ],
   "source": [
    "b = Suchbaum(78)\n",
    "b.insert(42)\n",
    "b.insert(50)\n",
    "b.insert(10)\n",
    "b.insert(30)\n",
    "b.insert(28)\n",
    "b.insert(35)\n",
    "print(b)"
   ]
  },
  {
   "cell_type": "code",
   "execution_count": 8,
   "metadata": {},
   "outputs": [
    {
     "name": "stdout",
     "output_type": "stream",
     "text": [
      "78\n",
      "..50\n",
      ".35\n",
      "...30\n",
      "....28\n",
      "..10\n"
     ]
    }
   ],
   "source": [
    "b.delete(42)\n",
    "print(b)"
   ]
  },
  {
   "cell_type": "code",
   "execution_count": null,
   "metadata": {},
   "outputs": [],
   "source": []
  }
 ],
 "metadata": {
  "kernelspec": {
   "display_name": "Python 3",
   "language": "python",
   "name": "python3"
  },
  "language_info": {
   "codemirror_mode": {
    "name": "ipython",
    "version": 3
   },
   "file_extension": ".py",
   "mimetype": "text/x-python",
   "name": "python",
   "nbconvert_exporter": "python",
   "pygments_lexer": "ipython3",
   "version": "3.6.5"
  }
 },
 "nbformat": 4,
 "nbformat_minor": 2
}
