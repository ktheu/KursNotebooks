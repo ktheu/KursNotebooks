{
 "cells": [
  {
   "cell_type": "markdown",
   "metadata": {},
   "source": [
    "### Die Mandelbrotmenge"
   ]
  },
  {
   "cell_type": "markdown",
   "metadata": {},
   "source": [
    "Für jede Zahl c definieren wir rekursiv eine Folge von Zahlen:\n",
    "\n",
    "$$z_n =\\begin{cases}\n",
    " 0   & n = 0 \\\\ \n",
    " z_{n-1}^2 + c & n > 0 \n",
    "\\end{cases} $$\n",
    "\n",
    "Dies führt zur Folge:\n",
    "$$0, c , c^2 + c, (c^2 + c)^2 + c, ...$$"
   ]
  },
  {
   "cell_type": "code",
   "execution_count": 2,
   "metadata": {},
   "outputs": [],
   "source": [
    "def mandel(c,n):\n",
    "    if n == 0: return 0\n",
    "    return mandel(c,n-1)**2 + c"
   ]
  },
  {
   "cell_type": "markdown",
   "metadata": {},
   "source": [
    "Für manche c wächst die Folge ins Unendliche, für andere c scheint die Folge beschränkt zu bleiben. "
   ]
  },
  {
   "cell_type": "code",
   "execution_count": 3,
   "metadata": {},
   "outputs": [
    {
     "name": "stdout",
     "output_type": "stream",
     "text": [
      "0\n",
      "0.25\n",
      "0.3125\n",
      "0.34765625\n",
      "0.3708648681640625\n",
      "0.38754075043834746\n",
      "0.4001878332503175\n",
      "0.4101503018815839\n",
      "0.4182232701335544\n",
      "0.42491070368120404\n"
     ]
    }
   ],
   "source": [
    "c = 0.25\n",
    "#c = 0.26\n",
    "#c = 0.27\n",
    "#c = 0.28\n",
    "\n",
    "for n in range(10):\n",
    "    print(mandel(c,n))"
   ]
  },
  {
   "cell_type": "markdown",
   "metadata": {},
   "source": [
    "Ein Punkt c gehört zur **Mandelbrotmenge**, wenn die zu c gehörende Folge nicht ins Unendliche wächst.\n",
    "\n",
    "Es gilt: Wenn der Betrag eines Folgenglieds größer als 2 ist, dann geht die Folge ins Unendliche.\n",
    "\n",
    "Um festzustellen, ob ein Punkt c zur Mandelbrotmenge gehört, gehen wir wie folgt vor:\n",
    " -  Wir legen eine Rekursionstiefe k fest\n",
    " -  Wir bilden die zu c gehörende Folge bis zum Index k.\n",
    " -  Wenn keines der Folgenelemente $z_n$ den Betrag > 2 hat, dann gehört c zur Mandelbrotmenge und wir färben den\n",
    " Punkt schwarz, sonst färben wir ihn weiß.\n",
    " "
   ]
  },
  {
   "cell_type": "code",
   "execution_count": 19,
   "metadata": {},
   "outputs": [
    {
     "name": "stdout",
     "output_type": "stream",
     "text": [
      "0.27 True\n",
      "0.271 True\n",
      "0.272 True\n",
      "0.273 True\n",
      "0.274 True\n",
      "0.275 True\n",
      "0.276 True\n",
      "0.277 False\n",
      "0.278 False\n",
      "0.279 False\n"
     ]
    }
   ],
   "source": [
    "c = 0.27\n",
    "k = 18      # Rekursionstiefe\n",
    "def inMandel(c):\n",
    "    for i in range(k):\n",
    "        if abs(mandel(c,i)) > 2:\n",
    "            return False\n",
    "    return True\n",
    "\n",
    "for i in range(10):\n",
    "    print(c,inMandel(c))\n",
    "    c += 0.001"
   ]
  },
  {
   "cell_type": "markdown",
   "metadata": {},
   "source": [
    "Je höher wir die Rekursionstiefe wählen, desto kleiner wird die Mandelbrotmenge.\n",
    "\n",
    "\n",
    "#### Färbung von Punkten in der Ebene"
   ]
  },
  {
   "cell_type": "markdown",
   "metadata": {},
   "source": [
    "Nach demselben Verfahren wollen wir auch Punkte auf der Ebene färben. Dazu interpretieren wir die Punkte in der Ebene als komplexe Zahlen. Es gilt:\n",
    "\n",
    "- Die Addition zweier Punkte ergibt sich durch Vektoraddition\n",
    "- Wird ein Punkt quadriert, so wird sein Betrag (= Abstand zum Ursprung) quadriert und der Winkel verdoppelt. \n",
    "\n",
    "<img src=\"./mandel3.png\" width=\"400\"/> \n",
    "rot = $c$, grün = $z^2$, blau = $c + z^2$\n",
    "\n",
    "<img src=\"./mandel2.png\" width=\"400\"/> \n",
    "grün = $(c + z^2)^2$, rechtes blau = $(c + z^2)^2 + c$ "
   ]
  },
  {
   "cell_type": "markdown",
   "metadata": {},
   "source": [
    "[Demo](mandel_schrittweise.py)"
   ]
  },
  {
   "cell_type": "markdown",
   "metadata": {},
   "source": [
    "#### Berechnen der Folgenglieder mit den Rechenregeln für komplexe Zahlen\n",
    "\n",
    "Den Punkt $c = (x/y)$ schreiben wir als $c = x + y \\cdot i$. Es gelten die üblichen Rechenregeln und $i^2 = -1$\n",
    "\n",
    "Beispiel: $(-1 + 0.5 \\cdot i)^2 = 1 - 2 \\cdot 0.5 \\cdot i + 0.25 \\cdot i^2 = 1 - i - 0.25 = 0.75 - i$\n",
    "\n",
    "Berechne die ersten 3 Folgeglieder $z_0, z_1, z_2$ für den Punkt c = (-1/0.5)\n",
    "\n",
    "$$z_0 = 0 \\\\\n",
    "z_1 = c = -1 + 0.5 \\cdot i \\\\\n",
    "z_2 = (z_1)^2 + c = 0.75 - i + (-1 + 0.5 \\cdot i) =  -0.25 - 0.5 \\cdot i $$ \n",
    "\n",
    "Die Länge von $z_2$ ist 0.559, d.h. für die Iterationstiefe 2 gehört c noch zur Mandelbrotmenge."
   ]
  },
  {
   "cell_type": "code",
   "execution_count": 18,
   "metadata": {},
   "outputs": [
    {
     "name": "stdout",
     "output_type": "stream",
     "text": [
      "0 0\n",
      "(0.8-0.6j) 1.0\n",
      "(1.08-1.56j) 1.8973665961010278\n"
     ]
    }
   ],
   "source": [
    "# In Python werden komplexe Zahlen mit dem Suffix j geschrieben.\n",
    "c = 0.8 - 0.6j\n",
    "for n in range(3):\n",
    "    z = mandel(c,n)\n",
    "    print(z,abs(z))"
   ]
  },
  {
   "cell_type": "code",
   "execution_count": 7,
   "metadata": {},
   "outputs": [
    {
     "data": {
      "text/html": [
       "<iframe src=\"./mandel_01.html\" width=\"870\" height=\"450\" ></iframe>"
      ],
      "text/plain": [
       "<IPython.core.display.HTML object>"
      ]
     },
     "metadata": {},
     "output_type": "display_data"
    }
   ],
   "source": [
    "%%html\n",
    "<iframe src=\"./mandel_01.html\" width=\"870\" height=\"450\" ></iframe>"
   ]
  },
  {
   "cell_type": "markdown",
   "metadata": {},
   "source": [
    "Wir färben die nicht-schwarzen Punkte mit Farben ein, abhängig davon, bei welcher Iteration der Punkt als nicht zur Mandelbrotmenge\n",
    "gehörig entdeckt wurde.\n",
    "\n",
    "Beispiel: \n",
    "Hat man 5 Farben zur Verfügung und ist der Betrag des Folgenwerts ach der 9-ten Iteration erstmals größer als 2, dann wird der zur Folge gehörende Punkt mit der Farbe Nummer  9 % 5 = 4 gefärbt."
   ]
  },
  {
   "cell_type": "code",
   "execution_count": 2,
   "metadata": {},
   "outputs": [
    {
     "data": {
      "text/html": [
       "<iframe src=\"./mandel_02.html\" width=\"870\" height=\"450\" ></iframe>"
      ],
      "text/plain": [
       "<IPython.core.display.HTML object>"
      ]
     },
     "metadata": {},
     "output_type": "display_data"
    }
   ],
   "source": [
    "%%html\n",
    "<iframe src=\"./mandel_02.html\" width=\"870\" height=\"450\" ></iframe>"
   ]
  }
 ],
 "metadata": {
  "kernelspec": {
   "display_name": "Python 3",
   "language": "python",
   "name": "python3"
  },
  "language_info": {
   "codemirror_mode": {
    "name": "ipython",
    "version": 3
   },
   "file_extension": ".py",
   "mimetype": "text/x-python",
   "name": "python",
   "nbconvert_exporter": "python",
   "pygments_lexer": "ipython3",
   "version": "3.6.5"
  }
 },
 "nbformat": 4,
 "nbformat_minor": 2
}
