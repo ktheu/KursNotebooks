{
 "cells": [
  {
   "cell_type": "markdown",
   "metadata": {},
   "source": [
    "### Die Mandelbrotmenge"
   ]
  },
  {
   "cell_type": "markdown",
   "metadata": {},
   "source": [
    "Für jede Zahl c definieren wir rekursiv eine Folge von Zahlen wie folgt:\n",
    "\n",
    "$$z_n =\\begin{cases}\n",
    " 0   & n = 0 \\\\ \n",
    " z_{n-1}^2 + c & n > 0 \n",
    "\\end{cases} $$\n",
    "\n",
    "Dies führt zur Folge:\n",
    "$$0, c , c^2 + c, (c^2 + c)^2 + c, ...$$"
   ]
  },
  {
   "cell_type": "code",
   "execution_count": 1,
   "metadata": {},
   "outputs": [],
   "source": [
    "def mandel(c,n):\n",
    "    if n == 0: return 0\n",
    "    return mandel(c,n-1)**2 + c"
   ]
  },
  {
   "cell_type": "markdown",
   "metadata": {},
   "source": [
    "Für manche c wächst die Folge ins Unendliche, für andere c scheint die Folge beschränkt zu bleiben. "
   ]
  },
  {
   "cell_type": "code",
   "execution_count": 3,
   "metadata": {},
   "outputs": [
    {
     "name": "stdout",
     "output_type": "stream",
     "text": [
      "0\n",
      "0.25\n",
      "0.3125\n",
      "0.34765625\n",
      "0.3708648681640625\n",
      "0.38754075043834746\n",
      "0.4001878332503175\n",
      "0.4101503018815839\n",
      "0.4182232701335544\n",
      "0.42491070368120404\n"
     ]
    }
   ],
   "source": [
    "c = 0.25\n",
    "#c = 0.26\n",
    "#c = 0.27\n",
    "#c = 0.28\n",
    "\n",
    "for n in range(10):\n",
    "    print(mandel(c,n))"
   ]
  },
  {
   "cell_type": "markdown",
   "metadata": {},
   "source": [
    "Ein Punkt c gehört zur **Mandelbrotmenge**, wenn die zu c gehörende Folge nicht ins Unendliche wächst.\n",
    "\n",
    "Es gilt: Wenn der Betrag eines Folgenglieds größer als 2 ist, dann geht die Folge ins Unendliche.\n",
    "\n",
    "Wir möchten Punkte der Mandelbrotmenge schwarz färben. Dazu gehen wir wie folgt vor.\n",
    " -  Wir legen eine Rekursionstiefe k fest\n",
    " -  Wir bilden die zu c gehörende Folge bis zum Index k.\n",
    " -  Wenn keines der Folgenelemente $z_n$ den Betrag > 2 hat, dann gehört c zur Mandelbrotmenge und wir färben den\n",
    " Punkt schwarz, sonst färben wir ihn weiß.\n",
    " "
   ]
  },
  {
   "cell_type": "code",
   "execution_count": 34,
   "metadata": {},
   "outputs": [
    {
     "name": "stdout",
     "output_type": "stream",
     "text": [
      "0.27 True\n",
      "0.271 True\n",
      "0.272 True\n",
      "0.273 True\n",
      "0.274 True\n",
      "0.275 True\n",
      "0.276 True\n",
      "0.277 False\n",
      "0.278 False\n",
      "0.279 False\n"
     ]
    }
   ],
   "source": [
    "c = 0.27\n",
    "def inMandel(c):\n",
    "    for i in range(18):\n",
    "        if abs(mandel(c,i)) > 2:\n",
    "            return False\n",
    "    return True\n",
    "\n",
    "for i in range(10):\n",
    "    print(c,inMandel(c))\n",
    "    c += 0.001"
   ]
  },
  {
   "cell_type": "markdown",
   "metadata": {},
   "source": [
    "Je höher wir die Rekursionstiefe wählen, desto kleiner wird die Mandelbrotmenge.\n",
    "\n",
    "\n",
    "#### Färbung von Punkten in der Ebene"
   ]
  },
  {
   "cell_type": "markdown",
   "metadata": {},
   "source": [
    "Nach demselben Verfahren wollen wir auch Punkte auf der Ebene färben. Dazu interpretieren wir die Punkte in der Ebene als komplexe Zahlen. Es gilt:\n",
    "\n",
    "- Die Addition zweier Punkte ergibt sich durch Vektoraddition\n",
    "- Wird ein Punkt quadriert, so wird sein Betrag (= Abstand zum Ursprung) quadriert und der Winkel verdoppelt. \n",
    "\n"
   ]
  },
  {
   "cell_type": "code",
   "execution_count": 5,
   "metadata": {},
   "outputs": [
    {
     "name": "stdout",
     "output_type": "stream",
     "text": [
      "0 0\n",
      "(-0.2+0.5j) 0.5385164807134505\n",
      "(-0.41000000000000003+0.3j) 0.5080354318352215\n",
      "(-0.12189999999999998+0.254j) 0.28173677431247773\n",
      "(-0.24965639+0.4380748j) 0.504220034769417\n",
      "(-0.3295812173272079+0.28126365376405604j) 0.4332816886779212\n",
      "(-0.17048546411382257+0.3146015652050882j) 0.3578259888599441\n",
      "(-0.2699088513553859+0.39273001229015103j) 0.4765371450300658\n",
      "(-0.2813860745134384+0.28799738697995747j) 0.4026420467827046\n",
      "(-0.2037643719772011+0.33792309161516426j) 0.3946035163730981\n",
      "(-0.27267209655948754+0.36228662692088376j) 0.4534332059828196\n",
      "(-0.2569015278035651+0.3024290917640355j) 0.396814503934805\n",
      "(-0.22546496055741344+0.3446110085471494j) 0.4118145160761571\n",
      "(-0.26792229877272744+0.344604585100533j) 0.4365027814939707\n",
      "(-0.24696996189264786+0.3153454947844865j) 0.4005458065666504\n",
      "(-0.23844861900361666+0.34423827034011434j) 0.41875736491611176\n",
      "(-0.2616422428620217+0.33583371965841213j) 0.4257240309278701\n"
     ]
    }
   ],
   "source": [
    "c = -0.2 + 0.5j\n",
    "for n in range(17):\n",
    "    z = mandel(c,n)\n",
    "    print(z,abs(z))"
   ]
  },
  {
   "cell_type": "code",
   "execution_count": 7,
   "metadata": {},
   "outputs": [
    {
     "data": {
      "text/html": [
       "<iframe src=\"./mandel_01.html\" width=\"870\" height=\"450\" ></iframe>"
      ],
      "text/plain": [
       "<IPython.core.display.HTML object>"
      ]
     },
     "metadata": {},
     "output_type": "display_data"
    }
   ],
   "source": [
    "%%html\n",
    "<iframe src=\"./mandel_01.html\" width=\"870\" height=\"450\" ></iframe>"
   ]
  },
  {
   "cell_type": "markdown",
   "metadata": {},
   "source": [
    "Wir färben die nicht-schwarzen Punkte mit Farben ein, abhängig davon, bei welcher Iteration der Punkt als nicht zur Mandelbrotmenge\n",
    "gehörig entdeckt wurde.\n",
    "\n",
    "Beispiel: \n",
    "Hat man 5 Farben zur Verfügung und ist der Betrag des Folgenwerts ach der 9-ten Iteration erstmals größer als 2, dann wird der zur Folge gehörende Punkt mit der Farbe Nummer  9 % 5 = 4 gefärbt."
   ]
  },
  {
   "cell_type": "code",
   "execution_count": 2,
   "metadata": {},
   "outputs": [
    {
     "data": {
      "text/html": [
       "<iframe src=\"./mandel_02.html\" width=\"870\" height=\"450\" ></iframe>"
      ],
      "text/plain": [
       "<IPython.core.display.HTML object>"
      ]
     },
     "metadata": {},
     "output_type": "display_data"
    }
   ],
   "source": [
    "%%html\n",
    "<iframe src=\"./mandel_02.html\" width=\"870\" height=\"450\" ></iframe>"
   ]
  },
  {
   "cell_type": "markdown",
   "metadata": {},
   "source": [
    "#### Julia-Mengen\n",
    "\n",
    "Die Mandelbrot-Menge kann man auch so beschreiben: \n",
    "Jedem Punkt c ordnet man die Funktion $f_c(z) = z^2 + c$ zu und betrachtet das Verhalten von 0 bei Iteration von $f_c$.\n",
    "\n",
    "D.h. man betrachtet das Verhalten der Werte $f_c(0), f_c(f_c(0)), f_c(f_c(f_c(0))), ... $, </br>\n",
    "das entspricht der Folge: $c, c^2 + c, (c^2+c)^2 + c, ...$\n",
    "\n",
    "Für jeden Punkt c ist die zu c gehörende **Julia-Menge** die Menge aller z, die bei Iteration von $f_c$ beschränkt bleiben.\n",
    "\n",
    "D.h. man betrachtet das Verhalten der Werte $f_c(z), f_c(f_c(z)), f_c(f_c(f_c(z))), ... $, </br>\n",
    "das entspricht der Folge: $z^2 + c, (z^2 + c)^2 + c, ...$  \n",
    "\n",
    "Beispiel: für $c = 0.285+0.01i$ ist die Julia Menge die Menge aller Punkte z, bei denen die Folge\n",
    "$f_c(z), f_c(f_c(z)), f_c(f_c(f_c(z))), ... $ beschränkt bleibt."
   ]
  },
  {
   "cell_type": "markdown",
   "metadata": {},
   "source": [
    "<img src=\"./julia1.png\" width=\"400\"/>  "
   ]
  },
  {
   "cell_type": "code",
   "execution_count": null,
   "metadata": {},
   "outputs": [],
   "source": []
  }
 ],
 "metadata": {
  "kernelspec": {
   "display_name": "Python 3",
   "language": "python",
   "name": "python3"
  },
  "language_info": {
   "codemirror_mode": {
    "name": "ipython",
    "version": 3
   },
   "file_extension": ".py",
   "mimetype": "text/x-python",
   "name": "python",
   "nbconvert_exporter": "python",
   "pygments_lexer": "ipython3",
   "version": "3.6.5"
  }
 },
 "nbformat": 4,
 "nbformat_minor": 2
}
