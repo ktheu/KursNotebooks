{
 "cells": [
  {
   "cell_type": "markdown",
   "metadata": {},
   "source": [
    "### Die Mandelbrotmenge"
   ]
  },
  {
   "cell_type": "markdown",
   "metadata": {},
   "source": [
    "Eine komplexe Zahl stellen wir uns vor als Punkt in der Ebene. Statt der Koordinaten $(a|b)$ schreiben wir $a + bi$.\n",
    "Die Zahl $a$ nennen wir den Realteil, $b$ den Imaginärteil der komplexen Zahl.\n",
    "\n",
    "<img src=\"./img/mandel1.png\" width=\"500\">\n",
    "\n",
    "Der Betrag einer komplexen Zahl ist ihr Abstand zum Nullpunkt.\n",
    "\n",
    "<img src=\"./img/mandel1a.png\" width=\"500\">"
   ]
  },
  {
   "cell_type": "code",
   "execution_count": null,
   "metadata": {},
   "outputs": [],
   "source": [
    "# In Python wird der Imaginärteil durch ein nachgestelltes j gekennzeichnet\n",
    "z = 3 + 2j\n",
    "abs(z)"
   ]
  },
  {
   "cell_type": "markdown",
   "metadata": {},
   "source": [
    "Zwei komplexe Zahlen werden addiert, indem die Realteile und die Imaginärteile addiert werden. Dies entspricht der\n",
    "normalen Vektoraddition.\n",
    "\n",
    "<img src=\"./img/mandel2.png\" width=\"501\">"
   ]
  },
  {
   "cell_type": "code",
   "execution_count": null,
   "metadata": {},
   "outputs": [],
   "source": [
    "z1 = 3 + 2j\n",
    "z2 = -2 + 1j\n",
    "z1 + z2"
   ]
  },
  {
   "cell_type": "markdown",
   "metadata": {},
   "source": [
    "Zwei komplexe Zahlen werden multipliziert, indem die Beträge multipliziert und die Winkel addiert werden. Inbesondere gilt dann: $i^2 = -1$\n",
    "\n",
    "<img src=\"./img/mandel3.png\" width=\"651\">"
   ]
  },
  {
   "cell_type": "code",
   "execution_count": null,
   "metadata": {},
   "outputs": [],
   "source": [
    "1j ** 2"
   ]
  },
  {
   "cell_type": "code",
   "execution_count": null,
   "metadata": {},
   "outputs": [],
   "source": [
    "z1 = 3 + 2j\n",
    "z2 = -2 + 1j\n",
    "z1*z2"
   ]
  },
  {
   "cell_type": "markdown",
   "metadata": {},
   "source": [
    "Für das Quadrat einer komplexen Zahl gilt:\n",
    "$(a + bi)^2 = a^2-b^2 + 2abi$"
   ]
  },
  {
   "cell_type": "markdown",
   "metadata": {},
   "source": [
    "#### Übung:\n",
    "\n",
    "$z_1 = 3 - i, z_2 = 3 + 2i$. Berechne\n",
    "\n",
    "- $z_1 + z_2$\n",
    "- $z_1 * z_2$\n",
    "- $z_1^2 + z_2$\n",
    " "
   ]
  },
  {
   "cell_type": "code",
   "execution_count": 7,
   "metadata": {},
   "outputs": [
    {
     "data": {
      "text/plain": [
       "((6+1j), (11+3j), (11-4j))"
      ]
     },
     "execution_count": 7,
     "metadata": {},
     "output_type": "execute_result"
    }
   ],
   "source": [
    "z1 = 3 - 1j\n",
    "z2 = 3 + 2j\n",
    "z1+z2, z1*z2, z1**2+z2"
   ]
  },
  {
   "cell_type": "markdown",
   "metadata": {},
   "source": [
    "Für jede komplexe Zahl c definieren wir rekursiv eine Folge von Zahlen:\n",
    "\n",
    "$$z_n =\\begin{cases}\n",
    " 0   & n = 0 \\\\ \n",
    " z_{n-1}^2 + c & n > 0 \n",
    "\\end{cases} $$\n",
    "\n",
    "Dies führt zur Folge\n",
    "$$0, c , c^2 + c, (c^2 + c)^2 + c, ...$$\n",
    "\n",
    "Wenn ein Mitglied der Folge betragsmäßig größer als 2 wird, führt dies dazu, dass die Beträge der Folgenglieder schließlich gegen unendlich gehen. Eine Zahl c gehört zur Mandelbrotmenge, wenn ihre Folge beschränkt bleibt. \n",
    "\n",
    "Die Punkte in der Ebene, die zu komplexen Zahlen der Mandelbrotmenge gehören, färben wir schwarz, die anderen weiß.\n"
   ]
  },
  {
   "cell_type": "code",
   "execution_count": 8,
   "metadata": {},
   "outputs": [
    {
     "data": {
      "text/html": [
       "<iframe src=\"./mandel_01.html\" width=\"870\" height=\"450\" ></iframe>"
      ],
      "text/plain": [
       "<IPython.core.display.HTML object>"
      ]
     },
     "metadata": {},
     "output_type": "display_data"
    }
   ],
   "source": [
    "%%html\n",
    "<iframe src=\"./mandel_01.html\" width=\"870\" height=\"450\" ></iframe>"
   ]
  },
  {
   "cell_type": "markdown",
   "metadata": {},
   "source": [
    "Wir färben die nicht-schwarzen Punkte mit Farben ein, abhängig davon, bei welcher Iteration der Punkt als nicht zur Mandelbrotmenge\n",
    "gehörig entdeckt wurde.\n",
    "\n",
    "Beispiel: \n",
    "Hat man 5 Farben zur Verfügung und ist der Betrag des Folgenwerts nach der 9-ten Iteration erstmals größer als 2, dann wird der zur Folge gehörende Punkt mit der Farbe Nummer  9 % 5 = 4 gefärbt."
   ]
  },
  {
   "cell_type": "code",
   "execution_count": 9,
   "metadata": {},
   "outputs": [
    {
     "data": {
      "text/html": [
       "<iframe src=\"./mandel_02.html\" width=\"870\" height=\"450\" ></iframe>"
      ],
      "text/plain": [
       "<IPython.core.display.HTML object>"
      ]
     },
     "metadata": {},
     "output_type": "display_data"
    }
   ],
   "source": [
    "%%html\n",
    "<iframe src=\"./mandel_02.html\" width=\"870\" height=\"450\" ></iframe>"
   ]
  },
  {
   "cell_type": "markdown",
   "metadata": {},
   "source": [
    "#### Iterative Formulierung \n",
    "\n",
    "Für jede Zahl c definieren wir eine Funktion $f_c(z) = z^2 + c$ und betrachten \n",
    "was passiert, wenn man die 0 in diese Funktion einsetzt und dann das Resultat wieder in die Funktion einsetzt, dann das Resultat wieder in die Funktion einsetzt usw.\n",
    "(\"the behavior of 0 under iteration\"). \n",
    "\n",
    "Dies führt zur Folge $$0, c , c^2 + c, (c^2 + c)^2 + c, ...$$\n",
    "\n",
    "(Anfangswert 0 entsteht durch 0-mal einsetzen der 0 in die Funktion)"
   ]
  },
  {
   "cell_type": "markdown",
   "metadata": {},
   "source": [
    "<hr/>\n",
    "__[Mandelbrot-Generator](http://www.stefanbion.de/fraktal-generator/mandelbrot.htm)__\n",
    "\n",
    "__[Visualisierung Mandel-Iteration](http://www.stefanbion.de/fraktal-generator/mandeliteration.htm)__\n",
    "\n",
    "<hr/>\n",
    "\n",
    "__[Numberphile: The Mandelbrot-Set](https://www.youtube.com/watch?v=NGMRB4O922I&list=PLt5AfwLFPxWJ8GCgpFo5_OSyfl7j0nOiu&index=1)__\n",
    "\n",
    "__[Numberphile: The Filled Julia-Set](https://www.youtube.com/watch?v=oCkQ7WK7vuY&list=PLt5AfwLFPxWJ8GCgpFo5_OSyfl7j0nOiu&index=4)__\n",
    "\n",
    "__[Numberphile: The Mandelbrot-Set and Pi](https://www.youtube.com/watch?v=d0vY0CKYhPY)__\n",
    "\n",
    "__[Numberphile: The Mandelbrot-Set and the Fibonacci-Numbers](https://www.youtube.com/watch?v=4LQvjSf6SSw&index=6&list=PLt5AfwLFPxWJ8GCgpFo5_OSyfl7j0nOiu&t=0s)__\n",
    "\n",
    "\n",
    "\n",
    "\n",
    "<hr/>\n",
    "\n",
    "__[Mandelbrot zoom](https://www.youtube.com/watch?v=yVBrgxzS7JE)__\n",
    "\n",
    "__[Mandelbox trip](https://www.youtube.com/watch?v=bO9ugnn8DbE)__\n",
    "\n",
    "<hr/>\n",
    "\n",
    "__[Xaos](https://xaos-project.github.io/)__ fast interactive fractal zoomer\n"
   ]
  }
 ],
 "metadata": {
  "kernelspec": {
   "display_name": "Python 3",
   "language": "python",
   "name": "python3"
  },
  "language_info": {
   "codemirror_mode": {
    "name": "ipython",
    "version": 3
   },
   "file_extension": ".py",
   "mimetype": "text/x-python",
   "name": "python",
   "nbconvert_exporter": "python",
   "pygments_lexer": "ipython3",
   "version": "3.7.9"
  }
 },
 "nbformat": 4,
 "nbformat_minor": 4
}
