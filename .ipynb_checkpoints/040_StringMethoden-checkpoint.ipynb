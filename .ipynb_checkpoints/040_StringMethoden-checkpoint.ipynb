{
 "cells": [
  {
   "cell_type": "markdown",
   "metadata": {},
   "source": [
    "# String Methoden\n",
    "\n",
    "Strings sind Objekte. Im Kapitel über objektorientiere Programmierung werden wir sehen, wie wir Objekten bestimmte Fähigkeiten zuordnen können (Methoden). Die Doku der Stringmethoden findet sich __[hier](https://docs.python.org/3.8/library/stdtypes.html#string-methods)__.\n",
    "\n",
    "Beispiele für String-Methoden:"
   ]
  },
  {
   "cell_type": "code",
   "execution_count": 29,
   "metadata": {},
   "outputs": [
    {
     "name": "stdout",
     "output_type": "stream",
     "text": [
      "HABICHT\n"
     ]
    }
   ],
   "source": [
    "s = 'Habicht'\n",
    "a = s.upper()\n",
    "print(a)"
   ]
  },
  {
   "cell_type": "code",
   "execution_count": 28,
   "metadata": {},
   "outputs": [
    {
     "name": "stdout",
     "output_type": "stream",
     "text": [
      "hallo\n"
     ]
    }
   ],
   "source": [
    "print(s)"
   ]
  },
  {
   "cell_type": "code",
   "execution_count": 5,
   "metadata": {},
   "outputs": [
    {
     "name": "stdout",
     "output_type": "stream",
     "text": [
      "True\n",
      "False\n"
     ]
    }
   ],
   "source": [
    "print(a.isupper())\n",
    "print(s.islower())"
   ]
  },
  {
   "cell_type": "code",
   "execution_count": 11,
   "metadata": {},
   "outputs": [
    {
     "name": "stdout",
     "output_type": "stream",
     "text": [
      "Maus\n"
     ]
    }
   ],
   "source": [
    "s = 'maus'\n",
    "a = s.capitalize()\n",
    "print(a)"
   ]
  },
  {
   "cell_type": "code",
   "execution_count": 12,
   "metadata": {},
   "outputs": [
    {
     "name": "stdout",
     "output_type": "stream",
     "text": [
      "mAUS\n"
     ]
    }
   ],
   "source": [
    "print(a.swapcase())"
   ]
  },
  {
   "cell_type": "code",
   "execution_count": 41,
   "metadata": {},
   "outputs": [
    {
     "name": "stdout",
     "output_type": "stream",
     "text": [
      "MausMausMaus\n",
      "2\n"
     ]
    }
   ],
   "source": [
    "s = 'MausMausMaus'\n",
    "print(s)\n",
    "print(s.index('u'))"
   ]
  },
  {
   "cell_type": "code",
   "execution_count": null,
   "metadata": {},
   "outputs": [],
   "source": [
    "print(s.index('w'))     # index wirft Fehler, wenn Zeichen nicht vorhanden"
   ]
  },
  {
   "cell_type": "code",
   "execution_count": 17,
   "metadata": {},
   "outputs": [
    {
     "name": "stdout",
     "output_type": "stream",
     "text": [
      "2\n",
      "-1\n"
     ]
    }
   ],
   "source": [
    "print(s.find('u'))\n",
    "print(s.find('w'))      # find gibt -1 zurück, wenn Zeichen nicht vorhanden"
   ]
  },
  {
   "cell_type": "code",
   "execution_count": 43,
   "metadata": {},
   "outputs": [
    {
     "name": "stdout",
     "output_type": "stream",
     "text": [
      "3\n"
     ]
    }
   ],
   "source": [
    "print(s.count('u'))"
   ]
  },
  {
   "cell_type": "code",
   "execution_count": 18,
   "metadata": {},
   "outputs": [
    {
     "name": "stdout",
     "output_type": "stream",
     "text": [
      "#  hallo   #\n"
     ]
    }
   ],
   "source": [
    "s = '  hallo   '\n",
    "print('#'+s+'#')"
   ]
  },
  {
   "cell_type": "code",
   "execution_count": 19,
   "metadata": {},
   "outputs": [
    {
     "name": "stdout",
     "output_type": "stream",
     "text": [
      "#hallo#\n"
     ]
    }
   ],
   "source": [
    "s = s.strip()\n",
    "print('#'+s+'#')"
   ]
  },
  {
   "cell_type": "code",
   "execution_count": 25,
   "metadata": {},
   "outputs": [
    {
     "name": "stdout",
     "output_type": "stream",
     "text": [
      "#     hallo#\n",
      "#hallo-----#\n"
     ]
    }
   ],
   "source": [
    "s = 'hallo'\n",
    "a = s.rjust(10)\n",
    "b = s.ljust(10,'-')\n",
    "print('#'+a+'#')\n",
    "print('#'+b+'#')"
   ]
  },
  {
   "cell_type": "code",
   "execution_count": 27,
   "metadata": {},
   "outputs": [
    {
     "name": "stdout",
     "output_type": "stream",
     "text": [
      "True\n"
     ]
    }
   ],
   "source": [
    "a = '123'\n",
    "print(a.isdigit())"
   ]
  },
  {
   "cell_type": "code",
   "execution_count": 31,
   "metadata": {},
   "outputs": [
    {
     "name": "stdout",
     "output_type": "stream",
     "text": [
      "True\n"
     ]
    }
   ],
   "source": [
    "a = 'hallo'\n",
    "print(a.isalpha())"
   ]
  },
  {
   "cell_type": "code",
   "execution_count": 32,
   "metadata": {},
   "outputs": [
    {
     "name": "stdout",
     "output_type": "stream",
     "text": [
      "False\n",
      "False\n",
      "True\n"
     ]
    }
   ],
   "source": [
    "b = 'R2D2'\n",
    "print(b.isdigit())\n",
    "print(b.isalpha())\n",
    "print(b.isalnum())"
   ]
  },
  {
   "cell_type": "code",
   "execution_count": 33,
   "metadata": {},
   "outputs": [
    {
     "name": "stdout",
     "output_type": "stream",
     "text": [
      "True\n",
      "True\n"
     ]
    }
   ],
   "source": [
    "s = 'Habicht'\n",
    "print(s.startswith('Ha'))\n",
    "print(s.endswith('icht'))"
   ]
  },
  {
   "cell_type": "code",
   "execution_count": 35,
   "metadata": {},
   "outputs": [
    {
     "name": "stdout",
     "output_type": "stream",
     "text": [
      "hanno\n"
     ]
    }
   ],
   "source": [
    "s = 'hallo'\n",
    "s = s.replace('l','n')\n",
    "print(s)"
   ]
  },
  {
   "cell_type": "markdown",
   "metadata": {},
   "source": [
    "Die Methoden, die Strings als Eingabe erwarten und Strings zurückgeben, können hintereinander ausgeführt werden."
   ]
  },
  {
   "cell_type": "code",
   "execution_count": 47,
   "metadata": {},
   "outputs": [
    {
     "name": "stdout",
     "output_type": "stream",
     "text": [
      "#adC  #\n"
     ]
    }
   ],
   "source": [
    "s = 'abc'.capitalize().replace('b','D').swapcase().ljust(5) \n",
    "print('#'+s+'#')"
   ]
  },
  {
   "cell_type": "markdown",
   "metadata": {},
   "source": [
    "### Formatierte Ausgabe"
   ]
  },
  {
   "cell_type": "code",
   "execution_count": 36,
   "metadata": {},
   "outputs": [
    {
     "name": "stdout",
     "output_type": "stream",
     "text": [
      "Es ist 13:37 Uhr\n"
     ]
    }
   ],
   "source": [
    "s = \"Es ist {}:{} Uhr\".format(13, 37)\n",
    "print(s)"
   ]
  },
  {
   "cell_type": "markdown",
   "metadata": {},
   "source": [
    "Wird als Formatangabe eine einfache ganze Zahl verwendet, legt sie die minimale Breite fest. Dies nutzt man für tabellarische Ausgaben. Längere Ausgaben werden nicht abgeschnitten."
   ]
  },
  {
   "cell_type": "code",
   "execution_count": 37,
   "metadata": {},
   "outputs": [
    {
     "name": "stdout",
     "output_type": "stream",
     "text": [
      "Vorname        |Nachname       \n",
      "Florian        |Kroll          \n",
      "Ramin          |Shirazi-Nejad  \n",
      "Sven           |Bisdorff       \n",
      "Kaddah         |Hotzenplotz    \n"
     ]
    }
   ],
   "source": [
    "f = \"{:15}|{:15}\"\n",
    "print(f.format(\"Vorname\", \"Nachname\"))\n",
    "print(f.format(\"Florian\", \"Kroll\"))\n",
    "print(f.format(\"Ramin\", \"Shirazi-Nejad\"))\n",
    "print(f.format(\"Sven\", \"Bisdorff\"))\n",
    "print(f.format(\"Kaddah\", \"Hotzenplotz\"))"
   ]
  },
  {
   "cell_type": "markdown",
   "metadata": {},
   "source": [
    "Mit den Zeichen <, >, ^ lässt sich die Ausrichtung kontrollieren. Auch die Anzahl der Dezimalstellen kann kontrolliert werden. Strings werden standardmäßig linksbündig ausgegeben, Zahlen rechtsbündig."
   ]
  },
  {
   "cell_type": "code",
   "execution_count": 3,
   "metadata": {},
   "outputs": [
    {
     "name": "stdout",
     "output_type": "stream",
     "text": [
      "Die Zahl 3.1415 und den String Habicht ausgeben\n",
      "Die Zahl     3.1415 und den String Habicht    ausgeben\n",
      "Die Zahl 3.1415     und den String    Habicht ausgeben\n",
      "Die Zahl       3.14 und den String       Habicht        ausgeben\n"
     ]
    }
   ],
   "source": [
    "print('Die Zahl {} und den String {} ausgeben'.format(3.1415, 'Habicht'))\n",
    "print('Die Zahl {:10} und den String {:10} ausgeben'.format(3.1415, 'Habicht'))\n",
    "print('Die Zahl {:<10} und den String {:>10} ausgeben'.format(3.1415, 'Habicht'))\n",
    "print('Die Zahl {:10.2f} und den String {:^20} ausgeben'.format(3.1415, 'Habicht'))"
   ]
  },
  {
   "cell_type": "markdown",
   "metadata": {},
   "source": [
    "Für weitere Möglichkeiten der formatierten Ausgabe, siehe __[PythonDoc](https://docs.python.org/3.7/library/string.html#format-string-syntax)__"
   ]
  }
 ],
 "metadata": {
  "kernelspec": {
   "display_name": "Python 3",
   "language": "python",
   "name": "python3"
  },
  "language_info": {
   "codemirror_mode": {
    "name": "ipython",
    "version": 3
   },
   "file_extension": ".py",
   "mimetype": "text/x-python",
   "name": "python",
   "nbconvert_exporter": "python",
   "pygments_lexer": "ipython3",
   "version": "3.6.5"
  }
 },
 "nbformat": 4,
 "nbformat_minor": 2
}
