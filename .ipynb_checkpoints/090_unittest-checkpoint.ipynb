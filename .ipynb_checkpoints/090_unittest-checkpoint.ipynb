{
 "cells": [
  {
   "cell_type": "markdown",
   "metadata": {},
   "source": [
    "# Unittest"
   ]
  },
  {
   "cell_type": "markdown",
   "metadata": {},
   "source": [
    "Das Modul unittest ermöglicht das Erstellen von Testfällen, die immer wieder\n",
    "durchgeführt werden können. Die getesteten Einheiten sind Funktionen oder\n",
    "Methoden von Klassen, bei denen das erwartete Ergebnis mit dem tatsächlichen\n",
    "Ergebnis verglichen wird (Reihenfolge: expected, actual)"
   ]
  },
  {
   "cell_type": "markdown",
   "metadata": {},
   "source": [
    "Die Namen der Testmethoden müssen mit <em>test</em> beginnen"
   ]
  },
  {
   "cell_type": "code",
   "execution_count": null,
   "metadata": {
    "collapsed": true
   },
   "outputs": [],
   "source": [
    "def ggt(a,b):\n",
    "    '''\n",
    "    a, b: positive ganze Zahlen\n",
    "    returns: größten gemeinsamen Teiler von a und b\n",
    "    '''\n",
    "    while a != b:\n",
    "        if (a > b):\n",
    "            a = a - b\n",
    "        else:\n",
    "            b = b - a\n",
    "    return a\n",
    "\n",
    "import unittest\n",
    "class MyTest(unittest.TestCase):\n",
    "    def test_ggt(self):\n",
    "        self.assertEqual(1,ggt(11,10))\n",
    "        self.assertEqual(1,ggt(1,10))\n",
    "        self.assertEqual(17,ggt(17*23,17*31))\n",
    "        self.assertEqual(17,ggt(34,17))\n",
    "        self.assertEqual(9,ggt(9,9))\n",
    "\n",
    "if __name__ == '__main__':\n",
    "    unittest.main(argv=['first-arg-is-ignored'], exit=False)  # in idle: unittest.main()\n",
    "\n"
   ]
  },
  {
   "cell_type": "markdown",
   "metadata": {},
   "source": [
    "Assert-Beispiele: (weitere in den Python-Docs zu <a href=\"https://docs.python.org/3/library/unittest.html#unittest.TestCase.assertRaises\">unittest</a>)"
   ]
  },
  {
   "cell_type": "code",
   "execution_count": null,
   "metadata": {
    "collapsed": true
   },
   "outputs": [],
   "source": [
    "assertAlmostEqual(a,b)                             # prüft a-b auf 7 Dezimalstellen\n",
    "assertAlmostEqual(a,b, 4)                          # prüft a-b auf 4 Dezimalstellen\n",
    "assertAlmostEqual(a,b, delta = 0.01)               # prüft, ob Unterschied kleiner als delta ist\n",
    "assertFalse(foo())\n",
    "assertTrue(bar())\n",
    "assertListEqual([1,2,3],a)\n",
    "assertDictEqual({'a':5},m)\n",
    "assertTupelEqual((4,5),t)\n",
    "assertSetEqual({5,6},s)\n",
    "assertRaises(RuntimeError,bar)                     #  bar() wirft RuntimeError\n",
    "with self.assertRaises(RuntimeError): funktion(-1) #  funktion(-1) wirft RuntimeError"
   ]
  },
  {
   "cell_type": "markdown",
   "metadata": {},
   "source": [
    "Die unittests können in getrennten Files gespeichert werden, dann muss das File mit dem zu testenden Code importiert werden.\n",
    "\n",
    "In der testgetriebenen Softwareentwicklung (test-driven development (TDD)) erstellt der Programmierer die Testfälle vor der Implementierung."
   ]
  },
  {
   "cell_type": "markdown",
   "metadata": {},
   "source": [
    "Weitere Beispiele:"
   ]
  },
  {
   "cell_type": "code",
   "execution_count": null,
   "metadata": {
    "collapsed": true
   },
   "outputs": [],
   "source": [
    "def funktion01(x):\n",
    "   '''\n",
    "   x: int oder float.\n",
    "   return:  RuntimeError falls x < 0\n",
    "            Wurzel(x) + 5 auf mindestens 5 Stellen genau, sonst\n",
    "   '''\n",
    "   pass    # to be implemented\n",
    "\n",
    "import unittest\n",
    "class MyTest(unittest.TestCase):\n",
    "\n",
    "    def test_funktion01(self):\n",
    "        self.assertEqual(5,funktion01(0))\n",
    "        self.assertEqual(9,funktion01(16))\n",
    "        self.assertAlmostEqual(7.64575,funktion01(7),5)\n",
    "        with self.assertRaises(RuntimeError):\n",
    "            funktion01(-1)\n",
    "\n",
    "if __name__ == '__main__':\n",
    "    unittest.main(argv=['first-arg-is-ignored'], exit=False)  "
   ]
  },
  {
   "cell_type": "code",
   "execution_count": null,
   "metadata": {
    "collapsed": true
   },
   "outputs": [],
   "source": [
    "def string01(s):\n",
    "    '''\n",
    "    s : String mit englischen Kleinbuchstaben\n",
    "    returns: tupel (a,b) a ist erster Vokal in s, b ist letzter Vokal in s,\n",
    "       ist kein Vokal in s, wird ein leeres Tupel zurückgegeben.\n",
    "    '''\n",
    "    pass    # to be implemented\n",
    "\n",
    "import unittest\n",
    "class MyTest(unittest.TestCase):\n",
    "    def test_string01(self):\n",
    "        self.assertEqual(('a','a'),string01('cab'))\n",
    "        self.assertEqual(('a','e'),string01('cabef'))\n",
    "        self.assertEqual(('a','e'),string01('cabibbbuoef'))\n",
    "        self.assertEqual((),string01('bbbbbbbbbbf'))\n",
    "        self.assertEqual((),string01(''))\n",
    "\n",
    "if __name__ == '__main__':\n",
    "    unittest.main(argv=['first-arg-is-ignored'], exit=False) "
   ]
  },
  {
   "cell_type": "code",
   "execution_count": null,
   "metadata": {
    "collapsed": true
   },
   "outputs": [],
   "source": [
    "def liste01(a):\n",
    "    '''    \n",
    "    a: Liste mit ints\n",
    "    returns: eine neue Liste, bei der alle Elemente durch die Summe\n",
    "       der Nachbarn ersetzt werden. Die eingegebene Liste bleibt\n",
    "       unverändert.\n",
    "\n",
    "       Beispiel: die Eingabe a = [4,2,1,6]\n",
    "       erzeugt die Ausgabe [2,5,8,1]\n",
    "    '''\n",
    "    pass    # to be implemented\n",
    "\n",
    "import unittest\n",
    "class MyTest(unittest.TestCase):\n",
    "    def test_liste01(self):\n",
    "        self.assertListEqual([],liste01([]))\n",
    "        self.assertListEqual([0],liste01([6]))\n",
    "        self.assertListEqual([7,6],liste01([6,7]))\n",
    "        self.assertListEqual([2,4,2],liste01([1,2,3]))\n",
    "        a = [4,2,1,6]\n",
    "        self.assertListEqual([2,5,8,1],liste01(a))\n",
    "        self.assertListEqual([4,2,1,6],a)\n",
    "\n",
    "if __name__ == '__main__':\n",
    "    unittest.main(argv=['first-arg-is-ignored'], exit=False) "
   ]
  },
  {
   "cell_type": "code",
   "execution_count": null,
   "metadata": {
    "collapsed": true
   },
   "outputs": [],
   "source": [
    "class Sache01:\n",
    "    def __init__(self,s,n):\n",
    "        '''\n",
    "        s: String für Attribut text\n",
    "        n: eine nicht negative ganze Zahl für Attribut zahl\n",
    "        '''\n",
    "        self.text = s\n",
    "        self.zahl = n\n",
    "\n",
    "    def mache01(self):\n",
    "        '''\n",
    "        returns: nichts\n",
    "            text wird durch die zahl-fache Wiederholung\n",
    "            von text ersetzt\n",
    "        '''\n",
    "        pass    # to be implemented\n",
    "\n",
    "    def mache02(self):\n",
    "        '''\n",
    "        returns: nichts\n",
    "            in text wird an jeder zahl-ten Stelle das Zeichen durch\n",
    "            ein 'x' ersetzt. Ist zahl = 0, so bleibt text unverändert.\n",
    "        '''\n",
    "        pass    # to be implemented\n",
    "\n",
    "    def pruefe01(self):\n",
    "        '''\n",
    "        returns: True, wenn zahl kleiner gleich der Länge von text ist.\n",
    "        '''\n",
    "        pass    # to be implemented\n",
    "\n",
    "import unittest\n",
    "class MyTest(unittest.TestCase):\n",
    "    def test_mache01(self):\n",
    "        sa = Sache01('',0)\n",
    "        sa.mache01()\n",
    "        self.assertEqual('',sa.text)\n",
    "\n",
    "        sa = Sache01('',5)\n",
    "        sa.mache01()\n",
    "        self.assertEqual('',sa.text)\n",
    "\n",
    "        sa = Sache01('abc',0)\n",
    "        sa.mache01()\n",
    "        self.assertEqual('',sa.text)\n",
    "\n",
    "        sa = Sache01('a',1)\n",
    "        sa.mache01()\n",
    "        self.assertEqual('a',sa.text)\n",
    "\n",
    "        sa = Sache01('abc',3)\n",
    "        sa.mache01()\n",
    "        self.assertEqual('abcabcabc',sa.text)\n",
    "\n",
    "    def test_mache02(self):\n",
    "        sa = Sache01('abba',0)\n",
    "        sa.mache02()\n",
    "        self.assertEqual('abba',sa.text)\n",
    "\n",
    "        sa = Sache01('',1)\n",
    "        sa.mache02()\n",
    "        self.assertEqual('',sa.text)\n",
    "\n",
    "        sa = Sache01('a',1)\n",
    "        sa.mache02()\n",
    "        self.assertEqual('x',sa.text)\n",
    "\n",
    "        sa = Sache01('abba',1)\n",
    "        sa.mache02()\n",
    "        self.assertEqual('xxxx',sa.text)\n",
    "\n",
    "        sa = Sache01('abba',2)\n",
    "        sa.mache02()\n",
    "        self.assertEqual('axbx',sa.text)\n",
    "\n",
    "        sa = Sache01('abbaabba',3)\n",
    "        sa.mache02()\n",
    "        self.assertEqual('abxaaxba',sa.text)\n",
    "\n",
    "    def test_pruefe01(self):\n",
    "        sa = Sache01('',0)\n",
    "        self.assertTrue(sa.pruefe01())\n",
    "\n",
    "        sa = Sache01('abc',0)\n",
    "        self.assertTrue(sa.pruefe01())\n",
    "\n",
    "        sa = Sache01('abcd',4)\n",
    "        self.assertTrue(sa.pruefe01())\n",
    "\n",
    "if __name__ == '__main__':\n",
    "    unittest.main(argv=['first-arg-is-ignored'], exit=False) "
   ]
  }
 ],
 "metadata": {
  "kernelspec": {
   "display_name": "Python 3",
   "language": "python",
   "name": "python3"
  },
  "language_info": {
   "codemirror_mode": {
    "name": "ipython",
    "version": 3
   },
   "file_extension": ".py",
   "mimetype": "text/x-python",
   "name": "python",
   "nbconvert_exporter": "python",
   "pygments_lexer": "ipython3",
   "version": "3.6.3"
  }
 },
 "nbformat": 4,
 "nbformat_minor": 2
}
