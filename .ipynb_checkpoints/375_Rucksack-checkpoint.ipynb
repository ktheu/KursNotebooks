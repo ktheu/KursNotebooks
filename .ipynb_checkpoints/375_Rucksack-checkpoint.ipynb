{
 "cells": [
  {
   "cell_type": "markdown",
   "metadata": {},
   "source": [
    "### Das Rucksack Problem (Knapsack)\n",
    "\n",
    "Das Rucksack-Problem: Fülle einen Rucksack so, dass der Wert der Dinge möglichst groß ist und die Gewichtsgrenze nicht überschritten wird.\n",
    "\n",
    "#### Greedy"
   ]
  },
  {
   "cell_type": "code",
   "execution_count": null,
   "metadata": {},
   "outputs": [],
   "source": [
    "wert = [1,1,1,10,10,13,7]\n",
    "gewicht = [2,2,2,5,5,8,3]\n",
    "kapazitaet = 10\n",
    "\n",
    "anzahl = len(wert)\n",
    "taken = set()\n",
    "\n",
    "wg = list(zip(wert,gewicht,range(anzahl)))     # Liste aus Tupels (wert,gewicht,nr)\n",
    "\n",
    "#wg = sorted(wg, key=lambda x: x[1])                # die leichtesten zuerst\n",
    "#wg = sorted(wg, key=lambda x: x[0], reverse=True)  # die wertvollsten zuerst\n",
    "wg = sorted(wg, key=lambda x: x[0]/x[1], reverse=True) # die wertdichtesten zuerst\n",
    "\n",
    "rucksack_gewicht = 0\n",
    "rucksack_wert = 0\n",
    "\n",
    "for item in wg:\n",
    "    if rucksack_gewicht + item[1] <= kapazitaet:\n",
    "        rucksack_gewicht+=item[1]\n",
    "        rucksack_wert+=item[0]\n",
    "        taken.add(item[2])\n",
    "\n",
    "print('Items =',*taken)\n",
    "print('Wert =',rucksack_wert, 'Gewicht =',rucksack_gewicht)"
   ]
  },
  {
   "cell_type": "markdown",
   "metadata": {},
   "source": [
    "#### Rekursion\n"
   ]
  },
  {
   "cell_type": "code",
   "execution_count": null,
   "metadata": {},
   "outputs": [],
   "source": [
    "wert = [1,1,1,10,10,13,7]\n",
    "gewicht = [2,2,2,5,5,8,3]\n",
    "kapazitaet = 10\n",
    "\n",
    "# wert = [5,6,3]\n",
    "# gewicht = [4,5,2]\n",
    "# kapazitaet = 9\n",
    "\n",
    "def opt(k, j):\n",
    "    '''\n",
    "    returned den wert des optimalen Rucksacks mit Kapazität k, der\n",
    "    nur Gegenstände mit Nummern 0...j enthält\n",
    "    '''\n",
    "    if j == -1: return 0\n",
    "    elif gewicht[j] <= k:\n",
    "        a = opt(k,j-1)\n",
    "        b = wert[j]+opt(k-gewicht[j],j-1)\n",
    "        return max(a,b)\n",
    "    else:\n",
    "        return opt(k,j-1)\n",
    "\n",
    "print(opt(kapazitaet, len(wert)-1))"
   ]
  },
  {
   "cell_type": "markdown",
   "metadata": {},
   "source": [
    "Der Rekursionsbaum zur Aufgabe mit den drei Items und die Reihenfolge der Auswertungen\n",
    " \n",
    "<img src=\"./knapsack01.png\" width=600>\n",
    "\n",
    "```\n",
    "opt(9,0)=5\n",
    "opt(4,0)=5\n",
    "opt(9,1)=11\n",
    "opt(7,0)=5\n",
    "opt(2,0)=0\n",
    "opt(7,1)=6\n",
    "opt(9,2)=11\n",
    "\n",
    "```\n",
    "\n",
    "---\n",
    "\n",
    "Weiteres Beispiel mit Rekursionsbaum und der Reihenfolge der Auswertungen\n",
    "\n",
    "<img src=\"./knapsack03.png\" width=1000>\n",
    "\n",
    "```\n",
    "opt(15,0)=5\n",
    "opt(8,0)=5\n",
    "opt(15,1)=11\n",
    "opt(13,0)=5\n",
    "opt(6,0)=5\n",
    "opt(13,1)=11\n",
    "opt(15,2)=14\n",
    "opt(7,0)=5\n",
    "opt(0,0)=0\n",
    "opt(7,1)=6\n",
    "opt(5,0)=5\n",
    "opt(5,1)=5\n",
    "opt(7,2)=8\n",
    "opt(15,3)=15\n",
    "\n",
    "```"
   ]
  },
  {
   "cell_type": "markdown",
   "metadata": {},
   "source": [
    "#### Dynamische Programmierung"
   ]
  },
  {
   "cell_type": "code",
   "execution_count": null,
   "metadata": {},
   "outputs": [],
   "source": [
    "wert = [1,1,1,10,10,13,7]\n",
    "gewicht = [2,2,2,5,5,8,3]\n",
    "kapazitaet = 10\n",
    "anzahl = len(wert)\n",
    "\n",
    "m = [[0 for j in range(kapazitaet+1)] \\\n",
    "     for i in range(anzahl)]\n",
    "\n",
    "for j in range(1,kapazitaet+1):\n",
    "    for i in range(anzahl):\n",
    "        if gewicht[i] <= j:\n",
    "            if i == 0:\n",
    "                m[0][j] = wert[0]                      # Item 0 wird genommen, wenn es passt\n",
    "            else:\n",
    "                wert1 = m[i-1][j]                      # Item i wird nicht genommen\n",
    "                wert2 = wert[i]+ m[i-1][j-gewicht[i]]  # Item i wird genommen\n",
    "                m[i][j] = max(wert1,wert2)\n",
    "        else:\n",
    "            m[i][j] = m[i-1][j]\n",
    "\n",
    "rucksack_wert = m[i][j]\n",
    "\n",
    "# Rekonstruktion des optimalen Rucksacks\n",
    "x = rucksack_wert\n",
    "taken = set()\n",
    "\n",
    "while i > 0:\n",
    "    y = m[i-1][j]\n",
    "    if x != y:\n",
    "        taken.add(i)\n",
    "        j = j-gewicht[i]\n",
    "    i = i - 1\n",
    "    x = m[i][j]\n",
    "if m[0][j] != 0:\n",
    "    taken.add(0)\n",
    "\n",
    "rucksack_gewicht = sum([gewicht[i] for i in taken])\n",
    "print('Items =',*taken)\n",
    "print('Wert =',rucksack_wert, 'Gewicht =',rucksack_gewicht)\n"
   ]
  },
  {
   "cell_type": "markdown",
   "metadata": {},
   "source": [
    "\n",
    "#### Beispieldaten\n",
    "\n",
    "Hier sind __[Beispieldaten](./knapsack_data)__ für das Rucksack-Problem. Die beiden Zahlen in der ersten Zeile geben\n",
    "die Anzahl Gegenstände und die Kapazität des Rucksacks an. Dann folgt für jeden Gegenstand eine Zeile mit seinem Wert und Gewicht.  \n"
   ]
  },
  {
   "cell_type": "markdown",
   "metadata": {},
   "source": [
    "Welche der Greedy-Strategien die bessere ist, hängt von den Ausgangsdaten ab."
   ]
  },
  {
   "cell_type": "code",
   "execution_count": 90,
   "metadata": {},
   "outputs": [
    {
     "name": "stdout",
     "output_type": "stream",
     "text": [
      "Kapazität = 10000\n",
      "Die leichtesten zuerst   : Wert = 9628 Gewicht = 9751\n",
      "Die wertvollsten zuerst  : Wert = 10547 Gewicht = 9999\n",
      "Die wertdichtesten zuerst: Wert = 10892 Gewicht = 9999\n"
     ]
    }
   ],
   "source": [
    "file = 'ks_100_0'              # die leichtesten\n",
    "#file = 'ks_100_1'             # die wertvollsten\n",
    "#file = 'ks_100_2'             # die wertdichtesten gewinnen\n",
    "\n",
    "f = open('./knapsack_data/'+file)\n",
    "anzahl, kapazitaet = [int(k) for k in f.readline().split()]\n",
    "data = []\n",
    "for i in range(anzahl):\n",
    "    wert, gewicht = f.readline().split()\n",
    "    data.append([int(wert),int(gewicht),i])\n",
    "f.close()\n",
    "\n",
    "def greedy(wg):\n",
    "    rucksack_gewicht = 0\n",
    "    rucksack_wert = 0\n",
    "    for item in wg:\n",
    "        if rucksack_gewicht + item[1] <= kapazitaet:\n",
    "            rucksack_gewicht+=item[1]\n",
    "            rucksack_wert+=item[0]\n",
    "    print('Wert =',rucksack_wert, 'Gewicht =',rucksack_gewicht)\n",
    "    \n",
    "\n",
    "print('Kapazität =',kapazitaet)\n",
    "\n",
    "print('Die leichtesten zuerst   :',end=' ')\n",
    "wg = sorted(data, key=lambda x: x[1])                # die leichtesten zuerst\n",
    "greedy(wg)\n",
    "\n",
    "print('Die wertvollsten zuerst  :',end=' ')\n",
    "wg = sorted(data, key=lambda x: x[0], reverse=True)    # die wertvollsten zuerst\n",
    "greedy(wg)\n",
    "\n",
    "print('Die wertdichtesten zuerst:',end=' ')\n",
    "wg = sorted(data, key=lambda x: x[0]/x[1], reverse=True)\n",
    "greedy(wg)\n"
   ]
  },
  {
   "cell_type": "markdown",
   "metadata": {},
   "source": [
    "Die Rekursion findet die optimale Lösung, kann aber zu langen Laufzeiten führen."
   ]
  },
  {
   "cell_type": "code",
   "execution_count": 85,
   "metadata": {},
   "outputs": [
    {
     "name": "stdout",
     "output_type": "stream",
     "text": [
      "12248\n"
     ]
    }
   ],
   "source": [
    "file = 'ks_19_0'             # die optimale Lösung wird von keiner der drei Greedy-Strategien gefunden\n",
    "#file = 'ks_45_0'              # das dauert schon unerträglich lange\n",
    "\n",
    "f = open('./knapsack_data/'+file)\n",
    "anzahl, kapazitaet = [int(k) for k in f.readline().split()]\n",
    "wert, gewicht = [], []\n",
    "for i in range(anzahl):\n",
    "    w, g = f.readline().split()\n",
    "    wert.append(int(w))\n",
    "    gewicht.append(int(g))\n",
    "\n",
    "f.close()\n",
    "\n",
    "def opt(k, j):\n",
    "    '''\n",
    "    returned den wert des optimalen Rucksacks mit Kapazität k, der\n",
    "    nur Gegenstände mit Nummern 0...j enthält\n",
    "    '''\n",
    "    if j == -1: return 0\n",
    "    elif gewicht[j] <= k:\n",
    "        a = opt(k,j-1)\n",
    "        b = wert[j]+opt(k-gewicht[j],j-1)\n",
    "        return max(a,b)\n",
    "    else:\n",
    "        return opt(k,j-1)\n",
    "\n",
    "print(opt(kapazitaet, len(wert)-1))"
   ]
  },
  {
   "cell_type": "markdown",
   "metadata": {},
   "source": [
    "Die dynamische Programmierung kann Fälle lösen, die rekursiv sehr lange dauern."
   ]
  },
  {
   "cell_type": "code",
   "execution_count": 1,
   "metadata": {},
   "outputs": [
    {
     "name": "stdout",
     "output_type": "stream",
     "text": [
      "Items = 0 1\n",
      "Wert = 11 Gewicht = 9\n"
     ]
    }
   ],
   "source": [
    "#file = 'ks_45_0'    # das geht gut          \n",
    "#file = 'ks_50_0'    # das geht gut\n",
    "#file = 'ks_100_0'   # das geht gut\n",
    "#file = 'ks_100_1'   # das dauert unerträglich lange\n",
    "file = 'ks_100_2'    # das geht und zeigt, dass greedy manchmal das Optimum findet\n",
    "\n",
    "\n",
    "f = open('./knapsack_data/'+file)\n",
    "anzahl, kapazitaet = [int(k) for k in f.readline().split()]\n",
    "wert, gewicht = [], []\n",
    "for i in range(anzahl):\n",
    "    w, g = f.readline().split()\n",
    "    wert.append(int(w))\n",
    "    gewicht.append(int(g))\n",
    "\n",
    "f.close()\n",
    "\n",
    "anzahl = len(wert)\n",
    "\n",
    "m = [[0 for j in range(kapazitaet+1)] \\\n",
    "     for i in range(anzahl)]\n",
    "\n",
    "for j in range(1,kapazitaet+1):\n",
    "    for i in range(anzahl):\n",
    "        if gewicht[i] <= j:\n",
    "            if i == 0:\n",
    "                m[0][j] = wert[0]                      # Item 0 wird genommen, wenn es passt\n",
    "            else:\n",
    "                wert1 = m[i-1][j]                      # Item i wird nicht genommen\n",
    "                wert2 = wert[i]+ m[i-1][j-gewicht[i]]  # Item i wird genommen\n",
    "                m[i][j] = max(wert1,wert2)\n",
    "        else:\n",
    "            m[i][j] = m[i-1][j]\n",
    "\n",
    "rucksack_wert = m[i][j]\n",
    "\n",
    "# Rekonstruktion des optimalen Rucksacks\n",
    "x = rucksack_wert\n",
    "taken = set()\n",
    "\n",
    "while i > 0:\n",
    "    y = m[i-1][j]\n",
    "    if x != y:\n",
    "        taken.add(i)\n",
    "        j = j-gewicht[i]\n",
    "    i = i - 1\n",
    "    x = m[i][j]\n",
    "if m[0][j] != 0:\n",
    "    taken.add(0)\n",
    "\n",
    "    \n",
    "rucksack_gewicht = sum([gewicht[i] for i in taken])\n",
    "print('Items =',*taken)\n",
    "print('Wert =',rucksack_wert, 'Gewicht =',rucksack_gewicht)"
   ]
  },
  {
   "cell_type": "code",
   "execution_count": null,
   "metadata": {},
   "outputs": [],
   "source": []
  }
 ],
 "metadata": {
  "kernelspec": {
   "display_name": "Python 3",
   "language": "python",
   "name": "python3"
  },
  "language_info": {
   "codemirror_mode": {
    "name": "ipython",
    "version": 3
   },
   "file_extension": ".py",
   "mimetype": "text/x-python",
   "name": "python",
   "nbconvert_exporter": "python",
   "pygments_lexer": "ipython3",
   "version": "3.6.5"
  }
 },
 "nbformat": 4,
 "nbformat_minor": 2
}
