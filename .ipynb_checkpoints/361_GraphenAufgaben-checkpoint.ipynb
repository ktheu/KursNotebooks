{
 "cells": [
  {
   "cell_type": "markdown",
   "metadata": {},
   "source": [
    "## Zimmerbelegung\n",
    "\n",
    "__[Aufgabenstellung](http://www.informatik42.de/KursV2/data/zimmerbelegung/zimmerbelegung.pdf)__\n",
    "\n"
   ]
  },
  {
   "cell_type": "markdown",
   "metadata": {},
   "source": [
    "#### Format der Eingabedateien\n",
    "\n",
    "Bei dieser Aufgabe enthält jede Datei mit Beispieleingaben die Wunschlisten mehrerer Schülerinnen.  Jede Wunschliste wird in drei Zeilen beschrieben:\n",
    "\n",
    "In der ersten Zeile steht der Name der Schülerin.\n",
    "Die zweite Zeile enthält die Positivliste:  Auf ein + folgen (evtl. null) Namen anderer Schülerinnen.\n",
    "Die dritte Zeile enthält die Negativliste:  Auf ein - folgen (evtl. null) Namen anderer Schülerinnen.\n",
    "Zwei Wunschlisten sind durch eine leere Zeile voneinander getrennt.\n",
    "\n",
    "Die Dateien zimmerbelegung1.txt und zimmerbelegung2.txt beschreiben die Beispiele aus der Aufgabenstellung. \n",
    "\n"
   ]
  },
  {
   "cell_type": "markdown",
   "metadata": {},
   "source": [
    "#### Beispieldateien\n",
    "\n",
    "__[zimmerbelegung1](http://www.informatik42.de/KursV2/data/zimmerbelegung/material/zimmerbelegung1.txt)__ -\n",
    "__[zimmerbelegung2](http://www.informatik42.de/KursV2/data/zimmerbelegung/material/zimmerbelegung2.txt)__ -\n",
    "__[zimmerbelegung3](http://www.informatik42.de/KursV2/data/zimmerbelegung/material/zimmerbelegung3.txt)__ -\n",
    "__[zimmerbelegung4](http://www.informatik42.de/KursV2/data/zimmerbelegung/material/zimmerbelegung4.txt)__ -\n",
    "__[zimmerbelegung5](http://www.informatik42.de/KursV2/data/zimmerbelegung/material/zimmerbelegung5.txt)__ -\n",
    "__[zimmerbelegung6](http://www.informatik42.de/KursV2/data/zimmerbelegung/material/zimmerbelegung6.txt)__ "
   ]
  },
  {
   "cell_type": "markdown",
   "metadata": {},
   "source": [
    "#### Einlesen der Daten\n",
    "\n",
    "Jede Zeile der Eingabedatei wird ein String in der Liste a"
   ]
  },
  {
   "cell_type": "code",
   "execution_count": 78,
   "metadata": {},
   "outputs": [
    {
     "name": "stdout",
     "output_type": "stream",
     "text": [
      "['Anna', '+ Paula', '-', '', 'Paula', '+', '- Anna', '', 'Dani', '+ Steffi', '- Lotta', '', 'Lotta', '+ Steffi', '- Dani', '', 'Steffi', '+ Cleo Jo', '-', '', 'Cleo', '+', '-', '', 'Jo', '+', '-']\n"
     ]
    }
   ],
   "source": [
    "import urllib.request\n",
    "beispiel = 1                  # <== nummer der beispieldatei\n",
    "\n",
    "datei = 'http://www.informatik42.de/KursV2/data/zimmerbelegung/material/zimmerbelegung' + str(beispiel) + '.txt'\n",
    "f = urllib.request.urlopen(datei)\n",
    "data = [s.decode().replace('\\n','') for s in f.readlines()]\n",
    "f.close()\n",
    "print(data)"
   ]
  },
  {
   "cell_type": "markdown",
   "metadata": {},
   "source": [
    "#### Aufgabe 1\n",
    "\n",
    "Modelliere die positiven Wünsche der Schülerinnen in einem  Graphen *wunsch* ."
   ]
  },
  {
   "cell_type": "code",
   "execution_count": null,
   "metadata": {},
   "outputs": [],
   "source": [
    " "
   ]
  },
  {
   "cell_type": "markdown",
   "metadata": {},
   "source": [
    "Erwartete Ausgabe des Graphen *wunsch* bei zimmerbelegung1:\n",
    " "
   ]
  },
  {
   "cell_type": "markdown",
   "metadata": {},
   "source": [
    "```\n",
    "{'Anna': {'Paula'},\n",
    " 'Paula': set(),\n",
    " 'Dani': {'Steffi'},\n",
    " 'Lotta': {'Steffi'},\n",
    " 'Steffi': {'Cleo', 'Jo'},\n",
    " 'Cleo': set(),\n",
    " 'Jo': set()}\n",
    "``` "
   ]
  },
  {
   "cell_type": "markdown",
   "metadata": {},
   "source": [
    "#### Aufgabe 2"
   ]
  },
  {
   "cell_type": "markdown",
   "metadata": {},
   "source": [
    "Modelliere die negativen Wünsche der Schülerinnen in einen Graphen *blosnicht* ."
   ]
  },
  {
   "cell_type": "code",
   "execution_count": null,
   "metadata": {},
   "outputs": [],
   "source": []
  },
  {
   "cell_type": "markdown",
   "metadata": {},
   "source": [
    "Erwartete Ausgabe des Graphen *blosnicht* bei zimmerbelegung1:\n"
   ]
  },
  {
   "cell_type": "markdown",
   "metadata": {},
   "source": [
    "```\n",
    "{'Anna': set(),\n",
    " 'Paula': {'Anna'},\n",
    " 'Dani': {'Lotta'},\n",
    " 'Lotta': {'Dani'},\n",
    " 'Steffi': set(),\n",
    " 'Cleo': set(),\n",
    " 'Jo': set()}\n",
    "```"
   ]
  },
  {
   "cell_type": "markdown",
   "metadata": {},
   "source": [
    "#### Aufgabe 3\n",
    "\n",
    "Überprüfe, ob für jede Schülerin gilt: Kein Nachbar aus *blosnicht* ist in *wunsch* zu erreichen. \n",
    "\n",
    "Erwartetes Ergebnis: Nur Zimmerbelegung 5 geht nicht, wegen des seltsamen Wunsches von Marie."
   ]
  },
  {
   "cell_type": "code",
   "execution_count": null,
   "metadata": {},
   "outputs": [],
   "source": []
  },
  {
   "cell_type": "markdown",
   "metadata": {},
   "source": [
    "#### Aufgabe 4: \n",
    "\n",
    "Finde eine mögliche Zimmerbelegung durch Auflisten der Zusammenhangskomponenten in dem Graphen *wunsch*"
   ]
  },
  {
   "cell_type": "code",
   "execution_count": null,
   "metadata": {},
   "outputs": [],
   "source": []
  },
  {
   "cell_type": "markdown",
   "metadata": {},
   "source": [
    "Erwartete Ausgabe für zimmerbelegung1:"
   ]
  },
  {
   "cell_type": "markdown",
   "metadata": {},
   "source": [
    "```\n",
    "1 - Anna Paula\n",
    "2 - Dani Steffi Cleo Jo\n",
    "3 - Lotta\n",
    "```"
   ]
  },
  {
   "cell_type": "code",
   "execution_count": null,
   "metadata": {},
   "outputs": [],
   "source": []
  }
 ],
 "metadata": {
  "kernelspec": {
   "display_name": "Python 3",
   "language": "python",
   "name": "python3"
  },
  "language_info": {
   "codemirror_mode": {
    "name": "ipython",
    "version": 3
   },
   "file_extension": ".py",
   "mimetype": "text/x-python",
   "name": "python",
   "nbconvert_exporter": "python",
   "pygments_lexer": "ipython3",
   "version": "3.6.5"
  }
 },
 "nbformat": 4,
 "nbformat_minor": 2
}
