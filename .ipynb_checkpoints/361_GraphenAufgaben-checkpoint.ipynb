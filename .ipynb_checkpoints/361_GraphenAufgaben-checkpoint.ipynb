{
 "cells": [
  {
   "cell_type": "markdown",
   "metadata": {},
   "source": [
    "# Zimmerbelegung\n",
    "\n",
    "__[Aufgabenstellung](http://www.informatik42.de/KursV2/data/zimmerbelegung/zimmerbelegung.pdf)__\n",
    "\n"
   ]
  },
  {
   "cell_type": "markdown",
   "metadata": {},
   "source": [
    "#### Format der Eingabedateien\n",
    "\n",
    "Bei dieser Aufgabe enthält jede Datei mit Beispieleingaben die Wunschlisten mehrerer Schülerinnen.  Jede Wunschliste wird in drei Zeilen beschrieben:\n",
    "\n",
    "In der ersten Zeile steht der Name der Schülerin.\n",
    "Die zweite Zeile enthält die Positivliste:  Auf ein + folgen (evtl. null) Namen anderer Schülerinnen.\n",
    "Die dritte Zeile enthält die Negativliste:  Auf ein - folgen (evtl. null) Namen anderer Schülerinnen.\n",
    "Zwei Wunschlisten sind durch eine leere Zeile voneinander getrennt.\n",
    "\n",
    "Die Dateien zimmerbelegung1.txt und zimmerbelegung2.txt beschreiben die Beispiele aus der Aufgabenstellung. \n",
    "\n"
   ]
  },
  {
   "cell_type": "markdown",
   "metadata": {},
   "source": [
    "#### Beispieldateien\n",
    "\n",
    "__[zimmerbelegung1](http://www.informatik42.de/KursV2/data/zimmerbelegung/material/zimmerbelegung1.txt)__ -\n",
    "__[zimmerbelegung2](http://www.informatik42.de/KursV2/data/zimmerbelegung/material/zimmerbelegung2.txt)__ -\n",
    "__[zimmerbelegung3](http://www.informatik42.de/KursV2/data/zimmerbelegung/material/zimmerbelegung3.txt)__ -\n",
    "__[zimmerbelegung4](http://www.informatik42.de/KursV2/data/zimmerbelegung/material/zimmerbelegung4.txt)__ -\n",
    "__[zimmerbelegung5](http://www.informatik42.de/KursV2/data/zimmerbelegung/material/zimmerbelegung5.txt)__ -\n",
    "__[zimmerbelegung6](http://www.informatik42.de/KursV2/data/zimmerbelegung/material/zimmerbelegung6.txt)__ "
   ]
  },
  {
   "cell_type": "markdown",
   "metadata": {},
   "source": [
    "#### Einlesen der Daten\n",
    "\n",
    "Jede Zeile der Eingabedatei wird ein String in der Liste a"
   ]
  },
  {
   "cell_type": "code",
   "execution_count": 78,
   "metadata": {},
   "outputs": [
    {
     "name": "stdout",
     "output_type": "stream",
     "text": [
      "['Anna', '+ Paula', '-', '', 'Paula', '+', '- Anna', '', 'Dani', '+ Steffi', '- Lotta', '', 'Lotta', '+ Steffi', '- Dani', '', 'Steffi', '+ Cleo Jo', '-', '', 'Cleo', '+', '-', '', 'Jo', '+', '-']\n"
     ]
    }
   ],
   "source": [
    "import urllib.request\n",
    "beispiel = 1                  # <== nummer der beispieldatei\n",
    "\n",
    "datei = 'http://www.informatik42.de/KursV2/data/zimmerbelegung/material/zimmerbelegung' + str(beispiel) + '.txt'\n",
    "f = urllib.request.urlopen(datei)\n",
    "data = [s.decode().replace('\\n','') for s in f.readlines()]\n",
    "f.close()\n",
    "print(data)"
   ]
  },
  {
   "cell_type": "markdown",
   "metadata": {},
   "source": [
    "#### Aufgabe 1\n",
    "Der Graph *zimmer* hat die Namen der Schülerinnen als Knoten. Eine Kante zwischen zwei Knoten a und b soll die Beziehung modellieren:\n",
    "*a ist im selben Zimmer wie b, wenn alle positiven Wünsche erfüllt werden*.\n",
    "\n",
    "Erstelle aus den Eingabedaten den Graphen *zimmer*."
   ]
  },
  {
   "cell_type": "code",
   "execution_count": null,
   "metadata": {},
   "outputs": [],
   "source": [
    " "
   ]
  },
  {
   "cell_type": "markdown",
   "metadata": {},
   "source": [
    "Erwartete Ausgabe des Graphen *zimmer* bei zimmerbelegung1:\n",
    " "
   ]
  },
  {
   "cell_type": "markdown",
   "metadata": {},
   "source": [
    "```\n",
    "{'Anna': {'Paula'},\n",
    " 'Paula': {'Anna'},\n",
    " 'Dani': {'Steffi'},\n",
    " 'Steffi': {'Cleo', 'Dani', 'Jo', 'Lotta'},\n",
    " 'Lotta': {'Steffi'},\n",
    " 'Cleo': {'Steffi'},\n",
    " 'Jo': {'Steffi'}}\n",
    "``` "
   ]
  },
  {
   "cell_type": "markdown",
   "metadata": {},
   "source": [
    "#### Aufgabe 2"
   ]
  },
  {
   "cell_type": "markdown",
   "metadata": {},
   "source": [
    "Modelliere die negativen Wünsche der Schülerinnen in einem graphen *blosnicht* ."
   ]
  },
  {
   "cell_type": "code",
   "execution_count": null,
   "metadata": {},
   "outputs": [],
   "source": []
  },
  {
   "cell_type": "markdown",
   "metadata": {},
   "source": [
    "Erwartete Ausgabe des Graphen *blosnicht* bei zimmerbelegung1:\n"
   ]
  },
  {
   "cell_type": "markdown",
   "metadata": {},
   "source": [
    "```\n",
    "{'Anna': set(),\n",
    " 'Paula': {'Anna'},\n",
    " 'Dani': {'Lotta'},\n",
    " 'Lotta': {'Dani'},\n",
    " 'Steffi': set(),\n",
    " 'Cleo': set(),\n",
    " 'Jo': set()}\n",
    "```"
   ]
  },
  {
   "cell_type": "markdown",
   "metadata": {},
   "source": [
    "#### Aufgabe 3\n",
    "\n",
    "Überprüfe, ob eine Zimmerbelegung möglich ist. \n",
    "\n",
    "```\n",
    "Für jeden Knoten v aus blosnicht muss gelten:\n",
    "    kein Nachbar von v in blosnicht darf im Graphen zimmer von v aus erreichbar sein.\n",
    "```\n",
    "\n",
    "Wenn die Zimmerbelegung nicht möglich ist, gib eine entsprechende Meldung und eine Liste der Kollisionen aus."
   ]
  },
  {
   "cell_type": "code",
   "execution_count": null,
   "metadata": {},
   "outputs": [],
   "source": []
  },
  {
   "cell_type": "markdown",
   "metadata": {},
   "source": [
    "Erwartete Ausgabe bei Zimmerbelegung1:\n",
    "\n",
    "```\n",
    "Zimmerbelegung nicht möglich\n",
    "['Paula muss mit Anna', 'Dani muss mit Lotta', 'Lotta muss mit Dani']\n",
    "```"
   ]
  },
  {
   "cell_type": "markdown",
   "metadata": {},
   "source": [
    "#### Aufgabe 4: \n",
    "\n",
    "Finde eine mögliche Zimmerbelegung durch Auflisten der Zusammenhangskomponenten in dem Graphen *zimmer*"
   ]
  },
  {
   "cell_type": "code",
   "execution_count": null,
   "metadata": {},
   "outputs": [],
   "source": []
  },
  {
   "cell_type": "markdown",
   "metadata": {},
   "source": [
    "Erwartete Ausgaben für die verschiedenen Zimmerbelegungen."
   ]
  },
  {
   "cell_type": "markdown",
   "metadata": {},
   "source": [
    "1\n",
    "```\n",
    "Zimmerbelegung nicht möglich\n",
    "['Paula muss mit Anna', 'Dani muss mit Lotta', 'Lotta muss mit Dani']\n",
    "```\n",
    "2\n",
    "```\n",
    "Zimmerbelegung möglich: \n",
    "1 - Alina Lilli\n",
    "2 - Emma Mia Zoe\n",
    "3 - Lara\n",
    "```\n",
    "3\n",
    "```\n",
    "Zimmerbelegung möglich: \n",
    "1 - Anna Julia Lisa Emily Sofia Marie Jana Johanna Carolin Emma Nele Michelle Antonia Larissa\n",
    "2 - Hannah\n",
    "3 - Lea Celine Lena Lina Clara\n",
    "4 - Sarah Sophie Alina Josephine Leonie Vanessa Katharina Lilli Annika Pia Melina Kim Pauline\n",
    "5 - Laura Charlotte Lara Jasmin Merle Luisa Celina Nina Miriam Jessika\n",
    "```\n",
    "4\n",
    "```\n",
    "Zimmerbelegung möglich: \n",
    "1 - Anna Julia Miriam Jessika Jasmin Pauline\n",
    "2 - Hannah Celine Annika Pia Lisa Carolin Celina Lara Nele Emma Luisa Nina Michelle Charlotte Clara Kim Lina Merle Vanessa\n",
    "3 - Lea Laura Katharina Sarah Marie Johanna Leonie Larissa Alina Jana Josephine Lilli Lena Melina Emily Sophie Sofia\n",
    "4 - Antonia\n",
    "```\n",
    "5\n",
    "```\n",
    "Zimmerbelegung nicht möglich: \n",
    "['Marie muss mit Marie']\n",
    "```\n",
    "6\n",
    "```\n",
    "Zimmerbelegung möglich: \n",
    "1 - Anna Carolin Clara Lena Nina Antonia Leonie Lina Kim Lisa Nele Luisa Marie Julia Laura Katharina Pauline Emma Miriam Lara Jessika Alina Charlotte Josephine Pia\n",
    "2 - Hannah Sophie Sarah Vanessa Jana Johanna Melina Emily Lilli Celine Larissa\n",
    "3 - Lea Michelle\n",
    "4 - Annika Celina\n",
    "5 - Jasmin Merle Sofia\n",
    "```"
   ]
  }
 ],
 "metadata": {
  "kernelspec": {
   "display_name": "Python 3",
   "language": "python",
   "name": "python3"
  },
  "language_info": {
   "codemirror_mode": {
    "name": "ipython",
    "version": 3
   },
   "file_extension": ".py",
   "mimetype": "text/x-python",
   "name": "python",
   "nbconvert_exporter": "python",
   "pygments_lexer": "ipython3",
   "version": "3.6.5"
  }
 },
 "nbformat": 4,
 "nbformat_minor": 2
}
