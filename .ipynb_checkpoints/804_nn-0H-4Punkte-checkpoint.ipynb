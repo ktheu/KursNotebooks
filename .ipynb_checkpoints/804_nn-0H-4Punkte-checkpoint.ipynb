{
 "cells": [
  {
   "cell_type": "code",
   "execution_count": 44,
   "metadata": {},
   "outputs": [],
   "source": [
    "import matplotlib.pyplot as plt\n",
    "import random\n",
    "import math\n",
    "import numpy as np\n",
    "%matplotlib inline"
   ]
  },
  {
   "cell_type": "markdown",
   "metadata": {},
   "source": [
    "## 4 Punkte Beispiel\n",
    "\n"
   ]
  },
  {
   "cell_type": "markdown",
   "metadata": {},
   "source": [
    "### Lösung mit Punkt-Klasse "
   ]
  },
  {
   "cell_type": "code",
   "execution_count": 59,
   "metadata": {},
   "outputs": [],
   "source": [
    "class Punkt:\n",
    "    def __init__(self,x1,x2,y):\n",
    "        self.x1 = x1\n",
    "        self.x2 = x2\n",
    "        self.y  = y\n",
    "    \n",
    "    def __str__(self):\n",
    "        return '({}/{})'.format(self.x1, self.x2)\n",
    "    \n",
    "    def getZ(self,w1,w2,b):\n",
    "        return w1*self.x1 + w2*self.x2 + b\n",
    "    \n",
    "    def getA(self,w1,w2,b):\n",
    "        return self.sigmoid(self.getZ(w1,w2,b))\n",
    "    \n",
    "    def sigmoid(self,z):\n",
    "        return 1/(1 + math.exp(-z))\n",
    "    \n",
    "    def getL(self,w1,w2,b):\n",
    "        a = self.getA(w1,w2,b)\n",
    "        return -(self.y*math.log(a)+(1-self.y)*math.log(1-a))\n",
    "    \n",
    "    def getDz(self,w1,w2,b):\n",
    "        return self.getA(w1,w2,b)-self.y\n",
    "    \n",
    "    def getDw1(self,w1,w2,b):\n",
    "        return self.getDz(w1,w2,b) * self.x1\n",
    "    \n",
    "    def getDw2(self,w1,w2,b):\n",
    "        return self.getDz(w1,w2,b) * self.x2\n",
    "\n",
    "def get_x2(x1,w1,w2,b):\n",
    "    return -(w1*x1+b)/w2\n",
    "\n",
    "def showline(pl,w1,w2,b):\n",
    "    X1 = [p.x1 for p in pl]\n",
    "    X2 = [p.x2 for p in pl]\n",
    "    Y = [p.y for p in pl]\n",
    "    plt.scatter(X1, X2, c=Y, s=30)\n",
    "    plt.plot([0,3],[get_x2(0,w1,w2,b),get_x2(3,w1,w2,b)])\n",
    "    plt.axis([0, 3, 0, 4])\n",
    "    plt.show()    \n",
    "    \n",
    "    "
   ]
  },
  {
   "cell_type": "code",
   "execution_count": 46,
   "metadata": {},
   "outputs": [
    {
     "data": {
      "image/png": "[encoded data removed]",
      "text/plain": [
       "<Figure size 432x288 with 1 Axes>"
      ]
     },
     "metadata": {},
     "output_type": "display_data"
    },
    {
     "data": {
      "image/png": "[encoded data removed]",
      "text/plain": [
       "<Figure size 432x288 with 1 Axes>"
      ]
     },
     "metadata": {},
     "output_type": "display_data"
    },
    {
     "name": "stdout",
     "output_type": "stream",
     "text": [
      "4.237030310728867 -0.8977571695947483 -3.011307607061568\n"
     ]
    }
   ],
   "source": [
    "p1 = Punkt(0.5,0.5,0)\n",
    "p2 = Punkt(2,1.7,1)\n",
    "p3 = Punkt(1.5,2.5,1)\n",
    "p4 = Punkt(1.0,3.0,0)\n",
    "plist = [p1,p2,p3,p4]\n",
    "\n",
    "alpha = 0.1\n",
    "w1, w2, b = -1, -4, 6\n",
    "\n",
    "showline(plist, w1, w2, b)\n",
    "\n",
    "m = len(plist)\n",
    "f = '{:8} {:>10} {:>10} {:>10} {:>10}'\n",
    "f1 = '{:8} {:10.4f} {:10.4f} {:10.4f} {:10.4f}'\n",
    "f2 = '{:8} {:10.4f} {:10.4f} {:10.4f} {:10.4f} {:10.4f}'\n",
    "f0 = '{:8} {:>10} {:>10} {:>10} {:>10} {:>10}'\n",
    "f3 = '-'*63 + '\\nit = {:<6} w1 = {:8.4f}, w2 = {:8.4f}, b = {:8.4f}\\n' + '-'*63\n",
    "\n",
    "zeig = False\n",
    "if zeig: print(f0.format('','p1','p2','p3','p4','schnitt'))\n",
    "if zeig: print(f3.format('start',w1,w2,b))\n",
    "tmp = [str(p) for p in plist]\n",
    "if zeig: print(f.format('Punkte',*tmp))\n",
    "tmp= [p.y for p in plist]\n",
    "if zeig: print(f.format('y',*tmp))\n",
    "\n",
    "for i in range(1000):\n",
    "    tmp= [p.getZ(w1,w2,b) for p in plist]\n",
    "    if zeig: print(f1.format('z',*tmp))\n",
    "    tmp= [p.getA(w1,w2,b) for p in plist]\n",
    "    if zeig: print(f1.format('a',*tmp))\n",
    "    tmp= [p.getL(w1,w2,b) for p in plist]\n",
    "    tmpavg = 1/m * sum(tmp)\n",
    "    if zeig: print(f2.format('loss',*tmp,tmpavg))\n",
    "    tmp= [p.getDz(w1,w2,b) for p in plist]\n",
    "    db = 1/m * sum(tmp)\n",
    "    if zeig: print(f1.format('dz',*tmp))\n",
    "    if zeig: print(f2.format('db',*tmp,db))\n",
    "    tmp= [p.getDw1(w1,w2,b) for p in plist]\n",
    "    dw1 = 1/m * sum(tmp)\n",
    "    if zeig: print(f2.format('dw1',*tmp,dw1))\n",
    "    tmp= [p.getDw2(w1,w2,b) for p in plist]\n",
    "    dw2 = 1/m * sum(tmp)\n",
    "    if zeig: print(f2.format('dw2',*tmp,dw2))\n",
    "    w1 = w1 - alpha * dw1\n",
    "    w2 = w2 - alpha * dw2\n",
    "    b =  b - alpha * db\n",
    "    if zeig: print(f3.format(i,w1,w2,b))\n",
    "    \n",
    "showline(plist, w1, w2, b)    \n",
    "print(w1,w2,b)"
   ]
  },
  {
   "cell_type": "markdown",
   "metadata": {},
   "source": [
    "### Lösung mit numpy-Arrays"
   ]
  },
  {
   "cell_type": "code",
   "execution_count": 47,
   "metadata": {},
   "outputs": [
    {
     "name": "stdout",
     "output_type": "stream",
     "text": [
      "3.197216534982548 -0.8862871364648007 -1.7877317676955504\n"
     ]
    },
    {
     "data": {
      "image/png": "[encoded data removed]",
      "text/plain": [
       "<Figure size 432x288 with 1 Axes>"
      ]
     },
     "metadata": {},
     "output_type": "display_data"
    }
   ],
   "source": [
    "def sigmoid(x):\n",
    "    return 1/(1+np.exp(-x))\n",
    "\n",
    "X = np.array([[0.5, 2, 1.5, 1.0],[0.5, 1.7, 2.5, 3.0]]) \n",
    "Y = np.array([[0, 1, 1, 0]])\n",
    "\n",
    "W = np.array([[-1,-4]]) \n",
    "b = np.array([[6]])\n",
    "\n",
    "learning_rate = 0.1\n",
    "num_iterations = 700\n",
    "m = len(Y[0])\n",
    " \n",
    "for i in range(num_iterations):\n",
    "    Z = np.matmul(W,X) + b\n",
    "    A = sigmoid(Z)\n",
    "    logprobs = - (np.multiply(np.log(A),Y) + np.multiply(1 - Y,np.log(1-A)))\n",
    "    cost = 1/m * (np.sum(logprobs))\n",
    "    dZ = A - Y\n",
    "    dW =  1/m * np.matmul(dZ,X.T)\n",
    "    db =  1/m * np.sum(dZ, axis = 1, keepdims = True)\n",
    "    W = W - learning_rate * dW\n",
    "    b = b - learning_rate * db\n",
    "    \n",
    "w1, w2, b = W[0,0], W[0,1], b[0,0]\n",
    "print(w1, w2, b)\n",
    "showline(plist,w1,w2,b)"
   ]
  },
  {
   "cell_type": "markdown",
   "metadata": {},
   "source": [
    "### Lösung mit Tensorflow"
   ]
  },
  {
   "cell_type": "code",
   "execution_count": 48,
   "metadata": {},
   "outputs": [],
   "source": [
    "import tensorflow as tf"
   ]
  },
  {
   "cell_type": "code",
   "execution_count": 49,
   "metadata": {},
   "outputs": [
    {
     "name": "stdout",
     "output_type": "stream",
     "text": [
      "4.808807 -0.9497192 -3.570606\n"
     ]
    },
    {
     "data": {
      "image/png": "[encoded data removed]",
      "text/plain": [
       "<Figure size 432x288 with 1 Axes>"
      ]
     },
     "metadata": {},
     "output_type": "display_data"
    }
   ],
   "source": [
    "X_train = np.array([[0.5, 0.5],[2, 1.7],[1.5, 2.5],[1.0, 3.0]])  \n",
    "Y_train = np.array([[0.],[1.], [1.], [0.]]) \n",
    "learningRate = 0.1\n",
    "\n",
    " \n",
    "X = tf.placeholder(tf.float32, [None, 2],name = \"X\")   # 2 features\n",
    "Y = tf.placeholder(tf.float32, [None, 1],name = \"Y\")   # 1 label\n",
    "W = tf.Variable(np.array([[-1.0],[-4.0]]),dtype=tf.float32)\n",
    "b = tf.Variable(np.array([[6.0]]),dtype=tf.float32)\n",
    "\n",
    "z = tf.add(tf.matmul(X, W),b,name = 'z')\n",
    "cost = tf.nn.sigmoid_cross_entropy_with_logits(logits = z, labels = Y)\n",
    "training = tf.train.GradientDescentOptimizer(learningRate).minimize(cost)\n",
    "\n",
    "sess = tf.Session()\n",
    "init = tf.global_variables_initializer()\n",
    "sess.run(init)\n",
    "for i in range(300):\n",
    "    sess.run(training, feed_dict= {X: X_train, Y: Y_train})\n",
    "w, b = sess.run(W), sess.run(b)\n",
    "sess.close()\n",
    "w1, w2, b = w[0,0], w[1,0], b[0,0]\n",
    " \n",
    "print(w1,w2,b)\n",
    "showline(plist, w1, w2, b) "
   ]
  },
  {
   "cell_type": "markdown",
   "metadata": {},
   "source": [
    "### Lösung mit Keras"
   ]
  },
  {
   "cell_type": "code",
   "execution_count": 50,
   "metadata": {},
   "outputs": [],
   "source": [
    "from tensorflow import keras"
   ]
  },
  {
   "cell_type": "code",
   "execution_count": 63,
   "metadata": {},
   "outputs": [
    {
     "name": "stdout",
     "output_type": "stream",
     "text": [
      "4/4 [==============================] - 0s 34ms/step\n",
      "[-1.260641] [-1.1486564] 1.851103\n"
     ]
    },
    {
     "data": {
      "image/png": "[encoded data removed]",
      "text/plain": [
       "<Figure size 432x288 with 1 Axes>"
      ]
     },
     "metadata": {},
     "output_type": "display_data"
    }
   ],
   "source": [
    "#X_train = np.array([[0.5, 0.5],[2, 1.7],[1.5, 2.5],[1.0, 3.0]])  \n",
    "#Y_train = np.array([[0.],[1.], [1.], [0.]]) \n",
    "\n",
    "p1 = Punkt(0.0,0.0,0)\n",
    "p2 = Punkt(0.0,1.0,0)\n",
    "p3 = Punkt(1.0,0.0,0)\n",
    "p4 = Punkt(1.0,1.0,1)\n",
    "plist = [p1,p2,p3,p4]\n",
    "\n",
    "X_train = np.array([[0.0, 0.0],[0.0, 1.0],[1.0, 0.0],[1.0, 1.0]])  \n",
    "Y_train = np.array([[1.],[1.], [1.], [0.]]) \n",
    "model = keras.Sequential([\n",
    "    keras.layers.Dense(1, activation=tf.nn.sigmoid),\n",
    "])\n",
    "model.compile(optimizer=tf.train.AdamOptimizer(0.1), \n",
    "              loss='binary_crossentropy',\n",
    "              metrics=['accuracy'])\n",
    "\n",
    "              \n",
    "model.fit(X_train, Y_train, epochs=20,verbose=0)\n",
    "#model.summary()\n",
    "model.evaluate(X_train, Y_train)\n",
    "\n",
    "for layer in model.layers:\n",
    "    weights = layer.get_weights() # list of numpy arrays\n",
    "    \n",
    "    \n",
    "w1, w2, b = weights[0][0], weights[0][1], weights[1][0]\n",
    "print(w1, w2, b)\n",
    "showline(plist,w1,w2,b)"
   ]
  },
  {
   "cell_type": "code",
   "execution_count": null,
   "metadata": {},
   "outputs": [],
   "source": [
    "#GradientDescentOptimizer\n",
    "#AdamOptimizer\n",
    "#model.compile(optimizer=tf.train.GradientDescentOptimizer(0.1), \n",
    "#              loss='binary_crossentropy',\n",
    "#              metrics=['accuracy'])\n",
    "#sgd = optimizers.Adam(lr=0.01)\n",
    "#sgd = optimizers.SGD(lr=0.01)"
   ]
  },
  {
   "cell_type": "code",
   "execution_count": 99,
   "metadata": {},
   "outputs": [],
   "source": [
    "def get_x2(x1,w1,w2,b):\n",
    "    return -(w1*x1+b)/w2\n",
    "\n",
    "def showline1(w1,w2,b):\n",
    "    plt.plot([0,3],[get_x2(0,w1,w2,b),get_x2(3,w1,w2,b)])\n",
    "    plt.axis([0, 3, 0, 3])\n",
    "    plt.show()   "
   ]
  },
  {
   "cell_type": "markdown",
   "metadata": {},
   "source": [
    "### AND-Operator mit Keras"
   ]
  },
  {
   "cell_type": "code",
   "execution_count": 100,
   "metadata": {},
   "outputs": [
    {
     "name": "stdout",
     "output_type": "stream",
     "text": [
      "-3.693383 -3.5290194 5.4712067\n"
     ]
    },
    {
     "data": {
      "image/png": "[encoded data removed]",
      "text/plain": [
       "<Figure size 432x288 with 1 Axes>"
      ]
     },
     "metadata": {},
     "output_type": "display_data"
    }
   ],
   "source": [
    "import numpy as np\n",
    "from keras import Sequential, optimizers\n",
    "from keras.layers import Dense, Activation\n",
    "\n",
    "x_train = np.array([[0.0, 0.0],[0.0, 1.0],[1.0, 0.0],[1.0, 1.0]])  \n",
    "y_train = np.array([[1.],[1.], [1.], [0.]]) \n",
    "model  = Sequential()\n",
    "model.add(Dense(1,input_dim=2))\n",
    "model.add(Activation('sigmoid'))\n",
    "model.compile(optimizer=sgd,loss='binary_crossentropy',metrics=['accuracy'])\n",
    "model.fit(x_train,y_train,epochs=300, verbose = 0)\n",
    "\n",
    "weights = model.layers[0].get_weights()\n",
    "w1, w2, b = weights[0][0][0], weights[0][1][0], weights[1][0]\n",
    "print(w1, w2, b)\n",
    "showline1(w1,w2,b)\n"
   ]
  },
  {
   "cell_type": "code",
   "execution_count": 145,
   "metadata": {},
   "outputs": [
    {
     "name": "stdout",
     "output_type": "stream",
     "text": [
      "[[0.97417927]]\n",
      "[[0.02848777]]\n",
      "[[0.02959678]]\n",
      "[[0.9757646]]\n"
     ]
    }
   ],
   "source": [
    "import numpy as np\n",
    "from keras import Sequential, optimizers\n",
    "from keras.layers import Dense, Activation\n",
    "\n",
    "x_train = np.array([[0.0, 0.0],[0.0, 1.0],[1.0, 0.0],[1.0, 1.0]])  \n",
    "y_train = np.array([[1.],[0.], [0.], [1.]]) \n",
    "model  = Sequential()\n",
    "model.add(Dense(2,input_dim=2))\n",
    "model.add(Activation('sigmoid'))\n",
    "model.add(Dense(1))\n",
    "model.add(Activation('sigmoid'))\n",
    "model.compile(optimizer=sgd,loss='binary_crossentropy',metrics=['accuracy'])\n",
    "model.fit(x_train,y_train,epochs=500, verbose = 0)\n",
    "\n",
    "for i in range(len(x_train)):\n",
    "    x = x_train[i].reshape(1,2)\n",
    "    print(model.predict(x))\n",
    "    "
   ]
  },
  {
   "cell_type": "code",
   "execution_count": 152,
   "metadata": {},
   "outputs": [
    {
     "name": "stdout",
     "output_type": "stream",
     "text": [
      "[array([[-7.363419, -7.488689],\n",
      "       [ 8.003471,  7.611174]], dtype=float32), array([ 3.7593884, -4.098041 ], dtype=float32)]\n",
      "[]\n",
      "[array([[ 7.6212816],\n",
      "       [-7.6810126]], dtype=float32), array([-3.691884], dtype=float32)]\n",
      "[]\n"
     ]
    }
   ],
   "source": [
    "for layer in model.layers:\n",
    "    weights = layer.get_weights()\n",
    "    print(weights)\n",
    "\n"
   ]
  },
  {
   "cell_type": "code",
   "execution_count": 137,
   "metadata": {},
   "outputs": [
    {
     "name": "stdout",
     "output_type": "stream",
     "text": [
      "[[0.95315796]]\n",
      "[[0.03144395]]\n",
      "[[0.04619565]]\n",
      "[[0.9590808]]\n"
     ]
    }
   ],
   "source": [
    "for i in range(len(x_train)):\n",
    "    x = x_train[i].reshape(1,2)\n",
    "    print(model.predict(x))"
   ]
  },
  {
   "cell_type": "code",
   "execution_count": 171,
   "metadata": {},
   "outputs": [
    {
     "name": "stdout",
     "output_type": "stream",
     "text": [
      "0 0 1\n",
      "0 1 0\n",
      "1 0 0\n",
      "1 1 1\n"
     ]
    }
   ],
   "source": [
    "class Neuron:\n",
    "    def __init__(self,w1,w2,b):\n",
    "        self.w1 = w1\n",
    "        self.w2 = w2\n",
    "        self.b = b\n",
    "        \n",
    "    def eval(self,x1,x2):\n",
    "        z = self.w1*x1 + self.w2*x2 + self.b\n",
    "        if z >= 0: return 1\n",
    "        return 0\n",
    "for x1 in range(2):\n",
    "    for x2 in range(2):\n",
    "        n1 = Neuron(-2,2, 1)\n",
    "        n2 = Neuron(-2,2,-1)\n",
    "        n3 = Neuron(2,-2,-1)\n",
    "        z1 = n1.eval(x1,x2)\n",
    "        z2 = n2.eval(x1,x2)\n",
    "        z3 = n3.eval(z1,z2)\n",
    "        print(x1,x2,z3)\n",
    "    \n",
    "\n"
   ]
  },
  {
   "cell_type": "code",
   "execution_count": null,
   "metadata": {},
   "outputs": [],
   "source": []
  },
  {
   "cell_type": "code",
   "execution_count": null,
   "metadata": {},
   "outputs": [],
   "source": []
  }
 ],
 "metadata": {
  "kernelspec": {
   "display_name": "Python 3",
   "language": "python",
   "name": "python3"
  },
  "language_info": {
   "codemirror_mode": {
    "name": "ipython",
    "version": 3
   },
   "file_extension": ".py",
   "mimetype": "text/x-python",
   "name": "python",
   "nbconvert_exporter": "python",
   "pygments_lexer": "ipython3",
   "version": "3.6.5"
  }
 },
 "nbformat": 4,
 "nbformat_minor": 2
}
