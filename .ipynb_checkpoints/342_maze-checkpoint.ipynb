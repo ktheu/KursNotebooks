{
 "cells": [
  {
   "cell_type": "markdown",
   "metadata": {},
   "source": [
    "### Search am Beispiel Maze"
   ]
  },
  {
   "cell_type": "code",
   "execution_count": 1,
   "metadata": {},
   "outputs": [
    {
     "name": "stdout",
     "output_type": "stream",
     "text": [
      "XXXXXXXXXXXXXXXXXXXXXXXXXXXXXXXXXXXXXXXXXXXXXXXXXXXXXXXXXXXXXXXXXXX\n",
      "X                                                                 X\n",
      "X                                                                 X\n",
      "X                                                                 X\n",
      "X                       XXXXXXXXXXXXXXXXX                         X\n",
      "X                       X                                         X\n",
      "X                       X                     X                   X\n",
      "X                       X                     X                   X\n",
      "X                       X                     X                   X\n",
      "X                       X                              X          X\n",
      "X                       X      XXXXXXXXXXXXXXXXXXXX    X          X\n",
      "X                       X                              X          X\n",
      "X                       X           E                  X          X\n",
      "X                       XXXXXXXXXXXXXXXXXXXXXXXXXXXXXXXX          X\n",
      "X                                                                 X\n",
      "X                                                                 X\n",
      "X                                                                 X\n",
      "X     S                                                           X\n",
      "X                                                                 X\n",
      "XXXXXXXXXXXXXXXXXXXXXXXXXXXXXXXXXXXXXXXXXXXXXXXXXXXXXXXXXXXXXXXXXXX\n"
     ]
    }
   ],
   "source": [
    "f = open(\"data/maze02.txt\")       \n",
    "lines = f.read().splitlines()\n",
    "grid = [list(s) for s in lines]\n",
    "\n",
    "def showGrid():\n",
    "    for a in grid:\n",
    "        print(''.join(a))\n",
    "        \n",
    "showGrid()"
   ]
  },
  {
   "cell_type": "code",
   "execution_count": 9,
   "metadata": {},
   "outputs": [],
   "source": [
    "from collections import deque\n",
    "from heapq import heappop, heappush\n",
    "'''\n",
    "Ein state ist ein Tupel (x,y) in einem grid (einer\n",
    "Liste mit Listen von Tupeln)\n",
    "'''\n",
    "        \n",
    "def getStart():\n",
    "    for x in range(len(grid)):\n",
    "        for y in range(len(grid[x])):\n",
    "            if grid[x][y] == 'S':\n",
    "                return x, y\n",
    "def getGoal():\n",
    "    for x in range(len(grid)):\n",
    "        for y in range(len(grid[x])):\n",
    "            if grid[x][y] == 'E':\n",
    "                return x, y\n",
    "\n",
    "def goaltest(state):\n",
    "    return grid[state[0]][state[1]]  == 'E'\n",
    "\n",
    "def nextstates(state):\n",
    "    x, y = state\n",
    "    tmp = []\n",
    "    for xd, yd in dirs:\n",
    "        xn, yn = x+xd, y+yd\n",
    "        if grid[xn][yn] != 'X':\n",
    "            tmp.append((xn,yn))\n",
    "    return tmp\n",
    "\n",
    "def reconstructPath(prev,state):\n",
    "    s = state\n",
    "    tmp = []\n",
    "    while prev[s] is not None:\n",
    "        tmp.append(s)\n",
    "        s = prev[s]\n",
    "    tmp.append(s)\n",
    "    tmp.reverse()\n",
    "    return tmp \n",
    "\n",
    "def bfs(s):\n",
    "    frontier =  deque([s])\n",
    "    prev = {s:None}\n",
    "    while frontier:\n",
    "        state = frontier.popleft()\n",
    "        if goaltest(state):\n",
    "            return prev, state, frontier\n",
    "        for v in nextstates(state):\n",
    "            if v not in prev:\n",
    "                frontier.append(v)\n",
    "                prev[v] = state\n",
    "\n",
    "def dfs(s):\n",
    "    frontier =  [s]\n",
    "    prev = {s:None}\n",
    "    \n",
    "    while frontier:\n",
    "        state = frontier.pop()  \n",
    "        if goaltest(state):\n",
    "            return prev, state, frontier\n",
    "        nxt = nextstates(state)\n",
    "        nxt.reverse()        # die linken Kinder sollen zuletzt auf den frontier-Keller\n",
    "        for v in nxt:\n",
    "            if v not in prev:\n",
    "                frontier.append(v)\n",
    "                prev[v] = state\n",
    "\n",
    "def h(state):\n",
    "    ''' Manhatten-Distanz '''\n",
    "    x1, y1 = state\n",
    "    x2, y2 = goalstate\n",
    "    return abs(x1-x2) + abs(y1-y2)\n",
    "\n",
    "def h2(state):\n",
    "    ''' Euklidsche-Distanz '''\n",
    "    x1, y1 = state\n",
    "    x2, y2 = goalstate\n",
    "    return ((x1-x2)**2 + (y1-y2)**2)**0.5   \n",
    "\n",
    "def greedy(s):\n",
    "    frontier =[(h(s),s)]  \n",
    "    prev = {s:None}\n",
    "    while frontier:\n",
    "        _ ,state = heappop(frontier)  \n",
    "        if goaltest(state):\n",
    "            return prev,frontier\n",
    "        for v in nextstates(state):\n",
    "            if v not in prev:\n",
    "                heappush(frontier,(h(v),v))\n",
    "                prev[v] = state\n",
    "\n",
    "def astar(s):\n",
    "    frontier =[(h(s),s)]  \n",
    "    prev = {s:None}\n",
    "    g = {s:0}                         # backword costs \n",
    "    while frontier:\n",
    "        _ ,state = heappop(frontier)  # die Kosten braucht man an der Stelle nicht\n",
    "        if goaltest(state):\n",
    "            return prev,frontier\n",
    "        for v in nextstates(state):\n",
    "            if v not in prev:\n",
    "                g[v] = g[state]+1\n",
    "                heappush(frontier,(g[v]+h(v),v))\n",
    "                prev[v] = state\n",
    "                \n",
    "def showResult():  \n",
    "    # für bfs und dfs\n",
    "    for x,y in prev:\n",
    "        grid[x][y]='.'\n",
    "    for x,y in path:\n",
    "        grid[x][y] = 'o'\n",
    "    for x,y in frontier:\n",
    "        grid[x][y] = '~'\n",
    "    x,y = startstate\n",
    "    grid[x][y] = 'S'\n",
    "    x,y = goalstate\n",
    "    grid[x][y] = 'E'\n",
    "    showGrid()\n",
    " \n",
    "    print(\"explored = {}, weglänge = {}\".format(len(prev)-len(frontier), len(path)-1))\n",
    "    print(\"gefundener Weg: 'o', explored: '.', frontier: '~'\")\n",
    "    \n",
    "def showResult2():\n",
    "    # für greedy und astar \n",
    "    for x,y in prev:\n",
    "        grid[x][y]='.'\n",
    "    for x,y in path:\n",
    "        grid[x][y] = 'o'\n",
    "    for tup in frontier:\n",
    "        _, state = tup\n",
    "        x, y = state\n",
    "        grid[x][y] = '~'\n",
    "    x,y = startstate\n",
    "    grid[x][y] = 'S'\n",
    "    x,y = goalstate\n",
    "    grid[x][y] = 'E'\n",
    "    showGrid()\n",
    " \n",
    "    print(\"explored = {}, weglänge = {}\".format(len(prev)-len(frontier), len(path)-1))\n",
    "    print(\"gefundener Weg: 'o', explored: '.', frontier: '~'\")\n",
    "    \n",
    "N, E, S, W  = (-1,0), (0,1), (1,0), (0,-1)\n",
    "dirs = [N,S,W,E]\n"
   ]
  },
  {
   "cell_type": "markdown",
   "metadata": {},
   "source": [
    "#### Breitensuche"
   ]
  },
  {
   "cell_type": "code",
   "execution_count": 10,
   "metadata": {},
   "outputs": [
    {
     "name": "stdout",
     "output_type": "stream",
     "text": [
      "XXXXXXXXXXXXXXXXXXXXXXXXXXXXXXXXXXXXXXXXXXXXXXXXXXXXXXXXXXXXXXXXXXX\n",
      "X.................................................................X\n",
      "X.................................................................X\n",
      "X.....oooooooooooooooooooooooooooooooooooo........................X\n",
      "X.....o.................XXXXXXXXXXXXXXXXXo........................X\n",
      "X.....o.................X................o........................X\n",
      "X.....o.................X................o....X...................X\n",
      "X.....o.................X................o....X...................X\n",
      "X.....o.................X................o....X...................X\n",
      "X.....o.................X.....oooooooooooo.............X..........X\n",
      "X.....o.................X.....oXXXXXXXXXXXXXXXXXXXX....X..........X\n",
      "X.....o.................X.....o......~     ~...........X..........X\n",
      "X.....o.................X.....ooooooE       ~..........X..........X\n",
      "X.....o.................XXXXXXXXXXXXXXXXXXXXXXXXXXXXXXXX..........X\n",
      "X.....o...........................................................X\n",
      "X.....o...........................................................X\n",
      "X.....o...........................................................X\n",
      "X.....S...........................................................X\n",
      "X.................................................................X\n",
      "XXXXXXXXXXXXXXXXXXXXXXXXXXXXXXXXXXXXXXXXXXXXXXXXXXXXXXXXXXXXXXXXXXX\n",
      "explored = 1071, weglänge = 75\n",
      "gefundener Weg: 'o', explored: '.', frontier: '~'\n"
     ]
    }
   ],
   "source": [
    "f = open(\"data/maze02.txt\")       \n",
    "lines = f.read().splitlines()\n",
    "grid = [list(s) for s in lines]\n",
    "\n",
    "startstate = getStart()\n",
    "prev, goalstate, frontier = bfs(startstate)     # bfs, dfs, greedy, astar\n",
    "path = reconstructPath(prev,goalstate)\n",
    "\n",
    "showResult()"
   ]
  },
  {
   "cell_type": "markdown",
   "metadata": {},
   "source": [
    "#### Tiefensuche"
   ]
  },
  {
   "cell_type": "code",
   "execution_count": 11,
   "metadata": {},
   "outputs": [
    {
     "name": "stdout",
     "output_type": "stream",
     "text": [
      "XXXXXXXXXXXXXXXXXXXXXXXXXXXXXXXXXXXXXXXXXXXXXXXXXXXXXXXXXXXXXXXXXXX\n",
      "X.....ooo~ooo~ooo~ooo~ooo~ooo~ooo~ooo~ooo~........................X\n",
      "X....~o~o~o~o~o~o~o~o~o~o~o~o~o~o~o~o~o~o~........................X\n",
      "X....~o~o~o~o~o~o~o~o~o~ooo~ooo~ooo~ooo~oo~.......................X\n",
      "X....~o~o~o~o~o~o~o~o~o~XXXXXXXXXXXXXXXXXo~.......................X\n",
      "X....~o~o~o~o~o~o~o~o~o~X...~ooo~ooo~ooo~o~.......................X\n",
      "X....~o~o~o~o~o~o~o~o~o~X...~o~o~o~o~o~o~o~...X...................X\n",
      "X....~o~o~o~o~o~o~o~o~o~X...~o~o~o~o~o~o~o~...X...................X\n",
      "X....~o~o~o~o~o~o~o~o~o~X...~o~o~o~o~o~o~o~...X...................X\n",
      "X....~o~o~o~o~o~o~o~o~o~X...~o~ooo~ooo~ooo~............X..........X\n",
      "X....~o~o~o~o~o~o~o~o~o~X...~o~XXXXXXXXXXXXXXXXXXXX....X..........X\n",
      "X....~o~o~o~o~o~o~o~o~o~X...~o~ooo~....................X..........X\n",
      "X....~o~o~o~o~o~o~o~o~o~X....ooo~oooE..................X..........X\n",
      "X....~o~o~o~o~o~o~o~o~o~XXXXXXXXXXXXXXXXXXXXXXXXXXXXXXXX..........X\n",
      "X....~o~o~o~o~o~o~o~o~o~..........................................X\n",
      "X....~o~o~o~o~o~o~o~o~o~..........................................X\n",
      "X....~o~o~o~o~o~o~o~o~o~..........................................X\n",
      "X....~S~o~o~o~o~o~o~o~o~..........................................X\n",
      "X.....~.ooo~ooo~ooo~ooo~..........................................X\n",
      "XXXXXXXXXXXXXXXXXXXXXXXXXXXXXXXXXXXXXXXXXXXXXXXXXXXXXXXXXXXXXXXXXXX\n",
      "explored = 857, weglänge = 259\n",
      "gefundener Weg: 'o', explored: '.', frontier: '~'\n"
     ]
    }
   ],
   "source": [
    "f = open(\"data/maze02.txt\")       \n",
    "lines = f.read().splitlines()\n",
    "grid = [list(s) for s in lines]\n",
    "\n",
    "startstate = getStart()\n",
    "prev, goalstate, frontier = dfs(startstate)     # bfs, dfs, greedy, astar\n",
    "path = reconstructPath(prev,goalstate)\n",
    "\n",
    "showResult()"
   ]
  },
  {
   "cell_type": "markdown",
   "metadata": {},
   "source": [
    "#### Greedy"
   ]
  },
  {
   "cell_type": "code",
   "execution_count": 12,
   "metadata": {},
   "outputs": [
    {
     "name": "stdout",
     "output_type": "stream",
     "text": [
      "XXXXXXXXXXXXXXXXXXXXXXXXXXXXXXXXXXXXXXXXXXXXXXXXXXXXXXXXXXXXXXXXXXX\n",
      "X                               ~.......~                         X\n",
      "X                      ~~~~~~~~~.........~                        X\n",
      "X                     ~ooooooooooooooooooo~                       X\n",
      "X                     ~oXXXXXXXXXXXXXXXXXo~                       X\n",
      "X                    ~.oX        ~..oooooo~                       X\n",
      "X                   ~..oX       ~...o...~~    X                   X\n",
      "X                  ~...oX      ~....o....~    X                   X\n",
      "X                 ~....oX     ~.....o.....~   X                   X\n",
      "X                ~.....oX    ~ooooooo.....~            X          X\n",
      "X               ~......oX    ~oXXXXXXXXXXXXXXXXXXXX    X          X\n",
      "X     ~~~~~~~~~~.......oX    ~ooooooo~                 X          X\n",
      "X    ~ooooooooooooooooooX     ~~~~~~E                  X          X\n",
      "X    ~o~~~~~~~~~........XXXXXXXXXXXXXXXXXXXXXXXXXXXXXXXX          X\n",
      "X    ~o~        ~.......................................~         X\n",
      "X    ~o~         ~.....................................~          X\n",
      "X    ~o~          ~...................................~           X\n",
      "X    ~S~           ~.................................~            X\n",
      "X     ~             ~...............................~             X\n",
      "XXXXXXXXXXXXXXXXXXXXXXXXXXXXXXXXXXXXXXXXXXXXXXXXXXXXXXXXXXXXXXXXXXX\n",
      "explored = 334, weglänge = 75\n",
      "gefundener Weg: 'o', explored: '.', frontier: '~'\n"
     ]
    }
   ],
   "source": [
    "f = open(\"data/maze02.txt\")       \n",
    "lines = f.read().splitlines()\n",
    "grid = [list(s) for s in lines]\n",
    "\n",
    "startstate = getStart()\n",
    "goalstart = getGoal()\n",
    "prev, frontier = greedy(startstate)     # bfs, dfs, greedy, astar\n",
    "path = reconstructPath(prev,goalstate)\n",
    "\n",
    "showResult2()"
   ]
  },
  {
   "cell_type": "markdown",
   "metadata": {},
   "source": [
    "#### AStar"
   ]
  },
  {
   "cell_type": "code",
   "execution_count": 14,
   "metadata": {},
   "outputs": [
    {
     "name": "stdout",
     "output_type": "stream",
     "text": [
      "XXXXXXXXXXXXXXXXXXXXXXXXXXXXXXXXXXXXXXXXXXXXXXXXXXXXXXXXXXXXXXXXXXX\n",
      "X.............................................~                   X\n",
      "X..............................................~                  X\n",
      "X......................ooooooooooooooooooo......~                 X\n",
      "X......................oXXXXXXXXXXXXXXXXXo......~                 X\n",
      "X......................oX    ~......oooooo......~                 X\n",
      "X......................oX    ~......o.........X.~                 X\n",
      "X......................oX    ~......o.........X.~                 X\n",
      "X......................oX    ~......o.........X.~                 X\n",
      "X......................oX    ~ooooooo...........~      X          X\n",
      "X......................oX    ~oXXXXXXXXXXXXXXXXXXXX    X          X\n",
      "X......................oX    ~ooooooo~                 X          X\n",
      "X.....ooooooooooooooooooX    ~......E                  X          X\n",
      "X.....o.................XXXXXXXXXXXXXXXXXXXXXXXXXXXXXXXX          X\n",
      "X.....o.................................................~         X\n",
      "X.....o................................................~          X\n",
      "X.....o.................................................~         X\n",
      "X.....S................................................~          X\n",
      "X.....................................................~           X\n",
      "XXXXXXXXXXXXXXXXXXXXXXXXXXXXXXXXXXXXXXXXXXXXXXXXXXXXXXXXXXXXXXXXXXX\n",
      "explored = 748, weglänge = 75\n",
      "gefundener Weg: 'o', explored: '.', frontier: '~'\n"
     ]
    }
   ],
   "source": [
    "f = open(\"data/maze02.txt\")       \n",
    "lines = f.read().splitlines()\n",
    "grid = [list(s) for s in lines]\n",
    "\n",
    "startstate = getStart()\n",
    "goalstart = getGoal()\n",
    "prev, frontier = astar(startstate)     # bfs, dfs, greedy, astar\n",
    "path = reconstructPath(prev,goalstate)\n",
    "\n",
    "showResult2()"
   ]
  },
  {
   "cell_type": "markdown",
   "metadata": {},
   "source": [
    "#### Aufgaben\n",
    "Codingame\n",
    "- [11-Puzzle](https://www.codingame.com/training/hard/11-puzzle)\n",
    "- [Labyrinth](https://www.codingame.com/training/hard/the-labyrinth)"
   ]
  },
  {
   "cell_type": "code",
   "execution_count": null,
   "metadata": {},
   "outputs": [],
   "source": []
  }
 ],
 "metadata": {
  "kernelspec": {
   "display_name": "Python 3",
   "language": "python",
   "name": "python3"
  },
  "language_info": {
   "codemirror_mode": {
    "name": "ipython",
    "version": 3
   },
   "file_extension": ".py",
   "mimetype": "text/x-python",
   "name": "python",
   "nbconvert_exporter": "python",
   "pygments_lexer": "ipython3",
   "version": "3.7.4"
  }
 },
 "nbformat": 4,
 "nbformat_minor": 4
}
