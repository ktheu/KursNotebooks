{
 "cells": [
  {
   "cell_type": "markdown",
   "metadata": {},
   "source": [
    "![aufgabe](img/autokennzeichen.png)"
   ]
  },
  {
   "cell_type": "markdown",
   "metadata": {},
   "source": [
    "[kuerzelliste](data/kuerzelliste.txt)\n",
    "\n",
    "Beispiele für die Eingabe:"
   ]
  },
  {
   "cell_type": "code",
   "execution_count": null,
   "metadata": {},
   "outputs": [],
   "source": [
    "BIBER\n",
    "BUNDESWETTBEWERB\n",
    "CLINTON\n",
    "DONAUDAMPFSCHIFFFAHRTSKAPITÄNSMÜTZE\n",
    "ETHERNET\n",
    "INFORMATIK\n",
    "LLANFAIRPWLLGWYNGYLLGOGERYCHWYRNDROBWLLLLANTYSILIOGOGOGOCH\n",
    "RINDFLEISCHETIKETTIERUNGSÜBERWACHUNGSAUFGABENÜBERTRAGUNGSGESETZ\n",
    "SOFTWARE\n",
    "TRUMP\n",
    "TSCHÜSS\n",
    "VERKEHRSWEGEPLANUNGSBESCHLEUNIGUNGSGESETZ"
   ]
  },
  {
   "cell_type": "markdown",
   "metadata": {},
   "source": [
    "Wir wollen die Aufgabe mit einem Suchalgorithmus lösen. Dazu müssen wir festlegen, wie die Knoten in unserem Suchbaum aussehen.\n",
    "\n",
    "Ein Knoten im Baum ist ein Tupel\n",
    "```\n",
    "status = (wort, nr)\n",
    "wort:  Ausgangsstring ohne den Anfang, der schon für Nummernzeichen verteilt wurde.\n",
    "nr: 0 oder 1,\n",
    "    0 = als nächstes ist die vordere Position des Nummerzeichens dran (kuerzelliste)\n",
    "    1 = als nächstes ist die mittlere Position des Nummernzeichens dran (1 oder 2 Buchstaben)\n",
    "```    \n",
    "\n",
    "Wir starten mit z.B: \n",
    "``` ('BUNDESWETTBEWERB',0)```. \n",
    "\n",
    "Der gewünschte Zielstatus ist ```('', 0)```.\n",
    "\n",
    "Der Pfad vom Zielstatus zurück zum Start könnte z.B. so aussehen:"
   ]
  },
  {
   "cell_type": "code",
   "execution_count": null,
   "metadata": {},
   "outputs": [],
   "source": [
    "('', 0)\n",
    "('RB', 1)\n",
    "('WERB', 0)              # WE-RB-105\n",
    "('EWERB', 1)\n",
    "('BEWERB', 0)            # B-E-104     \n",
    "('TTBEWERB', 1)\n",
    "('WETTBEWERB', 0)        # WE-TT-103\n",
    "('ESWETTBEWERB', 1)\n",
    "('NDESWETTBEWERB', 0)    # ND-ES-102\n",
    "('UNDESWETTBEWERB', 1)\n",
    "('BUNDESWETTBEWERB', 0)  # B-U-101\n"
   ]
  },
  {
   "cell_type": "markdown",
   "metadata": {},
   "source": [
    "#### Aufgabe: \n",
    "Implementiere die Funktionen **goaltest** und **nextstates**"
   ]
  },
  {
   "cell_type": "code",
   "execution_count": 29,
   "metadata": {},
   "outputs": [],
   "source": [
    "def goaltest(state):\n",
    "    '''\n",
    "    state: Spielstellung\n",
    "    returns: True, wenn Spielstellung eine Lösung ist\n",
    "    '''\n",
    "\n",
    "def nextstates(state):\n",
    "    '''\n",
    "    state: Spielstellung\n",
    "    returns: Liste mit möglichen Folgestellungen zu state\n",
    "    '''\n",
    "    pass\n",
    "\n",
    "def reconstructPath(prev):\n",
    "    s = ('',0)\n",
    "    a = []   # Liste mit dem Ausgangswort, bei dem jeweils die schon\n",
    "             # verteilten Buchstaben fehlen \n",
    "    while prev[s] is not None:\n",
    "        w,_ = prev[s]\n",
    "        a.append(w)\n",
    "        s = prev[s]\n",
    "    a.reverse()  \n",
    "    '''\n",
    "    z.B: a =\n",
    "    ['BUNDESWETTBEWERB', 'UNDESWETTBEWERB', 'NDESWETTBEWERB', 'ESWETTBEWERB', 'WETTBEWERB', \n",
    "    'TTBEWERB', 'BEWERB', 'EWERB', 'WERB', 'RB']\n",
    "    '''\n",
    "    tmp = [] # Liste mit den Teilen des Wortes, die abgeknabbert wurden\n",
    "    for i in range(len(a)-1):\n",
    "        tmp.append(a[i][:-len(a[i+1])])\n",
    "    tmp.append(a[-1])\n",
    "    '''\n",
    "    z.B: tmp = \n",
    "    ['B', 'U', 'ND', 'ES', 'WE', 'TT', 'B', 'E', 'WE', 'RB']\n",
    "    '''\n",
    "    knr = 101   # 3. Bestandteil des Kennzeichens ab 101 aufsteigend\n",
    "    for i in range(0,len(tmp),2):\n",
    "        print(tmp[i]+'-'+tmp[i+1]+'-'+str(knr))\n",
    "        knr+=1\n",
    "\n",
    "from collections import deque\n",
    "def bfs(s):\n",
    "    frontier =  deque([s])\n",
    "    prev = {s:None}\n",
    "    nrExplored = 0\n",
    "    while frontier:\n",
    "        state = frontier.popleft()  \n",
    "        nrExplored+=1\n",
    "        if goaltest(state):\n",
    "            return prev,nrExplored\n",
    "        for v in nextstates(state):\n",
    "            if v not in prev:\n",
    "                frontier.append(v)\n",
    "                prev[v] = state\n",
    "    return None,nrExplored      "
   ]
  },
  {
   "cell_type": "code",
   "execution_count": 30,
   "metadata": {},
   "outputs": [
    {
     "name": "stdout",
     "output_type": "stream",
     "text": [
      "27\n",
      "B-U-101\n",
      "ND-ES-102\n",
      "WE-TT-103\n",
      "B-E-104\n",
      "WE-RB-105\n",
      "Wall time: 3 ms\n"
     ]
    }
   ],
   "source": [
    "%%time\n",
    "with open('data/kuerzelliste.txt') as f:\n",
    "    kuerzel = f.read().splitlines()\n",
    "startstate = ('BUNDESWETTBEWERB',0)\n",
    "prev,nrExplored = bfs(startstate) \n",
    "print(nrExplored)\n",
    "if prev is None:\n",
    "    print('keine Lösung')\n",
    "else:\n",
    "    reconstructPath(prev)"
   ]
  },
  {
   "cell_type": "code",
   "execution_count": null,
   "metadata": {},
   "outputs": [],
   "source": []
  }
 ],
 "metadata": {
  "kernelspec": {
   "display_name": "Python 3",
   "language": "python",
   "name": "python3"
  },
  "language_info": {
   "codemirror_mode": {
    "name": "ipython",
    "version": 3
   },
   "file_extension": ".py",
   "mimetype": "text/x-python",
   "name": "python",
   "nbconvert_exporter": "python",
   "pygments_lexer": "ipython3",
   "version": "3.6.5"
  }
 },
 "nbformat": 4,
 "nbformat_minor": 2
}
