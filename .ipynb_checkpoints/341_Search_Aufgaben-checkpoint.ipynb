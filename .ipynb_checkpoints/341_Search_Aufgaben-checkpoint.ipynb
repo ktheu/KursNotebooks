{
 "cells": [
  {
   "cell_type": "code",
   "execution_count": 4,
   "metadata": {},
   "outputs": [],
   "source": [
    "def readdata():\n",
    "    with open('data/kuerzelliste.txt') as f:\n",
    "        kuerzel = f.read().splitlines() \n",
    "    return kuerzel"
   ]
  },
  {
   "cell_type": "code",
   "execution_count": null,
   "metadata": {},
   "outputs": [],
   "source": [
    "readdata()"
   ]
  },
  {
   "cell_type": "markdown",
   "metadata": {},
   "source": [
    "```\n",
    "Ein Knoten im Baum ist ein Tupel\n",
    "status = (wort, nr)\n",
    "wort: String, der noch zu verteilenden Buchstaben\n",
    "nr: 0 oder 1,\n",
    "    0 = als nächstes ist die vordere Position des Nummerzeichens dran (kuerzelliste)\n",
    "    1 = als nächstes ist die mittlere Position des Nummernzeichens dran (1 oder 2 Buchstaben)\n",
    "    \n",
    "```"
   ]
  },
  {
   "cell_type": "code",
   "execution_count": null,
   "metadata": {},
   "outputs": [],
   "source": []
  }
 ],
 "metadata": {
  "kernelspec": {
   "display_name": "Python 3",
   "language": "python",
   "name": "python3"
  },
  "language_info": {
   "codemirror_mode": {
    "name": "ipython",
    "version": 3
   },
   "file_extension": ".py",
   "mimetype": "text/x-python",
   "name": "python",
   "nbconvert_exporter": "python",
   "pygments_lexer": "ipython3",
   "version": "3.6.5"
  }
 },
 "nbformat": 4,
 "nbformat_minor": 2
}
