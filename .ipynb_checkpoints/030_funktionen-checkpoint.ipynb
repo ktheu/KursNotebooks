{
 "cells": [
  {
   "cell_type": "markdown",
   "metadata": {},
   "source": [
    "# Funktionen"
   ]
  },
  {
   "cell_type": "markdown",
   "metadata": {},
   "source": [
    "Funktionen beginnen mit dem Schlüsselwort *def*. Sie haben\n",
    " - einen Namen\n",
    " - Parameter (0 oder mehr)\n",
    " - einen docstring (optional, aber empfohlen)\n",
    " - einen Funktionsrumpf\n",
    " \n",
    "Mit *return* können Funktionen eine Wert zurückgeben. Fehlt *return* wird *None* zurückgegeben."
   ]
  },
  {
   "cell_type": "markdown",
   "metadata": {},
   "source": [
    "### Funktionen ohne return"
   ]
  },
  {
   "cell_type": "code",
   "execution_count": null,
   "metadata": {},
   "outputs": [],
   "source": [
    "def sterne():\n",
    "    print('*****')"
   ]
  },
  {
   "cell_type": "code",
   "execution_count": null,
   "metadata": {},
   "outputs": [],
   "source": [
    "sterne()"
   ]
  },
  {
   "cell_type": "code",
   "execution_count": null,
   "metadata": {},
   "outputs": [],
   "source": [
    "a = sterne()\n",
    "print(a)"
   ]
  },
  {
   "cell_type": "markdown",
   "metadata": {},
   "source": [
    "### Funktionen mit return\n"
   ]
  },
  {
   "cell_type": "code",
   "execution_count": null,
   "metadata": {},
   "outputs": [],
   "source": [
    "def sterne():\n",
    "    return '*****'\n",
    "\n",
    "a = sterne()\n",
    "print(a)\n"
   ]
  },
  {
   "cell_type": "code",
   "execution_count": null,
   "metadata": {},
   "outputs": [],
   "source": [
    "def sterne(k):        \n",
    "    return k * '*'      \n",
    "\n",
    "b = sterne(12)           # k erhält durch den Aufruf den Wert 12\n",
    "print(b)\n"
   ]
  },
  {
   "cell_type": "code",
   "execution_count": null,
   "metadata": {},
   "outputs": [],
   "source": [
    "def sterne(k = 3):       # k ist optionaler Paramenter mit default 3 \n",
    "    return k * '*' \n",
    "\n",
    "print(sterne(12)) \n",
    "print(sterne()) "
   ]
  },
  {
   "cell_type": "markdown",
   "metadata": {},
   "source": [
    "Der *docstring* beschreibt die Anforderungen an die Eingabeparameter und was die Funktion zurückgibt."
   ]
  },
  {
   "cell_type": "code",
   "execution_count": null,
   "metadata": {},
   "outputs": [],
   "source": [
    "def zeichen(k, c):       \n",
    "    '''\n",
    "    k: positive ganze Zahl\n",
    "    c: String \n",
    "    returns: k mal den String\n",
    "    '''\n",
    "    return k * c"
   ]
  },
  {
   "cell_type": "code",
   "execution_count": null,
   "metadata": {},
   "outputs": [],
   "source": [
    "x = zeichen(15,'a')\n",
    "print(x)"
   ]
  },
  {
   "cell_type": "code",
   "execution_count": null,
   "metadata": {},
   "outputs": [],
   "source": [
    "y = zeichen(20,'y-')\n",
    "print(y)"
   ]
  },
  {
   "cell_type": "code",
   "execution_count": null,
   "metadata": {},
   "outputs": [],
   "source": [
    "def zeichen(k, c ='*'):    # optionale Parameter am Ende der Parameterliste\n",
    "    '''\n",
    "    k: positive ganze Zahl\n",
    "    c: String\n",
    "    returns: k mal den String\n",
    "    '''\n",
    "    return k * c\n"
   ]
  },
  {
   "cell_type": "code",
   "execution_count": null,
   "metadata": {},
   "outputs": [],
   "source": [
    "help(zeichen)"
   ]
  },
  {
   "cell_type": "code",
   "execution_count": null,
   "metadata": {},
   "outputs": [],
   "source": [
    "zeichen(5,'#')"
   ]
  },
  {
   "cell_type": "code",
   "execution_count": null,
   "metadata": {},
   "outputs": [],
   "source": [
    "zeichen(20)"
   ]
  },
  {
   "cell_type": "code",
   "execution_count": null,
   "metadata": {},
   "outputs": [],
   "source": [
    "zeichen('-')"
   ]
  },
  {
   "cell_type": "markdown",
   "metadata": {},
   "source": [
    "In einer Funktion kann es mehrere return Anweisungen geben, aber bei der ersten Ausführung von return wird die Funktion sofort verlassen."
   ]
  },
  {
   "cell_type": "code",
   "execution_count": null,
   "metadata": {},
   "outputs": [],
   "source": [
    "def temperatur(k):\n",
    "    if k >= 30: return 'heiß'\n",
    "    if k >= 15: return 'warm'\n",
    "    return 'kalt'\n"
   ]
  },
  {
   "cell_type": "code",
   "execution_count": null,
   "metadata": {},
   "outputs": [],
   "source": [
    "print(temperatur(40))"
   ]
  },
  {
   "cell_type": "markdown",
   "metadata": {},
   "source": [
    "Die Version mit *print* muss mit elif und else arbeiten.  "
   ]
  },
  {
   "cell_type": "code",
   "execution_count": null,
   "metadata": {},
   "outputs": [],
   "source": [
    "def temperatur2(k):\n",
    "    if k >= 30: print('heiß')\n",
    "    elif k >= 15: print('warm')\n",
    "    else: print('kalt')\n"
   ]
  },
  {
   "cell_type": "code",
   "execution_count": null,
   "metadata": {},
   "outputs": [],
   "source": [
    "temperatur2(40)"
   ]
  },
  {
   "cell_type": "markdown",
   "metadata": {},
   "source": [
    "Wir werden in der Regel keine input- oder print-Anweisungen innerhalb von Funktionen verwenden.\n",
    "\n",
    "**Funktionen sollten alles, was sie für ihre Arbeit benötigen, über die Parameter erhalten und alle Ergebnisse mittels return zurückgeben.**\n",
    "\n"
   ]
  },
  {
   "cell_type": "code",
   "execution_count": null,
   "metadata": {},
   "outputs": [],
   "source": [
    "k = int(input('Bitte Temperatur eingeben: '))\n",
    "s = temperatur(k)\n",
    "print('Es ist',s)"
   ]
  },
  {
   "cell_type": "markdown",
   "metadata": {},
   "source": [
    "#### Beispiel\n"
   ]
  },
  {
   "cell_type": "markdown",
   "metadata": {},
   "source": [
    "Wenn wir alle natürliche Zahlen unter 10 auflisten, die Vielfache von 3 oder 5 sind, dann erhalten wir  3, 5, 6, 9. Ihre Summe ist 23. \n",
    "\n",
    "Schreibe ein Programm, das eine Zahl einliest und die entsprechende Summe ausgibt. Beispieldialog:\n",
    "\n",
    "```\n",
    "Eingabe: 100\n",
    "Die Summe der Vielfachen von 3 und 5, die kleiner sind als 100, ist 2318\n",
    "```"
   ]
  },
  {
   "cell_type": "code",
   "execution_count": null,
   "metadata": {},
   "outputs": [],
   "source": [
    "def summeVielfache(n):\n",
    "    pass\n",
    "\n",
    "m = int(input(\"Eingabe: \"))\n",
    "x = summeVielfache(m)\n",
    "print(\"Die Summe der Vielfachen von 3 und 5, die kleiner sind als \" + str(m) + \", ist \" + str(x))"
   ]
  },
  {
   "cell_type": "markdown",
   "metadata": {},
   "source": [
    "### Lokale und globale Variablen\n"
   ]
  },
  {
   "cell_type": "markdown",
   "metadata": {},
   "source": [
    "Variablen, die außerhalb der Funktionen definiert werden, heißen *globale Variablen* und gehören zum *global frame*. Beim Aufruf einer Funktion entsteht ein neuer *frame* für die *lokalen Variablen*. Dies lässt sich gut im \n",
    "__[Python Tutor](http://www.pythontutor.com/visualize.html#mode=edit)__ oder im Debug-Modus von *Thonny* verfolgen."
   ]
  },
  {
   "cell_type": "code",
   "execution_count": null,
   "metadata": {},
   "outputs": [],
   "source": [
    "def aufsum(x, y):\n",
    "    summe = 0\n",
    "    while x <= y:\n",
    "        summe += x\n",
    "        x += 1             # das lokale x verändert seinen Wert\n",
    "    return summe\n",
    "\n",
    "x = 4\n",
    "z = 6\n",
    "y = aufsum(x, z)\n",
    "print(y)\n",
    "print(x)                   # das globale x bleibt unverändert"
   ]
  },
  {
   "cell_type": "markdown",
   "metadata": {},
   "source": [
    "Funktionen können auf globale Variablen lesend zugreifen."
   ]
  },
  {
   "cell_type": "code",
   "execution_count": null,
   "metadata": {},
   "outputs": [],
   "source": [
    "x = 10      # globale Variable\n",
    "def f(k):\n",
    "    return k + x\n",
    "\n",
    "print(f(1))"
   ]
  },
  {
   "cell_type": "markdown",
   "metadata": {},
   "source": [
    "Lokale Variablen verdecken gleichnamige globale Variablen."
   ]
  },
  {
   "cell_type": "code",
   "execution_count": null,
   "metadata": {},
   "outputs": [],
   "source": [
    "x = 10       \n",
    "def f(k):\n",
    "    x = 5    \n",
    "    return k + x\n",
    "\n",
    "print(f(1))\n",
    "print(x)"
   ]
  },
  {
   "cell_type": "markdown",
   "metadata": {},
   "source": [
    "Innerhalb einer Funktion kann man eine globale Variable nicht verändern, es sei denn, man erklärt sie explizit als global"
   ]
  },
  {
   "cell_type": "code",
   "execution_count": null,
   "metadata": {},
   "outputs": [],
   "source": [
    "x = 10\n",
    "def f():\n",
    "    global x    \n",
    "    x = 11\n",
    "\n",
    "f()\n",
    "print(x)"
   ]
  },
  {
   "cell_type": "markdown",
   "metadata": {},
   "source": [
    "**Funktionen sollten für ihre Arbeit keine globalen Variablen benötigen, sondern nur ihre Parameter.**"
   ]
  },
  {
   "cell_type": "markdown",
   "metadata": {},
   "source": [
    "### Prüfende Funktionen\n",
    "\n",
    "Eine Funktion, die etwas prüft, gibt einen booleschen Wert zurück. \n",
    "\n",
    "#### Beispiel: \n",
    "Schreibe eine Funktion, die zwei Strings erhält und die prüft, ob im ersten mehr Vokale vorkommen als im zweiten.\n",
    "\n"
   ]
  },
  {
   "cell_type": "code",
   "execution_count": null,
   "metadata": {},
   "outputs": [],
   "source": []
  },
  {
   "cell_type": "markdown",
   "metadata": {},
   "source": [
    "### Funktionen als Argumente\n",
    "Die Argumente von Funktionen können beliebige Typen sein, auch andere Funktionen."
   ]
  },
  {
   "cell_type": "code",
   "execution_count": null,
   "metadata": {},
   "outputs": [],
   "source": [
    "def betrag(x):\n",
    "    if x > 0: return x\n",
    "    return -x\n",
    "\n",
    "def plus10(x):\n",
    "    return x+10\n",
    "\n",
    "def verknuepf(f1,f2,k):\n",
    "    return f1(f2(k))\n",
    "\n",
    "print(verknuepf(betrag,plus10,-5))"
   ]
  },
  {
   "cell_type": "code",
   "execution_count": null,
   "metadata": {},
   "outputs": [],
   "source": [
    "print(verknuepf(plus10,betrag,-5))"
   ]
  }
 ],
 "metadata": {
  "kernelspec": {
   "display_name": "Python 3",
   "language": "python",
   "name": "python3"
  },
  "language_info": {
   "codemirror_mode": {
    "name": "ipython",
    "version": 3
   },
   "file_extension": ".py",
   "mimetype": "text/x-python",
   "name": "python",
   "nbconvert_exporter": "python",
   "pygments_lexer": "ipython3",
   "version": "3.6.5"
  }
 },
 "nbformat": 4,
 "nbformat_minor": 2
}
