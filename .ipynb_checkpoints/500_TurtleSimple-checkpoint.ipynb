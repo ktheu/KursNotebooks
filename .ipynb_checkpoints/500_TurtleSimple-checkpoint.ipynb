{
 "cells": [
  {
   "cell_type": "code",
   "execution_count": null,
   "metadata": {},
   "outputs": [],
   "source": [
    "import turtle as t\n",
    "t.forward(100)   # vorwärts\n",
    "t.back(100)      # rückwärts bewegen\n",
    "t.left(90)       # links \n",
    "t.right(90)      # rechts drehen\n",
    "\n",
    "t.penup()           \n",
    "t.pendown()\n",
    "t.setheading(120) # Richtung setzen\n",
    "\n",
    "t.setpos(30,90)\n",
    "t.setx(40)\n",
    "t.sety(90)\n",
    "t.home()          # nach (0/0)\n",
    "\n",
    "t.circle(30)      # Kreis mit Radius 30\n",
    "t.circle(20,90)   # Kreisbogen 90 Grad nach links, Radius 20\n",
    "\n",
    "t.dot(20,'red')  # roter Punkt mit Dicke 20\n",
    "\n",
    "t.clear()         # löscht alle Zeichnungen, Turtle unverändert\n",
    "t.reset()         # löscht alle Zeichnungen, Turtle auf Anfangszustand\n",
    "\n",
    "t.speed(k)        # k=1 sehr langsam, 2 langsam, 6 normal, 10 schnell, 0 ganz schnell\n",
    "t.hideturtle()    # Turtle verbergen\n",
    "\n",
    "t.tracer(0,0)     # Animation ausschalten\n",
    "t.update()        # bei ausgeschalteter Animation Zeichnung aktualisieren       \n",
    "\n",
    "x, y = t.position()    # Position abfragen\n",
    "winkel = t.heading()   # Richtung abfragen\n",
    "\n",
    "t.onscreenclick(mleft,btn=1)    # function mleft wird bei linkem Mausclick aufgerufen\n",
    "t.onscreenclick(mright,btn=3)   # function mright wird bei rechtem Mausclick aufgerufen\n",
    "\n",
    "t.listen()           # Turtle hört auf Keyboard events\n",
    "t.onkey(f_key,'f')   # function f_key wird bei Taste 'f' aufgerufen"
   ]
  }
 ],
 "metadata": {
  "kernelspec": {
   "display_name": "Python 3",
   "language": "python",
   "name": "python3"
  },
  "language_info": {
   "codemirror_mode": {
    "name": "ipython",
    "version": 3
   },
   "file_extension": ".py",
   "mimetype": "text/x-python",
   "name": "python",
   "nbconvert_exporter": "python",
   "pygments_lexer": "ipython3",
   "version": "3.6.5"
  }
 },
 "nbformat": 4,
 "nbformat_minor": 2
}
