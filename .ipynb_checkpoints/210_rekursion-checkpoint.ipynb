{
 "cells": [
  {
   "cell_type": "markdown",
   "metadata": {},
   "source": [
    "## Rekursion\n",
    "\n",
    "### Fakultät"
   ]
  },
  {
   "cell_type": "code",
   "execution_count": 8,
   "metadata": {},
   "outputs": [],
   "source": [
    "# iterativ\n",
    "def fakultaet(n):\n",
    "    '''\n",
    "    n: ganze Zahl >= 0\n",
    "    returns: n! (= n Fakultät)\n",
    "    '''\n",
    "    result = 1\n",
    "    for i in range(1,n+1):\n",
    "        result = result * i\n",
    "    return result"
   ]
  },
  {
   "cell_type": "code",
   "execution_count": null,
   "metadata": {},
   "outputs": [],
   "source": [
    "# rekursiv \n",
    "def fakultaet(n):\n",
    "    '''\n",
    "    n: ganze Zahl >= 0\n",
    "    returns: n! (= n Fakultät)\n",
    "    '''\n",
    "    if n == 0: return 1\n",
    "    return n * fakultaet(n-1)"
   ]
  },
  {
   "cell_type": "code",
   "execution_count": 10,
   "metadata": {},
   "outputs": [
    {
     "data": {
      "text/plain": [
       "3628800"
      ]
     },
     "execution_count": 10,
     "metadata": {},
     "output_type": "execute_result"
    }
   ],
   "source": [
    "fakultaet(10)"
   ]
  },
  {
   "cell_type": "markdown",
   "metadata": {},
   "source": [
    "### Zweierpotenz"
   ]
  },
  {
   "cell_type": "code",
   "execution_count": 13,
   "metadata": {},
   "outputs": [],
   "source": [
    "# iterativ\n",
    "def zweihoch(n):\n",
    "    '''\n",
    "    n: ganze Zahl >= 0\n",
    "    returns: 2 hoch n\n",
    "    '''\n",
    "    result = 1\n",
    "    for i in range(1,n+1):\n",
    "        result = result * 2\n",
    "    return result"
   ]
  },
  {
   "cell_type": "code",
   "execution_count": 15,
   "metadata": {},
   "outputs": [],
   "source": [
    "# rekursiv\n",
    "def zweihoch(n):\n",
    "    '''\n",
    "    n: ganze Zahl >= 0\n",
    "    returns: 2 hoch n\n",
    "    '''\n",
    "    if n == 0: return 1\n",
    "    return 2 * zweihoch(n-1)"
   ]
  },
  {
   "cell_type": "code",
   "execution_count": 16,
   "metadata": {},
   "outputs": [
    {
     "data": {
      "text/plain": [
       "1024"
      ]
     },
     "execution_count": 16,
     "metadata": {},
     "output_type": "execute_result"
    }
   ],
   "source": [
    "zweihoch(10)"
   ]
  },
  {
   "cell_type": "markdown",
   "metadata": {},
   "source": [
    "### Türme von Hanoi\n",
    "\n",
    "<img src=\"./img/rekursion_01.png\" width=\"300\"/>"
   ]
  },
  {
   "cell_type": "code",
   "execution_count": 17,
   "metadata": {},
   "outputs": [],
   "source": [
    "def hanoi(n, start, ziel, zwischen):\n",
    "    '''\n",
    "    n: ganze Zahl >= 0\n",
    "    start, ziel, zwischen: Strings, die 3 Stapel bezeichnen\n",
    "    returns: None, druckt Anweisungen für die Verlegung von n Scheiben von\n",
    "       Stapel start nach Stapel ziel unter Zuhilfenahme von Stapel zwischen\n",
    "       nach den Regeln der 'Türme von Hanoi'.\n",
    "    '''\n",
    "    if n == 0: return\n",
    "    hanoi(n-1,start,zwischen,ziel)\n",
    "    print(\"Scheibe\",n,\"von\",start,\"nach\",ziel)\n",
    "    hanoi(n-1,zwischen,ziel,start)"
   ]
  },
  {
   "cell_type": "code",
   "execution_count": 18,
   "metadata": {},
   "outputs": [
    {
     "name": "stdout",
     "output_type": "stream",
     "text": [
      "Scheibe 1 von a nach c\n",
      "Scheibe 2 von a nach b\n",
      "Scheibe 1 von c nach b\n",
      "Scheibe 3 von a nach c\n",
      "Scheibe 1 von b nach a\n",
      "Scheibe 2 von b nach c\n",
      "Scheibe 1 von a nach c\n"
     ]
    }
   ],
   "source": [
    "hanoi(3,'a','c','b')"
   ]
  },
  {
   "cell_type": "markdown",
   "metadata": {},
   "source": [
    "### Euklidscher Algorithmus"
   ]
  },
  {
   "cell_type": "code",
   "execution_count": 27,
   "metadata": {},
   "outputs": [],
   "source": [
    "# klassischer Euklidscher Algorithums\n",
    "def euklid(a,b):\n",
    "    '''\n",
    "    a, b: positive ganze Zahlen\n",
    "    returns: größter gemeinsamer Teiler von a und b\n",
    "    '''\n",
    "    if a == b: return a\n",
    "    if a < b:\n",
    "        return euklid(a,b-a)\n",
    "    else:\n",
    "        return euklid(a-b,b)"
   ]
  },
  {
   "cell_type": "code",
   "execution_count": 28,
   "metadata": {},
   "outputs": [
    {
     "data": {
      "text/plain": [
       "6"
      ]
     },
     "execution_count": 28,
     "metadata": {},
     "output_type": "execute_result"
    }
   ],
   "source": [
    "euklid(84,54)"
   ]
  },
  {
   "cell_type": "code",
   "execution_count": 29,
   "metadata": {},
   "outputs": [],
   "source": [
    "# moderner Euklidscher Algorithums\n",
    "def turboEuklid(a,b):\n",
    "    '''\n",
    "    a, b: positive ganze Zahlen\n",
    "    returns: größter gemeinsamer Teiler von a und b\n",
    "    '''\n",
    "    if b == 0: return a\n",
    "    return turboEuklid(b, a % b)"
   ]
  },
  {
   "cell_type": "code",
   "execution_count": 30,
   "metadata": {},
   "outputs": [
    {
     "data": {
      "text/plain": [
       "6"
      ]
     },
     "execution_count": 30,
     "metadata": {},
     "output_type": "execute_result"
    }
   ],
   "source": [
    "turboEuklid(84,54)"
   ]
  },
  {
   "cell_type": "markdown",
   "metadata": {},
   "source": [
    "### Binäre Suche"
   ]
  },
  {
   "cell_type": "code",
   "execution_count": 36,
   "metadata": {},
   "outputs": [],
   "source": [
    "def binaereSuche(a,x,i=0,j=None):\n",
    "    '''\n",
    "    a: sortierte Liste mit Zahlen\n",
    "    x: Zahl\n",
    "    i,j: ints zwischen 0 und len(a)-1\n",
    "    returns: True, wenn x im Bereich zwischen i und j (einschließlich) in\n",
    "       Liste a ist.\n",
    "    '''\n",
    "    if j is None: j = len(a)-1\n",
    "    if i > j: return False\n",
    "    mitte = (i + j) // 2\n",
    "    if a[mitte] == x: return True\n",
    "    if a[mitte] < x:\n",
    "        return binaereSuche(a,x,mitte+1,j)\n",
    "    else:\n",
    "        return binaereSuche(a,x,i,mitte-1)\n"
   ]
  },
  {
   "cell_type": "code",
   "execution_count": 37,
   "metadata": {},
   "outputs": [
    {
     "name": "stdout",
     "output_type": "stream",
     "text": [
      "True\n",
      "False\n"
     ]
    }
   ],
   "source": [
    "a = [2, 4, 6, 12, 22, 42, 49]\n",
    "print(binaereSuche(a,42))\n",
    "print(binaereSuche(a,13))"
   ]
  },
  {
   "cell_type": "code",
   "execution_count": null,
   "metadata": {},
   "outputs": [],
   "source": []
  }
 ],
 "metadata": {
  "kernelspec": {
   "display_name": "Python 3",
   "language": "python",
   "name": "python3"
  },
  "language_info": {
   "codemirror_mode": {
    "name": "ipython",
    "version": 3
   },
   "file_extension": ".py",
   "mimetype": "text/x-python",
   "name": "python",
   "nbconvert_exporter": "python",
   "pygments_lexer": "ipython3",
   "version": "3.6.5"
  }
 },
 "nbformat": 4,
 "nbformat_minor": 2
}
