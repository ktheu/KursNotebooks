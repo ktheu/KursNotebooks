{
 "cells": [
  {
   "cell_type": "markdown",
   "metadata": {},
   "source": [
    "# Pygame\n",
    "* Die Koordinate (0,0) ist die obere linke Ecke des Zeichenfensters.\n",
    "* Auf die Leinwand können Text und Bilder mit der Methode blit() \"gestempelt\" werden."
   ]
  },
  {
   "cell_type": "markdown",
   "metadata": {},
   "source": [
    "Die Struktur eines Programms:\n",
    "\n"
   ]
  },
  {
   "cell_type": "code",
   "execution_count": null,
   "metadata": {},
   "outputs": [],
   "source": [
    "import pygame\n",
    "pygame.init()\n",
    "\n",
    "size = (700,500)     \n",
    "screen = pygame.display.set_mode(size)\n",
    "pygame.display.set_caption(\"muster\")\n",
    "BLACK = (0,0,0)\n",
    "WHITE = (255,255,255)\n",
    "\n",
    "done = False\n",
    "clock = pygame.time.Clock()   # Geschwindigkeit screen upgedate\n",
    "\n",
    "# -------- Main Program Loop -----------\n",
    "while not done:\n",
    "    # --- Main event loop\n",
    "    for event in pygame.event.get():    \n",
    "        if event.type == pygame.QUIT:   # user hat auf close geclicked\n",
    "            done = True  \n",
    "            \n",
    "    # --- Game Logik \n",
    "    \n",
    "    # --- Code zum Zeichnen\n",
    "    screen.fill(WHITE)\n",
    "\n",
    "    # --- neuen frame anzeigen\n",
    "    pygame.display.flip()\n",
    "    \n",
    "    # --- begrenze Bilder pro Sekunde\n",
    "    clock.tick(20)\n",
    "\n",
    "pygame.quit()    "
   ]
  },
  {
   "cell_type": "markdown",
   "metadata": {},
   "source": [
    "### Hello World\n"
   ]
  },
  {
   "cell_type": "code",
   "execution_count": null,
   "metadata": {},
   "outputs": [],
   "source": [
    "import pygame\n",
    "pygame.init()\n",
    "\n",
    "size = (700,500)     \n",
    "screen = pygame.display.set_mode(size)\n",
    "pygame.display.set_caption(\"hello world\")\n",
    "BLACK = (0,0,0)\n",
    "WHITE = (255,255,255)\n",
    "\n",
    "done = False\n",
    "clock = pygame.time.Clock()   # für Kontrolle update-Geschwindigkeit  \n",
    "\n",
    "# -------- Main Program Loop -----------\n",
    "while not done:\n",
    "    for event in pygame.event.get():    # event loop\n",
    "        if event.type == pygame.QUIT:   # user hat auf close geclicked\n",
    "            done = True  \n",
    "            \n",
    "    # --- Game Logik\n",
    "    font = pygame.font.SysFont('Consolas',25,True,False)\n",
    "    text = font.render(\"Hello World\",True,BLACK)\n",
    "    \n",
    "    # --- Code zum Zeichnen\n",
    "    screen.fill(WHITE)\n",
    "    screen.blit(text,[50,50])  \n",
    "\n",
    "    # --- Zeige neuen frame\n",
    "    pygame.display.flip()  \n",
    "    clock.tick(20)        # frames pro sekunde\n",
    "    \n",
    "\n",
    "pygame.quit()    "
   ]
  },
  {
   "cell_type": "markdown",
   "metadata": {},
   "source": [
    "### Linie, Rechteck, Ellipse"
   ]
  },
  {
   "cell_type": "code",
   "execution_count": null,
   "metadata": {},
   "outputs": [],
   "source": [
    "import pygame  \n",
    "pygame.init()\n",
    "\n",
    "size = (350,200)     \n",
    "screen = pygame.display.set_mode(size)\n",
    "pygame.display.set_caption(\"line, rect and ellipse\")\n",
    "BLACK = (0,0,0)\n",
    "WHITE = (255,255,255)\n",
    "\n",
    "done = False\n",
    "clock = pygame.time.Clock()   # Geschwindigkeit screen upgedate\n",
    "\n",
    "# -------- Main Program Loop -----------\n",
    "while not done:\n",
    "    for event in pygame.event.get():    # event loop\n",
    "        if event.type == pygame.QUIT:   # user hat auf close geclicked\n",
    "            done = True  \n",
    "            \n",
    "    # --- Game Logik\n",
    "    lineA1 = [20,20]\n",
    "    lineA2= [270,120]\n",
    "    rectA = [20,20,250,100]\n",
    "    ellipseA = [20,20,250,100]\n",
    "    \n",
    "    # --- Code zum Zeichnen\n",
    "    screen.fill(WHITE)\n",
    "    pygame.draw.line(screen,BLACK,lineA1,lineA2,2)\n",
    "    pygame.draw.rect(screen,BLACK,rectA,2)\n",
    "    pygame.draw.ellipse(screen,BLACK,ellipseA,2)\n",
    "    \n",
    "    pygame.display.flip() # zeige neuen frame  \n",
    "    clock.tick(20)        # frames pro sekunde\n",
    "    \n",
    "\n",
    "pygame.quit()    "
   ]
  }
 ],
 "metadata": {
  "kernelspec": {
   "display_name": "Python 3",
   "language": "python",
   "name": "python3"
  },
  "language_info": {
   "codemirror_mode": {
    "name": "ipython",
    "version": 3
   },
   "file_extension": ".py",
   "mimetype": "text/x-python",
   "name": "python",
   "nbconvert_exporter": "python",
   "pygments_lexer": "ipython3",
   "version": "3.6.5"
  }
 },
 "nbformat": 4,
 "nbformat_minor": 2
}
