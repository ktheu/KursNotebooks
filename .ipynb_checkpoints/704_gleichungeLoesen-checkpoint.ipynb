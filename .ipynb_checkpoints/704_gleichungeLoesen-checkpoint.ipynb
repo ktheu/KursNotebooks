{
 "cells": [
  {
   "cell_type": "markdown",
   "metadata": {},
   "source": [
    "### Lösen von Gleichungen mit Sympy"
   ]
  },
  {
   "cell_type": "markdown",
   "metadata": {},
   "source": [
    "#### Lineare Gleichungen"
   ]
  },
  {
   "cell_type": "code",
   "execution_count": 66,
   "metadata": {},
   "outputs": [
    {
     "data": {
      "text/plain": [
       "{(1, -2, -2)}"
      ]
     },
     "execution_count": 66,
     "metadata": {},
     "output_type": "execute_result"
    }
   ],
   "source": [
    "x, y, z, k, t = symbols(\"x y z k t\", real=True)\n",
    "\n",
    "Eqns = [Eq(3*x + 2*y - z, 1), 2*x - 2*y + 4*z + 2, - x + y/2 - z]\n",
    "linsolve(Eqns, x, y, z)"
   ]
  },
  {
   "cell_type": "code",
   "execution_count": 42,
   "metadata": {},
   "outputs": [
    {
     "name": "stdout",
     "output_type": "stream",
     "text": [
      "Eine Lösung\n",
      "{(3, 4, 5)} {x: 3, y: 4, z: 5}\n",
      "Keine Lösung\n",
      "EmptySet() []\n",
      "Unendlich viele Lösungen\n",
      "(3, 4, 0)\n",
      "(3, 3, 1)\n",
      "(3, -z + 4, z) {y: -z + 4, x: 3}\n"
     ]
    }
   ],
   "source": [
    "from sympy import *\n",
    "\n",
    "print('Eine Lösung') \n",
    "equations = [\n",
    "    Eq(x,3),\n",
    "    Eq(y,4),\n",
    "    Eq(z,5)\n",
    "]\n",
    "\n",
    "erg1 = linsolve(equations,x,y,z)\n",
    "erg2 = solve(equations)\n",
    "print(erg1, erg2)\n",
    "\n",
    "print('Keine Lösung')\n",
    "equations = [\n",
    "    Eq(x,3),\n",
    "    Eq(y,4),\n",
    "    Eq(x,5)\n",
    "]\n",
    "erg1 = linsolve(equations,x,y,z)\n",
    "erg2 = solve(equations)\n",
    "print(erg1, erg2)\n",
    "\n",
    "print('Unendlich viele Lösungen')\n",
    "equations = [\n",
    "    Eq(x,3),\n",
    "    Eq(y+z,4),\n",
    "    Eq(x,3)\n",
    "]\n",
    "erg1, = linsolve(equations,x,y,z)  # sequence unpacking\n",
    "print(erg1.subs(z,0))\n",
    "print(erg1.subs(z,1))\n",
    "\n",
    "\n",
    "erg2 = solve(equations)\n",
    "print(erg1, erg2)"
   ]
  },
  {
   "cell_type": "markdown",
   "metadata": {},
   "source": [
    "#### Parallelität zweier Geraden"
   ]
  },
  {
   "cell_type": "code",
   "execution_count": 92,
   "metadata": {},
   "outputs": [
    {
     "name": "stdout",
     "output_type": "stream",
     "text": [
      "(1, 4)\n",
      "(0, 'nicht parallel')\n",
      "(1, 2)\n"
     ]
    }
   ],
   "source": [
    "import math\n",
    "def parallel(x1,x2,x3,y1,y2,y3):\n",
    "    '''\n",
    "    returns Tupel (f,k)\n",
    "    f = 0: nicht parallel\n",
    "    f = 1: parallel mit x * k = y\n",
    "    \n",
    "    '''\n",
    "    equations = [\n",
    "        Eq(x1 * k, y1),\n",
    "        Eq(x2 * k, y2),\n",
    "        Eq(x3 * k, y3)\n",
    "    ]\n",
    "    \n",
    "    if not linsolve(equations,k) :\n",
    "        return (0,'nicht parallel')\n",
    "    else:\n",
    "        erg, = linsolve(equations,k) \n",
    "        return (1,erg[0])\n",
    "\n",
    "def orthogonal(x1,x2,x3,y1,y2,y3):\n",
    "    return math.isclose(x1*y1+x2*y2+x3*y3,0)\n",
    "    \n",
    "print(parallel(2,3,1,8,12,4))    \n",
    "print(parallel(1,4,3,2,3,-1))\n",
    "print(parallel(1,4,3,2,8,6))\n"
   ]
  },
  {
   "cell_type": "code",
   "execution_count": 86,
   "metadata": {},
   "outputs": [
    {
     "name": "stdout",
     "output_type": "stream",
     "text": [
      "(1, 3)\n",
      "(0, 'nicht auf Gerade')\n"
     ]
    }
   ],
   "source": [
    "def punktAufGerade(s1,s2,s3,r1,r2,r3,p1,p2,p3):\n",
    "    equations = [\n",
    "        Eq(s1 + r1 * k, p1),\n",
    "        Eq(s2 + r2 * k, p2),\n",
    "        Eq(s3 + r3 * k, p3),\n",
    "    ]\n",
    "    if not linsolve(equations,k) :\n",
    "        return (0,'nicht auf Gerade')\n",
    "    else:\n",
    "        erg, = linsolve(equations,k) \n",
    "        return (1,erg[0])\n",
    "    \n",
    "print(punktAufGerade(1,0,1,1,2,-2,4,6,-5))    \n",
    "print(punktAufGerade(1,0,1,1,2,-2,4,6,-6))  \n",
    "    "
   ]
  },
  {
   "cell_type": "code",
   "execution_count": 91,
   "metadata": {},
   "outputs": [
    {
     "name": "stdout",
     "output_type": "stream",
     "text": [
      "(3, (0, 6, 5))\n",
      "(2, 'windschief')\n",
      "(1, 'parallel')\n",
      "(0, 'identisch')\n"
     ]
    }
   ],
   "source": [
    "def lageZweierGeraden(s1,s2,s3,r1,r2,r3,s4,s5,s6,r4,r5,r6):\n",
    "    if parallel(r1,r2,r3,r4,r5,r6)[0] == 1:\n",
    "        if punktAufGerade(s1,s2,s3,r1,r2,r3,s4,s5,s6)[0] == 1:\n",
    "            return (0,'identisch')     \n",
    "        else: return (1,'parallel')   \n",
    "    else:\n",
    "        equations = [\n",
    "            Eq(s1 + r1 * k, s4 + r4 * t),\n",
    "            Eq(s2 + r2 * k, s5 + r5 * t),\n",
    "            Eq(s3 + r3 * k, s6 + r6 * t),\n",
    "        ]\n",
    "        if not linsolve(equations,k,t) :\n",
    "            return (2,\"windschief\")     \n",
    "        else:\n",
    "            erg, = linsolve(equations,k,t) \n",
    "            n = erg[0]\n",
    "            \n",
    "            return (3,(s1 + r1 * n, s2 + r2 * n, s3 + r3 * n))\n",
    "        \n",
    "        \n",
    "print(lageZweierGeraden(-1,2,2,1,4,3,0,6,5,2,3,-1))   \n",
    "print(lageZweierGeraden(-1,2,2,1,4,3,1,2,5,2,3,-1))\n",
    "print(lageZweierGeraden(-1,2,2,1,4,3,-1,6,5,2,8,6))\n",
    "print(lageZweierGeraden(-1,2,2,1,4,3,0,6,5,2,8,6))"
   ]
  },
  {
   "cell_type": "code",
   "execution_count": 94,
   "metadata": {},
   "outputs": [
    {
     "ename": "NameError",
     "evalue": "name 'orthonal' is not defined",
     "output_type": "error",
     "traceback": [
      "\u001b[1;31m---------------------------------------------------------------------------\u001b[0m",
      "\u001b[1;31mNameError\u001b[0m                                 Traceback (most recent call last)",
      "\u001b[1;32m<ipython-input-94-0fff8381c2e9>\u001b[0m in \u001b[0;36m<module>\u001b[1;34m()\u001b[0m\n\u001b[0;32m      6\u001b[0m             \u001b[1;32mreturn\u001b[0m \u001b[1;33m(\u001b[0m\u001b[1;36m1\u001b[0m\u001b[1;33m,\u001b[0m\u001b[1;34m'Gerade parallel zur Ebene'\u001b[0m\u001b[1;33m)\u001b[0m\u001b[1;33m\u001b[0m\u001b[0m\n\u001b[0;32m      7\u001b[0m \u001b[1;33m\u001b[0m\u001b[0m\n\u001b[1;32m----> 8\u001b[1;33m \u001b[0mprint\u001b[0m\u001b[1;33m(\u001b[0m\u001b[0mlageEbeneGerade\u001b[0m\u001b[1;33m(\u001b[0m\u001b[1;36m2\u001b[0m\u001b[1;33m,\u001b[0m\u001b[1;36m3\u001b[0m\u001b[1;33m,\u001b[0m\u001b[1;33m-\u001b[0m\u001b[1;36m1\u001b[0m\u001b[1;33m,\u001b[0m\u001b[1;36m4\u001b[0m\u001b[1;33m,\u001b[0m\u001b[1;36m3\u001b[0m\u001b[1;33m,\u001b[0m\u001b[1;36m2\u001b[0m\u001b[1;33m,\u001b[0m\u001b[1;36m1\u001b[0m\u001b[1;33m,\u001b[0m\u001b[1;36m1\u001b[0m\u001b[1;33m,\u001b[0m\u001b[1;33m-\u001b[0m\u001b[1;36m1\u001b[0m\u001b[1;33m,\u001b[0m\u001b[1;33m-\u001b[0m\u001b[1;36m1\u001b[0m\u001b[1;33m)\u001b[0m\u001b[1;33m)\u001b[0m\u001b[1;33m\u001b[0m\u001b[0m\n\u001b[0m",
      "\u001b[1;32m<ipython-input-94-0fff8381c2e9>\u001b[0m in \u001b[0;36mlageEbeneGerade\u001b[1;34m(a, b, c, d, s1, s2, s3, r1, r2, r3)\u001b[0m\n\u001b[0;32m      1\u001b[0m \u001b[1;32mdef\u001b[0m \u001b[0mlageEbeneGerade\u001b[0m\u001b[1;33m(\u001b[0m\u001b[0ma\u001b[0m\u001b[1;33m,\u001b[0m\u001b[0mb\u001b[0m\u001b[1;33m,\u001b[0m\u001b[0mc\u001b[0m\u001b[1;33m,\u001b[0m\u001b[0md\u001b[0m\u001b[1;33m,\u001b[0m\u001b[0ms1\u001b[0m\u001b[1;33m,\u001b[0m\u001b[0ms2\u001b[0m\u001b[1;33m,\u001b[0m\u001b[0ms3\u001b[0m\u001b[1;33m,\u001b[0m\u001b[0mr1\u001b[0m\u001b[1;33m,\u001b[0m\u001b[0mr2\u001b[0m\u001b[1;33m,\u001b[0m\u001b[0mr3\u001b[0m\u001b[1;33m)\u001b[0m\u001b[1;33m:\u001b[0m\u001b[1;33m\u001b[0m\u001b[0m\n\u001b[1;32m----> 2\u001b[1;33m     \u001b[1;32mif\u001b[0m \u001b[0morthonal\u001b[0m\u001b[1;33m(\u001b[0m\u001b[0ma\u001b[0m\u001b[1;33m,\u001b[0m\u001b[0mb\u001b[0m\u001b[1;33m,\u001b[0m\u001b[0mc\u001b[0m\u001b[1;33m,\u001b[0m\u001b[0mr1\u001b[0m\u001b[1;33m,\u001b[0m\u001b[0mr2\u001b[0m\u001b[1;33m,\u001b[0m\u001b[0mr3\u001b[0m\u001b[1;33m)\u001b[0m\u001b[1;33m:\u001b[0m\u001b[1;33m\u001b[0m\u001b[0m\n\u001b[0m\u001b[0;32m      3\u001b[0m         \u001b[1;32mif\u001b[0m \u001b[0mmath\u001b[0m\u001b[1;33m.\u001b[0m\u001b[0misclose\u001b[0m\u001b[1;33m(\u001b[0m\u001b[0ma\u001b[0m\u001b[1;33m*\u001b[0m\u001b[0ms1\u001b[0m\u001b[1;33m+\u001b[0m\u001b[0mb\u001b[0m\u001b[1;33m*\u001b[0m\u001b[0ms2\u001b[0m\u001b[1;33m+\u001b[0m\u001b[0mc\u001b[0m\u001b[1;33m*\u001b[0m\u001b[0ms3\u001b[0m\u001b[1;33m,\u001b[0m\u001b[0md\u001b[0m\u001b[1;33m)\u001b[0m\u001b[1;33m:\u001b[0m\u001b[1;33m\u001b[0m\u001b[0m\n\u001b[0;32m      4\u001b[0m             \u001b[1;32mreturn\u001b[0m \u001b[1;33m(\u001b[0m\u001b[1;36m0\u001b[0m\u001b[1;33m,\u001b[0m\u001b[1;34m'Gerade in Ebene'\u001b[0m\u001b[1;33m)\u001b[0m\u001b[1;33m\u001b[0m\u001b[0m\n\u001b[0;32m      5\u001b[0m         \u001b[1;32melse\u001b[0m\u001b[1;33m:\u001b[0m\u001b[1;33m\u001b[0m\u001b[0m\n",
      "\u001b[1;31mNameError\u001b[0m: name 'orthonal' is not defined"
     ]
    }
   ],
   "source": [
    "def lageEbeneGerade(a,b,c,d,s1,s2,s3,r1,r2,r3):\n",
    "    if orthogol(a,b,c,r1,r2,r3):\n",
    "        if math.isclose(a*s1+b*s2+c*s3,d):\n",
    "            return (0,'Gerade in Ebene')\n",
    "        else:\n",
    "            return (1,'Gerade parallel zur Ebene')\n",
    "        \n",
    "print(lageEbeneGerade(2,3,-1,4,3,2,1,1,-1,-1))"
   ]
  },
  {
   "cell_type": "markdown",
   "metadata": {},
   "source": [
    "#### Lineare Betragsgleichung\n",
    "\n"
   ]
  },
  {
   "cell_type": "code",
   "execution_count": null,
   "metadata": {},
   "outputs": [],
   "source": []
  },
  {
   "cell_type": "code",
   "execution_count": 24,
   "metadata": {},
   "outputs": [
    {
     "name": "stdout",
     "output_type": "stream",
     "text": [
      "[-1, 5]\n",
      "[2]\n",
      "False\n",
      "keine Lösung\n"
     ]
    }
   ],
   "source": [
    "# mit zwei Lösungen\n",
    "z = solve(Eq(abs(x-2) ,3))\n",
    "print(z)\n",
    "\n",
    "# mit einer Lösung\n",
    "z = solve(Eq(abs(x-2) ,0))\n",
    "print(z)\n",
    "\n",
    "# mit keiner Lösung\n",
    "z = solve(Eq(abs(x-2) ,-1))\n",
    "print(z)\n",
    "if not z:\n",
    "    print('keine Lösung')\n"
   ]
  },
  {
   "cell_type": "code",
   "execution_count": 28,
   "metadata": {},
   "outputs": [
    {
     "name": "stdout",
     "output_type": "stream",
     "text": [
      "Zwei Lösungen: -1 5\n",
      "Eine Lösung: 2\n",
      "Keine Lösung\n"
     ]
    }
   ],
   "source": [
    "def printLoesung(z):\n",
    "    if not z:\n",
    "        print('Keine Lösung')\n",
    "    elif len(z) == 1:\n",
    "        print('Eine Lösung:',z[0])\n",
    "    else:\n",
    "        print('Zwei Lösungen:', z[0],z[1])\n",
    "        \n",
    "z = solve(Eq(abs(x-2) ,3))\n",
    "printLoesung(z)\n",
    "z = solve(Eq(abs(x-2) ,0))\n",
    "printLoesung(z)\n",
    "z = solve(Eq(abs(x-2) ,-1))\n",
    "printLoesung(z)\n",
    "          "
   ]
  },
  {
   "cell_type": "markdown",
   "metadata": {},
   "source": [
    "#### Quadratische Gleichungen"
   ]
  },
  {
   "cell_type": "code",
   "execution_count": 31,
   "metadata": {},
   "outputs": [
    {
     "name": "stdout",
     "output_type": "stream",
     "text": [
      "Zwei Lösungen: -sqrt(7)/7 sqrt(7)/7\n",
      "Eine Lösung: 0\n",
      "Keine Lösung\n"
     ]
    }
   ],
   "source": [
    "z = solve(Eq(14*x*x + 7 ,9))\n",
    "printLoesung(z)\n",
    " \n",
    "z = solve(Eq(x*x + 7 ,7))\n",
    "printLoesung(z)\n",
    "\n",
    "z = solve(Eq(x*x + 7 ,0))\n",
    "printLoesung(z)"
   ]
  },
  {
   "cell_type": "markdown",
   "metadata": {},
   "source": [
    "#### Lineare Gleichungssysteme"
   ]
  },
  {
   "cell_type": "code",
   "execution_count": null,
   "metadata": {},
   "outputs": [],
   "source": []
  },
  {
   "cell_type": "code",
   "execution_count": 5,
   "metadata": {},
   "outputs": [
    {
     "name": "stdout",
     "output_type": "stream",
     "text": [
      "{x: -2, y: 1, z: 2}\n"
     ]
    }
   ],
   "source": [
    "from sympy import *\n",
    "x, y, z = symbols(\"x y z\", real=True)\n",
    "\n",
    "# mit 3 Lösungen\n",
    "equations = [\n",
    "    Eq(2*x,-4),\n",
    "    Eq(y,-3*x-5),\n",
    "    Eq(z,4+x)\n",
    "]\n",
    "\n",
    "erg = solve(equations)\n",
    "print(erg)"
   ]
  },
  {
   "cell_type": "code",
   "execution_count": null,
   "metadata": {},
   "outputs": [],
   "source": [
    "from sympy import *\n",
    "x, y, z = symbols(\"x y z\", real=True)\n",
    "\n",
    "# mit 3 Lösungen\n",
    "equations = [\n",
    "    Eq(2*x,-4),\n",
    "    Eq(y,-3*x-5),\n",
    "    Eq(z,4+x)\n",
    "]\n",
    "\n",
    "erg = solve(equations)\n",
    "print(erg)"
   ]
  }
 ],
 "metadata": {
  "kernelspec": {
   "display_name": "Python 3",
   "language": "python",
   "name": "python3"
  },
  "language_info": {
   "codemirror_mode": {
    "name": "ipython",
    "version": 3
   },
   "file_extension": ".py",
   "mimetype": "text/x-python",
   "name": "python",
   "nbconvert_exporter": "python",
   "pygments_lexer": "ipython3",
   "version": "3.6.5"
  }
 },
 "nbformat": 4,
 "nbformat_minor": 2
}
