{
 "cells": [
  {
   "cell_type": "markdown",
   "metadata": {},
   "source": [
    "## QR-Code\n",
    "\n",
    "schwarz = 1, weiß = 0"
   ]
  },
  {
   "cell_type": "markdown",
   "metadata": {},
   "source": [
    "Formatinformation\n",
    "\n",
    "<img src=\"./img/qrcode_hilf_04.png\" width=\"500\">"
   ]
  },
  {
   "cell_type": "markdown",
   "metadata": {},
   "source": [
    "Modi\n",
    "\n",
    "<img src=\"./img/qrcode_hilf_06.png\" width=\"500\">"
   ]
  },
  {
   "cell_type": "markdown",
   "metadata": {},
   "source": [
    "  <p>Mode-Indikator und CCI\n",
    "    <ul>\n",
    "    <li>Mode-Indikator immer 4 Bit</li>\n",
    "    <li>Modus Byte: CCI 8 Bit lang, dann pro Zeichen 8 Bit</li>\n",
    "    <li>Modus Alphanumeric: CCI 9 Bit lang, dann pro zwei Zeichen 11 Bit.\n",
    "    1. Zeichen: x//45, 2. Zeichen: x%45. Für 1 Zeichen am Ende 6 Bit.</li>\n",
    "    <li>Modus Numeric: CCI 10 Bit lang, dann 10 Bit für je drei Ziffern.\n",
    "    Für 2 bzw 1 Ziffer am Ende: 7 bzw. 4 Bit.</li>\n",
    "\n",
    "  </ul>\n",
    "</p>"
   ]
  },
  {
   "cell_type": "markdown",
   "metadata": {},
   "source": [
    "Die Masken für die ersten 6 CW:\n",
    "```\n",
    "1001 1001 1001 1001 1001 1001 0110 0110 0110 0110 0110 0110  # Maske  0\n",
    "1100 1100 1100 1100 1100 1100 0011 0011 0011 0011 0011 0011  # Maske  1\n",
    "0000 0000 0000 0000 0000 0000 1010 1010 1010 1010 1010 1010  # Maske  2\n",
    "0110 0001 1000 0110 0001 1000 1001 0010 0100 1001 0010 0100  # Maske  3\n",
    "1100 0011 1100 0011 1100 0011 1001 0110 1001 0110 1001 0110  # Maske  4\n",
    "0000 1100 0010 0000 1100 0010 1010 1011 1010 1010 1011 1010  # Maske  5\n",
    "0111 1100 1010 0111 1100 1010 1011 1111 1010 1011 1111 1010  # Maske  6\n",
    "0000 1011 1101 0000 1011 1101 0110 0010 0111 0110 0010 0111  # Maske  7\n",
    "```"
   ]
  },
  {
   "cell_type": "markdown",
   "metadata": {},
   "source": [
    "<img src=\"./img/qrcode_07.png\" width=\"500\">"
   ]
  },
  {
   "cell_type": "markdown",
   "metadata": {},
   "source": [
    "```\n",
    "Format-Information: 000110100001100  => Fehlerkorrekturniveau H, Maske 6\n",
    "\n",
    "0011 1100 1011 0000 1101 1010 0101 1100 0100 0101 0001 0101  # maskiert\n",
    "0111 1100 1010 0111 1100 1010 1011 1111 1010 1011 1111 1010  # Maske  6\n",
    "0100 0000 0001 0111 0001 0000 1110 0011 1110 1110 1110 1111  # demaskiert\n",
    "\n",
    "Modus: Byte, CCI-Länge: 8 Bit\n",
    "CCI: 0000 0001 = 1 => ein Zeichen wird dargestellt, pro Zeichen 8 Bit\n",
    "1. Zeichen: 0111 0001 = 113 => Es ist das Zeichen q codiert.\n",
    "```"
   ]
  },
  {
   "cell_type": "markdown",
   "metadata": {},
   "source": [
    "<img src=\"./img/qrcode_08.png\" width=\"500\">"
   ]
  },
  {
   "cell_type": "markdown",
   "metadata": {},
   "source": [
    "```\n",
    "Format-Information: 001001110111110  => Fehlerkorrekturniveau H, Maske 1\n",
    "\n",
    "1101 1100 1101 1000 1011 0101 0110 0111 0011 0011 1101 1111  # maskiert\n",
    "1100 1100 1100 1100 1100 1100 0011 0011 0011 0011 0011 0011  # Maske  1\n",
    "0001 0000 0001 0100 0111 1001 0101 0100 0000 0000 1110 1100  # demaskiert\n",
    "\n",
    "Modus: numeric, CCI-Länge: 10 Bit\n",
    "CCI: 0000 0001 10 = 5 => 5 Zeichen werden dargestellt, 10 Bit für 3 Zeichen, 7 Bit für 2 Zeichen\n",
    "1. Einheit (10 Bit): 00 0111 1001  => 121\n",
    "2. Einheit (7 Bit): 0101 010 => 42\n",
    "Es ist die Zahl 12142 codiert.\n",
    "```"
   ]
  },
  {
   "cell_type": "markdown",
   "metadata": {},
   "source": [
    "<img src=\"./img/qrcode_09.png\" width=\"500\">"
   ]
  },
  {
   "cell_type": "markdown",
   "metadata": {},
   "source": [
    "```\n",
    "Format-Information: 001011010001001  => Fehlerkorrekturniveau H, Maske 0\n",
    "\n",
    "1011 1001 1000 0000 0101 0011 0110 0010 0110 0110 1000 1010  # maskiert\n",
    "1001 1001 1001 1001 1001 1001 0110 0110 0110 0110 0110 0110  # Maske  0\n",
    "0010 0000 0001 1001 1100 1010 0000 0100 0000 0000 1110 1100  # demaskiert\n",
    "\n",
    "Modus: alphanumeric, CCI-Länge: 9 Bit\n",
    "CCI: 0000 0001 1 = 3 Zeichen werden dargestellt, 11 Bit für 2 Zeichen, 6 Bit für 1 Zeichen\n",
    "1. Einheit (11 Bit): 001 1100 1010  => 458\n",
    "458 // 45 = 10, 458 % 45 = 8 \n",
    "2. Einheit (6 Bit): 0000 01 => 1\n",
    "Es ist die Zeichenfolge A81 kodiert. \n",
    "```"
   ]
  },
  {
   "cell_type": "code",
   "execution_count": null,
   "metadata": {},
   "outputs": [],
   "source": []
  }
 ],
 "metadata": {
  "kernelspec": {
   "display_name": "Python 3",
   "language": "python",
   "name": "python3"
  },
  "language_info": {
   "codemirror_mode": {
    "name": "ipython",
    "version": 3
   },
   "file_extension": ".py",
   "mimetype": "text/x-python",
   "name": "python",
   "nbconvert_exporter": "python",
   "pygments_lexer": "ipython3",
   "version": "3.6.5"
  }
 },
 "nbformat": 4,
 "nbformat_minor": 2
}
