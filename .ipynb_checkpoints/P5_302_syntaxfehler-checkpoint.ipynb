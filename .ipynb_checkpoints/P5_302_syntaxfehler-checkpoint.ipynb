{
 "cells": [
  {
   "cell_type": "markdown",
   "metadata": {},
   "source": [
    "#### P5 Syntaxfehler"
   ]
  },
  {
   "cell_type": "code",
   "execution_count": null,
   "metadata": {},
   "outputs": [],
   "source": [
    "function setup() {\n",
    "  createCanvas(401, 401);\n",
    "  background(255);\n",
    "  stroke(0;\n",
    "  strokeWeight(1);\n",
    "}\n"
   ]
  },
  {
   "cell_type": "code",
   "execution_count": null,
   "metadata": {},
   "outputs": [],
   "source": [
    "mySketch, Line 4: missing ) after argument list"
   ]
  },
  {
   "cell_type": "code",
   "execution_count": null,
   "metadata": {},
   "outputs": [],
   "source": [
    "function setup() {\n",
    "  createCanvas(401, 401);\n",
    "  background(255);\n",
    "  struke(0);\n",
    "  strokeWeight(1);\n",
    "}"
   ]
  },
  {
   "cell_type": "code",
   "execution_count": null,
   "metadata": {},
   "outputs": [],
   "source": [
    "mySketch, Line 4: struke is not defined"
   ]
  },
  {
   "cell_type": "code",
   "execution_count": null,
   "metadata": {},
   "outputs": [],
   "source": [
    "function setup() {\n",
    "  createCanvas(401, 401);\n",
    "  background(255);\n",
    "  stroke(0);\n",
    "  strokeWeight(1);\n",
    "}\n",
    "\n",
    "function draw() {\n",
    "\tvar zaehler = 0;\n",
    "  for (var j = 0; j < 8; j++) {\n",
    "    for (var i = 0; i < 8; i++) {\n",
    "      fill(255);\n",
    "      if ((i+j) % 2 = 0) {\n",
    "        fill(0);\n",
    "      }\n",
    "      rect(i*50,j*50,50,50);\n",
    "\t\t\tfill(255,0,0);\n",
    "\t\t\tzaehler++;\n",
    "\t\t\ttext(zaehler,i*50+30,j*50+30);\n",
    "    }\n",
    "  }\n",
    "}"
   ]
  },
  {
   "cell_type": "code",
   "execution_count": null,
   "metadata": {},
   "outputs": [],
   "source": [
    "mySketch, Line 15: Invalid left-hand side in assignment    # P5 Web-Editor besser"
   ]
  },
  {
   "cell_type": "code",
   "execution_count": null,
   "metadata": {},
   "outputs": [],
   "source": [
    "function setup() {\n",
    "  createCanvas(401, 401);\n",
    "  background(255);\n",
    "  stroke(0);\n",
    "  strokeWeight(1);\n",
    "}\n",
    "\n",
    "function draw() {\n",
    "\tvar zaehler = 0;\n",
    "  for (var j = 0; j < 8; j++) {\n",
    "    for (var i = 0; i < 8; i++) {\n",
    "      fill(255);\n",
    "      if ((i+j) % 2 == 0) {\n",
    "        fill(0);\n",
    "      }\n",
    "      rect(i*50,j*50,50,50);\n",
    "\t\t\tfill(255,0,0);\n",
    "\t\t\tzaehler++;\n",
    "\t\t\ttext(zaehler,i*50+30,j*50+30);\n",
    "    }\n",
    "  \n",
    "}"
   ]
  },
  {
   "cell_type": "code",
   "execution_count": null,
   "metadata": {},
   "outputs": [],
   "source": [
    ", Line 24: Unexpected end of input             # P% Web-Editor besser"
   ]
  },
  {
   "cell_type": "code",
   "execution_count": null,
   "metadata": {},
   "outputs": [],
   "source": [
    "function setup() {\n",
    "  createCanvas(401, 401);\n",
    "  background(255);\n",
    "  stroke(0);\n",
    "  strokeWeight(1);\n",
    "}\n",
    "\n",
    "function draw() {\n",
    "\tvar zaehler = 0;\n",
    "  for (var j = 0; j < 8; j++) {\n",
    "    for (var i = 0; i < 8; i++) {\n",
    "      fill(255);\n",
    "      if ((i+j) % 2 == 0 {\n",
    "        fill(0);\n",
    "      }\n",
    "      rect(i*50,j*50,50,50);\n",
    "\t\t\tfill(255,0,0);\n",
    "\t\t\tzaehler++;\n",
    "\t\t\ttext(zaehler,i*50+30,j*50+30);\n",
    "    }\n",
    "  }\n",
    "}"
   ]
  },
  {
   "cell_type": "code",
   "execution_count": null,
   "metadata": {},
   "outputs": [],
   "source": [
    "mySketch, Line 15: Unexpected token {"
   ]
  },
  {
   "cell_type": "code",
   "execution_count": null,
   "metadata": {},
   "outputs": [],
   "source": [
    "<!DOCTYPE html>\n",
    "<html><head>\n",
    "  <style>\n",
    "    body {\n",
    "      padding: 50;\n",
    "      margin: 50;\n",
    "    }\n",
    "  </style>\n",
    "<script src=\"../../../p5.min.js\"></script>\n",
    "<script>\n",
    "\n",
    "function setup() {\n",
    "  createCanvas(401, 401);\n",
    "  background(255);\n",
    "  stroke(0);\n",
    "  strokeWeight(1);\n",
    "}\n",
    "\n",
    "function draw() {\n",
    "\tvar zaehler = 0;\n",
    "  for (var j = 0; j < 8; j++) {\n",
    "    for (var i = 0; i < 8; i++) {\n",
    "      fill(255);\n",
    "      if ((i+j) % 2 == 0) {\n",
    "        fill(0);\n",
    "      }\n",
    "      rect(i*50,j*50,50,50);\n",
    "\t\t\tfill(255,0,0);\n",
    "\t\t\tzaehler++;\n",
    "\t\t\ttext(zaehler,i*50+30,j*50+30);\n",
    "     }\n",
    "  }\n",
    "}\n",
    "</script>\n",
    "\n",
    "</head><body></body></html>\n"
   ]
  }
 ],
 "metadata": {
  "kernelspec": {
   "display_name": "Python 3",
   "language": "python",
   "name": "python3"
  },
  "language_info": {
   "codemirror_mode": {
    "name": "ipython",
    "version": 3
   },
   "file_extension": ".py",
   "mimetype": "text/x-python",
   "name": "python",
   "nbconvert_exporter": "python",
   "pygments_lexer": "ipython3",
   "version": "3.6.5"
  }
 },
 "nbformat": 4,
 "nbformat_minor": 2
}
