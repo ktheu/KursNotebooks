{
 "cells": [
  {
   "cell_type": "markdown",
   "metadata": {},
   "source": [
    "## Neuronale Netze\n",
    "\n",
    "Problemstellung Klassifikation: Ein Punkt soll in eine von zwei Klassen eingeteilt werden. Es stehen Beispielpunkte zur Verfügung.\n",
    "\n",
    "[Beispiel](https://cs.stanford.edu/people/karpathy/convnetjs/demo/classify2d.html)"
   ]
  },
  {
   "cell_type": "markdown",
   "metadata": {},
   "source": [
    "### Perceptron\n",
    "\n",
    "Ein Perceptron erhält Inputwerte x1, x2 und berechnet daraus eine gewichtete Summe. Wenn diese Summe\n",
    "größer als ein Schwellwert ist, bedeutet es, dass das Perceptron aktiviert wird und \"feuert\", d.h. eine 1 ausgibt. \n",
    "\n",
    "<img src=\"./img/nn_01.png\" width=\"800\"/>   "
   ]
  },
  {
   "cell_type": "markdown",
   "metadata": {},
   "source": [
    "In der Gleichung bringen wir den Schwellwert auf die andere Seite. Den negativen Schwellwert nennen wir den **Bias b**. Je größer der Bias, desto einfacher ist es, das Perceptron zu aktivieren. Der Ausgabewert des Perceptrons hängt von den Inputwerten x1, x2 und den drei Parametern w1, w2 und b ab.\n",
    "\n",
    "<img src=\"./img/nna_01.png\" width=\"800\"/>  "
   ]
  },
  {
   "cell_type": "code",
   "execution_count": 93,
   "metadata": {},
   "outputs": [],
   "source": [
    "class Perceptron:\n",
    "    def __init__(self,param):\n",
    "        self.w1, self.w2, self.b = param\n",
    "    \n",
    "    def calc(self, x1, x2):\n",
    "        z = self.w1 * x1 + self.w2 * x2 + self.b\n",
    "        if z >= 0: return 1\n",
    "        else: return 0\n"
   ]
  },
  {
   "cell_type": "code",
   "execution_count": 94,
   "metadata": {},
   "outputs": [
    {
     "name": "stdout",
     "output_type": "stream",
     "text": [
      "0\n",
      "1\n"
     ]
    }
   ],
   "source": [
    "pc = Perceptron([1,-2,-4])\n",
    "print(pc.calc(3,2))\n",
    "print(pc.calc(3,-2))\n"
   ]
  },
  {
   "cell_type": "markdown",
   "metadata": {},
   "source": [
    "Wir möchten ein Perceptron, das sich bei 0-1 Inputs wie ein logisches **OR** verhält. \n",
    "\n",
    "<img src=\"./img/nn_02.png\" width=\"300\"/>   "
   ]
  },
  {
   "cell_type": "code",
   "execution_count": 95,
   "metadata": {},
   "outputs": [
    {
     "name": "stdout",
     "output_type": "stream",
     "text": [
      "0 0 0 0\n",
      "0 1 1 1\n",
      "1 0 1 1\n",
      "1 1 1 1\n"
     ]
    }
   ],
   "source": [
    "X = [(0,0),(0,1),(1,0),(1,1)]\n",
    "Y = [0,1,1,1]\n",
    "pc = Perceptron([1,1,-0.5])\n",
    "for (x1,x2),y in zip(X,Y):\n",
    "    print(x1,x2,pc.calc(x1,x2),y)"
   ]
  },
  {
   "cell_type": "markdown",
   "metadata": {},
   "source": [
    "#### Übung\n",
    "\n",
    "Bestimme die Parameter eines Perceptrons, das für die Punkte (2/4) und (6/3) feuert, aber nicht für (6/4). Überprüfe das Ergebnis in Python. Nutze dazu die Perceptron-Klasse von oben.\n"
   ]
  },
  {
   "cell_type": "markdown",
   "metadata": {},
   "source": [
    "Wir möchten, dass das Perceptron geeignete Werte für seine Parameter selbst findet (lernt). Wir starten mit zufälligen Anfangswerten und messen den Fehler."
   ]
  },
  {
   "cell_type": "code",
   "execution_count": 96,
   "metadata": {},
   "outputs": [
    {
     "name": "stdout",
     "output_type": "stream",
     "text": [
      "0 0 0 0\n",
      "0 1 0 1\n",
      "1 0 0 1\n",
      "1 1 0 1\n"
     ]
    }
   ],
   "source": [
    "X = [(0,0),(0,1),(1,0),(1,1)]\n",
    "Y = [0,1,1,1]\n",
    "pc = Perceptron([-1,1,-1.5])\n",
    "for (x1,x2),y in zip(X,Y):\n",
    "    print(x1,x2,pc.calc(x1,x2),y)"
   ]
  },
  {
   "cell_type": "markdown",
   "metadata": {},
   "source": [
    "Dieses Perceptron macht viele Fehler. Wenn wir ein bisschen an den Parametern drehen, können wir leider nicht sehen, ob wir uns in die richtige Richtung bewegen."
   ]
  },
  {
   "cell_type": "code",
   "execution_count": 97,
   "metadata": {},
   "outputs": [
    {
     "name": "stdout",
     "output_type": "stream",
     "text": [
      "0 0 0 0 0\n",
      "0 1 0 0 1\n",
      "1 0 0 0 1\n",
      "1 1 0 0 1\n"
     ]
    }
   ],
   "source": [
    "X = [(0,0),(0,1),(1,0),(1,1)]\n",
    "Y = [0,1,1,1]\n",
    "pc1 = Perceptron([-1.1, 1, -1.5])\n",
    "pc2 = Perceptron([-0.9, 1, -1.5])\n",
    "for (x1,x2),y in zip(X,Y):\n",
    "    print(x1,x2,pc1.calc(x1,x2),pc2.calc(x1,x2), y)\n"
   ]
  },
  {
   "cell_type": "markdown",
   "metadata": {},
   "source": [
    "### Neuron"
   ]
  },
  {
   "cell_type": "markdown",
   "metadata": {},
   "source": [
    "Das Neuron nutzt eine Aktivierungfunktion, die es erlaubt, bei Parameteränderungen zu erkennen, ob der Fehler größer oder kleiner wird.  Zunächst nutzen wir die **sigmoid**-Funktion als Aktivierungsfunktion.\n",
    "\n",
    "<img src=\"./img/nna_02.png\" width=\"700\"/>  \n",
    "\n",
    "<img src=\"./img/nn_03.png\" width=\"500\"/>  "
   ]
  },
  {
   "cell_type": "code",
   "execution_count": 2,
   "metadata": {},
   "outputs": [],
   "source": [
    "import math\n",
    "class Neuron:\n",
    "    def __init__(self,param):\n",
    "        self.w1, self.w2, self.b = param\n",
    "    \n",
    "    def calc(self, x1, x2):\n",
    "        z = self.w1 * x1 + self.w2 * x2 + self.b\n",
    "        return 1/(1+math.exp(-z))\n"
   ]
  },
  {
   "cell_type": "code",
   "execution_count": 3,
   "metadata": {},
   "outputs": [
    {
     "name": "stdout",
     "output_type": "stream",
     "text": [
      "0 0 0.18242552380635635 0\n",
      "0 1 0.3775406687981454 1\n",
      "1 0 0.07585818002124355 1\n",
      "1 1 0.18242552380635635 1\n"
     ]
    }
   ],
   "source": [
    "X = [(0,0),(0,1),(1,0),(1,1)]\n",
    "Y = [0,1,1,1]\n",
    "n = Neuron([-1, 1, -1.5])\n",
    "for (x1,x2),y in zip(X,Y):\n",
    "    print(x1,x2,n.calc(x1,x2),y)\n"
   ]
  },
  {
   "cell_type": "code",
   "execution_count": 4,
   "metadata": {},
   "outputs": [
    {
     "name": "stdout",
     "output_type": "stream",
     "text": [
      "0 0 0.18242552380635635 0.18242552380635635 0\n",
      "0 1 0.3775406687981454 0.3775406687981454 1\n",
      "1 0 0.06913842034334682 0.08317269649392238 1\n",
      "1 1 0.16798161486607552 0.19781611144141825 1\n"
     ]
    }
   ],
   "source": [
    "X = [(0,0),(0,1),(1,0),(1,1)]\n",
    "Y = [0,1,1,1]\n",
    "n1 = Neuron([-1.1, 1, -1.5])\n",
    "n2 = Neuron([-0.9, 1, -1.5])\n",
    "for (x1,x2),y in zip(X,Y):\n",
    "    print(x1,x2,n1.calc(x1,x2),n2.calc(x1,x2), y)\n"
   ]
  },
  {
   "cell_type": "markdown",
   "metadata": {},
   "source": [
    "Wir messen den Fehler, den das Neuron bei einer Berechnung macht, als den halben quadratischen Abstand zum\n",
    "gewünschten Ergebnis.\n",
    "\n",
    "<img src=\"./img/nna_03.png\" width=\"900\"/>  "
   ]
  },
  {
   "cell_type": "code",
   "execution_count": 5,
   "metadata": {},
   "outputs": [
    {
     "name": "stdout",
     "output_type": "stream",
     "text": [
      "0.43325164024043983\n",
      "0.42028615222711274\n"
     ]
    }
   ],
   "source": [
    "x1, x2 = 1, 0\n",
    "y = 1\n",
    "\n",
    "n1 = Neuron([-1.1, 1, -1.5])\n",
    "n2 = Neuron([-0.9, 1, -1.5])\n",
    "\n",
    "a = n1.calc(x1,x2)\n",
    "loss = 0.5*(y -a)**2\n",
    "print(loss)\n",
    "\n",
    "a = n2.calc(x1,x2)\n",
    "loss = 0.5*(y -a)**2\n",
    "print(loss)"
   ]
  },
  {
   "cell_type": "markdown",
   "metadata": {},
   "source": [
    "Der Gesamtfehler wird über alle Eingaben gemittelt"
   ]
  },
  {
   "cell_type": "code",
   "execution_count": 6,
   "metadata": {},
   "outputs": [
    {
     "name": "stdout",
     "output_type": "stream",
     "text": [
      "0.24743657055225335 0.23810074828168448\n"
     ]
    }
   ],
   "source": [
    "X = [(0,0),(0,1),(1,0),(1,1)]\n",
    "Y = [0,1,1,1]\n",
    "n1 = Neuron([-1.1, 1, -1.5])\n",
    "n2 = Neuron([-0.9, 1, -1.5])\n",
    "loss1 = loss2 = 0\n",
    "for (x1,x2),y in zip(X,Y):\n",
    "    a1 = n1.calc(x1,x2)\n",
    "    a2 = n2.calc(x1,x2)\n",
    "    loss1 = loss1 + 0.5*(y-a1)**2\n",
    "    loss2 = loss2 + 0.5*(y-a2)**2\n",
    "loss1 = loss1 / 4\n",
    "loss2 = loss2 / 4\n",
    "print(loss1, loss2)"
   ]
  },
  {
   "cell_type": "markdown",
   "metadata": {},
   "source": [
    "#### Übung\n",
    "\n",
    "Die erwartete Ausgabe für das Neuron mit w1,w2,b = -1,1,-1.5 bei der Eingabe von (3,2) ist 1. Wie groß ist der Fehler?\n",
    "Ändere durch Ausprobieren die Parameter w1,w2,b so, dass der Fehler kleiner als 0.000008 wird."
   ]
  },
  {
   "cell_type": "code",
   "execution_count": 7,
   "metadata": {},
   "outputs": [
    {
     "name": "stdout",
     "output_type": "stream",
     "text": [
      "0.07585818002124355 0.42701905171682414 False\n"
     ]
    }
   ],
   "source": [
    "x1, x2 = 3, 2\n",
    "y = 1\n",
    "\n",
    "n = Neuron([-1, 1, -1.5])\n",
    "a = n.calc(x1,x2)\n",
    " \n",
    "loss = 0.5*(y -a)**2\n",
    "print(a,loss,loss<0.000008)\n",
    "\n",
    " "
   ]
  },
  {
   "cell_type": "markdown",
   "metadata": {},
   "source": [
    "### Gradient\n",
    "\n",
    "Um herauszufinden, in welchem Verhältnis wir die Parameter ändern müssen, damit der Fehler geringer wird, nutzen wir den **Gradienten**."
   ]
  },
  {
   "cell_type": "markdown",
   "metadata": {},
   "source": [
    "Der Fehler ist abhängig von den 3 Parametern w1, w2 und b. Wir versuchen den Fehler zu minimieren. Der Gradient gibt die Richtung des steilsten Anstiegs an. Um unseren Funktionswert zu minimieren, gehen wir mit unseren Parametern in Richtung des negativen Gradienten (**gradient descent**)."
   ]
  },
  {
   "cell_type": "markdown",
   "metadata": {},
   "source": [
    "\n",
    "\n",
    "Um den Gradienten einer Funktion zu berechnen, stellen wir sie in einem **computation graph** dar. Wir notieren die partiellen Ableitungen (lokaler Gradient) an den entsprechenden Verbindungen. Den Gradienten erhalten wir durch Multiplikation der lokalen Gradienten längs des entsprechenden Pfades.\n"
   ]
  },
  {
   "cell_type": "markdown",
   "metadata": {},
   "source": [
    "\n",
    "#### Beispiel 1:\n",
    "\n",
    "Bestimme den Wert der Funktion Funktion $f(x_1,x_2,x_3) = (x_1^2 + 3x_2) \\cdot 2x_3$ am Punkt $x = (2,-1,3)$.\n",
    "Gehe von $x$ aus um $0.01$ Längeneinheiten in Richtung des negativen Gradienten zum Punkt $x'$ und werte dort die Funktion erneut aus.\n",
    "\n",
    "<img src=\"./img/nn_19.png\" width=\"800\"/>    \n",
    "\n"
   ]
  },
  {
   "cell_type": "markdown",
   "metadata": {},
   "source": [
    "#### Beispiel 2:\n",
    "Bestimme den Wert der Funktion $f(x_1,x_2,x_3) = (x_1\\cdot x_2 + x_1^2) \\cdot (x_3 - 5)$ am Punkt $x = (1,-2,2)$.\n",
    "Gehe von $x$ aus um $0.01$ Längeneinheiten in Richtung des negativen Gradienten zum Punkt $x'$ und werte dort die Funktion erneut aus.\n",
    "(Mit etwas Übung kann man bei einfachen Funktionen die partiellen Ableitungen direkt hinschreiben). \n",
    "\n",
    "<img src=\"./img/nn_20.png\" width=\"800\"/>  "
   ]
  },
  {
   "cell_type": "code",
   "execution_count": 13,
   "metadata": {},
   "outputs": [
    {
     "name": "stdout",
     "output_type": "stream",
     "text": [
      "y = 3.0\n",
      "Gradient:  [ 0. -3. -1.]\n",
      "Länge des Gradienten: 3.1622777\n",
      "Neuer Punkt:  [ 1.        -1.9905132  2.0031624]\n"
     ]
    }
   ],
   "source": [
    "import torch\n",
    "import numpy as np\n",
    "x = torch.tensor([1.0,-2.0,2.0],requires_grad=True)\n",
    "y = (x[0]*x[1] + x[0]**2)*(x[2]-5)\n",
    "print(\"y =\", y.detach().numpy())\n",
    "y.backward()\n",
    "grad = x.grad.numpy()\n",
    "print(\"Gradient: \",grad)\n",
    "gradLength = np.linalg.norm(grad)   \n",
    "print(\"Länge des Gradienten:\", gradLength )\n",
    "print(\"Neuer Punkt: \", x.detach().numpy() - 0.01 * grad/gradLength)"
   ]
  },
  {
   "cell_type": "markdown",
   "metadata": {},
   "source": [
    "\n",
    "\n",
    "#### Beispiel 3: \n",
    "Wenn es auf dem Weg zurück zur Variablen mehrere Wege gibt, werden die Werte der Pfade addiert.\n",
    "\n",
    "Bestimme den Wert der Funktion $f(x_1,x_2,x_3) = (x_1 + 2x_2)(x_2 +4x_3)$ am Punkt $x = (-1,2,3)$. Gehe von $x$ aus um $0.02$ Längeneinheiten in Richtung des negativen Gradienten zum Punkt $x'$ und werte dort die Funktion erneut aus.\n",
    "\n",
    "<img src=\"./img/nn_21.png\" width=\"900\"/>   \n",
    "\n"
   ]
  },
  {
   "cell_type": "code",
   "execution_count": 15,
   "metadata": {},
   "outputs": [
    {
     "name": "stdout",
     "output_type": "stream",
     "text": [
      "y = 42.0\n",
      "Gradient:  [14. 31. 12.]\n",
      "Länge des Gradienten: 36.069378\n",
      "Neuer Punkt:  [-1.0038815  1.9914055  2.996673 ]\n"
     ]
    }
   ],
   "source": [
    "import torch\n",
    "import numpy as np\n",
    "x = torch.tensor([-1,2.0,3.0],requires_grad=True)\n",
    "y = (x[0]+2*x[1])*(x[1] + 4*x[2])\n",
    "print(\"y =\", y.detach().numpy())\n",
    "y.backward()\n",
    "grad = x.grad.numpy()\n",
    "print(\"Gradient: \",grad)\n",
    "gradLength = np.linalg.norm(grad)   \n",
    "print(\"Länge des Gradienten:\", gradLength )\n",
    "print(\"Neuer Punkt: \", x.detach().numpy() - 0.01 * grad/gradLength)"
   ]
  },
  {
   "cell_type": "markdown",
   "metadata": {},
   "source": [
    "#### Übung\n",
    "\n",
    "Bestimme den Wert der Funktion $f(x_1,x_2,x_3) = (x_1^2 -4x_3)(4x_1x_2 - x_3)$  am Punkt $x = (1,2,-1)$. Gehe von $x$ aus um $0.1$ Längeneinheiten in Richtung des negativen Gradienten zum Punkt $x'$ und werte dort die Funktion erneut aus.\n",
    "\n",
    "\n",
    "\n"
   ]
  },
  {
   "cell_type": "markdown",
   "metadata": {},
   "source": [
    "### Die lokalen Gradienten eines Neurons\n",
    "\n",
    "\n",
    "Übung: Zeige $\\sigma^{\\prime}(z) = \\sigma(z) \\cdot (1-\\sigma(z))$\n",
    "\n",
    "\n",
    "\n",
    "<img src=\"./img/nn_08.png\" width=\"701\"/>  "
   ]
  },
  {
   "cell_type": "markdown",
   "metadata": {},
   "source": [
    "Wir fassen alles zu einer Einheit zusammen\n",
    "\n",
    "<img src=\"./img/nn_22.png\" width=\"601\"/>  "
   ]
  },
  {
   "cell_type": "code",
   "execution_count": 25,
   "metadata": {},
   "outputs": [],
   "source": [
    "import math\n",
    "class Neuron:\n",
    "    def __init__(self,param):\n",
    "        self.w1, self.w2, self.b = param\n",
    "    \n",
    "    def forward(self, x1, x2):\n",
    "        z = self.w1 * x1 + self.w2 * x2 + self.b\n",
    "        a = 1/(1+math.exp(-1.0*z))\n",
    "        \n",
    "        # Wir merken uns die lokalen Gradienten\n",
    "        self.db = a *(1-a)\n",
    "        self.dw1 = x1 * self.db   \n",
    "        self.dw2 = x2 * self.db\n",
    "        self.dx1 = self.w1 * self.db\n",
    "        self.dx2 = self.w2 * self.db\n",
    "        return a\n",
    "    \n"
   ]
  },
  {
   "cell_type": "markdown",
   "metadata": {},
   "source": [
    "#### Übung\n",
    "\n",
    "Berechne für $x = (3,2)$ den Output und die lokalen Gradienten des Neurons <br>\n",
    "```n = Neuron([-1,2,-4])``` <br>\n"
   ]
  },
  {
   "cell_type": "code",
   "execution_count": 10,
   "metadata": {},
   "outputs": [
    {
     "data": {
      "text/plain": [
       "(0.04742587317756678,\n",
       " 0.1355299791927364,\n",
       " 0.09035331946182427,\n",
       " 0.04517665973091214)"
      ]
     },
     "execution_count": 10,
     "metadata": {},
     "output_type": "execute_result"
    }
   ],
   "source": [
    "n = Neuron([-1,2,-4])\n",
    "n.w1, n.w2, n.b\n",
    "a = n.forward(3,2)\n",
    "a, n.dw1, n.dw2, n.db"
   ]
  },
  {
   "cell_type": "code",
   "execution_count": 2,
   "metadata": {},
   "outputs": [
    {
     "name": "stdout",
     "output_type": "stream",
     "text": [
      "a = tensor(0.0474, grad_fn=<SigmoidBackward>)\n",
      "Gradient:  [0.13552998 0.09035332 0.04517666]\n"
     ]
    }
   ],
   "source": [
    "import torch\n",
    "import numpy as np\n",
    "x = torch.tensor([3.0,2.0],requires_grad=False)\n",
    "n = torch.tensor([-1.0,2.0,-4.0],requires_grad=True)\n",
    "z = x[0]*n[0] + x[1]*n[1] + n[2]\n",
    "a = torch.sigmoid(z)\n",
    "print(\"a =\", a)\n",
    "a.backward()\n",
    "grad = n.grad.numpy()\n",
    "print(\"Gradient: \",grad)\n"
   ]
  },
  {
   "cell_type": "code",
   "execution_count": 4,
   "metadata": {},
   "outputs": [
    {
     "name": "stdout",
     "output_type": "stream",
     "text": [
      "[Parameter containing:\n",
      "tensor([-1.,  2.], requires_grad=True), Parameter containing:\n",
      "tensor([-4.], requires_grad=True)]\n"
     ]
    },
    {
     "ename": "RuntimeError",
     "evalue": "output with shape [] doesn't match the broadcast shape [1]",
     "output_type": "error",
     "traceback": [
      "\u001b[1;31m---------------------------------------------------------------------------\u001b[0m",
      "\u001b[1;31mRuntimeError\u001b[0m                              Traceback (most recent call last)",
      "\u001b[1;32m<ipython-input-4-945e4f461b88>\u001b[0m in \u001b[0;36m<module>\u001b[1;34m\u001b[0m\n\u001b[0;32m      6\u001b[0m \u001b[0mn\u001b[0m\u001b[1;33m.\u001b[0m\u001b[0mbias\u001b[0m\u001b[1;33m.\u001b[0m\u001b[0mdata\u001b[0m \u001b[1;33m=\u001b[0m \u001b[0mtorch\u001b[0m\u001b[1;33m.\u001b[0m\u001b[0mtensor\u001b[0m\u001b[1;33m(\u001b[0m\u001b[1;33m[\u001b[0m\u001b[1;33m-\u001b[0m\u001b[1;36m4.0\u001b[0m\u001b[1;33m]\u001b[0m\u001b[1;33m,\u001b[0m\u001b[0mrequires_grad\u001b[0m\u001b[1;33m=\u001b[0m\u001b[1;32mTrue\u001b[0m\u001b[1;33m)\u001b[0m\u001b[1;33m\u001b[0m\u001b[1;33m\u001b[0m\u001b[0m\n\u001b[0;32m      7\u001b[0m \u001b[0mprint\u001b[0m\u001b[1;33m(\u001b[0m\u001b[0mlist\u001b[0m\u001b[1;33m(\u001b[0m\u001b[0mn\u001b[0m\u001b[1;33m.\u001b[0m\u001b[0mparameters\u001b[0m\u001b[1;33m(\u001b[0m\u001b[1;33m)\u001b[0m\u001b[1;33m)\u001b[0m\u001b[1;33m)\u001b[0m\u001b[1;33m\u001b[0m\u001b[1;33m\u001b[0m\u001b[0m\n\u001b[1;32m----> 8\u001b[1;33m \u001b[0mprint\u001b[0m\u001b[1;33m(\u001b[0m\u001b[0mn\u001b[0m\u001b[1;33m(\u001b[0m\u001b[0mx\u001b[0m\u001b[1;33m)\u001b[0m\u001b[1;33m)\u001b[0m\u001b[1;33m\u001b[0m\u001b[1;33m\u001b[0m\u001b[0m\n\u001b[0m",
      "\u001b[1;32m~\\.conda\\envs\\pytorch\\lib\\site-packages\\torch\\nn\\modules\\module.py\u001b[0m in \u001b[0;36m__call__\u001b[1;34m(self, *input, **kwargs)\u001b[0m\n\u001b[0;32m    539\u001b[0m             \u001b[0mresult\u001b[0m \u001b[1;33m=\u001b[0m \u001b[0mself\u001b[0m\u001b[1;33m.\u001b[0m\u001b[0m_slow_forward\u001b[0m\u001b[1;33m(\u001b[0m\u001b[1;33m*\u001b[0m\u001b[0minput\u001b[0m\u001b[1;33m,\u001b[0m \u001b[1;33m**\u001b[0m\u001b[0mkwargs\u001b[0m\u001b[1;33m)\u001b[0m\u001b[1;33m\u001b[0m\u001b[1;33m\u001b[0m\u001b[0m\n\u001b[0;32m    540\u001b[0m         \u001b[1;32melse\u001b[0m\u001b[1;33m:\u001b[0m\u001b[1;33m\u001b[0m\u001b[1;33m\u001b[0m\u001b[0m\n\u001b[1;32m--> 541\u001b[1;33m             \u001b[0mresult\u001b[0m \u001b[1;33m=\u001b[0m \u001b[0mself\u001b[0m\u001b[1;33m.\u001b[0m\u001b[0mforward\u001b[0m\u001b[1;33m(\u001b[0m\u001b[1;33m*\u001b[0m\u001b[0minput\u001b[0m\u001b[1;33m,\u001b[0m \u001b[1;33m**\u001b[0m\u001b[0mkwargs\u001b[0m\u001b[1;33m)\u001b[0m\u001b[1;33m\u001b[0m\u001b[1;33m\u001b[0m\u001b[0m\n\u001b[0m\u001b[0;32m    542\u001b[0m         \u001b[1;32mfor\u001b[0m \u001b[0mhook\u001b[0m \u001b[1;32min\u001b[0m \u001b[0mself\u001b[0m\u001b[1;33m.\u001b[0m\u001b[0m_forward_hooks\u001b[0m\u001b[1;33m.\u001b[0m\u001b[0mvalues\u001b[0m\u001b[1;33m(\u001b[0m\u001b[1;33m)\u001b[0m\u001b[1;33m:\u001b[0m\u001b[1;33m\u001b[0m\u001b[1;33m\u001b[0m\u001b[0m\n\u001b[0;32m    543\u001b[0m             \u001b[0mhook_result\u001b[0m \u001b[1;33m=\u001b[0m \u001b[0mhook\u001b[0m\u001b[1;33m(\u001b[0m\u001b[0mself\u001b[0m\u001b[1;33m,\u001b[0m \u001b[0minput\u001b[0m\u001b[1;33m,\u001b[0m \u001b[0mresult\u001b[0m\u001b[1;33m)\u001b[0m\u001b[1;33m\u001b[0m\u001b[1;33m\u001b[0m\u001b[0m\n",
      "\u001b[1;32m~\\.conda\\envs\\pytorch\\lib\\site-packages\\torch\\nn\\modules\\linear.py\u001b[0m in \u001b[0;36mforward\u001b[1;34m(self, input)\u001b[0m\n\u001b[0;32m     85\u001b[0m \u001b[1;33m\u001b[0m\u001b[0m\n\u001b[0;32m     86\u001b[0m     \u001b[1;32mdef\u001b[0m \u001b[0mforward\u001b[0m\u001b[1;33m(\u001b[0m\u001b[0mself\u001b[0m\u001b[1;33m,\u001b[0m \u001b[0minput\u001b[0m\u001b[1;33m)\u001b[0m\u001b[1;33m:\u001b[0m\u001b[1;33m\u001b[0m\u001b[1;33m\u001b[0m\u001b[0m\n\u001b[1;32m---> 87\u001b[1;33m         \u001b[1;32mreturn\u001b[0m \u001b[0mF\u001b[0m\u001b[1;33m.\u001b[0m\u001b[0mlinear\u001b[0m\u001b[1;33m(\u001b[0m\u001b[0minput\u001b[0m\u001b[1;33m,\u001b[0m \u001b[0mself\u001b[0m\u001b[1;33m.\u001b[0m\u001b[0mweight\u001b[0m\u001b[1;33m,\u001b[0m \u001b[0mself\u001b[0m\u001b[1;33m.\u001b[0m\u001b[0mbias\u001b[0m\u001b[1;33m)\u001b[0m\u001b[1;33m\u001b[0m\u001b[1;33m\u001b[0m\u001b[0m\n\u001b[0m\u001b[0;32m     88\u001b[0m \u001b[1;33m\u001b[0m\u001b[0m\n\u001b[0;32m     89\u001b[0m     \u001b[1;32mdef\u001b[0m \u001b[0mextra_repr\u001b[0m\u001b[1;33m(\u001b[0m\u001b[0mself\u001b[0m\u001b[1;33m)\u001b[0m\u001b[1;33m:\u001b[0m\u001b[1;33m\u001b[0m\u001b[1;33m\u001b[0m\u001b[0m\n",
      "\u001b[1;32m~\\.conda\\envs\\pytorch\\lib\\site-packages\\torch\\nn\\functional.py\u001b[0m in \u001b[0;36mlinear\u001b[1;34m(input, weight, bias)\u001b[0m\n\u001b[0;32m   1372\u001b[0m         \u001b[0moutput\u001b[0m \u001b[1;33m=\u001b[0m \u001b[0minput\u001b[0m\u001b[1;33m.\u001b[0m\u001b[0mmatmul\u001b[0m\u001b[1;33m(\u001b[0m\u001b[0mweight\u001b[0m\u001b[1;33m.\u001b[0m\u001b[0mt\u001b[0m\u001b[1;33m(\u001b[0m\u001b[1;33m)\u001b[0m\u001b[1;33m)\u001b[0m\u001b[1;33m\u001b[0m\u001b[1;33m\u001b[0m\u001b[0m\n\u001b[0;32m   1373\u001b[0m         \u001b[1;32mif\u001b[0m \u001b[0mbias\u001b[0m \u001b[1;32mis\u001b[0m \u001b[1;32mnot\u001b[0m \u001b[1;32mNone\u001b[0m\u001b[1;33m:\u001b[0m\u001b[1;33m\u001b[0m\u001b[1;33m\u001b[0m\u001b[0m\n\u001b[1;32m-> 1374\u001b[1;33m             \u001b[0moutput\u001b[0m \u001b[1;33m+=\u001b[0m \u001b[0mbias\u001b[0m\u001b[1;33m\u001b[0m\u001b[1;33m\u001b[0m\u001b[0m\n\u001b[0m\u001b[0;32m   1375\u001b[0m         \u001b[0mret\u001b[0m \u001b[1;33m=\u001b[0m \u001b[0moutput\u001b[0m\u001b[1;33m\u001b[0m\u001b[1;33m\u001b[0m\u001b[0m\n\u001b[0;32m   1376\u001b[0m     \u001b[1;32mreturn\u001b[0m \u001b[0mret\u001b[0m\u001b[1;33m\u001b[0m\u001b[1;33m\u001b[0m\u001b[0m\n",
      "\u001b[1;31mRuntimeError\u001b[0m: output with shape [] doesn't match the broadcast shape [1]"
     ]
    }
   ],
   "source": [
    "import torch.nn as nn\n",
    "\n",
    "x = torch.tensor([3.0,2.0],requires_grad=False)\n",
    "n = nn.Linear(2,1)\n",
    "n.weight.data = torch.tensor([-1.0,2.0],requires_grad=True)\n",
    "n.bias.data = torch.tensor([-4.0],requires_grad=True)\n",
    "print(list(n.parameters()))\n",
    "print(n(x))    \n"
   ]
  },
  {
   "cell_type": "markdown",
   "metadata": {},
   "source": [
    "### Fehlerberechnung Neuron"
   ]
  },
  {
   "cell_type": "markdown",
   "metadata": {},
   "source": [
    "Die Berechnung des Fehlers als computational graph\n",
    "\n",
    "<img src=\"./img/nn_15.png\" width=\"601\"/>  "
   ]
  },
  {
   "cell_type": "markdown",
   "metadata": {},
   "source": [
    "#### Beispiel\n",
    "\n",
    "Für das Neuron  &nbsp; ```n = Neuron([-1,2,-4])```  &nbsp; ist $y = 1$ der erwartete Output bei $x = (-1,2)$.\n",
    "Berechne die neuen Werte für $w_1, w_2, b$ nach einem Durchgang forward/backward-propagation bei einer learning-rate von 0.2\n",
    "\n",
    "<img src=\"./img/nn_23.png\" width=\"801\"/>  \n"
   ]
  },
  {
   "cell_type": "code",
   "execution_count": 36,
   "metadata": {},
   "outputs": [
    {
     "name": "stdout",
     "output_type": "stream",
     "text": [
      "Parameter:  [-1.  2. -4.]\n",
      "tensor([ 0.0529, -0.1058, -0.0529])\n",
      "Parameter:  [-1.0211508  2.0423017 -3.978849 ]\n",
      "tensor([ 0.0490, -0.0979, -0.0490])\n",
      "Parameter:  [-1.0309436  2.0618873 -3.9690561]\n",
      "tensor([ 0.0455, -0.0910, -0.0455])\n",
      "Parameter:  [-1.0400447  2.0800893 -3.959955 ]\n"
     ]
    }
   ],
   "source": [
    "import torch\n",
    "import numpy as np\n",
    "x = torch.tensor([-1.,2.0],requires_grad=False)\n",
    "n = torch.tensor([-1., 2., -4.],requires_grad=True)\n",
    "print(\"Parameter: \", n.detach().numpy())\n",
    "\n",
    "for i in range(3):\n",
    "    z = x[0]*n[0] + x[1]*n[1] + n[2]\n",
    "    a = torch.sigmoid(z) \n",
    "    loss = 0.5*(1 - a)**2\n",
    "\n",
    "    loss.backward()\n",
    "    print(n.grad)\n",
    "    with torch.no_grad():\n",
    "        n -= 0.2 * n.grad\n",
    "        \n",
    "    print(\"Parameter: \", n.detach().numpy() - 0.2 * grad)\n",
    "    n.grad.zero_()\n",
    "    #b = -3.9796, w1 = -1.0204, w2 = 2.0407"
   ]
  },
  {
   "cell_type": "code",
   "execution_count": 26,
   "metadata": {},
   "outputs": [],
   "source": [
    "import math\n",
    "import random\n",
    "\n",
    "class Neuron:\n",
    "    def __init__(self,param):\n",
    "        self.w1, self.w2, self.b = param\n",
    "    \n",
    "    def forward(self, x1, x2):\n",
    "        z = self.w1 * x1 + self.w2 * x2 + self.b\n",
    "        a = 1/(1+math.exp(-1.0*z))\n",
    "        \n",
    "        # wir berechnen die lokalen Gradienten\n",
    "        self.db = a *(1-a)    \n",
    "        self.dw1 = x1 * self.db   \n",
    "        self.dw2 = x2 * self.db\n",
    "        self.dx1 = self.w1 * self.db\n",
    "        self.dx2 = self.w2 * self.db\n",
    "        return a\n",
    "    \n",
    "    def backward(self, g):\n",
    "        \n",
    "        # wir multiplizieren den lokalen Gradienten mit\n",
    "        # dem upstream Gradienten g\n",
    "        self.db *= g\n",
    "        self.dw1 *= g\n",
    "        self.dw2 *= g\n",
    "        self.dx1 *= g\n",
    "        self.dx2 *= g\n",
    "        \n",
    "    def update(self,lr):\n",
    "        self.w1 = self.w1 - lr * self.dw1\n",
    "        self.w2 = self.w2 - lr * self.dw2\n",
    "        self.b = self.b - lr * self.db\n"
   ]
  },
  {
   "cell_type": "code",
   "execution_count": 35,
   "metadata": {},
   "outputs": [
    {
     "name": "stdout",
     "output_type": "stream",
     "text": [
      "Ausgangslage:\n",
      "x1 = -1.0000, x2 = 2.0000\n",
      "b = -4.0000, w1 = -1.0000, w2 = 2.0000\n",
      "\n",
      "forward: -----\n",
      "a = 0.7311, y = 1.0000, a-y = -0.2689\n",
      "db = 0.1966, dw1 = -0.1966, dw2 = 0.3932\n",
      "backward: ----\n",
      "db = -0.0529, dw1 = 0.0529, dw2 = -0.1058\n",
      "b = -3.9894, w1 = -1.0106, w2 = 2.0212\n",
      "\n",
      "forward: -----\n",
      "a = 0.7433, y = 1.0000, a-y = -0.2567\n",
      "db = 0.1908, dw1 = -0.1908, dw2 = 0.3816\n",
      "backward: ----\n",
      "db = -0.0490, dw1 = 0.0490, dw2 = -0.0979\n",
      "b = -3.9796, w1 = -1.0204, w2 = 2.0407\n",
      "\n"
     ]
    }
   ],
   "source": [
    "n = Neuron([-1,2,-4])\n",
    "y = 1                  # gewünschte Ausgabe\n",
    "x1, x2 = -1, 2\n",
    "lr = 0.2               # learning rate\n",
    "\n",
    "print('Ausgangslage:')\n",
    "print('x1 = {:5.4f}, x2 = {:5.4f}'.format(x1, x2)) \n",
    "print('b = {:5.4f}, w1 = {:5.4f}, w2 = {:5.4f}'.format(n.b, n.w1, n.w2)) \n",
    "print()\n",
    "\n",
    "for i in range(2):\n",
    "    print('forward: -----')\n",
    "    a = n.forward(x1,x2)\n",
    "    print('a = {:5.4f}, y = {:5.4f}, a-y = {:5.4f}'.format(a,y,a-y))\n",
    "    print('db = {:5.4f}, dw1 = {:5.4f}, dw2 = {:5.4f}'.format(n.db, n.dw1, n.dw2))  \n",
    "\n",
    "    print('backward: ----')\n",
    "    n.backward(a-y)\n",
    "    n.update(lr)\n",
    "\n",
    "    print('db = {:5.4f}, dw1 = {:5.4f}, dw2 = {:5.4f}'.format(n.db, n.dw1, n.dw2)) \n",
    "    print('b = {:5.4f}, w1 = {:5.4f}, w2 = {:5.4f}'.format(n.b, n.w1, n.w2)) \n",
    "    print()\n",
    "\n",
    "\n"
   ]
  },
  {
   "cell_type": "markdown",
   "metadata": {},
   "source": [
    "### Ein Neuron für die OR-Funktion\n",
    "\n",
    "Wir initialisieren die Parameter des Neurons mit zufälligen Werten. Wir spendieren dem Neuron noch weitere Attribute, damit es\n",
    "die Änderungswünsche der vier Eingabepunkte aufsummieren kann. Die Änderung der Parameter orientiert sich dann an dem Durchschnitt aller Änderungswünsche."
   ]
  },
  {
   "cell_type": "code",
   "execution_count": 43,
   "metadata": {},
   "outputs": [],
   "source": [
    "import math\n",
    "import random\n",
    "\n",
    "class Neuron:\n",
    "    def __init__(self,param):\n",
    "        self.w1, self.w2, self.b = param\n",
    "        self.sumdb = 0\n",
    "        self.sumdw1 = 0\n",
    "        self.sumdw2 = 0\n",
    "    \n",
    "    def forward(self, x1, x2):\n",
    "        z = self.w1 * x1 + self.w2 * x2 + self.b\n",
    "        a = 1/(1+math.exp(-1.0*z))\n",
    "        \n",
    "        # wir berechnen die lokalen Gradienten\n",
    "        self.db = a *(1-a)    \n",
    "        self.dw1 = x1 * self.db   \n",
    "        self.dw2 = x2 * self.db\n",
    "        self.dx1 = self.w1 * self.db\n",
    "        self.dx2 = self.w2 * self.db\n",
    "        return a\n",
    "    \n",
    "    def backward(self, g):\n",
    "        \n",
    "        # wir multiplizieren den lokalen Gradienten mit\n",
    "        # dem upstream Gradienten g\n",
    "        self.db *= g\n",
    "        self.dw1 *= g\n",
    "        self.dw2 *= g\n",
    "        self.dx1 *= g\n",
    "        self.dx2 *= g\n",
    "        \n",
    "        # wir addieren die Änderungswünsche\n",
    "        self.sumdb += self.db \n",
    "        self.sumdw1 += self.dw1\n",
    "        self.sumdw2 += self.dw2 \n",
    "        \n",
    "    def update(self,lr):\n",
    "        self.w1 = self.w1 - lr * self.sumdw1\n",
    "        self.w2 = self.w2 - lr * self.sumdw2\n",
    "        self.b = self.b - lr * self.sumdb\n",
    "        \n",
    "        # reset Änderungswünsche für neuen Durchgang\n",
    "        self.sumdw1 = 0\n",
    "        self.sumdw2 = 0\n",
    "        self.sumdb = 0\n",
    "        \n",
    "    def setWeights(self,param):\n",
    "        self.w1, self.w2, self.b = param\n",
    "    \n",
    "    def getWeights(self):\n",
    "        return [self.w1, self.w2, self.b]\n",
    "        \n",
    "        "
   ]
  },
  {
   "cell_type": "code",
   "execution_count": 72,
   "metadata": {},
   "outputs": [
    {
     "name": "stdout",
     "output_type": "stream",
     "text": [
      "0.19620009511890324\n",
      "0.8864966969447723\n",
      "0.8790175872617875\n",
      "0.9957170474693938\n"
     ]
    }
   ],
   "source": [
    "n = Neuron([-1, 1, -1.5])\n",
    "lr = 0.1\n",
    "\n",
    "X  = [(0,0),(0,1),(1,0),(1,1)]\n",
    "Y = [0,1,1,1]\n",
    "for k in range(1000):\n",
    "    for (x1,x2),y in zip(X,Y):\n",
    "        a = n.forward(x1,x2)\n",
    "        n.backward(a-y)\n",
    "    n.update(lr)\n",
    "\n",
    "for (x1,x2) in X:\n",
    "    print(n.forward(x1,x2))"
   ]
  },
  {
   "cell_type": "code",
   "execution_count": 73,
   "metadata": {},
   "outputs": [
    {
     "data": {
      "image/png": "[encoded data removed]",
      "text/plain": [
       "<Figure size 432x288 with 1 Axes>"
      ]
     },
     "metadata": {},
     "output_type": "display_data"
    }
   ],
   "source": [
    "import matplotlib.pyplot as plt\n",
    "%matplotlib inline\n",
    "def plotGerade(w1, w2, b):\n",
    "    m = -w1/w2\n",
    "    c = -b/w2\n",
    "    y0 = c\n",
    "    y1 = m + c\n",
    "    plt.plot([0,1],[y0,y1])\n",
    "    plt.scatter([0,0,1,1], [0,1,0,1], s=30)\n",
    "    \n",
    "plotGerade(n.w1, n.w2, n.b)"
   ]
  },
  {
   "cell_type": "markdown",
   "metadata": {},
   "source": [
    "### Berechnen der Parameter für eine XOR-Erkennung\n",
    "\n",
    "Mit einem Neuron können wir kein **XOR** modellieren. Wie vernetzen 3 Neuronen und lassen das Netz die 9 Parameter lernen.\n",
    "\n",
    "\n",
    "<img src=\"./img/nn_16.png\" width=\"400\"/>  \n",
    "\n",
    "Da nur die Layer mit Parametern gezählt werden, ist das Netz ein 2-Layer Netz. Für die hidden Layer eignet sich die \n",
    "**Relu** Aktivierungsfunktion besser.\n",
    "\n"
   ]
  },
  {
   "cell_type": "markdown",
   "metadata": {},
   "source": [
    "### Relu \n",
    "\n",
    "Relu = rectified linear unit, $f(x) = max(0,x)$\n",
    "\n",
    "<img src=\"./img/nn_17.png\" width=\"400\"/>  \n",
    "\n",
    "Der lokale Gradient der Relu-Funktion\n",
    "\n",
    "<img src=\"./img/nn_18.png\" width=\"400\"/>  \n",
    "\n",
    "<img src=\"./img/nn_24.png\" width=\"900\"/>   "
   ]
  },
  {
   "cell_type": "markdown",
   "metadata": {},
   "source": [
    "Das Netz implementiert die abgebildeten Verknüpfungen"
   ]
  },
  {
   "cell_type": "code",
   "execution_count": 1,
   "metadata": {},
   "outputs": [],
   "source": [
    "import math\n",
    "class Netz:\n",
    "    def __init__(self,param):\n",
    "        self.w11, self.w12, self.b1, self.w21, self.w22, self.b2, self.w31, self.w32, self.b3 = param\n",
    "   \n",
    "    def calc(self, x1, x2):\n",
    "        # forward\n",
    "        z1 = self.w11 * x1 + self.w12 * x2 + self.b1   \n",
    "        a1 = z1 if z1 > 0 else 0 \n",
    "        \n",
    "        z2 = self.w21 * x1 + self.w22 * x2 + self.b2 \n",
    "        a2 = z2 if z2 > 0 else 0 \n",
    "        \n",
    "        z3 = self.w31 * a1 + self.w32 * a2 + self.b3\n",
    "        a3 = 1/(1+math.exp(-1.0*z3))\n",
    "        \n",
    "        g = a3 - y\n",
    "        # backward\n",
    "        db3 =  g * a3*(1-a3)\n",
    "        dw31 = db3 * a1\n",
    "        dw32 = db3 * a2\n",
    " \n",
    "        db1 = db3 * self.w31 if z1 > 0 else 0\n",
    "        dw11 = db1 * x1\n",
    "        dw12 = db1 * x2\n",
    "        \n",
    "        db2 = db3 * self.w32 if z2 > 0 else 0\n",
    "        dw21 = db2 * x1\n",
    "        dw22 = db2 * x2\n",
    "        \n",
    "        return a3\n",
    "    \n",
    "    def update(self, lr):\n",
    "        \n",
    "        self.w11 = self.w11 - lr * self.dw11\n",
    "        self.w12 = self.w12 - lr * self.dw12\n",
    "        self.b1 = self.b1 - lr * self.db1\n",
    "        self.w21 = self.w21 - lr * self.dw21\n",
    "        self.w22 = self.w22 - lr * self.dw22\n",
    "        self.b2 = self.b2 - lr * self.db2\n",
    "        self.w31 = self.w31 - lr * self.dw31\n",
    "        self.w32 = self.w32 - lr * self.dw32\n",
    "        self.b3 = self.b3 - lr * self.db3\n",
    "        \n"
   ]
  },
  {
   "cell_type": "markdown",
   "metadata": {},
   "source": [
    "Wir erweitern die Klasse Netz um die Summenfelder für die Änderungswünsche"
   ]
  },
  {
   "cell_type": "code",
   "execution_count": 1,
   "metadata": {},
   "outputs": [],
   "source": [
    "import math\n",
    "class Netz:\n",
    "    def __init__(self,param):\n",
    "        self.w11, self.w12, self.b1, self.w21, self.w22, self.b2, self.w31, self.w32, self.b3 = param\n",
    "        self.sumdw11 = self.sumdw12 = self.sumdb1 = self.sumdw21 = self.sumdw22 = self.sumdb2 = 0\n",
    "        self.sumdw31 = self.sumdw32 = self.sumdb3 = 0\n",
    "   \n",
    "    def calc(self, x1, x2, y=0):\n",
    "        \n",
    "        # forward\n",
    "        z1 = self.w11 * x1 + self.w12 * x2 + self.b1 \n",
    "        a1 = z1 if z1 > 0 else 0 \n",
    "        \n",
    "        z2 = self.w21 * x1 + self.w22 * x2 + self.b2 \n",
    "        a2 = z2 if z2 > 0 else 0 \n",
    "        \n",
    "        z3 = self.w31 * a1 + self.w32 * a2 + self.b3\n",
    "        a3 = 1/(1+math.exp(-1.0*z3))\n",
    "        \n",
    "        g = a3 - y\n",
    "     \n",
    "        # backward\n",
    "        db3 =  g * a3*(1-a3)\n",
    "        dw31 = db3 * a1\n",
    "        dw32 = db3 * a2\n",
    " \n",
    "        db1 = db3 * self.w31 if z1 > 0 else 0\n",
    "        dw11 = db1 * x1\n",
    "        dw12 = db1 * x2\n",
    "        \n",
    "        db2 = db3 * self.w32 if z2 > 0 else 0\n",
    "        dw21 = db2 * x1\n",
    "        dw22 = db2 * x2\n",
    "        \n",
    "        self.sumdb1 += db1\n",
    "        self.sumdw11 += dw11\n",
    "        self.sumdw12 += dw12\n",
    "        \n",
    "        self.sumdb2 += db2\n",
    "        self.sumdw21 += dw21\n",
    "        self.sumdw22 += dw22\n",
    "        \n",
    "        self.sumdb3 += db3\n",
    "        self.sumdw31 += dw31\n",
    "        self.sumdw32 += dw32\n",
    "        \n",
    "        return a3\n",
    "    \n",
    "    def update(self, lr):\n",
    "        \n",
    "        self.w11 = self.w11 - lr * self.sumdw11\n",
    "        self.w12 = self.w12 - lr * self.sumdw12\n",
    "        self.b1 = self.b1 - lr * self.sumdb1\n",
    "        self.w21 = self.w21 - lr * self.sumdw21\n",
    "        self.w22 = self.w22 - lr * self.sumdw22\n",
    "        self.b2 = self.b2 - lr * self.sumdb2\n",
    "        self.w31 = self.w31 - lr * self.sumdw31\n",
    "        self.w32 = self.w32 - lr * self.sumdw32\n",
    "        self.b3 = self.b3 - lr * self.sumdb3\n",
    "        \n",
    "        self.sumdw11 = self.sumdw12 = self.sumdb1 = self.sumdw21 = self.sumdw22 = self.sumdb2 = 0\n",
    "        self.sumdw31 = self.sumdw32 = self.sumdb3 = 0\n",
    " "
   ]
  },
  {
   "cell_type": "code",
   "execution_count": 2,
   "metadata": {},
   "outputs": [
    {
     "name": "stdout",
     "output_type": "stream",
     "text": [
      "0.0037174268295366145\n",
      "0.9977597962396467\n",
      "0.9983916358846127\n",
      "0.002087275893351015\n"
     ]
    }
   ],
   "source": [
    "X  = [(0,0),(0,1),(1,0),(1,1)]\n",
    "Y = [0,1,1,0]\n",
    "param = [-3, 2, 5, 3, -1, -1, -1, 5, -1]        # bei 1 noch schlecht, bei 1000 schlecht, bei 10000 gut\n",
    "#param = [-3, 2, -5, 3, -1, -1, -1, 5, -1]      # kommt zu keinem richtigen Ergebnis.\n",
    "lr = 0.1\n",
    "netz = Netz(param)\n",
    "for i in range(100000):\n",
    "    for (x1,x2),y in zip(X,Y):\n",
    "        netz.calc(x1,x2,y)\n",
    "    netz.update(0.1)\n",
    "for (x1,x2),y in zip(X,Y):\n",
    "    print(netz.calc(x1,x2,y))"
   ]
  },
  {
   "cell_type": "code",
   "execution_count": 98,
   "metadata": {},
   "outputs": [
    {
     "data": {
      "text/plain": [
       "<matplotlib.collections.PathCollection at 0x15ec69574e0>"
      ]
     },
     "execution_count": 98,
     "metadata": {},
     "output_type": "execute_result"
    },
    {
     "data": {
      "image/png": "[encoded data removed]",
      "text/plain": [
       "<Figure size 432x288 with 1 Axes>"
      ]
     },
     "metadata": {},
     "output_type": "display_data"
    }
   ],
   "source": [
    "import matplotlib.pyplot as plt\n",
    "%matplotlib inline\n",
    "\n",
    "x1 = 0\n",
    "X1, X2, Y = [], [], []\n",
    "while x1 < 1:\n",
    "    x2 = 0\n",
    "    while x2 < 1:\n",
    "        x2 += 0.05\n",
    "        X1.append(x1)\n",
    "        X2.append(x2)\n",
    "        Y.append(netz.calc(x1,x2) > 0.5)\n",
    "    x1 += 0.05\n",
    "\n",
    "plt.scatter(X1, X2, c=Y,s=5)\n"
   ]
  },
  {
   "cell_type": "markdown",
   "metadata": {},
   "source": [
    "### Lösung mit Keras"
   ]
  },
  {
   "cell_type": "code",
   "execution_count": 110,
   "metadata": {},
   "outputs": [
    {
     "name": "stdout",
     "output_type": "stream",
     "text": [
      "[[0.58757144]\n",
      " [0.5191982 ]\n",
      " [0.8847896 ]\n",
      " [0.85339564]]\n"
     ]
    }
   ],
   "source": [
    "import numpy as np\n",
    "from keras.models import Sequential\n",
    "from keras.layers import Dense, Activation\n",
    "X = np.array([(0,0),(0,1),(1,0),(1,1)])\n",
    "Y = np.array([0,1,1,1]) \n",
    "Y = Y.reshape(4,1)\n",
    "\n",
    "model = Sequential()\n",
    "\n",
    "model.add(Dense(1, input_dim=2))\n",
    "model.add(Activation('sigmoid'))\n",
    " \n",
    "model.compile(optimizer='sgd', loss='mse')\n",
    "model.fit(X, Y, epochs=1000, verbose=0)\n",
    "\n",
    "print(model.predict(X) )"
   ]
  },
  {
   "cell_type": "code",
   "execution_count": 99,
   "metadata": {},
   "outputs": [
    {
     "name": "stderr",
     "output_type": "stream",
     "text": [
      "C:\\Users\\khthe\\Anaconda3\\lib\\site-packages\\h5py\\__init__.py:36: FutureWarning: Conversion of the second argument of issubdtype from `float` to `np.floating` is deprecated. In future, it will be treated as `np.float64 == np.dtype(float).type`.\n",
      "  from ._conv import register_converters as _register_converters\n",
      "Using TensorFlow backend.\n"
     ]
    },
    {
     "name": "stdout",
     "output_type": "stream",
     "text": [
      "[[0.00845072]\n",
      " [0.9992843 ]\n",
      " [0.99916196]\n",
      " [0.00845072]]\n"
     ]
    }
   ],
   "source": [
    "import numpy as np\n",
    "from keras.models import Sequential\n",
    "from keras.layers import Dense, Activation\n",
    "X_train = np.array([(0,0),(0,1),(1,0),(1,1)])\n",
    "Y_train = np.array([0,1,1,0]) \n",
    "Y_train = Y_train.reshape(4,1)\n",
    "\n",
    "np.random.seed(12)    # hat Erfolg\n",
    "#np.random.seed(0)    # hat keinen Erfolg\n",
    "\n",
    "model = Sequential()\n",
    "model.add(Dense(2, input_dim=2))\n",
    "model.add(Activation('relu'))\n",
    "model.add(Dense(1))\n",
    "model.add(Activation('sigmoid'))\n",
    " \n",
    "model.compile(optimizer='rmsprop', loss='mse')\n",
    "model.fit(X_train, Y_train, epochs=5000,verbose=0)\n",
    "\n",
    "#for layer in model.layers:\n",
    "#    print(layer.get_weights())\n",
    "\n",
    "print(model.predict(X_train) )"
   ]
  },
  {
   "cell_type": "code",
   "execution_count": null,
   "metadata": {},
   "outputs": [],
   "source": [
    "[[0.31150025]\n",
    " [0.5957041 ]\n",
    " [0.70164686]\n",
    " [0.3986195 ]]"
   ]
  },
  {
   "cell_type": "code",
   "execution_count": null,
   "metadata": {},
   "outputs": [],
   "source": [
    "import numpy as np\n",
    "from keras.models import Sequential\n",
    "from keras.layers import Dense, Activation\n",
    " \n",
    "X_train = np.array([(0,0),(0,1),(1,0),(1,1)])\n",
    "Y_train = np.array([1,0,0,1]) \n",
    "Y_train = Y_train.reshape(4,1)\n",
    "\n",
    "model = Sequential()\n",
    "model.add(Dense(3, input_dim=2))\n",
    "model.add(Activation('relu'))\n",
    "model.add(Dense(3))\n",
    "model.add(Activation('relu'))\n",
    "model.add(Dense(1))\n",
    "model.add(Activation('sigmoid'))\n",
    " \n",
    "model.compile(optimizer='rmsprop', loss='mse')\n",
    "\n",
    "model.fit(X_train, Y_train, epochs=10000,verbose=0)\n",
    "print(model.predict(X_train) )\n"
   ]
  },
  {
   "cell_type": "code",
   "execution_count": null,
   "metadata": {},
   "outputs": [],
   "source": [
    "par1 = [-5, 5, -3, -6, 6, 3.5, 6, -6, 3]"
   ]
  },
  {
   "cell_type": "code",
   "execution_count": null,
   "metadata": {},
   "outputs": [],
   "source": [
    "def f(x1, x2):\n",
    "    return x1**2 + x2**2\n",
    "\n",
    "print(f(1,2))\n",
    "print(f(1.001,2.002))\n",
    "print(f(1.002,2.001))\n",
    "print(f(1.002,1.999))"
   ]
  },
  {
   "cell_type": "code",
   "execution_count": null,
   "metadata": {},
   "outputs": [],
   "source": [
    "param = [-3, 2, 5, 3, -1, -1, -1, 5, -1]   # bei 1 noch schlecht, bei 1000 schlecht, bei 10000 gut\n",
    "#param = [-3, 2, -5, 3, -1, -1, -1, 5, -1]  # kommt zu keinem richtigen Ergebnis."
   ]
  }
 ],
 "metadata": {
  "kernelspec": {
   "display_name": "Python 3",
   "language": "python",
   "name": "python3"
  },
  "language_info": {
   "codemirror_mode": {
    "name": "ipython",
    "version": 3
   },
   "file_extension": ".py",
   "mimetype": "text/x-python",
   "name": "python",
   "nbconvert_exporter": "python",
   "pygments_lexer": "ipython3",
   "version": "3.7.5"
  }
 },
 "nbformat": 4,
 "nbformat_minor": 4
}
