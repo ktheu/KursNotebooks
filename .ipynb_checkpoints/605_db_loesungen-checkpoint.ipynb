{
 "cells": [
  {
   "cell_type": "markdown",
   "metadata": {},
   "source": [
    "# Datenbanken   \n",
    "## Aufgabe Sportverein"
   ]
  },
  {
   "cell_type": "code",
   "execution_count": 95,
   "metadata": {},
   "outputs": [],
   "source": []
  },
  {
   "cell_type": "code",
   "execution_count": 1,
   "metadata": {},
   "outputs": [],
   "source": [
    "import sqlite3 as sq\n",
    "import sportverein\n",
    "sportverein.createDB()"
   ]
  },
  {
   "cell_type": "code",
   "execution_count": 28,
   "metadata": {},
   "outputs": [],
   "source": [
    "def abfrage(sql):\n",
    "    '''\n",
    "    sql: String mit SQL-Anweisung\n",
    "    returns: None, printed die Ergebniszeilen\n",
    "    '''\n",
    "    connection = sq.connect(\"sportverein.db\")  \n",
    "    cursor = connection.cursor()\n",
    "\n",
    "    cursor.execute(sql)\n",
    "    connection.commit()\n",
    "    for zeile in cursor:\n",
    "        print(zeile)\n",
    "    connection.close()"
   ]
  },
  {
   "cell_type": "markdown",
   "metadata": {},
   "source": [
    "#### Aufgaben"
   ]
  },
  {
   "cell_type": "code",
   "execution_count": 29,
   "metadata": {},
   "outputs": [
    {
     "name": "stdout",
     "output_type": "stream",
     "text": [
      "(8,)\n"
     ]
    }
   ],
   "source": [
    "# 1. Wieviele Trainingsorte gibt es ?\n",
    "sql = \"SELECT COUNT(*) FROM trainingsort\"\n",
    "abfrage(sql)"
   ]
  },
  {
   "cell_type": "code",
   "execution_count": 30,
   "metadata": {},
   "outputs": [
    {
     "name": "stdout",
     "output_type": "stream",
     "text": [
      "('Basketball',)\n",
      "('Fussball',)\n",
      "('Langlauf',)\n",
      "('Schwimmen',)\n",
      "('Tauchen',)\n",
      "('Tennis',)\n",
      "('Turnen',)\n",
      "('Volleyball',)\n",
      "('Wasserball',)\n"
     ]
    }
   ],
   "source": [
    "# 2. Welche Sportarten werden angeboten? \n",
    "# Jede Sportart soll nur einmal ausgegeben werden.\n",
    "sql = \"SELECT sportart FROM uebungsgruppe GROUP BY sportart\"\n",
    "abfrage(sql)"
   ]
  },
  {
   "cell_type": "code",
   "execution_count": 31,
   "metadata": {},
   "outputs": [],
   "source": [
    "# 3. Ändere die Sportart Fußball in Fussball\n",
    "sql = \"UPDATE uebungsgruppe SET sportart = 'Fussball'  WHERE sportart = 'Fußball'\"\n",
    "abfrage(sql)"
   ]
  },
  {
   "cell_type": "code",
   "execution_count": 32,
   "metadata": {},
   "outputs": [
    {
     "name": "stdout",
     "output_type": "stream",
     "text": [
      "(930,)\n"
     ]
    }
   ],
   "source": [
    "# 4. Wieviele Mitglieder hat der Sportverein?\n",
    "sql = \"SELECT COUNT(*) FROM mitglied\"\n",
    "abfrage(sql)"
   ]
  },
  {
   "cell_type": "code",
   "execution_count": 33,
   "metadata": {},
   "outputs": [
    {
     "name": "stdout",
     "output_type": "stream",
     "text": [
      "('Werner', 313)\n",
      "('Wolfgang', 18)\n",
      "('Klaus', 17)\n",
      "('Carsten', 16)\n",
      "('Peter', 16)\n",
      "('Bernd', 15)\n",
      "('Heinz', 15)\n",
      "('Hans', 14)\n",
      "('Ulrich', 14)\n",
      "('Dieter', 12)\n",
      "('Manfred', 12)\n",
      "('Michael', 12)\n",
      "('Helmut', 10)\n",
      "('Joachim', 10)\n",
      "('Thomas', 9)\n",
      "('Ernst', 8)\n",
      "('Frau', 8)\n",
      "('Gerhard', 8)\n",
      "('Günter', 8)\n",
      "('Horst', 8)\n",
      "('Karl', 8)\n",
      "('Hartmut', 7)\n",
      "('Norbert', 7)\n",
      "('Franz', 6)\n",
      "('Friedhelm', 6)\n",
      "('Fritz', 6)\n",
      "('Juergen', 6)\n",
      "('Richard', 6)\n",
      "('Berthold', 5)\n",
      "('Christian', 5)\n",
      "('Georg', 5)\n",
      "('Hermann', 5)\n",
      "('Johannes', 5)\n",
      "('Josef', 5)\n",
      "('Jürgen', 5)\n",
      "('Rudolf', 5)\n",
      "('Albert', 4)\n",
      "('Claus', 4)\n",
      "('Gerd', 4)\n",
      "('Herbert', 4)\n",
      "('Herr', 4)\n",
      "('Karl-Heinz', 4)\n",
      "('Rainer', 4)\n",
      "('Rolf', 4)\n",
      "('Uwe', 4)\n",
      "('Volker', 4)\n",
      "('Walter', 4)\n",
      "('Wilhelm', 4)\n",
      "('Alfred', 3)\n",
      "('Anton', 3)\n",
      "('Franz-Josef', 3)\n",
      "('Frauke', 3)\n",
      "('Friedrich', 3)\n",
      "('Heidrun', 3)\n",
      "('Ingrid', 3)\n",
      "('Jo', 3)\n",
      "('Kurt', 3)\n",
      "('Otto', 3)\n",
      "('Reinhold', 3)\n",
      "('Rotraud', 3)\n",
      "('Rudi', 3)\n",
      "('Siegfried', 3)\n",
      "('Theo', 3)\n",
      "('Veronika', 3)\n",
      "('Adalbert', 2)\n",
      "('Andreas', 2)\n",
      "('Axel', 2)\n",
      "('Bernhard', 2)\n",
      "('Burghard', 2)\n",
      "('Burkhard', 2)\n",
      "('Bärbel', 2)\n",
      "('Christoph', 2)\n",
      "('Claudia', 2)\n",
      "('Darko', 2)\n",
      "('Dietrich', 2)\n",
      "('Dirk', 2)\n",
      "('Doris', 2)\n",
      "('Eckhard', 2)\n",
      "('Egon', 2)\n",
      "('Ekkehard', 2)\n",
      "('Emil', 2)\n",
      "('Erich', 2)\n",
      "('Erika', 2)\n",
      "('Erna', 2)\n",
      "('Gisela', 2)\n",
      "('Giuseppina', 2)\n",
      "('Guenter', 2)\n",
      "('Hans-Georg', 2)\n",
      "('Hans-Joachim', 2)\n",
      "('Hans-Peter', 2)\n",
      "('Hans-Werner', 2)\n",
      "('Harry', 2)\n",
      "('Heino', 2)\n",
      "('Heinrich', 2)\n",
      "('Helge', 2)\n",
      "('Hiltrud', 2)\n",
      "('Inge', 2)\n",
      "('Jens', 2)\n",
      "('Jörg', 2)\n",
      "('Karl-Hermann', 2)\n",
      "('Lothar', 2)\n",
      "('Ludger', 2)\n",
      "('Margrit', 2)\n",
      "('Nadja', 2)\n",
      "('Ottmar', 2)\n",
      "('Paul', 2)\n",
      "('Ralf', 2)\n",
      "('Reinhard', 2)\n",
      "('Roland', 2)\n",
      "('Sabine', 2)\n",
      "('Udo', 2)\n",
      "('Ulrike', 2)\n",
      "('Ursula', 2)\n",
      "('Winfried', 2)\n",
      "('Wolfram', 2)\n",
      "('Alois', 1)\n",
      "('Andrea', 1)\n",
      "('Anette', 1)\n",
      "('Anneliese', 1)\n",
      "('Arkadius', 1)\n",
      "('Arne', 1)\n",
      "('Arno', 1)\n",
      "('Arnold', 1)\n",
      "('Barbara', 1)\n",
      "('Bernard', 1)\n",
      "('Bernfried', 1)\n",
      "('Bertram', 1)\n",
      "('Christa', 1)\n",
      "('Christiane', 1)\n",
      "('Christine', 1)\n",
      "('Clemens', 1)\n",
      "('Dr. Michael', 1)\n",
      "('Eberhard', 1)\n",
      "('Edwin', 1)\n",
      "('Elke', 1)\n",
      "('Ella', 1)\n",
      "('Ernst Friedrich', 1)\n",
      "('Fettin', 1)\n",
      "('Friedemann', 1)\n",
      "('Friedrich-Wilhelm', 1)\n",
      "('Gabriele', 1)\n",
      "('Gaby', 1)\n",
      "('Gerald', 1)\n",
      "('Gerda', 1)\n",
      "('Gerlinde', 1)\n",
      "('Gernot', 1)\n",
      "('Gerold', 1)\n",
      "('Gert', 1)\n",
      "('Goetz', 1)\n",
      "('Gudula', 1)\n",
      "('Guenther', 1)\n",
      "('Gunter', 1)\n",
      "('Gunther', 1)\n",
      "('Hanna', 1)\n",
      "('Hanneli', 1)\n",
      "('Hannelore', 1)\n",
      "('Hans-Dieter', 1)\n",
      "('Hans-Juergen', 1)\n",
      "('Hans-Jürgen', 1)\n",
      "('Hans-Ludwig', 1)\n",
      "('Hans-W', 1)\n",
      "('Hein', 1)\n",
      "('Heiner', 1)\n",
      "('Heinz Gunter', 1)\n",
      "('Heinz-Gerd', 1)\n",
      "('Helene', 1)\n",
      "('Helga', 1)\n",
      "('Hermann-Josef', 1)\n",
      "('Hubertus', 1)\n",
      "('Jakob', 1)\n",
      "('Jan-Henrik', 1)\n",
      "('Joerg', 1)\n",
      "('Johann', 1)\n",
      "('Judith', 1)\n",
      "('Jutta', 1)\n",
      "('Jörn', 1)\n",
      "('Karl-Josef', 1)\n",
      "('Klara', 1)\n",
      "('Klaus P.', 1)\n",
      "('Klaus-Georg', 1)\n",
      "('Klaus-Henning', 1)\n",
      "('Klaus-Jürgen', 1)\n",
      "('Klemens', 1)\n",
      "('Kuno', 1)\n",
      "('Leo', 1)\n",
      "('Ludwig', 1)\n",
      "('Meinhard', 1)\n",
      "('Meinolf', 1)\n",
      "('Mike', 1)\n",
      "('Monika', 1)\n",
      "('Nikolaus', 1)\n",
      "('Otmar', 1)\n",
      "('Peter-Henning', 1)\n",
      "('Raimund', 1)\n",
      "('Reinhold van', 1)\n",
      "('Reinold', 1)\n",
      "('Rochus', 1)\n",
      "('Sigrid', 1)\n",
      "('Simon', 1)\n",
      "('Stefan', 1)\n",
      "('Tammo', 1)\n",
      "('Theodor', 1)\n",
      "('Ulf', 1)\n",
      "('Uta', 1)\n",
      "('Ute', 1)\n",
      "('Viktor', 1)\n",
      "('Waldemar', 1)\n",
      "('Willi', 1)\n",
      "('William', 1)\n",
      "('Willibald', 1)\n",
      "('Willy', 1)\n",
      "('Wolf', 1)\n"
     ]
    }
   ],
   "source": [
    "# 5. Gib die Häufigkeit der Vornamen der Mitglieder nach Häufigkeit absteigend geordnet aus\n",
    "sql = \"SELECT vorname, COUNT(*) FROM mitglied GROUP BY vorname ORDER BY COUNT(*) DESC\" \n",
    "abfrage(sql)"
   ]
  },
  {
   "cell_type": "code",
   "execution_count": 34,
   "metadata": {},
   "outputs": [
    {
     "name": "stdout",
     "output_type": "stream",
     "text": [
      "(181, 'Deutsche Bank Soest')\n",
      "(166, 'Sparkasse Echthausen')\n",
      "(201, 'Sparkasse Rhynern')\n",
      "(186, 'Volksbank Mawicke')\n",
      "(196, 'Volksbank Unna')\n"
     ]
    }
   ],
   "source": [
    "# 6. Wieviele Mitglieder haben ein Konto bei welcher Bank?\n",
    "sql = \"SELECT COUNT(Mnr), bezeichnung FROM mitglied, bank WHERE mitglied.BLZ = bank.blz GROUP by bezeichnung\" \n",
    "abfrage(sql)"
   ]
  },
  {
   "cell_type": "code",
   "execution_count": 35,
   "metadata": {},
   "outputs": [
    {
     "name": "stdout",
     "output_type": "stream",
     "text": [
      "(0,)\n"
     ]
    }
   ],
   "source": [
    "# 7. Wieviele Fussballer haben ein Konto bei der Sparkasse Rhynern?\n",
    "sql = \"\"\"\n",
    "SELECT count(a.name) FROM mitglied a \n",
    "JOIN teilnehmer b ON a.Mnr = b.Mnr\n",
    "JOIN uebungsgruppe c ON b.Unr = c.Unr\n",
    "JOIN bank d ON a.blz = d.blz \n",
    "WHERE c.sportart = 'Fußball' AND d.bezeichnung = 'Sparkasse Rhynern'\n",
    "\"\"\"\n",
    "abfrage(sql)"
   ]
  },
  {
   "cell_type": "code",
   "execution_count": 36,
   "metadata": {},
   "outputs": [],
   "source": [
    "# 8. Der Beitrag wird für alle Mitglieder um 20% angehoben\n",
    "sql = \"UPDATE mitglied SET beitrag = 1.2 * beitrag\"\n",
    "abfrage(sql)"
   ]
  },
  {
   "cell_type": "code",
   "execution_count": 37,
   "metadata": {},
   "outputs": [
    {
     "name": "stdout",
     "output_type": "stream",
     "text": [
      "(45306.71999999989,)\n"
     ]
    }
   ],
   "source": [
    "# 9. Wie hoch ist die Summe der Mitgliedsbeiträge?\n",
    "sql = \"SELECT SUM(beitrag) FROM mitglied\"\n",
    "abfrage(sql)"
   ]
  },
  {
   "cell_type": "code",
   "execution_count": 38,
   "metadata": {},
   "outputs": [
    {
     "name": "stdout",
     "output_type": "stream",
     "text": [
      "('Schwimmen',)\n",
      "('Langlauf',)\n"
     ]
    }
   ],
   "source": [
    "# 10. Welche Sportart(en) übt Mitglied Zwick aus?\n",
    "sql = \"\"\"\n",
    "SELECT a.sportart FROM uebungsgruppe a\n",
    "JOIN teilnehmer b ON a.Unr = b.Unr\n",
    "JOIN mitglied c ON c.Mnr = b.Mnr\n",
    "WHERE c.name = 'Zwick'\n",
    "\"\"\"\n",
    "abfrage(sql)"
   ]
  },
  {
   "cell_type": "code",
   "execution_count": 39,
   "metadata": {},
   "outputs": [
    {
     "name": "stdout",
     "output_type": "stream",
     "text": [
      "('Langlauf',)\n"
     ]
    }
   ],
   "source": [
    "# 12. Ist Mitglied Zwick ein Übungsgruppenleiter?\n",
    "sql = \"\"\"\n",
    "SELECT a.sportart FROM uebungsgruppe a\n",
    "JOIN mitglied b ON a.Mnr = b.Mnr\n",
    "WHERE b.name = 'Zwick'\n",
    "\"\"\"\n",
    "abfrage(sql)"
   ]
  },
  {
   "cell_type": "code",
   "execution_count": 40,
   "metadata": {},
   "outputs": [
    {
     "name": "stdout",
     "output_type": "stream",
     "text": [
      "(94,)\n"
     ]
    }
   ],
   "source": [
    "# 13. Wieviele Mitglieder üben pro Woche in Bad1?\n",
    "sql = \"\"\"\n",
    "SELECT DISTINCT COUNT(a.Mnr) FROM mitglied a \n",
    "JOIN teilnehmer b ON b.Mnr = a.Mnr\n",
    "JOIN trainingszeit c ON c.Unr = b.Unr\n",
    "JOIN trainingsort d ON d.Ort = c.Ort\n",
    "WHERE d.ort = 'Bad1'\n",
    "\"\"\"\n",
    "abfrage(sql)"
   ]
  },
  {
   "cell_type": "code",
   "execution_count": 41,
   "metadata": {},
   "outputs": [
    {
     "name": "stdout",
     "output_type": "stream",
     "text": [
      "('Dietrich', 'Ellerbusch', 'Volleyball')\n",
      "('Werner', 'Zwick', 'Langlauf')\n"
     ]
    }
   ],
   "source": [
    "# 14. Gibt es Übungsgruppenleiter, die in der gleichen Sportart Teilnehmer sind?\n",
    "sql = \"\"\"\n",
    "SELECT a.vorname, a.name, c.sportart FROM mitglied a \n",
    "JOIN teilnehmer b ON b.Mnr = a.Mnr\n",
    "JOIN uebungsgruppe c ON c.Unr = b.Unr\n",
    "WHERE a.Mnr = c.Mnr\n",
    "\"\"\"\n",
    "abfrage(sql)"
   ]
  },
  {
   "cell_type": "code",
   "execution_count": 42,
   "metadata": {},
   "outputs": [
    {
     "name": "stdout",
     "output_type": "stream",
     "text": [
      "('Halle2', 'Donnerstag', 4, 7, '18:30:00', '19:00:00')\n",
      "('Halle2', 'Mittwoch', 11, 4, '19:00:00', '18:30:00')\n",
      "('Platz1', 'Donnerstag', 13, 15, '17:30:00', '17:30:00')\n",
      "('Platz1', 'Donnerstag', 15, 13, '17:30:00', '17:30:00')\n",
      "('Halle2', 'Mittwoch', 4, 11, '18:30:00', '19:00:00')\n",
      "('Halle2', 'Donnerstag', 7, 4, '19:00:00', '18:30:00')\n"
     ]
    }
   ],
   "source": [
    "# 15. Gibt es bei den Trainingsorten Doppelbelegungen (mehrere Kurse gleichzeitig)?\n",
    "sql = \"\"\"\n",
    "SELECT a.ort, a.tag, a.Unr, b.Unr, a.zeit, b.zeit FROM trainingszeit a \n",
    "JOIN trainingszeit b ON a.ort = b.ort\n",
    "WHERE a.Unr != b.Unr AND a.tag = b.tag AND ABS(STRFTIME('%s',a.zeit) - STRFTIME('%s',b.zeit)) < 60*60\n",
    "\"\"\"\n",
    "abfrage(sql)"
   ]
  },
  {
   "cell_type": "code",
   "execution_count": 43,
   "metadata": {},
   "outputs": [
    {
     "name": "stdout",
     "output_type": "stream",
     "text": [
      "('Fussball', 442)\n",
      "('Volleyball', 318)\n",
      "('Schwimmen', 297)\n",
      "('Basketball', 107)\n",
      "('Wasserball', 107)\n",
      "('Tennis', 106)\n",
      "('Tauchen', 98)\n",
      "('Langlauf', 86)\n",
      "('Turnen', 84)\n"
     ]
    }
   ],
   "source": [
    "# 16. Ordne die Sportarten nach Beliebtheit. Gib dabei die Teilnehmerzahl an. \n",
    "# Jede Sportart darf nur einmal ausgegeben werden.\n",
    "sql = \"\"\"\n",
    "select a.sportart, count(b.Mnr) as zaehl from uebungsgruppe a \n",
    "join teilnehmer b on b.Unr = a.Unr \n",
    "group by a.sportart order by zaehl desc\n",
    "\"\"\"\n",
    "abfrage(sql)"
   ]
  },
  {
   "cell_type": "code",
   "execution_count": 44,
   "metadata": {},
   "outputs": [
    {
     "name": "stdout",
     "output_type": "stream",
     "text": [
      "(48.716903225806334,)\n"
     ]
    }
   ],
   "source": [
    "# 17. Wie hoch ist der durchschnittliche Mitgliedsbeitrag?\n",
    "sql = \"\"\"\n",
    "select avg(beitrag) from mitglied\n",
    "\"\"\"\n",
    "abfrage(sql)"
   ]
  },
  {
   "cell_type": "code",
   "execution_count": 45,
   "metadata": {},
   "outputs": [],
   "source": [
    "# 18. Für Übungsgruppenleiter wird der Mitgliedsbeitrag halbiert.\n",
    "sql = \"\"\"\n",
    "UPDATE mitglied SET beitrag = 0.5 * beitrag \n",
    "WHERE mnr IN (\n",
    "SELECT  a.mnr FROM mitglied a JOIN uebungsgruppe b ON a.mnr = b.mnr  \n",
    ")\n",
    "\"\"\"\n",
    "abfrage(sql)"
   ]
  },
  {
   "cell_type": "code",
   "execution_count": 46,
   "metadata": {},
   "outputs": [
    {
     "name": "stdout",
     "output_type": "stream",
     "text": [
      "(782, 'Kacmarek')\n",
      "(1260, 'Koschulte')\n",
      "(306, 'Krause')\n"
     ]
    }
   ],
   "source": [
    "# 19. Wieviele Mitglieder betreuen die verschiedenen Hausmeister.\n",
    "sql = \"\"\"\n",
    "SELECT COUNT(a.mnr), e.name FROM mitglied a \n",
    "JOIN teilnehmer b ON b.mnr = a.mnr\n",
    "JOIN trainingszeit c ON c.unr = b.unr\n",
    "JOIN trainingsort d ON d.ort = c.ort\n",
    "JOIN hausmeister e ON e.hnr = d.hnr\n",
    "GROUP by e.name\n",
    "\"\"\"\n",
    "abfrage(sql)"
   ]
  },
  {
   "cell_type": "code",
   "execution_count": 47,
   "metadata": {},
   "outputs": [
    {
     "name": "stdout",
     "output_type": "stream",
     "text": [
      "('Schaepers', 8, 1, '18:00:00', '18:30:00', 'Montag')\n",
      "('Brandt', 17, 7, '18:30:00', '19:00:00', 'Donnerstag')\n",
      "('Hahne', 5, 13, '17:30:00', '17:30:00', 'Donnerstag')\n",
      "('Hüttenberger', 4, 17, '18:30:00', '18:30:00', 'Donnerstag')\n",
      "('Maurer', 2, 4, '19:00:00', '18:30:00', 'Mittwoch')\n",
      "('Richter', 17, 7, '18:30:00', '19:00:00', 'Donnerstag')\n",
      "('Regh', 8, 5, '18:00:00', '17:30:00', 'Dienstag')\n",
      "('Poecking', 4, 7, '18:30:00', '19:00:00', 'Donnerstag')\n",
      "('Kerski', 12, 11, '19:00:00', '19:00:00', 'Mittwoch')\n",
      "('Zeglin', 8, 10, '18:00:00', '18:30:00', 'Dienstag')\n",
      "('Weyand', 12, 4, '19:00:00', '18:30:00', 'Mittwoch')\n",
      "('Fisbach', 2, 4, '19:00:00', '18:30:00', 'Mittwoch')\n",
      "('Fisbach', 2, 12, '19:00:00', '19:00:00', 'Mittwoch')\n",
      "('Dasbach', 10, 8, '18:30:00', '18:00:00', 'Dienstag')\n",
      "('Buse', 12, 4, '19:00:00', '18:30:00', 'Mittwoch')\n",
      "('Gaehrken', 7, 17, '19:00:00', '18:30:00', 'Donnerstag')\n",
      "('Keller', 12, 4, '19:00:00', '18:30:00', 'Mittwoch')\n",
      "('Steigerwald', 5, 13, '17:30:00', '17:30:00', 'Donnerstag')\n",
      "('Pogadel', 8, 9, '18:00:00', '18:00:00', 'Montag')\n",
      "('Pogadel', 8, 10, '18:00:00', '18:30:00', 'Dienstag')\n",
      "('Fritzen', 5, 8, '17:30:00', '18:00:00', 'Dienstag')\n",
      "('Lotter', 5, 3, '17:30:00', '17:00:00', 'Dienstag')\n",
      "('Hörsken', 3, 5, '17:00:00', '17:30:00', 'Dienstag')\n",
      "('Frehn', 2, 4, '19:00:00', '18:30:00', 'Mittwoch')\n",
      "('Oberdörster', 4, 2, '18:30:00', '19:00:00', 'Mittwoch')\n",
      "('Schuetz', 5, 15, '17:30:00', '17:30:00', 'Donnerstag')\n",
      "('Hahn', 11, 4, '19:00:00', '18:30:00', 'Mittwoch')\n",
      "('Liebethal', 4, 7, '18:30:00', '19:00:00', 'Donnerstag')\n",
      "('Nordsiek', 4, 11, '18:30:00', '19:00:00', 'Mittwoch')\n",
      "('Scharff', 8, 9, '18:00:00', '18:00:00', 'Montag')\n",
      "('Zehfuss', 8, 1, '18:00:00', '18:30:00', 'Montag')\n",
      "('Zickel', 5, 3, '17:30:00', '17:00:00', 'Dienstag')\n",
      "('Kuntze', 12, 11, '19:00:00', '19:00:00', 'Mittwoch')\n",
      "('Haarmann', 8, 1, '18:00:00', '18:30:00', 'Montag')\n",
      "('Fischer', 10, 7, '18:30:00', '19:00:00', 'Dienstag')\n",
      "('Steiner', 7, 17, '19:00:00', '18:30:00', 'Donnerstag')\n",
      "('Hartwich', 17, 4, '18:30:00', '18:30:00', 'Donnerstag')\n",
      "('Wehling', 1, 9, '18:30:00', '18:00:00', 'Montag')\n",
      "('Deest', 8, 10, '18:00:00', '18:30:00', 'Dienstag')\n",
      "('Niegemann', 2, 11, '19:00:00', '19:00:00', 'Mittwoch')\n",
      "('Paetz', 9, 4, '18:00:00', '18:30:00', 'Mittwoch')\n",
      "('Beckmann', 15, 5, '17:30:00', '17:30:00', 'Donnerstag')\n",
      "('Dreiner', 5, 15, '17:30:00', '17:30:00', 'Donnerstag')\n",
      "('Heese', 7, 17, '19:00:00', '18:30:00', 'Donnerstag')\n",
      "('Bernstein', 7, 17, '19:00:00', '18:30:00', 'Donnerstag')\n",
      "('Sarges', 3, 5, '17:00:00', '17:30:00', 'Dienstag')\n",
      "('Wittkopp', 5, 15, '17:30:00', '17:30:00', 'Donnerstag')\n",
      "('Kohlitz', 7, 10, '19:00:00', '18:30:00', 'Dienstag')\n",
      "('Lindner', 12, 4, '19:00:00', '18:30:00', 'Mittwoch')\n",
      "('Howoritsch', 4, 12, '18:30:00', '19:00:00', 'Mittwoch')\n",
      "('Bamberger', 5, 3, '17:30:00', '17:00:00', 'Dienstag')\n",
      "('Scholl', 15, 13, '17:30:00', '17:30:00', 'Donnerstag')\n",
      "('Mees', 11, 12, '19:00:00', '19:00:00', 'Mittwoch')\n",
      "('Richter', 12, 11, '19:00:00', '19:00:00', 'Mittwoch')\n",
      "('Heinrich', 9, 4, '18:00:00', '18:30:00', 'Mittwoch')\n",
      "('Lünstedt', 10, 8, '18:30:00', '18:00:00', 'Dienstag')\n",
      "('Kramer', 4, 11, '18:30:00', '19:00:00', 'Mittwoch')\n",
      "('Kramer', 4, 12, '18:30:00', '19:00:00', 'Mittwoch')\n",
      "('Walter', 8, 5, '18:00:00', '17:30:00', 'Dienstag')\n",
      "('Wehling', 7, 17, '19:00:00', '18:30:00', 'Donnerstag')\n",
      "('Aulich', 15, 5, '17:30:00', '17:30:00', 'Donnerstag')\n",
      "('Joppich', 5, 15, '17:30:00', '17:30:00', 'Donnerstag')\n",
      "('Meyer', 9, 1, '18:00:00', '18:30:00', 'Montag')\n",
      "('Janotte', 4, 2, '18:30:00', '19:00:00', 'Mittwoch')\n",
      "('Haas', 5, 15, '17:30:00', '17:30:00', 'Donnerstag')\n",
      "('Winter', 2, 4, '19:00:00', '18:30:00', 'Mittwoch')\n",
      "('Ballendatt', 12, 2, '19:00:00', '19:00:00', 'Mittwoch')\n",
      "('Plesse', 1, 9, '18:30:00', '18:00:00', 'Montag')\n",
      "('Buchmann', 7, 17, '19:00:00', '18:30:00', 'Donnerstag')\n",
      "('Shripczynski', 15, 5, '17:30:00', '17:30:00', 'Donnerstag')\n",
      "('Schulz', 17, 7, '18:30:00', '19:00:00', 'Donnerstag')\n",
      "('Lotz', 1, 8, '18:30:00', '18:00:00', 'Montag')\n",
      "('Gädecke', 5, 8, '17:30:00', '18:00:00', 'Dienstag')\n",
      "('Gädecke', 5, 13, '17:30:00', '17:30:00', 'Donnerstag')\n",
      "('Wegener', 7, 10, '19:00:00', '18:30:00', 'Dienstag')\n",
      "('Fichter', 9, 4, '18:00:00', '18:30:00', 'Mittwoch')\n",
      "('Sturm', 4, 2, '18:30:00', '19:00:00', 'Mittwoch')\n",
      "('Hunger', 5, 13, '17:30:00', '17:30:00', 'Donnerstag')\n",
      "('Rinnen', 12, 11, '19:00:00', '19:00:00', 'Mittwoch')\n",
      "('Dege', 4, 9, '18:30:00', '18:00:00', 'Mittwoch')\n",
      "('Lohmann', 17, 4, '18:30:00', '18:30:00', 'Donnerstag')\n",
      "('Lohmann', 17, 7, '18:30:00', '19:00:00', 'Donnerstag')\n",
      "('Schmitz', 5, 8, '17:30:00', '18:00:00', 'Dienstag')\n",
      "('Baumgärtner', 7, 4, '19:00:00', '18:30:00', 'Donnerstag')\n",
      "('Blum', 2, 12, '19:00:00', '19:00:00', 'Mittwoch')\n",
      "('Bolz', 3, 5, '17:00:00', '17:30:00', 'Dienstag')\n",
      "('Landfried', 7, 4, '19:00:00', '18:30:00', 'Donnerstag')\n",
      "('Haß', 4, 12, '18:30:00', '19:00:00', 'Mittwoch')\n",
      "('Trenkmann', 4, 2, '18:30:00', '19:00:00', 'Mittwoch')\n",
      "('Roller', 11, 12, '19:00:00', '19:00:00', 'Mittwoch')\n",
      "('Bachem', 10, 7, '18:30:00', '19:00:00', 'Dienstag')\n",
      "('Ströhmann', 5, 15, '17:30:00', '17:30:00', 'Donnerstag')\n",
      "('Sandau', 15, 5, '17:30:00', '17:30:00', 'Donnerstag')\n",
      "('Diester', 5, 13, '17:30:00', '17:30:00', 'Donnerstag')\n",
      "('Wolff', 3, 5, '17:00:00', '17:30:00', 'Dienstag')\n",
      "('Meyer', 1, 9, '18:30:00', '18:00:00', 'Montag')\n",
      "('Schaepers', 1, 8, '18:30:00', '18:00:00', 'Montag')\n",
      "('Brandt', 7, 17, '19:00:00', '18:30:00', 'Donnerstag')\n",
      "('Hahne', 13, 5, '17:30:00', '17:30:00', 'Donnerstag')\n",
      "('Hüttenberger', 17, 4, '18:30:00', '18:30:00', 'Donnerstag')\n",
      "('Maurer', 4, 2, '18:30:00', '19:00:00', 'Mittwoch')\n",
      "('Richter', 7, 17, '19:00:00', '18:30:00', 'Donnerstag')\n",
      "('Regh', 5, 8, '17:30:00', '18:00:00', 'Dienstag')\n",
      "('Poecking', 7, 4, '19:00:00', '18:30:00', 'Donnerstag')\n",
      "('Kerski', 11, 12, '19:00:00', '19:00:00', 'Mittwoch')\n",
      "('Zeglin', 10, 8, '18:30:00', '18:00:00', 'Dienstag')\n",
      "('Weyand', 4, 12, '18:30:00', '19:00:00', 'Mittwoch')\n",
      "('Fisbach', 4, 2, '18:30:00', '19:00:00', 'Mittwoch')\n",
      "('Fisbach', 4, 12, '18:30:00', '19:00:00', 'Mittwoch')\n",
      "('Dasbach', 8, 10, '18:00:00', '18:30:00', 'Dienstag')\n",
      "('Loehring', 15, 13, '17:30:00', '17:30:00', 'Donnerstag')\n",
      "('Beisner', 8, 10, '18:00:00', '18:30:00', 'Dienstag')\n",
      "('Hoffmann', 8, 9, '18:00:00', '18:00:00', 'Montag')\n",
      "('Wehling', 5, 3, '17:30:00', '17:00:00', 'Dienstag')\n",
      "('Toernig', 4, 7, '18:30:00', '19:00:00', 'Donnerstag')\n",
      "('Pogadel', 10, 8, '18:30:00', '18:00:00', 'Dienstag')\n",
      "('Lotter', 3, 5, '17:00:00', '17:30:00', 'Dienstag')\n",
      "('Meissner', 2, 11, '19:00:00', '19:00:00', 'Mittwoch')\n",
      "('Widulla', 5, 8, '17:30:00', '18:00:00', 'Dienstag')\n",
      "('Frehn', 4, 2, '18:30:00', '19:00:00', 'Mittwoch')\n",
      "('Schuetz', 15, 5, '17:30:00', '17:30:00', 'Donnerstag')\n",
      "('Menges', 1, 9, '18:30:00', '18:00:00', 'Montag')\n",
      "('Standt', 12, 4, '19:00:00', '18:30:00', 'Mittwoch')\n",
      "('Zehfuss', 1, 8, '18:30:00', '18:00:00', 'Montag')\n",
      "('Kriep', 5, 15, '17:30:00', '17:30:00', 'Donnerstag')\n",
      "('Zickel', 3, 5, '17:00:00', '17:30:00', 'Dienstag')\n",
      "('Lotze', 9, 4, '18:00:00', '18:30:00', 'Mittwoch')\n",
      "('Fischer', 7, 10, '19:00:00', '18:30:00', 'Dienstag')\n",
      "('Steiner', 17, 7, '18:30:00', '19:00:00', 'Donnerstag')\n",
      "('Mahn', 13, 15, '17:30:00', '17:30:00', 'Donnerstag')\n",
      "('Rasmus', 2, 4, '19:00:00', '18:30:00', 'Mittwoch')\n",
      "('Deest', 10, 8, '18:30:00', '18:00:00', 'Dienstag')\n",
      "('Warntjen', 12, 11, '19:00:00', '19:00:00', 'Mittwoch')\n",
      "('Paetz', 17, 4, '18:30:00', '18:30:00', 'Donnerstag')\n",
      "('Heese', 17, 7, '18:30:00', '19:00:00', 'Donnerstag')\n",
      "('Wittkopp', 15, 5, '17:30:00', '17:30:00', 'Donnerstag')\n",
      "('Kohlitz', 10, 7, '18:30:00', '19:00:00', 'Dienstag')\n",
      "('Lindner', 4, 12, '18:30:00', '19:00:00', 'Mittwoch')\n",
      "('Howoritsch', 12, 4, '19:00:00', '18:30:00', 'Mittwoch')\n",
      "('Bamberger', 3, 5, '17:00:00', '17:30:00', 'Dienstag')\n",
      "('Scholl', 13, 15, '17:30:00', '17:30:00', 'Donnerstag')\n",
      "('Mees', 12, 11, '19:00:00', '19:00:00', 'Mittwoch')\n",
      "('Richter', 11, 12, '19:00:00', '19:00:00', 'Mittwoch')\n",
      "('Heinrich', 4, 9, '18:30:00', '18:00:00', 'Mittwoch')\n",
      "('Lünstedt', 8, 10, '18:00:00', '18:30:00', 'Dienstag')\n",
      "('Kramer', 11, 4, '19:00:00', '18:30:00', 'Mittwoch')\n",
      "('Kramer', 11, 12, '19:00:00', '19:00:00', 'Mittwoch')\n",
      "('Schmidt', 11, 4, '19:00:00', '18:30:00', 'Mittwoch')\n",
      "('Aulich', 3, 5, '17:00:00', '17:30:00', 'Dienstag')\n",
      "('Dahmen', 13, 15, '17:30:00', '17:30:00', 'Donnerstag')\n",
      "('Janotte', 2, 4, '19:00:00', '18:30:00', 'Mittwoch')\n",
      "('Haas', 15, 5, '17:30:00', '17:30:00', 'Donnerstag')\n",
      "('Winter', 4, 2, '18:30:00', '19:00:00', 'Mittwoch')\n",
      "('Ballendatt', 2, 12, '19:00:00', '19:00:00', 'Mittwoch')\n",
      "('Plesse', 9, 1, '18:00:00', '18:30:00', 'Montag')\n",
      "('Buchmann', 17, 7, '18:30:00', '19:00:00', 'Donnerstag')\n",
      "('Shripczynski', 5, 15, '17:30:00', '17:30:00', 'Donnerstag')\n",
      "('Müller', 4, 17, '18:30:00', '18:30:00', 'Donnerstag')\n",
      "('Lotz', 8, 1, '18:00:00', '18:30:00', 'Montag')\n",
      "('Gädecke', 8, 5, '18:00:00', '17:30:00', 'Dienstag')\n",
      "('Kreuziger', 4, 2, '18:30:00', '19:00:00', 'Mittwoch')\n",
      "('Fichter', 4, 9, '18:30:00', '18:00:00', 'Mittwoch')\n",
      "('Fichter', 4, 17, '18:30:00', '18:30:00', 'Donnerstag')\n",
      "('Hunger', 13, 5, '17:30:00', '17:30:00', 'Donnerstag')\n",
      "('Rinnen', 11, 12, '19:00:00', '19:00:00', 'Mittwoch')\n",
      "('Dege', 9, 4, '18:00:00', '18:30:00', 'Mittwoch')\n",
      "('Reeske', 12, 2, '19:00:00', '19:00:00', 'Mittwoch')\n",
      "('Lohmann', 4, 7, '18:30:00', '19:00:00', 'Donnerstag')\n",
      "('Lohmann', 4, 17, '18:30:00', '18:30:00', 'Donnerstag')\n",
      "('Kordel', 12, 2, '19:00:00', '19:00:00', 'Mittwoch')\n",
      "('Katschke', 11, 4, '19:00:00', '18:30:00', 'Mittwoch')\n",
      "('Gerstmeier', 7, 4, '19:00:00', '18:30:00', 'Donnerstag')\n",
      "('Beckmann', 7, 4, '19:00:00', '18:30:00', 'Donnerstag')\n",
      "('Baumgärtner', 4, 7, '18:30:00', '19:00:00', 'Donnerstag')\n",
      "('Blum', 12, 2, '19:00:00', '19:00:00', 'Mittwoch')\n",
      "('Bolz', 5, 3, '17:30:00', '17:00:00', 'Dienstag')\n",
      "('Freytag', 4, 2, '18:30:00', '19:00:00', 'Mittwoch')\n",
      "('Landfried', 4, 7, '18:30:00', '19:00:00', 'Donnerstag')\n",
      "('Haß', 12, 4, '19:00:00', '18:30:00', 'Mittwoch')\n",
      "('Trenkmann', 2, 4, '19:00:00', '18:30:00', 'Mittwoch')\n",
      "('Roller', 12, 11, '19:00:00', '19:00:00', 'Mittwoch')\n",
      "('Bachem', 7, 10, '19:00:00', '18:30:00', 'Dienstag')\n",
      "('Ströhmann', 15, 5, '17:30:00', '17:30:00', 'Donnerstag')\n",
      "('Sandau', 5, 15, '17:30:00', '17:30:00', 'Donnerstag')\n",
      "('Diester', 13, 5, '17:30:00', '17:30:00', 'Donnerstag')\n",
      "('Wolff', 5, 3, '17:30:00', '17:00:00', 'Dienstag')\n",
      "('Meyer', 9, 1, '18:00:00', '18:30:00', 'Montag')\n",
      "('Fisbach', 12, 2, '19:00:00', '19:00:00', 'Mittwoch')\n",
      "('Fisbach', 12, 4, '19:00:00', '18:30:00', 'Mittwoch')\n",
      "('Loehring', 13, 15, '17:30:00', '17:30:00', 'Donnerstag')\n",
      "('Beisner', 10, 8, '18:30:00', '18:00:00', 'Dienstag')\n",
      "('Buse', 4, 12, '18:30:00', '19:00:00', 'Mittwoch')\n",
      "('Hoffmann', 9, 8, '18:00:00', '18:00:00', 'Montag')\n",
      "('Gaehrken', 17, 7, '18:30:00', '19:00:00', 'Donnerstag')\n",
      "('Wehling', 3, 5, '17:00:00', '17:30:00', 'Dienstag')\n",
      "('Keller', 4, 12, '18:30:00', '19:00:00', 'Mittwoch')\n",
      "('Steigerwald', 13, 5, '17:30:00', '17:30:00', 'Donnerstag')\n",
      "('Toernig', 7, 4, '19:00:00', '18:30:00', 'Donnerstag')\n",
      "('Pogadel', 9, 8, '18:00:00', '18:00:00', 'Montag')\n",
      "('Fritzen', 8, 5, '18:00:00', '17:30:00', 'Dienstag')\n",
      "('Meissner', 11, 2, '19:00:00', '19:00:00', 'Mittwoch')\n",
      "('Widulla', 8, 5, '18:00:00', '17:30:00', 'Dienstag')\n",
      "('Hörsken', 5, 3, '17:30:00', '17:00:00', 'Dienstag')\n",
      "('Oberdörster', 2, 4, '19:00:00', '18:30:00', 'Mittwoch')\n",
      "('Hahn', 4, 11, '18:30:00', '19:00:00', 'Mittwoch')\n",
      "('Menges', 9, 1, '18:00:00', '18:30:00', 'Montag')\n",
      "('Standt', 4, 12, '18:30:00', '19:00:00', 'Mittwoch')\n",
      "('Liebethal', 7, 4, '19:00:00', '18:30:00', 'Donnerstag')\n",
      "('Nordsiek', 11, 4, '19:00:00', '18:30:00', 'Mittwoch')\n",
      "('Scharff', 9, 8, '18:00:00', '18:00:00', 'Montag')\n",
      "('Kriep', 15, 5, '17:30:00', '17:30:00', 'Donnerstag')\n",
      "('Lotze', 4, 9, '18:30:00', '18:00:00', 'Mittwoch')\n",
      "('Kuntze', 11, 12, '19:00:00', '19:00:00', 'Mittwoch')\n",
      "('Haarmann', 1, 8, '18:30:00', '18:00:00', 'Montag')\n",
      "('Mahn', 15, 13, '17:30:00', '17:30:00', 'Donnerstag')\n",
      "('Rasmus', 4, 2, '18:30:00', '19:00:00', 'Mittwoch')\n",
      "('Hartwich', 4, 17, '18:30:00', '18:30:00', 'Donnerstag')\n",
      "('Wehling', 9, 1, '18:00:00', '18:30:00', 'Montag')\n",
      "('Warntjen', 11, 12, '19:00:00', '19:00:00', 'Mittwoch')\n",
      "('Niegemann', 11, 2, '19:00:00', '19:00:00', 'Mittwoch')\n",
      "('Paetz', 4, 9, '18:30:00', '18:00:00', 'Mittwoch')\n",
      "('Paetz', 4, 17, '18:30:00', '18:30:00', 'Donnerstag')\n",
      "('Beckmann', 5, 15, '17:30:00', '17:30:00', 'Donnerstag')\n",
      "('Dreiner', 15, 5, '17:30:00', '17:30:00', 'Donnerstag')\n",
      "('Bernstein', 17, 7, '18:30:00', '19:00:00', 'Donnerstag')\n",
      "('Sarges', 5, 3, '17:30:00', '17:00:00', 'Dienstag')\n",
      "('Kramer', 12, 4, '19:00:00', '18:30:00', 'Mittwoch')\n",
      "('Kramer', 12, 11, '19:00:00', '19:00:00', 'Mittwoch')\n",
      "('Schmidt', 4, 11, '18:30:00', '19:00:00', 'Mittwoch')\n",
      "('Walter', 5, 8, '17:30:00', '18:00:00', 'Dienstag')\n",
      "('Wehling', 17, 7, '18:30:00', '19:00:00', 'Donnerstag')\n",
      "('Aulich', 5, 3, '17:30:00', '17:00:00', 'Dienstag')\n",
      "('Aulich', 5, 15, '17:30:00', '17:30:00', 'Donnerstag')\n",
      "('Dahmen', 15, 13, '17:30:00', '17:30:00', 'Donnerstag')\n",
      "('Joppich', 15, 5, '17:30:00', '17:30:00', 'Donnerstag')\n",
      "('Meyer', 1, 9, '18:30:00', '18:00:00', 'Montag')\n",
      "('Schulz', 7, 17, '19:00:00', '18:30:00', 'Donnerstag')\n",
      "('Müller', 17, 4, '18:30:00', '18:30:00', 'Donnerstag')\n",
      "('Gädecke', 13, 5, '17:30:00', '17:30:00', 'Donnerstag')\n",
      "('Kreuziger', 2, 4, '19:00:00', '18:30:00', 'Mittwoch')\n",
      "('Wegener', 10, 7, '18:30:00', '19:00:00', 'Dienstag')\n",
      "('Fichter', 17, 4, '18:30:00', '18:30:00', 'Donnerstag')\n",
      "('Sturm', 2, 4, '19:00:00', '18:30:00', 'Mittwoch')\n",
      "('Reeske', 2, 12, '19:00:00', '19:00:00', 'Mittwoch')\n",
      "('Lohmann', 7, 4, '19:00:00', '18:30:00', 'Donnerstag')\n",
      "('Lohmann', 7, 17, '19:00:00', '18:30:00', 'Donnerstag')\n",
      "('Kordel', 2, 12, '19:00:00', '19:00:00', 'Mittwoch')\n",
      "('Katschke', 4, 11, '18:30:00', '19:00:00', 'Mittwoch')\n",
      "('Gerstmeier', 4, 7, '18:30:00', '19:00:00', 'Donnerstag')\n",
      "('Schmitz', 8, 5, '18:00:00', '17:30:00', 'Dienstag')\n",
      "('Beckmann', 4, 7, '18:30:00', '19:00:00', 'Donnerstag')\n",
      "('Freytag', 2, 4, '19:00:00', '18:30:00', 'Mittwoch')\n"
     ]
    }
   ],
   "source": [
    "# 20. Gibt es für Mitglieder Überschneidungen bei den Trainingszeiten?\n",
    "sql = \"\"\"\n",
    "SELECT a.name, c.unr, c2.unr, d.zeit, d2.zeit, d.tag FROM mitglied a \n",
    "JOIN mitglied a2 ON a2.mnr = a.mnr\n",
    "JOIN teilnehmer c ON c.mnr = a.mnr\n",
    "JOIN teilnehmer c2 ON c2.mnr = a2.mnr\n",
    "JOIN trainingszeit d ON d.unr = c.unr\n",
    "JOIN trainingszeit d2 ON d2.unr = c2.unr\n",
    "WHERE d.tag = d2.tag AND c.unr != c2.unr \n",
    "AND ABS(STRFTIME('%s',d.zeit) - STRFTIME('%s',d2.zeit)) < 60*60\n",
    "\"\"\"\n",
    "abfrage(sql)"
   ]
  },
  {
   "cell_type": "code",
   "execution_count": 48,
   "metadata": {},
   "outputs": [],
   "source": [
    "# 21. Gibt es für Übungsgruppenleiter Überschneidungen bei den Trainingszeiten?\n",
    "sql = \"\"\"\n",
    "select a.mnr, b.unr, b2.unr, b.tag, b2.tag, b.zeit, b2.zeit from uebungsgruppe a\n",
    "join uebungsgruppe a2 on a2.mnr = a.mnr\n",
    "join trainingszeit b on b.unr = a.unr\n",
    "join trainingszeit b2 on b2.unr = a2.unr\n",
    "where  b.zeit != b2.zeit and ABS(STRFTIME('%s',b.zeit) - STRFTIME('%s',b2.zeit)) < 60*60\n",
    "and b.unr < b2.unr\n",
    "\"\"\"\n",
    "abfrage(sql)"
   ]
  },
  {
   "cell_type": "code",
   "execution_count": 49,
   "metadata": {},
   "outputs": [
    {
     "name": "stdout",
     "output_type": "stream",
     "text": [
      "(1462, 1)\n",
      "(90, 2)\n",
      "(1, 3)\n"
     ]
    }
   ],
   "source": [
    "# 22. Wieviele Mitglieder üben genau eine, zwei, drei, vier Sportarten aus?\n",
    "abfrage(\"drop table if exists temp\")\n",
    "\n",
    "sql = \"\"\"\n",
    "create table temp as select a.mnr as mnr, count(c.sportart) as zaehl from mitglied a\n",
    "join teilnehmer b on b.mnr = a.mnr\n",
    "join uebungsgruppe c on c.unr = b.unr\n",
    "group by a.mnr, c.sportart having count(a.mnr) in (1,2,3,4) order by zaehl desc\n",
    "\"\"\"\n",
    "abfrage(sql)\n",
    "\n",
    "abfrage(\"select count(mnr),zaehl from temp group by zaehl\")"
   ]
  },
  {
   "cell_type": "code",
   "execution_count": 50,
   "metadata": {},
   "outputs": [],
   "source": [
    "# 23. Füge ein neues Mitglied ein, das Fussball und Tauchen üben will"
   ]
  },
  {
   "cell_type": "code",
   "execution_count": 51,
   "metadata": {},
   "outputs": [],
   "source": [
    "# 24. Lösche ein Mitglied. Welche Tabellen müssen geändert werden?"
   ]
  },
  {
   "cell_type": "code",
   "execution_count": null,
   "metadata": {},
   "outputs": [],
   "source": []
  }
 ],
 "metadata": {
  "kernelspec": {
   "display_name": "Python 3",
   "language": "python",
   "name": "python3"
  },
  "language_info": {
   "codemirror_mode": {
    "name": "ipython",
    "version": 3
   },
   "file_extension": ".py",
   "mimetype": "text/x-python",
   "name": "python",
   "nbconvert_exporter": "python",
   "pygments_lexer": "ipython3",
   "version": "3.6.5"
  }
 },
 "nbformat": 4,
 "nbformat_minor": 2
}
