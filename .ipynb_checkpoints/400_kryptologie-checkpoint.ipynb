{
 "cells": [
  {
   "cell_type": "markdown",
   "metadata": {},
   "source": [
    "# Kryptologie\n",
    "\n",
    "Die **Kryptologie** ist ein Teilgebiet der Informatik, das sich mit der Entwicklung und Bewertung von Verfahren der Verschlüsselung geheimer Daten befasst.\n"
   ]
  },
  {
   "cell_type": "markdown",
   "metadata": {},
   "source": [
    "#### Ausgangssituation und Rollen\n",
    "**Alice** will **Bob** eine Nachricht schicken. Dazu wandelt er den **Klartext** in einen **Geheimtext** um (**Chiffrierung**) und verschickt den Geheimtext. Alice verwandelt den Geheimtext wieder in einen Klartext um (**Dechiffrierung**).\n",
    "\n",
    "**Angreifer**: **Eve** will den Text mitlesen (ohne ihn zu verändern). **Mallory** will die verschickte Nachricht verändern.\n",
    "\n"
   ]
  },
  {
   "cell_type": "markdown",
   "metadata": {},
   "source": [
    "#### Sicherheitsziele\n",
    "\n",
    "* **Vertraulichkeit**: Die Nachricht, die man erhält, ist nicht von dritten Personen gelesen worden.\n",
    "* **Integrität**: Die Nachricht, die man erhält, ist von keiner dritten Person manipuliert worden.\n",
    "* **Authentizität**: Die Nachricht, die man erhält, stammt wirklich von der Person, die als Absender angegeben ist.\n",
    "* **Verbindlichkeit**: Der Urheber kann nachträglich nicht bestreiten, die Nachricht verfasst zu haben."
   ]
  },
  {
   "cell_type": "markdown",
   "metadata": {},
   "source": [
    "<hr>\n",
    "Hinweis: In unseren Beispielen wandeln wir den Klartext zunächst in einen Text um, der keine Umlaute hat, keine Satzzeichen, keine Leerzeichen und der nur aus Großbuchstaben besteht."
   ]
  },
  {
   "cell_type": "code",
   "execution_count": 9,
   "metadata": {},
   "outputs": [],
   "source": [
    "def prepare(s):\n",
    "    '''\n",
    "    s: Klartext\n",
    "    returns: String, Klartext ohne Umlaute, Satzzeichen, Leerzeichen, nur Großbuchstaben\n",
    "    '''\n",
    "    s = s.upper()\n",
    "    s = s.replace('Ö','OE').replace('Ü','UE').replace('Ä','AE').replace('ß','SS')\n",
    "    return ''.join([c for c in list(s) if c.isalpha()])\n",
    " "
   ]
  },
  {
   "cell_type": "code",
   "execution_count": 38,
   "metadata": {},
   "outputs": [
    {
     "data": {
      "text/plain": [
       "'HELLOWORLD'"
      ]
     },
     "execution_count": 38,
     "metadata": {},
     "output_type": "execute_result"
    }
   ],
   "source": [
    "prepare('Hello World!')"
   ]
  },
  {
   "cell_type": "markdown",
   "metadata": {},
   "source": [
    "<hr>"
   ]
  },
  {
   "cell_type": "markdown",
   "metadata": {},
   "source": [
    "#### Cäsar-Chiffre\n",
    "\n",
    "Die Buchstaben des Alphabeths werden um einen festen Betrag verschoben. Dadurch entsteht aus dem **Klartext-Alphabet** ein **Geheimtext-Alphabet**. Es gibt nur 26 mögliche Schlüssel. Die **Kryptoanalyse** (=Knacken der Chiffre) ist mit einem **brute-force Angriff** möglich.\n"
   ]
  },
  {
   "cell_type": "code",
   "execution_count": null,
   "metadata": {},
   "outputs": [],
   "source": []
  },
  {
   "cell_type": "code",
   "execution_count": 105,
   "metadata": {},
   "outputs": [],
   "source": [
    "def shift(c, k):\n",
    "    '''\n",
    "    c: Zeichen von A-Z\n",
    "    k: int von 0-25\n",
    "    returns: Zeichen um k Stellen verschoben mit wrap-around\n",
    "    '''\n",
    "    buchstabennr = ord(c) - ord('A')\n",
    "    neue_buchstabennr = (buchstabennr + k) % 26\n",
    "    return chr(ord('A') + neue_buchstabennr)\n",
    "\n",
    "\n",
    "\n",
    "def caesar(s, k):\n",
    "    '''\n",
    "    s: Klartext\n",
    "    k: ganze Zahl 0 <= k <= 26\n",
    "    returns: Geheimtext, Buchstaben um k-Stellen verschoben\n",
    "    '''\n",
    "    return ''.join([shift(c,k) for c in s])\n"
   ]
  },
  {
   "cell_type": "code",
   "execution_count": 106,
   "metadata": {},
   "outputs": [
    {
     "name": "stdout",
     "output_type": "stream",
     "text": [
      "Schluessel:           5\n",
      "Klartext-Alphabet:    A B C D E F G H I J K L M N O P Q R S T U V W X Y Z\n",
      "Geheimtext-Alphabet:  F G H I J K L M N O P Q R S T U V W X Y Z A B C D E\n"
     ]
    }
   ],
   "source": [
    "schluessel = 5\n",
    "klarAB = [chr(x) for x in range(ord('A'),ord('Z')+1)]\n",
    "geheimAB = [caesar(x,schluessel) for x in klarAB]\n",
    "print('Schluessel:          ',schluessel)\n",
    "print('Klartext-Alphabet:   ',*klarAB)\n",
    "print('Geheimtext-Alphabet: ',*geheimAB)\n"
   ]
  },
  {
   "cell_type": "code",
   "execution_count": 107,
   "metadata": {},
   "outputs": [
    {
     "data": {
      "text/plain": [
       "('HELLOWORLD', 'KHOORZRUOG')"
      ]
     },
     "execution_count": 107,
     "metadata": {},
     "output_type": "execute_result"
    }
   ],
   "source": [
    "klartext = prepare('Hello World!')\n",
    "geheimtext = caesar(klartext,3)\n",
    "klartext, geheimtext"
   ]
  },
  {
   "cell_type": "code",
   "execution_count": 112,
   "metadata": {},
   "outputs": [],
   "source": [
    "geheimtext = \"\"\"\n",
    "HUNYPMMHTKPLUZAHNTVYNLU\n",
    "\"\"\""
   ]
  },
  {
   "cell_type": "code",
   "execution_count": 114,
   "metadata": {},
   "outputs": [
    {
     "name": "stdout",
     "output_type": "stream",
     "text": [
      "k = 25: IVOZQNNIULQMVABIOUWZOMV\n",
      "k = 24: JWPAROOJVMRNWBCJPVXAPNW\n",
      "k = 23: KXQBSPPKWNSOXCDKQWYBQOX\n",
      "k = 22: LYRCTQQLXOTPYDELRXZCRPY\n",
      "k = 21: MZSDURRMYPUQZEFMSYADSQZ\n",
      "k = 20: NATEVSSNZQVRAFGNTZBETRA\n",
      "k = 19: OBUFWTTOARWSBGHOUACFUSB\n",
      "k = 18: PCVGXUUPBSXTCHIPVBDGVTC\n",
      "k = 17: QDWHYVVQCTYUDIJQWCEHWUD\n",
      "k = 16: REXIZWWRDUZVEJKRXDFIXVE\n",
      "k = 15: SFYJAXXSEVAWFKLSYEGJYWF\n",
      "k = 14: TGZKBYYTFWBXGLMTZFHKZXG\n",
      "k = 13: UHALCZZUGXCYHMNUAGILAYH\n",
      "k = 12: VIBMDAAVHYDZINOVBHJMBZI\n",
      "k = 11: WJCNEBBWIZEAJOPWCIKNCAJ\n",
      "k = 10: XKDOFCCXJAFBKPQXDJLODBK\n",
      "k =  9: YLEPGDDYKBGCLQRYEKMPECL\n",
      "k =  8: ZMFQHEEZLCHDMRSZFLNQFDM\n",
      "k =  7: ANGRIFFAMDIENSTAGMORGEN\n",
      "k =  6: BOHSJGGBNEJFOTUBHNPSHFO\n",
      "k =  5: CPITKHHCOFKGPUVCIOQTIGP\n",
      "k =  4: DQJULIIDPGLHQVWDJPRUJHQ\n",
      "k =  3: ERKVMJJEQHMIRWXEKQSVKIR\n",
      "k =  2: FSLWNKKFRINJSXYFLRTWLJS\n",
      "k =  1: GTMXOLLGSJOKTYZGMSUXMKT\n",
      "k =  0: HUNYPMMHTKPLUZAHNTVYNLU\n"
     ]
    }
   ],
   "source": [
    "for k in range(1,27):\n",
    "    print('k = {:2}: {}'.format(26-k, caesar(geheimtext,k)))"
   ]
  },
  {
   "cell_type": "markdown",
   "metadata": {},
   "source": [
    "Die **Cäsar-Chiffre** ist eine **monoalphabetische Ciffre**, da jeder Klartextbuchstabe durch immer denselben Geheimtextbuchstaben ersetzt wird.  "
   ]
  },
  {
   "cell_type": "markdown",
   "metadata": {},
   "source": [
    "#### Substitutions-Chiffre\n",
    "\n",
    "Bei der Substitutions-Chiffre ist das Geheimtextalphabet eine Permutation des Klartextalphabets. Anzahl Schlüssel:"
   ]
  },
  {
   "cell_type": "code",
   "execution_count": 117,
   "metadata": {},
   "outputs": [
    {
     "data": {
      "text/plain": [
       "403291461126605635584000000"
      ]
     },
     "execution_count": 117,
     "metadata": {},
     "output_type": "execute_result"
    }
   ],
   "source": [
    "import math\n",
    "math.factorial(26)"
   ]
  },
  {
   "cell_type": "code",
   "execution_count": 124,
   "metadata": {},
   "outputs": [
    {
     "data": {
      "text/plain": [
       "'4.03e+26'"
      ]
     },
     "execution_count": 124,
     "metadata": {},
     "output_type": "execute_result"
    }
   ],
   "source": [
    "'{:5.2e}'.format(math.factorial(26))"
   ]
  },
  {
   "cell_type": "code",
   "execution_count": 63,
   "metadata": {},
   "outputs": [
    {
     "name": "stdout",
     "output_type": "stream",
     "text": [
      "Klartext-Alphabet:    A B C D E F G H I J K L M N O P Q R S T U V W X Y Z\n",
      "Geheimtext-Alphabet:  M H E U A D N Y F Q O V I W B S C K R G Z X T J L P\n"
     ]
    },
    {
     "data": {
      "text/plain": [
       "{'A': 'M',\n",
       " 'B': 'H',\n",
       " 'C': 'E',\n",
       " 'D': 'U',\n",
       " 'E': 'A',\n",
       " 'F': 'D',\n",
       " 'G': 'N',\n",
       " 'H': 'Y',\n",
       " 'I': 'F',\n",
       " 'J': 'Q',\n",
       " 'K': 'O',\n",
       " 'L': 'V',\n",
       " 'M': 'I',\n",
       " 'N': 'W',\n",
       " 'O': 'B',\n",
       " 'P': 'S',\n",
       " 'Q': 'C',\n",
       " 'R': 'K',\n",
       " 'S': 'R',\n",
       " 'T': 'G',\n",
       " 'U': 'Z',\n",
       " 'V': 'X',\n",
       " 'W': 'T',\n",
       " 'X': 'J',\n",
       " 'Y': 'L',\n",
       " 'Z': 'P'}"
      ]
     },
     "execution_count": 63,
     "metadata": {},
     "output_type": "execute_result"
    }
   ],
   "source": [
    "import random as r\n",
    "#r.seed(42)\n",
    "klarAB = [chr(x) for x in range(ord('A'),ord('Z')+1)]\n",
    "geheimAB = r.sample(klarAB,26)\n",
    "geheimDict = {klarAB[i]:geheimAB[i] for i in range(26)}\n",
    "print('Klartext-Alphabet:   ',*klarAB)\n",
    "print('Geheimtext-Alphabet: ',*geheimAB)\n",
    "geheimDict          "
   ]
  },
  {
   "cell_type": "code",
   "execution_count": 59,
   "metadata": {},
   "outputs": [],
   "source": [
    "klartext = \"\"\"\n",
    "Zueignung.\n",
    "\n",
    "Ihr naht euch wieder, schwankende Gestalten,\n",
    "Die früh sich einst dem trüben Blick gezeigt.\n",
    "Versuch ich wohl, euch diesmal festzuhalten?\n",
    "Fühl ich mein Herz noch jenem Wahn geneigt?\n",
    "Ihr drängt euch zu!  nun gut, so mögt ihr walten,\n",
    "Wie ihr aus Dunst und Nebel um mich steigt;\n",
    "Mein Busen fühlt sich jugendlich erschüttert\n",
    "Vom Zauberhauch, der euren Zug umwittert.\n",
    "\n",
    "Ihr bringt mit euch die Bilder froher Tage,\n",
    "Und manche liebe Schatten steigen auf;\n",
    "Gleich einer alten, halbverklungnen Sage\n",
    "Kommt erste Lieb und Freundschaft mit herauf;\n",
    "Der Schmerz wird neu, es wiederholt die Klage\n",
    "Des Lebens labyrinthisch irren Lauf,\n",
    "Und nennt die Guten, die, um schöne Stunden\n",
    "Vom Glück getäuscht, vor mir hinweggeschwunden.\n",
    "\n",
    "Sie hören nicht die folgenden Gesänge,\n",
    "Die Seelen, denen ich die ersten sang;\n",
    "Zerstoben ist das freundliche Gedränge,\n",
    "Verklungen, ach!  der erste Widerklang.\n",
    "Mein Lied ertönt der unbekannten Menge,\n",
    "Ihr Beifall selbst macht meinem Herzen bang,\n",
    "Und was sich sonst an meinem Lied erfreuet,\n",
    "Wenn es noch lebt, irrt in der Welt zerstreuet.\n",
    "\n",
    "Und mich ergreift ein längst entwöhntes Sehnen\n",
    "Nach jenem stillen, ernsten Geisterreich,\n",
    "Es schwebet nun in unbestimmten Tönen\n",
    "Mein lispelnd Lied, der Äolsharfe gleich,\n",
    "Ein Schauer faßt mich, Träne folgt den Tränen,\n",
    "Das strenge Herz, es fühlt sich mild und weich;\n",
    "Was ich besitze, seh ich wie im Weiten,\n",
    "Und was verschwand, wird mir zu Wirklichkeiten.\n",
    "\"\"\""
   ]
  },
  {
   "cell_type": "code",
   "execution_count": 79,
   "metadata": {},
   "outputs": [
    {
     "data": {
      "text/plain": [
       "'PZAFNWZWNFYKWMYGAZEYTFAUAKREYTMWOAWUANARGMVGAWUFADKZAYRFEYAFWRGUAIGKZAHAWHVFEONAPAFNGXAKRZEYFEYTBYVAZEYUFARIMVDARGPZYMVGAWDZAYVFEYIAFWYAKPWBEYQAWAITMYWNAWAFNGFYKUKMAWNGAZEYPZWZWNZGRBIBANGFYKTMVGAWTFAFYKMZRUZWRGZWUWAHAVZIIFEYRGAFNGIAFWHZRAWDZAYVGRFEYQZNAWUVFEYAKREYZAGGAKGXBIPMZHAKYMZEYUAKAZKAWPZNZITFGGAKGFYKHKFWNGIFGAZEYUFAHFVUAKDKBYAKGMNAZWUIMWEYAVFAHAREYMGGAWRGAFNAWMZDNVAFEYAFWAKMVGAWYMVHXAKOVZWNWAWRMNAOBIIGAKRGAVFAHZWUDKAZWUREYMDGIFGYAKMZDUAKREYIAKPTFKUWAZARTFAUAKYBVGUFAOVMNAUARVAHAWRVMHLKFWGYFREYFKKAWVMZDZWUWAWWGUFANZGAWUFAZIREYBAWARGZWUAWXBINVZAEONAGMAZREYGXBKIFKYFWTANNAREYTZWUAWRFAYBAKAWWFEYGUFADBVNAWUAWNARMAWNAUFARAAVAWUAWAWFEYUFAAKRGAWRMWNPAKRGBHAWFRGUMRDKAZWUVFEYANAUKMAWNAXAKOVZWNAWMEYUAKAKRGATFUAKOVMWNIAFWVFAUAKGBAWGUAKZWHAOMWWGAWIAWNAFYKHAFDMVVRAVHRGIMEYGIAFWAIYAKPAWHMWNZWUTMRRFEYRBWRGMWIAFWAIVFAUAKDKAZAGTAWWARWBEYVAHGFKKGFWUAKTAVGPAKRGKAZAGZWUIFEYAKNKAFDGAFWVMAWNRGAWGTBAYWGARRAYWAWWMEYQAWAIRGFVVAWAKWRGAWNAFRGAKKAFEYARREYTAHAGWZWFWZWHARGFIIGAWGBAWAWIAFWVFRSAVWUVFAUUAKMABVRYMKDANVAFEYAFWREYMZAKDMRRGIFEYGKMAWADBVNGUAWGKMAWAWUMRRGKAWNAYAKPARDZAYVGRFEYIFVUZWUTAFEYTMRFEYHARFGPARAYFEYTFAFITAFGAWZWUTMRXAKREYTMWUTFKUIFKPZTFKOVFEYOAFGAW'"
      ]
     },
     "execution_count": 79,
     "metadata": {},
     "output_type": "execute_result"
    }
   ],
   "source": [
    "klartext = prepare(klartext)\n",
    "geheimtext = ''.join([geheimDict[c] for c in klartext])\n",
    "geheimtext"
   ]
  },
  {
   "cell_type": "code",
   "execution_count": 80,
   "metadata": {},
   "outputs": [],
   "source": [
    "geheimtext = \"PZAFNWZWNFYKWMYGAZEYTFAUAKREYTMWOAWUANARGMVGAWUFADKZAYRFEYAFWRGUAIGKZAHAWHVFEONAPAFNGXAKRZEYFEYTBYVAZEYUFARIMVDARGPZYMVGAWDZAYVFEYIAFWYAKPWBEYQAWAITMYWNAWAFNGFYKUKMAWNGAZEYPZWZWNZGRBIBANGFYKTMVGAWTFAFYKMZRUZWRGZWUWAHAVZIIFEYRGAFNGIAFWHZRAWDZAYVGRFEYQZNAWUVFEYAKREYZAGGAKGXBIPMZHAKYMZEYUAKAZKAWPZNZITFGGAKGFYKHKFWNGIFGAZEYUFAHFVUAKDKBYAKGMNAZWUIMWEYAVFAHAREYMGGAWRGAFNAWMZDNVAFEYAFWAKMVGAWYMVHXAKOVZWNWAWRMNAOBIIGAKRGAVFAHZWUDKAZWUREYMDGIFGYAKMZDUAKREYIAKPTFKUWAZARTFAUAKYBVGUFAOVMNAUARVAHAWRVMHLKFWGYFREYFKKAWVMZDZWUWAWWGUFANZGAWUFAZIREYBAWARGZWUAWXBINVZAEONAGMAZREYGXBKIFKYFWTANNAREYTZWUAWRFAYBAKAWWFEYGUFADBVNAWUAWNARMAWNAUFARAAVAWUAWAWFEYUFAAKRGAWRMWNPAKRGBHAWFRGUMRDKAZWUVFEYANAUKMAWNAXAKOVZWNAWMEYUAKAKRGATFUAKOVMWNIAFWVFAUAKGBAWGUAKZWHAOMWWGAWIAWNAFYKHAFDMVVRAVHRGIMEYGIAFWAIYAKPAWHMWNZWUTMRRFEYRBWRGMWIAFWAIVFAUAKDKAZAGTAWWARWBEYVAHGFKKGFWUAKTAVGPAKRGKAZAGZWUIFEYAKNKAFDGAFWVMAWNRGAWGTBAYWGARRAYWAWWMEYQAWAIRGFVVAWAKWRGAWNAFRGAKKAFEYARREYTAHAGWZWFWZWHARGFIIGAWGBAWAWIAFWVFRSAVWUVFAUUAKMABVRYMKDANVAFEYAFWREYMZAKDMRRGIFEYGKMAWADBVNGUAWGKMAWAWUMRRGKAWNAYAKPARDZAYVGRFEYIFVUZWUTAFEYTMRFEYHARFGPARAYFEYTFAFITAFGAWZWUTMRXAKREYTMWUTFKUIFKPZTFKOVFEYOAFGAW\"    "
   ]
  },
  {
   "cell_type": "code",
   "execution_count": 81,
   "metadata": {},
   "outputs": [
    {
     "data": {
      "text/plain": [
       "'PZAFNWZWNFYKWMYGAZEYTFAUAKREYTMWOAWUANARGMVGAWUFADKZAYRFEYAFWRGUAIGKZAHAWHVFEONAPAFNGXAKRZEYFEYTBYVAZEYUFARIMVDARGPZYMVGAWDZAYVFEYIAFWYAKPWBEYQAWAITMYWNAWAFNGFYKUKMAWNGAZEYPZWZWNZGRBIBANGFYKTMVGAWTFAFYKMZRUZWRGZWUWAHAVZIIFEYRGAFNGIAFWHZRAWDZAYVGRFEYQZNAWUVFEYAKREYZAGGAKGXBIPMZHAKYMZEYUAKAZKAWPZNZITFGGAKGFYKHKFWNGIFGAZEYUFAHFVUAKDKBYAKGMNAZWUIMWEYAVFAHAREYMGGAWRGAFNAWMZDNVAFEYAFWAKMVGAWYMVHXAKOVZWNWAWRMNAOBIIGAKRGAVFAHZWUDKAZWUREYMDGIFGYAKMZDUAKREYIAKPTFKUWAZARTFAUAKYBVGUFAOVMNAUARVAHAWRVMHLKFWGYFREYFKKAWVMZDZWUWAWWGUFANZGAWUFAZIREYBAWARGZWUAWXBINVZAEONAGMAZREYGXBKIFKYFWTANNAREYTZWUAWRFAYBAKAWWFEYGUFADBVNAWUAWNARMAWNAUFARAAVAWUAWAWFEYUFAAKRGAWRMWNPAKRGBHAWFRGUMRDKAZWUVFEYANAUKMAWNAXAKOVZWNAWMEYUAKAKRGATFUAKOVMWNIAFWVFAUAKGBAWGUAKZWHAOMWWGAWIAWNAFYKHAFDMVVRAVHRGIMEYGIAFWAIYAKPAWHMWNZWUTMRRFEYRBWRGMWIAFWAIVFAUAKDKAZAGTAWWARWBEYVAHGFKKGFWUAKTAVGPAKRGKAZAGZWUIFEYAKNKAFDGAFWVMAWNRGAWGTBAYWGARRAYWAWWMEYQAWAIRGFVVAWAKWRGAWNAFRGAKKAFEYARREYTAHAGWZWFWZWHARGFIIGAWGBAWAWIAFWVFRSAVWUVFAUUAKMABVRYMKDANVAFEYAFWREYMZAKDMRRGIFEYGKMAWADBVNGUAWGKMAWAWUMRRGKAWNAYAKPARDZAYVGRFEYIFVUZWUTAFEYTMRFEYHARFGPARAYFEYTFAFITAFGAWZWUTMRXAKREYTMWUTFKUIFKPZTFKOVFEYOAFGAW'"
      ]
     },
     "execution_count": 81,
     "metadata": {},
     "output_type": "execute_result"
    }
   ],
   "source": [
    "geheimtext"
   ]
  },
  {
   "cell_type": "markdown",
   "metadata": {},
   "source": [
    "#### Häufigkeitsanalyse"
   ]
  },
  {
   "cell_type": "code",
   "execution_count": 97,
   "metadata": {},
   "outputs": [
    {
     "data": {
      "text/plain": [
       "[('A', 18.1),\n",
       " ('W', 10.2),\n",
       " ('F', 7.9),\n",
       " ('G', 6.8),\n",
       " ('Y', 6.3),\n",
       " ('K', 6.1),\n",
       " ('R', 5.9),\n",
       " ('Z', 4.8),\n",
       " ('U', 4.4),\n",
       " ('M', 4.2),\n",
       " ('V', 4.1),\n",
       " ('E', 4.0),\n",
       " ('N', 3.5),\n",
       " ('I', 3.0),\n",
       " ('T', 2.2),\n",
       " ('B', 1.8),\n",
       " ('H', 1.8),\n",
       " ('D', 1.6),\n",
       " ('P', 1.2),\n",
       " ('O', 1.0),\n",
       " ('X', 0.6),\n",
       " ('Q', 0.3),\n",
       " ('L', 0.1),\n",
       " ('S', 0.1),\n",
       " ('C', 0.0),\n",
       " ('J', 0.0)]"
      ]
     },
     "execution_count": 97,
     "metadata": {},
     "output_type": "execute_result"
    }
   ],
   "source": [
    "m = {chr(x): 0 for x in range(ord('A'),ord('Z')+1)}\n",
    "for x in geheimtext:\n",
    "    m[x]+=1\n",
    "mproz = {x: round(m[x]/len(geheimtext)*100,1) for x in m}\n",
    "sorted(list(mproz.items()),key = lambda x : x[1], reverse = True)"
   ]
  },
  {
   "cell_type": "code",
   "execution_count": 122,
   "metadata": {},
   "outputs": [],
   "source": [
    "hf_deutsch = [17.40, 9.78, 7.55, 7.27, 7.00, 6.51, 6.15, 5.08, 4.76, 4.35, 3.44, 3.06, 3.01, 2.53,\n",
    "              2.51, 1.89, 1.89, 1.66, 1.21, 1.13, 0.79, 0.67, 0.27, 0.04, 0.03, 0.02]"
   ]
  },
  {
   "cell_type": "code",
   "execution_count": 123,
   "metadata": {},
   "outputs": [
    {
     "data": {
      "text/plain": [
       "[('A', 17.4),\n",
       " ('B', 9.78),\n",
       " ('C', 7.55),\n",
       " ('D', 7.27),\n",
       " ('E', 7.0),\n",
       " ('F', 6.51),\n",
       " ('G', 6.15),\n",
       " ('H', 5.08),\n",
       " ('I', 4.76),\n",
       " ('J', 4.35),\n",
       " ('K', 3.44),\n",
       " ('L', 3.06),\n",
       " ('M', 3.01),\n",
       " ('N', 2.53),\n",
       " ('O', 2.51),\n",
       " ('P', 1.89),\n",
       " ('Q', 1.89),\n",
       " ('R', 1.66),\n",
       " ('S', 1.21),\n",
       " ('T', 1.13),\n",
       " ('U', 0.79),\n",
       " ('V', 0.67),\n",
       " ('W', 0.31),\n",
       " ('X', 0.27),\n",
       " ('Y', 0.04),\n",
       " ('Z', 0.03),\n",
       " ('[', 0.02)]"
      ]
     },
     "execution_count": 123,
     "metadata": {},
     "output_type": "execute_result"
    }
   ],
   "source": [
    "hf_deutsch_list = [(chr(ord('A')+i),hf_deutsch[i]) for i in range(len(hf_deutsch))]\n",
    "sorted(hf_deutsch_list,key = lambda x : x[1], reverse = True)"
   ]
  },
  {
   "cell_type": "code",
   "execution_count": null,
   "metadata": {},
   "outputs": [],
   "source": []
  }
 ],
 "metadata": {
  "kernelspec": {
   "display_name": "Python 3",
   "language": "python",
   "name": "python3"
  },
  "language_info": {
   "codemirror_mode": {
    "name": "ipython",
    "version": 3
   },
   "file_extension": ".py",
   "mimetype": "text/x-python",
   "name": "python",
   "nbconvert_exporter": "python",
   "pygments_lexer": "ipython3",
   "version": "3.6.5"
  }
 },
 "nbformat": 4,
 "nbformat_minor": 2
}
